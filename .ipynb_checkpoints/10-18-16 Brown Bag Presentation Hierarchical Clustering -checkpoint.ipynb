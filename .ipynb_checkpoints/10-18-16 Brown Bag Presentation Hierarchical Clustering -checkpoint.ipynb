{
 "cells": [
  {
   "cell_type": "markdown",
   "metadata": {
    "nbpresent": {
     "id": "dbaaea32-eb4a-4045-9a4f-e6b1b74ad1da"
    },
    "slideshow": {
     "slide_type": "slide"
    }
   },
   "source": [
    "# Basics of Hierarchical Clustering / Distances and Clustering Project (Digital Assiryology)\n",
    "\n",
    "## Berkeley Institute of Data Science \n",
    "\n",
    "### Presenters: Swarup Sahu and Tinsley Zhu"
   ]
  },
  {
   "cell_type": "markdown",
   "metadata": {
    "collapsed": true,
    "nbpresent": {
     "id": "c0658a74-514d-491f-8ebe-0e3ad1018c01"
    },
    "slideshow": {
     "slide_type": "slide"
    }
   },
   "source": [
    "## Properities of a Hierarchical Cluster (Agglomerative)\n",
    "- You need a **Cleaned Dataset** \n",
    "- Distance (Euclidean Norm) - how to compare values\n",
    "- Number of linkages \n",
    "\n",
    "\n",
    "\n",
    "\n",
    "## Algorithm (Basic Premise of Steps)\n",
    "- Start with all points in their respective groups\n",
    "- Repeatedly **_merge_** groups that are most **_similar_**  \n",
    "- Until: all texts are merged into a single cluster \n",
    "\n",
    "\n"
   ]
  },
  {
   "cell_type": "markdown",
   "metadata": {
    "nbpresent": {
     "id": "fdcbe275-2a91-4c1b-8a97-2d5281282e96"
    },
    "slideshow": {
     "slide_type": "slide"
    }
   },
   "source": [
    "<img src = \"clustering_diagram.png\">"
   ]
  },
  {
   "cell_type": "markdown",
   "metadata": {
    "nbpresent": {
     "id": "d5c22c7c-0038-4f69-aeea-ad2e30af92ab"
    },
    "slideshow": {
     "slide_type": "slide"
    }
   },
   "source": [
    "         \n",
    "## Why Use Hierarchical Clustering? \n",
    "- Extremely easy-to-read visualization (dendogram) of huge stores of data\n",
    "- Easy alogorithm to understand \n",
    "\n",
    "## Hierarchical Cluster - Visualization Technique: Dendogram \n",
    "- Dendro - _Tree_ gramma - _drawing_ \n",
    "- Each connection represents a node/cluster/group that the text is in\n",
    "\n",
    "\n"
   ]
  },
  {
   "cell_type": "markdown",
   "metadata": {
    "nbpresent": {
     "id": "2e1d8fbd-f4d8-404b-8534-5f90d148c5bb"
    }
   },
   "source": [
    "## Example of a Dendogram:\n",
    "\n",
    "<img src = \"dendogram.gif\">\n",
    "\n",
    "### Notice each branch representing a similarity and the final node connecting the clusters together"
   ]
  },
  {
   "cell_type": "markdown",
   "metadata": {
    "nbpresent": {
     "id": "81240770-ee89-44f2-9c60-8d90f46d7ed7"
    }
   },
   "source": [
    "## Our Research\n",
    "- Using ETSCL database to complie [DataSets](http://localhost:8888/edit/Research/Digital-Assyriology-test/Scrape-etcsl/Cleaned/c.0.1.1.txt).\n",
    "- Data [cleaning process](http://localhost:8888/notebooks/Research/Digital-Assyriology-test/ETCSL-distance-clustering/Distances%20and%20Clusters.ipynb#).\n",
    "    - Clean Dataset = Useable Dataset\n",
    "- Clustering via Normalization:\n",
    "$\\sqrt{\\sum_{i=1}^nX^2_i}$\n",
    "    - One vector of a word can be much longer than another one\n",
    "    - Normalization removes this difference \n",
    "  \n",
    "\n"
   ]
  },
  {
   "cell_type": "markdown",
   "metadata": {
    "nbpresent": {
     "id": "b6fe23c0-7858-4937-bbaa-703081b6d4c2"
    },
    "slideshow": {
     "slide_type": "slide"
    }
   },
   "source": [
    "## Results (1) - _Short Texts_\n",
    "<img src = \"Short_Text_Cluster.png\">"
   ]
  },
  {
   "cell_type": "markdown",
   "metadata": {
    "collapsed": true,
    "nbpresent": {
     "id": "712b7bbb-8ed2-4ffe-be2d-2084658cd8c1"
    },
    "slideshow": {
     "slide_type": "slide"
    }
   },
   "source": [
    "## Results (2) - _Enil & Ninlil'_ & _Enki & Ninhursag_ \n",
    "<img src = \"Short_Cluster_(2).png\">"
   ]
  },
  {
   "cell_type": "markdown",
   "metadata": {
    "collapsed": true,
    "nbpresent": {
     "id": "0bff42b2-9386-46bd-a4d3-d369011def83"
    },
    "slideshow": {
     "slide_type": "slide"
    }
   },
   "source": [
    "## Results (3) - _Letters_\n",
    "<img src = \"Letter_Cluster.png\">"
   ]
  },
  {
   "cell_type": "markdown",
   "metadata": {
    "collapsed": true,
    "nbpresent": {
     "id": "e03de2fa-15ae-4a03-8b2e-35a62517725c"
    },
    "slideshow": {
     "slide_type": "slide"
    }
   },
   "source": [
    "## Results (4) - _Proverbs_\n",
    "<img src = \"Proverbs_Cluster.png\">"
   ]
  },
  {
   "cell_type": "markdown",
   "metadata": {
    "nbpresent": {
     "id": "7c3940b4-6a45-4222-b2d6-4e002ba38e9a"
    }
   },
   "source": [
    "## Results (5) - _Song Cluster_\n",
    "<img src = \"Song_Cluster.png\">"
   ]
  },
  {
   "cell_type": "code",
   "execution_count": null,
   "metadata": {
    "collapsed": true,
    "nbpresent": {
     "id": "0ee599e2-216d-4537-80df-ae690b16568d"
    }
   },
   "outputs": [],
   "source": []
  }
 ],
 "metadata": {
  "anaconda-cloud": {},
  "celltoolbar": "Slideshow",
  "kernelspec": {
   "display_name": "Python [Root]",
   "language": "python",
   "name": "Python [Root]"
  },
  "language_info": {
   "codemirror_mode": {
    "name": "ipython",
    "version": 3
   },
   "file_extension": ".py",
   "mimetype": "text/x-python",
   "name": "python",
   "nbconvert_exporter": "python",
   "pygments_lexer": "ipython3",
   "version": "3.5.2"
  },
  "nbpresent": {
   "slides": {
    "08d4ba7d-ea72-4f59-b28b-eb29fc54054b": {
     "id": "08d4ba7d-ea72-4f59-b28b-eb29fc54054b",
     "prev": "82417ad5-7cf5-410d-83e6-6f9f16d95c4a",
     "regions": {
      "9d42f708-daa9-45c8-9eb1-b61cbbf80efe": {
       "attrs": {
        "height": 0.8,
        "width": 0.8,
        "x": 0.1,
        "y": 0.1
       },
       "content": {
        "cell": "0bff42b2-9386-46bd-a4d3-d369011def83",
        "part": "whole"
       },
       "id": "9d42f708-daa9-45c8-9eb1-b61cbbf80efe"
      }
     }
    },
    "300e85ed-eb92-4698-ba93-3bb1fe659775": {
     "id": "300e85ed-eb92-4698-ba93-3bb1fe659775",
     "prev": "b840b35c-cab3-40f4-9ad0-ac019b449919",
     "regions": {
      "2a08c0e9-6416-4f5a-80c1-0bf86690c746": {
       "attrs": {
        "height": 0.8,
        "width": 0.8,
        "x": 0.1,
        "y": 0.1
       },
       "content": {
        "cell": "2e1d8fbd-f4d8-404b-8534-5f90d148c5bb",
        "part": "whole"
       },
       "id": "2a08c0e9-6416-4f5a-80c1-0bf86690c746"
      }
     }
    },
    "317be13c-6dac-4008-b915-b04c114e7a80": {
     "id": "317be13c-6dac-4008-b915-b04c114e7a80",
     "prev": "7a84aa4e-ddf5-46a7-8b09-1cf915c94a5c",
     "regions": {
      "e81aaec1-7af8-4831-a4ad-2452dd466d37": {
       "attrs": {
        "height": 0.8,
        "width": 0.8,
        "x": 0.1,
        "y": 0.1
       },
       "content": {
        "cell": "7c3940b4-6a45-4222-b2d6-4e002ba38e9a",
        "part": "whole"
       },
       "id": "e81aaec1-7af8-4831-a4ad-2452dd466d37"
      }
     }
    },
    "613453e1-7622-4c03-b60c-ad000d10ae92": {
     "id": "613453e1-7622-4c03-b60c-ad000d10ae92",
     "prev": "eb33e6c2-f249-46f5-8105-6867dd510c83",
     "regions": {
      "c16cf3d4-6876-4925-bb10-38ca632a65dd": {
       "attrs": {
        "height": 0.8,
        "width": 0.8,
        "x": 0.1,
        "y": 0.1
       },
       "content": {
        "cell": "fdcbe275-2a91-4c1b-8a97-2d5281282e96",
        "part": "whole"
       },
       "id": "c16cf3d4-6876-4925-bb10-38ca632a65dd"
      }
     }
    },
    "7a84aa4e-ddf5-46a7-8b09-1cf915c94a5c": {
     "id": "7a84aa4e-ddf5-46a7-8b09-1cf915c94a5c",
     "prev": "08d4ba7d-ea72-4f59-b28b-eb29fc54054b",
     "regions": {
      "4f1c546c-753b-4e9f-8a95-64c25cf5b95c": {
       "attrs": {
        "height": 0.8,
        "width": 0.8,
        "x": 0.1,
        "y": 0.1
       },
       "content": {
        "cell": "e03de2fa-15ae-4a03-8b2e-35a62517725c",
        "part": "whole"
       },
       "id": "4f1c546c-753b-4e9f-8a95-64c25cf5b95c"
      }
     }
    },
    "82417ad5-7cf5-410d-83e6-6f9f16d95c4a": {
     "id": "82417ad5-7cf5-410d-83e6-6f9f16d95c4a",
     "prev": "b487312d-764f-4a67-a64d-ab2867d7ae67",
     "regions": {
      "5744577d-5430-4573-97e1-5e7b5cf29bf4": {
       "attrs": {
        "height": 0.8,
        "width": 0.8,
        "x": 0.1,
        "y": 0.1
       },
       "content": {
        "cell": "712b7bbb-8ed2-4ffe-be2d-2084658cd8c1",
        "part": "whole"
       },
       "id": "5744577d-5430-4573-97e1-5e7b5cf29bf4"
      }
     }
    },
    "83c15bae-5d30-4c76-8666-e0b40e2b62c7": {
     "id": "83c15bae-5d30-4c76-8666-e0b40e2b62c7",
     "prev": "317be13c-6dac-4008-b915-b04c114e7a80",
     "regions": {
      "1b501a85-31c1-4ed3-beba-39acf825be46": {
       "attrs": {
        "height": 0.8,
        "width": 0.8,
        "x": 0.1,
        "y": 0.1
       },
       "content": {
        "cell": "0ee599e2-216d-4537-80df-ae690b16568d",
        "part": "whole"
       },
       "id": "1b501a85-31c1-4ed3-beba-39acf825be46"
      }
     }
    },
    "89a3a1ca-bdd6-40a6-a3ba-55c6b92d5ec7": {
     "id": "89a3a1ca-bdd6-40a6-a3ba-55c6b92d5ec7",
     "prev": "300e85ed-eb92-4698-ba93-3bb1fe659775",
     "regions": {
      "b04a94fa-1eda-4433-abd3-a9b42f2248f1": {
       "attrs": {
        "height": 0.8,
        "width": 0.8,
        "x": 0.1,
        "y": 0.1
       },
       "content": {
        "cell": "81240770-ee89-44f2-9c60-8d90f46d7ed7",
        "part": "whole"
       },
       "id": "b04a94fa-1eda-4433-abd3-a9b42f2248f1"
      }
     }
    },
    "b487312d-764f-4a67-a64d-ab2867d7ae67": {
     "id": "b487312d-764f-4a67-a64d-ab2867d7ae67",
     "prev": "89a3a1ca-bdd6-40a6-a3ba-55c6b92d5ec7",
     "regions": {
      "a121db2e-5daa-4971-9e7f-603804c43ec1": {
       "attrs": {
        "height": 0.8,
        "width": 0.8,
        "x": 0.1,
        "y": 0.1
       },
       "content": {
        "cell": "b6fe23c0-7858-4937-bbaa-703081b6d4c2",
        "part": "whole"
       },
       "id": "a121db2e-5daa-4971-9e7f-603804c43ec1"
      }
     }
    },
    "b840b35c-cab3-40f4-9ad0-ac019b449919": {
     "id": "b840b35c-cab3-40f4-9ad0-ac019b449919",
     "prev": "613453e1-7622-4c03-b60c-ad000d10ae92",
     "regions": {
      "66c3a666-0eff-41e6-9c5f-230511a011af": {
       "attrs": {
        "height": 0.8,
        "width": 0.8,
        "x": 0.1,
        "y": 0.1
       },
       "content": {
        "cell": "d5c22c7c-0038-4f69-aeea-ad2e30af92ab",
        "part": "whole"
       },
       "id": "66c3a666-0eff-41e6-9c5f-230511a011af"
      }
     }
    },
    "c40c3152-6208-4d7f-8107-2833cb53cfd2": {
     "id": "c40c3152-6208-4d7f-8107-2833cb53cfd2",
     "prev": null,
     "regions": {
      "216bdb8b-4c54-43b1-9d44-c39c74ab9c00": {
       "attrs": {
        "height": 0.8,
        "width": 0.8,
        "x": 0.1,
        "y": 0.1
       },
       "content": {
        "cell": "dbaaea32-eb4a-4045-9a4f-e6b1b74ad1da",
        "part": "whole"
       },
       "id": "216bdb8b-4c54-43b1-9d44-c39c74ab9c00"
      }
     }
    },
    "eb33e6c2-f249-46f5-8105-6867dd510c83": {
     "id": "eb33e6c2-f249-46f5-8105-6867dd510c83",
     "prev": "c40c3152-6208-4d7f-8107-2833cb53cfd2",
     "regions": {
      "5ab1dc77-567a-4e4c-b2d6-9d64ca87b849": {
       "attrs": {
        "height": 0.8,
        "width": 0.8,
        "x": 0.1,
        "y": 0.1
       },
       "content": {
        "cell": "c0658a74-514d-491f-8ebe-0e3ad1018c01",
        "part": "whole"
       },
       "id": "5ab1dc77-567a-4e4c-b2d6-9d64ca87b849"
      }
     }
    }
   },
   "themes": {
    "default": "07562342-ea6b-409b-a2f5-dc157365334d",
    "theme": {
     "07562342-ea6b-409b-a2f5-dc157365334d": {
      "id": "07562342-ea6b-409b-a2f5-dc157365334d",
      "palette": {
       "19cc588f-0593-49c9-9f4b-e4d7cc113b1c": {
        "id": "19cc588f-0593-49c9-9f4b-e4d7cc113b1c",
        "rgb": [
         252,
         252,
         252
        ]
       },
       "31af15d2-7e15-44c5-ab5e-e04b16a89eff": {
        "id": "31af15d2-7e15-44c5-ab5e-e04b16a89eff",
        "rgb": [
         68,
         68,
         68
        ]
       },
       "50f92c45-a630-455b-aec3-788680ec7410": {
        "id": "50f92c45-a630-455b-aec3-788680ec7410",
        "rgb": [
         155,
         177,
         192
        ]
       },
       "c5cc3653-2ee1-402a-aba2-7caae1da4f6c": {
        "id": "c5cc3653-2ee1-402a-aba2-7caae1da4f6c",
        "rgb": [
         43,
         126,
         184
        ]
       },
       "efa7f048-9acb-414c-8b04-a26811511a21": {
        "id": "efa7f048-9acb-414c-8b04-a26811511a21",
        "rgb": [
         25.118061674008803,
         73.60176211453744,
         107.4819383259912
        ]
       }
      },
      "rules": {
       "blockquote": {
        "color": "50f92c45-a630-455b-aec3-788680ec7410"
       },
       "code": {
        "font-family": "Anonymous Pro"
       },
       "h1": {
        "color": "c5cc3653-2ee1-402a-aba2-7caae1da4f6c",
        "font-family": "Lato",
        "font-size": 8
       },
       "h2": {
        "color": "c5cc3653-2ee1-402a-aba2-7caae1da4f6c",
        "font-family": "Lato",
        "font-size": 6
       },
       "h3": {
        "color": "50f92c45-a630-455b-aec3-788680ec7410",
        "font-family": "Lato",
        "font-size": 5.5
       },
       "h4": {
        "color": "c5cc3653-2ee1-402a-aba2-7caae1da4f6c",
        "font-family": "Lato",
        "font-size": 5
       },
       "h5": {
        "font-family": "Lato"
       },
       "h6": {
        "font-family": "Lato"
       },
       "h7": {
        "font-family": "Lato"
       },
       "pre": {
        "font-family": "Anonymous Pro",
        "font-size": 4
       }
      },
      "text-base": {
       "font-family": "Merriweather",
       "font-size": 4
      }
     }
    }
   }
  }
 },
 "nbformat": 4,
 "nbformat_minor": 0
}
