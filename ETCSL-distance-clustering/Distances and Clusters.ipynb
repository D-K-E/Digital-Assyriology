{
 "cells": [
  {
   "cell_type": "markdown",
   "metadata": {},
   "source": [
    "# Distance Measurements: Sumerian Literature\n",
    "\n",
    "This is a work-in-progress Notebook.\n"
   ]
  },
  {
   "cell_type": "code",
   "execution_count": 1,
   "metadata": {
    "collapsed": true
   },
   "outputs": [],
   "source": [
    "import pandas as pd\n",
    "import glob\n",
    "import re\n",
    "from sklearn.feature_extraction.text import CountVectorizer"
   ]
  },
  {
   "cell_type": "markdown",
   "metadata": {},
   "source": [
    "First read the directory with the cleaned ETCSL texts. These files contain lemmatization in ORACC (ePSD2 style). The texts list lemmatizations per line."
   ]
  },
  {
   "cell_type": "code",
   "execution_count": 2,
   "metadata": {
    "collapsed": false
   },
   "outputs": [
    {
     "data": {
      "text/html": [
       "<div>\n",
       "<table border=\"1\" class=\"dataframe\">\n",
       "  <thead>\n",
       "    <tr style=\"text-align: right;\">\n",
       "      <th></th>\n",
       "      <th>etcsl_no</th>\n",
       "      <th>text_name</th>\n",
       "      <th>version</th>\n",
       "      <th>l_no</th>\n",
       "      <th>text</th>\n",
       "    </tr>\n",
       "  </thead>\n",
       "  <tbody>\n",
       "    <tr>\n",
       "      <th>0</th>\n",
       "      <td>c.0.1.1</td>\n",
       "      <td>Ur III catalogue from Nibru (N1)</td>\n",
       "      <td>NaN</td>\n",
       "      <td>1</td>\n",
       "      <td>sux:dubsaŋ[first]AJ</td>\n",
       "    </tr>\n",
       "    <tr>\n",
       "      <th>1</th>\n",
       "      <td>c.0.1.1</td>\n",
       "      <td>Ur III catalogue from Nibru (N1)</td>\n",
       "      <td>NaN</td>\n",
       "      <td>2</td>\n",
       "      <td>sux:Enki[1]DN sux:unu[dwelling]N sux:gal[big]V...</td>\n",
       "    </tr>\n",
       "    <tr>\n",
       "      <th>2</th>\n",
       "      <td>c.0.1.1</td>\n",
       "      <td>Ur III catalogue from Nibru (N1)</td>\n",
       "      <td>NaN</td>\n",
       "      <td>3</td>\n",
       "      <td>sux:anzag[horizon]N</td>\n",
       "    </tr>\n",
       "    <tr>\n",
       "      <th>3</th>\n",
       "      <td>c.0.1.1</td>\n",
       "      <td>Ur III catalogue from Nibru (N1)</td>\n",
       "      <td>NaN</td>\n",
       "      <td>4</td>\n",
       "      <td>sux:anŋi[eclipse]N sux:zu[know]V/t sux:ama[mot...</td>\n",
       "    </tr>\n",
       "    <tr>\n",
       "      <th>4</th>\n",
       "      <td>c.0.1.1</td>\n",
       "      <td>Ur III catalogue from Nibru (N1)</td>\n",
       "      <td>NaN</td>\n",
       "      <td>5</td>\n",
       "      <td>sux:gi[thicket]N sux:tuku[rock]V/t</td>\n",
       "    </tr>\n",
       "  </tbody>\n",
       "</table>\n",
       "</div>"
      ],
      "text/plain": [
       "  etcsl_no                         text_name version l_no  \\\n",
       "0  c.0.1.1  Ur III catalogue from Nibru (N1)     NaN    1   \n",
       "1  c.0.1.1  Ur III catalogue from Nibru (N1)     NaN    2   \n",
       "2  c.0.1.1  Ur III catalogue from Nibru (N1)     NaN    3   \n",
       "3  c.0.1.1  Ur III catalogue from Nibru (N1)     NaN    4   \n",
       "4  c.0.1.1  Ur III catalogue from Nibru (N1)     NaN    5   \n",
       "\n",
       "                                                text  \n",
       "0                                sux:dubsaŋ[first]AJ  \n",
       "1  sux:Enki[1]DN sux:unu[dwelling]N sux:gal[big]V...  \n",
       "2                                sux:anzag[horizon]N  \n",
       "3  sux:anŋi[eclipse]N sux:zu[know]V/t sux:ama[mot...  \n",
       "4                 sux:gi[thicket]N sux:tuku[rock]V/t  "
      ]
     },
     "execution_count": 2,
     "metadata": {},
     "output_type": "execute_result"
    }
   ],
   "source": [
    "path =r'../Scrape-etcsl/cleaned/' # use your path\n",
    "allFiles = glob.glob(path + \"/*.txt\")\n",
    "list_ = []\n",
    "for file_ in allFiles:\n",
    "    df = pd.read_csv(file_,index_col=None, header=0)\n",
    "    list_.append(df)\n",
    "etcsl_data = pd.concat(list_)\n",
    "etcsl_data.head()"
   ]
  },
  {
   "cell_type": "markdown",
   "metadata": {},
   "source": [
    "In order to transform this DataFrame into a proper Document Term Matrix we need to discard the columns `version` and `l_no` and concatenate all the text that belongs to a single composition. Some line have no content in the `text` column - these lines need to be dropped.\n",
    "\n",
    "First select the relevant columns and drop the rows that have no text content."
   ]
  },
  {
   "cell_type": "code",
   "execution_count": 3,
   "metadata": {
    "collapsed": false
   },
   "outputs": [
    {
     "data": {
      "text/html": [
       "<div>\n",
       "<table border=\"1\" class=\"dataframe\">\n",
       "  <thead>\n",
       "    <tr style=\"text-align: right;\">\n",
       "      <th></th>\n",
       "      <th>etcsl_no</th>\n",
       "      <th>text_name</th>\n",
       "      <th>text</th>\n",
       "    </tr>\n",
       "  </thead>\n",
       "  <tbody>\n",
       "    <tr>\n",
       "      <th>0</th>\n",
       "      <td>c.0.1.1</td>\n",
       "      <td>Ur III catalogue from Nibru (N1)</td>\n",
       "      <td>sux:dubsaŋ[first]AJ</td>\n",
       "    </tr>\n",
       "    <tr>\n",
       "      <th>1</th>\n",
       "      <td>c.0.1.1</td>\n",
       "      <td>Ur III catalogue from Nibru (N1)</td>\n",
       "      <td>sux:Enki[1]DN sux:unu[dwelling]N sux:gal[big]V...</td>\n",
       "    </tr>\n",
       "    <tr>\n",
       "      <th>2</th>\n",
       "      <td>c.0.1.1</td>\n",
       "      <td>Ur III catalogue from Nibru (N1)</td>\n",
       "      <td>sux:anzag[horizon]N</td>\n",
       "    </tr>\n",
       "    <tr>\n",
       "      <th>3</th>\n",
       "      <td>c.0.1.1</td>\n",
       "      <td>Ur III catalogue from Nibru (N1)</td>\n",
       "      <td>sux:anŋi[eclipse]N sux:zu[know]V/t sux:ama[mot...</td>\n",
       "    </tr>\n",
       "    <tr>\n",
       "      <th>4</th>\n",
       "      <td>c.0.1.1</td>\n",
       "      <td>Ur III catalogue from Nibru (N1)</td>\n",
       "      <td>sux:gi[thicket]N sux:tuku[rock]V/t</td>\n",
       "    </tr>\n",
       "  </tbody>\n",
       "</table>\n",
       "</div>"
      ],
      "text/plain": [
       "  etcsl_no                         text_name  \\\n",
       "0  c.0.1.1  Ur III catalogue from Nibru (N1)   \n",
       "1  c.0.1.1  Ur III catalogue from Nibru (N1)   \n",
       "2  c.0.1.1  Ur III catalogue from Nibru (N1)   \n",
       "3  c.0.1.1  Ur III catalogue from Nibru (N1)   \n",
       "4  c.0.1.1  Ur III catalogue from Nibru (N1)   \n",
       "\n",
       "                                                text  \n",
       "0                                sux:dubsaŋ[first]AJ  \n",
       "1  sux:Enki[1]DN sux:unu[dwelling]N sux:gal[big]V...  \n",
       "2                                sux:anzag[horizon]N  \n",
       "3  sux:anŋi[eclipse]N sux:zu[know]V/t sux:ama[mot...  \n",
       "4                 sux:gi[thicket]N sux:tuku[rock]V/t  "
      ]
     },
     "execution_count": 3,
     "metadata": {},
     "output_type": "execute_result"
    }
   ],
   "source": [
    "etcsl_data = etcsl_data[['etcsl_no', 'text_name', 'text']]\n",
    "etcsl_data = etcsl_data.dropna()\n",
    "etcsl_data.head()"
   ]
  },
  {
   "cell_type": "markdown",
   "metadata": {},
   "source": [
    "Group the rows by `etcsl_no` and apply the `join` function to the `text` column. Transform the aggregated data into a new DataFrame."
   ]
  },
  {
   "cell_type": "code",
   "execution_count": 4,
   "metadata": {
    "collapsed": false
   },
   "outputs": [
    {
     "data": {
      "text/html": [
       "<div>\n",
       "<table border=\"1\" class=\"dataframe\">\n",
       "  <thead>\n",
       "    <tr style=\"text-align: right;\">\n",
       "      <th></th>\n",
       "      <th>text</th>\n",
       "    </tr>\n",
       "    <tr>\n",
       "      <th>etcsl_no</th>\n",
       "      <th></th>\n",
       "    </tr>\n",
       "  </thead>\n",
       "  <tbody>\n",
       "    <tr>\n",
       "      <th>c.0.1.1</th>\n",
       "      <td>sux:dubsaŋ[first]AJ sux:Enki[1]DN sux:unu[dwel...</td>\n",
       "    </tr>\n",
       "    <tr>\n",
       "      <th>c.0.1.2</th>\n",
       "      <td>sux:diŋir[deity]N sux:šembizida[kohl]N sux:dar...</td>\n",
       "    </tr>\n",
       "    <tr>\n",
       "      <th>c.0.2.01</th>\n",
       "      <td>sux:lugal[king]N sux:šag[heart]N sux:lugal[kin...</td>\n",
       "    </tr>\n",
       "    <tr>\n",
       "      <th>c.0.2.02</th>\n",
       "      <td>sux:Enlil[1]DN sux:sud[distant]V/i sux:nam[lor...</td>\n",
       "    </tr>\n",
       "    <tr>\n",
       "      <th>c.0.2.03</th>\n",
       "      <td>sux:lugal[king]N sux:mu[name]N sux:niŋul[everl...</td>\n",
       "    </tr>\n",
       "  </tbody>\n",
       "</table>\n",
       "</div>"
      ],
      "text/plain": [
       "                                                       text\n",
       "etcsl_no                                                   \n",
       "c.0.1.1   sux:dubsaŋ[first]AJ sux:Enki[1]DN sux:unu[dwel...\n",
       "c.0.1.2   sux:diŋir[deity]N sux:šembizida[kohl]N sux:dar...\n",
       "c.0.2.01  sux:lugal[king]N sux:šag[heart]N sux:lugal[kin...\n",
       "c.0.2.02  sux:Enlil[1]DN sux:sud[distant]V/i sux:nam[lor...\n",
       "c.0.2.03  sux:lugal[king]N sux:mu[name]N sux:niŋul[everl..."
      ]
     },
     "execution_count": 4,
     "metadata": {},
     "output_type": "execute_result"
    }
   ],
   "source": [
    "etcsl_bytext = etcsl_data['text'].groupby(etcsl_data['etcsl_no']).apply(' '.join)\n",
    "etcsl_bytext_df = pd.DataFrame(etcsl_bytext)\n",
    "etcsl_bytext_df.head()"
   ]
  },
  {
   "cell_type": "markdown",
   "metadata": {
    "collapsed": false
   },
   "source": [
    "Create a DataFrame of `etcsl_no` and `text_name` equivalencies, with `etcsl_no` set as index (row names). Then merge this DataFrame with the the `etctsl_bytext_df` using the indexes."
   ]
  },
  {
   "cell_type": "code",
   "execution_count": 5,
   "metadata": {
    "collapsed": false
   },
   "outputs": [
    {
     "data": {
      "text/html": [
       "<div>\n",
       "<table border=\"1\" class=\"dataframe\">\n",
       "  <thead>\n",
       "    <tr style=\"text-align: right;\">\n",
       "      <th></th>\n",
       "      <th>text_name</th>\n",
       "      <th>text</th>\n",
       "    </tr>\n",
       "    <tr>\n",
       "      <th>etcsl_no</th>\n",
       "      <th></th>\n",
       "      <th></th>\n",
       "    </tr>\n",
       "  </thead>\n",
       "  <tbody>\n",
       "    <tr>\n",
       "      <th>c.0.1.1</th>\n",
       "      <td>Ur III catalogue from Nibru (N1)</td>\n",
       "      <td>sux:dubsaŋ[first]AJ sux:Enki[1]DN sux:unu[dwel...</td>\n",
       "    </tr>\n",
       "    <tr>\n",
       "      <th>c.0.1.2</th>\n",
       "      <td>Ur III catalogue at Yale (Y1)</td>\n",
       "      <td>sux:diŋir[deity]N sux:šembizida[kohl]N sux:dar...</td>\n",
       "    </tr>\n",
       "    <tr>\n",
       "      <th>c.0.2.01</th>\n",
       "      <td>OB catalogue from Nibru (N2)</td>\n",
       "      <td>sux:lugal[king]N sux:šag[heart]N sux:lugal[kin...</td>\n",
       "    </tr>\n",
       "    <tr>\n",
       "      <th>c.0.2.02</th>\n",
       "      <td>OB catalogue in the Louvre (L)</td>\n",
       "      <td>sux:Enlil[1]DN sux:sud[distant]V/i sux:nam[lor...</td>\n",
       "    </tr>\n",
       "    <tr>\n",
       "      <th>c.0.2.03</th>\n",
       "      <td>OB catalogue from Urim (U1)</td>\n",
       "      <td>sux:lugal[king]N sux:mu[name]N sux:niŋul[everl...</td>\n",
       "    </tr>\n",
       "  </tbody>\n",
       "</table>\n",
       "</div>"
      ],
      "text/plain": [
       "                                 text_name  \\\n",
       "etcsl_no                                     \n",
       "c.0.1.1   Ur III catalogue from Nibru (N1)   \n",
       "c.0.1.2      Ur III catalogue at Yale (Y1)   \n",
       "c.0.2.01      OB catalogue from Nibru (N2)   \n",
       "c.0.2.02    OB catalogue in the Louvre (L)   \n",
       "c.0.2.03       OB catalogue from Urim (U1)   \n",
       "\n",
       "                                                       text  \n",
       "etcsl_no                                                     \n",
       "c.0.1.1   sux:dubsaŋ[first]AJ sux:Enki[1]DN sux:unu[dwel...  \n",
       "c.0.1.2   sux:diŋir[deity]N sux:šembizida[kohl]N sux:dar...  \n",
       "c.0.2.01  sux:lugal[king]N sux:šag[heart]N sux:lugal[kin...  \n",
       "c.0.2.02  sux:Enlil[1]DN sux:sud[distant]V/i sux:nam[lor...  \n",
       "c.0.2.03  sux:lugal[king]N sux:mu[name]N sux:niŋul[everl...  "
      ]
     },
     "execution_count": 5,
     "metadata": {},
     "output_type": "execute_result"
    }
   ],
   "source": [
    "etcsl_numbers_names = etcsl_data[['etcsl_no', 'text_name']].drop_duplicates().set_index('etcsl_no')\n",
    "etcsl_data_df = pd.merge(etcsl_numbers_names, etcsl_bytext_df, right_index=True, left_index=True)\n",
    "etcsl_data_df.head()"
   ]
  },
  {
   "cell_type": "markdown",
   "metadata": {},
   "source": [
    "Transfrom the DataFrame into a Document Term Matrix (DTM) by using `CountVecorizer`. This function uses a Regular Expression (`token_pattern`) to indicate how to find the beginning and end of each word (or token). In lemmatized Sumerian, a space indicates the boundary between two lemmas. The expression `r.[^ ]+` means: any combination of characters, except the space.\n",
    "\n",
    "The output of the CountVectorizer (`etcsl_dtm`) is not in a human-readable format. It is transformed into another DataFrame, with the ETCSL numbers as index.\n",
    "\n",
    "The length of each composition in ETCSL may be computed by adding up all the numbers in a row. The text length will be used at various places in further computations."
   ]
  },
  {
   "cell_type": "code",
   "execution_count": 6,
   "metadata": {
    "collapsed": false
   },
   "outputs": [
    {
     "data": {
      "text/html": [
       "<div>\n",
       "<table border=\"1\" class=\"dataframe\">\n",
       "  <thead>\n",
       "    <tr style=\"text-align: right;\">\n",
       "      <th></th>\n",
       "      <th>sux-x-emesal:ammuš[three]nu</th>\n",
       "      <th>sux-x-emesal:aŋ[do]v/t</th>\n",
       "      <th>sux-x-emesal:aŋ[sky]n</th>\n",
       "      <th>sux-x-emesal:aŋ[thing]n</th>\n",
       "      <th>sux-x-emesal:aŋba[gift]n</th>\n",
       "      <th>sux-x-emesal:aŋdara[rag]n</th>\n",
       "      <th>sux-x-emesal:aŋgig[bad-thing]n</th>\n",
       "      <th>sux-x-emesal:aŋhulu[evil]n</th>\n",
       "      <th>sux-x-emesal:aŋlam[garment]n</th>\n",
       "      <th>sux-x-emesal:aŋsub[polishing]n</th>\n",
       "      <th>...</th>\n",
       "      <th>sux:šuteŋ[accept]v/t</th>\n",
       "      <th>sux:šutubur[mixture]n</th>\n",
       "      <th>sux:šutug[reed-hut]n</th>\n",
       "      <th>sux:šutum[storehouse]n</th>\n",
       "      <th>sux:šutur[garment]n</th>\n",
       "      <th>sux:šuziana[1]dn</th>\n",
       "      <th>sux:šuš[cover]v/t</th>\n",
       "      <th>sux:šuʾi[barber]n</th>\n",
       "      <th>sux:šuʾu[stone]n</th>\n",
       "      <th>sux:šuʾura[goose]n</th>\n",
       "    </tr>\n",
       "  </thead>\n",
       "  <tbody>\n",
       "    <tr>\n",
       "      <th>c.0.1.1</th>\n",
       "      <td>0</td>\n",
       "      <td>0</td>\n",
       "      <td>0</td>\n",
       "      <td>0</td>\n",
       "      <td>0</td>\n",
       "      <td>0</td>\n",
       "      <td>0</td>\n",
       "      <td>0</td>\n",
       "      <td>0</td>\n",
       "      <td>0</td>\n",
       "      <td>...</td>\n",
       "      <td>0</td>\n",
       "      <td>0</td>\n",
       "      <td>0</td>\n",
       "      <td>0</td>\n",
       "      <td>0</td>\n",
       "      <td>0</td>\n",
       "      <td>0</td>\n",
       "      <td>0</td>\n",
       "      <td>0</td>\n",
       "      <td>0</td>\n",
       "    </tr>\n",
       "    <tr>\n",
       "      <th>c.0.1.2</th>\n",
       "      <td>0</td>\n",
       "      <td>0</td>\n",
       "      <td>0</td>\n",
       "      <td>0</td>\n",
       "      <td>0</td>\n",
       "      <td>0</td>\n",
       "      <td>0</td>\n",
       "      <td>0</td>\n",
       "      <td>0</td>\n",
       "      <td>0</td>\n",
       "      <td>...</td>\n",
       "      <td>0</td>\n",
       "      <td>0</td>\n",
       "      <td>0</td>\n",
       "      <td>0</td>\n",
       "      <td>0</td>\n",
       "      <td>0</td>\n",
       "      <td>0</td>\n",
       "      <td>0</td>\n",
       "      <td>0</td>\n",
       "      <td>0</td>\n",
       "    </tr>\n",
       "    <tr>\n",
       "      <th>c.0.2.01</th>\n",
       "      <td>0</td>\n",
       "      <td>0</td>\n",
       "      <td>0</td>\n",
       "      <td>0</td>\n",
       "      <td>0</td>\n",
       "      <td>0</td>\n",
       "      <td>0</td>\n",
       "      <td>0</td>\n",
       "      <td>0</td>\n",
       "      <td>0</td>\n",
       "      <td>...</td>\n",
       "      <td>0</td>\n",
       "      <td>0</td>\n",
       "      <td>0</td>\n",
       "      <td>0</td>\n",
       "      <td>0</td>\n",
       "      <td>0</td>\n",
       "      <td>0</td>\n",
       "      <td>0</td>\n",
       "      <td>0</td>\n",
       "      <td>0</td>\n",
       "    </tr>\n",
       "    <tr>\n",
       "      <th>c.0.2.02</th>\n",
       "      <td>0</td>\n",
       "      <td>0</td>\n",
       "      <td>0</td>\n",
       "      <td>0</td>\n",
       "      <td>0</td>\n",
       "      <td>0</td>\n",
       "      <td>0</td>\n",
       "      <td>0</td>\n",
       "      <td>0</td>\n",
       "      <td>0</td>\n",
       "      <td>...</td>\n",
       "      <td>0</td>\n",
       "      <td>0</td>\n",
       "      <td>0</td>\n",
       "      <td>0</td>\n",
       "      <td>0</td>\n",
       "      <td>0</td>\n",
       "      <td>0</td>\n",
       "      <td>0</td>\n",
       "      <td>0</td>\n",
       "      <td>0</td>\n",
       "    </tr>\n",
       "    <tr>\n",
       "      <th>c.0.2.03</th>\n",
       "      <td>0</td>\n",
       "      <td>0</td>\n",
       "      <td>0</td>\n",
       "      <td>0</td>\n",
       "      <td>0</td>\n",
       "      <td>0</td>\n",
       "      <td>0</td>\n",
       "      <td>0</td>\n",
       "      <td>0</td>\n",
       "      <td>0</td>\n",
       "      <td>...</td>\n",
       "      <td>0</td>\n",
       "      <td>0</td>\n",
       "      <td>0</td>\n",
       "      <td>0</td>\n",
       "      <td>0</td>\n",
       "      <td>0</td>\n",
       "      <td>0</td>\n",
       "      <td>0</td>\n",
       "      <td>0</td>\n",
       "      <td>0</td>\n",
       "    </tr>\n",
       "  </tbody>\n",
       "</table>\n",
       "<p>5 rows × 4296 columns</p>\n",
       "</div>"
      ],
      "text/plain": [
       "          sux-x-emesal:ammuš[three]nu  sux-x-emesal:aŋ[do]v/t  \\\n",
       "c.0.1.1                             0                       0   \n",
       "c.0.1.2                             0                       0   \n",
       "c.0.2.01                            0                       0   \n",
       "c.0.2.02                            0                       0   \n",
       "c.0.2.03                            0                       0   \n",
       "\n",
       "          sux-x-emesal:aŋ[sky]n  sux-x-emesal:aŋ[thing]n  \\\n",
       "c.0.1.1                       0                        0   \n",
       "c.0.1.2                       0                        0   \n",
       "c.0.2.01                      0                        0   \n",
       "c.0.2.02                      0                        0   \n",
       "c.0.2.03                      0                        0   \n",
       "\n",
       "          sux-x-emesal:aŋba[gift]n  sux-x-emesal:aŋdara[rag]n  \\\n",
       "c.0.1.1                          0                          0   \n",
       "c.0.1.2                          0                          0   \n",
       "c.0.2.01                         0                          0   \n",
       "c.0.2.02                         0                          0   \n",
       "c.0.2.03                         0                          0   \n",
       "\n",
       "          sux-x-emesal:aŋgig[bad-thing]n  sux-x-emesal:aŋhulu[evil]n  \\\n",
       "c.0.1.1                                0                           0   \n",
       "c.0.1.2                                0                           0   \n",
       "c.0.2.01                               0                           0   \n",
       "c.0.2.02                               0                           0   \n",
       "c.0.2.03                               0                           0   \n",
       "\n",
       "          sux-x-emesal:aŋlam[garment]n  sux-x-emesal:aŋsub[polishing]n  \\\n",
       "c.0.1.1                              0                               0   \n",
       "c.0.1.2                              0                               0   \n",
       "c.0.2.01                             0                               0   \n",
       "c.0.2.02                             0                               0   \n",
       "c.0.2.03                             0                               0   \n",
       "\n",
       "                 ...          sux:šuteŋ[accept]v/t  sux:šutubur[mixture]n  \\\n",
       "c.0.1.1          ...                             0                      0   \n",
       "c.0.1.2          ...                             0                      0   \n",
       "c.0.2.01         ...                             0                      0   \n",
       "c.0.2.02         ...                             0                      0   \n",
       "c.0.2.03         ...                             0                      0   \n",
       "\n",
       "          sux:šutug[reed-hut]n  sux:šutum[storehouse]n  sux:šutur[garment]n  \\\n",
       "c.0.1.1                      0                       0                    0   \n",
       "c.0.1.2                      0                       0                    0   \n",
       "c.0.2.01                     0                       0                    0   \n",
       "c.0.2.02                     0                       0                    0   \n",
       "c.0.2.03                     0                       0                    0   \n",
       "\n",
       "          sux:šuziana[1]dn  sux:šuš[cover]v/t  sux:šuʾi[barber]n  \\\n",
       "c.0.1.1                  0                  0                  0   \n",
       "c.0.1.2                  0                  0                  0   \n",
       "c.0.2.01                 0                  0                  0   \n",
       "c.0.2.02                 0                  0                  0   \n",
       "c.0.2.03                 0                  0                  0   \n",
       "\n",
       "          sux:šuʾu[stone]n  sux:šuʾura[goose]n  \n",
       "c.0.1.1                  0                   0  \n",
       "c.0.1.2                  0                   0  \n",
       "c.0.2.01                 0                   0  \n",
       "c.0.2.02                 0                   0  \n",
       "c.0.2.03                 0                   0  \n",
       "\n",
       "[5 rows x 4296 columns]"
      ]
     },
     "execution_count": 6,
     "metadata": {},
     "output_type": "execute_result"
    }
   ],
   "source": [
    "cv = CountVectorizer(analyzer='word', token_pattern=r'[^ ]+')\n",
    "etcsl_dtm = cv.fit_transform(etcsl_data_df['text'])\n",
    "etcsl_dtm_df = pd.DataFrame(etcsl_dtm.toarray(), columns = cv.get_feature_names(), index = etcsl_data_df.index.values)\n",
    "etcsl_text_length =  etcsl_dtm_df.sum(axis=1)\n",
    "etcsl_dtm_df.head()"
   ]
  },
  {
   "cell_type": "code",
   "execution_count": 7,
   "metadata": {
    "collapsed": false
   },
   "outputs": [],
   "source": [
    "words_l = list(etcsl_dtm_df.columns.values)"
   ]
  },
  {
   "cell_type": "code",
   "execution_count": 10,
   "metadata": {
    "collapsed": false
   },
   "outputs": [
    {
     "data": {
      "text/plain": [
       "['sux:akkil[noise]n',\n",
       " 'sux:burburbabbar[noise]n',\n",
       " 'sux:dubdab[noise]n',\n",
       " 'sux:gungugu[noise]n',\n",
       " 'sux:hunha[noise]n',\n",
       " 'sux:mur[noise]n',\n",
       " 'sux:murmara[noise]n']"
      ]
     },
     "execution_count": 10,
     "metadata": {},
     "output_type": "execute_result"
    }
   ],
   "source": [
    "words_l_select = [word for word in words_l if 'noise' in word]\n",
    "words_l_select"
   ]
  },
  {
   "cell_type": "code",
   "execution_count": null,
   "metadata": {
    "collapsed": true
   },
   "outputs": [],
   "source": []
  }
 ],
 "metadata": {
  "kernelspec": {
   "display_name": "Python 3",
   "language": "python",
   "name": "python3"
  },
  "language_info": {
   "codemirror_mode": {
    "name": "ipython",
    "version": 3
   },
   "file_extension": ".py",
   "mimetype": "text/x-python",
   "name": "python",
   "nbconvert_exporter": "python",
   "pygments_lexer": "ipython3",
   "version": "3.5.1"
  }
 },
 "nbformat": 4,
 "nbformat_minor": 0
}
