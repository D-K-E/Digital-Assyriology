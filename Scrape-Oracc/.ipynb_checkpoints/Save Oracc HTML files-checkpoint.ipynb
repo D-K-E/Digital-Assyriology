{
 "cells": [
  {
   "cell_type": "markdown",
   "metadata": {},
   "source": [
    "# Download Oracc HTML Files\n",
    "\n",
    "Download script for ORACC files. The downloader needs an input file that lists the P, Q, or X numbers to be downloaded. It will save these files in the /HTML directory. The `Scrape Oracc` Notebook may be used to further process these files."
   ]
  },
  {
   "cell_type": "markdown",
   "metadata": {},
   "source": [
    "## Setting up the Environment\n",
    "\n",
    "This cell imports the required packages and checks under which Python version the script is running. Recommended (and tested) is Python 3.5.\n",
    "\n",
    "The function `patch_http_response_read()` takes care of the IncompleteRead error, which may terminate the script. This function was found in the blog post [Beaver Notes](http://bobrochel.blogspot.com/2010/11/bad-servers-chunked-encoding-and.html) and has been adapted minimally for Python 3.5.\n",
    "\n",
    "Other solutions for the IncompleteRead error have been suggested on blogs. It is possible that some of these solutions are better and/or faster - they have not been tried. The current script has been stress-tested with a list of more than 3,000 P numbers, which took approximately 45 minutes."
   ]
  },
  {
   "cell_type": "code",
   "execution_count": 1,
   "metadata": {
    "collapsed": false
   },
   "outputs": [
    {
     "name": "stdout",
     "output_type": "stream",
     "text": [
      "Running under Python version: (3, 5, 2)\n"
     ]
    }
   ],
   "source": [
    "from __future__ import print_function\n",
    "\n",
    "import urllib.request\n",
    "import re\n",
    "import sys\n",
    "import os\n",
    "import time\n",
    "from tqdm import *\n",
    "import http.client as httplib\n",
    "\n",
    "PY3 = sys.version_info.major == 3\n",
    "print(\"Running under Python version:\", sys.version_info[:3])\n",
    "\n",
    "if not PY3:\n",
    "    input = raw_input\n",
    "\n",
    "def patch_http_response_read(func):\n",
    "    def inner(*args):\n",
    "        try:\n",
    "            return func(*args)\n",
    "        except httplib.IncompleteRead as e:\n",
    "            return e.partial\n",
    "\n",
    "    return inner\n",
    "httplib.HTTPResponse.read = patch_http_response_read(httplib.HTTPResponse.read)"
   ]
  },
  {
   "cell_type": "markdown",
   "metadata": {},
   "source": [
    "# Input File\n",
    "\n",
    "The input file should be located in a directory called /Input, which must be located in the directory in which this Python Notebook is executed. The file should have a .txt extension and must be created with a flat text editor such as TextEdit, Notepad, or Emacs. The file contains a simple list of P, Q, or X numbers, preceded by the ORACC abbreviation where the file is edited. For instance:\n",
    "\n",
    "    rinap/rinap1/Q003421\n",
    "    dcclt/Q000039\n",
    "    cams/gkab/P348623\n",
    "\n"
   ]
  },
  {
   "cell_type": "code",
   "execution_count": 2,
   "metadata": {
    "collapsed": false
   },
   "outputs": [
    {
     "name": "stdout",
     "output_type": "stream",
     "text": [
      "Name of Input List: etcsri.txt\n"
     ]
    }
   ],
   "source": [
    "inputFile = input(\"Name of Input List: \")"
   ]
  },
  {
   "cell_type": "code",
   "execution_count": 3,
   "metadata": {
    "collapsed": true
   },
   "outputs": [],
   "source": [
    "with open('Input/' + inputFile, mode = 'r', encoding = 'utf8') as f:\n",
    "    textlist = f.read().splitlines()"
   ]
  },
  {
   "cell_type": "code",
   "execution_count": 4,
   "metadata": {
    "collapsed": false
   },
   "outputs": [
    {
     "name": "stderr",
     "output_type": "stream",
     "text": [
      "\r",
      "  0%|          | 0/1428 [00:00<?, ?it/s]"
     ]
    },
    {
     "name": "stdout",
     "output_type": "stream",
     "text": [
      "retrieving http://oracc.org/etcsri/Q004872/html\n",
      "saving http://oracc.org/etcsri/Q004872 as HTML/etcsri_Q004872.html\n"
     ]
    },
    {
     "name": "stderr",
     "output_type": "stream",
     "text": [
      "\r",
      "  0%|          | 1/1428 [00:00<11:20,  2.10it/s]"
     ]
    },
    {
     "name": "stdout",
     "output_type": "stream",
     "text": [
      "retrieving http://oracc.org/etcsri/Q004244/html\n",
      "saving http://oracc.org/etcsri/Q004244 as HTML/etcsri_Q004244.html\n"
     ]
    },
    {
     "name": "stderr",
     "output_type": "stream",
     "text": [
      "\r",
      "  0%|          | 2/1428 [00:00<10:52,  2.18it/s]"
     ]
    },
    {
     "name": "stdout",
     "output_type": "stream",
     "text": [
      "retrieving http://oracc.org/etcsri/Q004245/html\n",
      "saving http://oracc.org/etcsri/Q004245 as HTML/etcsri_Q004245.html\n"
     ]
    },
    {
     "name": "stderr",
     "output_type": "stream",
     "text": [
      "\r",
      "  0%|          | 3/1428 [00:01<10:11,  2.33it/s]"
     ]
    },
    {
     "name": "stdout",
     "output_type": "stream",
     "text": [
      "retrieving http://oracc.org/etcsri/Q004246/html\n",
      "saving http://oracc.org/etcsri/Q004246 as HTML/etcsri_Q004246.html\n"
     ]
    },
    {
     "name": "stderr",
     "output_type": "stream",
     "text": [
      "\r",
      "  0%|          | 4/1428 [00:01<10:10,  2.33it/s]"
     ]
    },
    {
     "name": "stdout",
     "output_type": "stream",
     "text": [
      "retrieving http://oracc.org/etcsri/Q004247/html\n",
      "saving http://oracc.org/etcsri/Q004247 as HTML/etcsri_Q004247.html\n"
     ]
    },
    {
     "name": "stderr",
     "output_type": "stream",
     "text": [
      "\r",
      "  0%|          | 5/1428 [00:02<10:02,  2.36it/s]"
     ]
    },
    {
     "name": "stdout",
     "output_type": "stream",
     "text": [
      "retrieving http://oracc.org/etcsri/Q004248/html\n",
      "saving http://oracc.org/etcsri/Q004248 as HTML/etcsri_Q004248.html\n"
     ]
    },
    {
     "name": "stderr",
     "output_type": "stream",
     "text": [
      "\r",
      "  0%|          | 6/1428 [00:02<10:05,  2.35it/s]"
     ]
    },
    {
     "name": "stdout",
     "output_type": "stream",
     "text": [
      "retrieving http://oracc.org/etcsri/Q004868/html\n",
      "saving http://oracc.org/etcsri/Q004868 as HTML/etcsri_Q004868.html\n"
     ]
    },
    {
     "name": "stderr",
     "output_type": "stream",
     "text": [
      "\r",
      "  0%|          | 7/1428 [00:02<09:31,  2.49it/s]"
     ]
    },
    {
     "name": "stdout",
     "output_type": "stream",
     "text": [
      "retrieving http://oracc.org/etcsri/Q004834/html\n",
      "saving http://oracc.org/etcsri/Q004834 as HTML/etcsri_Q004834.html\n"
     ]
    },
    {
     "name": "stderr",
     "output_type": "stream",
     "text": [
      "\r",
      "  1%|          | 8/1428 [00:03<10:02,  2.36it/s]"
     ]
    },
    {
     "name": "stdout",
     "output_type": "stream",
     "text": [
      "retrieving http://oracc.org/etcsri/Q004249/html\n",
      "saving http://oracc.org/etcsri/Q004249 as HTML/etcsri_Q004249.html\n"
     ]
    },
    {
     "name": "stderr",
     "output_type": "stream",
     "text": [
      "\r",
      "  1%|          | 9/1428 [00:03<09:43,  2.43it/s]"
     ]
    },
    {
     "name": "stdout",
     "output_type": "stream",
     "text": [
      "retrieving http://oracc.org/etcsri/Q004250/html\n",
      "saving http://oracc.org/etcsri/Q004250 as HTML/etcsri_Q004250.html\n"
     ]
    },
    {
     "name": "stderr",
     "output_type": "stream",
     "text": [
      "\r",
      "  1%|          | 10/1428 [00:04<09:39,  2.45it/s]"
     ]
    },
    {
     "name": "stdout",
     "output_type": "stream",
     "text": [
      "retrieving http://oracc.org/etcsri/Q004106/html\n",
      "saving http://oracc.org/etcsri/Q004106 as HTML/etcsri_Q004106.html\n"
     ]
    },
    {
     "name": "stderr",
     "output_type": "stream",
     "text": [
      "\r",
      "  1%|          | 11/1428 [00:04<09:44,  2.42it/s]"
     ]
    },
    {
     "name": "stdout",
     "output_type": "stream",
     "text": [
      "retrieving http://oracc.org/etcsri/Q004251/html\n",
      "saving http://oracc.org/etcsri/Q004251 as HTML/etcsri_Q004251.html\n"
     ]
    },
    {
     "name": "stderr",
     "output_type": "stream",
     "text": [
      "\r",
      "  1%|          | 12/1428 [00:04<09:40,  2.44it/s]"
     ]
    },
    {
     "name": "stdout",
     "output_type": "stream",
     "text": [
      "retrieving http://oracc.org/etcsri/Q001198/html\n",
      "saving http://oracc.org/etcsri/Q001198 as HTML/etcsri_Q001198.html\n"
     ]
    },
    {
     "name": "stderr",
     "output_type": "stream",
     "text": [
      "\r",
      "  1%|          | 13/1428 [00:05<09:05,  2.59it/s]"
     ]
    },
    {
     "name": "stdout",
     "output_type": "stream",
     "text": [
      "retrieving http://oracc.org/etcsri/Q001214/html\n",
      "saving http://oracc.org/etcsri/Q001214 as HTML/etcsri_Q001214.html\n"
     ]
    },
    {
     "name": "stderr",
     "output_type": "stream",
     "text": [
      "\r",
      "  1%|          | 14/1428 [00:05<09:55,  2.37it/s]"
     ]
    },
    {
     "name": "stdout",
     "output_type": "stream",
     "text": [
      "retrieving http://oracc.org/etcsri/Q001199/html\n",
      "saving http://oracc.org/etcsri/Q001199 as HTML/etcsri_Q001199.html\n"
     ]
    },
    {
     "name": "stderr",
     "output_type": "stream",
     "text": [
      "\r",
      "  1%|          | 15/1428 [00:06<09:25,  2.50it/s]"
     ]
    },
    {
     "name": "stdout",
     "output_type": "stream",
     "text": [
      "retrieving http://oracc.org/etcsri/Q001203/html\n",
      "saving http://oracc.org/etcsri/Q001203 as HTML/etcsri_Q001203.html\n"
     ]
    },
    {
     "name": "stderr",
     "output_type": "stream",
     "text": [
      "\r",
      "  1%|          | 16/1428 [00:06<09:05,  2.59it/s]"
     ]
    },
    {
     "name": "stdout",
     "output_type": "stream",
     "text": [
      "retrieving http://oracc.org/etcsri/Q001204/html\n",
      "saving http://oracc.org/etcsri/Q001204 as HTML/etcsri_Q001204.html\n"
     ]
    },
    {
     "name": "stderr",
     "output_type": "stream",
     "text": [
      "\r",
      "  1%|          | 17/1428 [00:06<09:09,  2.57it/s]"
     ]
    },
    {
     "name": "stdout",
     "output_type": "stream",
     "text": [
      "retrieving http://oracc.org/etcsri/Q001205/html\n",
      "saving http://oracc.org/etcsri/Q001205 as HTML/etcsri_Q001205.html\n"
     ]
    },
    {
     "name": "stderr",
     "output_type": "stream",
     "text": [
      "\r",
      "  1%|▏         | 18/1428 [00:07<08:45,  2.68it/s]"
     ]
    },
    {
     "name": "stdout",
     "output_type": "stream",
     "text": [
      "retrieving http://oracc.org/etcsri/Q001212/html\n",
      "saving http://oracc.org/etcsri/Q001212 as HTML/etcsri_Q001212.html\n"
     ]
    },
    {
     "name": "stderr",
     "output_type": "stream",
     "text": [
      "\r",
      "  1%|▏         | 19/1428 [00:07<08:49,  2.66it/s]"
     ]
    },
    {
     "name": "stdout",
     "output_type": "stream",
     "text": [
      "retrieving http://oracc.org/etcsri/Q001213/html\n",
      "saving http://oracc.org/etcsri/Q001213 as HTML/etcsri_Q001213.html\n"
     ]
    },
    {
     "name": "stderr",
     "output_type": "stream",
     "text": [
      "\r",
      "  1%|▏         | 20/1428 [00:07<08:33,  2.74it/s]"
     ]
    },
    {
     "name": "stdout",
     "output_type": "stream",
     "text": [
      "retrieving http://oracc.org/etcsri/Q001218/html\n",
      "saving http://oracc.org/etcsri/Q001218 as HTML/etcsri_Q001218.html\n"
     ]
    },
    {
     "name": "stderr",
     "output_type": "stream",
     "text": [
      "\r",
      "  1%|▏         | 21/1428 [00:08<09:39,  2.43it/s]"
     ]
    },
    {
     "name": "stdout",
     "output_type": "stream",
     "text": [
      "retrieving http://oracc.org/etcsri/Q001228/html\n",
      "saving http://oracc.org/etcsri/Q001228 as HTML/etcsri_Q001228.html\n"
     ]
    },
    {
     "name": "stderr",
     "output_type": "stream",
     "text": [
      "\r",
      "  2%|▏         | 22/1428 [00:08<09:11,  2.55it/s]"
     ]
    },
    {
     "name": "stdout",
     "output_type": "stream",
     "text": [
      "retrieving http://oracc.org/etcsri/Q001239/html\n",
      "saving http://oracc.org/etcsri/Q001239 as HTML/etcsri_Q001239.html\n"
     ]
    },
    {
     "name": "stderr",
     "output_type": "stream",
     "text": [
      "\r",
      "  2%|▏         | 23/1428 [00:09<08:55,  2.62it/s]"
     ]
    },
    {
     "name": "stdout",
     "output_type": "stream",
     "text": [
      "retrieving http://oracc.org/etcsri/Q001183/html\n",
      "saving http://oracc.org/etcsri/Q001183 as HTML/etcsri_Q001183.html\n"
     ]
    },
    {
     "name": "stderr",
     "output_type": "stream",
     "text": [
      "\r",
      "  2%|▏         | 24/1428 [00:09<09:24,  2.49it/s]"
     ]
    },
    {
     "name": "stdout",
     "output_type": "stream",
     "text": [
      "retrieving http://oracc.org/etcsri/Q001202/html\n",
      "saving http://oracc.org/etcsri/Q001202 as HTML/etcsri_Q001202.html\n"
     ]
    },
    {
     "name": "stderr",
     "output_type": "stream",
     "text": [
      "\r",
      "  2%|▏         | 25/1428 [00:09<09:06,  2.57it/s]"
     ]
    },
    {
     "name": "stdout",
     "output_type": "stream",
     "text": [
      "retrieving http://oracc.org/etcsri/Q001201/html\n",
      "saving http://oracc.org/etcsri/Q001201 as HTML/etcsri_Q001201.html\n"
     ]
    },
    {
     "name": "stderr",
     "output_type": "stream",
     "text": [
      "\r",
      "  2%|▏         | 26/1428 [00:10<09:02,  2.58it/s]"
     ]
    },
    {
     "name": "stdout",
     "output_type": "stream",
     "text": [
      "retrieving http://oracc.org/etcsri/Q003637/html\n",
      "saving http://oracc.org/etcsri/Q003637 as HTML/etcsri_Q003637.html\n"
     ]
    },
    {
     "name": "stderr",
     "output_type": "stream",
     "text": [
      "\r",
      "  2%|▏         | 27/1428 [00:10<09:28,  2.46it/s]"
     ]
    },
    {
     "name": "stdout",
     "output_type": "stream",
     "text": [
      "retrieving http://oracc.org/etcsri/Q004105/html\n",
      "saving http://oracc.org/etcsri/Q004105 as HTML/etcsri_Q004105.html\n"
     ]
    },
    {
     "name": "stderr",
     "output_type": "stream",
     "text": [
      "\r",
      "  2%|▏         | 28/1428 [00:11<09:07,  2.56it/s]"
     ]
    },
    {
     "name": "stdout",
     "output_type": "stream",
     "text": [
      "retrieving http://oracc.org/etcsri/Q001241/html\n",
      "saving http://oracc.org/etcsri/Q001241 as HTML/etcsri_Q001241.html\n"
     ]
    },
    {
     "name": "stderr",
     "output_type": "stream",
     "text": [
      "\r",
      "  2%|▏         | 29/1428 [00:11<08:48,  2.65it/s]"
     ]
    },
    {
     "name": "stdout",
     "output_type": "stream",
     "text": [
      "retrieving http://oracc.org/etcsri/Q001242/html\n",
      "saving http://oracc.org/etcsri/Q001242 as HTML/etcsri_Q001242.html\n"
     ]
    },
    {
     "name": "stderr",
     "output_type": "stream",
     "text": [
      "\r",
      "  2%|▏         | 30/1428 [00:11<08:32,  2.73it/s]"
     ]
    },
    {
     "name": "stdout",
     "output_type": "stream",
     "text": [
      "retrieving http://oracc.org/etcsri/Q001243/html\n",
      "saving http://oracc.org/etcsri/Q001243 as HTML/etcsri_Q001243.html\n"
     ]
    },
    {
     "name": "stderr",
     "output_type": "stream",
     "text": [
      "\r",
      "  2%|▏         | 31/1428 [00:12<08:14,  2.83it/s]"
     ]
    },
    {
     "name": "stdout",
     "output_type": "stream",
     "text": [
      "retrieving http://oracc.org/etcsri/Q001244/html\n",
      "saving http://oracc.org/etcsri/Q001244 as HTML/etcsri_Q001244.html\n"
     ]
    },
    {
     "name": "stderr",
     "output_type": "stream",
     "text": [
      "\r",
      "  2%|▏         | 32/1428 [00:12<09:51,  2.36it/s]"
     ]
    },
    {
     "name": "stdout",
     "output_type": "stream",
     "text": [
      "retrieving http://oracc.org/etcsri/Q001245/html\n",
      "saving http://oracc.org/etcsri/Q001245 as HTML/etcsri_Q001245.html\n"
     ]
    },
    {
     "name": "stderr",
     "output_type": "stream",
     "text": [
      "\r",
      "  2%|▏         | 33/1428 [00:13<10:43,  2.17it/s]"
     ]
    },
    {
     "name": "stdout",
     "output_type": "stream",
     "text": [
      "retrieving http://oracc.org/etcsri/Q001246/html\n",
      "saving http://oracc.org/etcsri/Q001246 as HTML/etcsri_Q001246.html\n"
     ]
    },
    {
     "name": "stderr",
     "output_type": "stream",
     "text": [
      "\r",
      "  2%|▏         | 34/1428 [00:13<09:51,  2.36it/s]"
     ]
    },
    {
     "name": "stdout",
     "output_type": "stream",
     "text": [
      "retrieving http://oracc.org/etcsri/Q001251/html\n",
      "saving http://oracc.org/etcsri/Q001251 as HTML/etcsri_Q001251.html\n"
     ]
    },
    {
     "name": "stderr",
     "output_type": "stream",
     "text": [
      "\r",
      "  2%|▏         | 35/1428 [00:14<09:38,  2.41it/s]"
     ]
    },
    {
     "name": "stdout",
     "output_type": "stream",
     "text": [
      "retrieving http://oracc.org/etcsri/Q001016/html\n",
      "saving http://oracc.org/etcsri/Q001016 as HTML/etcsri_Q001016.html\n"
     ]
    },
    {
     "name": "stderr",
     "output_type": "stream",
     "text": [
      "\r",
      "  3%|▎         | 36/1428 [00:14<09:34,  2.42it/s]"
     ]
    },
    {
     "name": "stdout",
     "output_type": "stream",
     "text": [
      "retrieving http://oracc.org/etcsri/Q001021/html\n",
      "saving http://oracc.org/etcsri/Q001021 as HTML/etcsri_Q001021.html\n"
     ]
    },
    {
     "name": "stderr",
     "output_type": "stream",
     "text": [
      "\r",
      "  3%|▎         | 37/1428 [00:14<10:01,  2.31it/s]"
     ]
    },
    {
     "name": "stdout",
     "output_type": "stream",
     "text": [
      "retrieving http://oracc.org/etcsri/Q001022/html\n",
      "saving http://oracc.org/etcsri/Q001022 as HTML/etcsri_Q001022.html\n"
     ]
    },
    {
     "name": "stderr",
     "output_type": "stream",
     "text": [
      "\r",
      "  3%|▎         | 38/1428 [00:15<10:09,  2.28it/s]"
     ]
    },
    {
     "name": "stdout",
     "output_type": "stream",
     "text": [
      "retrieving http://oracc.org/etcsri/Q001023/html\n",
      "saving http://oracc.org/etcsri/Q001023 as HTML/etcsri_Q001023.html\n"
     ]
    },
    {
     "name": "stderr",
     "output_type": "stream",
     "text": [
      "\r",
      "  3%|▎         | 39/1428 [00:15<11:02,  2.10it/s]"
     ]
    },
    {
     "name": "stdout",
     "output_type": "stream",
     "text": [
      "retrieving http://oracc.org/etcsri/Q001024/html\n",
      "saving http://oracc.org/etcsri/Q001024 as HTML/etcsri_Q001024.html\n"
     ]
    },
    {
     "name": "stderr",
     "output_type": "stream",
     "text": [
      "\r",
      "  3%|▎         | 40/1428 [00:16<11:08,  2.08it/s]"
     ]
    },
    {
     "name": "stdout",
     "output_type": "stream",
     "text": [
      "retrieving http://oracc.org/etcsri/Q003641/html\n",
      "saving http://oracc.org/etcsri/Q003641 as HTML/etcsri_Q003641.html\n"
     ]
    },
    {
     "name": "stderr",
     "output_type": "stream",
     "text": [
      "\r",
      "  3%|▎         | 41/1428 [00:16<11:17,  2.05it/s]"
     ]
    },
    {
     "name": "stdout",
     "output_type": "stream",
     "text": [
      "retrieving http://oracc.org/etcsri/Q001050/html\n",
      "saving http://oracc.org/etcsri/Q001050 as HTML/etcsri_Q001050.html\n"
     ]
    },
    {
     "name": "stderr",
     "output_type": "stream",
     "text": [
      "\r",
      "  3%|▎         | 42/1428 [00:17<12:43,  1.81it/s]"
     ]
    },
    {
     "name": "stdout",
     "output_type": "stream",
     "text": [
      "retrieving http://oracc.org/etcsri/Q001017/html\n",
      "saving http://oracc.org/etcsri/Q001017 as HTML/etcsri_Q001017.html\n"
     ]
    },
    {
     "name": "stderr",
     "output_type": "stream",
     "text": [
      "\r",
      "  3%|▎         | 43/1428 [00:17<11:18,  2.04it/s]"
     ]
    },
    {
     "name": "stdout",
     "output_type": "stream",
     "text": [
      "retrieving http://oracc.org/etcsri/Q001039/html\n",
      "saving http://oracc.org/etcsri/Q001039 as HTML/etcsri_Q001039.html\n"
     ]
    },
    {
     "name": "stderr",
     "output_type": "stream",
     "text": [
      "\r",
      "  3%|▎         | 44/1428 [00:18<10:14,  2.25it/s]"
     ]
    },
    {
     "name": "stdout",
     "output_type": "stream",
     "text": [
      "retrieving http://oracc.org/etcsri/Q001027/html\n",
      "saving http://oracc.org/etcsri/Q001027 as HTML/etcsri_Q001027.html\n"
     ]
    },
    {
     "name": "stderr",
     "output_type": "stream",
     "text": [
      "\r",
      "  3%|▎         | 45/1428 [00:18<10:43,  2.15it/s]"
     ]
    },
    {
     "name": "stdout",
     "output_type": "stream",
     "text": [
      "retrieving http://oracc.org/etcsri/Q001029/html\n",
      "saving http://oracc.org/etcsri/Q001029 as HTML/etcsri_Q001029.html\n"
     ]
    },
    {
     "name": "stderr",
     "output_type": "stream",
     "text": [
      "\r",
      "  3%|▎         | 46/1428 [00:19<12:52,  1.79it/s]"
     ]
    },
    {
     "name": "stdout",
     "output_type": "stream",
     "text": [
      "retrieving http://oracc.org/etcsri/Q001026/html\n",
      "saving http://oracc.org/etcsri/Q001026 as HTML/etcsri_Q001026.html\n"
     ]
    },
    {
     "name": "stderr",
     "output_type": "stream",
     "text": [
      "\r",
      "  3%|▎         | 47/1428 [00:20<13:28,  1.71it/s]"
     ]
    },
    {
     "name": "stdout",
     "output_type": "stream",
     "text": [
      "retrieving http://oracc.org/etcsri/Q001028/html\n",
      "saving http://oracc.org/etcsri/Q001028 as HTML/etcsri_Q001028.html\n"
     ]
    },
    {
     "name": "stderr",
     "output_type": "stream",
     "text": [
      "\r",
      "  3%|▎         | 48/1428 [00:20<13:07,  1.75it/s]"
     ]
    },
    {
     "name": "stdout",
     "output_type": "stream",
     "text": [
      "retrieving http://oracc.org/etcsri/Q001030/html\n",
      "saving http://oracc.org/etcsri/Q001030 as HTML/etcsri_Q001030.html\n"
     ]
    },
    {
     "name": "stderr",
     "output_type": "stream",
     "text": [
      "\r",
      "  3%|▎         | 49/1428 [00:21<12:34,  1.83it/s]"
     ]
    },
    {
     "name": "stdout",
     "output_type": "stream",
     "text": [
      "retrieving http://oracc.org/etcsri/Q001031/html\n",
      "saving http://oracc.org/etcsri/Q001031 as HTML/etcsri_Q001031.html\n"
     ]
    },
    {
     "name": "stderr",
     "output_type": "stream",
     "text": [
      "\r",
      "  4%|▎         | 50/1428 [00:21<11:50,  1.94it/s]"
     ]
    },
    {
     "name": "stdout",
     "output_type": "stream",
     "text": [
      "retrieving http://oracc.org/etcsri/Q001032/html\n",
      "saving http://oracc.org/etcsri/Q001032 as HTML/etcsri_Q001032.html\n"
     ]
    },
    {
     "name": "stderr",
     "output_type": "stream",
     "text": [
      "\r",
      "  4%|▎         | 51/1428 [00:22<12:41,  1.81it/s]"
     ]
    },
    {
     "name": "stdout",
     "output_type": "stream",
     "text": [
      "retrieving http://oracc.org/etcsri/Q001034/html\n",
      "saving http://oracc.org/etcsri/Q001034 as HTML/etcsri_Q001034.html\n"
     ]
    },
    {
     "name": "stderr",
     "output_type": "stream",
     "text": [
      "\r",
      "  4%|▎         | 52/1428 [00:22<11:56,  1.92it/s]"
     ]
    },
    {
     "name": "stdout",
     "output_type": "stream",
     "text": [
      "retrieving http://oracc.org/etcsri/Q001025/html\n",
      "saving http://oracc.org/etcsri/Q001025 as HTML/etcsri_Q001025.html\n"
     ]
    },
    {
     "name": "stderr",
     "output_type": "stream",
     "text": [
      "\r",
      "  4%|▎         | 53/1428 [00:23<11:38,  1.97it/s]"
     ]
    },
    {
     "name": "stdout",
     "output_type": "stream",
     "text": [
      "retrieving http://oracc.org/etcsri/Q001033/html\n",
      "saving http://oracc.org/etcsri/Q001033 as HTML/etcsri_Q001033.html\n"
     ]
    },
    {
     "name": "stderr",
     "output_type": "stream",
     "text": [
      "\r",
      "  4%|▍         | 54/1428 [00:23<11:15,  2.03it/s]"
     ]
    },
    {
     "name": "stdout",
     "output_type": "stream",
     "text": [
      "retrieving http://oracc.org/etcsri/Q001018/html\n",
      "saving http://oracc.org/etcsri/Q001018 as HTML/etcsri_Q001018.html\n"
     ]
    },
    {
     "name": "stderr",
     "output_type": "stream",
     "text": [
      "\r",
      "  4%|▍         | 55/1428 [00:24<10:32,  2.17it/s]"
     ]
    },
    {
     "name": "stdout",
     "output_type": "stream",
     "text": [
      "retrieving http://oracc.org/etcsri/Q001035/html\n",
      "saving http://oracc.org/etcsri/Q001035 as HTML/etcsri_Q001035.html\n"
     ]
    },
    {
     "name": "stderr",
     "output_type": "stream",
     "text": [
      "\r",
      "  4%|▍         | 56/1428 [00:24<12:51,  1.78it/s]"
     ]
    },
    {
     "name": "stdout",
     "output_type": "stream",
     "text": [
      "retrieving http://oracc.org/etcsri/Q001036/html\n",
      "saving http://oracc.org/etcsri/Q001036 as HTML/etcsri_Q001036.html\n"
     ]
    },
    {
     "name": "stderr",
     "output_type": "stream",
     "text": [
      "\r",
      "  4%|▍         | 57/1428 [00:25<11:55,  1.92it/s]"
     ]
    },
    {
     "name": "stdout",
     "output_type": "stream",
     "text": [
      "retrieving http://oracc.org/etcsri/Q001037/html\n",
      "saving http://oracc.org/etcsri/Q001037 as HTML/etcsri_Q001037.html\n"
     ]
    },
    {
     "name": "stderr",
     "output_type": "stream",
     "text": [
      "\r",
      "  4%|▍         | 58/1428 [00:25<11:50,  1.93it/s]"
     ]
    },
    {
     "name": "stdout",
     "output_type": "stream",
     "text": [
      "retrieving http://oracc.org/etcsri/Q001038/html\n",
      "saving http://oracc.org/etcsri/Q001038 as HTML/etcsri_Q001038.html\n"
     ]
    },
    {
     "name": "stderr",
     "output_type": "stream",
     "text": [
      "\r",
      "  4%|▍         | 59/1428 [00:26<11:19,  2.02it/s]"
     ]
    },
    {
     "name": "stdout",
     "output_type": "stream",
     "text": [
      "retrieving http://oracc.org/etcsri/Q001044/html\n",
      "saving http://oracc.org/etcsri/Q001044 as HTML/etcsri_Q001044.html\n"
     ]
    },
    {
     "name": "stderr",
     "output_type": "stream",
     "text": [
      "\r",
      "  4%|▍         | 60/1428 [00:26<10:45,  2.12it/s]"
     ]
    },
    {
     "name": "stdout",
     "output_type": "stream",
     "text": [
      "retrieving http://oracc.org/etcsri/Q001045/html\n",
      "saving http://oracc.org/etcsri/Q001045 as HTML/etcsri_Q001045.html\n"
     ]
    },
    {
     "name": "stderr",
     "output_type": "stream",
     "text": [
      "\r",
      "  4%|▍         | 61/1428 [00:27<12:43,  1.79it/s]"
     ]
    },
    {
     "name": "stdout",
     "output_type": "stream",
     "text": [
      "retrieving http://oracc.org/etcsri/Q001046/html\n",
      "saving http://oracc.org/etcsri/Q001046 as HTML/etcsri_Q001046.html\n"
     ]
    },
    {
     "name": "stderr",
     "output_type": "stream",
     "text": [
      "\r",
      "  4%|▍         | 62/1428 [00:27<11:05,  2.05it/s]"
     ]
    },
    {
     "name": "stdout",
     "output_type": "stream",
     "text": [
      "retrieving http://oracc.org/etcsri/Q001042/html\n",
      "saving http://oracc.org/etcsri/Q001042 as HTML/etcsri_Q001042.html\n"
     ]
    },
    {
     "name": "stderr",
     "output_type": "stream",
     "text": [
      "\r",
      "  4%|▍         | 63/1428 [00:28<10:58,  2.07it/s]"
     ]
    },
    {
     "name": "stdout",
     "output_type": "stream",
     "text": [
      "retrieving http://oracc.org/etcsri/Q001047/html\n",
      "saving http://oracc.org/etcsri/Q001047 as HTML/etcsri_Q001047.html\n"
     ]
    },
    {
     "name": "stderr",
     "output_type": "stream",
     "text": [
      "\r",
      "  4%|▍         | 64/1428 [00:28<09:55,  2.29it/s]"
     ]
    },
    {
     "name": "stdout",
     "output_type": "stream",
     "text": [
      "retrieving http://oracc.org/etcsri/Q001048/html\n",
      "saving http://oracc.org/etcsri/Q001048 as HTML/etcsri_Q001048.html\n"
     ]
    },
    {
     "name": "stderr",
     "output_type": "stream",
     "text": [
      "\r",
      "  5%|▍         | 65/1428 [00:28<09:13,  2.46it/s]"
     ]
    },
    {
     "name": "stdout",
     "output_type": "stream",
     "text": [
      "retrieving http://oracc.org/etcsri/Q001019/html\n",
      "saving http://oracc.org/etcsri/Q001019 as HTML/etcsri_Q001019.html\n"
     ]
    },
    {
     "name": "stderr",
     "output_type": "stream",
     "text": [
      "\r",
      "  5%|▍         | 66/1428 [00:29<09:20,  2.43it/s]"
     ]
    },
    {
     "name": "stdout",
     "output_type": "stream",
     "text": [
      "retrieving http://oracc.org/etcsri/Q001020/html\n",
      "saving http://oracc.org/etcsri/Q001020 as HTML/etcsri_Q001020.html\n"
     ]
    },
    {
     "name": "stderr",
     "output_type": "stream",
     "text": [
      "\r",
      "  5%|▍         | 67/1428 [00:29<09:24,  2.41it/s]"
     ]
    },
    {
     "name": "stdout",
     "output_type": "stream",
     "text": [
      "retrieving http://oracc.org/etcsri/Q003642/html\n",
      "saving http://oracc.org/etcsri/Q003642 as HTML/etcsri_Q003642.html\n"
     ]
    },
    {
     "name": "stderr",
     "output_type": "stream",
     "text": [
      "\r",
      "  5%|▍         | 68/1428 [00:30<08:46,  2.58it/s]"
     ]
    },
    {
     "name": "stdout",
     "output_type": "stream",
     "text": [
      "retrieving http://oracc.org/etcsri/Q001040/html\n",
      "saving http://oracc.org/etcsri/Q001040 as HTML/etcsri_Q001040.html\n"
     ]
    },
    {
     "name": "stderr",
     "output_type": "stream",
     "text": [
      "\r",
      "  5%|▍         | 69/1428 [00:30<08:45,  2.59it/s]"
     ]
    },
    {
     "name": "stdout",
     "output_type": "stream",
     "text": [
      "retrieving http://oracc.org/etcsri/Q001049/html\n",
      "saving http://oracc.org/etcsri/Q001049 as HTML/etcsri_Q001049.html\n"
     ]
    },
    {
     "name": "stderr",
     "output_type": "stream",
     "text": [
      "\r",
      "  5%|▍         | 70/1428 [00:31<10:24,  2.17it/s]"
     ]
    },
    {
     "name": "stdout",
     "output_type": "stream",
     "text": [
      "retrieving http://oracc.org/etcsri/Q001051/html\n",
      "saving http://oracc.org/etcsri/Q001051 as HTML/etcsri_Q001051.html\n"
     ]
    },
    {
     "name": "stderr",
     "output_type": "stream",
     "text": [
      "\r",
      "  5%|▍         | 71/1428 [00:31<11:15,  2.01it/s]"
     ]
    },
    {
     "name": "stdout",
     "output_type": "stream",
     "text": [
      "retrieving http://oracc.org/etcsri/Q001053/html\n",
      "saving http://oracc.org/etcsri/Q001053 as HTML/etcsri_Q001053.html\n"
     ]
    },
    {
     "name": "stderr",
     "output_type": "stream",
     "text": [
      "\r",
      "  5%|▌         | 72/1428 [00:32<10:09,  2.23it/s]"
     ]
    },
    {
     "name": "stdout",
     "output_type": "stream",
     "text": [
      "retrieving http://oracc.org/etcsri/Q001054/html\n",
      "saving http://oracc.org/etcsri/Q001054 as HTML/etcsri_Q001054.html\n"
     ]
    },
    {
     "name": "stderr",
     "output_type": "stream",
     "text": [
      "\r",
      "  5%|▌         | 73/1428 [00:32<09:39,  2.34it/s]"
     ]
    },
    {
     "name": "stdout",
     "output_type": "stream",
     "text": [
      "retrieving http://oracc.org/etcsri/Q001055/html\n",
      "saving http://oracc.org/etcsri/Q001055 as HTML/etcsri_Q001055.html\n"
     ]
    },
    {
     "name": "stderr",
     "output_type": "stream",
     "text": [
      "\r",
      "  5%|▌         | 74/1428 [00:32<09:25,  2.40it/s]"
     ]
    },
    {
     "name": "stdout",
     "output_type": "stream",
     "text": [
      "retrieving http://oracc.org/etcsri/Q001056/html\n",
      "saving http://oracc.org/etcsri/Q001056 as HTML/etcsri_Q001056.html\n"
     ]
    },
    {
     "name": "stderr",
     "output_type": "stream",
     "text": [
      "\r",
      "  5%|▌         | 75/1428 [00:34<17:19,  1.30it/s]"
     ]
    },
    {
     "name": "stdout",
     "output_type": "stream",
     "text": [
      "retrieving http://oracc.org/etcsri/Q001067/html\n",
      "saving http://oracc.org/etcsri/Q001067 as HTML/etcsri_Q001067.html\n"
     ]
    },
    {
     "name": "stderr",
     "output_type": "stream",
     "text": [
      "\r",
      "  5%|▌         | 76/1428 [00:34<15:49,  1.42it/s]"
     ]
    },
    {
     "name": "stdout",
     "output_type": "stream",
     "text": [
      "retrieving http://oracc.org/etcsri/Q001064/html\n",
      "saving http://oracc.org/etcsri/Q001064 as HTML/etcsri_Q001064.html\n"
     ]
    },
    {
     "name": "stderr",
     "output_type": "stream",
     "text": [
      "\r",
      "  5%|▌         | 77/1428 [00:35<14:36,  1.54it/s]"
     ]
    },
    {
     "name": "stdout",
     "output_type": "stream",
     "text": [
      "retrieving http://oracc.org/etcsri/Q001057/html\n",
      "saving http://oracc.org/etcsri/Q001057 as HTML/etcsri_Q001057.html\n"
     ]
    },
    {
     "name": "stderr",
     "output_type": "stream",
     "text": [
      "\r",
      "  5%|▌         | 78/1428 [00:36<16:02,  1.40it/s]"
     ]
    },
    {
     "name": "stdout",
     "output_type": "stream",
     "text": [
      "retrieving http://oracc.org/etcsri/Q001058/html\n",
      "saving http://oracc.org/etcsri/Q001058 as HTML/etcsri_Q001058.html\n"
     ]
    },
    {
     "name": "stderr",
     "output_type": "stream",
     "text": [
      "\r",
      "  6%|▌         | 79/1428 [00:37<16:53,  1.33it/s]"
     ]
    },
    {
     "name": "stdout",
     "output_type": "stream",
     "text": [
      "retrieving http://oracc.org/etcsri/Q001059/html\n",
      "saving http://oracc.org/etcsri/Q001059 as HTML/etcsri_Q001059.html\n"
     ]
    },
    {
     "name": "stderr",
     "output_type": "stream",
     "text": [
      "\r",
      "  6%|▌         | 80/1428 [00:37<15:25,  1.46it/s]"
     ]
    },
    {
     "name": "stdout",
     "output_type": "stream",
     "text": [
      "retrieving http://oracc.org/etcsri/Q003644/html\n",
      "saving http://oracc.org/etcsri/Q003644 as HTML/etcsri_Q003644.html\n"
     ]
    },
    {
     "name": "stderr",
     "output_type": "stream",
     "text": [
      "\r",
      "  6%|▌         | 81/1428 [00:38<12:56,  1.73it/s]"
     ]
    },
    {
     "name": "stdout",
     "output_type": "stream",
     "text": [
      "retrieving http://oracc.org/etcsri/Q001062/html\n",
      "saving http://oracc.org/etcsri/Q001062 as HTML/etcsri_Q001062.html\n"
     ]
    },
    {
     "name": "stderr",
     "output_type": "stream",
     "text": [
      "\r",
      "  6%|▌         | 82/1428 [00:38<12:56,  1.73it/s]"
     ]
    },
    {
     "name": "stdout",
     "output_type": "stream",
     "text": [
      "retrieving http://oracc.org/etcsri/Q001063/html\n",
      "saving http://oracc.org/etcsri/Q001063 as HTML/etcsri_Q001063.html\n"
     ]
    },
    {
     "name": "stderr",
     "output_type": "stream",
     "text": [
      "\r",
      "  6%|▌         | 83/1428 [00:39<11:58,  1.87it/s]"
     ]
    },
    {
     "name": "stdout",
     "output_type": "stream",
     "text": [
      "retrieving http://oracc.org/etcsri/Q001071/html\n",
      "saving http://oracc.org/etcsri/Q001071 as HTML/etcsri_Q001071.html\n"
     ]
    },
    {
     "name": "stderr",
     "output_type": "stream",
     "text": [
      "\r",
      "  6%|▌         | 84/1428 [00:39<12:13,  1.83it/s]"
     ]
    },
    {
     "name": "stdout",
     "output_type": "stream",
     "text": [
      "retrieving http://oracc.org/etcsri/Q001066/html\n",
      "saving http://oracc.org/etcsri/Q001066 as HTML/etcsri_Q001066.html\n"
     ]
    },
    {
     "name": "stderr",
     "output_type": "stream",
     "text": [
      "\r",
      "  6%|▌         | 85/1428 [00:40<11:39,  1.92it/s]"
     ]
    },
    {
     "name": "stdout",
     "output_type": "stream",
     "text": [
      "retrieving http://oracc.org/etcsri/Q001068/html\n",
      "saving http://oracc.org/etcsri/Q001068 as HTML/etcsri_Q001068.html\n"
     ]
    },
    {
     "name": "stderr",
     "output_type": "stream",
     "text": [
      "\r",
      "  6%|▌         | 86/1428 [00:40<10:43,  2.09it/s]"
     ]
    },
    {
     "name": "stdout",
     "output_type": "stream",
     "text": [
      "retrieving http://oracc.org/etcsri/Q001065/html\n",
      "saving http://oracc.org/etcsri/Q001065 as HTML/etcsri_Q001065.html\n"
     ]
    },
    {
     "name": "stderr",
     "output_type": "stream",
     "text": [
      "\r",
      "  6%|▌         | 87/1428 [00:40<09:58,  2.24it/s]"
     ]
    },
    {
     "name": "stdout",
     "output_type": "stream",
     "text": [
      "retrieving http://oracc.org/etcsri/Q001070/html\n",
      "saving http://oracc.org/etcsri/Q001070 as HTML/etcsri_Q001070.html\n"
     ]
    },
    {
     "name": "stderr",
     "output_type": "stream",
     "text": [
      "\r",
      "  6%|▌         | 88/1428 [00:41<10:14,  2.18it/s]"
     ]
    },
    {
     "name": "stdout",
     "output_type": "stream",
     "text": [
      "retrieving http://oracc.org/etcsri/Q003645/html\n",
      "saving http://oracc.org/etcsri/Q003645 as HTML/etcsri_Q003645.html\n"
     ]
    },
    {
     "name": "stderr",
     "output_type": "stream",
     "text": [
      "\r",
      "  6%|▌         | 89/1428 [00:41<09:40,  2.31it/s]"
     ]
    },
    {
     "name": "stdout",
     "output_type": "stream",
     "text": [
      "retrieving http://oracc.org/etcsri/Q001182/html\n",
      "saving http://oracc.org/etcsri/Q001182 as HTML/etcsri_Q001182.html\n"
     ]
    },
    {
     "name": "stderr",
     "output_type": "stream",
     "text": [
      "\r",
      "  6%|▋         | 90/1428 [00:42<09:44,  2.29it/s]"
     ]
    },
    {
     "name": "stdout",
     "output_type": "stream",
     "text": [
      "retrieving http://oracc.org/etcsri/Q003646/html\n",
      "saving http://oracc.org/etcsri/Q003646 as HTML/etcsri_Q003646.html\n"
     ]
    },
    {
     "name": "stderr",
     "output_type": "stream",
     "text": [
      "\r",
      "  6%|▋         | 91/1428 [00:42<09:44,  2.29it/s]"
     ]
    },
    {
     "name": "stdout",
     "output_type": "stream",
     "text": [
      "retrieving http://oracc.org/etcsri/Q001175/html\n",
      "saving http://oracc.org/etcsri/Q001175 as HTML/etcsri_Q001175.html\n"
     ]
    },
    {
     "name": "stderr",
     "output_type": "stream",
     "text": [
      "\r",
      "  6%|▋         | 92/1428 [00:42<09:19,  2.39it/s]"
     ]
    },
    {
     "name": "stdout",
     "output_type": "stream",
     "text": [
      "retrieving http://oracc.org/etcsri/Q004842/html\n",
      "saving http://oracc.org/etcsri/Q004842 as HTML/etcsri_Q004842.html\n"
     ]
    },
    {
     "name": "stderr",
     "output_type": "stream",
     "text": [
      "\r",
      "  7%|▋         | 93/1428 [00:43<08:56,  2.49it/s]"
     ]
    },
    {
     "name": "stdout",
     "output_type": "stream",
     "text": [
      "retrieving http://oracc.org/etcsri/Q001072/html\n",
      "saving http://oracc.org/etcsri/Q001072 as HTML/etcsri_Q001072.html\n"
     ]
    },
    {
     "name": "stderr",
     "output_type": "stream",
     "text": [
      "\r",
      "  7%|▋         | 94/1428 [00:43<08:44,  2.54it/s]"
     ]
    },
    {
     "name": "stdout",
     "output_type": "stream",
     "text": [
      "retrieving http://oracc.org/etcsri/Q001073/html\n",
      "saving http://oracc.org/etcsri/Q001073 as HTML/etcsri_Q001073.html\n"
     ]
    },
    {
     "name": "stderr",
     "output_type": "stream",
     "text": [
      "\r",
      "  7%|▋         | 95/1428 [00:44<09:05,  2.44it/s]"
     ]
    },
    {
     "name": "stdout",
     "output_type": "stream",
     "text": [
      "retrieving http://oracc.org/etcsri/Q001078/html\n",
      "saving http://oracc.org/etcsri/Q001078 as HTML/etcsri_Q001078.html\n"
     ]
    },
    {
     "name": "stderr",
     "output_type": "stream",
     "text": [
      "\r",
      "  7%|▋         | 96/1428 [00:44<09:17,  2.39it/s]"
     ]
    },
    {
     "name": "stdout",
     "output_type": "stream",
     "text": [
      "retrieving http://oracc.org/etcsri/Q001090/html\n",
      "saving http://oracc.org/etcsri/Q001090 as HTML/etcsri_Q001090.html\n"
     ]
    },
    {
     "name": "stderr",
     "output_type": "stream",
     "text": [
      "\r",
      "  7%|▋         | 97/1428 [00:45<10:39,  2.08it/s]"
     ]
    },
    {
     "name": "stdout",
     "output_type": "stream",
     "text": [
      "retrieving http://oracc.org/etcsri/Q001076/html\n",
      "saving http://oracc.org/etcsri/Q001076 as HTML/etcsri_Q001076.html\n"
     ]
    },
    {
     "name": "stderr",
     "output_type": "stream",
     "text": [
      "\r",
      "  7%|▋         | 98/1428 [00:45<10:04,  2.20it/s]"
     ]
    },
    {
     "name": "stdout",
     "output_type": "stream",
     "text": [
      "retrieving http://oracc.org/etcsri/Q001077/html\n",
      "saving http://oracc.org/etcsri/Q001077 as HTML/etcsri_Q001077.html\n"
     ]
    },
    {
     "name": "stderr",
     "output_type": "stream",
     "text": [
      "\r",
      "  7%|▋         | 99/1428 [00:46<09:42,  2.28it/s]"
     ]
    },
    {
     "name": "stdout",
     "output_type": "stream",
     "text": [
      "retrieving http://oracc.org/etcsri/Q001074/html\n",
      "saving http://oracc.org/etcsri/Q001074 as HTML/etcsri_Q001074.html\n"
     ]
    },
    {
     "name": "stderr",
     "output_type": "stream",
     "text": [
      "\r",
      "  7%|▋         | 100/1428 [00:46<09:35,  2.31it/s]"
     ]
    },
    {
     "name": "stdout",
     "output_type": "stream",
     "text": [
      "retrieving http://oracc.org/etcsri/Q001080/html\n",
      "saving http://oracc.org/etcsri/Q001080 as HTML/etcsri_Q001080.html\n"
     ]
    },
    {
     "name": "stderr",
     "output_type": "stream",
     "text": [
      "\r",
      "  7%|▋         | 101/1428 [00:47<11:12,  1.97it/s]"
     ]
    },
    {
     "name": "stdout",
     "output_type": "stream",
     "text": [
      "retrieving http://oracc.org/etcsri/Q001082/html\n",
      "saving http://oracc.org/etcsri/Q001082 as HTML/etcsri_Q001082.html\n"
     ]
    },
    {
     "name": "stderr",
     "output_type": "stream",
     "text": [
      "\r",
      "  7%|▋         | 102/1428 [00:47<11:58,  1.84it/s]"
     ]
    },
    {
     "name": "stdout",
     "output_type": "stream",
     "text": [
      "retrieving http://oracc.org/etcsri/Q001081/html\n",
      "saving http://oracc.org/etcsri/Q001081 as HTML/etcsri_Q001081.html\n"
     ]
    },
    {
     "name": "stderr",
     "output_type": "stream",
     "text": [
      "\r",
      "  7%|▋         | 103/1428 [00:48<11:17,  1.96it/s]"
     ]
    },
    {
     "name": "stdout",
     "output_type": "stream",
     "text": [
      "retrieving http://oracc.org/etcsri/Q001075/html\n",
      "saving http://oracc.org/etcsri/Q001075 as HTML/etcsri_Q001075.html\n"
     ]
    },
    {
     "name": "stderr",
     "output_type": "stream",
     "text": [
      "\r",
      "  7%|▋         | 104/1428 [00:48<11:48,  1.87it/s]"
     ]
    },
    {
     "name": "stdout",
     "output_type": "stream",
     "text": [
      "retrieving http://oracc.org/etcsri/Q001083/html\n",
      "saving http://oracc.org/etcsri/Q001083 as HTML/etcsri_Q001083.html\n"
     ]
    },
    {
     "name": "stderr",
     "output_type": "stream",
     "text": [
      "\r",
      "  7%|▋         | 105/1428 [00:49<13:28,  1.64it/s]"
     ]
    },
    {
     "name": "stdout",
     "output_type": "stream",
     "text": [
      "retrieving http://oracc.org/etcsri/Q001089/html\n",
      "saving http://oracc.org/etcsri/Q001089 as HTML/etcsri_Q001089.html\n"
     ]
    },
    {
     "name": "stderr",
     "output_type": "stream",
     "text": [
      "\r",
      "  7%|▋         | 106/1428 [00:50<12:39,  1.74it/s]"
     ]
    },
    {
     "name": "stdout",
     "output_type": "stream",
     "text": [
      "retrieving http://oracc.org/etcsri/Q001084/html\n",
      "saving http://oracc.org/etcsri/Q001084 as HTML/etcsri_Q001084.html\n"
     ]
    },
    {
     "name": "stderr",
     "output_type": "stream",
     "text": [
      "\r",
      "  7%|▋         | 107/1428 [00:50<12:16,  1.79it/s]"
     ]
    },
    {
     "name": "stdout",
     "output_type": "stream",
     "text": [
      "retrieving http://oracc.org/etcsri/Q001086/html\n",
      "saving http://oracc.org/etcsri/Q001086 as HTML/etcsri_Q001086.html\n"
     ]
    },
    {
     "name": "stderr",
     "output_type": "stream",
     "text": [
      "\r",
      "  8%|▊         | 108/1428 [00:51<12:06,  1.82it/s]"
     ]
    },
    {
     "name": "stdout",
     "output_type": "stream",
     "text": [
      "retrieving http://oracc.org/etcsri/Q001079/html\n",
      "saving http://oracc.org/etcsri/Q001079 as HTML/etcsri_Q001079.html\n"
     ]
    },
    {
     "name": "stderr",
     "output_type": "stream",
     "text": [
      "\r",
      "  8%|▊         | 109/1428 [00:51<10:27,  2.10it/s]"
     ]
    },
    {
     "name": "stdout",
     "output_type": "stream",
     "text": [
      "retrieving http://oracc.org/etcsri/Q001087/html\n",
      "saving http://oracc.org/etcsri/Q001087 as HTML/etcsri_Q001087.html\n"
     ]
    },
    {
     "name": "stderr",
     "output_type": "stream",
     "text": [
      "\r",
      "  8%|▊         | 110/1428 [00:51<09:35,  2.29it/s]"
     ]
    },
    {
     "name": "stdout",
     "output_type": "stream",
     "text": [
      "retrieving http://oracc.org/etcsri/Q001103/html\n",
      "saving http://oracc.org/etcsri/Q001103 as HTML/etcsri_Q001103.html\n"
     ]
    },
    {
     "name": "stderr",
     "output_type": "stream",
     "text": [
      "\r",
      "  8%|▊         | 111/1428 [00:52<13:46,  1.59it/s]"
     ]
    },
    {
     "name": "stdout",
     "output_type": "stream",
     "text": [
      "retrieving http://oracc.org/etcsri/Q001110/html\n",
      "saving http://oracc.org/etcsri/Q001110 as HTML/etcsri_Q001110.html\n"
     ]
    },
    {
     "name": "stderr",
     "output_type": "stream",
     "text": [
      "\r",
      "  8%|▊         | 112/1428 [00:53<13:04,  1.68it/s]"
     ]
    },
    {
     "name": "stdout",
     "output_type": "stream",
     "text": [
      "retrieving http://oracc.org/etcsri/Q001092/html\n",
      "saving http://oracc.org/etcsri/Q001092 as HTML/etcsri_Q001092.html\n"
     ]
    },
    {
     "name": "stderr",
     "output_type": "stream",
     "text": [
      "\r",
      "  8%|▊         | 113/1428 [00:53<12:41,  1.73it/s]"
     ]
    },
    {
     "name": "stdout",
     "output_type": "stream",
     "text": [
      "retrieving http://oracc.org/etcsri/Q001117/html\n",
      "saving http://oracc.org/etcsri/Q001117 as HTML/etcsri_Q001117.html\n"
     ]
    },
    {
     "name": "stderr",
     "output_type": "stream",
     "text": [
      "\r",
      "  8%|▊         | 114/1428 [00:54<13:36,  1.61it/s]"
     ]
    },
    {
     "name": "stdout",
     "output_type": "stream",
     "text": [
      "retrieving http://oracc.org/etcsri/Q001115/html\n",
      "saving http://oracc.org/etcsri/Q001115 as HTML/etcsri_Q001115.html\n"
     ]
    },
    {
     "name": "stderr",
     "output_type": "stream",
     "text": [
      "\r",
      "  8%|▊         | 115/1428 [00:55<12:41,  1.72it/s]"
     ]
    },
    {
     "name": "stdout",
     "output_type": "stream",
     "text": [
      "retrieving http://oracc.org/etcsri/Q001118/html\n",
      "saving http://oracc.org/etcsri/Q001118 as HTML/etcsri_Q001118.html\n"
     ]
    },
    {
     "name": "stderr",
     "output_type": "stream",
     "text": [
      "\r",
      "  8%|▊         | 116/1428 [00:55<11:20,  1.93it/s]"
     ]
    },
    {
     "name": "stdout",
     "output_type": "stream",
     "text": [
      "retrieving http://oracc.org/etcsri/Q001107/html\n",
      "saving http://oracc.org/etcsri/Q001107 as HTML/etcsri_Q001107.html\n"
     ]
    },
    {
     "name": "stderr",
     "output_type": "stream",
     "text": [
      "\r",
      "  8%|▊         | 117/1428 [00:56<11:41,  1.87it/s]"
     ]
    },
    {
     "name": "stdout",
     "output_type": "stream",
     "text": [
      "retrieving http://oracc.org/etcsri/Q001112/html\n",
      "saving http://oracc.org/etcsri/Q001112 as HTML/etcsri_Q001112.html\n"
     ]
    },
    {
     "name": "stderr",
     "output_type": "stream",
     "text": [
      "\r",
      "  8%|▊         | 118/1428 [00:56<11:31,  1.89it/s]"
     ]
    },
    {
     "name": "stdout",
     "output_type": "stream",
     "text": [
      "retrieving http://oracc.org/etcsri/Q001095/html\n",
      "saving http://oracc.org/etcsri/Q001095 as HTML/etcsri_Q001095.html\n"
     ]
    },
    {
     "name": "stderr",
     "output_type": "stream",
     "text": [
      "\r",
      "  8%|▊         | 119/1428 [00:56<10:46,  2.02it/s]"
     ]
    },
    {
     "name": "stdout",
     "output_type": "stream",
     "text": [
      "retrieving http://oracc.org/etcsri/Q001096/html\n",
      "saving http://oracc.org/etcsri/Q001096 as HTML/etcsri_Q001096.html\n"
     ]
    },
    {
     "name": "stderr",
     "output_type": "stream",
     "text": [
      "\r",
      "  8%|▊         | 120/1428 [00:57<10:09,  2.15it/s]"
     ]
    },
    {
     "name": "stdout",
     "output_type": "stream",
     "text": [
      "retrieving http://oracc.org/etcsri/Q001109/html\n",
      "saving http://oracc.org/etcsri/Q001109 as HTML/etcsri_Q001109.html\n"
     ]
    },
    {
     "name": "stderr",
     "output_type": "stream",
     "text": [
      "\r",
      "  8%|▊         | 121/1428 [00:57<10:30,  2.07it/s]"
     ]
    },
    {
     "name": "stdout",
     "output_type": "stream",
     "text": [
      "retrieving http://oracc.org/etcsri/Q001093/html\n",
      "saving http://oracc.org/etcsri/Q001093 as HTML/etcsri_Q001093.html\n"
     ]
    },
    {
     "name": "stderr",
     "output_type": "stream",
     "text": [
      "\r",
      "  9%|▊         | 122/1428 [00:58<12:08,  1.79it/s]"
     ]
    },
    {
     "name": "stdout",
     "output_type": "stream",
     "text": [
      "retrieving http://oracc.org/etcsri/Q003671/html\n",
      "saving http://oracc.org/etcsri/Q003671 as HTML/etcsri_Q003671.html\n"
     ]
    },
    {
     "name": "stderr",
     "output_type": "stream",
     "text": [
      "\r",
      "  9%|▊         | 123/1428 [00:58<10:40,  2.04it/s]"
     ]
    },
    {
     "name": "stdout",
     "output_type": "stream",
     "text": [
      "retrieving http://oracc.org/etcsri/Q001097/html\n",
      "saving http://oracc.org/etcsri/Q001097 as HTML/etcsri_Q001097.html\n"
     ]
    },
    {
     "name": "stderr",
     "output_type": "stream",
     "text": [
      "\r",
      "  9%|▊         | 124/1428 [00:59<10:29,  2.07it/s]"
     ]
    },
    {
     "name": "stdout",
     "output_type": "stream",
     "text": [
      "retrieving http://oracc.org/etcsri/Q001111/html\n",
      "saving http://oracc.org/etcsri/Q001111 as HTML/etcsri_Q001111.html\n"
     ]
    },
    {
     "name": "stderr",
     "output_type": "stream",
     "text": [
      "\r",
      "  9%|▉         | 125/1428 [00:59<10:59,  1.98it/s]"
     ]
    },
    {
     "name": "stdout",
     "output_type": "stream",
     "text": [
      "retrieving http://oracc.org/etcsri/Q001098/html\n",
      "saving http://oracc.org/etcsri/Q001098 as HTML/etcsri_Q001098.html\n"
     ]
    },
    {
     "name": "stderr",
     "output_type": "stream",
     "text": [
      "\r",
      "  9%|▉         | 126/1428 [01:00<11:26,  1.90it/s]"
     ]
    },
    {
     "name": "stdout",
     "output_type": "stream",
     "text": [
      "retrieving http://oracc.org/etcsri/Q001091/html\n",
      "saving http://oracc.org/etcsri/Q001091 as HTML/etcsri_Q001091.html\n"
     ]
    },
    {
     "name": "stderr",
     "output_type": "stream",
     "text": [
      "\r",
      "  9%|▉         | 127/1428 [01:01<14:26,  1.50it/s]"
     ]
    },
    {
     "name": "stdout",
     "output_type": "stream",
     "text": [
      "retrieving http://oracc.org/etcsri/Q001105/html\n",
      "saving http://oracc.org/etcsri/Q001105 as HTML/etcsri_Q001105.html\n"
     ]
    },
    {
     "name": "stderr",
     "output_type": "stream",
     "text": [
      "\r",
      "  9%|▉         | 128/1428 [01:02<13:40,  1.58it/s]"
     ]
    },
    {
     "name": "stdout",
     "output_type": "stream",
     "text": [
      "retrieving http://oracc.org/etcsri/Q001113/html\n",
      "saving http://oracc.org/etcsri/Q001113 as HTML/etcsri_Q001113.html\n"
     ]
    },
    {
     "name": "stderr",
     "output_type": "stream",
     "text": [
      "\r",
      "  9%|▉         | 129/1428 [01:02<12:55,  1.67it/s]"
     ]
    },
    {
     "name": "stdout",
     "output_type": "stream",
     "text": [
      "retrieving http://oracc.org/etcsri/Q001102/html\n",
      "saving http://oracc.org/etcsri/Q001102 as HTML/etcsri_Q001102.html\n"
     ]
    },
    {
     "name": "stderr",
     "output_type": "stream",
     "text": [
      "\r",
      "  9%|▉         | 130/1428 [01:03<13:08,  1.65it/s]"
     ]
    },
    {
     "name": "stdout",
     "output_type": "stream",
     "text": [
      "retrieving http://oracc.org/etcsri/Q001099/html\n",
      "saving http://oracc.org/etcsri/Q001099 as HTML/etcsri_Q001099.html\n"
     ]
    },
    {
     "name": "stderr",
     "output_type": "stream",
     "text": [
      "\r",
      "  9%|▉         | 131/1428 [01:03<12:03,  1.79it/s]"
     ]
    },
    {
     "name": "stdout",
     "output_type": "stream",
     "text": [
      "retrieving http://oracc.org/etcsri/Q001100/html\n",
      "saving http://oracc.org/etcsri/Q001100 as HTML/etcsri_Q001100.html\n"
     ]
    },
    {
     "name": "stderr",
     "output_type": "stream",
     "text": [
      "\r",
      "  9%|▉         | 132/1428 [01:04<11:03,  1.95it/s]"
     ]
    },
    {
     "name": "stdout",
     "output_type": "stream",
     "text": [
      "retrieving http://oracc.org/etcsri/Q001101/html\n",
      "saving http://oracc.org/etcsri/Q001101 as HTML/etcsri_Q001101.html\n"
     ]
    },
    {
     "name": "stderr",
     "output_type": "stream",
     "text": [
      "\r",
      "  9%|▉         | 133/1428 [01:04<11:41,  1.85it/s]"
     ]
    },
    {
     "name": "stdout",
     "output_type": "stream",
     "text": [
      "retrieving http://oracc.org/etcsri/Q001119/html\n",
      "saving http://oracc.org/etcsri/Q001119 as HTML/etcsri_Q001119.html\n"
     ]
    },
    {
     "name": "stderr",
     "output_type": "stream",
     "text": [
      "\r",
      "  9%|▉         | 134/1428 [01:05<10:28,  2.06it/s]"
     ]
    },
    {
     "name": "stdout",
     "output_type": "stream",
     "text": [
      "retrieving http://oracc.org/etcsri/Q001106/html\n",
      "saving http://oracc.org/etcsri/Q001106 as HTML/etcsri_Q001106.html\n"
     ]
    },
    {
     "name": "stderr",
     "output_type": "stream",
     "text": [
      "\r",
      "  9%|▉         | 135/1428 [01:05<09:37,  2.24it/s]"
     ]
    },
    {
     "name": "stdout",
     "output_type": "stream",
     "text": [
      "retrieving http://oracc.org/etcsri/Q001108/html\n",
      "saving http://oracc.org/etcsri/Q001108 as HTML/etcsri_Q001108.html\n"
     ]
    },
    {
     "name": "stderr",
     "output_type": "stream",
     "text": [
      "\r",
      " 10%|▉         | 136/1428 [01:06<13:22,  1.61it/s]"
     ]
    },
    {
     "name": "stdout",
     "output_type": "stream",
     "text": [
      "retrieving http://oracc.org/etcsri/Q001094/html\n",
      "saving http://oracc.org/etcsri/Q001094 as HTML/etcsri_Q001094.html\n"
     ]
    },
    {
     "name": "stderr",
     "output_type": "stream",
     "text": [
      "\r",
      " 10%|▉         | 137/1428 [01:07<13:16,  1.62it/s]"
     ]
    },
    {
     "name": "stdout",
     "output_type": "stream",
     "text": [
      "retrieving http://oracc.org/etcsri/Q001116/html\n",
      "saving http://oracc.org/etcsri/Q001116 as HTML/etcsri_Q001116.html\n"
     ]
    },
    {
     "name": "stderr",
     "output_type": "stream",
     "text": [
      "\r",
      " 10%|▉         | 138/1428 [01:07<11:39,  1.84it/s]"
     ]
    },
    {
     "name": "stdout",
     "output_type": "stream",
     "text": [
      "retrieving http://oracc.org/etcsri/Q003648/html\n",
      "saving http://oracc.org/etcsri/Q003648 as HTML/etcsri_Q003648.html\n"
     ]
    },
    {
     "name": "stderr",
     "output_type": "stream",
     "text": [
      "\r",
      " 10%|▉         | 139/1428 [01:07<10:43,  2.00it/s]"
     ]
    },
    {
     "name": "stdout",
     "output_type": "stream",
     "text": [
      "retrieving http://oracc.org/etcsri/Q003649/html\n",
      "saving http://oracc.org/etcsri/Q003649 as HTML/etcsri_Q003649.html\n"
     ]
    },
    {
     "name": "stderr",
     "output_type": "stream",
     "text": [
      "\r",
      " 10%|▉         | 140/1428 [01:08<09:49,  2.19it/s]"
     ]
    },
    {
     "name": "stdout",
     "output_type": "stream",
     "text": [
      "retrieving http://oracc.org/etcsri/Q004252/html\n",
      "saving http://oracc.org/etcsri/Q004252 as HTML/etcsri_Q004252.html\n"
     ]
    },
    {
     "name": "stderr",
     "output_type": "stream",
     "text": [
      "\r",
      " 10%|▉         | 141/1428 [01:08<10:02,  2.14it/s]"
     ]
    },
    {
     "name": "stdout",
     "output_type": "stream",
     "text": [
      "retrieving http://oracc.org/etcsri/Q001120/html\n",
      "saving http://oracc.org/etcsri/Q001120 as HTML/etcsri_Q001120.html\n"
     ]
    },
    {
     "name": "stderr",
     "output_type": "stream",
     "text": [
      "\r",
      " 10%|▉         | 142/1428 [01:09<10:01,  2.14it/s]"
     ]
    },
    {
     "name": "stdout",
     "output_type": "stream",
     "text": [
      "retrieving http://oracc.org/etcsri/Q001121/html\n",
      "saving http://oracc.org/etcsri/Q001121 as HTML/etcsri_Q001121.html\n"
     ]
    },
    {
     "name": "stderr",
     "output_type": "stream",
     "text": [
      "\r",
      " 10%|█         | 143/1428 [01:09<09:56,  2.16it/s]"
     ]
    },
    {
     "name": "stdout",
     "output_type": "stream",
     "text": [
      "retrieving http://oracc.org/etcsri/Q003650/html\n",
      "saving http://oracc.org/etcsri/Q003650 as HTML/etcsri_Q003650.html\n"
     ]
    },
    {
     "name": "stderr",
     "output_type": "stream",
     "text": [
      "\r",
      " 10%|█         | 144/1428 [01:09<09:27,  2.26it/s]"
     ]
    },
    {
     "name": "stdout",
     "output_type": "stream",
     "text": [
      "retrieving http://oracc.org/etcsri/Q001122/html\n",
      "saving http://oracc.org/etcsri/Q001122 as HTML/etcsri_Q001122.html\n"
     ]
    },
    {
     "name": "stderr",
     "output_type": "stream",
     "text": [
      "\r",
      " 10%|█         | 145/1428 [01:10<10:05,  2.12it/s]"
     ]
    },
    {
     "name": "stdout",
     "output_type": "stream",
     "text": [
      "retrieving http://oracc.org/etcsri/Q003651/html\n",
      "saving http://oracc.org/etcsri/Q003651 as HTML/etcsri_Q003651.html\n"
     ]
    },
    {
     "name": "stderr",
     "output_type": "stream",
     "text": [
      "\r",
      " 10%|█         | 146/1428 [01:10<09:08,  2.34it/s]"
     ]
    },
    {
     "name": "stdout",
     "output_type": "stream",
     "text": [
      "retrieving http://oracc.org/etcsri/Q001124/html\n",
      "saving http://oracc.org/etcsri/Q001124 as HTML/etcsri_Q001124.html\n"
     ]
    },
    {
     "name": "stderr",
     "output_type": "stream",
     "text": [
      "\r",
      " 10%|█         | 147/1428 [01:12<15:16,  1.40it/s]"
     ]
    },
    {
     "name": "stdout",
     "output_type": "stream",
     "text": [
      "retrieving http://oracc.org/etcsri/Q001123/html\n",
      "saving http://oracc.org/etcsri/Q001123 as HTML/etcsri_Q001123.html\n"
     ]
    },
    {
     "name": "stderr",
     "output_type": "stream",
     "text": [
      "\r",
      " 10%|█         | 148/1428 [01:13<15:50,  1.35it/s]"
     ]
    },
    {
     "name": "stdout",
     "output_type": "stream",
     "text": [
      "retrieving http://oracc.org/etcsri/Q004873/html\n",
      "saving http://oracc.org/etcsri/Q004873 as HTML/etcsri_Q004873.html\n"
     ]
    },
    {
     "name": "stderr",
     "output_type": "stream",
     "text": [
      "\r",
      " 10%|█         | 149/1428 [01:13<15:09,  1.41it/s]"
     ]
    },
    {
     "name": "stdout",
     "output_type": "stream",
     "text": [
      "retrieving http://oracc.org/etcsri/Q001132/html\n",
      "saving http://oracc.org/etcsri/Q001132 as HTML/etcsri_Q001132.html\n"
     ]
    },
    {
     "name": "stderr",
     "output_type": "stream",
     "text": [
      "\r",
      " 11%|█         | 150/1428 [01:14<13:44,  1.55it/s]"
     ]
    },
    {
     "name": "stdout",
     "output_type": "stream",
     "text": [
      "retrieving http://oracc.org/etcsri/Q001133/html\n",
      "saving http://oracc.org/etcsri/Q001133 as HTML/etcsri_Q001133.html\n"
     ]
    },
    {
     "name": "stderr",
     "output_type": "stream",
     "text": [
      "\r",
      " 11%|█         | 151/1428 [01:15<15:02,  1.41it/s]"
     ]
    },
    {
     "name": "stdout",
     "output_type": "stream",
     "text": [
      "retrieving http://oracc.org/etcsri/Q001130/html\n",
      "saving http://oracc.org/etcsri/Q001130 as HTML/etcsri_Q001130.html\n"
     ]
    },
    {
     "name": "stderr",
     "output_type": "stream",
     "text": [
      "\r",
      " 11%|█         | 152/1428 [01:15<13:20,  1.59it/s]"
     ]
    },
    {
     "name": "stdout",
     "output_type": "stream",
     "text": [
      "retrieving http://oracc.org/etcsri/Q001127/html\n",
      "saving http://oracc.org/etcsri/Q001127 as HTML/etcsri_Q001127.html\n"
     ]
    },
    {
     "name": "stderr",
     "output_type": "stream",
     "text": [
      "\r",
      " 11%|█         | 153/1428 [01:16<13:37,  1.56it/s]"
     ]
    },
    {
     "name": "stdout",
     "output_type": "stream",
     "text": [
      "retrieving http://oracc.org/etcsri/Q001131/html\n",
      "saving http://oracc.org/etcsri/Q001131 as HTML/etcsri_Q001131.html\n"
     ]
    },
    {
     "name": "stderr",
     "output_type": "stream",
     "text": [
      "\r",
      " 11%|█         | 154/1428 [01:16<12:11,  1.74it/s]"
     ]
    },
    {
     "name": "stdout",
     "output_type": "stream",
     "text": [
      "retrieving http://oracc.org/etcsri/Q003652/html\n",
      "saving http://oracc.org/etcsri/Q003652 as HTML/etcsri_Q003652.html\n"
     ]
    },
    {
     "name": "stderr",
     "output_type": "stream",
     "text": [
      "\r",
      " 11%|█         | 155/1428 [01:16<10:59,  1.93it/s]"
     ]
    },
    {
     "name": "stdout",
     "output_type": "stream",
     "text": [
      "retrieving http://oracc.org/etcsri/Q003653/html\n",
      "saving http://oracc.org/etcsri/Q003653 as HTML/etcsri_Q003653.html\n"
     ]
    },
    {
     "name": "stderr",
     "output_type": "stream",
     "text": [
      "\r",
      " 11%|█         | 156/1428 [01:17<09:48,  2.16it/s]"
     ]
    },
    {
     "name": "stdout",
     "output_type": "stream",
     "text": [
      "retrieving http://oracc.org/etcsri/Q001150/html\n",
      "saving http://oracc.org/etcsri/Q001150 as HTML/etcsri_Q001150.html\n"
     ]
    },
    {
     "name": "stderr",
     "output_type": "stream",
     "text": [
      "\r",
      " 11%|█         | 157/1428 [01:17<09:56,  2.13it/s]"
     ]
    },
    {
     "name": "stdout",
     "output_type": "stream",
     "text": [
      "retrieving http://oracc.org/etcsri/Q001154/html\n",
      "saving http://oracc.org/etcsri/Q001154 as HTML/etcsri_Q001154.html\n"
     ]
    },
    {
     "name": "stderr",
     "output_type": "stream",
     "text": [
      "\r",
      " 11%|█         | 158/1428 [01:18<09:15,  2.29it/s]"
     ]
    },
    {
     "name": "stdout",
     "output_type": "stream",
     "text": [
      "retrieving http://oracc.org/etcsri/Q001155/html\n",
      "saving http://oracc.org/etcsri/Q001155 as HTML/etcsri_Q001155.html\n"
     ]
    },
    {
     "name": "stderr",
     "output_type": "stream",
     "text": [
      "\r",
      " 11%|█         | 159/1428 [01:18<09:00,  2.35it/s]"
     ]
    },
    {
     "name": "stdout",
     "output_type": "stream",
     "text": [
      "retrieving http://oracc.org/etcsri/Q001156/html\n",
      "saving http://oracc.org/etcsri/Q001156 as HTML/etcsri_Q001156.html\n"
     ]
    },
    {
     "name": "stderr",
     "output_type": "stream",
     "text": [
      "\r",
      " 11%|█         | 160/1428 [01:18<08:41,  2.43it/s]"
     ]
    },
    {
     "name": "stdout",
     "output_type": "stream",
     "text": [
      "retrieving http://oracc.org/etcsri/Q001157/html\n",
      "saving http://oracc.org/etcsri/Q001157 as HTML/etcsri_Q001157.html\n"
     ]
    },
    {
     "name": "stderr",
     "output_type": "stream",
     "text": [
      "\r",
      " 11%|█▏        | 161/1428 [01:19<09:07,  2.32it/s]"
     ]
    },
    {
     "name": "stdout",
     "output_type": "stream",
     "text": [
      "retrieving http://oracc.org/etcsri/Q001158/html\n",
      "saving http://oracc.org/etcsri/Q001158 as HTML/etcsri_Q001158.html\n"
     ]
    },
    {
     "name": "stderr",
     "output_type": "stream",
     "text": [
      "\r",
      " 11%|█▏        | 162/1428 [01:19<09:34,  2.20it/s]"
     ]
    },
    {
     "name": "stdout",
     "output_type": "stream",
     "text": [
      "retrieving http://oracc.org/etcsri/Q001159/html\n",
      "saving http://oracc.org/etcsri/Q001159 as HTML/etcsri_Q001159.html\n"
     ]
    },
    {
     "name": "stderr",
     "output_type": "stream",
     "text": [
      "\r",
      " 11%|█▏        | 163/1428 [01:20<09:17,  2.27it/s]"
     ]
    },
    {
     "name": "stdout",
     "output_type": "stream",
     "text": [
      "retrieving http://oracc.org/etcsri/Q001160/html\n",
      "saving http://oracc.org/etcsri/Q001160 as HTML/etcsri_Q001160.html\n"
     ]
    },
    {
     "name": "stderr",
     "output_type": "stream",
     "text": [
      "\r",
      " 11%|█▏        | 164/1428 [01:20<09:12,  2.29it/s]"
     ]
    },
    {
     "name": "stdout",
     "output_type": "stream",
     "text": [
      "retrieving http://oracc.org/etcsri/Q001162/html\n",
      "saving http://oracc.org/etcsri/Q001162 as HTML/etcsri_Q001162.html\n"
     ]
    },
    {
     "name": "stderr",
     "output_type": "stream",
     "text": [
      "\r",
      " 12%|█▏        | 165/1428 [01:21<08:44,  2.41it/s]"
     ]
    },
    {
     "name": "stdout",
     "output_type": "stream",
     "text": [
      "retrieving http://oracc.org/etcsri/Q001163/html\n",
      "saving http://oracc.org/etcsri/Q001163 as HTML/etcsri_Q001163.html\n"
     ]
    },
    {
     "name": "stderr",
     "output_type": "stream",
     "text": [
      "\r",
      " 12%|█▏        | 166/1428 [01:21<08:10,  2.57it/s]"
     ]
    },
    {
     "name": "stdout",
     "output_type": "stream",
     "text": [
      "retrieving http://oracc.org/etcsri/Q001164/html\n",
      "saving http://oracc.org/etcsri/Q001164 as HTML/etcsri_Q001164.html\n"
     ]
    },
    {
     "name": "stderr",
     "output_type": "stream",
     "text": [
      "\r",
      " 12%|█▏        | 167/1428 [01:21<07:39,  2.75it/s]"
     ]
    },
    {
     "name": "stdout",
     "output_type": "stream",
     "text": [
      "retrieving http://oracc.org/etcsri/Q001165/html\n",
      "saving http://oracc.org/etcsri/Q001165 as HTML/etcsri_Q001165.html\n"
     ]
    },
    {
     "name": "stderr",
     "output_type": "stream",
     "text": [
      "\r",
      " 12%|█▏        | 168/1428 [01:22<07:22,  2.85it/s]"
     ]
    },
    {
     "name": "stdout",
     "output_type": "stream",
     "text": [
      "retrieving http://oracc.org/etcsri/Q001166/html\n",
      "saving http://oracc.org/etcsri/Q001166 as HTML/etcsri_Q001166.html\n"
     ]
    },
    {
     "name": "stderr",
     "output_type": "stream",
     "text": [
      "\r",
      " 12%|█▏        | 169/1428 [01:22<07:05,  2.96it/s]"
     ]
    },
    {
     "name": "stdout",
     "output_type": "stream",
     "text": [
      "retrieving http://oracc.org/etcsri/Q001167/html\n",
      "saving http://oracc.org/etcsri/Q001167 as HTML/etcsri_Q001167.html\n"
     ]
    },
    {
     "name": "stderr",
     "output_type": "stream",
     "text": [
      "\r",
      " 12%|█▏        | 170/1428 [01:22<06:57,  3.02it/s]"
     ]
    },
    {
     "name": "stdout",
     "output_type": "stream",
     "text": [
      "retrieving http://oracc.org/etcsri/Q001168/html\n",
      "saving http://oracc.org/etcsri/Q001168 as HTML/etcsri_Q001168.html\n"
     ]
    },
    {
     "name": "stderr",
     "output_type": "stream",
     "text": [
      "\r",
      " 12%|█▏        | 171/1428 [01:22<06:45,  3.10it/s]"
     ]
    },
    {
     "name": "stdout",
     "output_type": "stream",
     "text": [
      "retrieving http://oracc.org/etcsri/Q001169/html\n",
      "saving http://oracc.org/etcsri/Q001169 as HTML/etcsri_Q001169.html\n"
     ]
    },
    {
     "name": "stderr",
     "output_type": "stream",
     "text": [
      "\r",
      " 12%|█▏        | 172/1428 [01:23<06:40,  3.14it/s]"
     ]
    },
    {
     "name": "stdout",
     "output_type": "stream",
     "text": [
      "retrieving http://oracc.org/etcsri/Q001170/html\n",
      "saving http://oracc.org/etcsri/Q001170 as HTML/etcsri_Q001170.html\n"
     ]
    },
    {
     "name": "stderr",
     "output_type": "stream",
     "text": [
      "\r",
      " 12%|█▏        | 173/1428 [01:23<06:38,  3.15it/s]"
     ]
    },
    {
     "name": "stdout",
     "output_type": "stream",
     "text": [
      "retrieving http://oracc.org/etcsri/Q001172/html\n",
      "saving http://oracc.org/etcsri/Q001172 as HTML/etcsri_Q001172.html\n"
     ]
    },
    {
     "name": "stderr",
     "output_type": "stream",
     "text": [
      "\r",
      " 12%|█▏        | 174/1428 [01:24<07:39,  2.73it/s]"
     ]
    },
    {
     "name": "stdout",
     "output_type": "stream",
     "text": [
      "retrieving http://oracc.org/etcsri/Q001134/html\n",
      "saving http://oracc.org/etcsri/Q001134 as HTML/etcsri_Q001134.html\n"
     ]
    },
    {
     "name": "stderr",
     "output_type": "stream",
     "text": [
      "\r",
      " 12%|█▏        | 175/1428 [01:24<10:11,  2.05it/s]"
     ]
    },
    {
     "name": "stdout",
     "output_type": "stream",
     "text": [
      "retrieving http://oracc.org/etcsri/Q001135/html\n",
      "saving http://oracc.org/etcsri/Q001135 as HTML/etcsri_Q001135.html\n"
     ]
    },
    {
     "name": "stderr",
     "output_type": "stream",
     "text": [
      "\r",
      " 12%|█▏        | 176/1428 [01:28<29:13,  1.40s/it]"
     ]
    },
    {
     "name": "stdout",
     "output_type": "stream",
     "text": [
      "retrieving http://oracc.org/etcsri/Q001137/html\n",
      "saving http://oracc.org/etcsri/Q001137 as HTML/etcsri_Q001137.html\n"
     ]
    },
    {
     "name": "stderr",
     "output_type": "stream",
     "text": [
      "\r",
      " 12%|█▏        | 177/1428 [01:28<22:29,  1.08s/it]"
     ]
    },
    {
     "name": "stdout",
     "output_type": "stream",
     "text": [
      "retrieving http://oracc.org/etcsri/Q001138/html\n",
      "saving http://oracc.org/etcsri/Q001138 as HTML/etcsri_Q001138.html\n"
     ]
    },
    {
     "name": "stderr",
     "output_type": "stream",
     "text": [
      "\r",
      " 12%|█▏        | 178/1428 [01:29<18:13,  1.14it/s]"
     ]
    },
    {
     "name": "stdout",
     "output_type": "stream",
     "text": [
      "retrieving http://oracc.org/etcsri/Q001139/html\n",
      "saving http://oracc.org/etcsri/Q001139 as HTML/etcsri_Q001139.html\n"
     ]
    },
    {
     "name": "stderr",
     "output_type": "stream",
     "text": [
      "\r",
      " 13%|█▎        | 179/1428 [01:29<15:05,  1.38it/s]"
     ]
    },
    {
     "name": "stdout",
     "output_type": "stream",
     "text": [
      "retrieving http://oracc.org/etcsri/Q001140/html\n",
      "saving http://oracc.org/etcsri/Q001140 as HTML/etcsri_Q001140.html\n"
     ]
    },
    {
     "name": "stderr",
     "output_type": "stream",
     "text": [
      "\r",
      " 13%|█▎        | 180/1428 [01:29<12:49,  1.62it/s]"
     ]
    },
    {
     "name": "stdout",
     "output_type": "stream",
     "text": [
      "retrieving http://oracc.org/etcsri/Q001141/html\n",
      "saving http://oracc.org/etcsri/Q001141 as HTML/etcsri_Q001141.html\n"
     ]
    },
    {
     "name": "stderr",
     "output_type": "stream",
     "text": [
      "\r",
      " 13%|█▎        | 181/1428 [01:30<11:48,  1.76it/s]"
     ]
    },
    {
     "name": "stdout",
     "output_type": "stream",
     "text": [
      "retrieving http://oracc.org/etcsri/Q001142/html\n",
      "saving http://oracc.org/etcsri/Q001142 as HTML/etcsri_Q001142.html\n"
     ]
    },
    {
     "name": "stderr",
     "output_type": "stream",
     "text": [
      "\r",
      " 13%|█▎        | 182/1428 [01:30<10:21,  2.00it/s]"
     ]
    },
    {
     "name": "stdout",
     "output_type": "stream",
     "text": [
      "retrieving http://oracc.org/etcsri/Q001143/html\n",
      "saving http://oracc.org/etcsri/Q001143 as HTML/etcsri_Q001143.html\n"
     ]
    },
    {
     "name": "stderr",
     "output_type": "stream",
     "text": [
      "\r",
      " 13%|█▎        | 183/1428 [01:30<09:21,  2.22it/s]"
     ]
    },
    {
     "name": "stdout",
     "output_type": "stream",
     "text": [
      "retrieving http://oracc.org/etcsri/Q001144/html\n",
      "saving http://oracc.org/etcsri/Q001144 as HTML/etcsri_Q001144.html\n"
     ]
    },
    {
     "name": "stderr",
     "output_type": "stream",
     "text": [
      "\r",
      " 13%|█▎        | 184/1428 [01:31<09:14,  2.24it/s]"
     ]
    },
    {
     "name": "stdout",
     "output_type": "stream",
     "text": [
      "retrieving http://oracc.org/etcsri/Q001145/html\n",
      "saving http://oracc.org/etcsri/Q001145 as HTML/etcsri_Q001145.html\n"
     ]
    },
    {
     "name": "stderr",
     "output_type": "stream",
     "text": [
      "\r",
      " 13%|█▎        | 185/1428 [01:31<09:16,  2.23it/s]"
     ]
    },
    {
     "name": "stdout",
     "output_type": "stream",
     "text": [
      "retrieving http://oracc.org/etcsri/Q001146/html\n",
      "saving http://oracc.org/etcsri/Q001146 as HTML/etcsri_Q001146.html\n"
     ]
    },
    {
     "name": "stderr",
     "output_type": "stream",
     "text": [
      "\r",
      " 13%|█▎        | 186/1428 [01:32<08:30,  2.43it/s]"
     ]
    },
    {
     "name": "stdout",
     "output_type": "stream",
     "text": [
      "retrieving http://oracc.org/etcsri/Q001147/html\n",
      "saving http://oracc.org/etcsri/Q001147 as HTML/etcsri_Q001147.html\n"
     ]
    },
    {
     "name": "stderr",
     "output_type": "stream",
     "text": [
      "\r",
      " 13%|█▎        | 187/1428 [01:32<07:53,  2.62it/s]"
     ]
    },
    {
     "name": "stdout",
     "output_type": "stream",
     "text": [
      "retrieving http://oracc.org/etcsri/Q001148/html\n",
      "saving http://oracc.org/etcsri/Q001148 as HTML/etcsri_Q001148.html\n"
     ]
    },
    {
     "name": "stderr",
     "output_type": "stream",
     "text": [
      "\r",
      " 13%|█▎        | 188/1428 [01:32<07:33,  2.73it/s]"
     ]
    },
    {
     "name": "stdout",
     "output_type": "stream",
     "text": [
      "retrieving http://oracc.org/etcsri/Q001149/html\n",
      "saving http://oracc.org/etcsri/Q001149 as HTML/etcsri_Q001149.html\n"
     ]
    },
    {
     "name": "stderr",
     "output_type": "stream",
     "text": [
      "\r",
      " 13%|█▎        | 189/1428 [01:33<07:32,  2.74it/s]"
     ]
    },
    {
     "name": "stdout",
     "output_type": "stream",
     "text": [
      "retrieving http://oracc.org/etcsri/Q003655/html\n",
      "saving http://oracc.org/etcsri/Q003655 as HTML/etcsri_Q003655.html\n"
     ]
    },
    {
     "name": "stderr",
     "output_type": "stream",
     "text": [
      "\r",
      " 13%|█▎        | 190/1428 [01:33<07:26,  2.77it/s]"
     ]
    },
    {
     "name": "stdout",
     "output_type": "stream",
     "text": [
      "retrieving http://oracc.org/etcsri/Q001255/html\n",
      "saving http://oracc.org/etcsri/Q001255 as HTML/etcsri_Q001255.html\n"
     ]
    },
    {
     "name": "stderr",
     "output_type": "stream",
     "text": [
      "\r",
      " 13%|█▎        | 191/1428 [01:33<07:35,  2.71it/s]"
     ]
    },
    {
     "name": "stdout",
     "output_type": "stream",
     "text": [
      "retrieving http://oracc.org/etcsri/Q001258/html\n",
      "saving http://oracc.org/etcsri/Q001258 as HTML/etcsri_Q001258.html\n"
     ]
    },
    {
     "name": "stderr",
     "output_type": "stream",
     "text": [
      "\r",
      " 13%|█▎        | 192/1428 [01:34<08:08,  2.53it/s]"
     ]
    },
    {
     "name": "stdout",
     "output_type": "stream",
     "text": [
      "retrieving http://oracc.org/etcsri/Q001253/html\n",
      "saving http://oracc.org/etcsri/Q001253 as HTML/etcsri_Q001253.html\n"
     ]
    },
    {
     "name": "stderr",
     "output_type": "stream",
     "text": [
      "\r",
      " 14%|█▎        | 193/1428 [01:34<08:53,  2.31it/s]"
     ]
    },
    {
     "name": "stdout",
     "output_type": "stream",
     "text": [
      "retrieving http://oracc.org/etcsri/Q001254/html\n",
      "saving http://oracc.org/etcsri/Q001254 as HTML/etcsri_Q001254.html\n"
     ]
    },
    {
     "name": "stderr",
     "output_type": "stream",
     "text": [
      "\r",
      " 14%|█▎        | 194/1428 [01:35<08:31,  2.41it/s]"
     ]
    },
    {
     "name": "stdout",
     "output_type": "stream",
     "text": [
      "retrieving http://oracc.org/etcsri/Q001321/html\n",
      "saving http://oracc.org/etcsri/Q001321 as HTML/etcsri_Q001321.html\n"
     ]
    },
    {
     "name": "stderr",
     "output_type": "stream",
     "text": [
      "\r",
      " 14%|█▎        | 195/1428 [01:35<08:25,  2.44it/s]"
     ]
    },
    {
     "name": "stdout",
     "output_type": "stream",
     "text": [
      "retrieving http://oracc.org/etcsri/Q001322/html\n",
      "saving http://oracc.org/etcsri/Q001322 as HTML/etcsri_Q001322.html\n"
     ]
    },
    {
     "name": "stderr",
     "output_type": "stream",
     "text": [
      "\r",
      " 14%|█▎        | 196/1428 [01:35<07:46,  2.64it/s]"
     ]
    },
    {
     "name": "stdout",
     "output_type": "stream",
     "text": [
      "retrieving http://oracc.org/etcsri/Q001323/html\n",
      "saving http://oracc.org/etcsri/Q001323 as HTML/etcsri_Q001323.html\n"
     ]
    },
    {
     "name": "stderr",
     "output_type": "stream",
     "text": [
      "\r",
      " 14%|█▍        | 197/1428 [01:36<07:50,  2.61it/s]"
     ]
    },
    {
     "name": "stdout",
     "output_type": "stream",
     "text": [
      "retrieving http://oracc.org/etcsri/Q003656/html\n",
      "saving http://oracc.org/etcsri/Q003656 as HTML/etcsri_Q003656.html\n"
     ]
    },
    {
     "name": "stderr",
     "output_type": "stream",
     "text": [
      "\r",
      " 14%|█▍        | 198/1428 [01:36<07:29,  2.73it/s]"
     ]
    },
    {
     "name": "stdout",
     "output_type": "stream",
     "text": [
      "retrieving http://oracc.org/etcsri/Q001324/html\n",
      "saving http://oracc.org/etcsri/Q001324 as HTML/etcsri_Q001324.html\n"
     ]
    },
    {
     "name": "stderr",
     "output_type": "stream",
     "text": [
      "\r",
      " 14%|█▍        | 199/1428 [01:37<07:22,  2.78it/s]"
     ]
    },
    {
     "name": "stdout",
     "output_type": "stream",
     "text": [
      "retrieving http://oracc.org/etcsri/Q001325/html\n",
      "saving http://oracc.org/etcsri/Q001325 as HTML/etcsri_Q001325.html\n"
     ]
    },
    {
     "name": "stderr",
     "output_type": "stream",
     "text": [
      "\r",
      " 14%|█▍        | 200/1428 [01:37<08:04,  2.54it/s]"
     ]
    },
    {
     "name": "stdout",
     "output_type": "stream",
     "text": [
      "retrieving http://oracc.org/etcsri/Q001380/html\n",
      "saving http://oracc.org/etcsri/Q001380 as HTML/etcsri_Q001380.html\n"
     ]
    },
    {
     "name": "stderr",
     "output_type": "stream",
     "text": [
      "\r",
      " 14%|█▍        | 201/1428 [01:38<11:24,  1.79it/s]"
     ]
    },
    {
     "name": "stdout",
     "output_type": "stream",
     "text": [
      "retrieving http://oracc.org/etcsri/Q003657/html\n",
      "saving http://oracc.org/etcsri/Q003657 as HTML/etcsri_Q003657.html\n"
     ]
    },
    {
     "name": "stderr",
     "output_type": "stream",
     "text": [
      "\r",
      " 14%|█▍        | 202/1428 [01:38<11:03,  1.85it/s]"
     ]
    },
    {
     "name": "stdout",
     "output_type": "stream",
     "text": [
      "retrieving http://oracc.org/etcsri/Q003658/html\n",
      "saving http://oracc.org/etcsri/Q003658 as HTML/etcsri_Q003658.html\n"
     ]
    },
    {
     "name": "stderr",
     "output_type": "stream",
     "text": [
      "\r",
      " 14%|█▍        | 203/1428 [01:39<09:39,  2.11it/s]"
     ]
    },
    {
     "name": "stdout",
     "output_type": "stream",
     "text": [
      "retrieving http://oracc.org/etcsri/Q003660/html\n",
      "saving http://oracc.org/etcsri/Q003660 as HTML/etcsri_Q003660.html\n"
     ]
    },
    {
     "name": "stderr",
     "output_type": "stream",
     "text": [
      "\r",
      " 14%|█▍        | 204/1428 [01:39<08:44,  2.33it/s]"
     ]
    },
    {
     "name": "stdout",
     "output_type": "stream",
     "text": [
      "retrieving http://oracc.org/etcsri/Q003661/html\n",
      "saving http://oracc.org/etcsri/Q003661 as HTML/etcsri_Q003661.html\n"
     ]
    },
    {
     "name": "stderr",
     "output_type": "stream",
     "text": [
      "\r",
      " 14%|█▍        | 205/1428 [01:39<08:13,  2.48it/s]"
     ]
    },
    {
     "name": "stdout",
     "output_type": "stream",
     "text": [
      "retrieving http://oracc.org/etcsri/Q003662/html\n",
      "saving http://oracc.org/etcsri/Q003662 as HTML/etcsri_Q003662.html\n"
     ]
    },
    {
     "name": "stderr",
     "output_type": "stream",
     "text": [
      "\r",
      " 14%|█▍        | 206/1428 [01:40<07:47,  2.61it/s]"
     ]
    },
    {
     "name": "stdout",
     "output_type": "stream",
     "text": [
      "retrieving http://oracc.org/etcsri/Q003663/html\n",
      "saving http://oracc.org/etcsri/Q003663 as HTML/etcsri_Q003663.html\n"
     ]
    },
    {
     "name": "stderr",
     "output_type": "stream",
     "text": [
      "\r",
      " 14%|█▍        | 207/1428 [01:40<07:57,  2.56it/s]"
     ]
    },
    {
     "name": "stdout",
     "output_type": "stream",
     "text": [
      "retrieving http://oracc.org/etcsri/Q003664/html\n",
      "saving http://oracc.org/etcsri/Q003664 as HTML/etcsri_Q003664.html\n"
     ]
    },
    {
     "name": "stderr",
     "output_type": "stream",
     "text": [
      "\r",
      " 15%|█▍        | 208/1428 [01:41<08:42,  2.33it/s]"
     ]
    },
    {
     "name": "stdout",
     "output_type": "stream",
     "text": [
      "retrieving http://oracc.org/etcsri/Q001329/html\n",
      "saving http://oracc.org/etcsri/Q001329 as HTML/etcsri_Q001329.html\n"
     ]
    },
    {
     "name": "stderr",
     "output_type": "stream",
     "text": [
      "\r",
      " 15%|█▍        | 209/1428 [01:41<08:55,  2.28it/s]"
     ]
    },
    {
     "name": "stdout",
     "output_type": "stream",
     "text": [
      "retrieving http://oracc.org/etcsri/Q003665/html\n",
      "saving http://oracc.org/etcsri/Q003665 as HTML/etcsri_Q003665.html\n"
     ]
    },
    {
     "name": "stderr",
     "output_type": "stream",
     "text": [
      "\r",
      " 15%|█▍        | 210/1428 [01:41<08:11,  2.48it/s]"
     ]
    },
    {
     "name": "stdout",
     "output_type": "stream",
     "text": [
      "retrieving http://oracc.org/etcsri/Q003666/html\n",
      "saving http://oracc.org/etcsri/Q003666 as HTML/etcsri_Q003666.html\n"
     ]
    },
    {
     "name": "stderr",
     "output_type": "stream",
     "text": [
      "\r",
      " 15%|█▍        | 211/1428 [01:42<07:44,  2.62it/s]"
     ]
    },
    {
     "name": "stdout",
     "output_type": "stream",
     "text": [
      "retrieving http://oracc.org/etcsri/Q003667/html\n",
      "saving http://oracc.org/etcsri/Q003667 as HTML/etcsri_Q003667.html\n"
     ]
    },
    {
     "name": "stderr",
     "output_type": "stream",
     "text": [
      "\r",
      " 15%|█▍        | 212/1428 [01:42<07:32,  2.69it/s]"
     ]
    },
    {
     "name": "stdout",
     "output_type": "stream",
     "text": [
      "retrieving http://oracc.org/etcsri/Q001330/html\n",
      "saving http://oracc.org/etcsri/Q001330 as HTML/etcsri_Q001330.html\n"
     ]
    },
    {
     "name": "stderr",
     "output_type": "stream",
     "text": [
      "\r",
      " 15%|█▍        | 213/1428 [01:43<07:26,  2.72it/s]"
     ]
    },
    {
     "name": "stdout",
     "output_type": "stream",
     "text": [
      "retrieving http://oracc.org/etcsri/Q001335/html\n",
      "saving http://oracc.org/etcsri/Q001335 as HTML/etcsri_Q001335.html\n"
     ]
    },
    {
     "name": "stderr",
     "output_type": "stream",
     "text": [
      "\r",
      " 15%|█▍        | 214/1428 [01:43<07:26,  2.72it/s]"
     ]
    },
    {
     "name": "stdout",
     "output_type": "stream",
     "text": [
      "retrieving http://oracc.org/etcsri/Q001331/html\n",
      "saving http://oracc.org/etcsri/Q001331 as HTML/etcsri_Q001331.html\n"
     ]
    },
    {
     "name": "stderr",
     "output_type": "stream",
     "text": [
      "\r",
      " 15%|█▌        | 215/1428 [01:43<07:35,  2.66it/s]"
     ]
    },
    {
     "name": "stdout",
     "output_type": "stream",
     "text": [
      "retrieving http://oracc.org/etcsri/Q001334/html\n",
      "saving http://oracc.org/etcsri/Q001334 as HTML/etcsri_Q001334.html\n"
     ]
    },
    {
     "name": "stderr",
     "output_type": "stream",
     "text": [
      "\r",
      " 15%|█▌        | 216/1428 [01:44<07:50,  2.58it/s]"
     ]
    },
    {
     "name": "stdout",
     "output_type": "stream",
     "text": [
      "retrieving http://oracc.org/etcsri/Q001328/html\n",
      "saving http://oracc.org/etcsri/Q001328 as HTML/etcsri_Q001328.html\n"
     ]
    },
    {
     "name": "stderr",
     "output_type": "stream",
     "text": [
      "\r",
      " 15%|█▌        | 217/1428 [01:44<07:27,  2.71it/s]"
     ]
    },
    {
     "name": "stdout",
     "output_type": "stream",
     "text": [
      "retrieving http://oracc.org/etcsri/Q001337/html\n",
      "saving http://oracc.org/etcsri/Q001337 as HTML/etcsri_Q001337.html\n"
     ]
    },
    {
     "name": "stderr",
     "output_type": "stream",
     "text": [
      "\r",
      " 15%|█▌        | 218/1428 [01:44<07:05,  2.85it/s]"
     ]
    },
    {
     "name": "stdout",
     "output_type": "stream",
     "text": [
      "retrieving http://oracc.org/etcsri/Q001368/html\n",
      "saving http://oracc.org/etcsri/Q001368 as HTML/etcsri_Q001368.html\n"
     ]
    },
    {
     "name": "stderr",
     "output_type": "stream",
     "text": [
      "\r",
      " 15%|█▌        | 219/1428 [01:45<07:54,  2.55it/s]"
     ]
    },
    {
     "name": "stdout",
     "output_type": "stream",
     "text": [
      "retrieving http://oracc.org/etcsri/Q001370/html\n",
      "saving http://oracc.org/etcsri/Q001370 as HTML/etcsri_Q001370.html\n"
     ]
    },
    {
     "name": "stderr",
     "output_type": "stream",
     "text": [
      "\r",
      " 15%|█▌        | 220/1428 [01:45<08:29,  2.37it/s]"
     ]
    },
    {
     "name": "stdout",
     "output_type": "stream",
     "text": [
      "retrieving http://oracc.org/etcsri/Q001367/html\n",
      "saving http://oracc.org/etcsri/Q001367 as HTML/etcsri_Q001367.html\n"
     ]
    },
    {
     "name": "stderr",
     "output_type": "stream",
     "text": [
      "\r",
      " 15%|█▌        | 221/1428 [01:46<08:22,  2.40it/s]"
     ]
    },
    {
     "name": "stdout",
     "output_type": "stream",
     "text": [
      "retrieving http://oracc.org/etcsri/Q003668/html\n",
      "saving http://oracc.org/etcsri/Q003668 as HTML/etcsri_Q003668.html\n"
     ]
    },
    {
     "name": "stderr",
     "output_type": "stream",
     "text": [
      "\r",
      " 16%|█▌        | 222/1428 [01:46<09:05,  2.21it/s]"
     ]
    },
    {
     "name": "stdout",
     "output_type": "stream",
     "text": [
      "retrieving http://oracc.org/etcsri/Q001372/html\n",
      "saving http://oracc.org/etcsri/Q001372 as HTML/etcsri_Q001372.html\n"
     ]
    },
    {
     "name": "stderr",
     "output_type": "stream",
     "text": [
      "\r",
      " 16%|█▌        | 223/1428 [01:47<08:27,  2.37it/s]"
     ]
    },
    {
     "name": "stdout",
     "output_type": "stream",
     "text": [
      "retrieving http://oracc.org/etcsri/Q001369/html\n",
      "saving http://oracc.org/etcsri/Q001369 as HTML/etcsri_Q001369.html\n"
     ]
    },
    {
     "name": "stderr",
     "output_type": "stream",
     "text": [
      "\r",
      " 16%|█▌        | 224/1428 [01:47<08:16,  2.42it/s]"
     ]
    },
    {
     "name": "stdout",
     "output_type": "stream",
     "text": [
      "retrieving http://oracc.org/etcsri/Q003909/html\n",
      "saving http://oracc.org/etcsri/Q003909 as HTML/etcsri_Q003909.html\n"
     ]
    },
    {
     "name": "stderr",
     "output_type": "stream",
     "text": [
      "\r",
      " 16%|█▌        | 225/1428 [01:47<07:51,  2.55it/s]"
     ]
    },
    {
     "name": "stdout",
     "output_type": "stream",
     "text": [
      "retrieving http://oracc.org/etcsri/Q001374/html\n",
      "saving http://oracc.org/etcsri/Q001374 as HTML/etcsri_Q001374.html\n"
     ]
    },
    {
     "name": "stderr",
     "output_type": "stream",
     "text": [
      "\r",
      " 16%|█▌        | 226/1428 [01:48<07:47,  2.57it/s]"
     ]
    },
    {
     "name": "stdout",
     "output_type": "stream",
     "text": [
      "retrieving http://oracc.org/etcsri/Q003669/html\n",
      "saving http://oracc.org/etcsri/Q003669 as HTML/etcsri_Q003669.html\n"
     ]
    },
    {
     "name": "stderr",
     "output_type": "stream",
     "text": [
      "\r",
      " 16%|█▌        | 227/1428 [01:48<07:36,  2.63it/s]"
     ]
    },
    {
     "name": "stdout",
     "output_type": "stream",
     "text": [
      "retrieving http://oracc.org/etcsri/Q001376/html\n",
      "saving http://oracc.org/etcsri/Q001376 as HTML/etcsri_Q001376.html\n"
     ]
    },
    {
     "name": "stderr",
     "output_type": "stream",
     "text": [
      "\r",
      " 16%|█▌        | 228/1428 [01:48<07:29,  2.67it/s]"
     ]
    },
    {
     "name": "stdout",
     "output_type": "stream",
     "text": [
      "retrieving http://oracc.org/etcsri/Q001250/html\n",
      "saving http://oracc.org/etcsri/Q001250 as HTML/etcsri_Q001250.html\n"
     ]
    },
    {
     "name": "stderr",
     "output_type": "stream",
     "text": [
      "\r",
      " 16%|█▌        | 229/1428 [01:49<07:19,  2.73it/s]"
     ]
    },
    {
     "name": "stdout",
     "output_type": "stream",
     "text": [
      "retrieving http://oracc.org/etcsri/Q001362/html\n",
      "saving http://oracc.org/etcsri/Q001362 as HTML/etcsri_Q001362.html\n"
     ]
    },
    {
     "name": "stderr",
     "output_type": "stream",
     "text": [
      "\r",
      " 16%|█▌        | 230/1428 [01:49<09:02,  2.21it/s]"
     ]
    },
    {
     "name": "stdout",
     "output_type": "stream",
     "text": [
      "retrieving http://oracc.org/etcsri/Q001363/html\n",
      "saving http://oracc.org/etcsri/Q001363 as HTML/etcsri_Q001363.html\n"
     ]
    },
    {
     "name": "stderr",
     "output_type": "stream",
     "text": [
      "\r",
      " 16%|█▌        | 231/1428 [01:50<10:14,  1.95it/s]"
     ]
    },
    {
     "name": "stdout",
     "output_type": "stream",
     "text": [
      "retrieving http://oracc.org/etcsri/Q001366/html\n",
      "saving http://oracc.org/etcsri/Q001366 as HTML/etcsri_Q001366.html\n"
     ]
    },
    {
     "name": "stderr",
     "output_type": "stream",
     "text": [
      "\r",
      " 16%|█▌        | 232/1428 [01:50<09:31,  2.09it/s]"
     ]
    },
    {
     "name": "stdout",
     "output_type": "stream",
     "text": [
      "retrieving http://oracc.org/etcsri/Q001365/html\n",
      "saving http://oracc.org/etcsri/Q001365 as HTML/etcsri_Q001365.html\n"
     ]
    },
    {
     "name": "stderr",
     "output_type": "stream",
     "text": [
      "\r",
      " 16%|█▋        | 233/1428 [01:51<09:30,  2.09it/s]"
     ]
    },
    {
     "name": "stdout",
     "output_type": "stream",
     "text": [
      "retrieving http://oracc.org/etcsri/Q004864/html\n",
      "saving http://oracc.org/etcsri/Q004864 as HTML/etcsri_Q004864.html\n"
     ]
    },
    {
     "name": "stderr",
     "output_type": "stream",
     "text": [
      "\r",
      " 16%|█▋        | 234/1428 [01:51<08:57,  2.22it/s]"
     ]
    },
    {
     "name": "stdout",
     "output_type": "stream",
     "text": [
      "retrieving http://oracc.org/etcsri/Q001379/html\n",
      "saving http://oracc.org/etcsri/Q001379 as HTML/etcsri_Q001379.html\n"
     ]
    },
    {
     "name": "stderr",
     "output_type": "stream",
     "text": [
      "\r",
      " 16%|█▋        | 235/1428 [01:52<11:34,  1.72it/s]"
     ]
    },
    {
     "name": "stdout",
     "output_type": "stream",
     "text": [
      "retrieving http://oracc.org/etcsri/Q001381/html\n",
      "saving http://oracc.org/etcsri/Q001381 as HTML/etcsri_Q001381.html\n"
     ]
    },
    {
     "name": "stderr",
     "output_type": "stream",
     "text": [
      "\r",
      " 17%|█▋        | 236/1428 [01:53<10:08,  1.96it/s]"
     ]
    },
    {
     "name": "stdout",
     "output_type": "stream",
     "text": [
      "retrieving http://oracc.org/etcsri/Q001223/html\n",
      "saving http://oracc.org/etcsri/Q001223 as HTML/etcsri_Q001223.html\n"
     ]
    },
    {
     "name": "stderr",
     "output_type": "stream",
     "text": [
      "\r",
      " 17%|█▋        | 237/1428 [01:53<09:02,  2.19it/s]"
     ]
    },
    {
     "name": "stdout",
     "output_type": "stream",
     "text": [
      "retrieving http://oracc.org/etcsri/Q001224/html\n",
      "saving http://oracc.org/etcsri/Q001224 as HTML/etcsri_Q001224.html\n"
     ]
    },
    {
     "name": "stderr",
     "output_type": "stream",
     "text": [
      "\r",
      " 17%|█▋        | 238/1428 [01:53<08:17,  2.39it/s]"
     ]
    },
    {
     "name": "stdout",
     "output_type": "stream",
     "text": [
      "retrieving http://oracc.org/etcsri/Q001173/html\n",
      "saving http://oracc.org/etcsri/Q001173 as HTML/etcsri_Q001173.html\n"
     ]
    },
    {
     "name": "stderr",
     "output_type": "stream",
     "text": [
      "\r",
      " 17%|█▋        | 239/1428 [01:54<08:10,  2.42it/s]"
     ]
    },
    {
     "name": "stdout",
     "output_type": "stream",
     "text": [
      "retrieving http://oracc.org/etcsri/Q001174/html\n",
      "saving http://oracc.org/etcsri/Q001174 as HTML/etcsri_Q001174.html\n"
     ]
    },
    {
     "name": "stderr",
     "output_type": "stream",
     "text": [
      "\r",
      " 17%|█▋        | 240/1428 [01:54<07:42,  2.57it/s]"
     ]
    },
    {
     "name": "stdout",
     "output_type": "stream",
     "text": [
      "retrieving http://oracc.org/etcsri/Q001176/html\n",
      "saving http://oracc.org/etcsri/Q001176 as HTML/etcsri_Q001176.html\n"
     ]
    },
    {
     "name": "stderr",
     "output_type": "stream",
     "text": [
      "\r",
      " 17%|█▋        | 241/1428 [01:54<07:17,  2.71it/s]"
     ]
    },
    {
     "name": "stdout",
     "output_type": "stream",
     "text": [
      "retrieving http://oracc.org/etcsri/Q001177/html\n",
      "saving http://oracc.org/etcsri/Q001177 as HTML/etcsri_Q001177.html\n"
     ]
    },
    {
     "name": "stderr",
     "output_type": "stream",
     "text": [
      "\r",
      " 17%|█▋        | 242/1428 [01:55<07:11,  2.75it/s]"
     ]
    },
    {
     "name": "stdout",
     "output_type": "stream",
     "text": [
      "retrieving http://oracc.org/etcsri/Q001178/html\n",
      "saving http://oracc.org/etcsri/Q001178 as HTML/etcsri_Q001178.html\n"
     ]
    },
    {
     "name": "stderr",
     "output_type": "stream",
     "text": [
      "\r",
      " 17%|█▋        | 243/1428 [01:55<07:01,  2.81it/s]"
     ]
    },
    {
     "name": "stdout",
     "output_type": "stream",
     "text": [
      "retrieving http://oracc.org/etcsri/Q001179/html\n",
      "saving http://oracc.org/etcsri/Q001179 as HTML/etcsri_Q001179.html\n"
     ]
    },
    {
     "name": "stderr",
     "output_type": "stream",
     "text": [
      "\r",
      " 17%|█▋        | 244/1428 [01:55<07:01,  2.81it/s]"
     ]
    },
    {
     "name": "stdout",
     "output_type": "stream",
     "text": [
      "retrieving http://oracc.org/etcsri/Q001181/html\n",
      "saving http://oracc.org/etcsri/Q001181 as HTML/etcsri_Q001181.html\n"
     ]
    },
    {
     "name": "stderr",
     "output_type": "stream",
     "text": [
      "\r",
      " 17%|█▋        | 245/1428 [01:56<07:32,  2.62it/s]"
     ]
    },
    {
     "name": "stdout",
     "output_type": "stream",
     "text": [
      "retrieving http://oracc.org/etcsri/Q001184/html\n",
      "saving http://oracc.org/etcsri/Q001184 as HTML/etcsri_Q001184.html\n"
     ]
    },
    {
     "name": "stderr",
     "output_type": "stream",
     "text": [
      "\r",
      " 17%|█▋        | 246/1428 [01:56<07:36,  2.59it/s]"
     ]
    },
    {
     "name": "stdout",
     "output_type": "stream",
     "text": [
      "retrieving http://oracc.org/etcsri/Q001185/html\n",
      "saving http://oracc.org/etcsri/Q001185 as HTML/etcsri_Q001185.html\n"
     ]
    },
    {
     "name": "stderr",
     "output_type": "stream",
     "text": [
      "\r",
      " 17%|█▋        | 247/1428 [01:57<07:41,  2.56it/s]"
     ]
    },
    {
     "name": "stdout",
     "output_type": "stream",
     "text": [
      "retrieving http://oracc.org/etcsri/Q001187/html\n",
      "saving http://oracc.org/etcsri/Q001187 as HTML/etcsri_Q001187.html\n"
     ]
    },
    {
     "name": "stderr",
     "output_type": "stream",
     "text": [
      "\r",
      " 17%|█▋        | 248/1428 [01:57<07:44,  2.54it/s]"
     ]
    },
    {
     "name": "stdout",
     "output_type": "stream",
     "text": [
      "retrieving http://oracc.org/etcsri/Q001186/html\n",
      "saving http://oracc.org/etcsri/Q001186 as HTML/etcsri_Q001186.html\n"
     ]
    },
    {
     "name": "stderr",
     "output_type": "stream",
     "text": [
      "\r",
      " 17%|█▋        | 249/1428 [01:57<07:20,  2.68it/s]"
     ]
    },
    {
     "name": "stdout",
     "output_type": "stream",
     "text": [
      "retrieving http://oracc.org/etcsri/Q001188/html\n",
      "saving http://oracc.org/etcsri/Q001188 as HTML/etcsri_Q001188.html\n"
     ]
    },
    {
     "name": "stderr",
     "output_type": "stream",
     "text": [
      "\r",
      " 18%|█▊        | 250/1428 [01:58<07:10,  2.74it/s]"
     ]
    },
    {
     "name": "stdout",
     "output_type": "stream",
     "text": [
      "retrieving http://oracc.org/etcsri/Q001189/html\n",
      "saving http://oracc.org/etcsri/Q001189 as HTML/etcsri_Q001189.html\n"
     ]
    },
    {
     "name": "stderr",
     "output_type": "stream",
     "text": [
      "\r",
      " 18%|█▊        | 251/1428 [01:58<07:19,  2.68it/s]"
     ]
    },
    {
     "name": "stdout",
     "output_type": "stream",
     "text": [
      "retrieving http://oracc.org/etcsri/Q001190/html\n",
      "saving http://oracc.org/etcsri/Q001190 as HTML/etcsri_Q001190.html\n"
     ]
    },
    {
     "name": "stderr",
     "output_type": "stream",
     "text": [
      "\r",
      " 18%|█▊        | 252/1428 [01:58<07:26,  2.63it/s]"
     ]
    },
    {
     "name": "stdout",
     "output_type": "stream",
     "text": [
      "retrieving http://oracc.org/etcsri/Q001191/html\n",
      "saving http://oracc.org/etcsri/Q001191 as HTML/etcsri_Q001191.html\n"
     ]
    },
    {
     "name": "stderr",
     "output_type": "stream",
     "text": [
      "\r",
      " 18%|█▊        | 253/1428 [01:59<07:45,  2.52it/s]"
     ]
    },
    {
     "name": "stdout",
     "output_type": "stream",
     "text": [
      "retrieving http://oracc.org/etcsri/Q001192/html\n",
      "saving http://oracc.org/etcsri/Q001192 as HTML/etcsri_Q001192.html\n"
     ]
    },
    {
     "name": "stderr",
     "output_type": "stream",
     "text": [
      "\r",
      " 18%|█▊        | 254/1428 [01:59<08:11,  2.39it/s]"
     ]
    },
    {
     "name": "stdout",
     "output_type": "stream",
     "text": [
      "retrieving http://oracc.org/etcsri/Q001193/html\n",
      "saving http://oracc.org/etcsri/Q001193 as HTML/etcsri_Q001193.html\n"
     ]
    },
    {
     "name": "stderr",
     "output_type": "stream",
     "text": [
      "\r",
      " 18%|█▊        | 255/1428 [02:00<08:09,  2.39it/s]"
     ]
    },
    {
     "name": "stdout",
     "output_type": "stream",
     "text": [
      "retrieving http://oracc.org/etcsri/Q001194/html\n",
      "saving http://oracc.org/etcsri/Q001194 as HTML/etcsri_Q001194.html\n"
     ]
    },
    {
     "name": "stderr",
     "output_type": "stream",
     "text": [
      "\r",
      " 18%|█▊        | 256/1428 [02:00<07:43,  2.53it/s]"
     ]
    },
    {
     "name": "stdout",
     "output_type": "stream",
     "text": [
      "retrieving http://oracc.org/etcsri/Q004167/html\n",
      "saving http://oracc.org/etcsri/Q004167 as HTML/etcsri_Q004167.html\n"
     ]
    },
    {
     "name": "stderr",
     "output_type": "stream",
     "text": [
      "\r",
      " 18%|█▊        | 257/1428 [02:00<07:21,  2.65it/s]"
     ]
    },
    {
     "name": "stdout",
     "output_type": "stream",
     "text": [
      "retrieving http://oracc.org/etcsri/Q001195/html\n",
      "saving http://oracc.org/etcsri/Q001195 as HTML/etcsri_Q001195.html\n"
     ]
    },
    {
     "name": "stderr",
     "output_type": "stream",
     "text": [
      "\r",
      " 18%|█▊        | 258/1428 [02:01<07:10,  2.72it/s]"
     ]
    },
    {
     "name": "stdout",
     "output_type": "stream",
     "text": [
      "retrieving http://oracc.org/etcsri/Q001259/html\n",
      "saving http://oracc.org/etcsri/Q001259 as HTML/etcsri_Q001259.html\n"
     ]
    },
    {
     "name": "stderr",
     "output_type": "stream",
     "text": [
      "\r",
      " 18%|█▊        | 259/1428 [02:01<07:17,  2.67it/s]"
     ]
    },
    {
     "name": "stdout",
     "output_type": "stream",
     "text": [
      "retrieving http://oracc.org/etcsri/Q001260/html\n",
      "saving http://oracc.org/etcsri/Q001260 as HTML/etcsri_Q001260.html\n"
     ]
    },
    {
     "name": "stderr",
     "output_type": "stream",
     "text": [
      "\r",
      " 18%|█▊        | 260/1428 [02:02<07:28,  2.61it/s]"
     ]
    },
    {
     "name": "stdout",
     "output_type": "stream",
     "text": [
      "retrieving http://oracc.org/etcsri/Q001262/html\n",
      "saving http://oracc.org/etcsri/Q001262 as HTML/etcsri_Q001262.html\n"
     ]
    },
    {
     "name": "stderr",
     "output_type": "stream",
     "text": [
      "\r",
      " 18%|█▊        | 261/1428 [02:02<07:22,  2.64it/s]"
     ]
    },
    {
     "name": "stdout",
     "output_type": "stream",
     "text": [
      "retrieving http://oracc.org/etcsri/Q001263/html\n",
      "saving http://oracc.org/etcsri/Q001263 as HTML/etcsri_Q001263.html\n"
     ]
    },
    {
     "name": "stderr",
     "output_type": "stream",
     "text": [
      "\r",
      " 18%|█▊        | 262/1428 [02:02<07:12,  2.70it/s]"
     ]
    },
    {
     "name": "stdout",
     "output_type": "stream",
     "text": [
      "retrieving http://oracc.org/etcsri/Q001264/html\n",
      "saving http://oracc.org/etcsri/Q001264 as HTML/etcsri_Q001264.html\n"
     ]
    },
    {
     "name": "stderr",
     "output_type": "stream",
     "text": [
      "\r",
      " 18%|█▊        | 263/1428 [02:03<07:12,  2.70it/s]"
     ]
    },
    {
     "name": "stdout",
     "output_type": "stream",
     "text": [
      "retrieving http://oracc.org/etcsri/Q001265/html\n",
      "saving http://oracc.org/etcsri/Q001265 as HTML/etcsri_Q001265.html\n"
     ]
    },
    {
     "name": "stderr",
     "output_type": "stream",
     "text": [
      "\r",
      " 18%|█▊        | 264/1428 [02:03<08:28,  2.29it/s]"
     ]
    },
    {
     "name": "stdout",
     "output_type": "stream",
     "text": [
      "retrieving http://oracc.org/etcsri/Q001266/html\n",
      "saving http://oracc.org/etcsri/Q001266 as HTML/etcsri_Q001266.html\n"
     ]
    },
    {
     "name": "stderr",
     "output_type": "stream",
     "text": [
      "\r",
      " 19%|█▊        | 265/1428 [02:04<08:19,  2.33it/s]"
     ]
    },
    {
     "name": "stdout",
     "output_type": "stream",
     "text": [
      "retrieving http://oracc.org/etcsri/Q001267/html\n",
      "saving http://oracc.org/etcsri/Q001267 as HTML/etcsri_Q001267.html\n"
     ]
    },
    {
     "name": "stderr",
     "output_type": "stream",
     "text": [
      "\r",
      " 19%|█▊        | 266/1428 [02:04<08:00,  2.42it/s]"
     ]
    },
    {
     "name": "stdout",
     "output_type": "stream",
     "text": [
      "retrieving http://oracc.org/etcsri/Q001268/html\n",
      "saving http://oracc.org/etcsri/Q001268 as HTML/etcsri_Q001268.html\n"
     ]
    },
    {
     "name": "stderr",
     "output_type": "stream",
     "text": [
      "\r",
      " 19%|█▊        | 267/1428 [02:04<07:29,  2.58it/s]"
     ]
    },
    {
     "name": "stdout",
     "output_type": "stream",
     "text": [
      "retrieving http://oracc.org/etcsri/Q001269/html\n",
      "saving http://oracc.org/etcsri/Q001269 as HTML/etcsri_Q001269.html\n"
     ]
    },
    {
     "name": "stderr",
     "output_type": "stream",
     "text": [
      "\r",
      " 19%|█▉        | 268/1428 [02:05<07:34,  2.55it/s]"
     ]
    },
    {
     "name": "stdout",
     "output_type": "stream",
     "text": [
      "retrieving http://oracc.org/etcsri/Q001270/html\n",
      "saving http://oracc.org/etcsri/Q001270 as HTML/etcsri_Q001270.html\n"
     ]
    },
    {
     "name": "stderr",
     "output_type": "stream",
     "text": [
      "\r",
      " 19%|█▉        | 269/1428 [02:05<07:32,  2.56it/s]"
     ]
    },
    {
     "name": "stdout",
     "output_type": "stream",
     "text": [
      "retrieving http://oracc.org/etcsri/Q001271/html\n",
      "saving http://oracc.org/etcsri/Q001271 as HTML/etcsri_Q001271.html\n"
     ]
    },
    {
     "name": "stderr",
     "output_type": "stream",
     "text": [
      "\r",
      " 19%|█▉        | 270/1428 [02:06<07:11,  2.68it/s]"
     ]
    },
    {
     "name": "stdout",
     "output_type": "stream",
     "text": [
      "retrieving http://oracc.org/etcsri/Q001272/html\n",
      "saving http://oracc.org/etcsri/Q001272 as HTML/etcsri_Q001272.html\n"
     ]
    },
    {
     "name": "stderr",
     "output_type": "stream",
     "text": [
      "\r",
      " 19%|█▉        | 271/1428 [02:06<07:19,  2.63it/s]"
     ]
    },
    {
     "name": "stdout",
     "output_type": "stream",
     "text": [
      "retrieving http://oracc.org/etcsri/Q001274/html\n",
      "saving http://oracc.org/etcsri/Q001274 as HTML/etcsri_Q001274.html\n"
     ]
    },
    {
     "name": "stderr",
     "output_type": "stream",
     "text": [
      "\r",
      " 19%|█▉        | 272/1428 [02:06<07:02,  2.74it/s]"
     ]
    },
    {
     "name": "stdout",
     "output_type": "stream",
     "text": [
      "retrieving http://oracc.org/etcsri/Q001275/html\n",
      "saving http://oracc.org/etcsri/Q001275 as HTML/etcsri_Q001275.html\n"
     ]
    },
    {
     "name": "stderr",
     "output_type": "stream",
     "text": [
      "\r",
      " 19%|█▉        | 273/1428 [02:07<08:00,  2.40it/s]"
     ]
    },
    {
     "name": "stdout",
     "output_type": "stream",
     "text": [
      "retrieving http://oracc.org/etcsri/Q001276/html\n",
      "saving http://oracc.org/etcsri/Q001276 as HTML/etcsri_Q001276.html\n"
     ]
    },
    {
     "name": "stderr",
     "output_type": "stream",
     "text": [
      "\r",
      " 19%|█▉        | 274/1428 [02:07<07:27,  2.58it/s]"
     ]
    },
    {
     "name": "stdout",
     "output_type": "stream",
     "text": [
      "retrieving http://oracc.org/etcsri/Q001277/html\n",
      "saving http://oracc.org/etcsri/Q001277 as HTML/etcsri_Q001277.html\n"
     ]
    },
    {
     "name": "stderr",
     "output_type": "stream",
     "text": [
      "\r",
      " 19%|█▉        | 275/1428 [02:07<07:25,  2.59it/s]"
     ]
    },
    {
     "name": "stdout",
     "output_type": "stream",
     "text": [
      "retrieving http://oracc.org/etcsri/Q001278/html\n",
      "saving http://oracc.org/etcsri/Q001278 as HTML/etcsri_Q001278.html\n"
     ]
    },
    {
     "name": "stderr",
     "output_type": "stream",
     "text": [
      "\r",
      " 19%|█▉        | 276/1428 [02:08<07:19,  2.62it/s]"
     ]
    },
    {
     "name": "stdout",
     "output_type": "stream",
     "text": [
      "retrieving http://oracc.org/etcsri/Q001279/html\n",
      "saving http://oracc.org/etcsri/Q001279 as HTML/etcsri_Q001279.html\n"
     ]
    },
    {
     "name": "stderr",
     "output_type": "stream",
     "text": [
      "\r",
      " 19%|█▉        | 277/1428 [02:08<07:49,  2.45it/s]"
     ]
    },
    {
     "name": "stdout",
     "output_type": "stream",
     "text": [
      "retrieving http://oracc.org/etcsri/Q001280/html\n",
      "saving http://oracc.org/etcsri/Q001280 as HTML/etcsri_Q001280.html\n"
     ]
    },
    {
     "name": "stderr",
     "output_type": "stream",
     "text": [
      "\r",
      " 19%|█▉        | 278/1428 [02:09<07:20,  2.61it/s]"
     ]
    },
    {
     "name": "stdout",
     "output_type": "stream",
     "text": [
      "retrieving http://oracc.org/etcsri/Q001281/html\n",
      "saving http://oracc.org/etcsri/Q001281 as HTML/etcsri_Q001281.html\n"
     ]
    },
    {
     "name": "stderr",
     "output_type": "stream",
     "text": [
      "\r",
      " 20%|█▉        | 279/1428 [02:09<07:03,  2.71it/s]"
     ]
    },
    {
     "name": "stdout",
     "output_type": "stream",
     "text": [
      "retrieving http://oracc.org/etcsri/Q001282/html\n",
      "saving http://oracc.org/etcsri/Q001282 as HTML/etcsri_Q001282.html\n"
     ]
    },
    {
     "name": "stderr",
     "output_type": "stream",
     "text": [
      "\r",
      " 20%|█▉        | 280/1428 [02:09<06:46,  2.82it/s]"
     ]
    },
    {
     "name": "stdout",
     "output_type": "stream",
     "text": [
      "retrieving http://oracc.org/etcsri/Q001283/html\n",
      "saving http://oracc.org/etcsri/Q001283 as HTML/etcsri_Q001283.html\n"
     ]
    },
    {
     "name": "stderr",
     "output_type": "stream",
     "text": [
      "\r",
      " 20%|█▉        | 281/1428 [02:10<07:18,  2.62it/s]"
     ]
    },
    {
     "name": "stdout",
     "output_type": "stream",
     "text": [
      "retrieving http://oracc.org/etcsri/Q001284/html\n",
      "saving http://oracc.org/etcsri/Q001284 as HTML/etcsri_Q001284.html\n"
     ]
    },
    {
     "name": "stderr",
     "output_type": "stream",
     "text": [
      "\r",
      " 20%|█▉        | 282/1428 [02:10<07:54,  2.41it/s]"
     ]
    },
    {
     "name": "stdout",
     "output_type": "stream",
     "text": [
      "retrieving http://oracc.org/etcsri/Q001285/html\n",
      "saving http://oracc.org/etcsri/Q001285 as HTML/etcsri_Q001285.html\n"
     ]
    },
    {
     "name": "stderr",
     "output_type": "stream",
     "text": [
      "\r",
      " 20%|█▉        | 283/1428 [02:11<08:02,  2.37it/s]"
     ]
    },
    {
     "name": "stdout",
     "output_type": "stream",
     "text": [
      "retrieving http://oracc.org/etcsri/Q001286/html\n",
      "saving http://oracc.org/etcsri/Q001286 as HTML/etcsri_Q001286.html\n"
     ]
    },
    {
     "name": "stderr",
     "output_type": "stream",
     "text": [
      "\r",
      " 20%|█▉        | 284/1428 [02:11<07:40,  2.48it/s]"
     ]
    },
    {
     "name": "stdout",
     "output_type": "stream",
     "text": [
      "retrieving http://oracc.org/etcsri/Q001287/html\n",
      "saving http://oracc.org/etcsri/Q001287 as HTML/etcsri_Q001287.html\n"
     ]
    },
    {
     "name": "stderr",
     "output_type": "stream",
     "text": [
      "\r",
      " 20%|█▉        | 285/1428 [02:11<07:56,  2.40it/s]"
     ]
    },
    {
     "name": "stdout",
     "output_type": "stream",
     "text": [
      "retrieving http://oracc.org/etcsri/Q001288/html\n",
      "saving http://oracc.org/etcsri/Q001288 as HTML/etcsri_Q001288.html\n"
     ]
    },
    {
     "name": "stderr",
     "output_type": "stream",
     "text": [
      "\r",
      " 20%|██        | 286/1428 [02:12<07:47,  2.45it/s]"
     ]
    },
    {
     "name": "stdout",
     "output_type": "stream",
     "text": [
      "retrieving http://oracc.org/etcsri/Q001289/html\n",
      "saving http://oracc.org/etcsri/Q001289 as HTML/etcsri_Q001289.html\n"
     ]
    },
    {
     "name": "stderr",
     "output_type": "stream",
     "text": [
      "\r",
      " 20%|██        | 287/1428 [02:12<07:14,  2.62it/s]"
     ]
    },
    {
     "name": "stdout",
     "output_type": "stream",
     "text": [
      "retrieving http://oracc.org/etcsri/Q001290/html\n",
      "saving http://oracc.org/etcsri/Q001290 as HTML/etcsri_Q001290.html\n"
     ]
    },
    {
     "name": "stderr",
     "output_type": "stream",
     "text": [
      "\r",
      " 20%|██        | 288/1428 [02:13<07:22,  2.58it/s]"
     ]
    },
    {
     "name": "stdout",
     "output_type": "stream",
     "text": [
      "retrieving http://oracc.org/etcsri/Q001291/html\n",
      "saving http://oracc.org/etcsri/Q001291 as HTML/etcsri_Q001291.html\n"
     ]
    },
    {
     "name": "stderr",
     "output_type": "stream",
     "text": [
      "\r",
      " 20%|██        | 289/1428 [02:13<07:05,  2.68it/s]"
     ]
    },
    {
     "name": "stdout",
     "output_type": "stream",
     "text": [
      "retrieving http://oracc.org/etcsri/Q001292/html\n",
      "saving http://oracc.org/etcsri/Q001292 as HTML/etcsri_Q001292.html\n"
     ]
    },
    {
     "name": "stderr",
     "output_type": "stream",
     "text": [
      "\r",
      " 20%|██        | 290/1428 [02:13<06:48,  2.79it/s]"
     ]
    },
    {
     "name": "stdout",
     "output_type": "stream",
     "text": [
      "retrieving http://oracc.org/etcsri/Q001293/html\n",
      "saving http://oracc.org/etcsri/Q001293 as HTML/etcsri_Q001293.html\n"
     ]
    },
    {
     "name": "stderr",
     "output_type": "stream",
     "text": [
      "\r",
      " 20%|██        | 291/1428 [02:14<08:07,  2.33it/s]"
     ]
    },
    {
     "name": "stdout",
     "output_type": "stream",
     "text": [
      "retrieving http://oracc.org/etcsri/Q001294/html\n",
      "saving http://oracc.org/etcsri/Q001294 as HTML/etcsri_Q001294.html\n"
     ]
    },
    {
     "name": "stderr",
     "output_type": "stream",
     "text": [
      "\r",
      " 20%|██        | 292/1428 [02:14<07:33,  2.50it/s]"
     ]
    },
    {
     "name": "stdout",
     "output_type": "stream",
     "text": [
      "retrieving http://oracc.org/etcsri/Q001295/html\n",
      "saving http://oracc.org/etcsri/Q001295 as HTML/etcsri_Q001295.html\n"
     ]
    },
    {
     "name": "stderr",
     "output_type": "stream",
     "text": [
      "\r",
      " 21%|██        | 293/1428 [02:15<07:25,  2.55it/s]"
     ]
    },
    {
     "name": "stdout",
     "output_type": "stream",
     "text": [
      "retrieving http://oracc.org/etcsri/Q001296/html\n",
      "saving http://oracc.org/etcsri/Q001296 as HTML/etcsri_Q001296.html\n"
     ]
    },
    {
     "name": "stderr",
     "output_type": "stream",
     "text": [
      "\r",
      " 21%|██        | 294/1428 [02:15<07:03,  2.68it/s]"
     ]
    },
    {
     "name": "stdout",
     "output_type": "stream",
     "text": [
      "retrieving http://oracc.org/etcsri/Q001297/html\n",
      "saving http://oracc.org/etcsri/Q001297 as HTML/etcsri_Q001297.html\n"
     ]
    },
    {
     "name": "stderr",
     "output_type": "stream",
     "text": [
      "\r",
      " 21%|██        | 295/1428 [02:15<07:18,  2.58it/s]"
     ]
    },
    {
     "name": "stdout",
     "output_type": "stream",
     "text": [
      "retrieving http://oracc.org/etcsri/Q001298/html\n",
      "saving http://oracc.org/etcsri/Q001298 as HTML/etcsri_Q001298.html\n"
     ]
    },
    {
     "name": "stderr",
     "output_type": "stream",
     "text": [
      "\r",
      " 21%|██        | 296/1428 [02:16<07:24,  2.55it/s]"
     ]
    },
    {
     "name": "stdout",
     "output_type": "stream",
     "text": [
      "retrieving http://oracc.org/etcsri/Q001299/html\n",
      "saving http://oracc.org/etcsri/Q001299 as HTML/etcsri_Q001299.html\n"
     ]
    },
    {
     "name": "stderr",
     "output_type": "stream",
     "text": [
      "\r",
      " 21%|██        | 297/1428 [02:16<06:59,  2.69it/s]"
     ]
    },
    {
     "name": "stdout",
     "output_type": "stream",
     "text": [
      "retrieving http://oracc.org/etcsri/Q001300/html\n",
      "saving http://oracc.org/etcsri/Q001300 as HTML/etcsri_Q001300.html\n"
     ]
    },
    {
     "name": "stderr",
     "output_type": "stream",
     "text": [
      "\r",
      " 21%|██        | 298/1428 [02:16<07:03,  2.67it/s]"
     ]
    },
    {
     "name": "stdout",
     "output_type": "stream",
     "text": [
      "retrieving http://oracc.org/etcsri/Q001301/html\n",
      "saving http://oracc.org/etcsri/Q001301 as HTML/etcsri_Q001301.html\n"
     ]
    },
    {
     "name": "stderr",
     "output_type": "stream",
     "text": [
      "\r",
      " 21%|██        | 299/1428 [02:17<07:07,  2.64it/s]"
     ]
    },
    {
     "name": "stdout",
     "output_type": "stream",
     "text": [
      "retrieving http://oracc.org/etcsri/Q001303/html\n",
      "saving http://oracc.org/etcsri/Q001303 as HTML/etcsri_Q001303.html\n"
     ]
    },
    {
     "name": "stderr",
     "output_type": "stream",
     "text": [
      "\r",
      " 21%|██        | 300/1428 [02:17<06:58,  2.69it/s]"
     ]
    },
    {
     "name": "stdout",
     "output_type": "stream",
     "text": [
      "retrieving http://oracc.org/etcsri/Q001304/html\n",
      "saving http://oracc.org/etcsri/Q001304 as HTML/etcsri_Q001304.html\n"
     ]
    },
    {
     "name": "stderr",
     "output_type": "stream",
     "text": [
      "\r",
      " 21%|██        | 301/1428 [02:17<06:41,  2.81it/s]"
     ]
    },
    {
     "name": "stdout",
     "output_type": "stream",
     "text": [
      "retrieving http://oracc.org/etcsri/Q001306/html\n",
      "saving http://oracc.org/etcsri/Q001306 as HTML/etcsri_Q001306.html\n"
     ]
    },
    {
     "name": "stderr",
     "output_type": "stream",
     "text": [
      "\r",
      " 21%|██        | 302/1428 [02:18<06:31,  2.87it/s]"
     ]
    },
    {
     "name": "stdout",
     "output_type": "stream",
     "text": [
      "retrieving http://oracc.org/etcsri/Q001307/html\n",
      "saving http://oracc.org/etcsri/Q001307 as HTML/etcsri_Q001307.html\n"
     ]
    },
    {
     "name": "stderr",
     "output_type": "stream",
     "text": [
      "\r",
      " 21%|██        | 303/1428 [02:18<06:21,  2.95it/s]"
     ]
    },
    {
     "name": "stdout",
     "output_type": "stream",
     "text": [
      "retrieving http://oracc.org/etcsri/Q001310/html\n",
      "saving http://oracc.org/etcsri/Q001310 as HTML/etcsri_Q001310.html\n"
     ]
    },
    {
     "name": "stderr",
     "output_type": "stream",
     "text": [
      "\r",
      " 21%|██▏       | 304/1428 [02:18<06:27,  2.90it/s]"
     ]
    },
    {
     "name": "stdout",
     "output_type": "stream",
     "text": [
      "retrieving http://oracc.org/etcsri/Q001313/html\n",
      "saving http://oracc.org/etcsri/Q001313 as HTML/etcsri_Q001313.html\n"
     ]
    },
    {
     "name": "stderr",
     "output_type": "stream",
     "text": [
      "\r",
      " 21%|██▏       | 305/1428 [02:19<06:46,  2.76it/s]"
     ]
    },
    {
     "name": "stdout",
     "output_type": "stream",
     "text": [
      "retrieving http://oracc.org/etcsri/Q001339/html\n",
      "saving http://oracc.org/etcsri/Q001339 as HTML/etcsri_Q001339.html\n"
     ]
    },
    {
     "name": "stderr",
     "output_type": "stream",
     "text": [
      "\r",
      " 21%|██▏       | 306/1428 [02:19<08:09,  2.29it/s]"
     ]
    },
    {
     "name": "stdout",
     "output_type": "stream",
     "text": [
      "retrieving http://oracc.org/etcsri/Q001320/html\n",
      "saving http://oracc.org/etcsri/Q001320 as HTML/etcsri_Q001320.html\n"
     ]
    },
    {
     "name": "stderr",
     "output_type": "stream",
     "text": [
      "\r",
      " 21%|██▏       | 307/1428 [02:20<09:03,  2.06it/s]"
     ]
    },
    {
     "name": "stdout",
     "output_type": "stream",
     "text": [
      "retrieving http://oracc.org/etcsri/Q001340/html\n",
      "saving http://oracc.org/etcsri/Q001340 as HTML/etcsri_Q001340.html\n"
     ]
    },
    {
     "name": "stderr",
     "output_type": "stream",
     "text": [
      "\r",
      " 22%|██▏       | 308/1428 [02:21<09:19,  2.00it/s]"
     ]
    },
    {
     "name": "stdout",
     "output_type": "stream",
     "text": [
      "retrieving http://oracc.org/etcsri/Q001341/html\n",
      "saving http://oracc.org/etcsri/Q001341 as HTML/etcsri_Q001341.html\n"
     ]
    },
    {
     "name": "stderr",
     "output_type": "stream",
     "text": [
      "\r",
      " 22%|██▏       | 309/1428 [02:21<08:52,  2.10it/s]"
     ]
    },
    {
     "name": "stdout",
     "output_type": "stream",
     "text": [
      "retrieving http://oracc.org/etcsri/Q001344/html\n",
      "saving http://oracc.org/etcsri/Q001344 as HTML/etcsri_Q001344.html\n"
     ]
    },
    {
     "name": "stderr",
     "output_type": "stream",
     "text": [
      "\r",
      " 22%|██▏       | 310/1428 [02:21<08:07,  2.29it/s]"
     ]
    },
    {
     "name": "stdout",
     "output_type": "stream",
     "text": [
      "retrieving http://oracc.org/etcsri/Q001346/html\n",
      "saving http://oracc.org/etcsri/Q001346 as HTML/etcsri_Q001346.html\n"
     ]
    },
    {
     "name": "stderr",
     "output_type": "stream",
     "text": [
      "\r",
      " 22%|██▏       | 311/1428 [02:22<07:32,  2.47it/s]"
     ]
    },
    {
     "name": "stdout",
     "output_type": "stream",
     "text": [
      "retrieving http://oracc.org/etcsri/Q001345/html\n",
      "saving http://oracc.org/etcsri/Q001345 as HTML/etcsri_Q001345.html\n"
     ]
    },
    {
     "name": "stderr",
     "output_type": "stream",
     "text": [
      "\r",
      " 22%|██▏       | 312/1428 [02:22<07:21,  2.53it/s]"
     ]
    },
    {
     "name": "stdout",
     "output_type": "stream",
     "text": [
      "retrieving http://oracc.org/etcsri/Q001347/html\n",
      "saving http://oracc.org/etcsri/Q001347 as HTML/etcsri_Q001347.html\n"
     ]
    },
    {
     "name": "stderr",
     "output_type": "stream",
     "text": [
      "\r",
      " 22%|██▏       | 313/1428 [02:22<07:20,  2.53it/s]"
     ]
    },
    {
     "name": "stdout",
     "output_type": "stream",
     "text": [
      "retrieving http://oracc.org/etcsri/Q001349/html\n",
      "saving http://oracc.org/etcsri/Q001349 as HTML/etcsri_Q001349.html\n"
     ]
    },
    {
     "name": "stderr",
     "output_type": "stream",
     "text": [
      "\r",
      " 22%|██▏       | 314/1428 [02:23<07:07,  2.61it/s]"
     ]
    },
    {
     "name": "stdout",
     "output_type": "stream",
     "text": [
      "retrieving http://oracc.org/etcsri/Q001354/html\n",
      "saving http://oracc.org/etcsri/Q001354 as HTML/etcsri_Q001354.html\n"
     ]
    },
    {
     "name": "stderr",
     "output_type": "stream",
     "text": [
      "\r",
      " 22%|██▏       | 315/1428 [02:23<06:56,  2.67it/s]"
     ]
    },
    {
     "name": "stdout",
     "output_type": "stream",
     "text": [
      "retrieving http://oracc.org/etcsri/Q001355/html\n",
      "saving http://oracc.org/etcsri/Q001355 as HTML/etcsri_Q001355.html\n"
     ]
    },
    {
     "name": "stderr",
     "output_type": "stream",
     "text": [
      "\r",
      " 22%|██▏       | 316/1428 [02:24<07:06,  2.61it/s]"
     ]
    },
    {
     "name": "stdout",
     "output_type": "stream",
     "text": [
      "retrieving http://oracc.org/etcsri/Q001357/html\n",
      "saving http://oracc.org/etcsri/Q001357 as HTML/etcsri_Q001357.html\n"
     ]
    },
    {
     "name": "stderr",
     "output_type": "stream",
     "text": [
      "\r",
      " 22%|██▏       | 317/1428 [02:24<06:45,  2.74it/s]"
     ]
    },
    {
     "name": "stdout",
     "output_type": "stream",
     "text": [
      "retrieving http://oracc.org/etcsri/Q001351/html\n",
      "saving http://oracc.org/etcsri/Q001351 as HTML/etcsri_Q001351.html\n"
     ]
    },
    {
     "name": "stderr",
     "output_type": "stream",
     "text": [
      "\r",
      " 22%|██▏       | 318/1428 [02:24<06:47,  2.72it/s]"
     ]
    },
    {
     "name": "stdout",
     "output_type": "stream",
     "text": [
      "retrieving http://oracc.org/etcsri/Q001350/html\n",
      "saving http://oracc.org/etcsri/Q001350 as HTML/etcsri_Q001350.html\n"
     ]
    },
    {
     "name": "stderr",
     "output_type": "stream",
     "text": [
      "\r",
      " 22%|██▏       | 319/1428 [02:25<07:13,  2.56it/s]"
     ]
    },
    {
     "name": "stdout",
     "output_type": "stream",
     "text": [
      "retrieving http://oracc.org/etcsri/Q001359/html\n",
      "saving http://oracc.org/etcsri/Q001359 as HTML/etcsri_Q001359.html\n"
     ]
    },
    {
     "name": "stderr",
     "output_type": "stream",
     "text": [
      "\r",
      " 22%|██▏       | 320/1428 [02:25<08:49,  2.09it/s]"
     ]
    },
    {
     "name": "stdout",
     "output_type": "stream",
     "text": [
      "retrieving http://oracc.org/etcsri/Q001360/html\n",
      "saving http://oracc.org/etcsri/Q001360 as HTML/etcsri_Q001360.html\n"
     ]
    },
    {
     "name": "stderr",
     "output_type": "stream",
     "text": [
      "\r",
      " 22%|██▏       | 321/1428 [02:26<08:08,  2.26it/s]"
     ]
    },
    {
     "name": "stdout",
     "output_type": "stream",
     "text": [
      "retrieving http://oracc.org/etcsri/Q001361/html\n",
      "saving http://oracc.org/etcsri/Q001361 as HTML/etcsri_Q001361.html\n"
     ]
    },
    {
     "name": "stderr",
     "output_type": "stream",
     "text": [
      "\r",
      " 23%|██▎       | 322/1428 [02:26<07:35,  2.43it/s]"
     ]
    },
    {
     "name": "stdout",
     "output_type": "stream",
     "text": [
      "retrieving http://oracc.org/etcsri/Q001383/html\n",
      "saving http://oracc.org/etcsri/Q001383 as HTML/etcsri_Q001383.html\n"
     ]
    },
    {
     "name": "stderr",
     "output_type": "stream",
     "text": [
      "\r",
      " 23%|██▎       | 323/1428 [02:27<07:46,  2.37it/s]"
     ]
    },
    {
     "name": "stdout",
     "output_type": "stream",
     "text": [
      "retrieving http://oracc.org/etcsri/Q004166/html\n",
      "saving http://oracc.org/etcsri/Q004166 as HTML/etcsri_Q004166.html\n"
     ]
    },
    {
     "name": "stderr",
     "output_type": "stream",
     "text": [
      "\r",
      " 23%|██▎       | 324/1428 [02:27<08:38,  2.13it/s]"
     ]
    },
    {
     "name": "stdout",
     "output_type": "stream",
     "text": [
      "retrieving http://oracc.org/etcsri/Q001388/html\n",
      "saving http://oracc.org/etcsri/Q001388 as HTML/etcsri_Q001388.html\n"
     ]
    },
    {
     "name": "stderr",
     "output_type": "stream",
     "text": [
      "\r",
      " 23%|██▎       | 325/1428 [02:27<07:54,  2.32it/s]"
     ]
    },
    {
     "name": "stdout",
     "output_type": "stream",
     "text": [
      "retrieving http://oracc.org/etcsri/Q001391/html\n",
      "saving http://oracc.org/etcsri/Q001391 as HTML/etcsri_Q001391.html\n"
     ]
    },
    {
     "name": "stderr",
     "output_type": "stream",
     "text": [
      "\r",
      " 23%|██▎       | 326/1428 [02:28<07:23,  2.49it/s]"
     ]
    },
    {
     "name": "stdout",
     "output_type": "stream",
     "text": [
      "retrieving http://oracc.org/etcsri/Q005030/html\n",
      "saving http://oracc.org/etcsri/Q005030 as HTML/etcsri_Q005030.html\n"
     ]
    },
    {
     "name": "stderr",
     "output_type": "stream",
     "text": [
      "\r",
      " 23%|██▎       | 327/1428 [02:28<07:24,  2.48it/s]"
     ]
    },
    {
     "name": "stdout",
     "output_type": "stream",
     "text": [
      "retrieving http://oracc.org/etcsri/Q004875/html\n",
      "saving http://oracc.org/etcsri/Q004875 as HTML/etcsri_Q004875.html\n"
     ]
    },
    {
     "name": "stderr",
     "output_type": "stream",
     "text": [
      "\r",
      " 23%|██▎       | 328/1428 [02:29<07:13,  2.54it/s]"
     ]
    },
    {
     "name": "stdout",
     "output_type": "stream",
     "text": [
      "retrieving http://oracc.org/etcsri/Q004876/html\n",
      "saving http://oracc.org/etcsri/Q004876 as HTML/etcsri_Q004876.html\n"
     ]
    },
    {
     "name": "stderr",
     "output_type": "stream",
     "text": [
      "\r",
      " 23%|██▎       | 329/1428 [02:29<07:07,  2.57it/s]"
     ]
    },
    {
     "name": "stdout",
     "output_type": "stream",
     "text": [
      "retrieving http://oracc.org/etcsri/Q004253/html\n",
      "saving http://oracc.org/etcsri/Q004253 as HTML/etcsri_Q004253.html\n"
     ]
    },
    {
     "name": "stderr",
     "output_type": "stream",
     "text": [
      "\r",
      " 23%|██▎       | 330/1428 [02:30<08:28,  2.16it/s]"
     ]
    },
    {
     "name": "stdout",
     "output_type": "stream",
     "text": [
      "retrieving http://oracc.org/etcsri/Q000834/html\n",
      "saving http://oracc.org/etcsri/Q000834 as HTML/etcsri_Q000834.html\n"
     ]
    },
    {
     "name": "stderr",
     "output_type": "stream",
     "text": [
      "\r",
      " 23%|██▎       | 331/1428 [02:30<09:56,  1.84it/s]"
     ]
    },
    {
     "name": "stdout",
     "output_type": "stream",
     "text": [
      "retrieving http://oracc.org/etcsri/Q001397/html\n",
      "saving http://oracc.org/etcsri/Q001397 as HTML/etcsri_Q001397.html\n"
     ]
    },
    {
     "name": "stderr",
     "output_type": "stream",
     "text": [
      "\r",
      " 23%|██▎       | 332/1428 [02:31<10:03,  1.81it/s]"
     ]
    },
    {
     "name": "stdout",
     "output_type": "stream",
     "text": [
      "retrieving http://oracc.org/etcsri/Q001398/html\n",
      "saving http://oracc.org/etcsri/Q001398 as HTML/etcsri_Q001398.html\n"
     ]
    },
    {
     "name": "stderr",
     "output_type": "stream",
     "text": [
      "\r",
      " 23%|██▎       | 333/1428 [02:31<08:43,  2.09it/s]"
     ]
    },
    {
     "name": "stdout",
     "output_type": "stream",
     "text": [
      "retrieving http://oracc.org/etcsri/Q001399/html\n",
      "saving http://oracc.org/etcsri/Q001399 as HTML/etcsri_Q001399.html\n"
     ]
    },
    {
     "name": "stderr",
     "output_type": "stream",
     "text": [
      "\r",
      " 23%|██▎       | 334/1428 [02:32<07:59,  2.28it/s]"
     ]
    },
    {
     "name": "stdout",
     "output_type": "stream",
     "text": [
      "retrieving http://oracc.org/etcsri/Q001400/html\n",
      "saving http://oracc.org/etcsri/Q001400 as HTML/etcsri_Q001400.html\n"
     ]
    },
    {
     "name": "stderr",
     "output_type": "stream",
     "text": [
      "\r",
      " 23%|██▎       | 335/1428 [02:32<07:22,  2.47it/s]"
     ]
    },
    {
     "name": "stdout",
     "output_type": "stream",
     "text": [
      "retrieving http://oracc.org/etcsri/Q001403/html\n",
      "saving http://oracc.org/etcsri/Q001403 as HTML/etcsri_Q001403.html\n"
     ]
    },
    {
     "name": "stderr",
     "output_type": "stream",
     "text": [
      "\r",
      " 24%|██▎       | 336/1428 [02:33<08:52,  2.05it/s]"
     ]
    },
    {
     "name": "stdout",
     "output_type": "stream",
     "text": [
      "retrieving http://oracc.org/etcsri/Q001404/html\n",
      "saving http://oracc.org/etcsri/Q001404 as HTML/etcsri_Q001404.html\n"
     ]
    },
    {
     "name": "stderr",
     "output_type": "stream",
     "text": [
      "\r",
      " 24%|██▎       | 337/1428 [02:33<08:47,  2.07it/s]"
     ]
    },
    {
     "name": "stdout",
     "output_type": "stream",
     "text": [
      "retrieving http://oracc.org/etcsri/Q001405/html\n",
      "saving http://oracc.org/etcsri/Q001405 as HTML/etcsri_Q001405.html\n"
     ]
    },
    {
     "name": "stderr",
     "output_type": "stream",
     "text": [
      "\r",
      " 24%|██▎       | 338/1428 [02:33<08:18,  2.19it/s]"
     ]
    },
    {
     "name": "stdout",
     "output_type": "stream",
     "text": [
      "retrieving http://oracc.org/etcsri/Q001406/html\n",
      "saving http://oracc.org/etcsri/Q001406 as HTML/etcsri_Q001406.html\n"
     ]
    },
    {
     "name": "stderr",
     "output_type": "stream",
     "text": [
      "\r",
      " 24%|██▎       | 339/1428 [02:34<08:11,  2.22it/s]"
     ]
    },
    {
     "name": "stdout",
     "output_type": "stream",
     "text": [
      "retrieving http://oracc.org/etcsri/Q001407/html\n",
      "saving http://oracc.org/etcsri/Q001407 as HTML/etcsri_Q001407.html\n"
     ]
    },
    {
     "name": "stderr",
     "output_type": "stream",
     "text": [
      "\r",
      " 24%|██▍       | 340/1428 [02:34<07:43,  2.35it/s]"
     ]
    },
    {
     "name": "stdout",
     "output_type": "stream",
     "text": [
      "retrieving http://oracc.org/etcsri/Q000835/html\n",
      "saving http://oracc.org/etcsri/Q000835 as HTML/etcsri_Q000835.html\n"
     ]
    },
    {
     "name": "stderr",
     "output_type": "stream",
     "text": [
      "\r",
      " 24%|██▍       | 341/1428 [02:35<07:15,  2.50it/s]"
     ]
    },
    {
     "name": "stdout",
     "output_type": "stream",
     "text": [
      "retrieving http://oracc.org/etcsri/Q001408/html\n",
      "saving http://oracc.org/etcsri/Q001408 as HTML/etcsri_Q001408.html\n"
     ]
    },
    {
     "name": "stderr",
     "output_type": "stream",
     "text": [
      "\r",
      " 24%|██▍       | 342/1428 [02:35<06:52,  2.63it/s]"
     ]
    },
    {
     "name": "stdout",
     "output_type": "stream",
     "text": [
      "retrieving http://oracc.org/etcsri/Q001409/html\n",
      "saving http://oracc.org/etcsri/Q001409 as HTML/etcsri_Q001409.html\n"
     ]
    },
    {
     "name": "stderr",
     "output_type": "stream",
     "text": [
      "\r",
      " 24%|██▍       | 343/1428 [02:35<07:06,  2.55it/s]"
     ]
    },
    {
     "name": "stdout",
     "output_type": "stream",
     "text": [
      "retrieving http://oracc.org/etcsri/Q001410/html\n",
      "saving http://oracc.org/etcsri/Q001410 as HTML/etcsri_Q001410.html\n"
     ]
    },
    {
     "name": "stderr",
     "output_type": "stream",
     "text": [
      "\r",
      " 24%|██▍       | 344/1428 [02:36<06:47,  2.66it/s]"
     ]
    },
    {
     "name": "stdout",
     "output_type": "stream",
     "text": [
      "retrieving http://oracc.org/etcsri/Q001411/html\n",
      "saving http://oracc.org/etcsri/Q001411 as HTML/etcsri_Q001411.html\n"
     ]
    },
    {
     "name": "stderr",
     "output_type": "stream",
     "text": [
      "\r",
      " 24%|██▍       | 345/1428 [02:36<07:21,  2.45it/s]"
     ]
    },
    {
     "name": "stdout",
     "output_type": "stream",
     "text": [
      "retrieving http://oracc.org/etcsri/Q001415/html\n",
      "saving http://oracc.org/etcsri/Q001415 as HTML/etcsri_Q001415.html\n"
     ]
    },
    {
     "name": "stderr",
     "output_type": "stream",
     "text": [
      "\r",
      " 24%|██▍       | 346/1428 [02:37<07:55,  2.28it/s]"
     ]
    },
    {
     "name": "stdout",
     "output_type": "stream",
     "text": [
      "retrieving http://oracc.org/etcsri/Q000842/html\n",
      "saving http://oracc.org/etcsri/Q000842 as HTML/etcsri_Q000842.html\n"
     ]
    },
    {
     "name": "stderr",
     "output_type": "stream",
     "text": [
      "\r",
      " 24%|██▍       | 347/1428 [02:37<07:57,  2.26it/s]"
     ]
    },
    {
     "name": "stdout",
     "output_type": "stream",
     "text": [
      "retrieving http://oracc.org/etcsri/Q001421/html\n",
      "saving http://oracc.org/etcsri/Q001421 as HTML/etcsri_Q001421.html\n"
     ]
    },
    {
     "name": "stderr",
     "output_type": "stream",
     "text": [
      "\r",
      " 24%|██▍       | 348/1428 [02:38<07:46,  2.32it/s]"
     ]
    },
    {
     "name": "stdout",
     "output_type": "stream",
     "text": [
      "retrieving http://oracc.org/etcsri/Q000844/html\n",
      "saving http://oracc.org/etcsri/Q000844 as HTML/etcsri_Q000844.html\n"
     ]
    },
    {
     "name": "stderr",
     "output_type": "stream",
     "text": [
      "\r",
      " 24%|██▍       | 349/1428 [02:38<07:26,  2.42it/s]"
     ]
    },
    {
     "name": "stdout",
     "output_type": "stream",
     "text": [
      "retrieving http://oracc.org/etcsri/Q001423/html\n",
      "saving http://oracc.org/etcsri/Q001423 as HTML/etcsri_Q001423.html\n"
     ]
    },
    {
     "name": "stderr",
     "output_type": "stream",
     "text": [
      "\r",
      " 25%|██▍       | 350/1428 [02:38<07:04,  2.54it/s]"
     ]
    },
    {
     "name": "stdout",
     "output_type": "stream",
     "text": [
      "retrieving http://oracc.org/etcsri/Q001424/html\n",
      "saving http://oracc.org/etcsri/Q001424 as HTML/etcsri_Q001424.html\n"
     ]
    },
    {
     "name": "stderr",
     "output_type": "stream",
     "text": [
      "\r",
      " 25%|██▍       | 351/1428 [02:39<06:42,  2.68it/s]"
     ]
    },
    {
     "name": "stdout",
     "output_type": "stream",
     "text": [
      "retrieving http://oracc.org/etcsri/Q001426/html\n",
      "saving http://oracc.org/etcsri/Q001426 as HTML/etcsri_Q001426.html\n"
     ]
    },
    {
     "name": "stderr",
     "output_type": "stream",
     "text": [
      "\r",
      " 25%|██▍       | 352/1428 [02:39<06:35,  2.72it/s]"
     ]
    },
    {
     "name": "stdout",
     "output_type": "stream",
     "text": [
      "retrieving http://oracc.org/etcsri/Q001427/html\n",
      "saving http://oracc.org/etcsri/Q001427 as HTML/etcsri_Q001427.html\n"
     ]
    },
    {
     "name": "stderr",
     "output_type": "stream",
     "text": [
      "\r",
      " 25%|██▍       | 353/1428 [02:39<06:23,  2.81it/s]"
     ]
    },
    {
     "name": "stdout",
     "output_type": "stream",
     "text": [
      "retrieving http://oracc.org/etcsri/Q001428/html\n",
      "saving http://oracc.org/etcsri/Q001428 as HTML/etcsri_Q001428.html\n"
     ]
    },
    {
     "name": "stderr",
     "output_type": "stream",
     "text": [
      "\r",
      " 25%|██▍       | 354/1428 [02:40<06:37,  2.70it/s]"
     ]
    },
    {
     "name": "stdout",
     "output_type": "stream",
     "text": [
      "retrieving http://oracc.org/etcsri/Q001429/html\n",
      "saving http://oracc.org/etcsri/Q001429 as HTML/etcsri_Q001429.html\n"
     ]
    },
    {
     "name": "stderr",
     "output_type": "stream",
     "text": [
      "\r",
      " 25%|██▍       | 355/1428 [02:40<06:27,  2.77it/s]"
     ]
    },
    {
     "name": "stdout",
     "output_type": "stream",
     "text": [
      "retrieving http://oracc.org/etcsri/Q001431/html\n",
      "saving http://oracc.org/etcsri/Q001431 as HTML/etcsri_Q001431.html\n"
     ]
    },
    {
     "name": "stderr",
     "output_type": "stream",
     "text": [
      "\r",
      " 25%|██▍       | 356/1428 [02:40<07:03,  2.53it/s]"
     ]
    },
    {
     "name": "stdout",
     "output_type": "stream",
     "text": [
      "retrieving http://oracc.org/etcsri/Q001433/html\n",
      "saving http://oracc.org/etcsri/Q001433 as HTML/etcsri_Q001433.html\n"
     ]
    },
    {
     "name": "stderr",
     "output_type": "stream",
     "text": [
      "\r",
      " 25%|██▌       | 357/1428 [02:41<06:40,  2.67it/s]"
     ]
    },
    {
     "name": "stdout",
     "output_type": "stream",
     "text": [
      "retrieving http://oracc.org/etcsri/Q001435/html\n",
      "saving http://oracc.org/etcsri/Q001435 as HTML/etcsri_Q001435.html\n"
     ]
    },
    {
     "name": "stderr",
     "output_type": "stream",
     "text": [
      "\r",
      " 25%|██▌       | 358/1428 [02:41<07:22,  2.42it/s]"
     ]
    },
    {
     "name": "stdout",
     "output_type": "stream",
     "text": [
      "retrieving http://oracc.org/etcsri/Q001436/html\n",
      "saving http://oracc.org/etcsri/Q001436 as HTML/etcsri_Q001436.html\n"
     ]
    },
    {
     "name": "stderr",
     "output_type": "stream",
     "text": [
      "\r",
      " 25%|██▌       | 359/1428 [02:42<07:21,  2.42it/s]"
     ]
    },
    {
     "name": "stdout",
     "output_type": "stream",
     "text": [
      "retrieving http://oracc.org/etcsri/Q000871/html\n",
      "saving http://oracc.org/etcsri/Q000871 as HTML/etcsri_Q000871.html\n"
     ]
    },
    {
     "name": "stderr",
     "output_type": "stream",
     "text": [
      "\r",
      " 25%|██▌       | 360/1428 [02:42<07:01,  2.53it/s]"
     ]
    },
    {
     "name": "stdout",
     "output_type": "stream",
     "text": [
      "retrieving http://oracc.org/etcsri/Q001437/html\n",
      "saving http://oracc.org/etcsri/Q001437 as HTML/etcsri_Q001437.html\n"
     ]
    },
    {
     "name": "stderr",
     "output_type": "stream",
     "text": [
      "\r",
      " 25%|██▌       | 361/1428 [02:42<06:40,  2.66it/s]"
     ]
    },
    {
     "name": "stdout",
     "output_type": "stream",
     "text": [
      "retrieving http://oracc.org/etcsri/Q001438/html\n",
      "saving http://oracc.org/etcsri/Q001438 as HTML/etcsri_Q001438.html\n"
     ]
    },
    {
     "name": "stderr",
     "output_type": "stream",
     "text": [
      "\r",
      " 25%|██▌       | 362/1428 [02:43<06:52,  2.59it/s]"
     ]
    },
    {
     "name": "stdout",
     "output_type": "stream",
     "text": [
      "retrieving http://oracc.org/etcsri/Q001439/html\n",
      "saving http://oracc.org/etcsri/Q001439 as HTML/etcsri_Q001439.html\n"
     ]
    },
    {
     "name": "stderr",
     "output_type": "stream",
     "text": [
      "\r",
      " 25%|██▌       | 363/1428 [02:43<06:37,  2.68it/s]"
     ]
    },
    {
     "name": "stdout",
     "output_type": "stream",
     "text": [
      "retrieving http://oracc.org/etcsri/Q004254/html\n",
      "saving http://oracc.org/etcsri/Q004254 as HTML/etcsri_Q004254.html\n"
     ]
    },
    {
     "name": "stderr",
     "output_type": "stream",
     "text": [
      "\r",
      " 25%|██▌       | 364/1428 [02:44<07:29,  2.36it/s]"
     ]
    },
    {
     "name": "stdout",
     "output_type": "stream",
     "text": [
      "retrieving http://oracc.org/etcsri/Q001440/html\n",
      "saving http://oracc.org/etcsri/Q001440 as HTML/etcsri_Q001440.html\n"
     ]
    },
    {
     "name": "stderr",
     "output_type": "stream",
     "text": [
      "\r",
      " 26%|██▌       | 365/1428 [02:44<07:06,  2.49it/s]"
     ]
    },
    {
     "name": "stdout",
     "output_type": "stream",
     "text": [
      "retrieving http://oracc.org/etcsri/Q001442/html\n",
      "saving http://oracc.org/etcsri/Q001442 as HTML/etcsri_Q001442.html\n"
     ]
    },
    {
     "name": "stderr",
     "output_type": "stream",
     "text": [
      "\r",
      " 26%|██▌       | 366/1428 [02:44<06:59,  2.53it/s]"
     ]
    },
    {
     "name": "stdout",
     "output_type": "stream",
     "text": [
      "retrieving http://oracc.org/etcsri/Q001443/html\n",
      "saving http://oracc.org/etcsri/Q001443 as HTML/etcsri_Q001443.html\n"
     ]
    },
    {
     "name": "stderr",
     "output_type": "stream",
     "text": [
      "\r",
      " 26%|██▌       | 367/1428 [02:45<08:24,  2.10it/s]"
     ]
    },
    {
     "name": "stdout",
     "output_type": "stream",
     "text": [
      "retrieving http://oracc.org/etcsri/Q001444/html\n",
      "saving http://oracc.org/etcsri/Q001444 as HTML/etcsri_Q001444.html\n"
     ]
    },
    {
     "name": "stderr",
     "output_type": "stream",
     "text": [
      "\r",
      " 26%|██▌       | 368/1428 [02:46<08:29,  2.08it/s]"
     ]
    },
    {
     "name": "stdout",
     "output_type": "stream",
     "text": [
      "retrieving http://oracc.org/etcsri/Q001445/html\n",
      "saving http://oracc.org/etcsri/Q001445 as HTML/etcsri_Q001445.html\n"
     ]
    },
    {
     "name": "stderr",
     "output_type": "stream",
     "text": [
      "\r",
      " 26%|██▌       | 369/1428 [02:46<08:57,  1.97it/s]"
     ]
    },
    {
     "name": "stdout",
     "output_type": "stream",
     "text": [
      "retrieving http://oracc.org/etcsri/Q000872/html\n",
      "saving http://oracc.org/etcsri/Q000872 as HTML/etcsri_Q000872.html\n"
     ]
    },
    {
     "name": "stderr",
     "output_type": "stream",
     "text": [
      "\r",
      " 26%|██▌       | 370/1428 [02:47<08:49,  2.00it/s]"
     ]
    },
    {
     "name": "stdout",
     "output_type": "stream",
     "text": [
      "retrieving http://oracc.org/etcsri/Q000873/html\n",
      "saving http://oracc.org/etcsri/Q000873 as HTML/etcsri_Q000873.html\n"
     ]
    },
    {
     "name": "stderr",
     "output_type": "stream",
     "text": [
      "\r",
      " 26%|██▌       | 371/1428 [02:47<07:55,  2.22it/s]"
     ]
    },
    {
     "name": "stdout",
     "output_type": "stream",
     "text": [
      "retrieving http://oracc.org/etcsri/Q005285/html\n",
      "saving http://oracc.org/etcsri/Q005285 as HTML/etcsri_Q005285.html\n"
     ]
    },
    {
     "name": "stderr",
     "output_type": "stream",
     "text": [
      "\r",
      " 26%|██▌       | 372/1428 [02:47<07:50,  2.24it/s]"
     ]
    },
    {
     "name": "stdout",
     "output_type": "stream",
     "text": [
      "retrieving http://oracc.org/etcsri/Q001447/html\n",
      "saving http://oracc.org/etcsri/Q001447 as HTML/etcsri_Q001447.html\n"
     ]
    },
    {
     "name": "stderr",
     "output_type": "stream",
     "text": [
      "\r",
      " 26%|██▌       | 373/1428 [02:48<07:53,  2.23it/s]"
     ]
    },
    {
     "name": "stdout",
     "output_type": "stream",
     "text": [
      "retrieving http://oracc.org/etcsri/Q001446/html\n",
      "saving http://oracc.org/etcsri/Q001446 as HTML/etcsri_Q001446.html\n"
     ]
    },
    {
     "name": "stderr",
     "output_type": "stream",
     "text": [
      "\r",
      " 26%|██▌       | 374/1428 [02:48<07:18,  2.40it/s]"
     ]
    },
    {
     "name": "stdout",
     "output_type": "stream",
     "text": [
      "retrieving http://oracc.org/etcsri/Q000874/html\n",
      "saving http://oracc.org/etcsri/Q000874 as HTML/etcsri_Q000874.html\n"
     ]
    },
    {
     "name": "stderr",
     "output_type": "stream",
     "text": [
      "\r",
      " 26%|██▋       | 375/1428 [02:49<06:55,  2.54it/s]"
     ]
    },
    {
     "name": "stdout",
     "output_type": "stream",
     "text": [
      "retrieving http://oracc.org/etcsri/Q001448/html\n",
      "saving http://oracc.org/etcsri/Q001448 as HTML/etcsri_Q001448.html\n"
     ]
    },
    {
     "name": "stderr",
     "output_type": "stream",
     "text": [
      "\r",
      " 26%|██▋       | 376/1428 [02:49<06:37,  2.65it/s]"
     ]
    },
    {
     "name": "stdout",
     "output_type": "stream",
     "text": [
      "retrieving http://oracc.org/etcsri/Q001449/html\n",
      "saving http://oracc.org/etcsri/Q001449 as HTML/etcsri_Q001449.html\n"
     ]
    },
    {
     "name": "stderr",
     "output_type": "stream",
     "text": [
      "\r",
      " 26%|██▋       | 377/1428 [02:49<06:27,  2.71it/s]"
     ]
    },
    {
     "name": "stdout",
     "output_type": "stream",
     "text": [
      "retrieving http://oracc.org/etcsri/Q001450/html\n",
      "saving http://oracc.org/etcsri/Q001450 as HTML/etcsri_Q001450.html\n"
     ]
    },
    {
     "name": "stderr",
     "output_type": "stream",
     "text": [
      "\r",
      " 26%|██▋       | 378/1428 [02:50<06:28,  2.70it/s]"
     ]
    },
    {
     "name": "stdout",
     "output_type": "stream",
     "text": [
      "retrieving http://oracc.org/etcsri/Q001451/html\n",
      "saving http://oracc.org/etcsri/Q001451 as HTML/etcsri_Q001451.html\n"
     ]
    },
    {
     "name": "stderr",
     "output_type": "stream",
     "text": [
      "\r",
      " 27%|██▋       | 379/1428 [02:50<06:20,  2.76it/s]"
     ]
    },
    {
     "name": "stdout",
     "output_type": "stream",
     "text": [
      "retrieving http://oracc.org/etcsri/Q001452/html\n",
      "saving http://oracc.org/etcsri/Q001452 as HTML/etcsri_Q001452.html\n"
     ]
    },
    {
     "name": "stderr",
     "output_type": "stream",
     "text": [
      "\r",
      " 27%|██▋       | 380/1428 [02:50<06:35,  2.65it/s]"
     ]
    },
    {
     "name": "stdout",
     "output_type": "stream",
     "text": [
      "retrieving http://oracc.org/etcsri/Q001453/html\n",
      "saving http://oracc.org/etcsri/Q001453 as HTML/etcsri_Q001453.html\n"
     ]
    },
    {
     "name": "stderr",
     "output_type": "stream",
     "text": [
      "\r",
      " 27%|██▋       | 381/1428 [02:51<06:27,  2.70it/s]"
     ]
    },
    {
     "name": "stdout",
     "output_type": "stream",
     "text": [
      "retrieving http://oracc.org/etcsri/Q000876/html\n",
      "saving http://oracc.org/etcsri/Q000876 as HTML/etcsri_Q000876.html\n"
     ]
    },
    {
     "name": "stderr",
     "output_type": "stream",
     "text": [
      "\r",
      " 27%|██▋       | 382/1428 [02:51<06:26,  2.71it/s]"
     ]
    },
    {
     "name": "stdout",
     "output_type": "stream",
     "text": [
      "retrieving http://oracc.org/etcsri/Q001454/html\n",
      "saving http://oracc.org/etcsri/Q001454 as HTML/etcsri_Q001454.html\n"
     ]
    },
    {
     "name": "stderr",
     "output_type": "stream",
     "text": [
      "\r",
      " 27%|██▋       | 383/1428 [02:51<06:20,  2.74it/s]"
     ]
    },
    {
     "name": "stdout",
     "output_type": "stream",
     "text": [
      "retrieving http://oracc.org/etcsri/Q000877/html\n",
      "saving http://oracc.org/etcsri/Q000877 as HTML/etcsri_Q000877.html\n"
     ]
    },
    {
     "name": "stderr",
     "output_type": "stream",
     "text": [
      "\r",
      " 27%|██▋       | 384/1428 [02:52<06:14,  2.79it/s]"
     ]
    },
    {
     "name": "stdout",
     "output_type": "stream",
     "text": [
      "retrieving http://oracc.org/etcsri/Q000376/html\n",
      "saving http://oracc.org/etcsri/Q000376 as HTML/etcsri_Q000376.html\n"
     ]
    },
    {
     "name": "stderr",
     "output_type": "stream",
     "text": [
      "\r",
      " 27%|██▋       | 385/1428 [02:53<09:25,  1.84it/s]"
     ]
    },
    {
     "name": "stdout",
     "output_type": "stream",
     "text": [
      "retrieving http://oracc.org/etcsri/Q001455/html\n",
      "saving http://oracc.org/etcsri/Q001455 as HTML/etcsri_Q001455.html\n"
     ]
    },
    {
     "name": "stderr",
     "output_type": "stream",
     "text": [
      "\r",
      " 27%|██▋       | 386/1428 [02:53<08:16,  2.10it/s]"
     ]
    },
    {
     "name": "stdout",
     "output_type": "stream",
     "text": [
      "retrieving http://oracc.org/etcsri/Q001456/html\n",
      "saving http://oracc.org/etcsri/Q001456 as HTML/etcsri_Q001456.html\n"
     ]
    },
    {
     "name": "stderr",
     "output_type": "stream",
     "text": [
      "\r",
      " 27%|██▋       | 387/1428 [02:54<08:09,  2.13it/s]"
     ]
    },
    {
     "name": "stdout",
     "output_type": "stream",
     "text": [
      "retrieving http://oracc.org/etcsri/Q001457/html\n",
      "saving http://oracc.org/etcsri/Q001457 as HTML/etcsri_Q001457.html\n"
     ]
    },
    {
     "name": "stderr",
     "output_type": "stream",
     "text": [
      "\r",
      " 27%|██▋       | 388/1428 [02:54<07:44,  2.24it/s]"
     ]
    },
    {
     "name": "stdout",
     "output_type": "stream",
     "text": [
      "retrieving http://oracc.org/etcsri/Q001458/html\n",
      "saving http://oracc.org/etcsri/Q001458 as HTML/etcsri_Q001458.html\n"
     ]
    },
    {
     "name": "stderr",
     "output_type": "stream",
     "text": [
      "\r",
      " 27%|██▋       | 389/1428 [02:54<07:16,  2.38it/s]"
     ]
    },
    {
     "name": "stdout",
     "output_type": "stream",
     "text": [
      "retrieving http://oracc.org/etcsri/Q000879/html\n",
      "saving http://oracc.org/etcsri/Q000879 as HTML/etcsri_Q000879.html\n"
     ]
    },
    {
     "name": "stderr",
     "output_type": "stream",
     "text": [
      "\r",
      " 27%|██▋       | 390/1428 [02:55<07:11,  2.40it/s]"
     ]
    },
    {
     "name": "stdout",
     "output_type": "stream",
     "text": [
      "retrieving http://oracc.org/etcsri/Q000377/html\n",
      "saving http://oracc.org/etcsri/Q000377 as HTML/etcsri_Q000377.html\n"
     ]
    },
    {
     "name": "stderr",
     "output_type": "stream",
     "text": [
      "\r",
      " 27%|██▋       | 391/1428 [02:56<12:58,  1.33it/s]"
     ]
    },
    {
     "name": "stdout",
     "output_type": "stream",
     "text": [
      "retrieving http://oracc.org/etcsri/Q001459/html\n",
      "saving http://oracc.org/etcsri/Q001459 as HTML/etcsri_Q001459.html\n"
     ]
    },
    {
     "name": "stderr",
     "output_type": "stream",
     "text": [
      "\r",
      " 27%|██▋       | 392/1428 [02:57<11:41,  1.48it/s]"
     ]
    },
    {
     "name": "stdout",
     "output_type": "stream",
     "text": [
      "retrieving http://oracc.org/etcsri/Q001460/html\n",
      "saving http://oracc.org/etcsri/Q001460 as HTML/etcsri_Q001460.html\n"
     ]
    },
    {
     "name": "stderr",
     "output_type": "stream",
     "text": [
      "\r",
      " 28%|██▊       | 393/1428 [02:57<10:52,  1.59it/s]"
     ]
    },
    {
     "name": "stdout",
     "output_type": "stream",
     "text": [
      "retrieving http://oracc.org/etcsri/Q001461/html\n",
      "saving http://oracc.org/etcsri/Q001461 as HTML/etcsri_Q001461.html\n"
     ]
    },
    {
     "name": "stderr",
     "output_type": "stream",
     "text": [
      "\r",
      " 28%|██▊       | 394/1428 [02:58<09:40,  1.78it/s]"
     ]
    },
    {
     "name": "stdout",
     "output_type": "stream",
     "text": [
      "retrieving http://oracc.org/etcsri/Q001462/html\n",
      "saving http://oracc.org/etcsri/Q001462 as HTML/etcsri_Q001462.html\n"
     ]
    },
    {
     "name": "stderr",
     "output_type": "stream",
     "text": [
      "\r",
      " 28%|██▊       | 395/1428 [02:58<08:41,  1.98it/s]"
     ]
    },
    {
     "name": "stdout",
     "output_type": "stream",
     "text": [
      "retrieving http://oracc.org/etcsri/Q001463/html\n",
      "saving http://oracc.org/etcsri/Q001463 as HTML/etcsri_Q001463.html\n"
     ]
    },
    {
     "name": "stderr",
     "output_type": "stream",
     "text": [
      "\r",
      " 28%|██▊       | 396/1428 [02:58<08:12,  2.09it/s]"
     ]
    },
    {
     "name": "stdout",
     "output_type": "stream",
     "text": [
      "retrieving http://oracc.org/etcsri/Q001464/html\n",
      "saving http://oracc.org/etcsri/Q001464 as HTML/etcsri_Q001464.html\n"
     ]
    },
    {
     "name": "stderr",
     "output_type": "stream",
     "text": [
      "\r",
      " 28%|██▊       | 397/1428 [02:59<07:49,  2.19it/s]"
     ]
    },
    {
     "name": "stdout",
     "output_type": "stream",
     "text": [
      "retrieving http://oracc.org/etcsri/Q000881/html\n",
      "saving http://oracc.org/etcsri/Q000881 as HTML/etcsri_Q000881.html\n"
     ]
    },
    {
     "name": "stderr",
     "output_type": "stream",
     "text": [
      "\r",
      " 28%|██▊       | 398/1428 [02:59<07:59,  2.15it/s]"
     ]
    },
    {
     "name": "stdout",
     "output_type": "stream",
     "text": [
      "retrieving http://oracc.org/etcsri/Q000882/html\n",
      "saving http://oracc.org/etcsri/Q000882 as HTML/etcsri_Q000882.html\n"
     ]
    },
    {
     "name": "stderr",
     "output_type": "stream",
     "text": [
      "\r",
      " 28%|██▊       | 399/1428 [03:00<07:28,  2.30it/s]"
     ]
    },
    {
     "name": "stdout",
     "output_type": "stream",
     "text": [
      "retrieving http://oracc.org/etcsri/Q001465/html\n",
      "saving http://oracc.org/etcsri/Q001465 as HTML/etcsri_Q001465.html\n"
     ]
    },
    {
     "name": "stderr",
     "output_type": "stream",
     "text": [
      "\r",
      " 28%|██▊       | 400/1428 [03:00<07:44,  2.21it/s]"
     ]
    },
    {
     "name": "stdout",
     "output_type": "stream",
     "text": [
      "retrieving http://oracc.org/etcsri/Q000883/html\n",
      "saving http://oracc.org/etcsri/Q000883 as HTML/etcsri_Q000883.html\n"
     ]
    },
    {
     "name": "stderr",
     "output_type": "stream",
     "text": [
      "\r",
      " 28%|██▊       | 401/1428 [03:01<07:09,  2.39it/s]"
     ]
    },
    {
     "name": "stdout",
     "output_type": "stream",
     "text": [
      "retrieving http://oracc.org/etcsri/Q000884/html\n",
      "saving http://oracc.org/etcsri/Q000884 as HTML/etcsri_Q000884.html\n"
     ]
    },
    {
     "name": "stderr",
     "output_type": "stream",
     "text": [
      "\r",
      " 28%|██▊       | 402/1428 [03:01<06:47,  2.52it/s]"
     ]
    },
    {
     "name": "stdout",
     "output_type": "stream",
     "text": [
      "retrieving http://oracc.org/etcsri/Q001466/html\n",
      "saving http://oracc.org/etcsri/Q001466 as HTML/etcsri_Q001466.html\n"
     ]
    },
    {
     "name": "stderr",
     "output_type": "stream",
     "text": [
      "\r",
      " 28%|██▊       | 403/1428 [03:02<08:16,  2.06it/s]"
     ]
    },
    {
     "name": "stdout",
     "output_type": "stream",
     "text": [
      "retrieving http://oracc.org/etcsri/Q001467/html\n",
      "saving http://oracc.org/etcsri/Q001467 as HTML/etcsri_Q001467.html\n"
     ]
    },
    {
     "name": "stderr",
     "output_type": "stream",
     "text": [
      "\r",
      " 28%|██▊       | 404/1428 [03:02<08:26,  2.02it/s]"
     ]
    },
    {
     "name": "stdout",
     "output_type": "stream",
     "text": [
      "retrieving http://oracc.org/etcsri/Q001468/html\n",
      "saving http://oracc.org/etcsri/Q001468 as HTML/etcsri_Q001468.html\n"
     ]
    },
    {
     "name": "stderr",
     "output_type": "stream",
     "text": [
      "\r",
      " 28%|██▊       | 405/1428 [03:02<07:35,  2.24it/s]"
     ]
    },
    {
     "name": "stdout",
     "output_type": "stream",
     "text": [
      "retrieving http://oracc.org/etcsri/Q001469/html\n",
      "saving http://oracc.org/etcsri/Q001469 as HTML/etcsri_Q001469.html\n"
     ]
    },
    {
     "name": "stderr",
     "output_type": "stream",
     "text": [
      "\r",
      " 28%|██▊       | 406/1428 [03:03<06:56,  2.45it/s]"
     ]
    },
    {
     "name": "stdout",
     "output_type": "stream",
     "text": [
      "retrieving http://oracc.org/etcsri/Q001470/html\n",
      "saving http://oracc.org/etcsri/Q001470 as HTML/etcsri_Q001470.html\n"
     ]
    },
    {
     "name": "stderr",
     "output_type": "stream",
     "text": [
      "\r",
      " 29%|██▊       | 407/1428 [03:03<06:56,  2.45it/s]"
     ]
    },
    {
     "name": "stdout",
     "output_type": "stream",
     "text": [
      "retrieving http://oracc.org/etcsri/Q001471/html\n",
      "saving http://oracc.org/etcsri/Q001471 as HTML/etcsri_Q001471.html\n"
     ]
    },
    {
     "name": "stderr",
     "output_type": "stream",
     "text": [
      "\r",
      " 29%|██▊       | 408/1428 [03:04<07:32,  2.25it/s]"
     ]
    },
    {
     "name": "stdout",
     "output_type": "stream",
     "text": [
      "retrieving http://oracc.org/etcsri/Q001472/html\n",
      "saving http://oracc.org/etcsri/Q001472 as HTML/etcsri_Q001472.html\n"
     ]
    },
    {
     "name": "stderr",
     "output_type": "stream",
     "text": [
      "\r",
      " 29%|██▊       | 409/1428 [03:04<07:35,  2.24it/s]"
     ]
    },
    {
     "name": "stdout",
     "output_type": "stream",
     "text": [
      "retrieving http://oracc.org/etcsri/Q000885/html\n",
      "saving http://oracc.org/etcsri/Q000885 as HTML/etcsri_Q000885.html\n"
     ]
    },
    {
     "name": "stderr",
     "output_type": "stream",
     "text": [
      "\r",
      " 29%|██▊       | 410/1428 [03:05<07:32,  2.25it/s]"
     ]
    },
    {
     "name": "stdout",
     "output_type": "stream",
     "text": [
      "retrieving http://oracc.org/etcsri/Q000886/html\n",
      "saving http://oracc.org/etcsri/Q000886 as HTML/etcsri_Q000886.html\n"
     ]
    },
    {
     "name": "stderr",
     "output_type": "stream",
     "text": [
      "\r",
      " 29%|██▉       | 411/1428 [03:05<07:00,  2.42it/s]"
     ]
    },
    {
     "name": "stdout",
     "output_type": "stream",
     "text": [
      "retrieving http://oracc.org/etcsri/Q001540/html\n",
      "saving http://oracc.org/etcsri/Q001540 as HTML/etcsri_Q001540.html\n"
     ]
    },
    {
     "name": "stderr",
     "output_type": "stream",
     "text": [
      "\r",
      " 29%|██▉       | 412/1428 [03:06<08:00,  2.12it/s]"
     ]
    },
    {
     "name": "stdout",
     "output_type": "stream",
     "text": [
      "retrieving http://oracc.org/etcsri/Q001541/html\n",
      "saving http://oracc.org/etcsri/Q001541 as HTML/etcsri_Q001541.html\n"
     ]
    },
    {
     "name": "stderr",
     "output_type": "stream",
     "text": [
      "\r",
      " 29%|██▉       | 413/1428 [03:08<17:47,  1.05s/it]"
     ]
    },
    {
     "name": "stdout",
     "output_type": "stream",
     "text": [
      "retrieving http://oracc.org/etcsri/Q001542/html\n",
      "saving http://oracc.org/etcsri/Q001542 as HTML/etcsri_Q001542.html\n"
     ]
    },
    {
     "name": "stderr",
     "output_type": "stream",
     "text": [
      "\r",
      " 29%|██▉       | 414/1428 [03:09<15:43,  1.07it/s]"
     ]
    },
    {
     "name": "stdout",
     "output_type": "stream",
     "text": [
      "retrieving http://oracc.org/etcsri/Q001543/html\n",
      "saving http://oracc.org/etcsri/Q001543 as HTML/etcsri_Q001543.html\n"
     ]
    },
    {
     "name": "stderr",
     "output_type": "stream",
     "text": [
      "\r",
      " 29%|██▉       | 415/1428 [03:09<14:43,  1.15it/s]"
     ]
    },
    {
     "name": "stdout",
     "output_type": "stream",
     "text": [
      "retrieving http://oracc.org/etcsri/Q001544/html\n",
      "saving http://oracc.org/etcsri/Q001544 as HTML/etcsri_Q001544.html\n"
     ]
    },
    {
     "name": "stderr",
     "output_type": "stream",
     "text": [
      "\r",
      " 29%|██▉       | 416/1428 [03:10<15:21,  1.10it/s]"
     ]
    },
    {
     "name": "stdout",
     "output_type": "stream",
     "text": [
      "retrieving http://oracc.org/etcsri/Q001545/html\n",
      "saving http://oracc.org/etcsri/Q001545 as HTML/etcsri_Q001545.html\n"
     ]
    },
    {
     "name": "stderr",
     "output_type": "stream",
     "text": [
      "\r",
      " 29%|██▉       | 417/1428 [03:11<13:56,  1.21it/s]"
     ]
    },
    {
     "name": "stdout",
     "output_type": "stream",
     "text": [
      "retrieving http://oracc.org/etcsri/Q001546/html\n",
      "saving http://oracc.org/etcsri/Q001546 as HTML/etcsri_Q001546.html\n"
     ]
    },
    {
     "name": "stderr",
     "output_type": "stream",
     "text": [
      "\r",
      " 29%|██▉       | 418/1428 [03:12<14:10,  1.19it/s]"
     ]
    },
    {
     "name": "stdout",
     "output_type": "stream",
     "text": [
      "retrieving http://oracc.org/etcsri/Q001547/html\n",
      "saving http://oracc.org/etcsri/Q001547 as HTML/etcsri_Q001547.html\n"
     ]
    },
    {
     "name": "stderr",
     "output_type": "stream",
     "text": [
      "\r",
      " 29%|██▉       | 419/1428 [03:12<12:51,  1.31it/s]"
     ]
    },
    {
     "name": "stdout",
     "output_type": "stream",
     "text": [
      "retrieving http://oracc.org/etcsri/Q001548/html\n",
      "saving http://oracc.org/etcsri/Q001548 as HTML/etcsri_Q001548.html\n"
     ]
    },
    {
     "name": "stderr",
     "output_type": "stream",
     "text": [
      "\r",
      " 29%|██▉       | 420/1428 [03:13<12:31,  1.34it/s]"
     ]
    },
    {
     "name": "stdout",
     "output_type": "stream",
     "text": [
      "retrieving http://oracc.org/etcsri/Q001549/html\n",
      "saving http://oracc.org/etcsri/Q001549 as HTML/etcsri_Q001549.html\n"
     ]
    },
    {
     "name": "stderr",
     "output_type": "stream",
     "text": [
      "\r",
      " 29%|██▉       | 421/1428 [03:14<11:19,  1.48it/s]"
     ]
    },
    {
     "name": "stdout",
     "output_type": "stream",
     "text": [
      "retrieving http://oracc.org/etcsri/Q001551/html\n",
      "saving http://oracc.org/etcsri/Q001551 as HTML/etcsri_Q001551.html\n"
     ]
    },
    {
     "name": "stderr",
     "output_type": "stream",
     "text": [
      "\r",
      " 30%|██▉       | 422/1428 [03:14<10:35,  1.58it/s]"
     ]
    },
    {
     "name": "stdout",
     "output_type": "stream",
     "text": [
      "retrieving http://oracc.org/etcsri/Q001552/html\n",
      "saving http://oracc.org/etcsri/Q001552 as HTML/etcsri_Q001552.html\n"
     ]
    },
    {
     "name": "stderr",
     "output_type": "stream",
     "text": [
      "\r",
      " 30%|██▉       | 423/1428 [03:15<09:30,  1.76it/s]"
     ]
    },
    {
     "name": "stdout",
     "output_type": "stream",
     "text": [
      "retrieving http://oracc.org/etcsri/Q001553/html\n",
      "saving http://oracc.org/etcsri/Q001553 as HTML/etcsri_Q001553.html\n"
     ]
    },
    {
     "name": "stderr",
     "output_type": "stream",
     "text": [
      "\r",
      " 30%|██▉       | 424/1428 [03:15<08:57,  1.87it/s]"
     ]
    },
    {
     "name": "stdout",
     "output_type": "stream",
     "text": [
      "retrieving http://oracc.org/etcsri/Q001554/html\n",
      "saving http://oracc.org/etcsri/Q001554 as HTML/etcsri_Q001554.html\n"
     ]
    },
    {
     "name": "stderr",
     "output_type": "stream",
     "text": [
      "\r",
      " 30%|██▉       | 425/1428 [03:16<10:19,  1.62it/s]"
     ]
    },
    {
     "name": "stdout",
     "output_type": "stream",
     "text": [
      "retrieving http://oracc.org/etcsri/Q001555/html\n",
      "saving http://oracc.org/etcsri/Q001555 as HTML/etcsri_Q001555.html\n"
     ]
    },
    {
     "name": "stderr",
     "output_type": "stream",
     "text": [
      "\r",
      " 30%|██▉       | 426/1428 [03:16<08:59,  1.86it/s]"
     ]
    },
    {
     "name": "stdout",
     "output_type": "stream",
     "text": [
      "retrieving http://oracc.org/etcsri/Q001556/html\n",
      "saving http://oracc.org/etcsri/Q001556 as HTML/etcsri_Q001556.html\n"
     ]
    },
    {
     "name": "stderr",
     "output_type": "stream",
     "text": [
      "\r",
      " 30%|██▉       | 427/1428 [03:17<08:44,  1.91it/s]"
     ]
    },
    {
     "name": "stdout",
     "output_type": "stream",
     "text": [
      "retrieving http://oracc.org/etcsri/Q001557/html\n",
      "saving http://oracc.org/etcsri/Q001557 as HTML/etcsri_Q001557.html\n"
     ]
    },
    {
     "name": "stderr",
     "output_type": "stream",
     "text": [
      "\r",
      " 30%|██▉       | 428/1428 [03:17<08:14,  2.02it/s]"
     ]
    },
    {
     "name": "stdout",
     "output_type": "stream",
     "text": [
      "retrieving http://oracc.org/etcsri/Q001558/html\n",
      "saving http://oracc.org/etcsri/Q001558 as HTML/etcsri_Q001558.html\n"
     ]
    },
    {
     "name": "stderr",
     "output_type": "stream",
     "text": [
      "\r",
      " 30%|███       | 429/1428 [03:18<08:20,  1.99it/s]"
     ]
    },
    {
     "name": "stdout",
     "output_type": "stream",
     "text": [
      "retrieving http://oracc.org/etcsri/Q001559/html\n",
      "saving http://oracc.org/etcsri/Q001559 as HTML/etcsri_Q001559.html\n"
     ]
    },
    {
     "name": "stderr",
     "output_type": "stream",
     "text": [
      "\r",
      " 30%|███       | 430/1428 [03:18<08:00,  2.08it/s]"
     ]
    },
    {
     "name": "stdout",
     "output_type": "stream",
     "text": [
      "retrieving http://oracc.org/etcsri/Q001560/html\n",
      "saving http://oracc.org/etcsri/Q001560 as HTML/etcsri_Q001560.html\n"
     ]
    },
    {
     "name": "stderr",
     "output_type": "stream",
     "text": [
      "\r",
      " 30%|███       | 431/1428 [03:18<07:39,  2.17it/s]"
     ]
    },
    {
     "name": "stdout",
     "output_type": "stream",
     "text": [
      "retrieving http://oracc.org/etcsri/Q001561/html\n",
      "saving http://oracc.org/etcsri/Q001561 as HTML/etcsri_Q001561.html\n"
     ]
    },
    {
     "name": "stderr",
     "output_type": "stream",
     "text": [
      "\r",
      " 30%|███       | 432/1428 [03:19<07:47,  2.13it/s]"
     ]
    },
    {
     "name": "stdout",
     "output_type": "stream",
     "text": [
      "retrieving http://oracc.org/etcsri/Q001562/html\n",
      "saving http://oracc.org/etcsri/Q001562 as HTML/etcsri_Q001562.html\n"
     ]
    },
    {
     "name": "stderr",
     "output_type": "stream",
     "text": [
      "\r",
      " 30%|███       | 433/1428 [03:19<07:42,  2.15it/s]"
     ]
    },
    {
     "name": "stdout",
     "output_type": "stream",
     "text": [
      "retrieving http://oracc.org/etcsri/Q001563/html\n",
      "saving http://oracc.org/etcsri/Q001563 as HTML/etcsri_Q001563.html\n"
     ]
    },
    {
     "name": "stderr",
     "output_type": "stream",
     "text": [
      "\r",
      " 30%|███       | 434/1428 [03:20<07:11,  2.31it/s]"
     ]
    },
    {
     "name": "stdout",
     "output_type": "stream",
     "text": [
      "retrieving http://oracc.org/etcsri/Q001564/html\n",
      "saving http://oracc.org/etcsri/Q001564 as HTML/etcsri_Q001564.html\n"
     ]
    },
    {
     "name": "stderr",
     "output_type": "stream",
     "text": [
      "\r",
      " 30%|███       | 435/1428 [03:20<06:53,  2.40it/s]"
     ]
    },
    {
     "name": "stdout",
     "output_type": "stream",
     "text": [
      "retrieving http://oracc.org/etcsri/Q001565/html\n",
      "saving http://oracc.org/etcsri/Q001565 as HTML/etcsri_Q001565.html\n"
     ]
    },
    {
     "name": "stderr",
     "output_type": "stream",
     "text": [
      "\r",
      " 31%|███       | 436/1428 [03:21<06:45,  2.45it/s]"
     ]
    },
    {
     "name": "stdout",
     "output_type": "stream",
     "text": [
      "retrieving http://oracc.org/etcsri/Q001534/html\n",
      "saving http://oracc.org/etcsri/Q001534 as HTML/etcsri_Q001534.html\n"
     ]
    },
    {
     "name": "stderr",
     "output_type": "stream",
     "text": [
      "\r",
      " 31%|███       | 437/1428 [03:21<07:09,  2.31it/s]"
     ]
    },
    {
     "name": "stdout",
     "output_type": "stream",
     "text": [
      "retrieving http://oracc.org/etcsri/Q001535/html\n",
      "saving http://oracc.org/etcsri/Q001535 as HTML/etcsri_Q001535.html\n"
     ]
    },
    {
     "name": "stderr",
     "output_type": "stream",
     "text": [
      "\r",
      " 31%|███       | 438/1428 [03:21<06:39,  2.48it/s]"
     ]
    },
    {
     "name": "stdout",
     "output_type": "stream",
     "text": [
      "retrieving http://oracc.org/etcsri/Q001538/html\n",
      "saving http://oracc.org/etcsri/Q001538 as HTML/etcsri_Q001538.html\n"
     ]
    },
    {
     "name": "stderr",
     "output_type": "stream",
     "text": [
      "\r",
      " 31%|███       | 439/1428 [03:22<06:18,  2.61it/s]"
     ]
    },
    {
     "name": "stdout",
     "output_type": "stream",
     "text": [
      "retrieving http://oracc.org/etcsri/Q000887/html\n",
      "saving http://oracc.org/etcsri/Q000887 as HTML/etcsri_Q000887.html\n"
     ]
    },
    {
     "name": "stderr",
     "output_type": "stream",
     "text": [
      "\r",
      " 31%|███       | 440/1428 [03:22<06:23,  2.57it/s]"
     ]
    },
    {
     "name": "stdout",
     "output_type": "stream",
     "text": [
      "retrieving http://oracc.org/etcsri/Q000888/html\n",
      "saving http://oracc.org/etcsri/Q000888 as HTML/etcsri_Q000888.html\n"
     ]
    },
    {
     "name": "stderr",
     "output_type": "stream",
     "text": [
      "\r",
      " 31%|███       | 441/1428 [03:22<06:09,  2.67it/s]"
     ]
    },
    {
     "name": "stdout",
     "output_type": "stream",
     "text": [
      "retrieving http://oracc.org/etcsri/Q000889/html\n",
      "saving http://oracc.org/etcsri/Q000889 as HTML/etcsri_Q000889.html\n"
     ]
    },
    {
     "name": "stderr",
     "output_type": "stream",
     "text": [
      "\r",
      " 31%|███       | 442/1428 [03:23<06:05,  2.70it/s]"
     ]
    },
    {
     "name": "stdout",
     "output_type": "stream",
     "text": [
      "retrieving http://oracc.org/etcsri/Q000890/html\n",
      "saving http://oracc.org/etcsri/Q000890 as HTML/etcsri_Q000890.html\n"
     ]
    },
    {
     "name": "stderr",
     "output_type": "stream",
     "text": [
      "\r",
      " 31%|███       | 443/1428 [03:23<05:59,  2.74it/s]"
     ]
    },
    {
     "name": "stdout",
     "output_type": "stream",
     "text": [
      "retrieving http://oracc.org/etcsri/Q001473/html\n",
      "saving http://oracc.org/etcsri/Q001473 as HTML/etcsri_Q001473.html\n"
     ]
    },
    {
     "name": "stderr",
     "output_type": "stream",
     "text": [
      "\r",
      " 31%|███       | 444/1428 [03:23<05:52,  2.79it/s]"
     ]
    },
    {
     "name": "stdout",
     "output_type": "stream",
     "text": [
      "retrieving http://oracc.org/etcsri/Q000891/html\n",
      "saving http://oracc.org/etcsri/Q000891 as HTML/etcsri_Q000891.html\n"
     ]
    },
    {
     "name": "stderr",
     "output_type": "stream",
     "text": [
      "\r",
      " 31%|███       | 445/1428 [03:24<06:10,  2.65it/s]"
     ]
    },
    {
     "name": "stdout",
     "output_type": "stream",
     "text": [
      "retrieving http://oracc.org/etcsri/Q001474/html\n",
      "saving http://oracc.org/etcsri/Q001474 as HTML/etcsri_Q001474.html\n"
     ]
    },
    {
     "name": "stderr",
     "output_type": "stream",
     "text": [
      "\r",
      " 31%|███       | 446/1428 [03:24<05:55,  2.76it/s]"
     ]
    },
    {
     "name": "stdout",
     "output_type": "stream",
     "text": [
      "retrieving http://oracc.org/etcsri/Q000892/html\n",
      "saving http://oracc.org/etcsri/Q000892 as HTML/etcsri_Q000892.html\n"
     ]
    },
    {
     "name": "stderr",
     "output_type": "stream",
     "text": [
      "\r",
      " 31%|███▏      | 447/1428 [03:25<06:10,  2.65it/s]"
     ]
    },
    {
     "name": "stdout",
     "output_type": "stream",
     "text": [
      "retrieving http://oracc.org/etcsri/Q001475/html\n",
      "saving http://oracc.org/etcsri/Q001475 as HTML/etcsri_Q001475.html\n"
     ]
    },
    {
     "name": "stderr",
     "output_type": "stream",
     "text": [
      "\r",
      " 31%|███▏      | 448/1428 [03:25<06:20,  2.57it/s]"
     ]
    },
    {
     "name": "stdout",
     "output_type": "stream",
     "text": [
      "retrieving http://oracc.org/etcsri/Q001476/html\n",
      "saving http://oracc.org/etcsri/Q001476 as HTML/etcsri_Q001476.html\n"
     ]
    },
    {
     "name": "stderr",
     "output_type": "stream",
     "text": [
      "\r",
      " 31%|███▏      | 449/1428 [03:25<06:35,  2.47it/s]"
     ]
    },
    {
     "name": "stdout",
     "output_type": "stream",
     "text": [
      "retrieving http://oracc.org/etcsri/Q000893/html\n",
      "saving http://oracc.org/etcsri/Q000893 as HTML/etcsri_Q000893.html\n"
     ]
    },
    {
     "name": "stderr",
     "output_type": "stream",
     "text": [
      "\r",
      " 32%|███▏      | 450/1428 [03:26<06:52,  2.37it/s]"
     ]
    },
    {
     "name": "stdout",
     "output_type": "stream",
     "text": [
      "retrieving http://oracc.org/etcsri/Q001477/html\n",
      "saving http://oracc.org/etcsri/Q001477 as HTML/etcsri_Q001477.html\n"
     ]
    },
    {
     "name": "stderr",
     "output_type": "stream",
     "text": [
      "\r",
      " 32%|███▏      | 451/1428 [03:26<06:26,  2.52it/s]"
     ]
    },
    {
     "name": "stdout",
     "output_type": "stream",
     "text": [
      "retrieving http://oracc.org/etcsri/Q001478/html\n",
      "saving http://oracc.org/etcsri/Q001478 as HTML/etcsri_Q001478.html\n"
     ]
    },
    {
     "name": "stderr",
     "output_type": "stream",
     "text": [
      "\r",
      " 32%|███▏      | 452/1428 [03:27<06:19,  2.57it/s]"
     ]
    },
    {
     "name": "stdout",
     "output_type": "stream",
     "text": [
      "retrieving http://oracc.org/etcsri/Q001479/html\n",
      "saving http://oracc.org/etcsri/Q001479 as HTML/etcsri_Q001479.html\n"
     ]
    },
    {
     "name": "stderr",
     "output_type": "stream",
     "text": [
      "\r",
      " 32%|███▏      | 453/1428 [03:27<06:13,  2.61it/s]"
     ]
    },
    {
     "name": "stdout",
     "output_type": "stream",
     "text": [
      "retrieving http://oracc.org/etcsri/Q001480/html\n",
      "saving http://oracc.org/etcsri/Q001480 as HTML/etcsri_Q001480.html\n"
     ]
    },
    {
     "name": "stderr",
     "output_type": "stream",
     "text": [
      "\r",
      " 32%|███▏      | 454/1428 [03:27<06:14,  2.60it/s]"
     ]
    },
    {
     "name": "stdout",
     "output_type": "stream",
     "text": [
      "retrieving http://oracc.org/etcsri/Q001481/html\n",
      "saving http://oracc.org/etcsri/Q001481 as HTML/etcsri_Q001481.html\n"
     ]
    },
    {
     "name": "stderr",
     "output_type": "stream",
     "text": [
      "\r",
      " 32%|███▏      | 455/1428 [03:28<06:21,  2.55it/s]"
     ]
    },
    {
     "name": "stdout",
     "output_type": "stream",
     "text": [
      "retrieving http://oracc.org/etcsri/Q000894/html\n",
      "saving http://oracc.org/etcsri/Q000894 as HTML/etcsri_Q000894.html\n"
     ]
    },
    {
     "name": "stderr",
     "output_type": "stream",
     "text": [
      "\r",
      " 32%|███▏      | 456/1428 [03:28<06:33,  2.47it/s]"
     ]
    },
    {
     "name": "stdout",
     "output_type": "stream",
     "text": [
      "retrieving http://oracc.org/etcsri/Q000895/html\n",
      "saving http://oracc.org/etcsri/Q000895 as HTML/etcsri_Q000895.html\n"
     ]
    },
    {
     "name": "stderr",
     "output_type": "stream",
     "text": [
      "\r",
      " 32%|███▏      | 457/1428 [03:29<06:15,  2.58it/s]"
     ]
    },
    {
     "name": "stdout",
     "output_type": "stream",
     "text": [
      "retrieving http://oracc.org/etcsri/Q000896/html\n",
      "saving http://oracc.org/etcsri/Q000896 as HTML/etcsri_Q000896.html\n"
     ]
    },
    {
     "name": "stderr",
     "output_type": "stream",
     "text": [
      "\r",
      " 32%|███▏      | 458/1428 [03:29<06:56,  2.33it/s]"
     ]
    },
    {
     "name": "stdout",
     "output_type": "stream",
     "text": [
      "retrieving http://oracc.org/etcsri/Q000897/html\n",
      "saving http://oracc.org/etcsri/Q000897 as HTML/etcsri_Q000897.html\n"
     ]
    },
    {
     "name": "stderr",
     "output_type": "stream",
     "text": [
      "\r",
      " 32%|███▏      | 459/1428 [03:30<06:39,  2.42it/s]"
     ]
    },
    {
     "name": "stdout",
     "output_type": "stream",
     "text": [
      "retrieving http://oracc.org/etcsri/Q000898/html\n",
      "saving http://oracc.org/etcsri/Q000898 as HTML/etcsri_Q000898.html\n"
     ]
    },
    {
     "name": "stderr",
     "output_type": "stream",
     "text": [
      "\r",
      " 32%|███▏      | 460/1428 [03:30<06:16,  2.57it/s]"
     ]
    },
    {
     "name": "stdout",
     "output_type": "stream",
     "text": [
      "retrieving http://oracc.org/etcsri/Q000899/html\n",
      "saving http://oracc.org/etcsri/Q000899 as HTML/etcsri_Q000899.html\n"
     ]
    },
    {
     "name": "stderr",
     "output_type": "stream",
     "text": [
      "\r",
      " 32%|███▏      | 461/1428 [03:30<06:02,  2.67it/s]"
     ]
    },
    {
     "name": "stdout",
     "output_type": "stream",
     "text": [
      "retrieving http://oracc.org/etcsri/Q001482/html\n",
      "saving http://oracc.org/etcsri/Q001482 as HTML/etcsri_Q001482.html\n"
     ]
    },
    {
     "name": "stderr",
     "output_type": "stream",
     "text": [
      "\r",
      " 32%|███▏      | 462/1428 [03:31<05:55,  2.71it/s]"
     ]
    },
    {
     "name": "stdout",
     "output_type": "stream",
     "text": [
      "retrieving http://oracc.org/etcsri/Q001483/html\n",
      "saving http://oracc.org/etcsri/Q001483 as HTML/etcsri_Q001483.html\n"
     ]
    },
    {
     "name": "stderr",
     "output_type": "stream",
     "text": [
      "\r",
      " 32%|███▏      | 463/1428 [03:31<05:53,  2.73it/s]"
     ]
    },
    {
     "name": "stdout",
     "output_type": "stream",
     "text": [
      "retrieving http://oracc.org/etcsri/Q000900/html\n",
      "saving http://oracc.org/etcsri/Q000900 as HTML/etcsri_Q000900.html\n"
     ]
    },
    {
     "name": "stderr",
     "output_type": "stream",
     "text": [
      "\r",
      " 32%|███▏      | 464/1428 [03:31<05:54,  2.72it/s]"
     ]
    },
    {
     "name": "stdout",
     "output_type": "stream",
     "text": [
      "retrieving http://oracc.org/etcsri/Q000901/html\n",
      "saving http://oracc.org/etcsri/Q000901 as HTML/etcsri_Q000901.html\n"
     ]
    },
    {
     "name": "stderr",
     "output_type": "stream",
     "text": [
      "\r",
      " 33%|███▎      | 465/1428 [03:32<05:50,  2.74it/s]"
     ]
    },
    {
     "name": "stdout",
     "output_type": "stream",
     "text": [
      "retrieving http://oracc.org/etcsri/Q000902/html\n",
      "saving http://oracc.org/etcsri/Q000902 as HTML/etcsri_Q000902.html\n"
     ]
    },
    {
     "name": "stderr",
     "output_type": "stream",
     "text": [
      "\r",
      " 33%|███▎      | 466/1428 [03:32<06:06,  2.63it/s]"
     ]
    },
    {
     "name": "stdout",
     "output_type": "stream",
     "text": [
      "retrieving http://oracc.org/etcsri/Q001484/html\n",
      "saving http://oracc.org/etcsri/Q001484 as HTML/etcsri_Q001484.html\n"
     ]
    },
    {
     "name": "stderr",
     "output_type": "stream",
     "text": [
      "\r",
      " 33%|███▎      | 467/1428 [03:32<06:22,  2.51it/s]"
     ]
    },
    {
     "name": "stdout",
     "output_type": "stream",
     "text": [
      "retrieving http://oracc.org/etcsri/Q001485/html\n",
      "saving http://oracc.org/etcsri/Q001485 as HTML/etcsri_Q001485.html\n"
     ]
    },
    {
     "name": "stderr",
     "output_type": "stream",
     "text": [
      "\r",
      " 33%|███▎      | 468/1428 [03:33<06:00,  2.66it/s]"
     ]
    },
    {
     "name": "stdout",
     "output_type": "stream",
     "text": [
      "retrieving http://oracc.org/etcsri/Q000903/html\n",
      "saving http://oracc.org/etcsri/Q000903 as HTML/etcsri_Q000903.html\n"
     ]
    },
    {
     "name": "stderr",
     "output_type": "stream",
     "text": [
      "\r",
      " 33%|███▎      | 469/1428 [03:33<05:49,  2.75it/s]"
     ]
    },
    {
     "name": "stdout",
     "output_type": "stream",
     "text": [
      "retrieving http://oracc.org/etcsri/Q001486/html\n",
      "saving http://oracc.org/etcsri/Q001486 as HTML/etcsri_Q001486.html\n"
     ]
    },
    {
     "name": "stderr",
     "output_type": "stream",
     "text": [
      "\r",
      " 33%|███▎      | 470/1428 [03:33<05:34,  2.86it/s]"
     ]
    },
    {
     "name": "stdout",
     "output_type": "stream",
     "text": [
      "retrieving http://oracc.org/etcsri/Q000904/html\n",
      "saving http://oracc.org/etcsri/Q000904 as HTML/etcsri_Q000904.html\n"
     ]
    },
    {
     "name": "stderr",
     "output_type": "stream",
     "text": [
      "\r",
      " 33%|███▎      | 471/1428 [03:34<06:09,  2.59it/s]"
     ]
    },
    {
     "name": "stdout",
     "output_type": "stream",
     "text": [
      "retrieving http://oracc.org/etcsri/Q001487/html\n",
      "saving http://oracc.org/etcsri/Q001487 as HTML/etcsri_Q001487.html\n"
     ]
    },
    {
     "name": "stderr",
     "output_type": "stream",
     "text": [
      "\r",
      " 33%|███▎      | 472/1428 [03:34<05:58,  2.66it/s]"
     ]
    },
    {
     "name": "stdout",
     "output_type": "stream",
     "text": [
      "retrieving http://oracc.org/etcsri/Q000905/html\n",
      "saving http://oracc.org/etcsri/Q000905 as HTML/etcsri_Q000905.html\n"
     ]
    },
    {
     "name": "stderr",
     "output_type": "stream",
     "text": [
      "\r",
      " 33%|███▎      | 473/1428 [03:35<05:44,  2.77it/s]"
     ]
    },
    {
     "name": "stdout",
     "output_type": "stream",
     "text": [
      "retrieving http://oracc.org/etcsri/Q000906/html\n",
      "saving http://oracc.org/etcsri/Q000906 as HTML/etcsri_Q000906.html\n"
     ]
    },
    {
     "name": "stderr",
     "output_type": "stream",
     "text": [
      "\r",
      " 33%|███▎      | 474/1428 [03:35<05:55,  2.68it/s]"
     ]
    },
    {
     "name": "stdout",
     "output_type": "stream",
     "text": [
      "retrieving http://oracc.org/etcsri/Q000907/html\n",
      "saving http://oracc.org/etcsri/Q000907 as HTML/etcsri_Q000907.html\n"
     ]
    },
    {
     "name": "stderr",
     "output_type": "stream",
     "text": [
      "\r",
      " 33%|███▎      | 475/1428 [03:35<06:09,  2.58it/s]"
     ]
    },
    {
     "name": "stdout",
     "output_type": "stream",
     "text": [
      "retrieving http://oracc.org/etcsri/Q001488/html\n",
      "saving http://oracc.org/etcsri/Q001488 as HTML/etcsri_Q001488.html\n"
     ]
    },
    {
     "name": "stderr",
     "output_type": "stream",
     "text": [
      "\r",
      " 33%|███▎      | 476/1428 [03:36<06:15,  2.53it/s]"
     ]
    },
    {
     "name": "stdout",
     "output_type": "stream",
     "text": [
      "retrieving http://oracc.org/etcsri/Q000908/html\n",
      "saving http://oracc.org/etcsri/Q000908 as HTML/etcsri_Q000908.html\n"
     ]
    },
    {
     "name": "stderr",
     "output_type": "stream",
     "text": [
      "\r",
      " 33%|███▎      | 477/1428 [03:36<06:04,  2.61it/s]"
     ]
    },
    {
     "name": "stdout",
     "output_type": "stream",
     "text": [
      "retrieving http://oracc.org/etcsri/Q001489/html\n",
      "saving http://oracc.org/etcsri/Q001489 as HTML/etcsri_Q001489.html\n"
     ]
    },
    {
     "name": "stderr",
     "output_type": "stream",
     "text": [
      "\r",
      " 33%|███▎      | 478/1428 [03:37<05:50,  2.71it/s]"
     ]
    },
    {
     "name": "stdout",
     "output_type": "stream",
     "text": [
      "retrieving http://oracc.org/etcsri/Q000909/html\n",
      "saving http://oracc.org/etcsri/Q000909 as HTML/etcsri_Q000909.html\n"
     ]
    },
    {
     "name": "stderr",
     "output_type": "stream",
     "text": [
      "\r",
      " 34%|███▎      | 479/1428 [03:37<05:53,  2.69it/s]"
     ]
    },
    {
     "name": "stdout",
     "output_type": "stream",
     "text": [
      "retrieving http://oracc.org/etcsri/Q000910/html\n",
      "saving http://oracc.org/etcsri/Q000910 as HTML/etcsri_Q000910.html\n"
     ]
    },
    {
     "name": "stderr",
     "output_type": "stream",
     "text": [
      "\r",
      " 34%|███▎      | 480/1428 [03:37<05:43,  2.76it/s]"
     ]
    },
    {
     "name": "stdout",
     "output_type": "stream",
     "text": [
      "retrieving http://oracc.org/etcsri/Q000911/html\n",
      "saving http://oracc.org/etcsri/Q000911 as HTML/etcsri_Q000911.html\n"
     ]
    },
    {
     "name": "stderr",
     "output_type": "stream",
     "text": [
      "\r",
      " 34%|███▎      | 481/1428 [03:38<05:53,  2.68it/s]"
     ]
    },
    {
     "name": "stdout",
     "output_type": "stream",
     "text": [
      "retrieving http://oracc.org/etcsri/Q000912/html\n",
      "saving http://oracc.org/etcsri/Q000912 as HTML/etcsri_Q000912.html\n"
     ]
    },
    {
     "name": "stderr",
     "output_type": "stream",
     "text": [
      "\r",
      " 34%|███▍      | 482/1428 [03:38<05:42,  2.76it/s]"
     ]
    },
    {
     "name": "stdout",
     "output_type": "stream",
     "text": [
      "retrieving http://oracc.org/etcsri/Q000913/html\n",
      "saving http://oracc.org/etcsri/Q000913 as HTML/etcsri_Q000913.html\n"
     ]
    },
    {
     "name": "stderr",
     "output_type": "stream",
     "text": [
      "\r",
      " 34%|███▍      | 483/1428 [03:38<05:45,  2.74it/s]"
     ]
    },
    {
     "name": "stdout",
     "output_type": "stream",
     "text": [
      "retrieving http://oracc.org/etcsri/Q000914/html\n",
      "saving http://oracc.org/etcsri/Q000914 as HTML/etcsri_Q000914.html\n"
     ]
    },
    {
     "name": "stderr",
     "output_type": "stream",
     "text": [
      "\r",
      " 34%|███▍      | 484/1428 [03:39<05:38,  2.79it/s]"
     ]
    },
    {
     "name": "stdout",
     "output_type": "stream",
     "text": [
      "retrieving http://oracc.org/etcsri/Q001490/html\n",
      "saving http://oracc.org/etcsri/Q001490 as HTML/etcsri_Q001490.html\n"
     ]
    },
    {
     "name": "stderr",
     "output_type": "stream",
     "text": [
      "\r",
      " 34%|███▍      | 485/1428 [03:39<05:33,  2.83it/s]"
     ]
    },
    {
     "name": "stdout",
     "output_type": "stream",
     "text": [
      "retrieving http://oracc.org/etcsri/Q001491/html\n",
      "saving http://oracc.org/etcsri/Q001491 as HTML/etcsri_Q001491.html\n"
     ]
    },
    {
     "name": "stderr",
     "output_type": "stream",
     "text": [
      "\r",
      " 34%|███▍      | 486/1428 [03:39<05:30,  2.85it/s]"
     ]
    },
    {
     "name": "stdout",
     "output_type": "stream",
     "text": [
      "retrieving http://oracc.org/etcsri/Q001492/html\n",
      "saving http://oracc.org/etcsri/Q001492 as HTML/etcsri_Q001492.html\n"
     ]
    },
    {
     "name": "stderr",
     "output_type": "stream",
     "text": [
      "\r",
      " 34%|███▍      | 487/1428 [03:40<06:03,  2.59it/s]"
     ]
    },
    {
     "name": "stdout",
     "output_type": "stream",
     "text": [
      "retrieving http://oracc.org/etcsri/Q000915/html\n",
      "saving http://oracc.org/etcsri/Q000915 as HTML/etcsri_Q000915.html\n"
     ]
    },
    {
     "name": "stderr",
     "output_type": "stream",
     "text": [
      "\r",
      " 34%|███▍      | 488/1428 [03:40<06:14,  2.51it/s]"
     ]
    },
    {
     "name": "stdout",
     "output_type": "stream",
     "text": [
      "retrieving http://oracc.org/etcsri/Q000916/html\n",
      "saving http://oracc.org/etcsri/Q000916 as HTML/etcsri_Q000916.html\n"
     ]
    },
    {
     "name": "stderr",
     "output_type": "stream",
     "text": [
      "\r",
      " 34%|███▍      | 489/1428 [03:41<06:01,  2.60it/s]"
     ]
    },
    {
     "name": "stdout",
     "output_type": "stream",
     "text": [
      "retrieving http://oracc.org/etcsri/Q001493/html\n",
      "saving http://oracc.org/etcsri/Q001493 as HTML/etcsri_Q001493.html\n"
     ]
    },
    {
     "name": "stderr",
     "output_type": "stream",
     "text": [
      "\r",
      " 34%|███▍      | 490/1428 [03:41<05:49,  2.69it/s]"
     ]
    },
    {
     "name": "stdout",
     "output_type": "stream",
     "text": [
      "retrieving http://oracc.org/etcsri/Q000917/html\n",
      "saving http://oracc.org/etcsri/Q000917 as HTML/etcsri_Q000917.html\n"
     ]
    },
    {
     "name": "stderr",
     "output_type": "stream",
     "text": [
      "\r",
      " 34%|███▍      | 491/1428 [03:41<05:45,  2.71it/s]"
     ]
    },
    {
     "name": "stdout",
     "output_type": "stream",
     "text": [
      "retrieving http://oracc.org/etcsri/Q001494/html\n",
      "saving http://oracc.org/etcsri/Q001494 as HTML/etcsri_Q001494.html\n"
     ]
    },
    {
     "name": "stderr",
     "output_type": "stream",
     "text": [
      "\r",
      " 34%|███▍      | 492/1428 [03:42<06:08,  2.54it/s]"
     ]
    },
    {
     "name": "stdout",
     "output_type": "stream",
     "text": [
      "retrieving http://oracc.org/etcsri/Q001495/html\n",
      "saving http://oracc.org/etcsri/Q001495 as HTML/etcsri_Q001495.html\n"
     ]
    },
    {
     "name": "stderr",
     "output_type": "stream",
     "text": [
      "\r",
      " 35%|███▍      | 493/1428 [03:42<05:51,  2.66it/s]"
     ]
    },
    {
     "name": "stdout",
     "output_type": "stream",
     "text": [
      "retrieving http://oracc.org/etcsri/Q000918/html\n",
      "saving http://oracc.org/etcsri/Q000918 as HTML/etcsri_Q000918.html\n"
     ]
    },
    {
     "name": "stderr",
     "output_type": "stream",
     "text": [
      "\r",
      " 35%|███▍      | 494/1428 [03:43<06:05,  2.56it/s]"
     ]
    },
    {
     "name": "stdout",
     "output_type": "stream",
     "text": [
      "retrieving http://oracc.org/etcsri/Q001496/html\n",
      "saving http://oracc.org/etcsri/Q001496 as HTML/etcsri_Q001496.html\n"
     ]
    },
    {
     "name": "stderr",
     "output_type": "stream",
     "text": [
      "\r",
      " 35%|███▍      | 495/1428 [03:43<06:02,  2.57it/s]"
     ]
    },
    {
     "name": "stdout",
     "output_type": "stream",
     "text": [
      "retrieving http://oracc.org/etcsri/Q003220/html\n",
      "saving http://oracc.org/etcsri/Q003220 as HTML/etcsri_Q003220.html\n"
     ]
    },
    {
     "name": "stderr",
     "output_type": "stream",
     "text": [
      "\r",
      " 35%|███▍      | 496/1428 [03:43<06:06,  2.54it/s]"
     ]
    },
    {
     "name": "stdout",
     "output_type": "stream",
     "text": [
      "retrieving http://oracc.org/etcsri/Q001497/html\n",
      "saving http://oracc.org/etcsri/Q001497 as HTML/etcsri_Q001497.html\n"
     ]
    },
    {
     "name": "stderr",
     "output_type": "stream",
     "text": [
      "\r",
      " 35%|███▍      | 497/1428 [03:44<07:35,  2.04it/s]"
     ]
    },
    {
     "name": "stdout",
     "output_type": "stream",
     "text": [
      "retrieving http://oracc.org/etcsri/Q001498/html\n",
      "saving http://oracc.org/etcsri/Q001498 as HTML/etcsri_Q001498.html\n"
     ]
    },
    {
     "name": "stderr",
     "output_type": "stream",
     "text": [
      "\r",
      " 35%|███▍      | 498/1428 [03:45<07:34,  2.05it/s]"
     ]
    },
    {
     "name": "stdout",
     "output_type": "stream",
     "text": [
      "retrieving http://oracc.org/etcsri/Q001499/html\n",
      "saving http://oracc.org/etcsri/Q001499 as HTML/etcsri_Q001499.html\n"
     ]
    },
    {
     "name": "stderr",
     "output_type": "stream",
     "text": [
      "\r",
      " 35%|███▍      | 499/1428 [03:45<06:54,  2.24it/s]"
     ]
    },
    {
     "name": "stdout",
     "output_type": "stream",
     "text": [
      "retrieving http://oracc.org/etcsri/Q001500/html\n",
      "saving http://oracc.org/etcsri/Q001500 as HTML/etcsri_Q001500.html\n"
     ]
    },
    {
     "name": "stderr",
     "output_type": "stream",
     "text": [
      "\r",
      " 35%|███▌      | 500/1428 [03:45<06:22,  2.42it/s]"
     ]
    },
    {
     "name": "stdout",
     "output_type": "stream",
     "text": [
      "retrieving http://oracc.org/etcsri/Q001501/html\n",
      "saving http://oracc.org/etcsri/Q001501 as HTML/etcsri_Q001501.html\n"
     ]
    },
    {
     "name": "stderr",
     "output_type": "stream",
     "text": [
      "\r",
      " 35%|███▌      | 501/1428 [03:46<06:00,  2.57it/s]"
     ]
    },
    {
     "name": "stdout",
     "output_type": "stream",
     "text": [
      "retrieving http://oracc.org/etcsri/Q001502/html\n",
      "saving http://oracc.org/etcsri/Q001502 as HTML/etcsri_Q001502.html\n"
     ]
    },
    {
     "name": "stderr",
     "output_type": "stream",
     "text": [
      "\r",
      " 35%|███▌      | 502/1428 [03:46<06:10,  2.50it/s]"
     ]
    },
    {
     "name": "stdout",
     "output_type": "stream",
     "text": [
      "retrieving http://oracc.org/etcsri/Q000919/html\n",
      "saving http://oracc.org/etcsri/Q000919 as HTML/etcsri_Q000919.html\n"
     ]
    },
    {
     "name": "stderr",
     "output_type": "stream",
     "text": [
      "\r",
      " 35%|███▌      | 503/1428 [03:46<06:04,  2.54it/s]"
     ]
    },
    {
     "name": "stdout",
     "output_type": "stream",
     "text": [
      "retrieving http://oracc.org/etcsri/Q000920/html\n",
      "saving http://oracc.org/etcsri/Q000920 as HTML/etcsri_Q000920.html\n"
     ]
    },
    {
     "name": "stderr",
     "output_type": "stream",
     "text": [
      "\r",
      " 35%|███▌      | 504/1428 [03:47<06:28,  2.38it/s]"
     ]
    },
    {
     "name": "stdout",
     "output_type": "stream",
     "text": [
      "retrieving http://oracc.org/etcsri/Q000921/html\n",
      "saving http://oracc.org/etcsri/Q000921 as HTML/etcsri_Q000921.html\n"
     ]
    },
    {
     "name": "stderr",
     "output_type": "stream",
     "text": [
      "\r",
      " 35%|███▌      | 505/1428 [03:47<06:09,  2.50it/s]"
     ]
    },
    {
     "name": "stdout",
     "output_type": "stream",
     "text": [
      "retrieving http://oracc.org/etcsri/Q001503/html\n",
      "saving http://oracc.org/etcsri/Q001503 as HTML/etcsri_Q001503.html\n"
     ]
    },
    {
     "name": "stderr",
     "output_type": "stream",
     "text": [
      "\r",
      " 35%|███▌      | 506/1428 [03:48<06:40,  2.30it/s]"
     ]
    },
    {
     "name": "stdout",
     "output_type": "stream",
     "text": [
      "retrieving http://oracc.org/etcsri/Q000922/html\n",
      "saving http://oracc.org/etcsri/Q000922 as HTML/etcsri_Q000922.html\n"
     ]
    },
    {
     "name": "stderr",
     "output_type": "stream",
     "text": [
      "\r",
      " 36%|███▌      | 507/1428 [03:48<06:39,  2.30it/s]"
     ]
    },
    {
     "name": "stdout",
     "output_type": "stream",
     "text": [
      "retrieving http://oracc.org/etcsri/Q000923/html\n",
      "saving http://oracc.org/etcsri/Q000923 as HTML/etcsri_Q000923.html\n"
     ]
    },
    {
     "name": "stderr",
     "output_type": "stream",
     "text": [
      "\r",
      " 36%|███▌      | 508/1428 [03:48<06:08,  2.49it/s]"
     ]
    },
    {
     "name": "stdout",
     "output_type": "stream",
     "text": [
      "retrieving http://oracc.org/etcsri/Q001504/html\n",
      "saving http://oracc.org/etcsri/Q001504 as HTML/etcsri_Q001504.html\n"
     ]
    },
    {
     "name": "stderr",
     "output_type": "stream",
     "text": [
      "\r",
      " 36%|███▌      | 509/1428 [03:49<06:07,  2.50it/s]"
     ]
    },
    {
     "name": "stdout",
     "output_type": "stream",
     "text": [
      "retrieving http://oracc.org/etcsri/Q001505/html\n",
      "saving http://oracc.org/etcsri/Q001505 as HTML/etcsri_Q001505.html\n"
     ]
    },
    {
     "name": "stderr",
     "output_type": "stream",
     "text": [
      "\r",
      " 36%|███▌      | 510/1428 [03:49<05:50,  2.62it/s]"
     ]
    },
    {
     "name": "stdout",
     "output_type": "stream",
     "text": [
      "retrieving http://oracc.org/etcsri/Q001506/html\n",
      "saving http://oracc.org/etcsri/Q001506 as HTML/etcsri_Q001506.html\n"
     ]
    },
    {
     "name": "stderr",
     "output_type": "stream",
     "text": [
      "\r",
      " 36%|███▌      | 511/1428 [03:50<05:54,  2.59it/s]"
     ]
    },
    {
     "name": "stdout",
     "output_type": "stream",
     "text": [
      "retrieving http://oracc.org/etcsri/Q001507/html\n",
      "saving http://oracc.org/etcsri/Q001507 as HTML/etcsri_Q001507.html\n"
     ]
    },
    {
     "name": "stderr",
     "output_type": "stream",
     "text": [
      "\r",
      " 36%|███▌      | 512/1428 [03:50<05:40,  2.69it/s]"
     ]
    },
    {
     "name": "stdout",
     "output_type": "stream",
     "text": [
      "retrieving http://oracc.org/etcsri/Q000924/html\n",
      "saving http://oracc.org/etcsri/Q000924 as HTML/etcsri_Q000924.html\n"
     ]
    },
    {
     "name": "stderr",
     "output_type": "stream",
     "text": [
      "\r",
      " 36%|███▌      | 513/1428 [03:50<05:44,  2.66it/s]"
     ]
    },
    {
     "name": "stdout",
     "output_type": "stream",
     "text": [
      "retrieving http://oracc.org/etcsri/Q000925/html\n",
      "saving http://oracc.org/etcsri/Q000925 as HTML/etcsri_Q000925.html\n"
     ]
    },
    {
     "name": "stderr",
     "output_type": "stream",
     "text": [
      "\r",
      " 36%|███▌      | 514/1428 [03:51<06:11,  2.46it/s]"
     ]
    },
    {
     "name": "stdout",
     "output_type": "stream",
     "text": [
      "retrieving http://oracc.org/etcsri/Q001508/html\n",
      "saving http://oracc.org/etcsri/Q001508 as HTML/etcsri_Q001508.html\n"
     ]
    },
    {
     "name": "stderr",
     "output_type": "stream",
     "text": [
      "\r",
      " 36%|███▌      | 515/1428 [03:51<05:51,  2.59it/s]"
     ]
    },
    {
     "name": "stdout",
     "output_type": "stream",
     "text": [
      "retrieving http://oracc.org/etcsri/Q001509/html\n",
      "saving http://oracc.org/etcsri/Q001509 as HTML/etcsri_Q001509.html\n"
     ]
    },
    {
     "name": "stderr",
     "output_type": "stream",
     "text": [
      "\r",
      " 36%|███▌      | 516/1428 [03:51<05:42,  2.66it/s]"
     ]
    },
    {
     "name": "stdout",
     "output_type": "stream",
     "text": [
      "retrieving http://oracc.org/etcsri/Q001510/html\n",
      "saving http://oracc.org/etcsri/Q001510 as HTML/etcsri_Q001510.html\n"
     ]
    },
    {
     "name": "stderr",
     "output_type": "stream",
     "text": [
      "\r",
      " 36%|███▌      | 517/1428 [03:52<05:28,  2.77it/s]"
     ]
    },
    {
     "name": "stdout",
     "output_type": "stream",
     "text": [
      "retrieving http://oracc.org/etcsri/Q001511/html\n",
      "saving http://oracc.org/etcsri/Q001511 as HTML/etcsri_Q001511.html\n"
     ]
    },
    {
     "name": "stderr",
     "output_type": "stream",
     "text": [
      "\r",
      " 36%|███▋      | 518/1428 [03:52<05:23,  2.81it/s]"
     ]
    },
    {
     "name": "stdout",
     "output_type": "stream",
     "text": [
      "retrieving http://oracc.org/etcsri/Q001512/html\n",
      "saving http://oracc.org/etcsri/Q001512 as HTML/etcsri_Q001512.html\n"
     ]
    },
    {
     "name": "stderr",
     "output_type": "stream",
     "text": [
      "\r",
      " 36%|███▋      | 519/1428 [03:53<05:40,  2.67it/s]"
     ]
    },
    {
     "name": "stdout",
     "output_type": "stream",
     "text": [
      "retrieving http://oracc.org/etcsri/Q001513/html\n",
      "saving http://oracc.org/etcsri/Q001513 as HTML/etcsri_Q001513.html\n"
     ]
    },
    {
     "name": "stderr",
     "output_type": "stream",
     "text": [
      "\r",
      " 36%|███▋      | 520/1428 [03:53<05:27,  2.78it/s]"
     ]
    },
    {
     "name": "stdout",
     "output_type": "stream",
     "text": [
      "retrieving http://oracc.org/etcsri/Q000926/html\n",
      "saving http://oracc.org/etcsri/Q000926 as HTML/etcsri_Q000926.html\n"
     ]
    },
    {
     "name": "stderr",
     "output_type": "stream",
     "text": [
      "\r",
      " 36%|███▋      | 521/1428 [03:53<05:27,  2.77it/s]"
     ]
    },
    {
     "name": "stdout",
     "output_type": "stream",
     "text": [
      "retrieving http://oracc.org/etcsri/Q001514/html\n",
      "saving http://oracc.org/etcsri/Q001514 as HTML/etcsri_Q001514.html\n"
     ]
    },
    {
     "name": "stderr",
     "output_type": "stream",
     "text": [
      "\r",
      " 37%|███▋      | 522/1428 [03:54<05:22,  2.81it/s]"
     ]
    },
    {
     "name": "stdout",
     "output_type": "stream",
     "text": [
      "retrieving http://oracc.org/etcsri/Q001515/html\n",
      "saving http://oracc.org/etcsri/Q001515 as HTML/etcsri_Q001515.html\n"
     ]
    },
    {
     "name": "stderr",
     "output_type": "stream",
     "text": [
      "\r",
      " 37%|███▋      | 523/1428 [03:54<05:07,  2.94it/s]"
     ]
    },
    {
     "name": "stdout",
     "output_type": "stream",
     "text": [
      "retrieving http://oracc.org/etcsri/Q000927/html\n",
      "saving http://oracc.org/etcsri/Q000927 as HTML/etcsri_Q000927.html\n"
     ]
    },
    {
     "name": "stderr",
     "output_type": "stream",
     "text": [
      "\r",
      " 37%|███▋      | 524/1428 [03:54<05:15,  2.87it/s]"
     ]
    },
    {
     "name": "stdout",
     "output_type": "stream",
     "text": [
      "retrieving http://oracc.org/etcsri/Q001516/html\n",
      "saving http://oracc.org/etcsri/Q001516 as HTML/etcsri_Q001516.html\n"
     ]
    },
    {
     "name": "stderr",
     "output_type": "stream",
     "text": [
      "\r",
      " 37%|███▋      | 525/1428 [03:55<05:25,  2.78it/s]"
     ]
    },
    {
     "name": "stdout",
     "output_type": "stream",
     "text": [
      "retrieving http://oracc.org/etcsri/Q001517/html\n",
      "saving http://oracc.org/etcsri/Q001517 as HTML/etcsri_Q001517.html\n"
     ]
    },
    {
     "name": "stderr",
     "output_type": "stream",
     "text": [
      "\r",
      " 37%|███▋      | 526/1428 [03:55<05:16,  2.85it/s]"
     ]
    },
    {
     "name": "stdout",
     "output_type": "stream",
     "text": [
      "retrieving http://oracc.org/etcsri/Q001518/html\n",
      "saving http://oracc.org/etcsri/Q001518 as HTML/etcsri_Q001518.html\n"
     ]
    },
    {
     "name": "stderr",
     "output_type": "stream",
     "text": [
      "\r",
      " 37%|███▋      | 527/1428 [03:55<05:28,  2.74it/s]"
     ]
    },
    {
     "name": "stdout",
     "output_type": "stream",
     "text": [
      "retrieving http://oracc.org/etcsri/Q001519/html\n",
      "saving http://oracc.org/etcsri/Q001519 as HTML/etcsri_Q001519.html\n"
     ]
    },
    {
     "name": "stderr",
     "output_type": "stream",
     "text": [
      "\r",
      " 37%|███▋      | 528/1428 [03:56<05:39,  2.65it/s]"
     ]
    },
    {
     "name": "stdout",
     "output_type": "stream",
     "text": [
      "retrieving http://oracc.org/etcsri/Q001520/html\n",
      "saving http://oracc.org/etcsri/Q001520 as HTML/etcsri_Q001520.html\n"
     ]
    },
    {
     "name": "stderr",
     "output_type": "stream",
     "text": [
      "\r",
      " 37%|███▋      | 529/1428 [03:56<05:43,  2.62it/s]"
     ]
    },
    {
     "name": "stdout",
     "output_type": "stream",
     "text": [
      "retrieving http://oracc.org/etcsri/Q001521/html\n",
      "saving http://oracc.org/etcsri/Q001521 as HTML/etcsri_Q001521.html\n"
     ]
    },
    {
     "name": "stderr",
     "output_type": "stream",
     "text": [
      "\r",
      " 37%|███▋      | 530/1428 [03:57<05:32,  2.70it/s]"
     ]
    },
    {
     "name": "stdout",
     "output_type": "stream",
     "text": [
      "retrieving http://oracc.org/etcsri/Q001522/html\n",
      "saving http://oracc.org/etcsri/Q001522 as HTML/etcsri_Q001522.html\n"
     ]
    },
    {
     "name": "stderr",
     "output_type": "stream",
     "text": [
      "\r",
      " 37%|███▋      | 531/1428 [03:57<05:48,  2.57it/s]"
     ]
    },
    {
     "name": "stdout",
     "output_type": "stream",
     "text": [
      "retrieving http://oracc.org/etcsri/Q001523/html\n",
      "saving http://oracc.org/etcsri/Q001523 as HTML/etcsri_Q001523.html\n"
     ]
    },
    {
     "name": "stderr",
     "output_type": "stream",
     "text": [
      "\r",
      " 37%|███▋      | 532/1428 [03:57<05:57,  2.51it/s]"
     ]
    },
    {
     "name": "stdout",
     "output_type": "stream",
     "text": [
      "retrieving http://oracc.org/etcsri/Q001524/html\n",
      "saving http://oracc.org/etcsri/Q001524 as HTML/etcsri_Q001524.html\n"
     ]
    },
    {
     "name": "stderr",
     "output_type": "stream",
     "text": [
      "\r",
      " 37%|███▋      | 533/1428 [03:58<05:44,  2.60it/s]"
     ]
    },
    {
     "name": "stdout",
     "output_type": "stream",
     "text": [
      "retrieving http://oracc.org/etcsri/Q001525/html\n",
      "saving http://oracc.org/etcsri/Q001525 as HTML/etcsri_Q001525.html\n"
     ]
    },
    {
     "name": "stderr",
     "output_type": "stream",
     "text": [
      "\r",
      " 37%|███▋      | 534/1428 [03:58<05:36,  2.66it/s]"
     ]
    },
    {
     "name": "stdout",
     "output_type": "stream",
     "text": [
      "retrieving http://oracc.org/etcsri/Q001526/html\n",
      "saving http://oracc.org/etcsri/Q001526 as HTML/etcsri_Q001526.html\n"
     ]
    },
    {
     "name": "stderr",
     "output_type": "stream",
     "text": [
      "\r",
      " 37%|███▋      | 535/1428 [03:59<05:50,  2.55it/s]"
     ]
    },
    {
     "name": "stdout",
     "output_type": "stream",
     "text": [
      "retrieving http://oracc.org/etcsri/Q001527/html\n",
      "saving http://oracc.org/etcsri/Q001527 as HTML/etcsri_Q001527.html\n"
     ]
    },
    {
     "name": "stderr",
     "output_type": "stream",
     "text": [
      "\r",
      " 38%|███▊      | 536/1428 [03:59<05:42,  2.61it/s]"
     ]
    },
    {
     "name": "stdout",
     "output_type": "stream",
     "text": [
      "retrieving http://oracc.org/etcsri/Q001528/html\n",
      "saving http://oracc.org/etcsri/Q001528 as HTML/etcsri_Q001528.html\n"
     ]
    },
    {
     "name": "stderr",
     "output_type": "stream",
     "text": [
      "\r",
      " 38%|███▊      | 537/1428 [03:59<05:33,  2.67it/s]"
     ]
    },
    {
     "name": "stdout",
     "output_type": "stream",
     "text": [
      "retrieving http://oracc.org/etcsri/Q001529/html\n",
      "saving http://oracc.org/etcsri/Q001529 as HTML/etcsri_Q001529.html\n"
     ]
    },
    {
     "name": "stderr",
     "output_type": "stream",
     "text": [
      "\r",
      " 38%|███▊      | 538/1428 [04:00<06:34,  2.26it/s]"
     ]
    },
    {
     "name": "stdout",
     "output_type": "stream",
     "text": [
      "retrieving http://oracc.org/etcsri/Q001530/html\n",
      "saving http://oracc.org/etcsri/Q001530 as HTML/etcsri_Q001530.html\n"
     ]
    },
    {
     "name": "stderr",
     "output_type": "stream",
     "text": [
      "\r",
      " 38%|███▊      | 539/1428 [04:00<06:13,  2.38it/s]"
     ]
    },
    {
     "name": "stdout",
     "output_type": "stream",
     "text": [
      "retrieving http://oracc.org/etcsri/Q001531/html\n",
      "saving http://oracc.org/etcsri/Q001531 as HTML/etcsri_Q001531.html\n"
     ]
    },
    {
     "name": "stderr",
     "output_type": "stream",
     "text": [
      "\r",
      " 38%|███▊      | 540/1428 [04:01<06:24,  2.31it/s]"
     ]
    },
    {
     "name": "stdout",
     "output_type": "stream",
     "text": [
      "retrieving http://oracc.org/etcsri/Q001532/html\n",
      "saving http://oracc.org/etcsri/Q001532 as HTML/etcsri_Q001532.html\n"
     ]
    },
    {
     "name": "stderr",
     "output_type": "stream",
     "text": [
      "\r",
      " 38%|███▊      | 541/1428 [04:01<06:04,  2.43it/s]"
     ]
    },
    {
     "name": "stdout",
     "output_type": "stream",
     "text": [
      "retrieving http://oracc.org/etcsri/Q003228/html\n",
      "saving http://oracc.org/etcsri/Q003228 as HTML/etcsri_Q003228.html\n"
     ]
    },
    {
     "name": "stderr",
     "output_type": "stream",
     "text": [
      "\r",
      " 38%|███▊      | 542/1428 [04:01<05:52,  2.51it/s]"
     ]
    },
    {
     "name": "stdout",
     "output_type": "stream",
     "text": [
      "retrieving http://oracc.org/etcsri/Q003229/html\n",
      "saving http://oracc.org/etcsri/Q003229 as HTML/etcsri_Q003229.html\n"
     ]
    },
    {
     "name": "stderr",
     "output_type": "stream",
     "text": [
      "\r",
      " 38%|███▊      | 543/1428 [04:02<05:42,  2.58it/s]"
     ]
    },
    {
     "name": "stdout",
     "output_type": "stream",
     "text": [
      "retrieving http://oracc.org/etcsri/Q004877/html\n",
      "saving http://oracc.org/etcsri/Q004877 as HTML/etcsri_Q004877.html\n"
     ]
    },
    {
     "name": "stderr",
     "output_type": "stream",
     "text": [
      "\r",
      " 38%|███▊      | 544/1428 [04:02<05:46,  2.55it/s]"
     ]
    },
    {
     "name": "stdout",
     "output_type": "stream",
     "text": [
      "retrieving http://oracc.org/etcsri/X000105/html\n",
      "saving http://oracc.org/etcsri/X000105 as HTML/etcsri_X000105.html\n"
     ]
    },
    {
     "name": "stderr",
     "output_type": "stream",
     "text": [
      "\r",
      " 38%|███▊      | 545/1428 [04:03<06:09,  2.39it/s]"
     ]
    },
    {
     "name": "stdout",
     "output_type": "stream",
     "text": [
      "retrieving http://oracc.org/etcsri/X000106/html\n",
      "saving http://oracc.org/etcsri/X000106 as HTML/etcsri_X000106.html\n"
     ]
    },
    {
     "name": "stderr",
     "output_type": "stream",
     "text": [
      "\r",
      " 38%|███▊      | 546/1428 [04:03<05:50,  2.52it/s]"
     ]
    },
    {
     "name": "stdout",
     "output_type": "stream",
     "text": [
      "retrieving http://oracc.org/etcsri/X002001/html\n",
      "saving http://oracc.org/etcsri/X002001 as HTML/etcsri_X002001.html\n"
     ]
    },
    {
     "name": "stderr",
     "output_type": "stream",
     "text": [
      "\r",
      " 38%|███▊      | 547/1428 [04:03<05:36,  2.62it/s]"
     ]
    },
    {
     "name": "stdout",
     "output_type": "stream",
     "text": [
      "retrieving http://oracc.org/etcsri/X002002/html\n",
      "saving http://oracc.org/etcsri/X002002 as HTML/etcsri_X002002.html\n"
     ]
    },
    {
     "name": "stderr",
     "output_type": "stream",
     "text": [
      "\r",
      " 38%|███▊      | 548/1428 [04:04<05:39,  2.59it/s]"
     ]
    },
    {
     "name": "stdout",
     "output_type": "stream",
     "text": [
      "retrieving http://oracc.org/etcsri/X002003/html\n",
      "saving http://oracc.org/etcsri/X002003 as HTML/etcsri_X002003.html\n"
     ]
    },
    {
     "name": "stderr",
     "output_type": "stream",
     "text": [
      "\r",
      " 38%|███▊      | 549/1428 [04:04<05:26,  2.69it/s]"
     ]
    },
    {
     "name": "stdout",
     "output_type": "stream",
     "text": [
      "retrieving http://oracc.org/etcsri/X002004/html\n",
      "saving http://oracc.org/etcsri/X002004 as HTML/etcsri_X002004.html\n"
     ]
    },
    {
     "name": "stderr",
     "output_type": "stream",
     "text": [
      "\r",
      " 39%|███▊      | 550/1428 [04:04<05:14,  2.79it/s]"
     ]
    },
    {
     "name": "stdout",
     "output_type": "stream",
     "text": [
      "retrieving http://oracc.org/etcsri/Q001566/html\n",
      "saving http://oracc.org/etcsri/Q001566 as HTML/etcsri_Q001566.html\n"
     ]
    },
    {
     "name": "stderr",
     "output_type": "stream",
     "text": [
      "\r",
      " 39%|███▊      | 551/1428 [04:05<05:09,  2.83it/s]"
     ]
    },
    {
     "name": "stdout",
     "output_type": "stream",
     "text": [
      "retrieving http://oracc.org/etcsri/Q000928/html\n",
      "saving http://oracc.org/etcsri/Q000928 as HTML/etcsri_Q000928.html\n"
     ]
    },
    {
     "name": "stderr",
     "output_type": "stream",
     "text": [
      "\r",
      " 39%|███▊      | 552/1428 [04:05<06:02,  2.42it/s]"
     ]
    },
    {
     "name": "stdout",
     "output_type": "stream",
     "text": [
      "retrieving http://oracc.org/etcsri/Q000929/html\n",
      "saving http://oracc.org/etcsri/Q000929 as HTML/etcsri_Q000929.html\n"
     ]
    },
    {
     "name": "stderr",
     "output_type": "stream",
     "text": [
      "\r",
      " 39%|███▊      | 553/1428 [04:06<06:23,  2.28it/s]"
     ]
    },
    {
     "name": "stdout",
     "output_type": "stream",
     "text": [
      "retrieving http://oracc.org/etcsri/Q001567/html\n",
      "saving http://oracc.org/etcsri/Q001567 as HTML/etcsri_Q001567.html\n"
     ]
    },
    {
     "name": "stderr",
     "output_type": "stream",
     "text": [
      "\r",
      " 39%|███▉      | 554/1428 [04:06<06:34,  2.22it/s]"
     ]
    },
    {
     "name": "stdout",
     "output_type": "stream",
     "text": [
      "retrieving http://oracc.org/etcsri/Q001568/html\n",
      "saving http://oracc.org/etcsri/Q001568 as HTML/etcsri_Q001568.html\n"
     ]
    },
    {
     "name": "stderr",
     "output_type": "stream",
     "text": [
      "\r",
      " 39%|███▉      | 555/1428 [04:07<07:00,  2.08it/s]"
     ]
    },
    {
     "name": "stdout",
     "output_type": "stream",
     "text": [
      "retrieving http://oracc.org/etcsri/Q001569/html\n",
      "saving http://oracc.org/etcsri/Q001569 as HTML/etcsri_Q001569.html\n"
     ]
    },
    {
     "name": "stderr",
     "output_type": "stream",
     "text": [
      "\r",
      " 39%|███▉      | 556/1428 [04:07<06:55,  2.10it/s]"
     ]
    },
    {
     "name": "stdout",
     "output_type": "stream",
     "text": [
      "retrieving http://oracc.org/etcsri/Q001570/html\n",
      "saving http://oracc.org/etcsri/Q001570 as HTML/etcsri_Q001570.html\n"
     ]
    },
    {
     "name": "stderr",
     "output_type": "stream",
     "text": [
      "\r",
      " 39%|███▉      | 557/1428 [04:08<06:17,  2.31it/s]"
     ]
    },
    {
     "name": "stdout",
     "output_type": "stream",
     "text": [
      "retrieving http://oracc.org/etcsri/Q001571/html\n",
      "saving http://oracc.org/etcsri/Q001571 as HTML/etcsri_Q001571.html\n"
     ]
    },
    {
     "name": "stderr",
     "output_type": "stream",
     "text": [
      "\r",
      " 39%|███▉      | 558/1428 [04:08<06:25,  2.26it/s]"
     ]
    },
    {
     "name": "stdout",
     "output_type": "stream",
     "text": [
      "retrieving http://oracc.org/etcsri/Q001572/html\n",
      "saving http://oracc.org/etcsri/Q001572 as HTML/etcsri_Q001572.html\n"
     ]
    },
    {
     "name": "stderr",
     "output_type": "stream",
     "text": [
      "\r",
      " 39%|███▉      | 559/1428 [04:08<05:57,  2.43it/s]"
     ]
    },
    {
     "name": "stdout",
     "output_type": "stream",
     "text": [
      "retrieving http://oracc.org/etcsri/Q001573/html\n",
      "saving http://oracc.org/etcsri/Q001573 as HTML/etcsri_Q001573.html\n"
     ]
    },
    {
     "name": "stderr",
     "output_type": "stream",
     "text": [
      "\r",
      " 39%|███▉      | 560/1428 [04:09<05:42,  2.53it/s]"
     ]
    },
    {
     "name": "stdout",
     "output_type": "stream",
     "text": [
      "retrieving http://oracc.org/etcsri/Q001574/html\n",
      "saving http://oracc.org/etcsri/Q001574 as HTML/etcsri_Q001574.html\n"
     ]
    },
    {
     "name": "stderr",
     "output_type": "stream",
     "text": [
      "\r",
      " 39%|███▉      | 561/1428 [04:09<05:33,  2.60it/s]"
     ]
    },
    {
     "name": "stdout",
     "output_type": "stream",
     "text": [
      "retrieving http://oracc.org/etcsri/Q001575/html\n",
      "saving http://oracc.org/etcsri/Q001575 as HTML/etcsri_Q001575.html\n"
     ]
    },
    {
     "name": "stderr",
     "output_type": "stream",
     "text": [
      "\r",
      " 39%|███▉      | 562/1428 [04:09<05:20,  2.70it/s]"
     ]
    },
    {
     "name": "stdout",
     "output_type": "stream",
     "text": [
      "retrieving http://oracc.org/etcsri/Q001576/html\n",
      "saving http://oracc.org/etcsri/Q001576 as HTML/etcsri_Q001576.html\n"
     ]
    },
    {
     "name": "stderr",
     "output_type": "stream",
     "text": [
      "\r",
      " 39%|███▉      | 563/1428 [04:10<05:53,  2.45it/s]"
     ]
    },
    {
     "name": "stdout",
     "output_type": "stream",
     "text": [
      "retrieving http://oracc.org/etcsri/Q001577/html\n",
      "saving http://oracc.org/etcsri/Q001577 as HTML/etcsri_Q001577.html\n"
     ]
    },
    {
     "name": "stderr",
     "output_type": "stream",
     "text": [
      "\r",
      " 39%|███▉      | 564/1428 [04:11<06:29,  2.22it/s]"
     ]
    },
    {
     "name": "stdout",
     "output_type": "stream",
     "text": [
      "retrieving http://oracc.org/etcsri/Q001578/html\n",
      "saving http://oracc.org/etcsri/Q001578 as HTML/etcsri_Q001578.html\n"
     ]
    },
    {
     "name": "stderr",
     "output_type": "stream",
     "text": [
      "\r",
      " 40%|███▉      | 565/1428 [04:11<05:59,  2.40it/s]"
     ]
    },
    {
     "name": "stdout",
     "output_type": "stream",
     "text": [
      "retrieving http://oracc.org/etcsri/Q000930/html\n",
      "saving http://oracc.org/etcsri/Q000930 as HTML/etcsri_Q000930.html\n"
     ]
    },
    {
     "name": "stderr",
     "output_type": "stream",
     "text": [
      "\r",
      " 40%|███▉      | 566/1428 [04:11<05:43,  2.51it/s]"
     ]
    },
    {
     "name": "stdout",
     "output_type": "stream",
     "text": [
      "retrieving http://oracc.org/etcsri/Q000931/html\n",
      "saving http://oracc.org/etcsri/Q000931 as HTML/etcsri_Q000931.html\n"
     ]
    },
    {
     "name": "stderr",
     "output_type": "stream",
     "text": [
      "\r",
      " 40%|███▉      | 567/1428 [04:12<06:17,  2.28it/s]"
     ]
    },
    {
     "name": "stdout",
     "output_type": "stream",
     "text": [
      "retrieving http://oracc.org/etcsri/Q001579/html\n",
      "saving http://oracc.org/etcsri/Q001579 as HTML/etcsri_Q001579.html\n"
     ]
    },
    {
     "name": "stderr",
     "output_type": "stream",
     "text": [
      "\r",
      " 40%|███▉      | 568/1428 [04:12<05:55,  2.42it/s]"
     ]
    },
    {
     "name": "stdout",
     "output_type": "stream",
     "text": [
      "retrieving http://oracc.org/etcsri/Q001580/html\n",
      "saving http://oracc.org/etcsri/Q001580 as HTML/etcsri_Q001580.html\n"
     ]
    },
    {
     "name": "stderr",
     "output_type": "stream",
     "text": [
      "\r",
      " 40%|███▉      | 569/1428 [04:13<05:56,  2.41it/s]"
     ]
    },
    {
     "name": "stdout",
     "output_type": "stream",
     "text": [
      "retrieving http://oracc.org/etcsri/Q001581/html\n",
      "saving http://oracc.org/etcsri/Q001581 as HTML/etcsri_Q001581.html\n"
     ]
    },
    {
     "name": "stderr",
     "output_type": "stream",
     "text": [
      "\r",
      " 40%|███▉      | 570/1428 [04:13<06:24,  2.23it/s]"
     ]
    },
    {
     "name": "stdout",
     "output_type": "stream",
     "text": [
      "retrieving http://oracc.org/etcsri/Q000932/html\n",
      "saving http://oracc.org/etcsri/Q000932 as HTML/etcsri_Q000932.html\n"
     ]
    },
    {
     "name": "stderr",
     "output_type": "stream",
     "text": [
      "\r",
      " 40%|███▉      | 571/1428 [04:13<05:58,  2.39it/s]"
     ]
    },
    {
     "name": "stdout",
     "output_type": "stream",
     "text": [
      "retrieving http://oracc.org/etcsri/Q001582/html\n",
      "saving http://oracc.org/etcsri/Q001582 as HTML/etcsri_Q001582.html\n"
     ]
    },
    {
     "name": "stderr",
     "output_type": "stream",
     "text": [
      "\r",
      " 40%|████      | 572/1428 [04:14<05:45,  2.48it/s]"
     ]
    },
    {
     "name": "stdout",
     "output_type": "stream",
     "text": [
      "retrieving http://oracc.org/etcsri/Q001583/html\n",
      "saving http://oracc.org/etcsri/Q001583 as HTML/etcsri_Q001583.html\n"
     ]
    },
    {
     "name": "stderr",
     "output_type": "stream",
     "text": [
      "\r",
      " 40%|████      | 573/1428 [04:14<06:32,  2.18it/s]"
     ]
    },
    {
     "name": "stdout",
     "output_type": "stream",
     "text": [
      "retrieving http://oracc.org/etcsri/Q001584/html\n",
      "saving http://oracc.org/etcsri/Q001584 as HTML/etcsri_Q001584.html\n"
     ]
    },
    {
     "name": "stderr",
     "output_type": "stream",
     "text": [
      "\r",
      " 40%|████      | 574/1428 [04:15<06:21,  2.24it/s]"
     ]
    },
    {
     "name": "stdout",
     "output_type": "stream",
     "text": [
      "retrieving http://oracc.org/etcsri/Q000933/html\n",
      "saving http://oracc.org/etcsri/Q000933 as HTML/etcsri_Q000933.html\n"
     ]
    },
    {
     "name": "stderr",
     "output_type": "stream",
     "text": [
      "\r",
      " 40%|████      | 575/1428 [04:15<06:09,  2.31it/s]"
     ]
    },
    {
     "name": "stdout",
     "output_type": "stream",
     "text": [
      "retrieving http://oracc.org/etcsri/Q001585/html\n",
      "saving http://oracc.org/etcsri/Q001585 as HTML/etcsri_Q001585.html\n"
     ]
    },
    {
     "name": "stderr",
     "output_type": "stream",
     "text": [
      "\r",
      " 40%|████      | 576/1428 [04:16<05:57,  2.38it/s]"
     ]
    },
    {
     "name": "stdout",
     "output_type": "stream",
     "text": [
      "retrieving http://oracc.org/etcsri/Q001586/html\n",
      "saving http://oracc.org/etcsri/Q001586 as HTML/etcsri_Q001586.html\n"
     ]
    },
    {
     "name": "stderr",
     "output_type": "stream",
     "text": [
      "\r",
      " 40%|████      | 577/1428 [04:16<05:39,  2.51it/s]"
     ]
    },
    {
     "name": "stdout",
     "output_type": "stream",
     "text": [
      "retrieving http://oracc.org/etcsri/Q001587/html\n",
      "saving http://oracc.org/etcsri/Q001587 as HTML/etcsri_Q001587.html\n"
     ]
    },
    {
     "name": "stderr",
     "output_type": "stream",
     "text": [
      "\r",
      " 40%|████      | 578/1428 [04:16<05:25,  2.61it/s]"
     ]
    },
    {
     "name": "stdout",
     "output_type": "stream",
     "text": [
      "retrieving http://oracc.org/etcsri/Q001588/html\n",
      "saving http://oracc.org/etcsri/Q001588 as HTML/etcsri_Q001588.html\n"
     ]
    },
    {
     "name": "stderr",
     "output_type": "stream",
     "text": [
      "\r",
      " 41%|████      | 579/1428 [04:17<05:49,  2.43it/s]"
     ]
    },
    {
     "name": "stdout",
     "output_type": "stream",
     "text": [
      "retrieving http://oracc.org/etcsri/Q001589/html\n",
      "saving http://oracc.org/etcsri/Q001589 as HTML/etcsri_Q001589.html\n"
     ]
    },
    {
     "name": "stderr",
     "output_type": "stream",
     "text": [
      "\r",
      " 41%|████      | 580/1428 [04:17<06:03,  2.33it/s]"
     ]
    },
    {
     "name": "stdout",
     "output_type": "stream",
     "text": [
      "retrieving http://oracc.org/etcsri/Q000934/html\n",
      "saving http://oracc.org/etcsri/Q000934 as HTML/etcsri_Q000934.html\n"
     ]
    },
    {
     "name": "stderr",
     "output_type": "stream",
     "text": [
      "\r",
      " 41%|████      | 581/1428 [04:18<05:45,  2.45it/s]"
     ]
    },
    {
     "name": "stdout",
     "output_type": "stream",
     "text": [
      "retrieving http://oracc.org/etcsri/Q001590/html\n",
      "saving http://oracc.org/etcsri/Q001590 as HTML/etcsri_Q001590.html\n"
     ]
    },
    {
     "name": "stderr",
     "output_type": "stream",
     "text": [
      "\r",
      " 41%|████      | 582/1428 [04:18<05:46,  2.44it/s]"
     ]
    },
    {
     "name": "stdout",
     "output_type": "stream",
     "text": [
      "retrieving http://oracc.org/etcsri/Q001591/html\n",
      "saving http://oracc.org/etcsri/Q001591 as HTML/etcsri_Q001591.html\n"
     ]
    },
    {
     "name": "stderr",
     "output_type": "stream",
     "text": [
      "\r",
      " 41%|████      | 583/1428 [04:18<05:28,  2.57it/s]"
     ]
    },
    {
     "name": "stdout",
     "output_type": "stream",
     "text": [
      "retrieving http://oracc.org/etcsri/Q001592/html\n",
      "saving http://oracc.org/etcsri/Q001592 as HTML/etcsri_Q001592.html\n"
     ]
    },
    {
     "name": "stderr",
     "output_type": "stream",
     "text": [
      "\r",
      " 41%|████      | 584/1428 [04:19<05:20,  2.63it/s]"
     ]
    },
    {
     "name": "stdout",
     "output_type": "stream",
     "text": [
      "retrieving http://oracc.org/etcsri/Q001593/html\n",
      "saving http://oracc.org/etcsri/Q001593 as HTML/etcsri_Q001593.html\n"
     ]
    },
    {
     "name": "stderr",
     "output_type": "stream",
     "text": [
      "\r",
      " 41%|████      | 585/1428 [04:19<05:08,  2.73it/s]"
     ]
    },
    {
     "name": "stdout",
     "output_type": "stream",
     "text": [
      "retrieving http://oracc.org/etcsri/Q001594/html\n",
      "saving http://oracc.org/etcsri/Q001594 as HTML/etcsri_Q001594.html\n"
     ]
    },
    {
     "name": "stderr",
     "output_type": "stream",
     "text": [
      "\r",
      " 41%|████      | 586/1428 [04:19<05:11,  2.70it/s]"
     ]
    },
    {
     "name": "stdout",
     "output_type": "stream",
     "text": [
      "retrieving http://oracc.org/etcsri/Q001595/html\n",
      "saving http://oracc.org/etcsri/Q001595 as HTML/etcsri_Q001595.html\n"
     ]
    },
    {
     "name": "stderr",
     "output_type": "stream",
     "text": [
      "\r",
      " 41%|████      | 587/1428 [04:20<04:58,  2.82it/s]"
     ]
    },
    {
     "name": "stdout",
     "output_type": "stream",
     "text": [
      "retrieving http://oracc.org/etcsri/Q001596/html\n",
      "saving http://oracc.org/etcsri/Q001596 as HTML/etcsri_Q001596.html\n"
     ]
    },
    {
     "name": "stderr",
     "output_type": "stream",
     "text": [
      "\r",
      " 41%|████      | 588/1428 [04:20<04:52,  2.87it/s]"
     ]
    },
    {
     "name": "stdout",
     "output_type": "stream",
     "text": [
      "retrieving http://oracc.org/etcsri/Q001597/html\n",
      "saving http://oracc.org/etcsri/Q001597 as HTML/etcsri_Q001597.html\n"
     ]
    },
    {
     "name": "stderr",
     "output_type": "stream",
     "text": [
      "\r",
      " 41%|████      | 589/1428 [04:20<05:09,  2.72it/s]"
     ]
    },
    {
     "name": "stdout",
     "output_type": "stream",
     "text": [
      "retrieving http://oracc.org/etcsri/Q001598/html\n",
      "saving http://oracc.org/etcsri/Q001598 as HTML/etcsri_Q001598.html\n"
     ]
    },
    {
     "name": "stderr",
     "output_type": "stream",
     "text": [
      "\r",
      " 41%|████▏     | 590/1428 [04:21<05:22,  2.60it/s]"
     ]
    },
    {
     "name": "stdout",
     "output_type": "stream",
     "text": [
      "retrieving http://oracc.org/etcsri/Q001599/html\n",
      "saving http://oracc.org/etcsri/Q001599 as HTML/etcsri_Q001599.html\n"
     ]
    },
    {
     "name": "stderr",
     "output_type": "stream",
     "text": [
      "\r",
      " 41%|████▏     | 591/1428 [04:21<05:34,  2.50it/s]"
     ]
    },
    {
     "name": "stdout",
     "output_type": "stream",
     "text": [
      "retrieving http://oracc.org/etcsri/Q001600/html\n",
      "saving http://oracc.org/etcsri/Q001600 as HTML/etcsri_Q001600.html\n"
     ]
    },
    {
     "name": "stderr",
     "output_type": "stream",
     "text": [
      "\r",
      " 41%|████▏     | 592/1428 [04:22<05:18,  2.62it/s]"
     ]
    },
    {
     "name": "stdout",
     "output_type": "stream",
     "text": [
      "retrieving http://oracc.org/etcsri/Q001601/html\n",
      "saving http://oracc.org/etcsri/Q001601 as HTML/etcsri_Q001601.html\n"
     ]
    },
    {
     "name": "stderr",
     "output_type": "stream",
     "text": [
      "\r",
      " 42%|████▏     | 593/1428 [04:22<05:10,  2.69it/s]"
     ]
    },
    {
     "name": "stdout",
     "output_type": "stream",
     "text": [
      "retrieving http://oracc.org/etcsri/Q001602/html\n",
      "saving http://oracc.org/etcsri/Q001602 as HTML/etcsri_Q001602.html\n"
     ]
    },
    {
     "name": "stderr",
     "output_type": "stream",
     "text": [
      "\r",
      " 42%|████▏     | 594/1428 [04:22<05:01,  2.76it/s]"
     ]
    },
    {
     "name": "stdout",
     "output_type": "stream",
     "text": [
      "retrieving http://oracc.org/etcsri/Q001603/html\n",
      "saving http://oracc.org/etcsri/Q001603 as HTML/etcsri_Q001603.html\n"
     ]
    },
    {
     "name": "stderr",
     "output_type": "stream",
     "text": [
      "\r",
      " 42%|████▏     | 595/1428 [04:23<05:07,  2.71it/s]"
     ]
    },
    {
     "name": "stdout",
     "output_type": "stream",
     "text": [
      "retrieving http://oracc.org/etcsri/Q001604/html\n",
      "saving http://oracc.org/etcsri/Q001604 as HTML/etcsri_Q001604.html\n"
     ]
    },
    {
     "name": "stderr",
     "output_type": "stream",
     "text": [
      "\r",
      " 42%|████▏     | 596/1428 [04:23<05:25,  2.56it/s]"
     ]
    },
    {
     "name": "stdout",
     "output_type": "stream",
     "text": [
      "retrieving http://oracc.org/etcsri/Q001605/html\n",
      "saving http://oracc.org/etcsri/Q001605 as HTML/etcsri_Q001605.html\n"
     ]
    },
    {
     "name": "stderr",
     "output_type": "stream",
     "text": [
      "\r",
      " 42%|████▏     | 597/1428 [04:24<05:07,  2.71it/s]"
     ]
    },
    {
     "name": "stdout",
     "output_type": "stream",
     "text": [
      "retrieving http://oracc.org/etcsri/Q001606/html\n",
      "saving http://oracc.org/etcsri/Q001606 as HTML/etcsri_Q001606.html\n"
     ]
    },
    {
     "name": "stderr",
     "output_type": "stream",
     "text": [
      "\r",
      " 42%|████▏     | 598/1428 [04:24<04:57,  2.79it/s]"
     ]
    },
    {
     "name": "stdout",
     "output_type": "stream",
     "text": [
      "retrieving http://oracc.org/etcsri/Q001607/html\n",
      "saving http://oracc.org/etcsri/Q001607 as HTML/etcsri_Q001607.html\n"
     ]
    },
    {
     "name": "stderr",
     "output_type": "stream",
     "text": [
      "\r",
      " 42%|████▏     | 599/1428 [04:24<05:06,  2.70it/s]"
     ]
    },
    {
     "name": "stdout",
     "output_type": "stream",
     "text": [
      "retrieving http://oracc.org/etcsri/Q001608/html\n",
      "saving http://oracc.org/etcsri/Q001608 as HTML/etcsri_Q001608.html\n"
     ]
    },
    {
     "name": "stderr",
     "output_type": "stream",
     "text": [
      "\r",
      " 42%|████▏     | 600/1428 [04:25<05:08,  2.68it/s]"
     ]
    },
    {
     "name": "stdout",
     "output_type": "stream",
     "text": [
      "retrieving http://oracc.org/etcsri/Q001609/html\n",
      "saving http://oracc.org/etcsri/Q001609 as HTML/etcsri_Q001609.html\n"
     ]
    },
    {
     "name": "stderr",
     "output_type": "stream",
     "text": [
      "\r",
      " 42%|████▏     | 601/1428 [04:25<04:58,  2.77it/s]"
     ]
    },
    {
     "name": "stdout",
     "output_type": "stream",
     "text": [
      "retrieving http://oracc.org/etcsri/Q001610/html\n",
      "saving http://oracc.org/etcsri/Q001610 as HTML/etcsri_Q001610.html\n"
     ]
    },
    {
     "name": "stderr",
     "output_type": "stream",
     "text": [
      "\r",
      " 42%|████▏     | 602/1428 [04:26<06:17,  2.19it/s]"
     ]
    },
    {
     "name": "stdout",
     "output_type": "stream",
     "text": [
      "retrieving http://oracc.org/etcsri/Q001611/html\n",
      "saving http://oracc.org/etcsri/Q001611 as HTML/etcsri_Q001611.html\n"
     ]
    },
    {
     "name": "stderr",
     "output_type": "stream",
     "text": [
      "\r",
      " 42%|████▏     | 603/1428 [04:26<06:06,  2.25it/s]"
     ]
    },
    {
     "name": "stdout",
     "output_type": "stream",
     "text": [
      "retrieving http://oracc.org/etcsri/Q001612/html\n",
      "saving http://oracc.org/etcsri/Q001612 as HTML/etcsri_Q001612.html\n"
     ]
    },
    {
     "name": "stderr",
     "output_type": "stream",
     "text": [
      "\r",
      " 42%|████▏     | 604/1428 [04:27<06:08,  2.24it/s]"
     ]
    },
    {
     "name": "stdout",
     "output_type": "stream",
     "text": [
      "retrieving http://oracc.org/etcsri/Q001613/html\n",
      "saving http://oracc.org/etcsri/Q001613 as HTML/etcsri_Q001613.html\n"
     ]
    },
    {
     "name": "stderr",
     "output_type": "stream",
     "text": [
      "\r",
      " 42%|████▏     | 605/1428 [04:27<06:25,  2.14it/s]"
     ]
    },
    {
     "name": "stdout",
     "output_type": "stream",
     "text": [
      "retrieving http://oracc.org/etcsri/Q001614/html\n",
      "saving http://oracc.org/etcsri/Q001614 as HTML/etcsri_Q001614.html\n"
     ]
    },
    {
     "name": "stderr",
     "output_type": "stream",
     "text": [
      "\r",
      " 42%|████▏     | 606/1428 [04:27<06:00,  2.28it/s]"
     ]
    },
    {
     "name": "stdout",
     "output_type": "stream",
     "text": [
      "retrieving http://oracc.org/etcsri/Q001615/html\n",
      "saving http://oracc.org/etcsri/Q001615 as HTML/etcsri_Q001615.html\n"
     ]
    },
    {
     "name": "stderr",
     "output_type": "stream",
     "text": [
      "\r",
      " 43%|████▎     | 607/1428 [04:28<05:43,  2.39it/s]"
     ]
    },
    {
     "name": "stdout",
     "output_type": "stream",
     "text": [
      "retrieving http://oracc.org/etcsri/Q001616/html\n",
      "saving http://oracc.org/etcsri/Q001616 as HTML/etcsri_Q001616.html\n"
     ]
    },
    {
     "name": "stderr",
     "output_type": "stream",
     "text": [
      "\r",
      " 43%|████▎     | 608/1428 [04:28<05:41,  2.40it/s]"
     ]
    },
    {
     "name": "stdout",
     "output_type": "stream",
     "text": [
      "retrieving http://oracc.org/etcsri/Q004255/html\n",
      "saving http://oracc.org/etcsri/Q004255 as HTML/etcsri_Q004255.html\n"
     ]
    },
    {
     "name": "stderr",
     "output_type": "stream",
     "text": [
      "\r",
      " 43%|████▎     | 609/1428 [04:29<05:22,  2.54it/s]"
     ]
    },
    {
     "name": "stdout",
     "output_type": "stream",
     "text": [
      "retrieving http://oracc.org/etcsri/Q004256/html\n",
      "saving http://oracc.org/etcsri/Q004256 as HTML/etcsri_Q004256.html\n"
     ]
    },
    {
     "name": "stderr",
     "output_type": "stream",
     "text": [
      "\r",
      " 43%|████▎     | 610/1428 [04:29<05:26,  2.51it/s]"
     ]
    },
    {
     "name": "stdout",
     "output_type": "stream",
     "text": [
      "retrieving http://oracc.org/etcsri/Q004257/html\n",
      "saving http://oracc.org/etcsri/Q004257 as HTML/etcsri_Q004257.html\n"
     ]
    },
    {
     "name": "stderr",
     "output_type": "stream",
     "text": [
      "\r",
      " 43%|████▎     | 611/1428 [04:29<05:19,  2.55it/s]"
     ]
    },
    {
     "name": "stdout",
     "output_type": "stream",
     "text": [
      "retrieving http://oracc.org/etcsri/Q004258/html\n",
      "saving http://oracc.org/etcsri/Q004258 as HTML/etcsri_Q004258.html\n"
     ]
    },
    {
     "name": "stderr",
     "output_type": "stream",
     "text": [
      "\r",
      " 43%|████▎     | 612/1428 [04:30<05:03,  2.69it/s]"
     ]
    },
    {
     "name": "stdout",
     "output_type": "stream",
     "text": [
      "retrieving http://oracc.org/etcsri/Q004259/html\n",
      "saving http://oracc.org/etcsri/Q004259 as HTML/etcsri_Q004259.html\n"
     ]
    },
    {
     "name": "stderr",
     "output_type": "stream",
     "text": [
      "\r",
      " 43%|████▎     | 613/1428 [04:30<05:25,  2.51it/s]"
     ]
    },
    {
     "name": "stdout",
     "output_type": "stream",
     "text": [
      "retrieving http://oracc.org/etcsri/Q004260/html\n",
      "saving http://oracc.org/etcsri/Q004260 as HTML/etcsri_Q004260.html\n"
     ]
    },
    {
     "name": "stderr",
     "output_type": "stream",
     "text": [
      "\r",
      " 43%|████▎     | 614/1428 [04:31<06:23,  2.12it/s]"
     ]
    },
    {
     "name": "stdout",
     "output_type": "stream",
     "text": [
      "retrieving http://oracc.org/etcsri/Q004261/html\n",
      "saving http://oracc.org/etcsri/Q004261 as HTML/etcsri_Q004261.html\n"
     ]
    },
    {
     "name": "stderr",
     "output_type": "stream",
     "text": [
      "\r",
      " 43%|████▎     | 615/1428 [04:31<06:01,  2.25it/s]"
     ]
    },
    {
     "name": "stdout",
     "output_type": "stream",
     "text": [
      "retrieving http://oracc.org/etcsri/Q004262/html\n",
      "saving http://oracc.org/etcsri/Q004262 as HTML/etcsri_Q004262.html\n"
     ]
    },
    {
     "name": "stderr",
     "output_type": "stream",
     "text": [
      "\r",
      " 43%|████▎     | 616/1428 [04:31<05:35,  2.42it/s]"
     ]
    },
    {
     "name": "stdout",
     "output_type": "stream",
     "text": [
      "retrieving http://oracc.org/etcsri/Q004263/html\n",
      "saving http://oracc.org/etcsri/Q004263 as HTML/etcsri_Q004263.html\n"
     ]
    },
    {
     "name": "stderr",
     "output_type": "stream",
     "text": [
      "\r",
      " 43%|████▎     | 617/1428 [04:32<05:17,  2.55it/s]"
     ]
    },
    {
     "name": "stdout",
     "output_type": "stream",
     "text": [
      "retrieving http://oracc.org/etcsri/Q004264/html\n",
      "saving http://oracc.org/etcsri/Q004264 as HTML/etcsri_Q004264.html\n"
     ]
    },
    {
     "name": "stderr",
     "output_type": "stream",
     "text": [
      "\r",
      " 43%|████▎     | 618/1428 [04:32<05:02,  2.68it/s]"
     ]
    },
    {
     "name": "stdout",
     "output_type": "stream",
     "text": [
      "retrieving http://oracc.org/etcsri/Q004265/html\n",
      "saving http://oracc.org/etcsri/Q004265 as HTML/etcsri_Q004265.html\n"
     ]
    },
    {
     "name": "stderr",
     "output_type": "stream",
     "text": [
      "\r",
      " 43%|████▎     | 619/1428 [04:33<05:11,  2.60it/s]"
     ]
    },
    {
     "name": "stdout",
     "output_type": "stream",
     "text": [
      "retrieving http://oracc.org/etcsri/Q004266/html\n",
      "saving http://oracc.org/etcsri/Q004266 as HTML/etcsri_Q004266.html\n"
     ]
    },
    {
     "name": "stderr",
     "output_type": "stream",
     "text": [
      "\r",
      " 43%|████▎     | 620/1428 [04:33<05:13,  2.58it/s]"
     ]
    },
    {
     "name": "stdout",
     "output_type": "stream",
     "text": [
      "retrieving http://oracc.org/etcsri/Q004267/html\n",
      "saving http://oracc.org/etcsri/Q004267 as HTML/etcsri_Q004267.html\n"
     ]
    },
    {
     "name": "stderr",
     "output_type": "stream",
     "text": [
      "\r",
      " 43%|████▎     | 621/1428 [04:33<04:59,  2.69it/s]"
     ]
    },
    {
     "name": "stdout",
     "output_type": "stream",
     "text": [
      "retrieving http://oracc.org/etcsri/Q004268/html\n",
      "saving http://oracc.org/etcsri/Q004268 as HTML/etcsri_Q004268.html\n"
     ]
    },
    {
     "name": "stderr",
     "output_type": "stream",
     "text": [
      "\r",
      " 44%|████▎     | 622/1428 [04:34<04:55,  2.73it/s]"
     ]
    },
    {
     "name": "stdout",
     "output_type": "stream",
     "text": [
      "retrieving http://oracc.org/etcsri/Q004269/html\n",
      "saving http://oracc.org/etcsri/Q004269 as HTML/etcsri_Q004269.html\n"
     ]
    },
    {
     "name": "stderr",
     "output_type": "stream",
     "text": [
      "\r",
      " 44%|████▎     | 623/1428 [04:34<05:42,  2.35it/s]"
     ]
    },
    {
     "name": "stdout",
     "output_type": "stream",
     "text": [
      "retrieving http://oracc.org/etcsri/Q004270/html\n",
      "saving http://oracc.org/etcsri/Q004270 as HTML/etcsri_Q004270.html\n"
     ]
    },
    {
     "name": "stderr",
     "output_type": "stream",
     "text": [
      "\r",
      " 44%|████▎     | 624/1428 [04:35<05:24,  2.48it/s]"
     ]
    },
    {
     "name": "stdout",
     "output_type": "stream",
     "text": [
      "retrieving http://oracc.org/etcsri/Q004271/html\n",
      "saving http://oracc.org/etcsri/Q004271 as HTML/etcsri_Q004271.html\n"
     ]
    },
    {
     "name": "stderr",
     "output_type": "stream",
     "text": [
      "\r",
      " 44%|████▍     | 625/1428 [04:35<05:04,  2.63it/s]"
     ]
    },
    {
     "name": "stdout",
     "output_type": "stream",
     "text": [
      "retrieving http://oracc.org/etcsri/Q004272/html\n",
      "saving http://oracc.org/etcsri/Q004272 as HTML/etcsri_Q004272.html\n"
     ]
    },
    {
     "name": "stderr",
     "output_type": "stream",
     "text": [
      "\r",
      " 44%|████▍     | 626/1428 [04:35<05:13,  2.56it/s]"
     ]
    },
    {
     "name": "stdout",
     "output_type": "stream",
     "text": [
      "retrieving http://oracc.org/etcsri/Q004273/html\n",
      "saving http://oracc.org/etcsri/Q004273 as HTML/etcsri_Q004273.html\n"
     ]
    },
    {
     "name": "stderr",
     "output_type": "stream",
     "text": [
      "\r",
      " 44%|████▍     | 627/1428 [04:36<05:25,  2.46it/s]"
     ]
    },
    {
     "name": "stdout",
     "output_type": "stream",
     "text": [
      "retrieving http://oracc.org/etcsri/Q004274/html\n",
      "saving http://oracc.org/etcsri/Q004274 as HTML/etcsri_Q004274.html\n"
     ]
    },
    {
     "name": "stderr",
     "output_type": "stream",
     "text": [
      "\r",
      " 44%|████▍     | 628/1428 [04:36<05:29,  2.42it/s]"
     ]
    },
    {
     "name": "stdout",
     "output_type": "stream",
     "text": [
      "retrieving http://oracc.org/etcsri/Q004275/html\n",
      "saving http://oracc.org/etcsri/Q004275 as HTML/etcsri_Q004275.html\n"
     ]
    },
    {
     "name": "stderr",
     "output_type": "stream",
     "text": [
      "\r",
      " 44%|████▍     | 629/1428 [04:36<05:08,  2.59it/s]"
     ]
    },
    {
     "name": "stdout",
     "output_type": "stream",
     "text": [
      "retrieving http://oracc.org/etcsri/Q004881/html\n",
      "saving http://oracc.org/etcsri/Q004881 as HTML/etcsri_Q004881.html\n"
     ]
    },
    {
     "name": "stderr",
     "output_type": "stream",
     "text": [
      "\r",
      " 44%|████▍     | 630/1428 [04:37<05:09,  2.58it/s]"
     ]
    },
    {
     "name": "stdout",
     "output_type": "stream",
     "text": [
      "retrieving http://oracc.org/etcsri/Q004882/html\n",
      "saving http://oracc.org/etcsri/Q004882 as HTML/etcsri_Q004882.html\n"
     ]
    },
    {
     "name": "stderr",
     "output_type": "stream",
     "text": [
      "\r",
      " 44%|████▍     | 631/1428 [04:37<05:05,  2.61it/s]"
     ]
    },
    {
     "name": "stdout",
     "output_type": "stream",
     "text": [
      "retrieving http://oracc.org/etcsri/Q004883/html\n",
      "saving http://oracc.org/etcsri/Q004883 as HTML/etcsri_Q004883.html\n"
     ]
    },
    {
     "name": "stderr",
     "output_type": "stream",
     "text": [
      "\r",
      " 44%|████▍     | 632/1428 [04:38<04:54,  2.71it/s]"
     ]
    },
    {
     "name": "stdout",
     "output_type": "stream",
     "text": [
      "retrieving http://oracc.org/etcsri/Q004884/html\n",
      "saving http://oracc.org/etcsri/Q004884 as HTML/etcsri_Q004884.html\n"
     ]
    },
    {
     "name": "stderr",
     "output_type": "stream",
     "text": [
      "\r",
      " 44%|████▍     | 633/1428 [04:38<04:44,  2.79it/s]"
     ]
    },
    {
     "name": "stdout",
     "output_type": "stream",
     "text": [
      "retrieving http://oracc.org/etcsri/Q004885/html\n",
      "saving http://oracc.org/etcsri/Q004885 as HTML/etcsri_Q004885.html\n"
     ]
    },
    {
     "name": "stderr",
     "output_type": "stream",
     "text": [
      "\r",
      " 44%|████▍     | 634/1428 [04:38<04:58,  2.66it/s]"
     ]
    },
    {
     "name": "stdout",
     "output_type": "stream",
     "text": [
      "retrieving http://oracc.org/etcsri/X004281/html\n",
      "saving http://oracc.org/etcsri/X004281 as HTML/etcsri_X004281.html\n"
     ]
    },
    {
     "name": "stderr",
     "output_type": "stream",
     "text": [
      "\r",
      " 44%|████▍     | 635/1428 [04:39<05:18,  2.49it/s]"
     ]
    },
    {
     "name": "stdout",
     "output_type": "stream",
     "text": [
      "retrieving http://oracc.org/etcsri/Q004886/html\n",
      "saving http://oracc.org/etcsri/Q004886 as HTML/etcsri_Q004886.html\n"
     ]
    },
    {
     "name": "stderr",
     "output_type": "stream",
     "text": [
      "\r",
      " 45%|████▍     | 636/1428 [04:39<05:02,  2.62it/s]"
     ]
    },
    {
     "name": "stdout",
     "output_type": "stream",
     "text": [
      "retrieving http://oracc.org/etcsri/Q004887/html\n",
      "saving http://oracc.org/etcsri/Q004887 as HTML/etcsri_Q004887.html\n"
     ]
    },
    {
     "name": "stderr",
     "output_type": "stream",
     "text": [
      "\r",
      " 45%|████▍     | 637/1428 [04:39<04:52,  2.71it/s]"
     ]
    },
    {
     "name": "stdout",
     "output_type": "stream",
     "text": [
      "retrieving http://oracc.org/etcsri/Q004888/html\n",
      "saving http://oracc.org/etcsri/Q004888 as HTML/etcsri_Q004888.html\n"
     ]
    },
    {
     "name": "stderr",
     "output_type": "stream",
     "text": [
      "\r",
      " 45%|████▍     | 638/1428 [04:40<04:48,  2.74it/s]"
     ]
    },
    {
     "name": "stdout",
     "output_type": "stream",
     "text": [
      "retrieving http://oracc.org/etcsri/Q004889/html\n",
      "saving http://oracc.org/etcsri/Q004889 as HTML/etcsri_Q004889.html\n"
     ]
    },
    {
     "name": "stderr",
     "output_type": "stream",
     "text": [
      "\r",
      " 45%|████▍     | 639/1428 [04:40<04:39,  2.83it/s]"
     ]
    },
    {
     "name": "stdout",
     "output_type": "stream",
     "text": [
      "retrieving http://oracc.org/etcsri/Q004890/html\n",
      "saving http://oracc.org/etcsri/Q004890 as HTML/etcsri_Q004890.html\n"
     ]
    },
    {
     "name": "stderr",
     "output_type": "stream",
     "text": [
      "\r",
      " 45%|████▍     | 640/1428 [04:41<04:53,  2.69it/s]"
     ]
    },
    {
     "name": "stdout",
     "output_type": "stream",
     "text": [
      "retrieving http://oracc.org/etcsri/Q004891/html\n",
      "saving http://oracc.org/etcsri/Q004891 as HTML/etcsri_Q004891.html\n"
     ]
    },
    {
     "name": "stderr",
     "output_type": "stream",
     "text": [
      "\r",
      " 45%|████▍     | 641/1428 [04:41<05:43,  2.29it/s]"
     ]
    },
    {
     "name": "stdout",
     "output_type": "stream",
     "text": [
      "retrieving http://oracc.org/etcsri/Q004892/html\n",
      "saving http://oracc.org/etcsri/Q004892 as HTML/etcsri_Q004892.html\n"
     ]
    },
    {
     "name": "stderr",
     "output_type": "stream",
     "text": [
      "\r",
      " 45%|████▍     | 642/1428 [04:41<05:19,  2.46it/s]"
     ]
    },
    {
     "name": "stdout",
     "output_type": "stream",
     "text": [
      "retrieving http://oracc.org/etcsri/Q004893/html\n",
      "saving http://oracc.org/etcsri/Q004893 as HTML/etcsri_Q004893.html\n"
     ]
    },
    {
     "name": "stderr",
     "output_type": "stream",
     "text": [
      "\r",
      " 45%|████▌     | 643/1428 [04:42<05:31,  2.37it/s]"
     ]
    },
    {
     "name": "stdout",
     "output_type": "stream",
     "text": [
      "retrieving http://oracc.org/etcsri/Q004894/html\n",
      "saving http://oracc.org/etcsri/Q004894 as HTML/etcsri_Q004894.html\n"
     ]
    },
    {
     "name": "stderr",
     "output_type": "stream",
     "text": [
      "\r",
      " 45%|████▌     | 644/1428 [04:42<05:12,  2.51it/s]"
     ]
    },
    {
     "name": "stdout",
     "output_type": "stream",
     "text": [
      "retrieving http://oracc.org/etcsri/Q004895/html\n",
      "saving http://oracc.org/etcsri/Q004895 as HTML/etcsri_Q004895.html\n"
     ]
    },
    {
     "name": "stderr",
     "output_type": "stream",
     "text": [
      "\r",
      " 45%|████▌     | 645/1428 [04:43<04:54,  2.66it/s]"
     ]
    },
    {
     "name": "stdout",
     "output_type": "stream",
     "text": [
      "retrieving http://oracc.org/etcsri/Q004878/html\n",
      "saving http://oracc.org/etcsri/Q004878 as HTML/etcsri_Q004878.html\n"
     ]
    },
    {
     "name": "stderr",
     "output_type": "stream",
     "text": [
      "\r",
      " 45%|████▌     | 646/1428 [04:43<05:13,  2.50it/s]"
     ]
    },
    {
     "name": "stdout",
     "output_type": "stream",
     "text": [
      "retrieving http://oracc.org/etcsri/Q004879/html\n",
      "saving http://oracc.org/etcsri/Q004879 as HTML/etcsri_Q004879.html\n"
     ]
    },
    {
     "name": "stderr",
     "output_type": "stream",
     "text": [
      "\r",
      " 45%|████▌     | 647/1428 [04:44<05:29,  2.37it/s]"
     ]
    },
    {
     "name": "stdout",
     "output_type": "stream",
     "text": [
      "retrieving http://oracc.org/etcsri/Q004880/html\n",
      "saving http://oracc.org/etcsri/Q004880 as HTML/etcsri_Q004880.html\n"
     ]
    },
    {
     "name": "stderr",
     "output_type": "stream",
     "text": [
      "\r",
      " 45%|████▌     | 648/1428 [04:44<05:27,  2.38it/s]"
     ]
    },
    {
     "name": "stdout",
     "output_type": "stream",
     "text": [
      "retrieving http://oracc.org/etcsri/Q004276/html\n",
      "saving http://oracc.org/etcsri/Q004276 as HTML/etcsri_Q004276.html\n"
     ]
    },
    {
     "name": "stderr",
     "output_type": "stream",
     "text": [
      "\r",
      " 45%|████▌     | 649/1428 [04:44<05:45,  2.25it/s]"
     ]
    },
    {
     "name": "stdout",
     "output_type": "stream",
     "text": [
      "retrieving http://oracc.org/etcsri/Q004277/html\n",
      "saving http://oracc.org/etcsri/Q004277 as HTML/etcsri_Q004277.html\n"
     ]
    },
    {
     "name": "stderr",
     "output_type": "stream",
     "text": [
      "\r",
      " 46%|████▌     | 650/1428 [04:45<05:40,  2.29it/s]"
     ]
    },
    {
     "name": "stdout",
     "output_type": "stream",
     "text": [
      "retrieving http://oracc.org/etcsri/Q000935/html\n",
      "saving http://oracc.org/etcsri/Q000935 as HTML/etcsri_Q000935.html\n"
     ]
    },
    {
     "name": "stderr",
     "output_type": "stream",
     "text": [
      "\r",
      " 46%|████▌     | 651/1428 [04:45<05:32,  2.33it/s]"
     ]
    },
    {
     "name": "stdout",
     "output_type": "stream",
     "text": [
      "retrieving http://oracc.org/etcsri/Q001619/html\n",
      "saving http://oracc.org/etcsri/Q001619 as HTML/etcsri_Q001619.html\n"
     ]
    },
    {
     "name": "stderr",
     "output_type": "stream",
     "text": [
      "\r",
      " 46%|████▌     | 652/1428 [04:46<05:09,  2.51it/s]"
     ]
    },
    {
     "name": "stdout",
     "output_type": "stream",
     "text": [
      "retrieving http://oracc.org/etcsri/Q000936/html\n",
      "saving http://oracc.org/etcsri/Q000936 as HTML/etcsri_Q000936.html\n"
     ]
    },
    {
     "name": "stderr",
     "output_type": "stream",
     "text": [
      "\r",
      " 46%|████▌     | 653/1428 [04:46<05:01,  2.57it/s]"
     ]
    },
    {
     "name": "stdout",
     "output_type": "stream",
     "text": [
      "retrieving http://oracc.org/etcsri/Q000937/html\n",
      "saving http://oracc.org/etcsri/Q000937 as HTML/etcsri_Q000937.html\n"
     ]
    },
    {
     "name": "stderr",
     "output_type": "stream",
     "text": [
      "\r",
      " 46%|████▌     | 654/1428 [04:46<04:51,  2.66it/s]"
     ]
    },
    {
     "name": "stdout",
     "output_type": "stream",
     "text": [
      "retrieving http://oracc.org/etcsri/Q001620/html\n",
      "saving http://oracc.org/etcsri/Q001620 as HTML/etcsri_Q001620.html\n"
     ]
    },
    {
     "name": "stderr",
     "output_type": "stream",
     "text": [
      "\r",
      " 46%|████▌     | 655/1428 [04:47<04:52,  2.64it/s]"
     ]
    },
    {
     "name": "stdout",
     "output_type": "stream",
     "text": [
      "retrieving http://oracc.org/etcsri/Q001621/html\n",
      "saving http://oracc.org/etcsri/Q001621 as HTML/etcsri_Q001621.html\n"
     ]
    },
    {
     "name": "stderr",
     "output_type": "stream",
     "text": [
      "\r",
      " 46%|████▌     | 656/1428 [04:47<05:28,  2.35it/s]"
     ]
    },
    {
     "name": "stdout",
     "output_type": "stream",
     "text": [
      "retrieving http://oracc.org/etcsri/Q001622/html\n",
      "saving http://oracc.org/etcsri/Q001622 as HTML/etcsri_Q001622.html\n"
     ]
    },
    {
     "name": "stderr",
     "output_type": "stream",
     "text": [
      "\r",
      " 46%|████▌     | 657/1428 [04:48<05:06,  2.51it/s]"
     ]
    },
    {
     "name": "stdout",
     "output_type": "stream",
     "text": [
      "retrieving http://oracc.org/etcsri/Q001623/html\n",
      "saving http://oracc.org/etcsri/Q001623 as HTML/etcsri_Q001623.html\n"
     ]
    },
    {
     "name": "stderr",
     "output_type": "stream",
     "text": [
      "\r",
      " 46%|████▌     | 658/1428 [04:48<04:52,  2.63it/s]"
     ]
    },
    {
     "name": "stdout",
     "output_type": "stream",
     "text": [
      "retrieving http://oracc.org/etcsri/Q000938/html\n",
      "saving http://oracc.org/etcsri/Q000938 as HTML/etcsri_Q000938.html\n"
     ]
    },
    {
     "name": "stderr",
     "output_type": "stream",
     "text": [
      "\r",
      " 46%|████▌     | 659/1428 [04:48<04:41,  2.73it/s]"
     ]
    },
    {
     "name": "stdout",
     "output_type": "stream",
     "text": [
      "retrieving http://oracc.org/etcsri/Q000939/html\n",
      "saving http://oracc.org/etcsri/Q000939 as HTML/etcsri_Q000939.html\n"
     ]
    },
    {
     "name": "stderr",
     "output_type": "stream",
     "text": [
      "\r",
      " 46%|████▌     | 660/1428 [04:49<04:34,  2.80it/s]"
     ]
    },
    {
     "name": "stdout",
     "output_type": "stream",
     "text": [
      "retrieving http://oracc.org/etcsri/Q000940/html\n",
      "saving http://oracc.org/etcsri/Q000940 as HTML/etcsri_Q000940.html\n"
     ]
    },
    {
     "name": "stderr",
     "output_type": "stream",
     "text": [
      "\r",
      " 46%|████▋     | 661/1428 [04:49<04:35,  2.79it/s]"
     ]
    },
    {
     "name": "stdout",
     "output_type": "stream",
     "text": [
      "retrieving http://oracc.org/etcsri/Q000941/html\n",
      "saving http://oracc.org/etcsri/Q000941 as HTML/etcsri_Q000941.html\n"
     ]
    },
    {
     "name": "stderr",
     "output_type": "stream",
     "text": [
      "\r",
      " 46%|████▋     | 662/1428 [04:49<04:45,  2.68it/s]"
     ]
    },
    {
     "name": "stdout",
     "output_type": "stream",
     "text": [
      "retrieving http://oracc.org/etcsri/Q000942/html\n",
      "saving http://oracc.org/etcsri/Q000942 as HTML/etcsri_Q000942.html\n"
     ]
    },
    {
     "name": "stderr",
     "output_type": "stream",
     "text": [
      "\r",
      " 46%|████▋     | 663/1428 [04:50<04:37,  2.75it/s]"
     ]
    },
    {
     "name": "stdout",
     "output_type": "stream",
     "text": [
      "retrieving http://oracc.org/etcsri/Q000943/html\n",
      "saving http://oracc.org/etcsri/Q000943 as HTML/etcsri_Q000943.html\n"
     ]
    },
    {
     "name": "stderr",
     "output_type": "stream",
     "text": [
      "\r",
      " 46%|████▋     | 664/1428 [04:50<04:34,  2.78it/s]"
     ]
    },
    {
     "name": "stdout",
     "output_type": "stream",
     "text": [
      "retrieving http://oracc.org/etcsri/Q000944/html\n",
      "saving http://oracc.org/etcsri/Q000944 as HTML/etcsri_Q000944.html\n"
     ]
    },
    {
     "name": "stderr",
     "output_type": "stream",
     "text": [
      "\r",
      " 47%|████▋     | 665/1428 [04:50<04:32,  2.80it/s]"
     ]
    },
    {
     "name": "stdout",
     "output_type": "stream",
     "text": [
      "retrieving http://oracc.org/etcsri/Q000945/html\n",
      "saving http://oracc.org/etcsri/Q000945 as HTML/etcsri_Q000945.html\n"
     ]
    },
    {
     "name": "stderr",
     "output_type": "stream",
     "text": [
      "\r",
      " 47%|████▋     | 666/1428 [04:51<05:33,  2.29it/s]"
     ]
    },
    {
     "name": "stdout",
     "output_type": "stream",
     "text": [
      "retrieving http://oracc.org/etcsri/Q001624/html\n",
      "saving http://oracc.org/etcsri/Q001624 as HTML/etcsri_Q001624.html\n"
     ]
    },
    {
     "name": "stderr",
     "output_type": "stream",
     "text": [
      "\r",
      " 47%|████▋     | 667/1428 [04:52<06:30,  1.95it/s]"
     ]
    },
    {
     "name": "stdout",
     "output_type": "stream",
     "text": [
      "retrieving http://oracc.org/etcsri/Q000946/html\n",
      "saving http://oracc.org/etcsri/Q000946 as HTML/etcsri_Q000946.html\n"
     ]
    },
    {
     "name": "stderr",
     "output_type": "stream",
     "text": [
      "\r",
      " 47%|████▋     | 668/1428 [04:52<06:18,  2.01it/s]"
     ]
    },
    {
     "name": "stdout",
     "output_type": "stream",
     "text": [
      "retrieving http://oracc.org/etcsri/Q000947/html\n",
      "saving http://oracc.org/etcsri/Q000947 as HTML/etcsri_Q000947.html\n"
     ]
    },
    {
     "name": "stderr",
     "output_type": "stream",
     "text": [
      "\r",
      " 47%|████▋     | 669/1428 [04:53<06:32,  1.93it/s]"
     ]
    },
    {
     "name": "stdout",
     "output_type": "stream",
     "text": [
      "retrieving http://oracc.org/etcsri/Q001625/html\n",
      "saving http://oracc.org/etcsri/Q001625 as HTML/etcsri_Q001625.html\n"
     ]
    },
    {
     "name": "stderr",
     "output_type": "stream",
     "text": [
      "\r",
      " 47%|████▋     | 670/1428 [04:54<07:34,  1.67it/s]"
     ]
    },
    {
     "name": "stdout",
     "output_type": "stream",
     "text": [
      "retrieving http://oracc.org/etcsri/Q001628/html\n",
      "saving http://oracc.org/etcsri/Q001628 as HTML/etcsri_Q001628.html\n"
     ]
    },
    {
     "name": "stderr",
     "output_type": "stream",
     "text": [
      "\r",
      " 47%|████▋     | 671/1428 [04:54<06:57,  1.81it/s]"
     ]
    },
    {
     "name": "stdout",
     "output_type": "stream",
     "text": [
      "retrieving http://oracc.org/etcsri/Q000949/html\n",
      "saving http://oracc.org/etcsri/Q000949 as HTML/etcsri_Q000949.html\n"
     ]
    },
    {
     "name": "stderr",
     "output_type": "stream",
     "text": [
      "\r",
      " 47%|████▋     | 672/1428 [04:54<06:38,  1.90it/s]"
     ]
    },
    {
     "name": "stdout",
     "output_type": "stream",
     "text": [
      "retrieving http://oracc.org/etcsri/Q000950/html\n",
      "saving http://oracc.org/etcsri/Q000950 as HTML/etcsri_Q000950.html\n"
     ]
    },
    {
     "name": "stderr",
     "output_type": "stream",
     "text": [
      "\r",
      " 47%|████▋     | 673/1428 [04:55<06:06,  2.06it/s]"
     ]
    },
    {
     "name": "stdout",
     "output_type": "stream",
     "text": [
      "retrieving http://oracc.org/etcsri/Q000951/html\n",
      "saving http://oracc.org/etcsri/Q000951 as HTML/etcsri_Q000951.html\n"
     ]
    },
    {
     "name": "stderr",
     "output_type": "stream",
     "text": [
      "\r",
      " 47%|████▋     | 674/1428 [04:55<05:35,  2.25it/s]"
     ]
    },
    {
     "name": "stdout",
     "output_type": "stream",
     "text": [
      "retrieving http://oracc.org/etcsri/Q001629/html\n",
      "saving http://oracc.org/etcsri/Q001629 as HTML/etcsri_Q001629.html\n"
     ]
    },
    {
     "name": "stderr",
     "output_type": "stream",
     "text": [
      "\r",
      " 47%|████▋     | 675/1428 [04:56<05:23,  2.33it/s]"
     ]
    },
    {
     "name": "stdout",
     "output_type": "stream",
     "text": [
      "retrieving http://oracc.org/etcsri/Q000952/html\n",
      "saving http://oracc.org/etcsri/Q000952 as HTML/etcsri_Q000952.html\n"
     ]
    },
    {
     "name": "stderr",
     "output_type": "stream",
     "text": [
      "\r",
      " 47%|████▋     | 676/1428 [04:56<06:45,  1.85it/s]"
     ]
    },
    {
     "name": "stdout",
     "output_type": "stream",
     "text": [
      "retrieving http://oracc.org/etcsri/Q001632/html\n",
      "saving http://oracc.org/etcsri/Q001632 as HTML/etcsri_Q001632.html\n"
     ]
    },
    {
     "name": "stderr",
     "output_type": "stream",
     "text": [
      "\r",
      " 47%|████▋     | 677/1428 [04:57<05:54,  2.12it/s]"
     ]
    },
    {
     "name": "stdout",
     "output_type": "stream",
     "text": [
      "retrieving http://oracc.org/etcsri/Q001633/html\n",
      "saving http://oracc.org/etcsri/Q001633 as HTML/etcsri_Q001633.html\n"
     ]
    },
    {
     "name": "stderr",
     "output_type": "stream",
     "text": [
      "\r",
      " 47%|████▋     | 678/1428 [04:57<05:27,  2.29it/s]"
     ]
    },
    {
     "name": "stdout",
     "output_type": "stream",
     "text": [
      "retrieving http://oracc.org/etcsri/Q000953/html\n",
      "saving http://oracc.org/etcsri/Q000953 as HTML/etcsri_Q000953.html\n"
     ]
    },
    {
     "name": "stderr",
     "output_type": "stream",
     "text": [
      "\r",
      " 48%|████▊     | 679/1428 [04:57<05:08,  2.43it/s]"
     ]
    },
    {
     "name": "stdout",
     "output_type": "stream",
     "text": [
      "retrieving http://oracc.org/etcsri/Q000954/html\n",
      "saving http://oracc.org/etcsri/Q000954 as HTML/etcsri_Q000954.html\n"
     ]
    },
    {
     "name": "stderr",
     "output_type": "stream",
     "text": [
      "\r",
      " 48%|████▊     | 680/1428 [04:58<05:03,  2.46it/s]"
     ]
    },
    {
     "name": "stdout",
     "output_type": "stream",
     "text": [
      "retrieving http://oracc.org/etcsri/Q000955/html\n",
      "saving http://oracc.org/etcsri/Q000955 as HTML/etcsri_Q000955.html\n"
     ]
    },
    {
     "name": "stderr",
     "output_type": "stream",
     "text": [
      "\r",
      " 48%|████▊     | 681/1428 [04:58<05:13,  2.38it/s]"
     ]
    },
    {
     "name": "stdout",
     "output_type": "stream",
     "text": [
      "retrieving http://oracc.org/etcsri/Q001634/html\n",
      "saving http://oracc.org/etcsri/Q001634 as HTML/etcsri_Q001634.html\n"
     ]
    },
    {
     "name": "stderr",
     "output_type": "stream",
     "text": [
      "\r",
      " 48%|████▊     | 682/1428 [04:59<04:53,  2.54it/s]"
     ]
    },
    {
     "name": "stdout",
     "output_type": "stream",
     "text": [
      "retrieving http://oracc.org/etcsri/Q000956/html\n",
      "saving http://oracc.org/etcsri/Q000956 as HTML/etcsri_Q000956.html\n"
     ]
    },
    {
     "name": "stderr",
     "output_type": "stream",
     "text": [
      "\r",
      " 48%|████▊     | 683/1428 [04:59<04:54,  2.53it/s]"
     ]
    },
    {
     "name": "stdout",
     "output_type": "stream",
     "text": [
      "retrieving http://oracc.org/etcsri/Q001635/html\n",
      "saving http://oracc.org/etcsri/Q001635 as HTML/etcsri_Q001635.html\n"
     ]
    },
    {
     "name": "stderr",
     "output_type": "stream",
     "text": [
      "\r",
      " 48%|████▊     | 684/1428 [04:59<04:54,  2.53it/s]"
     ]
    },
    {
     "name": "stdout",
     "output_type": "stream",
     "text": [
      "retrieving http://oracc.org/etcsri/Q000957/html\n",
      "saving http://oracc.org/etcsri/Q000957 as HTML/etcsri_Q000957.html\n"
     ]
    },
    {
     "name": "stderr",
     "output_type": "stream",
     "text": [
      "\r",
      " 48%|████▊     | 685/1428 [05:00<04:45,  2.60it/s]"
     ]
    },
    {
     "name": "stdout",
     "output_type": "stream",
     "text": [
      "retrieving http://oracc.org/etcsri/Q000958/html\n",
      "saving http://oracc.org/etcsri/Q000958 as HTML/etcsri_Q000958.html\n"
     ]
    },
    {
     "name": "stderr",
     "output_type": "stream",
     "text": [
      "\r",
      " 48%|████▊     | 686/1428 [05:00<04:34,  2.70it/s]"
     ]
    },
    {
     "name": "stdout",
     "output_type": "stream",
     "text": [
      "retrieving http://oracc.org/etcsri/Q001636/html\n",
      "saving http://oracc.org/etcsri/Q001636 as HTML/etcsri_Q001636.html\n"
     ]
    },
    {
     "name": "stderr",
     "output_type": "stream",
     "text": [
      "\r",
      " 48%|████▊     | 687/1428 [05:00<04:28,  2.76it/s]"
     ]
    },
    {
     "name": "stdout",
     "output_type": "stream",
     "text": [
      "retrieving http://oracc.org/etcsri/Q001637/html\n",
      "saving http://oracc.org/etcsri/Q001637 as HTML/etcsri_Q001637.html\n"
     ]
    },
    {
     "name": "stderr",
     "output_type": "stream",
     "text": [
      "\r",
      " 48%|████▊     | 688/1428 [05:01<04:32,  2.71it/s]"
     ]
    },
    {
     "name": "stdout",
     "output_type": "stream",
     "text": [
      "retrieving http://oracc.org/etcsri/Q001638/html\n",
      "saving http://oracc.org/etcsri/Q001638 as HTML/etcsri_Q001638.html\n"
     ]
    },
    {
     "name": "stderr",
     "output_type": "stream",
     "text": [
      "\r",
      " 48%|████▊     | 689/1428 [05:01<04:55,  2.50it/s]"
     ]
    },
    {
     "name": "stdout",
     "output_type": "stream",
     "text": [
      "retrieving http://oracc.org/etcsri/Q001639/html\n",
      "saving http://oracc.org/etcsri/Q001639 as HTML/etcsri_Q001639.html\n"
     ]
    },
    {
     "name": "stderr",
     "output_type": "stream",
     "text": [
      "\r",
      " 48%|████▊     | 690/1428 [05:02<04:38,  2.65it/s]"
     ]
    },
    {
     "name": "stdout",
     "output_type": "stream",
     "text": [
      "retrieving http://oracc.org/etcsri/Q001640/html\n",
      "saving http://oracc.org/etcsri/Q001640 as HTML/etcsri_Q001640.html\n"
     ]
    },
    {
     "name": "stderr",
     "output_type": "stream",
     "text": [
      "\r",
      " 48%|████▊     | 691/1428 [05:02<04:54,  2.50it/s]"
     ]
    },
    {
     "name": "stdout",
     "output_type": "stream",
     "text": [
      "retrieving http://oracc.org/etcsri/Q001641/html\n",
      "saving http://oracc.org/etcsri/Q001641 as HTML/etcsri_Q001641.html\n"
     ]
    },
    {
     "name": "stderr",
     "output_type": "stream",
     "text": [
      "\r",
      " 48%|████▊     | 692/1428 [05:02<05:03,  2.43it/s]"
     ]
    },
    {
     "name": "stdout",
     "output_type": "stream",
     "text": [
      "retrieving http://oracc.org/etcsri/Q001642/html\n",
      "saving http://oracc.org/etcsri/Q001642 as HTML/etcsri_Q001642.html\n"
     ]
    },
    {
     "name": "stderr",
     "output_type": "stream",
     "text": [
      "\r",
      " 49%|████▊     | 693/1428 [05:03<05:14,  2.34it/s]"
     ]
    },
    {
     "name": "stdout",
     "output_type": "stream",
     "text": [
      "retrieving http://oracc.org/etcsri/Q001643/html\n",
      "saving http://oracc.org/etcsri/Q001643 as HTML/etcsri_Q001643.html\n"
     ]
    },
    {
     "name": "stderr",
     "output_type": "stream",
     "text": [
      "\r",
      " 49%|████▊     | 694/1428 [05:03<04:53,  2.50it/s]"
     ]
    },
    {
     "name": "stdout",
     "output_type": "stream",
     "text": [
      "retrieving http://oracc.org/etcsri/Q001644/html\n",
      "saving http://oracc.org/etcsri/Q001644 as HTML/etcsri_Q001644.html\n"
     ]
    },
    {
     "name": "stderr",
     "output_type": "stream",
     "text": [
      "\r",
      " 49%|████▊     | 695/1428 [05:04<04:38,  2.63it/s]"
     ]
    },
    {
     "name": "stdout",
     "output_type": "stream",
     "text": [
      "retrieving http://oracc.org/etcsri/Q001645/html\n",
      "saving http://oracc.org/etcsri/Q001645 as HTML/etcsri_Q001645.html\n"
     ]
    },
    {
     "name": "stderr",
     "output_type": "stream",
     "text": [
      "\r",
      " 49%|████▊     | 696/1428 [05:04<04:39,  2.62it/s]"
     ]
    },
    {
     "name": "stdout",
     "output_type": "stream",
     "text": [
      "retrieving http://oracc.org/etcsri/Q001646/html\n",
      "saving http://oracc.org/etcsri/Q001646 as HTML/etcsri_Q001646.html\n"
     ]
    },
    {
     "name": "stderr",
     "output_type": "stream",
     "text": [
      "\r",
      " 49%|████▉     | 697/1428 [05:04<04:25,  2.75it/s]"
     ]
    },
    {
     "name": "stdout",
     "output_type": "stream",
     "text": [
      "retrieving http://oracc.org/etcsri/Q001647/html\n",
      "saving http://oracc.org/etcsri/Q001647 as HTML/etcsri_Q001647.html\n"
     ]
    },
    {
     "name": "stderr",
     "output_type": "stream",
     "text": [
      "\r",
      " 49%|████▉     | 698/1428 [05:05<05:00,  2.43it/s]"
     ]
    },
    {
     "name": "stdout",
     "output_type": "stream",
     "text": [
      "retrieving http://oracc.org/etcsri/Q001648/html\n",
      "saving http://oracc.org/etcsri/Q001648 as HTML/etcsri_Q001648.html\n"
     ]
    },
    {
     "name": "stderr",
     "output_type": "stream",
     "text": [
      "\r",
      " 49%|████▉     | 699/1428 [05:05<04:53,  2.48it/s]"
     ]
    },
    {
     "name": "stdout",
     "output_type": "stream",
     "text": [
      "retrieving http://oracc.org/etcsri/Q000959/html\n",
      "saving http://oracc.org/etcsri/Q000959 as HTML/etcsri_Q000959.html\n"
     ]
    },
    {
     "name": "stderr",
     "output_type": "stream",
     "text": [
      "\r",
      " 49%|████▉     | 700/1428 [05:06<04:39,  2.61it/s]"
     ]
    },
    {
     "name": "stdout",
     "output_type": "stream",
     "text": [
      "retrieving http://oracc.org/etcsri/Q001649/html\n",
      "saving http://oracc.org/etcsri/Q001649 as HTML/etcsri_Q001649.html\n"
     ]
    },
    {
     "name": "stderr",
     "output_type": "stream",
     "text": [
      "\r",
      " 49%|████▉     | 701/1428 [05:06<04:31,  2.67it/s]"
     ]
    },
    {
     "name": "stdout",
     "output_type": "stream",
     "text": [
      "retrieving http://oracc.org/etcsri/Q004896/html\n",
      "saving http://oracc.org/etcsri/Q004896 as HTML/etcsri_Q004896.html\n"
     ]
    },
    {
     "name": "stderr",
     "output_type": "stream",
     "text": [
      "\r",
      " 49%|████▉     | 702/1428 [05:06<04:23,  2.76it/s]"
     ]
    },
    {
     "name": "stdout",
     "output_type": "stream",
     "text": [
      "retrieving http://oracc.org/etcsri/Q004897/html\n",
      "saving http://oracc.org/etcsri/Q004897 as HTML/etcsri_Q004897.html\n"
     ]
    },
    {
     "name": "stderr",
     "output_type": "stream",
     "text": [
      "\r",
      " 49%|████▉     | 703/1428 [05:07<04:30,  2.68it/s]"
     ]
    },
    {
     "name": "stdout",
     "output_type": "stream",
     "text": [
      "retrieving http://oracc.org/etcsri/Q001651/html\n",
      "saving http://oracc.org/etcsri/Q001651 as HTML/etcsri_Q001651.html\n"
     ]
    },
    {
     "name": "stderr",
     "output_type": "stream",
     "text": [
      "\r",
      " 49%|████▉     | 704/1428 [05:07<04:40,  2.58it/s]"
     ]
    },
    {
     "name": "stdout",
     "output_type": "stream",
     "text": [
      "retrieving http://oracc.org/etcsri/Q001652/html\n",
      "saving http://oracc.org/etcsri/Q001652 as HTML/etcsri_Q001652.html\n"
     ]
    },
    {
     "name": "stderr",
     "output_type": "stream",
     "text": [
      "\r",
      " 49%|████▉     | 705/1428 [05:07<04:29,  2.68it/s]"
     ]
    },
    {
     "name": "stdout",
     "output_type": "stream",
     "text": [
      "retrieving http://oracc.org/etcsri/Q000960/html\n",
      "saving http://oracc.org/etcsri/Q000960 as HTML/etcsri_Q000960.html\n"
     ]
    },
    {
     "name": "stderr",
     "output_type": "stream",
     "text": [
      "\r",
      " 49%|████▉     | 706/1428 [05:08<04:19,  2.78it/s]"
     ]
    },
    {
     "name": "stdout",
     "output_type": "stream",
     "text": [
      "retrieving http://oracc.org/etcsri/Q000961/html\n",
      "saving http://oracc.org/etcsri/Q000961 as HTML/etcsri_Q000961.html\n"
     ]
    },
    {
     "name": "stderr",
     "output_type": "stream",
     "text": [
      "\r",
      " 50%|████▉     | 707/1428 [05:08<04:16,  2.81it/s]"
     ]
    },
    {
     "name": "stdout",
     "output_type": "stream",
     "text": [
      "retrieving http://oracc.org/etcsri/Q001653/html\n",
      "saving http://oracc.org/etcsri/Q001653 as HTML/etcsri_Q001653.html\n"
     ]
    },
    {
     "name": "stderr",
     "output_type": "stream",
     "text": [
      "\r",
      " 50%|████▉     | 708/1428 [05:08<04:17,  2.79it/s]"
     ]
    },
    {
     "name": "stdout",
     "output_type": "stream",
     "text": [
      "retrieving http://oracc.org/etcsri/Q000962/html\n",
      "saving http://oracc.org/etcsri/Q000962 as HTML/etcsri_Q000962.html\n"
     ]
    },
    {
     "name": "stderr",
     "output_type": "stream",
     "text": [
      "\r",
      " 50%|████▉     | 709/1428 [05:09<04:32,  2.64it/s]"
     ]
    },
    {
     "name": "stdout",
     "output_type": "stream",
     "text": [
      "retrieving http://oracc.org/etcsri/Q001654/html\n",
      "saving http://oracc.org/etcsri/Q001654 as HTML/etcsri_Q001654.html\n"
     ]
    },
    {
     "name": "stderr",
     "output_type": "stream",
     "text": [
      "\r",
      " 50%|████▉     | 710/1428 [05:09<04:23,  2.72it/s]"
     ]
    },
    {
     "name": "stdout",
     "output_type": "stream",
     "text": [
      "retrieving http://oracc.org/etcsri/Q001655/html\n",
      "saving http://oracc.org/etcsri/Q001655 as HTML/etcsri_Q001655.html\n"
     ]
    },
    {
     "name": "stderr",
     "output_type": "stream",
     "text": [
      "\r",
      " 50%|████▉     | 711/1428 [05:10<04:18,  2.78it/s]"
     ]
    },
    {
     "name": "stdout",
     "output_type": "stream",
     "text": [
      "retrieving http://oracc.org/etcsri/Q000963/html\n",
      "saving http://oracc.org/etcsri/Q000963 as HTML/etcsri_Q000963.html\n"
     ]
    },
    {
     "name": "stderr",
     "output_type": "stream",
     "text": [
      "\r",
      " 50%|████▉     | 712/1428 [05:10<04:15,  2.80it/s]"
     ]
    },
    {
     "name": "stdout",
     "output_type": "stream",
     "text": [
      "retrieving http://oracc.org/etcsri/Q000964/html\n",
      "saving http://oracc.org/etcsri/Q000964 as HTML/etcsri_Q000964.html\n"
     ]
    },
    {
     "name": "stderr",
     "output_type": "stream",
     "text": [
      "\r",
      " 50%|████▉     | 713/1428 [05:10<04:11,  2.84it/s]"
     ]
    },
    {
     "name": "stdout",
     "output_type": "stream",
     "text": [
      "retrieving http://oracc.org/etcsri/Q000965/html\n",
      "saving http://oracc.org/etcsri/Q000965 as HTML/etcsri_Q000965.html\n"
     ]
    },
    {
     "name": "stderr",
     "output_type": "stream",
     "text": [
      "\r",
      " 50%|█████     | 714/1428 [05:11<04:36,  2.58it/s]"
     ]
    },
    {
     "name": "stdout",
     "output_type": "stream",
     "text": [
      "retrieving http://oracc.org/etcsri/Q000966/html\n",
      "saving http://oracc.org/etcsri/Q000966 as HTML/etcsri_Q000966.html\n"
     ]
    },
    {
     "name": "stderr",
     "output_type": "stream",
     "text": [
      "\r",
      " 50%|█████     | 715/1428 [05:11<04:33,  2.61it/s]"
     ]
    },
    {
     "name": "stdout",
     "output_type": "stream",
     "text": [
      "retrieving http://oracc.org/etcsri/Q000967/html\n",
      "saving http://oracc.org/etcsri/Q000967 as HTML/etcsri_Q000967.html\n"
     ]
    },
    {
     "name": "stderr",
     "output_type": "stream",
     "text": [
      "\r",
      " 50%|█████     | 716/1428 [05:12<04:42,  2.52it/s]"
     ]
    },
    {
     "name": "stdout",
     "output_type": "stream",
     "text": [
      "retrieving http://oracc.org/etcsri/Q001656/html\n",
      "saving http://oracc.org/etcsri/Q001656 as HTML/etcsri_Q001656.html\n"
     ]
    },
    {
     "name": "stderr",
     "output_type": "stream",
     "text": [
      "\r",
      " 50%|█████     | 717/1428 [05:12<04:32,  2.61it/s]"
     ]
    },
    {
     "name": "stdout",
     "output_type": "stream",
     "text": [
      "retrieving http://oracc.org/etcsri/Q001657/html\n",
      "saving http://oracc.org/etcsri/Q001657 as HTML/etcsri_Q001657.html\n"
     ]
    },
    {
     "name": "stderr",
     "output_type": "stream",
     "text": [
      "\r",
      " 50%|█████     | 718/1428 [05:12<04:25,  2.67it/s]"
     ]
    },
    {
     "name": "stdout",
     "output_type": "stream",
     "text": [
      "retrieving http://oracc.org/etcsri/Q000968/html\n",
      "saving http://oracc.org/etcsri/Q000968 as HTML/etcsri_Q000968.html\n"
     ]
    },
    {
     "name": "stderr",
     "output_type": "stream",
     "text": [
      "\r",
      " 50%|█████     | 719/1428 [05:13<04:18,  2.74it/s]"
     ]
    },
    {
     "name": "stdout",
     "output_type": "stream",
     "text": [
      "retrieving http://oracc.org/etcsri/Q001658/html\n",
      "saving http://oracc.org/etcsri/Q001658 as HTML/etcsri_Q001658.html\n"
     ]
    },
    {
     "name": "stderr",
     "output_type": "stream",
     "text": [
      "\r",
      " 50%|█████     | 720/1428 [05:13<04:23,  2.69it/s]"
     ]
    },
    {
     "name": "stdout",
     "output_type": "stream",
     "text": [
      "retrieving http://oracc.org/etcsri/Q000969/html\n",
      "saving http://oracc.org/etcsri/Q000969 as HTML/etcsri_Q000969.html\n"
     ]
    },
    {
     "name": "stderr",
     "output_type": "stream",
     "text": [
      "\r",
      " 50%|█████     | 721/1428 [05:13<04:28,  2.63it/s]"
     ]
    },
    {
     "name": "stdout",
     "output_type": "stream",
     "text": [
      "retrieving http://oracc.org/etcsri/Q001660/html\n",
      "saving http://oracc.org/etcsri/Q001660 as HTML/etcsri_Q001660.html\n"
     ]
    },
    {
     "name": "stderr",
     "output_type": "stream",
     "text": [
      "\r",
      " 51%|█████     | 722/1428 [05:14<04:36,  2.55it/s]"
     ]
    },
    {
     "name": "stdout",
     "output_type": "stream",
     "text": [
      "retrieving http://oracc.org/etcsri/Q000971/html\n",
      "saving http://oracc.org/etcsri/Q000971 as HTML/etcsri_Q000971.html\n"
     ]
    },
    {
     "name": "stderr",
     "output_type": "stream",
     "text": [
      "\r",
      " 51%|█████     | 723/1428 [05:14<04:29,  2.62it/s]"
     ]
    },
    {
     "name": "stdout",
     "output_type": "stream",
     "text": [
      "retrieving http://oracc.org/etcsri/Q000972/html\n",
      "saving http://oracc.org/etcsri/Q000972 as HTML/etcsri_Q000972.html\n"
     ]
    },
    {
     "name": "stderr",
     "output_type": "stream",
     "text": [
      "\r",
      " 51%|█████     | 724/1428 [05:15<04:47,  2.44it/s]"
     ]
    },
    {
     "name": "stdout",
     "output_type": "stream",
     "text": [
      "retrieving http://oracc.org/etcsri/Q000973/html\n",
      "saving http://oracc.org/etcsri/Q000973 as HTML/etcsri_Q000973.html\n"
     ]
    },
    {
     "name": "stderr",
     "output_type": "stream",
     "text": [
      "\r",
      " 51%|█████     | 725/1428 [05:15<05:09,  2.27it/s]"
     ]
    },
    {
     "name": "stdout",
     "output_type": "stream",
     "text": [
      "retrieving http://oracc.org/etcsri/Q001662/html\n",
      "saving http://oracc.org/etcsri/Q001662 as HTML/etcsri_Q001662.html\n"
     ]
    },
    {
     "name": "stderr",
     "output_type": "stream",
     "text": [
      "\r",
      " 51%|█████     | 726/1428 [05:15<04:48,  2.43it/s]"
     ]
    },
    {
     "name": "stdout",
     "output_type": "stream",
     "text": [
      "retrieving http://oracc.org/etcsri/Q000974/html\n",
      "saving http://oracc.org/etcsri/Q000974 as HTML/etcsri_Q000974.html\n"
     ]
    },
    {
     "name": "stderr",
     "output_type": "stream",
     "text": [
      "\r",
      " 51%|█████     | 727/1428 [05:16<04:45,  2.45it/s]"
     ]
    },
    {
     "name": "stdout",
     "output_type": "stream",
     "text": [
      "retrieving http://oracc.org/etcsri/Q000975/html\n",
      "saving http://oracc.org/etcsri/Q000975 as HTML/etcsri_Q000975.html\n"
     ]
    },
    {
     "name": "stderr",
     "output_type": "stream",
     "text": [
      "\r",
      " 51%|█████     | 728/1428 [05:16<04:36,  2.53it/s]"
     ]
    },
    {
     "name": "stdout",
     "output_type": "stream",
     "text": [
      "retrieving http://oracc.org/etcsri/Q000976/html\n",
      "saving http://oracc.org/etcsri/Q000976 as HTML/etcsri_Q000976.html\n"
     ]
    },
    {
     "name": "stderr",
     "output_type": "stream",
     "text": [
      "\r",
      " 51%|█████     | 729/1428 [05:17<04:35,  2.53it/s]"
     ]
    },
    {
     "name": "stdout",
     "output_type": "stream",
     "text": [
      "retrieving http://oracc.org/etcsri/Q000977/html\n",
      "saving http://oracc.org/etcsri/Q000977 as HTML/etcsri_Q000977.html\n"
     ]
    },
    {
     "name": "stderr",
     "output_type": "stream",
     "text": [
      "\r",
      " 51%|█████     | 730/1428 [05:17<04:28,  2.60it/s]"
     ]
    },
    {
     "name": "stdout",
     "output_type": "stream",
     "text": [
      "retrieving http://oracc.org/etcsri/Q001668/html\n",
      "saving http://oracc.org/etcsri/Q001668 as HTML/etcsri_Q001668.html\n"
     ]
    },
    {
     "name": "stderr",
     "output_type": "stream",
     "text": [
      "\r",
      " 51%|█████     | 731/1428 [05:17<04:26,  2.62it/s]"
     ]
    },
    {
     "name": "stdout",
     "output_type": "stream",
     "text": [
      "retrieving http://oracc.org/etcsri/Q001670/html\n",
      "saving http://oracc.org/etcsri/Q001670 as HTML/etcsri_Q001670.html\n"
     ]
    },
    {
     "name": "stderr",
     "output_type": "stream",
     "text": [
      "\r",
      " 51%|█████▏    | 732/1428 [05:18<04:30,  2.57it/s]"
     ]
    },
    {
     "name": "stdout",
     "output_type": "stream",
     "text": [
      "retrieving http://oracc.org/etcsri/Q001671/html\n",
      "saving http://oracc.org/etcsri/Q001671 as HTML/etcsri_Q001671.html\n"
     ]
    },
    {
     "name": "stderr",
     "output_type": "stream",
     "text": [
      "\r",
      " 51%|█████▏    | 733/1428 [05:18<04:20,  2.67it/s]"
     ]
    },
    {
     "name": "stdout",
     "output_type": "stream",
     "text": [
      "retrieving http://oracc.org/etcsri/Q000978/html\n",
      "saving http://oracc.org/etcsri/Q000978 as HTML/etcsri_Q000978.html\n"
     ]
    },
    {
     "name": "stderr",
     "output_type": "stream",
     "text": [
      "\r",
      " 51%|█████▏    | 734/1428 [05:18<04:12,  2.74it/s]"
     ]
    },
    {
     "name": "stdout",
     "output_type": "stream",
     "text": [
      "retrieving http://oracc.org/etcsri/Q001673/html\n",
      "saving http://oracc.org/etcsri/Q001673 as HTML/etcsri_Q001673.html\n"
     ]
    },
    {
     "name": "stderr",
     "output_type": "stream",
     "text": [
      "\r",
      " 51%|█████▏    | 735/1428 [05:19<04:40,  2.47it/s]"
     ]
    },
    {
     "name": "stdout",
     "output_type": "stream",
     "text": [
      "retrieving http://oracc.org/etcsri/Q001674/html\n",
      "saving http://oracc.org/etcsri/Q001674 as HTML/etcsri_Q001674.html\n"
     ]
    },
    {
     "name": "stderr",
     "output_type": "stream",
     "text": [
      "\r",
      " 52%|█████▏    | 736/1428 [05:19<04:41,  2.46it/s]"
     ]
    },
    {
     "name": "stdout",
     "output_type": "stream",
     "text": [
      "retrieving http://oracc.org/etcsri/Q000979/html\n",
      "saving http://oracc.org/etcsri/Q000979 as HTML/etcsri_Q000979.html\n"
     ]
    },
    {
     "name": "stderr",
     "output_type": "stream",
     "text": [
      "\r",
      " 52%|█████▏    | 737/1428 [05:20<04:25,  2.61it/s]"
     ]
    },
    {
     "name": "stdout",
     "output_type": "stream",
     "text": [
      "retrieving http://oracc.org/etcsri/Q001675/html\n",
      "saving http://oracc.org/etcsri/Q001675 as HTML/etcsri_Q001675.html\n"
     ]
    },
    {
     "name": "stderr",
     "output_type": "stream",
     "text": [
      "\r",
      " 52%|█████▏    | 738/1428 [05:20<04:15,  2.71it/s]"
     ]
    },
    {
     "name": "stdout",
     "output_type": "stream",
     "text": [
      "retrieving http://oracc.org/etcsri/Q001676/html\n",
      "saving http://oracc.org/etcsri/Q001676 as HTML/etcsri_Q001676.html\n"
     ]
    },
    {
     "name": "stderr",
     "output_type": "stream",
     "text": [
      "\r",
      " 52%|█████▏    | 739/1428 [05:20<04:08,  2.77it/s]"
     ]
    },
    {
     "name": "stdout",
     "output_type": "stream",
     "text": [
      "retrieving http://oracc.org/etcsri/Q001677/html\n",
      "saving http://oracc.org/etcsri/Q001677 as HTML/etcsri_Q001677.html\n"
     ]
    },
    {
     "name": "stderr",
     "output_type": "stream",
     "text": [
      "\r",
      " 52%|█████▏    | 740/1428 [05:21<04:15,  2.69it/s]"
     ]
    },
    {
     "name": "stdout",
     "output_type": "stream",
     "text": [
      "retrieving http://oracc.org/etcsri/Q001678/html\n",
      "saving http://oracc.org/etcsri/Q001678 as HTML/etcsri_Q001678.html\n"
     ]
    },
    {
     "name": "stderr",
     "output_type": "stream",
     "text": [
      "\r",
      " 52%|█████▏    | 741/1428 [05:21<04:20,  2.63it/s]"
     ]
    },
    {
     "name": "stdout",
     "output_type": "stream",
     "text": [
      "retrieving http://oracc.org/etcsri/Q001679/html\n",
      "saving http://oracc.org/etcsri/Q001679 as HTML/etcsri_Q001679.html\n"
     ]
    },
    {
     "name": "stderr",
     "output_type": "stream",
     "text": [
      "\r",
      " 52%|█████▏    | 742/1428 [05:22<04:30,  2.53it/s]"
     ]
    },
    {
     "name": "stdout",
     "output_type": "stream",
     "text": [
      "retrieving http://oracc.org/etcsri/Q001680/html\n",
      "saving http://oracc.org/etcsri/Q001680 as HTML/etcsri_Q001680.html\n"
     ]
    },
    {
     "name": "stderr",
     "output_type": "stream",
     "text": [
      "\r",
      " 52%|█████▏    | 743/1428 [05:22<04:15,  2.69it/s]"
     ]
    },
    {
     "name": "stdout",
     "output_type": "stream",
     "text": [
      "retrieving http://oracc.org/etcsri/Q001681/html\n",
      "saving http://oracc.org/etcsri/Q001681 as HTML/etcsri_Q001681.html\n"
     ]
    },
    {
     "name": "stderr",
     "output_type": "stream",
     "text": [
      "\r",
      " 52%|█████▏    | 744/1428 [05:22<04:19,  2.63it/s]"
     ]
    },
    {
     "name": "stdout",
     "output_type": "stream",
     "text": [
      "retrieving http://oracc.org/etcsri/Q001682/html\n",
      "saving http://oracc.org/etcsri/Q001682 as HTML/etcsri_Q001682.html\n"
     ]
    },
    {
     "name": "stderr",
     "output_type": "stream",
     "text": [
      "\r",
      " 52%|█████▏    | 745/1428 [05:23<04:19,  2.63it/s]"
     ]
    },
    {
     "name": "stdout",
     "output_type": "stream",
     "text": [
      "retrieving http://oracc.org/etcsri/Q001683/html\n",
      "saving http://oracc.org/etcsri/Q001683 as HTML/etcsri_Q001683.html\n"
     ]
    },
    {
     "name": "stderr",
     "output_type": "stream",
     "text": [
      "\r",
      " 52%|█████▏    | 746/1428 [05:23<04:22,  2.60it/s]"
     ]
    },
    {
     "name": "stdout",
     "output_type": "stream",
     "text": [
      "retrieving http://oracc.org/etcsri/Q001684/html\n",
      "saving http://oracc.org/etcsri/Q001684 as HTML/etcsri_Q001684.html\n"
     ]
    },
    {
     "name": "stderr",
     "output_type": "stream",
     "text": [
      "\r",
      " 52%|█████▏    | 747/1428 [05:23<04:26,  2.55it/s]"
     ]
    },
    {
     "name": "stdout",
     "output_type": "stream",
     "text": [
      "retrieving http://oracc.org/etcsri/Q001685/html\n",
      "saving http://oracc.org/etcsri/Q001685 as HTML/etcsri_Q001685.html\n"
     ]
    },
    {
     "name": "stderr",
     "output_type": "stream",
     "text": [
      "\r",
      " 52%|█████▏    | 748/1428 [05:24<04:13,  2.68it/s]"
     ]
    },
    {
     "name": "stdout",
     "output_type": "stream",
     "text": [
      "retrieving http://oracc.org/etcsri/Q001687/html\n",
      "saving http://oracc.org/etcsri/Q001687 as HTML/etcsri_Q001687.html\n"
     ]
    },
    {
     "name": "stderr",
     "output_type": "stream",
     "text": [
      "\r",
      " 52%|█████▏    | 749/1428 [05:24<04:18,  2.62it/s]"
     ]
    },
    {
     "name": "stdout",
     "output_type": "stream",
     "text": [
      "retrieving http://oracc.org/etcsri/Q001688/html\n",
      "saving http://oracc.org/etcsri/Q001688 as HTML/etcsri_Q001688.html\n"
     ]
    },
    {
     "name": "stderr",
     "output_type": "stream",
     "text": [
      "\r",
      " 53%|█████▎    | 750/1428 [05:25<04:10,  2.70it/s]"
     ]
    },
    {
     "name": "stdout",
     "output_type": "stream",
     "text": [
      "retrieving http://oracc.org/etcsri/Q001689/html\n",
      "saving http://oracc.org/etcsri/Q001689 as HTML/etcsri_Q001689.html\n"
     ]
    },
    {
     "name": "stderr",
     "output_type": "stream",
     "text": [
      "\r",
      " 53%|█████▎    | 751/1428 [05:25<04:07,  2.74it/s]"
     ]
    },
    {
     "name": "stdout",
     "output_type": "stream",
     "text": [
      "retrieving http://oracc.org/etcsri/Q001690/html\n",
      "saving http://oracc.org/etcsri/Q001690 as HTML/etcsri_Q001690.html\n"
     ]
    },
    {
     "name": "stderr",
     "output_type": "stream",
     "text": [
      "\r",
      " 53%|█████▎    | 752/1428 [05:25<04:20,  2.60it/s]"
     ]
    },
    {
     "name": "stdout",
     "output_type": "stream",
     "text": [
      "retrieving http://oracc.org/etcsri/Q001691/html\n",
      "saving http://oracc.org/etcsri/Q001691 as HTML/etcsri_Q001691.html\n"
     ]
    },
    {
     "name": "stderr",
     "output_type": "stream",
     "text": [
      "\r",
      " 53%|█████▎    | 753/1428 [05:26<04:38,  2.43it/s]"
     ]
    },
    {
     "name": "stdout",
     "output_type": "stream",
     "text": [
      "retrieving http://oracc.org/etcsri/Q001692/html\n",
      "saving http://oracc.org/etcsri/Q001692 as HTML/etcsri_Q001692.html\n"
     ]
    },
    {
     "name": "stderr",
     "output_type": "stream",
     "text": [
      "\r",
      " 53%|█████▎    | 754/1428 [05:26<04:27,  2.52it/s]"
     ]
    },
    {
     "name": "stdout",
     "output_type": "stream",
     "text": [
      "retrieving http://oracc.org/etcsri/Q001693/html\n",
      "saving http://oracc.org/etcsri/Q001693 as HTML/etcsri_Q001693.html\n"
     ]
    },
    {
     "name": "stderr",
     "output_type": "stream",
     "text": [
      "\r",
      " 53%|█████▎    | 755/1428 [05:27<04:24,  2.54it/s]"
     ]
    },
    {
     "name": "stdout",
     "output_type": "stream",
     "text": [
      "retrieving http://oracc.org/etcsri/Q001694/html\n",
      "saving http://oracc.org/etcsri/Q001694 as HTML/etcsri_Q001694.html\n"
     ]
    },
    {
     "name": "stderr",
     "output_type": "stream",
     "text": [
      "\r",
      " 53%|█████▎    | 756/1428 [05:27<04:17,  2.61it/s]"
     ]
    },
    {
     "name": "stdout",
     "output_type": "stream",
     "text": [
      "retrieving http://oracc.org/etcsri/Q001695/html\n",
      "saving http://oracc.org/etcsri/Q001695 as HTML/etcsri_Q001695.html\n"
     ]
    },
    {
     "name": "stderr",
     "output_type": "stream",
     "text": [
      "\r",
      " 53%|█████▎    | 757/1428 [05:27<04:09,  2.69it/s]"
     ]
    },
    {
     "name": "stdout",
     "output_type": "stream",
     "text": [
      "retrieving http://oracc.org/etcsri/Q001698/html\n",
      "saving http://oracc.org/etcsri/Q001698 as HTML/etcsri_Q001698.html\n"
     ]
    },
    {
     "name": "stderr",
     "output_type": "stream",
     "text": [
      "\r",
      " 53%|█████▎    | 758/1428 [05:28<04:19,  2.59it/s]"
     ]
    },
    {
     "name": "stdout",
     "output_type": "stream",
     "text": [
      "retrieving http://oracc.org/etcsri/Q001699/html\n",
      "saving http://oracc.org/etcsri/Q001699 as HTML/etcsri_Q001699.html\n"
     ]
    },
    {
     "name": "stderr",
     "output_type": "stream",
     "text": [
      "\r",
      " 53%|█████▎    | 759/1428 [05:28<04:22,  2.55it/s]"
     ]
    },
    {
     "name": "stdout",
     "output_type": "stream",
     "text": [
      "retrieving http://oracc.org/etcsri/Q001700/html\n",
      "saving http://oracc.org/etcsri/Q001700 as HTML/etcsri_Q001700.html\n"
     ]
    },
    {
     "name": "stderr",
     "output_type": "stream",
     "text": [
      "\r",
      " 53%|█████▎    | 760/1428 [05:28<04:10,  2.67it/s]"
     ]
    },
    {
     "name": "stdout",
     "output_type": "stream",
     "text": [
      "retrieving http://oracc.org/etcsri/Q001701/html\n",
      "saving http://oracc.org/etcsri/Q001701 as HTML/etcsri_Q001701.html\n"
     ]
    },
    {
     "name": "stderr",
     "output_type": "stream",
     "text": [
      "\r",
      " 53%|█████▎    | 761/1428 [05:29<04:45,  2.34it/s]"
     ]
    },
    {
     "name": "stdout",
     "output_type": "stream",
     "text": [
      "retrieving http://oracc.org/etcsri/Q001702/html\n",
      "saving http://oracc.org/etcsri/Q001702 as HTML/etcsri_Q001702.html\n"
     ]
    },
    {
     "name": "stderr",
     "output_type": "stream",
     "text": [
      "\r",
      " 53%|█████▎    | 762/1428 [05:29<04:36,  2.41it/s]"
     ]
    },
    {
     "name": "stdout",
     "output_type": "stream",
     "text": [
      "retrieving http://oracc.org/etcsri/Q001703/html\n",
      "saving http://oracc.org/etcsri/Q001703 as HTML/etcsri_Q001703.html\n"
     ]
    },
    {
     "name": "stderr",
     "output_type": "stream",
     "text": [
      "\r",
      " 53%|█████▎    | 763/1428 [05:30<04:18,  2.57it/s]"
     ]
    },
    {
     "name": "stdout",
     "output_type": "stream",
     "text": [
      "retrieving http://oracc.org/etcsri/Q001704/html\n",
      "saving http://oracc.org/etcsri/Q001704 as HTML/etcsri_Q001704.html\n"
     ]
    },
    {
     "name": "stderr",
     "output_type": "stream",
     "text": [
      "\r",
      " 54%|█████▎    | 764/1428 [05:30<04:10,  2.66it/s]"
     ]
    },
    {
     "name": "stdout",
     "output_type": "stream",
     "text": [
      "retrieving http://oracc.org/etcsri/Q001705/html\n",
      "saving http://oracc.org/etcsri/Q001705 as HTML/etcsri_Q001705.html\n"
     ]
    },
    {
     "name": "stderr",
     "output_type": "stream",
     "text": [
      "\r",
      " 54%|█████▎    | 765/1428 [05:30<04:21,  2.54it/s]"
     ]
    },
    {
     "name": "stdout",
     "output_type": "stream",
     "text": [
      "retrieving http://oracc.org/etcsri/Q001706/html\n",
      "saving http://oracc.org/etcsri/Q001706 as HTML/etcsri_Q001706.html\n"
     ]
    },
    {
     "name": "stderr",
     "output_type": "stream",
     "text": [
      "\r",
      " 54%|█████▎    | 766/1428 [05:31<04:13,  2.61it/s]"
     ]
    },
    {
     "name": "stdout",
     "output_type": "stream",
     "text": [
      "retrieving http://oracc.org/etcsri/Q001707/html\n",
      "saving http://oracc.org/etcsri/Q001707 as HTML/etcsri_Q001707.html\n"
     ]
    },
    {
     "name": "stderr",
     "output_type": "stream",
     "text": [
      "\r",
      " 54%|█████▎    | 767/1428 [05:31<04:15,  2.58it/s]"
     ]
    },
    {
     "name": "stdout",
     "output_type": "stream",
     "text": [
      "retrieving http://oracc.org/etcsri/Q001708/html\n",
      "saving http://oracc.org/etcsri/Q001708 as HTML/etcsri_Q001708.html\n"
     ]
    },
    {
     "name": "stderr",
     "output_type": "stream",
     "text": [
      "\r",
      " 54%|█████▍    | 768/1428 [05:32<04:10,  2.63it/s]"
     ]
    },
    {
     "name": "stdout",
     "output_type": "stream",
     "text": [
      "retrieving http://oracc.org/etcsri/Q001709/html\n",
      "saving http://oracc.org/etcsri/Q001709 as HTML/etcsri_Q001709.html\n"
     ]
    },
    {
     "name": "stderr",
     "output_type": "stream",
     "text": [
      "\r",
      " 54%|█████▍    | 769/1428 [05:32<04:41,  2.34it/s]"
     ]
    },
    {
     "name": "stdout",
     "output_type": "stream",
     "text": [
      "retrieving http://oracc.org/etcsri/Q001710/html\n",
      "saving http://oracc.org/etcsri/Q001710 as HTML/etcsri_Q001710.html\n"
     ]
    },
    {
     "name": "stderr",
     "output_type": "stream",
     "text": [
      "\r",
      " 54%|█████▍    | 770/1428 [05:33<04:40,  2.35it/s]"
     ]
    },
    {
     "name": "stdout",
     "output_type": "stream",
     "text": [
      "retrieving http://oracc.org/etcsri/Q001711/html\n",
      "saving http://oracc.org/etcsri/Q001711 as HTML/etcsri_Q001711.html\n"
     ]
    },
    {
     "name": "stderr",
     "output_type": "stream",
     "text": [
      "\r",
      " 54%|█████▍    | 771/1428 [05:33<04:22,  2.50it/s]"
     ]
    },
    {
     "name": "stdout",
     "output_type": "stream",
     "text": [
      "retrieving http://oracc.org/etcsri/Q001712/html\n",
      "saving http://oracc.org/etcsri/Q001712 as HTML/etcsri_Q001712.html\n"
     ]
    },
    {
     "name": "stderr",
     "output_type": "stream",
     "text": [
      "\r",
      " 54%|█████▍    | 772/1428 [05:33<04:25,  2.47it/s]"
     ]
    },
    {
     "name": "stdout",
     "output_type": "stream",
     "text": [
      "retrieving http://oracc.org/etcsri/Q001713/html\n",
      "saving http://oracc.org/etcsri/Q001713 as HTML/etcsri_Q001713.html\n"
     ]
    },
    {
     "name": "stderr",
     "output_type": "stream",
     "text": [
      "\r",
      " 54%|█████▍    | 773/1428 [05:34<04:33,  2.40it/s]"
     ]
    },
    {
     "name": "stdout",
     "output_type": "stream",
     "text": [
      "retrieving http://oracc.org/etcsri/Q001714/html\n",
      "saving http://oracc.org/etcsri/Q001714 as HTML/etcsri_Q001714.html\n"
     ]
    },
    {
     "name": "stderr",
     "output_type": "stream",
     "text": [
      "\r",
      " 54%|█████▍    | 774/1428 [05:34<04:16,  2.55it/s]"
     ]
    },
    {
     "name": "stdout",
     "output_type": "stream",
     "text": [
      "retrieving http://oracc.org/etcsri/Q001715/html\n",
      "saving http://oracc.org/etcsri/Q001715 as HTML/etcsri_Q001715.html\n"
     ]
    },
    {
     "name": "stderr",
     "output_type": "stream",
     "text": [
      "\r",
      " 54%|█████▍    | 775/1428 [05:35<04:40,  2.33it/s]"
     ]
    },
    {
     "name": "stdout",
     "output_type": "stream",
     "text": [
      "retrieving http://oracc.org/etcsri/Q001716/html\n",
      "saving http://oracc.org/etcsri/Q001716 as HTML/etcsri_Q001716.html\n"
     ]
    },
    {
     "name": "stderr",
     "output_type": "stream",
     "text": [
      "\r",
      " 54%|█████▍    | 776/1428 [05:35<04:28,  2.43it/s]"
     ]
    },
    {
     "name": "stdout",
     "output_type": "stream",
     "text": [
      "retrieving http://oracc.org/etcsri/Q001717/html\n",
      "saving http://oracc.org/etcsri/Q001717 as HTML/etcsri_Q001717.html\n"
     ]
    },
    {
     "name": "stderr",
     "output_type": "stream",
     "text": [
      "\r",
      " 54%|█████▍    | 777/1428 [05:35<04:32,  2.39it/s]"
     ]
    },
    {
     "name": "stdout",
     "output_type": "stream",
     "text": [
      "retrieving http://oracc.org/etcsri/Q001718/html\n",
      "saving http://oracc.org/etcsri/Q001718 as HTML/etcsri_Q001718.html\n"
     ]
    },
    {
     "name": "stderr",
     "output_type": "stream",
     "text": [
      "\r",
      " 54%|█████▍    | 778/1428 [05:36<04:26,  2.44it/s]"
     ]
    },
    {
     "name": "stdout",
     "output_type": "stream",
     "text": [
      "retrieving http://oracc.org/etcsri/Q001719/html\n",
      "saving http://oracc.org/etcsri/Q001719 as HTML/etcsri_Q001719.html\n"
     ]
    },
    {
     "name": "stderr",
     "output_type": "stream",
     "text": [
      "\r",
      " 55%|█████▍    | 779/1428 [05:36<04:10,  2.59it/s]"
     ]
    },
    {
     "name": "stdout",
     "output_type": "stream",
     "text": [
      "retrieving http://oracc.org/etcsri/Q001720/html\n",
      "saving http://oracc.org/etcsri/Q001720 as HTML/etcsri_Q001720.html\n"
     ]
    },
    {
     "name": "stderr",
     "output_type": "stream",
     "text": [
      "\r",
      " 55%|█████▍    | 780/1428 [05:37<04:46,  2.27it/s]"
     ]
    },
    {
     "name": "stdout",
     "output_type": "stream",
     "text": [
      "retrieving http://oracc.org/etcsri/Q000980/html\n",
      "saving http://oracc.org/etcsri/Q000980 as HTML/etcsri_Q000980.html\n"
     ]
    },
    {
     "name": "stderr",
     "output_type": "stream",
     "text": [
      "\r",
      " 55%|█████▍    | 781/1428 [05:37<04:21,  2.47it/s]"
     ]
    },
    {
     "name": "stdout",
     "output_type": "stream",
     "text": [
      "retrieving http://oracc.org/etcsri/Q001721/html\n",
      "saving http://oracc.org/etcsri/Q001721 as HTML/etcsri_Q001721.html\n"
     ]
    },
    {
     "name": "stderr",
     "output_type": "stream",
     "text": [
      "\r",
      " 55%|█████▍    | 782/1428 [05:37<04:09,  2.59it/s]"
     ]
    },
    {
     "name": "stdout",
     "output_type": "stream",
     "text": [
      "retrieving http://oracc.org/etcsri/Q001722/html\n",
      "saving http://oracc.org/etcsri/Q001722 as HTML/etcsri_Q001722.html\n"
     ]
    },
    {
     "name": "stderr",
     "output_type": "stream",
     "text": [
      "\r",
      " 55%|█████▍    | 783/1428 [05:38<04:14,  2.54it/s]"
     ]
    },
    {
     "name": "stdout",
     "output_type": "stream",
     "text": [
      "retrieving http://oracc.org/etcsri/Q001723/html\n",
      "saving http://oracc.org/etcsri/Q001723 as HTML/etcsri_Q001723.html\n"
     ]
    },
    {
     "name": "stderr",
     "output_type": "stream",
     "text": [
      "\r",
      " 55%|█████▍    | 784/1428 [05:38<04:26,  2.41it/s]"
     ]
    },
    {
     "name": "stdout",
     "output_type": "stream",
     "text": [
      "retrieving http://oracc.org/etcsri/Q001724/html\n",
      "saving http://oracc.org/etcsri/Q001724 as HTML/etcsri_Q001724.html\n"
     ]
    },
    {
     "name": "stderr",
     "output_type": "stream",
     "text": [
      "\r",
      " 55%|█████▍    | 785/1428 [05:39<04:30,  2.37it/s]"
     ]
    },
    {
     "name": "stdout",
     "output_type": "stream",
     "text": [
      "retrieving http://oracc.org/etcsri/Q001725/html\n",
      "saving http://oracc.org/etcsri/Q001725 as HTML/etcsri_Q001725.html\n"
     ]
    },
    {
     "name": "stderr",
     "output_type": "stream",
     "text": [
      "\r",
      " 55%|█████▌    | 786/1428 [05:39<04:33,  2.35it/s]"
     ]
    },
    {
     "name": "stdout",
     "output_type": "stream",
     "text": [
      "retrieving http://oracc.org/etcsri/Q001726/html\n",
      "saving http://oracc.org/etcsri/Q001726 as HTML/etcsri_Q001726.html\n"
     ]
    },
    {
     "name": "stderr",
     "output_type": "stream",
     "text": [
      "\r",
      " 55%|█████▌    | 787/1428 [05:40<04:30,  2.37it/s]"
     ]
    },
    {
     "name": "stdout",
     "output_type": "stream",
     "text": [
      "retrieving http://oracc.org/etcsri/Q001727/html\n",
      "saving http://oracc.org/etcsri/Q001727 as HTML/etcsri_Q001727.html\n"
     ]
    },
    {
     "name": "stderr",
     "output_type": "stream",
     "text": [
      "\r",
      " 55%|█████▌    | 788/1428 [05:40<04:16,  2.50it/s]"
     ]
    },
    {
     "name": "stdout",
     "output_type": "stream",
     "text": [
      "retrieving http://oracc.org/etcsri/Q001728/html\n",
      "saving http://oracc.org/etcsri/Q001728 as HTML/etcsri_Q001728.html\n"
     ]
    },
    {
     "name": "stderr",
     "output_type": "stream",
     "text": [
      "\r",
      " 55%|█████▌    | 789/1428 [05:40<04:15,  2.50it/s]"
     ]
    },
    {
     "name": "stdout",
     "output_type": "stream",
     "text": [
      "retrieving http://oracc.org/etcsri/Q004898/html\n",
      "saving http://oracc.org/etcsri/Q004898 as HTML/etcsri_Q004898.html\n"
     ]
    },
    {
     "name": "stderr",
     "output_type": "stream",
     "text": [
      "\r",
      " 55%|█████▌    | 790/1428 [05:41<04:03,  2.62it/s]"
     ]
    },
    {
     "name": "stdout",
     "output_type": "stream",
     "text": [
      "retrieving http://oracc.org/etcsri/Q001729/html\n",
      "saving http://oracc.org/etcsri/Q001729 as HTML/etcsri_Q001729.html\n"
     ]
    },
    {
     "name": "stderr",
     "output_type": "stream",
     "text": [
      "\r",
      " 55%|█████▌    | 791/1428 [05:41<04:02,  2.63it/s]"
     ]
    },
    {
     "name": "stdout",
     "output_type": "stream",
     "text": [
      "retrieving http://oracc.org/etcsri/Q001730/html\n",
      "saving http://oracc.org/etcsri/Q001730 as HTML/etcsri_Q001730.html\n"
     ]
    },
    {
     "name": "stderr",
     "output_type": "stream",
     "text": [
      "\r",
      " 55%|█████▌    | 792/1428 [05:41<03:53,  2.72it/s]"
     ]
    },
    {
     "name": "stdout",
     "output_type": "stream",
     "text": [
      "retrieving http://oracc.org/etcsri/Q001731/html\n",
      "saving http://oracc.org/etcsri/Q001731 as HTML/etcsri_Q001731.html\n"
     ]
    },
    {
     "name": "stderr",
     "output_type": "stream",
     "text": [
      "\r",
      " 56%|█████▌    | 793/1428 [05:42<04:00,  2.64it/s]"
     ]
    },
    {
     "name": "stdout",
     "output_type": "stream",
     "text": [
      "retrieving http://oracc.org/etcsri/Q001732/html\n",
      "saving http://oracc.org/etcsri/Q001732 as HTML/etcsri_Q001732.html\n"
     ]
    },
    {
     "name": "stderr",
     "output_type": "stream",
     "text": [
      "\r",
      " 56%|█████▌    | 794/1428 [05:42<03:49,  2.76it/s]"
     ]
    },
    {
     "name": "stdout",
     "output_type": "stream",
     "text": [
      "retrieving http://oracc.org/etcsri/Q001733/html\n",
      "saving http://oracc.org/etcsri/Q001733 as HTML/etcsri_Q001733.html\n"
     ]
    },
    {
     "name": "stderr",
     "output_type": "stream",
     "text": [
      "\r",
      " 56%|█████▌    | 795/1428 [05:43<04:29,  2.35it/s]"
     ]
    },
    {
     "name": "stdout",
     "output_type": "stream",
     "text": [
      "retrieving http://oracc.org/etcsri/Q001734/html\n",
      "saving http://oracc.org/etcsri/Q001734 as HTML/etcsri_Q001734.html\n"
     ]
    },
    {
     "name": "stderr",
     "output_type": "stream",
     "text": [
      "\r",
      " 56%|█████▌    | 796/1428 [05:43<04:24,  2.39it/s]"
     ]
    },
    {
     "name": "stdout",
     "output_type": "stream",
     "text": [
      "retrieving http://oracc.org/etcsri/Q001735/html\n",
      "saving http://oracc.org/etcsri/Q001735 as HTML/etcsri_Q001735.html\n"
     ]
    },
    {
     "name": "stderr",
     "output_type": "stream",
     "text": [
      "\r",
      " 56%|█████▌    | 797/1428 [05:43<04:09,  2.53it/s]"
     ]
    },
    {
     "name": "stdout",
     "output_type": "stream",
     "text": [
      "retrieving http://oracc.org/etcsri/Q001736/html\n",
      "saving http://oracc.org/etcsri/Q001736 as HTML/etcsri_Q001736.html\n"
     ]
    },
    {
     "name": "stderr",
     "output_type": "stream",
     "text": [
      "\r",
      " 56%|█████▌    | 798/1428 [05:44<03:59,  2.63it/s]"
     ]
    },
    {
     "name": "stdout",
     "output_type": "stream",
     "text": [
      "retrieving http://oracc.org/etcsri/Q001737/html\n",
      "saving http://oracc.org/etcsri/Q001737 as HTML/etcsri_Q001737.html\n"
     ]
    },
    {
     "name": "stderr",
     "output_type": "stream",
     "text": [
      "\r",
      " 56%|█████▌    | 799/1428 [05:44<03:58,  2.63it/s]"
     ]
    },
    {
     "name": "stdout",
     "output_type": "stream",
     "text": [
      "retrieving http://oracc.org/etcsri/Q001738/html\n",
      "saving http://oracc.org/etcsri/Q001738 as HTML/etcsri_Q001738.html\n"
     ]
    },
    {
     "name": "stderr",
     "output_type": "stream",
     "text": [
      "\r",
      " 56%|█████▌    | 800/1428 [05:44<03:52,  2.70it/s]"
     ]
    },
    {
     "name": "stdout",
     "output_type": "stream",
     "text": [
      "retrieving http://oracc.org/etcsri/Q001739/html\n",
      "saving http://oracc.org/etcsri/Q001739 as HTML/etcsri_Q001739.html\n"
     ]
    },
    {
     "name": "stderr",
     "output_type": "stream",
     "text": [
      "\r",
      " 56%|█████▌    | 801/1428 [05:45<03:49,  2.74it/s]"
     ]
    },
    {
     "name": "stdout",
     "output_type": "stream",
     "text": [
      "retrieving http://oracc.org/etcsri/Q001740/html\n",
      "saving http://oracc.org/etcsri/Q001740 as HTML/etcsri_Q001740.html\n"
     ]
    },
    {
     "name": "stderr",
     "output_type": "stream",
     "text": [
      "\r",
      " 56%|█████▌    | 802/1428 [05:45<03:46,  2.76it/s]"
     ]
    },
    {
     "name": "stdout",
     "output_type": "stream",
     "text": [
      "retrieving http://oracc.org/etcsri/Q001741/html\n",
      "saving http://oracc.org/etcsri/Q001741 as HTML/etcsri_Q001741.html\n"
     ]
    },
    {
     "name": "stderr",
     "output_type": "stream",
     "text": [
      "\r",
      " 56%|█████▌    | 803/1428 [05:45<03:45,  2.77it/s]"
     ]
    },
    {
     "name": "stdout",
     "output_type": "stream",
     "text": [
      "retrieving http://oracc.org/etcsri/Q001742/html\n",
      "saving http://oracc.org/etcsri/Q001742 as HTML/etcsri_Q001742.html\n"
     ]
    },
    {
     "name": "stderr",
     "output_type": "stream",
     "text": [
      "\r",
      " 56%|█████▋    | 804/1428 [05:46<03:47,  2.75it/s]"
     ]
    },
    {
     "name": "stdout",
     "output_type": "stream",
     "text": [
      "retrieving http://oracc.org/etcsri/Q001743/html\n",
      "saving http://oracc.org/etcsri/Q001743 as HTML/etcsri_Q001743.html\n"
     ]
    },
    {
     "name": "stderr",
     "output_type": "stream",
     "text": [
      "\r",
      " 56%|█████▋    | 805/1428 [05:46<03:42,  2.80it/s]"
     ]
    },
    {
     "name": "stdout",
     "output_type": "stream",
     "text": [
      "retrieving http://oracc.org/etcsri/Q001744/html\n",
      "saving http://oracc.org/etcsri/Q001744 as HTML/etcsri_Q001744.html\n"
     ]
    },
    {
     "name": "stderr",
     "output_type": "stream",
     "text": [
      "\r",
      " 56%|█████▋    | 806/1428 [05:47<03:37,  2.85it/s]"
     ]
    },
    {
     "name": "stdout",
     "output_type": "stream",
     "text": [
      "retrieving http://oracc.org/etcsri/Q001745/html\n",
      "saving http://oracc.org/etcsri/Q001745 as HTML/etcsri_Q001745.html\n"
     ]
    },
    {
     "name": "stderr",
     "output_type": "stream",
     "text": [
      "\r",
      " 57%|█████▋    | 807/1428 [05:47<03:35,  2.88it/s]"
     ]
    },
    {
     "name": "stdout",
     "output_type": "stream",
     "text": [
      "retrieving http://oracc.org/etcsri/Q001746/html\n",
      "saving http://oracc.org/etcsri/Q001746 as HTML/etcsri_Q001746.html\n"
     ]
    },
    {
     "name": "stderr",
     "output_type": "stream",
     "text": [
      "\r",
      " 57%|█████▋    | 808/1428 [05:47<03:46,  2.74it/s]"
     ]
    },
    {
     "name": "stdout",
     "output_type": "stream",
     "text": [
      "retrieving http://oracc.org/etcsri/Q001747/html\n",
      "saving http://oracc.org/etcsri/Q001747 as HTML/etcsri_Q001747.html\n"
     ]
    },
    {
     "name": "stderr",
     "output_type": "stream",
     "text": [
      "\r",
      " 57%|█████▋    | 809/1428 [05:48<03:40,  2.81it/s]"
     ]
    },
    {
     "name": "stdout",
     "output_type": "stream",
     "text": [
      "retrieving http://oracc.org/etcsri/Q001748/html\n",
      "saving http://oracc.org/etcsri/Q001748 as HTML/etcsri_Q001748.html\n"
     ]
    },
    {
     "name": "stderr",
     "output_type": "stream",
     "text": [
      "\r",
      " 57%|█████▋    | 810/1428 [05:48<03:48,  2.71it/s]"
     ]
    },
    {
     "name": "stdout",
     "output_type": "stream",
     "text": [
      "retrieving http://oracc.org/etcsri/Q001749/html\n",
      "saving http://oracc.org/etcsri/Q001749 as HTML/etcsri_Q001749.html\n"
     ]
    },
    {
     "name": "stderr",
     "output_type": "stream",
     "text": [
      "\r",
      " 57%|█████▋    | 811/1428 [05:48<03:41,  2.78it/s]"
     ]
    },
    {
     "name": "stdout",
     "output_type": "stream",
     "text": [
      "retrieving http://oracc.org/etcsri/Q001750/html\n",
      "saving http://oracc.org/etcsri/Q001750 as HTML/etcsri_Q001750.html\n"
     ]
    },
    {
     "name": "stderr",
     "output_type": "stream",
     "text": [
      "\r",
      " 57%|█████▋    | 812/1428 [05:49<04:01,  2.55it/s]"
     ]
    },
    {
     "name": "stdout",
     "output_type": "stream",
     "text": [
      "retrieving http://oracc.org/etcsri/Q001751/html\n",
      "saving http://oracc.org/etcsri/Q001751 as HTML/etcsri_Q001751.html\n"
     ]
    },
    {
     "name": "stderr",
     "output_type": "stream",
     "text": [
      "\r",
      " 57%|█████▋    | 813/1428 [05:49<04:12,  2.43it/s]"
     ]
    },
    {
     "name": "stdout",
     "output_type": "stream",
     "text": [
      "retrieving http://oracc.org/etcsri/Q001752/html\n",
      "saving http://oracc.org/etcsri/Q001752 as HTML/etcsri_Q001752.html\n"
     ]
    },
    {
     "name": "stderr",
     "output_type": "stream",
     "text": [
      "\r",
      " 57%|█████▋    | 814/1428 [05:50<04:10,  2.45it/s]"
     ]
    },
    {
     "name": "stdout",
     "output_type": "stream",
     "text": [
      "retrieving http://oracc.org/etcsri/Q001753/html\n",
      "saving http://oracc.org/etcsri/Q001753 as HTML/etcsri_Q001753.html\n"
     ]
    },
    {
     "name": "stderr",
     "output_type": "stream",
     "text": [
      "\r",
      " 57%|█████▋    | 815/1428 [05:50<03:55,  2.60it/s]"
     ]
    },
    {
     "name": "stdout",
     "output_type": "stream",
     "text": [
      "retrieving http://oracc.org/etcsri/Q001754/html\n",
      "saving http://oracc.org/etcsri/Q001754 as HTML/etcsri_Q001754.html\n"
     ]
    },
    {
     "name": "stderr",
     "output_type": "stream",
     "text": [
      "\r",
      " 57%|█████▋    | 816/1428 [05:50<03:47,  2.69it/s]"
     ]
    },
    {
     "name": "stdout",
     "output_type": "stream",
     "text": [
      "retrieving http://oracc.org/etcsri/Q001755/html\n",
      "saving http://oracc.org/etcsri/Q001755 as HTML/etcsri_Q001755.html\n"
     ]
    },
    {
     "name": "stderr",
     "output_type": "stream",
     "text": [
      "\r",
      " 57%|█████▋    | 817/1428 [05:51<03:44,  2.72it/s]"
     ]
    },
    {
     "name": "stdout",
     "output_type": "stream",
     "text": [
      "retrieving http://oracc.org/etcsri/Q001756/html\n",
      "saving http://oracc.org/etcsri/Q001756 as HTML/etcsri_Q001756.html\n"
     ]
    },
    {
     "name": "stderr",
     "output_type": "stream",
     "text": [
      "\r",
      " 57%|█████▋    | 818/1428 [05:51<03:54,  2.61it/s]"
     ]
    },
    {
     "name": "stdout",
     "output_type": "stream",
     "text": [
      "retrieving http://oracc.org/etcsri/Q001757/html\n",
      "saving http://oracc.org/etcsri/Q001757 as HTML/etcsri_Q001757.html\n"
     ]
    },
    {
     "name": "stderr",
     "output_type": "stream",
     "text": [
      "\r",
      " 57%|█████▋    | 819/1428 [05:52<03:49,  2.65it/s]"
     ]
    },
    {
     "name": "stdout",
     "output_type": "stream",
     "text": [
      "retrieving http://oracc.org/etcsri/Q001758/html\n",
      "saving http://oracc.org/etcsri/Q001758 as HTML/etcsri_Q001758.html\n"
     ]
    },
    {
     "name": "stderr",
     "output_type": "stream",
     "text": [
      "\r",
      " 57%|█████▋    | 820/1428 [05:52<03:47,  2.67it/s]"
     ]
    },
    {
     "name": "stdout",
     "output_type": "stream",
     "text": [
      "retrieving http://oracc.org/etcsri/Q001760/html\n",
      "saving http://oracc.org/etcsri/Q001760 as HTML/etcsri_Q001760.html\n"
     ]
    },
    {
     "name": "stderr",
     "output_type": "stream",
     "text": [
      "\r",
      " 57%|█████▋    | 821/1428 [05:52<04:12,  2.40it/s]"
     ]
    },
    {
     "name": "stdout",
     "output_type": "stream",
     "text": [
      "retrieving http://oracc.org/etcsri/Q001761/html\n",
      "saving http://oracc.org/etcsri/Q001761 as HTML/etcsri_Q001761.html\n"
     ]
    },
    {
     "name": "stderr",
     "output_type": "stream",
     "text": [
      "\r",
      " 58%|█████▊    | 822/1428 [05:53<04:12,  2.40it/s]"
     ]
    },
    {
     "name": "stdout",
     "output_type": "stream",
     "text": [
      "retrieving http://oracc.org/etcsri/Q001762/html\n",
      "saving http://oracc.org/etcsri/Q001762 as HTML/etcsri_Q001762.html\n"
     ]
    },
    {
     "name": "stderr",
     "output_type": "stream",
     "text": [
      "\r",
      " 58%|█████▊    | 823/1428 [05:53<04:06,  2.45it/s]"
     ]
    },
    {
     "name": "stdout",
     "output_type": "stream",
     "text": [
      "retrieving http://oracc.org/etcsri/Q001763/html\n",
      "saving http://oracc.org/etcsri/Q001763 as HTML/etcsri_Q001763.html\n"
     ]
    },
    {
     "name": "stderr",
     "output_type": "stream",
     "text": [
      "\r",
      " 58%|█████▊    | 824/1428 [05:54<03:57,  2.55it/s]"
     ]
    },
    {
     "name": "stdout",
     "output_type": "stream",
     "text": [
      "retrieving http://oracc.org/etcsri/Q001764/html\n",
      "saving http://oracc.org/etcsri/Q001764 as HTML/etcsri_Q001764.html\n"
     ]
    },
    {
     "name": "stderr",
     "output_type": "stream",
     "text": [
      "\r",
      " 58%|█████▊    | 825/1428 [05:54<04:02,  2.49it/s]"
     ]
    },
    {
     "name": "stdout",
     "output_type": "stream",
     "text": [
      "retrieving http://oracc.org/etcsri/Q001765/html\n",
      "saving http://oracc.org/etcsri/Q001765 as HTML/etcsri_Q001765.html\n"
     ]
    },
    {
     "name": "stderr",
     "output_type": "stream",
     "text": [
      "\r",
      " 58%|█████▊    | 826/1428 [05:54<03:56,  2.54it/s]"
     ]
    },
    {
     "name": "stdout",
     "output_type": "stream",
     "text": [
      "retrieving http://oracc.org/etcsri/Q001766/html\n",
      "saving http://oracc.org/etcsri/Q001766 as HTML/etcsri_Q001766.html\n"
     ]
    },
    {
     "name": "stderr",
     "output_type": "stream",
     "text": [
      "\r",
      " 58%|█████▊    | 827/1428 [05:55<04:10,  2.40it/s]"
     ]
    },
    {
     "name": "stdout",
     "output_type": "stream",
     "text": [
      "retrieving http://oracc.org/etcsri/Q001767/html\n",
      "saving http://oracc.org/etcsri/Q001767 as HTML/etcsri_Q001767.html\n"
     ]
    },
    {
     "name": "stderr",
     "output_type": "stream",
     "text": [
      "\r",
      " 58%|█████▊    | 828/1428 [05:55<04:02,  2.48it/s]"
     ]
    },
    {
     "name": "stdout",
     "output_type": "stream",
     "text": [
      "retrieving http://oracc.org/etcsri/Q001768/html\n",
      "saving http://oracc.org/etcsri/Q001768 as HTML/etcsri_Q001768.html\n"
     ]
    },
    {
     "name": "stderr",
     "output_type": "stream",
     "text": [
      "\r",
      " 58%|█████▊    | 829/1428 [05:56<03:51,  2.59it/s]"
     ]
    },
    {
     "name": "stdout",
     "output_type": "stream",
     "text": [
      "retrieving http://oracc.org/etcsri/Q001769/html\n",
      "saving http://oracc.org/etcsri/Q001769 as HTML/etcsri_Q001769.html\n"
     ]
    },
    {
     "name": "stderr",
     "output_type": "stream",
     "text": [
      "\r",
      " 58%|█████▊    | 830/1428 [05:56<03:41,  2.70it/s]"
     ]
    },
    {
     "name": "stdout",
     "output_type": "stream",
     "text": [
      "retrieving http://oracc.org/etcsri/Q001770/html\n",
      "saving http://oracc.org/etcsri/Q001770 as HTML/etcsri_Q001770.html\n"
     ]
    },
    {
     "name": "stderr",
     "output_type": "stream",
     "text": [
      "\r",
      " 58%|█████▊    | 831/1428 [05:56<03:36,  2.76it/s]"
     ]
    },
    {
     "name": "stdout",
     "output_type": "stream",
     "text": [
      "retrieving http://oracc.org/etcsri/Q001771/html\n",
      "saving http://oracc.org/etcsri/Q001771 as HTML/etcsri_Q001771.html\n"
     ]
    },
    {
     "name": "stderr",
     "output_type": "stream",
     "text": [
      "\r",
      " 58%|█████▊    | 832/1428 [05:57<03:31,  2.82it/s]"
     ]
    },
    {
     "name": "stdout",
     "output_type": "stream",
     "text": [
      "retrieving http://oracc.org/etcsri/Q001772/html\n",
      "saving http://oracc.org/etcsri/Q001772 as HTML/etcsri_Q001772.html\n"
     ]
    },
    {
     "name": "stderr",
     "output_type": "stream",
     "text": [
      "\r",
      " 58%|█████▊    | 833/1428 [05:57<03:41,  2.69it/s]"
     ]
    },
    {
     "name": "stdout",
     "output_type": "stream",
     "text": [
      "retrieving http://oracc.org/etcsri/Q001773/html\n",
      "saving http://oracc.org/etcsri/Q001773 as HTML/etcsri_Q001773.html\n"
     ]
    },
    {
     "name": "stderr",
     "output_type": "stream",
     "text": [
      "\r",
      " 58%|█████▊    | 834/1428 [05:57<03:40,  2.70it/s]"
     ]
    },
    {
     "name": "stdout",
     "output_type": "stream",
     "text": [
      "retrieving http://oracc.org/etcsri/Q001774/html\n",
      "saving http://oracc.org/etcsri/Q001774 as HTML/etcsri_Q001774.html\n"
     ]
    },
    {
     "name": "stderr",
     "output_type": "stream",
     "text": [
      "\r",
      " 58%|█████▊    | 835/1428 [05:58<03:44,  2.64it/s]"
     ]
    },
    {
     "name": "stdout",
     "output_type": "stream",
     "text": [
      "retrieving http://oracc.org/etcsri/Q001775/html\n",
      "saving http://oracc.org/etcsri/Q001775 as HTML/etcsri_Q001775.html\n"
     ]
    },
    {
     "name": "stderr",
     "output_type": "stream",
     "text": [
      "\r",
      " 59%|█████▊    | 836/1428 [05:58<03:41,  2.67it/s]"
     ]
    },
    {
     "name": "stdout",
     "output_type": "stream",
     "text": [
      "retrieving http://oracc.org/etcsri/Q001777/html\n",
      "saving http://oracc.org/etcsri/Q001777 as HTML/etcsri_Q001777.html\n"
     ]
    },
    {
     "name": "stderr",
     "output_type": "stream",
     "text": [
      "\r",
      " 59%|█████▊    | 837/1428 [05:59<04:05,  2.41it/s]"
     ]
    },
    {
     "name": "stdout",
     "output_type": "stream",
     "text": [
      "retrieving http://oracc.org/etcsri/Q001778/html\n",
      "saving http://oracc.org/etcsri/Q001778 as HTML/etcsri_Q001778.html\n"
     ]
    },
    {
     "name": "stderr",
     "output_type": "stream",
     "text": [
      "\r",
      " 59%|█████▊    | 838/1428 [05:59<03:54,  2.51it/s]"
     ]
    },
    {
     "name": "stdout",
     "output_type": "stream",
     "text": [
      "retrieving http://oracc.org/etcsri/Q001779/html\n",
      "saving http://oracc.org/etcsri/Q001779 as HTML/etcsri_Q001779.html\n"
     ]
    },
    {
     "name": "stderr",
     "output_type": "stream",
     "text": [
      "\r",
      " 59%|█████▉    | 839/1428 [05:59<04:03,  2.42it/s]"
     ]
    },
    {
     "name": "stdout",
     "output_type": "stream",
     "text": [
      "retrieving http://oracc.org/etcsri/Q001780/html\n",
      "saving http://oracc.org/etcsri/Q001780 as HTML/etcsri_Q001780.html\n"
     ]
    },
    {
     "name": "stderr",
     "output_type": "stream",
     "text": [
      "\r",
      " 59%|█████▉    | 840/1428 [06:00<04:33,  2.15it/s]"
     ]
    },
    {
     "name": "stdout",
     "output_type": "stream",
     "text": [
      "retrieving http://oracc.org/etcsri/Q001781/html\n",
      "saving http://oracc.org/etcsri/Q001781 as HTML/etcsri_Q001781.html\n"
     ]
    },
    {
     "name": "stderr",
     "output_type": "stream",
     "text": [
      "\r",
      " 59%|█████▉    | 841/1428 [06:01<04:59,  1.96it/s]"
     ]
    },
    {
     "name": "stdout",
     "output_type": "stream",
     "text": [
      "retrieving http://oracc.org/etcsri/Q001782/html\n",
      "saving http://oracc.org/etcsri/Q001782 as HTML/etcsri_Q001782.html\n"
     ]
    },
    {
     "name": "stderr",
     "output_type": "stream",
     "text": [
      "\r",
      " 59%|█████▉    | 842/1428 [06:01<05:37,  1.74it/s]"
     ]
    },
    {
     "name": "stdout",
     "output_type": "stream",
     "text": [
      "retrieving http://oracc.org/etcsri/Q001783/html\n",
      "saving http://oracc.org/etcsri/Q001783 as HTML/etcsri_Q001783.html\n"
     ]
    },
    {
     "name": "stderr",
     "output_type": "stream",
     "text": [
      "\r",
      " 59%|█████▉    | 843/1428 [06:02<06:14,  1.56it/s]"
     ]
    },
    {
     "name": "stdout",
     "output_type": "stream",
     "text": [
      "retrieving http://oracc.org/etcsri/Q001785/html\n",
      "saving http://oracc.org/etcsri/Q001785 as HTML/etcsri_Q001785.html\n"
     ]
    },
    {
     "name": "stderr",
     "output_type": "stream",
     "text": [
      "\r",
      " 59%|█████▉    | 844/1428 [06:03<07:07,  1.37it/s]"
     ]
    },
    {
     "name": "stdout",
     "output_type": "stream",
     "text": [
      "retrieving http://oracc.org/etcsri/Q001786/html\n",
      "saving http://oracc.org/etcsri/Q001786 as HTML/etcsri_Q001786.html\n"
     ]
    },
    {
     "name": "stderr",
     "output_type": "stream",
     "text": [
      "\r",
      " 59%|█████▉    | 845/1428 [06:04<07:57,  1.22it/s]"
     ]
    },
    {
     "name": "stdout",
     "output_type": "stream",
     "text": [
      "retrieving http://oracc.org/etcsri/Q001787/html\n",
      "saving http://oracc.org/etcsri/Q001787 as HTML/etcsri_Q001787.html\n"
     ]
    },
    {
     "name": "stderr",
     "output_type": "stream",
     "text": [
      "\r",
      " 59%|█████▉    | 846/1428 [06:05<08:56,  1.08it/s]"
     ]
    },
    {
     "name": "stdout",
     "output_type": "stream",
     "text": [
      "retrieving http://oracc.org/etcsri/Q004278/html\n",
      "saving http://oracc.org/etcsri/Q004278 as HTML/etcsri_Q004278.html\n"
     ]
    },
    {
     "name": "stderr",
     "output_type": "stream",
     "text": [
      "\r",
      " 59%|█████▉    | 847/1428 [06:06<09:42,  1.00s/it]"
     ]
    },
    {
     "name": "stdout",
     "output_type": "stream",
     "text": [
      "retrieving http://oracc.org/etcsri/Q004279/html\n",
      "saving http://oracc.org/etcsri/Q004279 as HTML/etcsri_Q004279.html\n"
     ]
    },
    {
     "name": "stderr",
     "output_type": "stream",
     "text": [
      "\r",
      " 59%|█████▉    | 848/1428 [06:07<09:37,  1.00it/s]"
     ]
    },
    {
     "name": "stdout",
     "output_type": "stream",
     "text": [
      "retrieving http://oracc.org/etcsri/Q004280/html\n",
      "saving http://oracc.org/etcsri/Q004280 as HTML/etcsri_Q004280.html\n"
     ]
    },
    {
     "name": "stderr",
     "output_type": "stream",
     "text": [
      "\r",
      " 59%|█████▉    | 849/1428 [06:09<10:17,  1.07s/it]"
     ]
    },
    {
     "name": "stdout",
     "output_type": "stream",
     "text": [
      "retrieving http://oracc.org/etcsri/Q004281/html\n",
      "saving http://oracc.org/etcsri/Q004281 as HTML/etcsri_Q004281.html\n"
     ]
    },
    {
     "name": "stderr",
     "output_type": "stream",
     "text": [
      "\r",
      " 60%|█████▉    | 850/1428 [06:10<10:12,  1.06s/it]"
     ]
    },
    {
     "name": "stdout",
     "output_type": "stream",
     "text": [
      "retrieving http://oracc.org/etcsri/Q004282/html\n",
      "saving http://oracc.org/etcsri/Q004282 as HTML/etcsri_Q004282.html\n"
     ]
    },
    {
     "name": "stderr",
     "output_type": "stream",
     "text": [
      "\r",
      " 60%|█████▉    | 851/1428 [06:11<10:21,  1.08s/it]"
     ]
    },
    {
     "name": "stdout",
     "output_type": "stream",
     "text": [
      "retrieving http://oracc.org/etcsri/Q004283/html\n",
      "saving http://oracc.org/etcsri/Q004283 as HTML/etcsri_Q004283.html\n"
     ]
    },
    {
     "name": "stderr",
     "output_type": "stream",
     "text": [
      "\r",
      " 60%|█████▉    | 852/1428 [06:12<10:42,  1.12s/it]"
     ]
    },
    {
     "name": "stdout",
     "output_type": "stream",
     "text": [
      "retrieving http://oracc.org/etcsri/Q004284/html\n",
      "saving http://oracc.org/etcsri/Q004284 as HTML/etcsri_Q004284.html\n"
     ]
    },
    {
     "name": "stderr",
     "output_type": "stream",
     "text": [
      "\r",
      " 60%|█████▉    | 853/1428 [06:13<10:52,  1.14s/it]"
     ]
    },
    {
     "name": "stdout",
     "output_type": "stream",
     "text": [
      "retrieving http://oracc.org/etcsri/Q004285/html\n",
      "saving http://oracc.org/etcsri/Q004285 as HTML/etcsri_Q004285.html\n"
     ]
    },
    {
     "name": "stderr",
     "output_type": "stream",
     "text": [
      "\r",
      " 60%|█████▉    | 854/1428 [06:15<11:33,  1.21s/it]"
     ]
    },
    {
     "name": "stdout",
     "output_type": "stream",
     "text": [
      "retrieving http://oracc.org/etcsri/Q004286/html\n",
      "saving http://oracc.org/etcsri/Q004286 as HTML/etcsri_Q004286.html\n"
     ]
    },
    {
     "name": "stderr",
     "output_type": "stream",
     "text": [
      "\r",
      " 60%|█████▉    | 855/1428 [06:16<11:36,  1.22s/it]"
     ]
    },
    {
     "name": "stdout",
     "output_type": "stream",
     "text": [
      "retrieving http://oracc.org/etcsri/Q004287/html\n",
      "saving http://oracc.org/etcsri/Q004287 as HTML/etcsri_Q004287.html\n"
     ]
    },
    {
     "name": "stderr",
     "output_type": "stream",
     "text": [
      "\r",
      " 60%|█████▉    | 856/1428 [06:17<11:54,  1.25s/it]"
     ]
    },
    {
     "name": "stdout",
     "output_type": "stream",
     "text": [
      "retrieving http://oracc.org/etcsri/Q004288/html\n",
      "saving http://oracc.org/etcsri/Q004288 as HTML/etcsri_Q004288.html\n"
     ]
    },
    {
     "name": "stderr",
     "output_type": "stream",
     "text": [
      "\r",
      " 60%|██████    | 857/1428 [06:18<11:30,  1.21s/it]"
     ]
    },
    {
     "name": "stdout",
     "output_type": "stream",
     "text": [
      "retrieving http://oracc.org/etcsri/Q004289/html\n",
      "saving http://oracc.org/etcsri/Q004289 as HTML/etcsri_Q004289.html\n"
     ]
    },
    {
     "name": "stderr",
     "output_type": "stream",
     "text": [
      "\r",
      " 60%|██████    | 858/1428 [06:20<11:41,  1.23s/it]"
     ]
    },
    {
     "name": "stdout",
     "output_type": "stream",
     "text": [
      "retrieving http://oracc.org/etcsri/Q004290/html\n",
      "saving http://oracc.org/etcsri/Q004290 as HTML/etcsri_Q004290.html\n"
     ]
    },
    {
     "name": "stderr",
     "output_type": "stream",
     "text": [
      "\r",
      " 60%|██████    | 859/1428 [06:21<12:10,  1.28s/it]"
     ]
    },
    {
     "name": "stdout",
     "output_type": "stream",
     "text": [
      "retrieving http://oracc.org/etcsri/Q004291/html\n",
      "saving http://oracc.org/etcsri/Q004291 as HTML/etcsri_Q004291.html\n"
     ]
    },
    {
     "name": "stderr",
     "output_type": "stream",
     "text": [
      "\r",
      " 60%|██████    | 860/1428 [06:22<12:41,  1.34s/it]"
     ]
    },
    {
     "name": "stdout",
     "output_type": "stream",
     "text": [
      "retrieving http://oracc.org/etcsri/Q004292/html\n",
      "saving http://oracc.org/etcsri/Q004292 as HTML/etcsri_Q004292.html\n"
     ]
    },
    {
     "name": "stderr",
     "output_type": "stream",
     "text": [
      "\r",
      " 60%|██████    | 861/1428 [06:24<13:54,  1.47s/it]"
     ]
    },
    {
     "name": "stdout",
     "output_type": "stream",
     "text": [
      "retrieving http://oracc.org/etcsri/Q004293/html\n",
      "saving http://oracc.org/etcsri/Q004293 as HTML/etcsri_Q004293.html\n"
     ]
    },
    {
     "name": "stderr",
     "output_type": "stream",
     "text": [
      "\r",
      " 60%|██████    | 862/1428 [06:26<13:50,  1.47s/it]"
     ]
    },
    {
     "name": "stdout",
     "output_type": "stream",
     "text": [
      "retrieving http://oracc.org/etcsri/Q004294/html\n",
      "saving http://oracc.org/etcsri/Q004294 as HTML/etcsri_Q004294.html\n"
     ]
    },
    {
     "name": "stderr",
     "output_type": "stream",
     "text": [
      "\r",
      " 60%|██████    | 863/1428 [06:27<12:34,  1.34s/it]"
     ]
    },
    {
     "name": "stdout",
     "output_type": "stream",
     "text": [
      "retrieving http://oracc.org/etcsri/Q004295/html\n",
      "saving http://oracc.org/etcsri/Q004295 as HTML/etcsri_Q004295.html\n"
     ]
    },
    {
     "name": "stderr",
     "output_type": "stream",
     "text": [
      "\r",
      " 61%|██████    | 864/1428 [06:27<09:54,  1.05s/it]"
     ]
    },
    {
     "name": "stdout",
     "output_type": "stream",
     "text": [
      "retrieving http://oracc.org/etcsri/Q004296/html\n",
      "saving http://oracc.org/etcsri/Q004296 as HTML/etcsri_Q004296.html\n"
     ]
    },
    {
     "name": "stderr",
     "output_type": "stream",
     "text": [
      "\r",
      " 61%|██████    | 865/1428 [06:27<07:56,  1.18it/s]"
     ]
    },
    {
     "name": "stdout",
     "output_type": "stream",
     "text": [
      "retrieving http://oracc.org/etcsri/Q004297/html\n",
      "saving http://oracc.org/etcsri/Q004297 as HTML/etcsri_Q004297.html\n"
     ]
    },
    {
     "name": "stderr",
     "output_type": "stream",
     "text": [
      "\r",
      " 61%|██████    | 866/1428 [06:28<06:26,  1.46it/s]"
     ]
    },
    {
     "name": "stdout",
     "output_type": "stream",
     "text": [
      "retrieving http://oracc.org/etcsri/Q004298/html\n",
      "saving http://oracc.org/etcsri/Q004298 as HTML/etcsri_Q004298.html\n"
     ]
    },
    {
     "name": "stderr",
     "output_type": "stream",
     "text": [
      "\r",
      " 61%|██████    | 867/1428 [06:28<05:38,  1.66it/s]"
     ]
    },
    {
     "name": "stdout",
     "output_type": "stream",
     "text": [
      "retrieving http://oracc.org/etcsri/Q004299/html\n",
      "saving http://oracc.org/etcsri/Q004299 as HTML/etcsri_Q004299.html\n"
     ]
    },
    {
     "name": "stderr",
     "output_type": "stream",
     "text": [
      "\r",
      " 61%|██████    | 868/1428 [06:29<05:14,  1.78it/s]"
     ]
    },
    {
     "name": "stdout",
     "output_type": "stream",
     "text": [
      "retrieving http://oracc.org/etcsri/Q004300/html\n",
      "saving http://oracc.org/etcsri/Q004300 as HTML/etcsri_Q004300.html\n"
     ]
    },
    {
     "name": "stderr",
     "output_type": "stream",
     "text": [
      "\r",
      " 61%|██████    | 869/1428 [06:29<04:40,  1.99it/s]"
     ]
    },
    {
     "name": "stdout",
     "output_type": "stream",
     "text": [
      "retrieving http://oracc.org/etcsri/Q004301/html\n",
      "saving http://oracc.org/etcsri/Q004301 as HTML/etcsri_Q004301.html\n"
     ]
    },
    {
     "name": "stderr",
     "output_type": "stream",
     "text": [
      "\r",
      " 61%|██████    | 870/1428 [06:29<04:13,  2.20it/s]"
     ]
    },
    {
     "name": "stdout",
     "output_type": "stream",
     "text": [
      "retrieving http://oracc.org/etcsri/Q004302/html\n",
      "saving http://oracc.org/etcsri/Q004302 as HTML/etcsri_Q004302.html\n"
     ]
    },
    {
     "name": "stderr",
     "output_type": "stream",
     "text": [
      "\r",
      " 61%|██████    | 871/1428 [06:30<03:51,  2.40it/s]"
     ]
    },
    {
     "name": "stdout",
     "output_type": "stream",
     "text": [
      "retrieving http://oracc.org/etcsri/Q004303/html\n",
      "saving http://oracc.org/etcsri/Q004303 as HTML/etcsri_Q004303.html\n"
     ]
    },
    {
     "name": "stderr",
     "output_type": "stream",
     "text": [
      "\r",
      " 61%|██████    | 872/1428 [06:30<03:42,  2.50it/s]"
     ]
    },
    {
     "name": "stdout",
     "output_type": "stream",
     "text": [
      "retrieving http://oracc.org/etcsri/Q004304/html\n",
      "saving http://oracc.org/etcsri/Q004304 as HTML/etcsri_Q004304.html\n"
     ]
    },
    {
     "name": "stderr",
     "output_type": "stream",
     "text": [
      "\r",
      " 61%|██████    | 873/1428 [06:30<03:35,  2.57it/s]"
     ]
    },
    {
     "name": "stdout",
     "output_type": "stream",
     "text": [
      "retrieving http://oracc.org/etcsri/Q004305/html\n",
      "saving http://oracc.org/etcsri/Q004305 as HTML/etcsri_Q004305.html\n"
     ]
    },
    {
     "name": "stderr",
     "output_type": "stream",
     "text": [
      "\r",
      " 61%|██████    | 874/1428 [06:31<03:27,  2.67it/s]"
     ]
    },
    {
     "name": "stdout",
     "output_type": "stream",
     "text": [
      "retrieving http://oracc.org/etcsri/Q004306/html\n",
      "saving http://oracc.org/etcsri/Q004306 as HTML/etcsri_Q004306.html\n"
     ]
    },
    {
     "name": "stderr",
     "output_type": "stream",
     "text": [
      "\r",
      " 61%|██████▏   | 875/1428 [06:31<03:45,  2.46it/s]"
     ]
    },
    {
     "name": "stdout",
     "output_type": "stream",
     "text": [
      "retrieving http://oracc.org/etcsri/Q004307/html\n",
      "saving http://oracc.org/etcsri/Q004307 as HTML/etcsri_Q004307.html\n"
     ]
    },
    {
     "name": "stderr",
     "output_type": "stream",
     "text": [
      "\r",
      " 61%|██████▏   | 876/1428 [06:32<03:31,  2.61it/s]"
     ]
    },
    {
     "name": "stdout",
     "output_type": "stream",
     "text": [
      "retrieving http://oracc.org/etcsri/Q004308/html\n",
      "saving http://oracc.org/etcsri/Q004308 as HTML/etcsri_Q004308.html\n"
     ]
    },
    {
     "name": "stderr",
     "output_type": "stream",
     "text": [
      "\r",
      " 61%|██████▏   | 877/1428 [06:32<03:23,  2.71it/s]"
     ]
    },
    {
     "name": "stdout",
     "output_type": "stream",
     "text": [
      "retrieving http://oracc.org/etcsri/Q004309/html\n",
      "saving http://oracc.org/etcsri/Q004309 as HTML/etcsri_Q004309.html\n"
     ]
    },
    {
     "name": "stderr",
     "output_type": "stream",
     "text": [
      "\r",
      " 61%|██████▏   | 878/1428 [06:32<03:16,  2.80it/s]"
     ]
    },
    {
     "name": "stdout",
     "output_type": "stream",
     "text": [
      "retrieving http://oracc.org/etcsri/Q004310/html\n",
      "saving http://oracc.org/etcsri/Q004310 as HTML/etcsri_Q004310.html\n"
     ]
    },
    {
     "name": "stderr",
     "output_type": "stream",
     "text": [
      "\r",
      " 62%|██████▏   | 879/1428 [06:33<03:23,  2.69it/s]"
     ]
    },
    {
     "name": "stdout",
     "output_type": "stream",
     "text": [
      "retrieving http://oracc.org/etcsri/Q004311/html\n",
      "saving http://oracc.org/etcsri/Q004311 as HTML/etcsri_Q004311.html\n"
     ]
    },
    {
     "name": "stderr",
     "output_type": "stream",
     "text": [
      "\r",
      " 62%|██████▏   | 880/1428 [06:33<03:40,  2.49it/s]"
     ]
    },
    {
     "name": "stdout",
     "output_type": "stream",
     "text": [
      "retrieving http://oracc.org/etcsri/Q004312/html\n",
      "saving http://oracc.org/etcsri/Q004312 as HTML/etcsri_Q004312.html\n"
     ]
    },
    {
     "name": "stderr",
     "output_type": "stream",
     "text": [
      "\r",
      " 62%|██████▏   | 881/1428 [06:33<03:39,  2.49it/s]"
     ]
    },
    {
     "name": "stdout",
     "output_type": "stream",
     "text": [
      "retrieving http://oracc.org/etcsri/Q004313/html\n",
      "saving http://oracc.org/etcsri/Q004313 as HTML/etcsri_Q004313.html\n"
     ]
    },
    {
     "name": "stderr",
     "output_type": "stream",
     "text": [
      "\r",
      " 62%|██████▏   | 882/1428 [06:34<03:36,  2.53it/s]"
     ]
    },
    {
     "name": "stdout",
     "output_type": "stream",
     "text": [
      "retrieving http://oracc.org/etcsri/Q004314/html\n",
      "saving http://oracc.org/etcsri/Q004314 as HTML/etcsri_Q004314.html\n"
     ]
    },
    {
     "name": "stderr",
     "output_type": "stream",
     "text": [
      "\r",
      " 62%|██████▏   | 883/1428 [06:34<03:38,  2.49it/s]"
     ]
    },
    {
     "name": "stdout",
     "output_type": "stream",
     "text": [
      "retrieving http://oracc.org/etcsri/Q004315/html\n",
      "saving http://oracc.org/etcsri/Q004315 as HTML/etcsri_Q004315.html\n"
     ]
    },
    {
     "name": "stderr",
     "output_type": "stream",
     "text": [
      "\r",
      " 62%|██████▏   | 884/1428 [06:35<03:28,  2.61it/s]"
     ]
    },
    {
     "name": "stdout",
     "output_type": "stream",
     "text": [
      "retrieving http://oracc.org/etcsri/Q004316/html\n",
      "saving http://oracc.org/etcsri/Q004316 as HTML/etcsri_Q004316.html\n"
     ]
    },
    {
     "name": "stderr",
     "output_type": "stream",
     "text": [
      "\r",
      " 62%|██████▏   | 885/1428 [06:35<03:50,  2.36it/s]"
     ]
    },
    {
     "name": "stdout",
     "output_type": "stream",
     "text": [
      "retrieving http://oracc.org/etcsri/Q004317/html\n",
      "saving http://oracc.org/etcsri/Q004317 as HTML/etcsri_Q004317.html\n"
     ]
    },
    {
     "name": "stderr",
     "output_type": "stream",
     "text": [
      "\r",
      " 62%|██████▏   | 886/1428 [06:36<03:58,  2.27it/s]"
     ]
    },
    {
     "name": "stdout",
     "output_type": "stream",
     "text": [
      "retrieving http://oracc.org/etcsri/Q004318/html\n",
      "saving http://oracc.org/etcsri/Q004318 as HTML/etcsri_Q004318.html\n"
     ]
    },
    {
     "name": "stderr",
     "output_type": "stream",
     "text": [
      "\r",
      " 62%|██████▏   | 887/1428 [06:36<03:42,  2.43it/s]"
     ]
    },
    {
     "name": "stdout",
     "output_type": "stream",
     "text": [
      "retrieving http://oracc.org/etcsri/Q004319/html\n",
      "saving http://oracc.org/etcsri/Q004319 as HTML/etcsri_Q004319.html\n"
     ]
    },
    {
     "name": "stderr",
     "output_type": "stream",
     "text": [
      "\r",
      " 62%|██████▏   | 888/1428 [06:36<03:39,  2.46it/s]"
     ]
    },
    {
     "name": "stdout",
     "output_type": "stream",
     "text": [
      "retrieving http://oracc.org/etcsri/Q004320/html\n",
      "saving http://oracc.org/etcsri/Q004320 as HTML/etcsri_Q004320.html\n"
     ]
    },
    {
     "name": "stderr",
     "output_type": "stream",
     "text": [
      "\r",
      " 62%|██████▏   | 889/1428 [06:37<03:37,  2.48it/s]"
     ]
    },
    {
     "name": "stdout",
     "output_type": "stream",
     "text": [
      "retrieving http://oracc.org/etcsri/Q004321/html\n",
      "saving http://oracc.org/etcsri/Q004321 as HTML/etcsri_Q004321.html\n"
     ]
    },
    {
     "name": "stderr",
     "output_type": "stream",
     "text": [
      "\r",
      " 62%|██████▏   | 890/1428 [06:37<03:31,  2.54it/s]"
     ]
    },
    {
     "name": "stdout",
     "output_type": "stream",
     "text": [
      "retrieving http://oracc.org/etcsri/Q004322/html\n",
      "saving http://oracc.org/etcsri/Q004322 as HTML/etcsri_Q004322.html\n"
     ]
    },
    {
     "name": "stderr",
     "output_type": "stream",
     "text": [
      "\r",
      " 62%|██████▏   | 891/1428 [06:38<03:28,  2.57it/s]"
     ]
    },
    {
     "name": "stdout",
     "output_type": "stream",
     "text": [
      "retrieving http://oracc.org/etcsri/Q004323/html\n",
      "saving http://oracc.org/etcsri/Q004323 as HTML/etcsri_Q004323.html\n"
     ]
    },
    {
     "name": "stderr",
     "output_type": "stream",
     "text": [
      "\r",
      " 62%|██████▏   | 892/1428 [06:38<03:20,  2.68it/s]"
     ]
    },
    {
     "name": "stdout",
     "output_type": "stream",
     "text": [
      "retrieving http://oracc.org/etcsri/Q004324/html\n",
      "saving http://oracc.org/etcsri/Q004324 as HTML/etcsri_Q004324.html\n"
     ]
    },
    {
     "name": "stderr",
     "output_type": "stream",
     "text": [
      "\r",
      " 63%|██████▎   | 893/1428 [06:38<03:25,  2.61it/s]"
     ]
    },
    {
     "name": "stdout",
     "output_type": "stream",
     "text": [
      "retrieving http://oracc.org/etcsri/Q004325/html\n",
      "saving http://oracc.org/etcsri/Q004325 as HTML/etcsri_Q004325.html\n"
     ]
    },
    {
     "name": "stderr",
     "output_type": "stream",
     "text": [
      "\r",
      " 63%|██████▎   | 894/1428 [06:39<03:13,  2.75it/s]"
     ]
    },
    {
     "name": "stdout",
     "output_type": "stream",
     "text": [
      "retrieving http://oracc.org/etcsri/Q004326/html\n",
      "saving http://oracc.org/etcsri/Q004326 as HTML/etcsri_Q004326.html\n"
     ]
    },
    {
     "name": "stderr",
     "output_type": "stream",
     "text": [
      "\r",
      " 63%|██████▎   | 895/1428 [06:39<03:20,  2.66it/s]"
     ]
    },
    {
     "name": "stdout",
     "output_type": "stream",
     "text": [
      "retrieving http://oracc.org/etcsri/Q004327/html\n",
      "saving http://oracc.org/etcsri/Q004327 as HTML/etcsri_Q004327.html\n"
     ]
    },
    {
     "name": "stderr",
     "output_type": "stream",
     "text": [
      "\r",
      " 63%|██████▎   | 896/1428 [06:39<03:17,  2.69it/s]"
     ]
    },
    {
     "name": "stdout",
     "output_type": "stream",
     "text": [
      "retrieving http://oracc.org/etcsri/Q004328/html\n",
      "saving http://oracc.org/etcsri/Q004328 as HTML/etcsri_Q004328.html\n"
     ]
    },
    {
     "name": "stderr",
     "output_type": "stream",
     "text": [
      "\r",
      " 63%|██████▎   | 897/1428 [06:40<03:25,  2.58it/s]"
     ]
    },
    {
     "name": "stdout",
     "output_type": "stream",
     "text": [
      "retrieving http://oracc.org/etcsri/Q004329/html\n",
      "saving http://oracc.org/etcsri/Q004329 as HTML/etcsri_Q004329.html\n"
     ]
    },
    {
     "name": "stderr",
     "output_type": "stream",
     "text": [
      "\r",
      " 63%|██████▎   | 898/1428 [06:40<03:17,  2.68it/s]"
     ]
    },
    {
     "name": "stdout",
     "output_type": "stream",
     "text": [
      "retrieving http://oracc.org/etcsri/Q004330/html\n",
      "saving http://oracc.org/etcsri/Q004330 as HTML/etcsri_Q004330.html\n"
     ]
    },
    {
     "name": "stderr",
     "output_type": "stream",
     "text": [
      "\r",
      " 63%|██████▎   | 899/1428 [06:41<03:27,  2.55it/s]"
     ]
    },
    {
     "name": "stdout",
     "output_type": "stream",
     "text": [
      "retrieving http://oracc.org/etcsri/Q004331/html\n",
      "saving http://oracc.org/etcsri/Q004331 as HTML/etcsri_Q004331.html\n"
     ]
    },
    {
     "name": "stderr",
     "output_type": "stream",
     "text": [
      "\r",
      " 63%|██████▎   | 900/1428 [06:41<03:31,  2.49it/s]"
     ]
    },
    {
     "name": "stdout",
     "output_type": "stream",
     "text": [
      "retrieving http://oracc.org/etcsri/Q004332/html\n",
      "saving http://oracc.org/etcsri/Q004332 as HTML/etcsri_Q004332.html\n"
     ]
    },
    {
     "name": "stderr",
     "output_type": "stream",
     "text": [
      "\r",
      " 63%|██████▎   | 901/1428 [06:41<03:21,  2.61it/s]"
     ]
    },
    {
     "name": "stdout",
     "output_type": "stream",
     "text": [
      "retrieving http://oracc.org/etcsri/Q004333/html\n",
      "saving http://oracc.org/etcsri/Q004333 as HTML/etcsri_Q004333.html\n"
     ]
    },
    {
     "name": "stderr",
     "output_type": "stream",
     "text": [
      "\r",
      " 63%|██████▎   | 902/1428 [06:42<03:20,  2.62it/s]"
     ]
    },
    {
     "name": "stdout",
     "output_type": "stream",
     "text": [
      "retrieving http://oracc.org/etcsri/Q004334/html\n",
      "saving http://oracc.org/etcsri/Q004334 as HTML/etcsri_Q004334.html\n"
     ]
    },
    {
     "name": "stderr",
     "output_type": "stream",
     "text": [
      "\r",
      " 63%|██████▎   | 903/1428 [06:42<03:16,  2.67it/s]"
     ]
    },
    {
     "name": "stdout",
     "output_type": "stream",
     "text": [
      "retrieving http://oracc.org/etcsri/Q004335/html\n",
      "saving http://oracc.org/etcsri/Q004335 as HTML/etcsri_Q004335.html\n"
     ]
    },
    {
     "name": "stderr",
     "output_type": "stream",
     "text": [
      "\r",
      " 63%|██████▎   | 904/1428 [06:42<03:15,  2.68it/s]"
     ]
    },
    {
     "name": "stdout",
     "output_type": "stream",
     "text": [
      "retrieving http://oracc.org/etcsri/Q004336/html\n",
      "saving http://oracc.org/etcsri/Q004336 as HTML/etcsri_Q004336.html\n"
     ]
    },
    {
     "name": "stderr",
     "output_type": "stream",
     "text": [
      "\r",
      " 63%|██████▎   | 905/1428 [06:43<03:29,  2.49it/s]"
     ]
    },
    {
     "name": "stdout",
     "output_type": "stream",
     "text": [
      "retrieving http://oracc.org/etcsri/Q004337/html\n",
      "saving http://oracc.org/etcsri/Q004337 as HTML/etcsri_Q004337.html\n"
     ]
    },
    {
     "name": "stderr",
     "output_type": "stream",
     "text": [
      "\r",
      " 63%|██████▎   | 906/1428 [06:43<03:24,  2.55it/s]"
     ]
    },
    {
     "name": "stdout",
     "output_type": "stream",
     "text": [
      "retrieving http://oracc.org/etcsri/Q004338/html\n",
      "saving http://oracc.org/etcsri/Q004338 as HTML/etcsri_Q004338.html\n"
     ]
    },
    {
     "name": "stderr",
     "output_type": "stream",
     "text": [
      "\r",
      " 64%|██████▎   | 907/1428 [06:44<03:29,  2.48it/s]"
     ]
    },
    {
     "name": "stdout",
     "output_type": "stream",
     "text": [
      "retrieving http://oracc.org/etcsri/Q004339/html\n",
      "saving http://oracc.org/etcsri/Q004339 as HTML/etcsri_Q004339.html\n"
     ]
    },
    {
     "name": "stderr",
     "output_type": "stream",
     "text": [
      "\r",
      " 64%|██████▎   | 908/1428 [06:44<03:18,  2.62it/s]"
     ]
    },
    {
     "name": "stdout",
     "output_type": "stream",
     "text": [
      "retrieving http://oracc.org/etcsri/Q004340/html\n",
      "saving http://oracc.org/etcsri/Q004340 as HTML/etcsri_Q004340.html\n"
     ]
    },
    {
     "name": "stderr",
     "output_type": "stream",
     "text": [
      "\r",
      " 64%|██████▎   | 909/1428 [06:44<03:13,  2.69it/s]"
     ]
    },
    {
     "name": "stdout",
     "output_type": "stream",
     "text": [
      "retrieving http://oracc.org/etcsri/Q004341/html\n",
      "saving http://oracc.org/etcsri/Q004341 as HTML/etcsri_Q004341.html\n"
     ]
    },
    {
     "name": "stderr",
     "output_type": "stream",
     "text": [
      "\r",
      " 64%|██████▎   | 910/1428 [06:45<03:05,  2.79it/s]"
     ]
    },
    {
     "name": "stdout",
     "output_type": "stream",
     "text": [
      "retrieving http://oracc.org/etcsri/Q004342/html\n",
      "saving http://oracc.org/etcsri/Q004342 as HTML/etcsri_Q004342.html\n"
     ]
    },
    {
     "name": "stderr",
     "output_type": "stream",
     "text": [
      "\r",
      " 64%|██████▍   | 911/1428 [06:45<03:19,  2.59it/s]"
     ]
    },
    {
     "name": "stdout",
     "output_type": "stream",
     "text": [
      "retrieving http://oracc.org/etcsri/Q004343/html\n",
      "saving http://oracc.org/etcsri/Q004343 as HTML/etcsri_Q004343.html\n"
     ]
    },
    {
     "name": "stderr",
     "output_type": "stream",
     "text": [
      "\r",
      " 64%|██████▍   | 912/1428 [06:46<03:24,  2.52it/s]"
     ]
    },
    {
     "name": "stdout",
     "output_type": "stream",
     "text": [
      "retrieving http://oracc.org/etcsri/Q004344/html\n",
      "saving http://oracc.org/etcsri/Q004344 as HTML/etcsri_Q004344.html\n"
     ]
    },
    {
     "name": "stderr",
     "output_type": "stream",
     "text": [
      "\r",
      " 64%|██████▍   | 913/1428 [06:46<03:16,  2.62it/s]"
     ]
    },
    {
     "name": "stdout",
     "output_type": "stream",
     "text": [
      "retrieving http://oracc.org/etcsri/Q004345/html\n",
      "saving http://oracc.org/etcsri/Q004345 as HTML/etcsri_Q004345.html\n"
     ]
    },
    {
     "name": "stderr",
     "output_type": "stream",
     "text": [
      "\r",
      " 64%|██████▍   | 914/1428 [06:46<03:10,  2.70it/s]"
     ]
    },
    {
     "name": "stdout",
     "output_type": "stream",
     "text": [
      "retrieving http://oracc.org/etcsri/Q004346/html\n",
      "saving http://oracc.org/etcsri/Q004346 as HTML/etcsri_Q004346.html\n"
     ]
    },
    {
     "name": "stderr",
     "output_type": "stream",
     "text": [
      "\r",
      " 64%|██████▍   | 915/1428 [06:47<03:08,  2.72it/s]"
     ]
    },
    {
     "name": "stdout",
     "output_type": "stream",
     "text": [
      "retrieving http://oracc.org/etcsri/Q004347/html\n",
      "saving http://oracc.org/etcsri/Q004347 as HTML/etcsri_Q004347.html\n"
     ]
    },
    {
     "name": "stderr",
     "output_type": "stream",
     "text": [
      "\r",
      " 64%|██████▍   | 916/1428 [06:47<03:08,  2.72it/s]"
     ]
    },
    {
     "name": "stdout",
     "output_type": "stream",
     "text": [
      "retrieving http://oracc.org/etcsri/Q004348/html\n",
      "saving http://oracc.org/etcsri/Q004348 as HTML/etcsri_Q004348.html\n"
     ]
    },
    {
     "name": "stderr",
     "output_type": "stream",
     "text": [
      "\r",
      " 64%|██████▍   | 917/1428 [06:47<03:20,  2.54it/s]"
     ]
    },
    {
     "name": "stdout",
     "output_type": "stream",
     "text": [
      "retrieving http://oracc.org/etcsri/Q004349/html\n",
      "saving http://oracc.org/etcsri/Q004349 as HTML/etcsri_Q004349.html\n"
     ]
    },
    {
     "name": "stderr",
     "output_type": "stream",
     "text": [
      "\r",
      " 64%|██████▍   | 918/1428 [06:48<03:36,  2.36it/s]"
     ]
    },
    {
     "name": "stdout",
     "output_type": "stream",
     "text": [
      "retrieving http://oracc.org/etcsri/Q004350/html\n",
      "saving http://oracc.org/etcsri/Q004350 as HTML/etcsri_Q004350.html\n"
     ]
    },
    {
     "name": "stderr",
     "output_type": "stream",
     "text": [
      "\r",
      " 64%|██████▍   | 919/1428 [06:48<03:39,  2.32it/s]"
     ]
    },
    {
     "name": "stdout",
     "output_type": "stream",
     "text": [
      "retrieving http://oracc.org/etcsri/Q004351/html\n",
      "saving http://oracc.org/etcsri/Q004351 as HTML/etcsri_Q004351.html\n"
     ]
    },
    {
     "name": "stderr",
     "output_type": "stream",
     "text": [
      "\r",
      " 64%|██████▍   | 920/1428 [06:49<03:24,  2.48it/s]"
     ]
    },
    {
     "name": "stdout",
     "output_type": "stream",
     "text": [
      "retrieving http://oracc.org/etcsri/Q000981/html\n",
      "saving http://oracc.org/etcsri/Q000981 as HTML/etcsri_Q000981.html\n"
     ]
    },
    {
     "name": "stderr",
     "output_type": "stream",
     "text": [
      "\r",
      " 64%|██████▍   | 921/1428 [06:49<03:17,  2.57it/s]"
     ]
    },
    {
     "name": "stdout",
     "output_type": "stream",
     "text": [
      "retrieving http://oracc.org/etcsri/Q001789/html\n",
      "saving http://oracc.org/etcsri/Q001789 as HTML/etcsri_Q001789.html\n"
     ]
    },
    {
     "name": "stderr",
     "output_type": "stream",
     "text": [
      "\r",
      " 65%|██████▍   | 922/1428 [06:49<03:13,  2.61it/s]"
     ]
    },
    {
     "name": "stdout",
     "output_type": "stream",
     "text": [
      "retrieving http://oracc.org/etcsri/Q001790/html\n",
      "saving http://oracc.org/etcsri/Q001790 as HTML/etcsri_Q001790.html\n"
     ]
    },
    {
     "name": "stderr",
     "output_type": "stream",
     "text": [
      "\r",
      " 65%|██████▍   | 923/1428 [06:50<03:29,  2.41it/s]"
     ]
    },
    {
     "name": "stdout",
     "output_type": "stream",
     "text": [
      "retrieving http://oracc.org/etcsri/Q000982/html\n",
      "saving http://oracc.org/etcsri/Q000982 as HTML/etcsri_Q000982.html\n"
     ]
    },
    {
     "name": "stderr",
     "output_type": "stream",
     "text": [
      "\r",
      " 65%|██████▍   | 924/1428 [06:50<03:32,  2.37it/s]"
     ]
    },
    {
     "name": "stdout",
     "output_type": "stream",
     "text": [
      "retrieving http://oracc.org/etcsri/Q001791/html\n",
      "saving http://oracc.org/etcsri/Q001791 as HTML/etcsri_Q001791.html\n"
     ]
    },
    {
     "name": "stderr",
     "output_type": "stream",
     "text": [
      "\r",
      " 65%|██████▍   | 925/1428 [06:51<03:33,  2.36it/s]"
     ]
    },
    {
     "name": "stdout",
     "output_type": "stream",
     "text": [
      "retrieving http://oracc.org/etcsri/Q001792/html\n",
      "saving http://oracc.org/etcsri/Q001792 as HTML/etcsri_Q001792.html\n"
     ]
    },
    {
     "name": "stderr",
     "output_type": "stream",
     "text": [
      "\r",
      " 65%|██████▍   | 926/1428 [06:51<03:42,  2.26it/s]"
     ]
    },
    {
     "name": "stdout",
     "output_type": "stream",
     "text": [
      "retrieving http://oracc.org/etcsri/Q001793/html\n",
      "saving http://oracc.org/etcsri/Q001793 as HTML/etcsri_Q001793.html\n"
     ]
    },
    {
     "name": "stderr",
     "output_type": "stream",
     "text": [
      "\r",
      " 65%|██████▍   | 927/1428 [06:52<03:36,  2.31it/s]"
     ]
    },
    {
     "name": "stdout",
     "output_type": "stream",
     "text": [
      "retrieving http://oracc.org/etcsri/Q000983/html\n",
      "saving http://oracc.org/etcsri/Q000983 as HTML/etcsri_Q000983.html\n"
     ]
    },
    {
     "name": "stderr",
     "output_type": "stream",
     "text": [
      "\r",
      " 65%|██████▍   | 928/1428 [06:52<03:21,  2.49it/s]"
     ]
    },
    {
     "name": "stdout",
     "output_type": "stream",
     "text": [
      "retrieving http://oracc.org/etcsri/Q000984/html\n",
      "saving http://oracc.org/etcsri/Q000984 as HTML/etcsri_Q000984.html\n"
     ]
    },
    {
     "name": "stderr",
     "output_type": "stream",
     "text": [
      "\r",
      " 65%|██████▌   | 929/1428 [06:53<04:08,  2.00it/s]"
     ]
    },
    {
     "name": "stdout",
     "output_type": "stream",
     "text": [
      "retrieving http://oracc.org/etcsri/Q000985/html\n",
      "saving http://oracc.org/etcsri/Q000985 as HTML/etcsri_Q000985.html\n"
     ]
    },
    {
     "name": "stderr",
     "output_type": "stream",
     "text": [
      "\r",
      " 65%|██████▌   | 930/1428 [06:53<04:10,  1.99it/s]"
     ]
    },
    {
     "name": "stdout",
     "output_type": "stream",
     "text": [
      "retrieving http://oracc.org/etcsri/Q001794/html\n",
      "saving http://oracc.org/etcsri/Q001794 as HTML/etcsri_Q001794.html\n"
     ]
    },
    {
     "name": "stderr",
     "output_type": "stream",
     "text": [
      "\r",
      " 65%|██████▌   | 931/1428 [06:54<04:35,  1.80it/s]"
     ]
    },
    {
     "name": "stdout",
     "output_type": "stream",
     "text": [
      "retrieving http://oracc.org/etcsri/Q001795/html\n",
      "saving http://oracc.org/etcsri/Q001795 as HTML/etcsri_Q001795.html\n"
     ]
    },
    {
     "name": "stderr",
     "output_type": "stream",
     "text": [
      "\r",
      " 65%|██████▌   | 932/1428 [06:54<04:03,  2.03it/s]"
     ]
    },
    {
     "name": "stdout",
     "output_type": "stream",
     "text": [
      "retrieving http://oracc.org/etcsri/Q000986/html\n",
      "saving http://oracc.org/etcsri/Q000986 as HTML/etcsri_Q000986.html\n"
     ]
    },
    {
     "name": "stderr",
     "output_type": "stream",
     "text": [
      "\r",
      " 65%|██████▌   | 933/1428 [06:55<04:01,  2.05it/s]"
     ]
    },
    {
     "name": "stdout",
     "output_type": "stream",
     "text": [
      "retrieving http://oracc.org/etcsri/Q000987/html\n",
      "saving http://oracc.org/etcsri/Q000987 as HTML/etcsri_Q000987.html\n"
     ]
    },
    {
     "name": "stderr",
     "output_type": "stream",
     "text": [
      "\r",
      " 65%|██████▌   | 934/1428 [06:55<03:35,  2.29it/s]"
     ]
    },
    {
     "name": "stdout",
     "output_type": "stream",
     "text": [
      "retrieving http://oracc.org/etcsri/Q000988/html\n",
      "saving http://oracc.org/etcsri/Q000988 as HTML/etcsri_Q000988.html\n"
     ]
    },
    {
     "name": "stderr",
     "output_type": "stream",
     "text": [
      "\r",
      " 65%|██████▌   | 935/1428 [06:56<03:39,  2.24it/s]"
     ]
    },
    {
     "name": "stdout",
     "output_type": "stream",
     "text": [
      "retrieving http://oracc.org/etcsri/Q000989/html\n",
      "saving http://oracc.org/etcsri/Q000989 as HTML/etcsri_Q000989.html\n"
     ]
    },
    {
     "name": "stderr",
     "output_type": "stream",
     "text": [
      "\r",
      " 66%|██████▌   | 936/1428 [06:56<03:46,  2.18it/s]"
     ]
    },
    {
     "name": "stdout",
     "output_type": "stream",
     "text": [
      "retrieving http://oracc.org/etcsri/Q000990/html\n",
      "saving http://oracc.org/etcsri/Q000990 as HTML/etcsri_Q000990.html\n"
     ]
    },
    {
     "name": "stderr",
     "output_type": "stream",
     "text": [
      "\r",
      " 66%|██████▌   | 937/1428 [06:56<03:45,  2.18it/s]"
     ]
    },
    {
     "name": "stdout",
     "output_type": "stream",
     "text": [
      "retrieving http://oracc.org/etcsri/Q001796/html\n",
      "saving http://oracc.org/etcsri/Q001796 as HTML/etcsri_Q001796.html\n"
     ]
    },
    {
     "name": "stderr",
     "output_type": "stream",
     "text": [
      "\r",
      " 66%|██████▌   | 938/1428 [06:57<03:42,  2.20it/s]"
     ]
    },
    {
     "name": "stdout",
     "output_type": "stream",
     "text": [
      "retrieving http://oracc.org/etcsri/Q001797/html\n",
      "saving http://oracc.org/etcsri/Q001797 as HTML/etcsri_Q001797.html\n"
     ]
    },
    {
     "name": "stderr",
     "output_type": "stream",
     "text": [
      "\r",
      " 66%|██████▌   | 939/1428 [06:57<03:28,  2.35it/s]"
     ]
    },
    {
     "name": "stdout",
     "output_type": "stream",
     "text": [
      "retrieving http://oracc.org/etcsri/Q001798/html\n",
      "saving http://oracc.org/etcsri/Q001798 as HTML/etcsri_Q001798.html\n"
     ]
    },
    {
     "name": "stderr",
     "output_type": "stream",
     "text": [
      "\r",
      " 66%|██████▌   | 940/1428 [06:58<03:24,  2.39it/s]"
     ]
    },
    {
     "name": "stdout",
     "output_type": "stream",
     "text": [
      "retrieving http://oracc.org/etcsri/Q001799/html\n",
      "saving http://oracc.org/etcsri/Q001799 as HTML/etcsri_Q001799.html\n"
     ]
    },
    {
     "name": "stderr",
     "output_type": "stream",
     "text": [
      "\r",
      " 66%|██████▌   | 941/1428 [06:58<03:20,  2.42it/s]"
     ]
    },
    {
     "name": "stdout",
     "output_type": "stream",
     "text": [
      "retrieving http://oracc.org/etcsri/Q001800/html\n",
      "saving http://oracc.org/etcsri/Q001800 as HTML/etcsri_Q001800.html\n"
     ]
    },
    {
     "name": "stderr",
     "output_type": "stream",
     "text": [
      "\r",
      " 66%|██████▌   | 942/1428 [06:59<03:34,  2.27it/s]"
     ]
    },
    {
     "name": "stdout",
     "output_type": "stream",
     "text": [
      "retrieving http://oracc.org/etcsri/Q001802/html\n",
      "saving http://oracc.org/etcsri/Q001802 as HTML/etcsri_Q001802.html\n"
     ]
    },
    {
     "name": "stderr",
     "output_type": "stream",
     "text": [
      "\r",
      " 66%|██████▌   | 943/1428 [06:59<03:46,  2.14it/s]"
     ]
    },
    {
     "name": "stdout",
     "output_type": "stream",
     "text": [
      "retrieving http://oracc.org/etcsri/Q001803/html\n",
      "saving http://oracc.org/etcsri/Q001803 as HTML/etcsri_Q001803.html\n"
     ]
    },
    {
     "name": "stderr",
     "output_type": "stream",
     "text": [
      "\r",
      " 66%|██████▌   | 944/1428 [07:00<03:42,  2.17it/s]"
     ]
    },
    {
     "name": "stdout",
     "output_type": "stream",
     "text": [
      "retrieving http://oracc.org/etcsri/Q001804/html\n",
      "saving http://oracc.org/etcsri/Q001804 as HTML/etcsri_Q001804.html\n"
     ]
    },
    {
     "name": "stderr",
     "output_type": "stream",
     "text": [
      "\r",
      " 66%|██████▌   | 945/1428 [07:00<03:34,  2.25it/s]"
     ]
    },
    {
     "name": "stdout",
     "output_type": "stream",
     "text": [
      "retrieving http://oracc.org/etcsri/Q001805/html\n",
      "saving http://oracc.org/etcsri/Q001805 as HTML/etcsri_Q001805.html\n"
     ]
    },
    {
     "name": "stderr",
     "output_type": "stream",
     "text": [
      "\r",
      " 66%|██████▌   | 946/1428 [07:00<03:22,  2.38it/s]"
     ]
    },
    {
     "name": "stdout",
     "output_type": "stream",
     "text": [
      "retrieving http://oracc.org/etcsri/Q001806/html\n",
      "saving http://oracc.org/etcsri/Q001806 as HTML/etcsri_Q001806.html\n"
     ]
    },
    {
     "name": "stderr",
     "output_type": "stream",
     "text": [
      "\r",
      " 66%|██████▋   | 947/1428 [07:01<03:13,  2.49it/s]"
     ]
    },
    {
     "name": "stdout",
     "output_type": "stream",
     "text": [
      "retrieving http://oracc.org/etcsri/Q001807/html\n",
      "saving http://oracc.org/etcsri/Q001807 as HTML/etcsri_Q001807.html\n"
     ]
    },
    {
     "name": "stderr",
     "output_type": "stream",
     "text": [
      "\r",
      " 66%|██████▋   | 948/1428 [07:01<03:11,  2.51it/s]"
     ]
    },
    {
     "name": "stdout",
     "output_type": "stream",
     "text": [
      "retrieving http://oracc.org/etcsri/Q001808/html\n",
      "saving http://oracc.org/etcsri/Q001808 as HTML/etcsri_Q001808.html\n"
     ]
    },
    {
     "name": "stderr",
     "output_type": "stream",
     "text": [
      "\r",
      " 66%|██████▋   | 949/1428 [07:02<03:23,  2.35it/s]"
     ]
    },
    {
     "name": "stdout",
     "output_type": "stream",
     "text": [
      "retrieving http://oracc.org/etcsri/Q001809/html\n",
      "saving http://oracc.org/etcsri/Q001809 as HTML/etcsri_Q001809.html\n"
     ]
    },
    {
     "name": "stderr",
     "output_type": "stream",
     "text": [
      "\r",
      " 67%|██████▋   | 950/1428 [07:02<03:10,  2.51it/s]"
     ]
    },
    {
     "name": "stdout",
     "output_type": "stream",
     "text": [
      "retrieving http://oracc.org/etcsri/Q004112/html\n",
      "saving http://oracc.org/etcsri/Q004112 as HTML/etcsri_Q004112.html\n"
     ]
    },
    {
     "name": "stderr",
     "output_type": "stream",
     "text": [
      "\r",
      " 67%|██████▋   | 951/1428 [07:02<02:59,  2.66it/s]"
     ]
    },
    {
     "name": "stdout",
     "output_type": "stream",
     "text": [
      "retrieving http://oracc.org/etcsri/Q004113/html\n",
      "saving http://oracc.org/etcsri/Q004113 as HTML/etcsri_Q004113.html\n"
     ]
    },
    {
     "name": "stderr",
     "output_type": "stream",
     "text": [
      "\r",
      " 67%|██████▋   | 952/1428 [07:03<02:53,  2.74it/s]"
     ]
    },
    {
     "name": "stdout",
     "output_type": "stream",
     "text": [
      "retrieving http://oracc.org/etcsri/Q004114/html\n",
      "saving http://oracc.org/etcsri/Q004114 as HTML/etcsri_Q004114.html\n"
     ]
    },
    {
     "name": "stderr",
     "output_type": "stream",
     "text": [
      "\r",
      " 67%|██████▋   | 953/1428 [07:03<03:13,  2.45it/s]"
     ]
    },
    {
     "name": "stdout",
     "output_type": "stream",
     "text": [
      "retrieving http://oracc.org/etcsri/Q004115/html\n",
      "saving http://oracc.org/etcsri/Q004115 as HTML/etcsri_Q004115.html\n"
     ]
    },
    {
     "name": "stderr",
     "output_type": "stream",
     "text": [
      "\r",
      " 67%|██████▋   | 954/1428 [07:03<03:06,  2.54it/s]"
     ]
    },
    {
     "name": "stdout",
     "output_type": "stream",
     "text": [
      "retrieving http://oracc.org/etcsri/Q004116/html\n",
      "saving http://oracc.org/etcsri/Q004116 as HTML/etcsri_Q004116.html\n"
     ]
    },
    {
     "name": "stderr",
     "output_type": "stream",
     "text": [
      "\r",
      " 67%|██████▋   | 955/1428 [07:04<02:59,  2.63it/s]"
     ]
    },
    {
     "name": "stdout",
     "output_type": "stream",
     "text": [
      "retrieving http://oracc.org/etcsri/Q004117/html\n",
      "saving http://oracc.org/etcsri/Q004117 as HTML/etcsri_Q004117.html\n"
     ]
    },
    {
     "name": "stderr",
     "output_type": "stream",
     "text": [
      "\r",
      " 67%|██████▋   | 956/1428 [07:04<02:53,  2.72it/s]"
     ]
    },
    {
     "name": "stdout",
     "output_type": "stream",
     "text": [
      "retrieving http://oracc.org/etcsri/Q004118/html\n",
      "saving http://oracc.org/etcsri/Q004118 as HTML/etcsri_Q004118.html\n"
     ]
    },
    {
     "name": "stderr",
     "output_type": "stream",
     "text": [
      "\r",
      " 67%|██████▋   | 957/1428 [07:05<02:55,  2.69it/s]"
     ]
    },
    {
     "name": "stdout",
     "output_type": "stream",
     "text": [
      "retrieving http://oracc.org/etcsri/Q004119/html\n",
      "saving http://oracc.org/etcsri/Q004119 as HTML/etcsri_Q004119.html\n"
     ]
    },
    {
     "name": "stderr",
     "output_type": "stream",
     "text": [
      "\r",
      " 67%|██████▋   | 958/1428 [07:05<02:50,  2.76it/s]"
     ]
    },
    {
     "name": "stdout",
     "output_type": "stream",
     "text": [
      "retrieving http://oracc.org/etcsri/Q004120/html\n",
      "saving http://oracc.org/etcsri/Q004120 as HTML/etcsri_Q004120.html\n"
     ]
    },
    {
     "name": "stderr",
     "output_type": "stream",
     "text": [
      "\r",
      " 67%|██████▋   | 959/1428 [07:06<03:44,  2.09it/s]"
     ]
    },
    {
     "name": "stdout",
     "output_type": "stream",
     "text": [
      "retrieving http://oracc.org/etcsri/Q004121/html\n",
      "saving http://oracc.org/etcsri/Q004121 as HTML/etcsri_Q004121.html\n"
     ]
    },
    {
     "name": "stderr",
     "output_type": "stream",
     "text": [
      "\r",
      " 67%|██████▋   | 960/1428 [07:06<03:23,  2.30it/s]"
     ]
    },
    {
     "name": "stdout",
     "output_type": "stream",
     "text": [
      "retrieving http://oracc.org/etcsri/Q004122/html\n",
      "saving http://oracc.org/etcsri/Q004122 as HTML/etcsri_Q004122.html\n"
     ]
    },
    {
     "name": "stderr",
     "output_type": "stream",
     "text": [
      "\r",
      " 67%|██████▋   | 961/1428 [07:06<03:36,  2.15it/s]"
     ]
    },
    {
     "name": "stdout",
     "output_type": "stream",
     "text": [
      "retrieving http://oracc.org/etcsri/Q004123/html\n",
      "saving http://oracc.org/etcsri/Q004123 as HTML/etcsri_Q004123.html\n"
     ]
    },
    {
     "name": "stderr",
     "output_type": "stream",
     "text": [
      "\r",
      " 67%|██████▋   | 962/1428 [07:07<03:20,  2.32it/s]"
     ]
    },
    {
     "name": "stdout",
     "output_type": "stream",
     "text": [
      "retrieving http://oracc.org/etcsri/Q004124/html\n",
      "saving http://oracc.org/etcsri/Q004124 as HTML/etcsri_Q004124.html\n"
     ]
    },
    {
     "name": "stderr",
     "output_type": "stream",
     "text": [
      "\r",
      " 67%|██████▋   | 963/1428 [07:07<03:08,  2.47it/s]"
     ]
    },
    {
     "name": "stdout",
     "output_type": "stream",
     "text": [
      "retrieving http://oracc.org/etcsri/Q004125/html\n",
      "saving http://oracc.org/etcsri/Q004125 as HTML/etcsri_Q004125.html\n"
     ]
    },
    {
     "name": "stderr",
     "output_type": "stream",
     "text": [
      "\r",
      " 68%|██████▊   | 964/1428 [07:07<02:58,  2.60it/s]"
     ]
    },
    {
     "name": "stdout",
     "output_type": "stream",
     "text": [
      "retrieving http://oracc.org/etcsri/Q004126/html\n",
      "saving http://oracc.org/etcsri/Q004126 as HTML/etcsri_Q004126.html\n"
     ]
    },
    {
     "name": "stderr",
     "output_type": "stream",
     "text": [
      "\r",
      " 68%|██████▊   | 965/1428 [07:08<02:51,  2.70it/s]"
     ]
    },
    {
     "name": "stdout",
     "output_type": "stream",
     "text": [
      "retrieving http://oracc.org/etcsri/Q004127/html\n",
      "saving http://oracc.org/etcsri/Q004127 as HTML/etcsri_Q004127.html\n"
     ]
    },
    {
     "name": "stderr",
     "output_type": "stream",
     "text": [
      "\r",
      " 68%|██████▊   | 966/1428 [07:08<02:49,  2.73it/s]"
     ]
    },
    {
     "name": "stdout",
     "output_type": "stream",
     "text": [
      "retrieving http://oracc.org/etcsri/Q004128/html\n",
      "saving http://oracc.org/etcsri/Q004128 as HTML/etcsri_Q004128.html\n"
     ]
    },
    {
     "name": "stderr",
     "output_type": "stream",
     "text": [
      "\r",
      " 68%|██████▊   | 967/1428 [07:09<03:05,  2.48it/s]"
     ]
    },
    {
     "name": "stdout",
     "output_type": "stream",
     "text": [
      "retrieving http://oracc.org/etcsri/Q004129/html\n",
      "saving http://oracc.org/etcsri/Q004129 as HTML/etcsri_Q004129.html\n"
     ]
    },
    {
     "name": "stderr",
     "output_type": "stream",
     "text": [
      "\r",
      " 68%|██████▊   | 968/1428 [07:09<02:57,  2.60it/s]"
     ]
    },
    {
     "name": "stdout",
     "output_type": "stream",
     "text": [
      "retrieving http://oracc.org/etcsri/Q004130/html\n",
      "saving http://oracc.org/etcsri/Q004130 as HTML/etcsri_Q004130.html\n"
     ]
    },
    {
     "name": "stderr",
     "output_type": "stream",
     "text": [
      "\r",
      " 68%|██████▊   | 969/1428 [07:09<03:04,  2.49it/s]"
     ]
    },
    {
     "name": "stdout",
     "output_type": "stream",
     "text": [
      "retrieving http://oracc.org/etcsri/Q004131/html\n",
      "saving http://oracc.org/etcsri/Q004131 as HTML/etcsri_Q004131.html\n"
     ]
    },
    {
     "name": "stderr",
     "output_type": "stream",
     "text": [
      "\r",
      " 68%|██████▊   | 970/1428 [07:10<02:59,  2.55it/s]"
     ]
    },
    {
     "name": "stdout",
     "output_type": "stream",
     "text": [
      "retrieving http://oracc.org/etcsri/Q004132/html\n",
      "saving http://oracc.org/etcsri/Q004132 as HTML/etcsri_Q004132.html\n"
     ]
    },
    {
     "name": "stderr",
     "output_type": "stream",
     "text": [
      "\r",
      " 68%|██████▊   | 971/1428 [07:10<02:54,  2.62it/s]"
     ]
    },
    {
     "name": "stdout",
     "output_type": "stream",
     "text": [
      "retrieving http://oracc.org/etcsri/Q004133/html\n",
      "saving http://oracc.org/etcsri/Q004133 as HTML/etcsri_Q004133.html\n"
     ]
    },
    {
     "name": "stderr",
     "output_type": "stream",
     "text": [
      "\r",
      " 68%|██████▊   | 972/1428 [07:11<02:52,  2.64it/s]"
     ]
    },
    {
     "name": "stdout",
     "output_type": "stream",
     "text": [
      "retrieving http://oracc.org/etcsri/Q004134/html\n",
      "saving http://oracc.org/etcsri/Q004134 as HTML/etcsri_Q004134.html\n"
     ]
    },
    {
     "name": "stderr",
     "output_type": "stream",
     "text": [
      "\r",
      " 68%|██████▊   | 973/1428 [07:11<02:46,  2.74it/s]"
     ]
    },
    {
     "name": "stdout",
     "output_type": "stream",
     "text": [
      "retrieving http://oracc.org/etcsri/Q004135/html\n",
      "saving http://oracc.org/etcsri/Q004135 as HTML/etcsri_Q004135.html\n"
     ]
    },
    {
     "name": "stderr",
     "output_type": "stream",
     "text": [
      "\r",
      " 68%|██████▊   | 974/1428 [07:11<02:51,  2.64it/s]"
     ]
    },
    {
     "name": "stdout",
     "output_type": "stream",
     "text": [
      "retrieving http://oracc.org/etcsri/Q004136/html\n",
      "saving http://oracc.org/etcsri/Q004136 as HTML/etcsri_Q004136.html\n"
     ]
    },
    {
     "name": "stderr",
     "output_type": "stream",
     "text": [
      "\r",
      " 68%|██████▊   | 975/1428 [07:12<02:54,  2.59it/s]"
     ]
    },
    {
     "name": "stdout",
     "output_type": "stream",
     "text": [
      "retrieving http://oracc.org/etcsri/Q004137/html\n",
      "saving http://oracc.org/etcsri/Q004137 as HTML/etcsri_Q004137.html\n"
     ]
    },
    {
     "name": "stderr",
     "output_type": "stream",
     "text": [
      "\r",
      " 68%|██████▊   | 976/1428 [07:12<02:52,  2.63it/s]"
     ]
    },
    {
     "name": "stdout",
     "output_type": "stream",
     "text": [
      "retrieving http://oracc.org/etcsri/Q004138/html\n",
      "saving http://oracc.org/etcsri/Q004138 as HTML/etcsri_Q004138.html\n"
     ]
    },
    {
     "name": "stderr",
     "output_type": "stream",
     "text": [
      "\r",
      " 68%|██████▊   | 977/1428 [07:13<02:58,  2.53it/s]"
     ]
    },
    {
     "name": "stdout",
     "output_type": "stream",
     "text": [
      "retrieving http://oracc.org/etcsri/Q004139/html\n",
      "saving http://oracc.org/etcsri/Q004139 as HTML/etcsri_Q004139.html\n"
     ]
    },
    {
     "name": "stderr",
     "output_type": "stream",
     "text": [
      "\r",
      " 68%|██████▊   | 978/1428 [07:13<03:11,  2.35it/s]"
     ]
    },
    {
     "name": "stdout",
     "output_type": "stream",
     "text": [
      "retrieving http://oracc.org/etcsri/Q004140/html\n",
      "saving http://oracc.org/etcsri/Q004140 as HTML/etcsri_Q004140.html\n"
     ]
    },
    {
     "name": "stderr",
     "output_type": "stream",
     "text": [
      "\r",
      " 69%|██████▊   | 979/1428 [07:14<03:50,  1.95it/s]"
     ]
    },
    {
     "name": "stdout",
     "output_type": "stream",
     "text": [
      "retrieving http://oracc.org/etcsri/Q004141/html\n",
      "saving http://oracc.org/etcsri/Q004141 as HTML/etcsri_Q004141.html\n"
     ]
    },
    {
     "name": "stderr",
     "output_type": "stream",
     "text": [
      "\r",
      " 69%|██████▊   | 980/1428 [07:14<04:08,  1.81it/s]"
     ]
    },
    {
     "name": "stdout",
     "output_type": "stream",
     "text": [
      "retrieving http://oracc.org/etcsri/Q004142/html\n",
      "saving http://oracc.org/etcsri/Q004142 as HTML/etcsri_Q004142.html\n"
     ]
    },
    {
     "name": "stderr",
     "output_type": "stream",
     "text": [
      "\r",
      " 69%|██████▊   | 981/1428 [07:15<05:01,  1.48it/s]"
     ]
    },
    {
     "name": "stdout",
     "output_type": "stream",
     "text": [
      "retrieving http://oracc.org/etcsri/Q004143/html\n",
      "saving http://oracc.org/etcsri/Q004143 as HTML/etcsri_Q004143.html\n"
     ]
    },
    {
     "name": "stderr",
     "output_type": "stream",
     "text": [
      "\r",
      " 69%|██████▉   | 982/1428 [07:16<05:15,  1.41it/s]"
     ]
    },
    {
     "name": "stdout",
     "output_type": "stream",
     "text": [
      "retrieving http://oracc.org/etcsri/Q004352/html\n",
      "saving http://oracc.org/etcsri/Q004352 as HTML/etcsri_Q004352.html\n"
     ]
    },
    {
     "name": "stderr",
     "output_type": "stream",
     "text": [
      "\r",
      " 69%|██████▉   | 983/1428 [07:17<05:45,  1.29it/s]"
     ]
    },
    {
     "name": "stdout",
     "output_type": "stream",
     "text": [
      "retrieving http://oracc.org/etcsri/Q004145/html\n",
      "saving http://oracc.org/etcsri/Q004145 as HTML/etcsri_Q004145.html\n"
     ]
    },
    {
     "name": "stderr",
     "output_type": "stream",
     "text": [
      "\r",
      " 69%|██████▉   | 984/1428 [07:18<06:01,  1.23it/s]"
     ]
    },
    {
     "name": "stdout",
     "output_type": "stream",
     "text": [
      "retrieving http://oracc.org/etcsri/Q004146/html\n",
      "saving http://oracc.org/etcsri/Q004146 as HTML/etcsri_Q004146.html\n"
     ]
    },
    {
     "name": "stderr",
     "output_type": "stream",
     "text": [
      "\r",
      " 69%|██████▉   | 985/1428 [07:19<06:41,  1.10it/s]"
     ]
    },
    {
     "name": "stdout",
     "output_type": "stream",
     "text": [
      "retrieving http://oracc.org/etcsri/Q004147/html\n",
      "saving http://oracc.org/etcsri/Q004147 as HTML/etcsri_Q004147.html\n"
     ]
    },
    {
     "name": "stderr",
     "output_type": "stream",
     "text": [
      "\r",
      " 69%|██████▉   | 986/1428 [07:20<06:58,  1.06it/s]"
     ]
    },
    {
     "name": "stdout",
     "output_type": "stream",
     "text": [
      "retrieving http://oracc.org/etcsri/Q004148/html\n",
      "saving http://oracc.org/etcsri/Q004148 as HTML/etcsri_Q004148.html\n"
     ]
    },
    {
     "name": "stderr",
     "output_type": "stream",
     "text": [
      "\r",
      " 69%|██████▉   | 987/1428 [07:21<07:18,  1.00it/s]"
     ]
    },
    {
     "name": "stdout",
     "output_type": "stream",
     "text": [
      "retrieving http://oracc.org/etcsri/Q004149/html\n",
      "saving http://oracc.org/etcsri/Q004149 as HTML/etcsri_Q004149.html\n"
     ]
    },
    {
     "name": "stderr",
     "output_type": "stream",
     "text": [
      "\r",
      " 69%|██████▉   | 988/1428 [07:22<07:33,  1.03s/it]"
     ]
    },
    {
     "name": "stdout",
     "output_type": "stream",
     "text": [
      "retrieving http://oracc.org/etcsri/Q004150/html\n",
      "saving http://oracc.org/etcsri/Q004150 as HTML/etcsri_Q004150.html\n"
     ]
    },
    {
     "name": "stderr",
     "output_type": "stream",
     "text": [
      "\r",
      " 69%|██████▉   | 989/1428 [07:24<08:20,  1.14s/it]"
     ]
    },
    {
     "name": "stdout",
     "output_type": "stream",
     "text": [
      "retrieving http://oracc.org/etcsri/Q004151/html\n",
      "saving http://oracc.org/etcsri/Q004151 as HTML/etcsri_Q004151.html\n"
     ]
    },
    {
     "name": "stderr",
     "output_type": "stream",
     "text": [
      "\r",
      " 69%|██████▉   | 990/1428 [07:25<08:26,  1.16s/it]"
     ]
    },
    {
     "name": "stdout",
     "output_type": "stream",
     "text": [
      "retrieving http://oracc.org/etcsri/Q004152/html\n",
      "saving http://oracc.org/etcsri/Q004152 as HTML/etcsri_Q004152.html\n"
     ]
    },
    {
     "name": "stderr",
     "output_type": "stream",
     "text": [
      "\r",
      " 69%|██████▉   | 991/1428 [07:26<08:23,  1.15s/it]"
     ]
    },
    {
     "name": "stdout",
     "output_type": "stream",
     "text": [
      "retrieving http://oracc.org/etcsri/Q004153/html\n",
      "saving http://oracc.org/etcsri/Q004153 as HTML/etcsri_Q004153.html\n"
     ]
    },
    {
     "name": "stderr",
     "output_type": "stream",
     "text": [
      "\r",
      " 69%|██████▉   | 992/1428 [07:27<07:51,  1.08s/it]"
     ]
    },
    {
     "name": "stdout",
     "output_type": "stream",
     "text": [
      "retrieving http://oracc.org/etcsri/Q004353/html\n",
      "saving http://oracc.org/etcsri/Q004353 as HTML/etcsri_Q004353.html\n"
     ]
    },
    {
     "name": "stderr",
     "output_type": "stream",
     "text": [
      "\r",
      " 70%|██████▉   | 993/1428 [07:28<07:25,  1.02s/it]"
     ]
    },
    {
     "name": "stdout",
     "output_type": "stream",
     "text": [
      "retrieving http://oracc.org/etcsri/Q004155/html\n",
      "saving http://oracc.org/etcsri/Q004155 as HTML/etcsri_Q004155.html\n"
     ]
    },
    {
     "name": "stderr",
     "output_type": "stream",
     "text": [
      "\r",
      " 70%|██████▉   | 994/1428 [07:29<07:47,  1.08s/it]"
     ]
    },
    {
     "name": "stdout",
     "output_type": "stream",
     "text": [
      "retrieving http://oracc.org/etcsri/Q004156/html\n",
      "saving http://oracc.org/etcsri/Q004156 as HTML/etcsri_Q004156.html\n"
     ]
    },
    {
     "name": "stderr",
     "output_type": "stream",
     "text": [
      "\r",
      " 70%|██████▉   | 995/1428 [07:30<07:31,  1.04s/it]"
     ]
    },
    {
     "name": "stdout",
     "output_type": "stream",
     "text": [
      "retrieving http://oracc.org/etcsri/Q004157/html\n",
      "saving http://oracc.org/etcsri/Q004157 as HTML/etcsri_Q004157.html\n"
     ]
    },
    {
     "name": "stderr",
     "output_type": "stream",
     "text": [
      "\r",
      " 70%|██████▉   | 996/1428 [07:31<07:20,  1.02s/it]"
     ]
    },
    {
     "name": "stdout",
     "output_type": "stream",
     "text": [
      "retrieving http://oracc.org/etcsri/Q004158/html\n",
      "saving http://oracc.org/etcsri/Q004158 as HTML/etcsri_Q004158.html\n"
     ]
    },
    {
     "name": "stderr",
     "output_type": "stream",
     "text": [
      "\r",
      " 70%|██████▉   | 997/1428 [07:32<07:01,  1.02it/s]"
     ]
    },
    {
     "name": "stdout",
     "output_type": "stream",
     "text": [
      "retrieving http://oracc.org/etcsri/Q004159/html\n",
      "saving http://oracc.org/etcsri/Q004159 as HTML/etcsri_Q004159.html\n"
     ]
    },
    {
     "name": "stderr",
     "output_type": "stream",
     "text": [
      "\r",
      " 70%|██████▉   | 998/1428 [07:33<06:53,  1.04it/s]"
     ]
    },
    {
     "name": "stdout",
     "output_type": "stream",
     "text": [
      "retrieving http://oracc.org/etcsri/Q004160/html\n",
      "saving http://oracc.org/etcsri/Q004160 as HTML/etcsri_Q004160.html\n"
     ]
    },
    {
     "name": "stderr",
     "output_type": "stream",
     "text": [
      "\r",
      " 70%|██████▉   | 999/1428 [07:34<06:25,  1.11it/s]"
     ]
    },
    {
     "name": "stdout",
     "output_type": "stream",
     "text": [
      "retrieving http://oracc.org/etcsri/Q004354/html\n",
      "saving http://oracc.org/etcsri/Q004354 as HTML/etcsri_Q004354.html\n"
     ]
    },
    {
     "name": "stderr",
     "output_type": "stream",
     "text": [
      "\r",
      " 70%|███████   | 1000/1428 [07:34<06:02,  1.18it/s]"
     ]
    },
    {
     "name": "stdout",
     "output_type": "stream",
     "text": [
      "retrieving http://oracc.org/etcsri/Q004162/html\n",
      "saving http://oracc.org/etcsri/Q004162 as HTML/etcsri_Q004162.html\n"
     ]
    },
    {
     "name": "stderr",
     "output_type": "stream",
     "text": [
      "\r",
      " 70%|███████   | 1001/1428 [07:35<05:30,  1.29it/s]"
     ]
    },
    {
     "name": "stdout",
     "output_type": "stream",
     "text": [
      "retrieving http://oracc.org/etcsri/Q004163/html\n",
      "saving http://oracc.org/etcsri/Q004163 as HTML/etcsri_Q004163.html\n"
     ]
    },
    {
     "name": "stderr",
     "output_type": "stream",
     "text": [
      "\r",
      " 70%|███████   | 1002/1428 [07:36<05:20,  1.33it/s]"
     ]
    },
    {
     "name": "stdout",
     "output_type": "stream",
     "text": [
      "retrieving http://oracc.org/etcsri/Q004899/html\n",
      "saving http://oracc.org/etcsri/Q004899 as HTML/etcsri_Q004899.html\n"
     ]
    },
    {
     "name": "stderr",
     "output_type": "stream",
     "text": [
      "\r",
      " 70%|███████   | 1003/1428 [07:36<05:32,  1.28it/s]"
     ]
    },
    {
     "name": "stdout",
     "output_type": "stream",
     "text": [
      "retrieving http://oracc.org/etcsri/Q000992/html\n",
      "saving http://oracc.org/etcsri/Q000992 as HTML/etcsri_Q000992.html\n"
     ]
    },
    {
     "name": "stderr",
     "output_type": "stream",
     "text": [
      "\r",
      " 70%|███████   | 1004/1428 [07:37<05:16,  1.34it/s]"
     ]
    },
    {
     "name": "stdout",
     "output_type": "stream",
     "text": [
      "retrieving http://oracc.org/etcsri/Q001813/html\n",
      "saving http://oracc.org/etcsri/Q001813 as HTML/etcsri_Q001813.html\n"
     ]
    },
    {
     "name": "stderr",
     "output_type": "stream",
     "text": [
      "\r",
      " 70%|███████   | 1005/1428 [07:38<04:55,  1.43it/s]"
     ]
    },
    {
     "name": "stdout",
     "output_type": "stream",
     "text": [
      "retrieving http://oracc.org/etcsri/Q000994/html\n",
      "saving http://oracc.org/etcsri/Q000994 as HTML/etcsri_Q000994.html\n"
     ]
    },
    {
     "name": "stderr",
     "output_type": "stream",
     "text": [
      "\r",
      " 70%|███████   | 1006/1428 [07:38<05:06,  1.38it/s]"
     ]
    },
    {
     "name": "stdout",
     "output_type": "stream",
     "text": [
      "retrieving http://oracc.org/etcsri/Q001814/html\n",
      "saving http://oracc.org/etcsri/Q001814 as HTML/etcsri_Q001814.html\n"
     ]
    },
    {
     "name": "stderr",
     "output_type": "stream",
     "text": [
      "\r",
      " 71%|███████   | 1007/1428 [07:39<04:19,  1.62it/s]"
     ]
    },
    {
     "name": "stdout",
     "output_type": "stream",
     "text": [
      "retrieving http://oracc.org/etcsri/Q001816/html\n",
      "saving http://oracc.org/etcsri/Q001816 as HTML/etcsri_Q001816.html\n"
     ]
    },
    {
     "name": "stderr",
     "output_type": "stream",
     "text": [
      "\r",
      " 71%|███████   | 1008/1428 [07:39<03:57,  1.77it/s]"
     ]
    },
    {
     "name": "stdout",
     "output_type": "stream",
     "text": [
      "retrieving http://oracc.org/etcsri/Q000996/html\n",
      "saving http://oracc.org/etcsri/Q000996 as HTML/etcsri_Q000996.html\n"
     ]
    },
    {
     "name": "stderr",
     "output_type": "stream",
     "text": [
      "\r",
      " 71%|███████   | 1009/1428 [07:40<03:51,  1.81it/s]"
     ]
    },
    {
     "name": "stdout",
     "output_type": "stream",
     "text": [
      "retrieving http://oracc.org/etcsri/Q000997/html\n",
      "saving http://oracc.org/etcsri/Q000997 as HTML/etcsri_Q000997.html\n"
     ]
    },
    {
     "name": "stderr",
     "output_type": "stream",
     "text": [
      "\r",
      " 71%|███████   | 1010/1428 [07:40<03:50,  1.81it/s]"
     ]
    },
    {
     "name": "stdout",
     "output_type": "stream",
     "text": [
      "retrieving http://oracc.org/etcsri/Q001817/html\n",
      "saving http://oracc.org/etcsri/Q001817 as HTML/etcsri_Q001817.html\n"
     ]
    },
    {
     "name": "stderr",
     "output_type": "stream",
     "text": [
      "\r",
      " 71%|███████   | 1011/1428 [07:41<03:26,  2.02it/s]"
     ]
    },
    {
     "name": "stdout",
     "output_type": "stream",
     "text": [
      "retrieving http://oracc.org/etcsri/Q000998/html\n",
      "saving http://oracc.org/etcsri/Q000998 as HTML/etcsri_Q000998.html\n"
     ]
    },
    {
     "name": "stderr",
     "output_type": "stream",
     "text": [
      "\r",
      " 71%|███████   | 1012/1428 [07:41<03:22,  2.06it/s]"
     ]
    },
    {
     "name": "stdout",
     "output_type": "stream",
     "text": [
      "retrieving http://oracc.org/etcsri/Q000999/html\n",
      "saving http://oracc.org/etcsri/Q000999 as HTML/etcsri_Q000999.html\n"
     ]
    },
    {
     "name": "stderr",
     "output_type": "stream",
     "text": [
      "\r",
      " 71%|███████   | 1013/1428 [07:42<03:03,  2.26it/s]"
     ]
    },
    {
     "name": "stdout",
     "output_type": "stream",
     "text": [
      "retrieving http://oracc.org/etcsri/Q001000/html\n",
      "saving http://oracc.org/etcsri/Q001000 as HTML/etcsri_Q001000.html\n"
     ]
    },
    {
     "name": "stderr",
     "output_type": "stream",
     "text": [
      "\r",
      " 71%|███████   | 1014/1428 [07:42<03:15,  2.12it/s]"
     ]
    },
    {
     "name": "stdout",
     "output_type": "stream",
     "text": [
      "retrieving http://oracc.org/etcsri/Q001818/html\n",
      "saving http://oracc.org/etcsri/Q001818 as HTML/etcsri_Q001818.html\n"
     ]
    },
    {
     "name": "stderr",
     "output_type": "stream",
     "text": [
      "\r",
      " 71%|███████   | 1015/1428 [07:43<03:16,  2.10it/s]"
     ]
    },
    {
     "name": "stdout",
     "output_type": "stream",
     "text": [
      "retrieving http://oracc.org/etcsri/Q001001/html\n",
      "saving http://oracc.org/etcsri/Q001001 as HTML/etcsri_Q001001.html\n"
     ]
    },
    {
     "name": "stderr",
     "output_type": "stream",
     "text": [
      "\r",
      " 71%|███████   | 1016/1428 [07:43<03:08,  2.19it/s]"
     ]
    },
    {
     "name": "stdout",
     "output_type": "stream",
     "text": [
      "retrieving http://oracc.org/etcsri/Q001002/html\n",
      "saving http://oracc.org/etcsri/Q001002 as HTML/etcsri_Q001002.html\n"
     ]
    },
    {
     "name": "stderr",
     "output_type": "stream",
     "text": [
      "\r",
      " 71%|███████   | 1017/1428 [07:43<02:54,  2.35it/s]"
     ]
    },
    {
     "name": "stdout",
     "output_type": "stream",
     "text": [
      "retrieving http://oracc.org/etcsri/Q001003/html\n",
      "saving http://oracc.org/etcsri/Q001003 as HTML/etcsri_Q001003.html\n"
     ]
    },
    {
     "name": "stderr",
     "output_type": "stream",
     "text": [
      "\r",
      " 71%|███████▏  | 1018/1428 [07:44<03:05,  2.21it/s]"
     ]
    },
    {
     "name": "stdout",
     "output_type": "stream",
     "text": [
      "retrieving http://oracc.org/etcsri/Q001819/html\n",
      "saving http://oracc.org/etcsri/Q001819 as HTML/etcsri_Q001819.html\n"
     ]
    },
    {
     "name": "stderr",
     "output_type": "stream",
     "text": [
      "\r",
      " 71%|███████▏  | 1019/1428 [07:44<02:58,  2.29it/s]"
     ]
    },
    {
     "name": "stdout",
     "output_type": "stream",
     "text": [
      "retrieving http://oracc.org/etcsri/Q001820/html\n",
      "saving http://oracc.org/etcsri/Q001820 as HTML/etcsri_Q001820.html\n"
     ]
    },
    {
     "name": "stderr",
     "output_type": "stream",
     "text": [
      "\r",
      " 71%|███████▏  | 1020/1428 [07:45<02:51,  2.38it/s]"
     ]
    },
    {
     "name": "stdout",
     "output_type": "stream",
     "text": [
      "retrieving http://oracc.org/etcsri/Q001821/html\n",
      "saving http://oracc.org/etcsri/Q001821 as HTML/etcsri_Q001821.html\n"
     ]
    },
    {
     "name": "stderr",
     "output_type": "stream",
     "text": [
      "\r",
      " 71%|███████▏  | 1021/1428 [07:45<02:47,  2.43it/s]"
     ]
    },
    {
     "name": "stdout",
     "output_type": "stream",
     "text": [
      "retrieving http://oracc.org/etcsri/Q001822/html\n",
      "saving http://oracc.org/etcsri/Q001822 as HTML/etcsri_Q001822.html\n"
     ]
    },
    {
     "name": "stderr",
     "output_type": "stream",
     "text": [
      "\r",
      " 72%|███████▏  | 1022/1428 [07:45<02:39,  2.54it/s]"
     ]
    },
    {
     "name": "stdout",
     "output_type": "stream",
     "text": [
      "retrieving http://oracc.org/etcsri/Q001823/html\n",
      "saving http://oracc.org/etcsri/Q001823 as HTML/etcsri_Q001823.html\n"
     ]
    },
    {
     "name": "stderr",
     "output_type": "stream",
     "text": [
      "\r",
      " 72%|███████▏  | 1023/1428 [07:46<02:33,  2.65it/s]"
     ]
    },
    {
     "name": "stdout",
     "output_type": "stream",
     "text": [
      "retrieving http://oracc.org/etcsri/Q001824/html\n",
      "saving http://oracc.org/etcsri/Q001824 as HTML/etcsri_Q001824.html\n"
     ]
    },
    {
     "name": "stderr",
     "output_type": "stream",
     "text": [
      "\r",
      " 72%|███████▏  | 1024/1428 [07:46<02:36,  2.59it/s]"
     ]
    },
    {
     "name": "stdout",
     "output_type": "stream",
     "text": [
      "retrieving http://oracc.org/etcsri/Q001825/html\n",
      "saving http://oracc.org/etcsri/Q001825 as HTML/etcsri_Q001825.html\n"
     ]
    },
    {
     "name": "stderr",
     "output_type": "stream",
     "text": [
      "\r",
      " 72%|███████▏  | 1025/1428 [07:46<02:27,  2.73it/s]"
     ]
    },
    {
     "name": "stdout",
     "output_type": "stream",
     "text": [
      "retrieving http://oracc.org/etcsri/Q001826/html\n",
      "saving http://oracc.org/etcsri/Q001826 as HTML/etcsri_Q001826.html\n"
     ]
    },
    {
     "name": "stderr",
     "output_type": "stream",
     "text": [
      "\r",
      " 72%|███████▏  | 1026/1428 [07:47<02:25,  2.77it/s]"
     ]
    },
    {
     "name": "stdout",
     "output_type": "stream",
     "text": [
      "retrieving http://oracc.org/etcsri/Q001827/html\n",
      "saving http://oracc.org/etcsri/Q001827 as HTML/etcsri_Q001827.html\n"
     ]
    },
    {
     "name": "stderr",
     "output_type": "stream",
     "text": [
      "\r",
      " 72%|███████▏  | 1027/1428 [07:47<02:36,  2.57it/s]"
     ]
    },
    {
     "name": "stdout",
     "output_type": "stream",
     "text": [
      "retrieving http://oracc.org/etcsri/Q001828/html\n",
      "saving http://oracc.org/etcsri/Q001828 as HTML/etcsri_Q001828.html\n"
     ]
    },
    {
     "name": "stderr",
     "output_type": "stream",
     "text": [
      "\r",
      " 72%|███████▏  | 1028/1428 [07:48<02:35,  2.57it/s]"
     ]
    },
    {
     "name": "stdout",
     "output_type": "stream",
     "text": [
      "retrieving http://oracc.org/etcsri/Q001829/html\n",
      "saving http://oracc.org/etcsri/Q001829 as HTML/etcsri_Q001829.html\n"
     ]
    },
    {
     "name": "stderr",
     "output_type": "stream",
     "text": [
      "\r",
      " 72%|███████▏  | 1029/1428 [07:48<02:41,  2.47it/s]"
     ]
    },
    {
     "name": "stdout",
     "output_type": "stream",
     "text": [
      "retrieving http://oracc.org/etcsri/Q001830/html\n",
      "saving http://oracc.org/etcsri/Q001830 as HTML/etcsri_Q001830.html\n"
     ]
    },
    {
     "name": "stderr",
     "output_type": "stream",
     "text": [
      "\r",
      " 72%|███████▏  | 1030/1428 [07:49<03:02,  2.18it/s]"
     ]
    },
    {
     "name": "stdout",
     "output_type": "stream",
     "text": [
      "retrieving http://oracc.org/etcsri/Q001831/html\n",
      "saving http://oracc.org/etcsri/Q001831 as HTML/etcsri_Q001831.html\n"
     ]
    },
    {
     "name": "stderr",
     "output_type": "stream",
     "text": [
      "\r",
      " 72%|███████▏  | 1031/1428 [07:49<02:56,  2.25it/s]"
     ]
    },
    {
     "name": "stdout",
     "output_type": "stream",
     "text": [
      "retrieving http://oracc.org/etcsri/Q001832/html\n",
      "saving http://oracc.org/etcsri/Q001832 as HTML/etcsri_Q001832.html\n"
     ]
    },
    {
     "name": "stderr",
     "output_type": "stream",
     "text": [
      "\r",
      " 72%|███████▏  | 1032/1428 [07:49<02:43,  2.42it/s]"
     ]
    },
    {
     "name": "stdout",
     "output_type": "stream",
     "text": [
      "retrieving http://oracc.org/etcsri/Q001833/html\n",
      "saving http://oracc.org/etcsri/Q001833 as HTML/etcsri_Q001833.html\n"
     ]
    },
    {
     "name": "stderr",
     "output_type": "stream",
     "text": [
      "\r",
      " 72%|███████▏  | 1033/1428 [07:50<02:33,  2.58it/s]"
     ]
    },
    {
     "name": "stdout",
     "output_type": "stream",
     "text": [
      "retrieving http://oracc.org/etcsri/Q001834/html\n",
      "saving http://oracc.org/etcsri/Q001834 as HTML/etcsri_Q001834.html\n"
     ]
    },
    {
     "name": "stderr",
     "output_type": "stream",
     "text": [
      "\r",
      " 72%|███████▏  | 1034/1428 [07:50<02:31,  2.60it/s]"
     ]
    },
    {
     "name": "stdout",
     "output_type": "stream",
     "text": [
      "retrieving http://oracc.org/etcsri/Q001835/html\n",
      "saving http://oracc.org/etcsri/Q001835 as HTML/etcsri_Q001835.html\n"
     ]
    },
    {
     "name": "stderr",
     "output_type": "stream",
     "text": [
      "\r",
      " 72%|███████▏  | 1035/1428 [07:50<02:26,  2.68it/s]"
     ]
    },
    {
     "name": "stdout",
     "output_type": "stream",
     "text": [
      "retrieving http://oracc.org/etcsri/Q001836/html\n",
      "saving http://oracc.org/etcsri/Q001836 as HTML/etcsri_Q001836.html\n"
     ]
    },
    {
     "name": "stderr",
     "output_type": "stream",
     "text": [
      "\r",
      " 73%|███████▎  | 1036/1428 [07:51<02:36,  2.50it/s]"
     ]
    },
    {
     "name": "stdout",
     "output_type": "stream",
     "text": [
      "retrieving http://oracc.org/etcsri/Q001837/html\n",
      "saving http://oracc.org/etcsri/Q001837 as HTML/etcsri_Q001837.html\n"
     ]
    },
    {
     "name": "stderr",
     "output_type": "stream",
     "text": [
      "\r",
      " 73%|███████▎  | 1037/1428 [07:51<02:27,  2.65it/s]"
     ]
    },
    {
     "name": "stdout",
     "output_type": "stream",
     "text": [
      "retrieving http://oracc.org/etcsri/Q001838/html\n",
      "saving http://oracc.org/etcsri/Q001838 as HTML/etcsri_Q001838.html\n"
     ]
    },
    {
     "name": "stderr",
     "output_type": "stream",
     "text": [
      "\r",
      " 73%|███████▎  | 1038/1428 [07:52<02:22,  2.73it/s]"
     ]
    },
    {
     "name": "stdout",
     "output_type": "stream",
     "text": [
      "retrieving http://oracc.org/etcsri/Q001839/html\n",
      "saving http://oracc.org/etcsri/Q001839 as HTML/etcsri_Q001839.html\n"
     ]
    },
    {
     "name": "stderr",
     "output_type": "stream",
     "text": [
      "\r",
      " 73%|███████▎  | 1039/1428 [07:52<02:22,  2.72it/s]"
     ]
    },
    {
     "name": "stdout",
     "output_type": "stream",
     "text": [
      "retrieving http://oracc.org/etcsri/Q001840/html\n",
      "saving http://oracc.org/etcsri/Q001840 as HTML/etcsri_Q001840.html\n"
     ]
    },
    {
     "name": "stderr",
     "output_type": "stream",
     "text": [
      "\r",
      " 73%|███████▎  | 1040/1428 [07:52<02:25,  2.67it/s]"
     ]
    },
    {
     "name": "stdout",
     "output_type": "stream",
     "text": [
      "retrieving http://oracc.org/etcsri/Q001841/html\n",
      "saving http://oracc.org/etcsri/Q001841 as HTML/etcsri_Q001841.html\n"
     ]
    },
    {
     "name": "stderr",
     "output_type": "stream",
     "text": [
      "\r",
      " 73%|███████▎  | 1041/1428 [07:53<02:50,  2.28it/s]"
     ]
    },
    {
     "name": "stdout",
     "output_type": "stream",
     "text": [
      "retrieving http://oracc.org/etcsri/Q001842/html\n",
      "saving http://oracc.org/etcsri/Q001842 as HTML/etcsri_Q001842.html\n"
     ]
    },
    {
     "name": "stderr",
     "output_type": "stream",
     "text": [
      "\r",
      " 73%|███████▎  | 1042/1428 [07:53<02:51,  2.26it/s]"
     ]
    },
    {
     "name": "stdout",
     "output_type": "stream",
     "text": [
      "retrieving http://oracc.org/etcsri/Q001843/html\n",
      "saving http://oracc.org/etcsri/Q001843 as HTML/etcsri_Q001843.html\n"
     ]
    },
    {
     "name": "stderr",
     "output_type": "stream",
     "text": [
      "\r",
      " 73%|███████▎  | 1043/1428 [07:54<02:39,  2.41it/s]"
     ]
    },
    {
     "name": "stdout",
     "output_type": "stream",
     "text": [
      "retrieving http://oracc.org/etcsri/Q001844/html\n",
      "saving http://oracc.org/etcsri/Q001844 as HTML/etcsri_Q001844.html\n"
     ]
    },
    {
     "name": "stderr",
     "output_type": "stream",
     "text": [
      "\r",
      " 73%|███████▎  | 1044/1428 [07:54<02:45,  2.32it/s]"
     ]
    },
    {
     "name": "stdout",
     "output_type": "stream",
     "text": [
      "retrieving http://oracc.org/etcsri/Q001845/html\n",
      "saving http://oracc.org/etcsri/Q001845 as HTML/etcsri_Q001845.html\n"
     ]
    },
    {
     "name": "stderr",
     "output_type": "stream",
     "text": [
      "\r",
      " 73%|███████▎  | 1045/1428 [07:55<02:34,  2.48it/s]"
     ]
    },
    {
     "name": "stdout",
     "output_type": "stream",
     "text": [
      "retrieving http://oracc.org/etcsri/Q001846/html\n",
      "saving http://oracc.org/etcsri/Q001846 as HTML/etcsri_Q001846.html\n"
     ]
    },
    {
     "name": "stderr",
     "output_type": "stream",
     "text": [
      "\r",
      " 73%|███████▎  | 1046/1428 [07:55<02:26,  2.60it/s]"
     ]
    },
    {
     "name": "stdout",
     "output_type": "stream",
     "text": [
      "retrieving http://oracc.org/etcsri/Q001847/html\n",
      "saving http://oracc.org/etcsri/Q001847 as HTML/etcsri_Q001847.html\n"
     ]
    },
    {
     "name": "stderr",
     "output_type": "stream",
     "text": [
      "\r",
      " 73%|███████▎  | 1047/1428 [07:55<02:23,  2.66it/s]"
     ]
    },
    {
     "name": "stdout",
     "output_type": "stream",
     "text": [
      "retrieving http://oracc.org/etcsri/Q004355/html\n",
      "saving http://oracc.org/etcsri/Q004355 as HTML/etcsri_Q004355.html\n"
     ]
    },
    {
     "name": "stderr",
     "output_type": "stream",
     "text": [
      "\r",
      " 73%|███████▎  | 1048/1428 [07:56<02:19,  2.73it/s]"
     ]
    },
    {
     "name": "stdout",
     "output_type": "stream",
     "text": [
      "retrieving http://oracc.org/etcsri/Q004356/html\n",
      "saving http://oracc.org/etcsri/Q004356 as HTML/etcsri_Q004356.html\n"
     ]
    },
    {
     "name": "stderr",
     "output_type": "stream",
     "text": [
      "\r",
      " 73%|███████▎  | 1049/1428 [07:56<02:49,  2.24it/s]"
     ]
    },
    {
     "name": "stdout",
     "output_type": "stream",
     "text": [
      "retrieving http://oracc.org/etcsri/Q004357/html\n",
      "saving http://oracc.org/etcsri/Q004357 as HTML/etcsri_Q004357.html\n"
     ]
    },
    {
     "name": "stderr",
     "output_type": "stream",
     "text": [
      "\r",
      " 74%|███████▎  | 1050/1428 [07:57<02:37,  2.40it/s]"
     ]
    },
    {
     "name": "stdout",
     "output_type": "stream",
     "text": [
      "retrieving http://oracc.org/etcsri/Q004358/html\n",
      "saving http://oracc.org/etcsri/Q004358 as HTML/etcsri_Q004358.html\n"
     ]
    },
    {
     "name": "stderr",
     "output_type": "stream",
     "text": [
      "\r",
      " 74%|███████▎  | 1051/1428 [07:57<02:32,  2.48it/s]"
     ]
    },
    {
     "name": "stdout",
     "output_type": "stream",
     "text": [
      "retrieving http://oracc.org/etcsri/Q004359/html\n",
      "saving http://oracc.org/etcsri/Q004359 as HTML/etcsri_Q004359.html\n"
     ]
    },
    {
     "name": "stderr",
     "output_type": "stream",
     "text": [
      "\r",
      " 74%|███████▎  | 1052/1428 [07:57<02:39,  2.35it/s]"
     ]
    },
    {
     "name": "stdout",
     "output_type": "stream",
     "text": [
      "retrieving http://oracc.org/etcsri/Q004360/html\n",
      "saving http://oracc.org/etcsri/Q004360 as HTML/etcsri_Q004360.html\n"
     ]
    },
    {
     "name": "stderr",
     "output_type": "stream",
     "text": [
      "\r",
      " 74%|███████▎  | 1053/1428 [07:58<02:32,  2.46it/s]"
     ]
    },
    {
     "name": "stdout",
     "output_type": "stream",
     "text": [
      "retrieving http://oracc.org/etcsri/Q004361/html\n",
      "saving http://oracc.org/etcsri/Q004361 as HTML/etcsri_Q004361.html\n"
     ]
    },
    {
     "name": "stderr",
     "output_type": "stream",
     "text": [
      "\r",
      " 74%|███████▍  | 1054/1428 [07:58<02:27,  2.53it/s]"
     ]
    },
    {
     "name": "stdout",
     "output_type": "stream",
     "text": [
      "retrieving http://oracc.org/etcsri/Q004362/html\n",
      "saving http://oracc.org/etcsri/Q004362 as HTML/etcsri_Q004362.html\n"
     ]
    },
    {
     "name": "stderr",
     "output_type": "stream",
     "text": [
      "\r",
      " 74%|███████▍  | 1055/1428 [07:58<02:23,  2.59it/s]"
     ]
    },
    {
     "name": "stdout",
     "output_type": "stream",
     "text": [
      "retrieving http://oracc.org/etcsri/Q004363/html\n",
      "saving http://oracc.org/etcsri/Q004363 as HTML/etcsri_Q004363.html\n"
     ]
    },
    {
     "name": "stderr",
     "output_type": "stream",
     "text": [
      "\r",
      " 74%|███████▍  | 1056/1428 [07:59<02:29,  2.49it/s]"
     ]
    },
    {
     "name": "stdout",
     "output_type": "stream",
     "text": [
      "retrieving http://oracc.org/etcsri/Q004364/html\n",
      "saving http://oracc.org/etcsri/Q004364 as HTML/etcsri_Q004364.html\n"
     ]
    },
    {
     "name": "stderr",
     "output_type": "stream",
     "text": [
      "\r",
      " 74%|███████▍  | 1057/1428 [07:59<02:20,  2.64it/s]"
     ]
    },
    {
     "name": "stdout",
     "output_type": "stream",
     "text": [
      "retrieving http://oracc.org/etcsri/Q004365/html\n",
      "saving http://oracc.org/etcsri/Q004365 as HTML/etcsri_Q004365.html\n"
     ]
    },
    {
     "name": "stderr",
     "output_type": "stream",
     "text": [
      "\r",
      " 74%|███████▍  | 1058/1428 [08:00<02:23,  2.57it/s]"
     ]
    },
    {
     "name": "stdout",
     "output_type": "stream",
     "text": [
      "retrieving http://oracc.org/etcsri/Q004366/html\n",
      "saving http://oracc.org/etcsri/Q004366 as HTML/etcsri_Q004366.html\n"
     ]
    },
    {
     "name": "stderr",
     "output_type": "stream",
     "text": [
      "\r",
      " 74%|███████▍  | 1059/1428 [08:00<02:17,  2.68it/s]"
     ]
    },
    {
     "name": "stdout",
     "output_type": "stream",
     "text": [
      "retrieving http://oracc.org/etcsri/Q004367/html\n",
      "saving http://oracc.org/etcsri/Q004367 as HTML/etcsri_Q004367.html\n"
     ]
    },
    {
     "name": "stderr",
     "output_type": "stream",
     "text": [
      "\r",
      " 74%|███████▍  | 1060/1428 [08:00<02:13,  2.75it/s]"
     ]
    },
    {
     "name": "stdout",
     "output_type": "stream",
     "text": [
      "retrieving http://oracc.org/etcsri/Q004368/html\n",
      "saving http://oracc.org/etcsri/Q004368 as HTML/etcsri_Q004368.html\n"
     ]
    },
    {
     "name": "stderr",
     "output_type": "stream",
     "text": [
      "\r",
      " 74%|███████▍  | 1061/1428 [08:01<02:24,  2.53it/s]"
     ]
    },
    {
     "name": "stdout",
     "output_type": "stream",
     "text": [
      "retrieving http://oracc.org/etcsri/Q004369/html\n",
      "saving http://oracc.org/etcsri/Q004369 as HTML/etcsri_Q004369.html\n"
     ]
    },
    {
     "name": "stderr",
     "output_type": "stream",
     "text": [
      "\r",
      " 74%|███████▍  | 1062/1428 [08:01<02:24,  2.54it/s]"
     ]
    },
    {
     "name": "stdout",
     "output_type": "stream",
     "text": [
      "retrieving http://oracc.org/etcsri/Q004370/html\n",
      "saving http://oracc.org/etcsri/Q004370 as HTML/etcsri_Q004370.html\n"
     ]
    },
    {
     "name": "stderr",
     "output_type": "stream",
     "text": [
      "\r",
      " 74%|███████▍  | 1063/1428 [08:02<02:35,  2.34it/s]"
     ]
    },
    {
     "name": "stdout",
     "output_type": "stream",
     "text": [
      "retrieving http://oracc.org/etcsri/Q004371/html\n",
      "saving http://oracc.org/etcsri/Q004371 as HTML/etcsri_Q004371.html\n"
     ]
    },
    {
     "name": "stderr",
     "output_type": "stream",
     "text": [
      "\r",
      " 75%|███████▍  | 1064/1428 [08:02<02:32,  2.39it/s]"
     ]
    },
    {
     "name": "stdout",
     "output_type": "stream",
     "text": [
      "retrieving http://oracc.org/etcsri/Q004372/html\n",
      "saving http://oracc.org/etcsri/Q004372 as HTML/etcsri_Q004372.html\n"
     ]
    },
    {
     "name": "stderr",
     "output_type": "stream",
     "text": [
      "\r",
      " 75%|███████▍  | 1065/1428 [08:03<02:33,  2.37it/s]"
     ]
    },
    {
     "name": "stdout",
     "output_type": "stream",
     "text": [
      "retrieving http://oracc.org/etcsri/Q004373/html\n",
      "saving http://oracc.org/etcsri/Q004373 as HTML/etcsri_Q004373.html\n"
     ]
    },
    {
     "name": "stderr",
     "output_type": "stream",
     "text": [
      "\r",
      " 75%|███████▍  | 1066/1428 [08:03<02:34,  2.35it/s]"
     ]
    },
    {
     "name": "stdout",
     "output_type": "stream",
     "text": [
      "retrieving http://oracc.org/etcsri/Q004374/html\n",
      "saving http://oracc.org/etcsri/Q004374 as HTML/etcsri_Q004374.html\n"
     ]
    },
    {
     "name": "stderr",
     "output_type": "stream",
     "text": [
      "\r",
      " 75%|███████▍  | 1067/1428 [08:03<02:23,  2.51it/s]"
     ]
    },
    {
     "name": "stdout",
     "output_type": "stream",
     "text": [
      "retrieving http://oracc.org/etcsri/Q004375/html\n",
      "saving http://oracc.org/etcsri/Q004375 as HTML/etcsri_Q004375.html\n"
     ]
    },
    {
     "name": "stderr",
     "output_type": "stream",
     "text": [
      "\r",
      " 75%|███████▍  | 1068/1428 [08:04<02:35,  2.31it/s]"
     ]
    },
    {
     "name": "stdout",
     "output_type": "stream",
     "text": [
      "retrieving http://oracc.org/etcsri/Q004376/html\n",
      "saving http://oracc.org/etcsri/Q004376 as HTML/etcsri_Q004376.html\n"
     ]
    },
    {
     "name": "stderr",
     "output_type": "stream",
     "text": [
      "\r",
      " 75%|███████▍  | 1069/1428 [08:04<02:24,  2.48it/s]"
     ]
    },
    {
     "name": "stdout",
     "output_type": "stream",
     "text": [
      "retrieving http://oracc.org/etcsri/Q004377/html\n",
      "saving http://oracc.org/etcsri/Q004377 as HTML/etcsri_Q004377.html\n"
     ]
    },
    {
     "name": "stderr",
     "output_type": "stream",
     "text": [
      "\r",
      " 75%|███████▍  | 1070/1428 [08:04<02:16,  2.62it/s]"
     ]
    },
    {
     "name": "stdout",
     "output_type": "stream",
     "text": [
      "retrieving http://oracc.org/etcsri/Q004378/html\n",
      "saving http://oracc.org/etcsri/Q004378 as HTML/etcsri_Q004378.html\n"
     ]
    },
    {
     "name": "stderr",
     "output_type": "stream",
     "text": [
      "\r",
      " 75%|███████▌  | 1071/1428 [08:05<02:11,  2.72it/s]"
     ]
    },
    {
     "name": "stdout",
     "output_type": "stream",
     "text": [
      "retrieving http://oracc.org/etcsri/Q004379/html\n",
      "saving http://oracc.org/etcsri/Q004379 as HTML/etcsri_Q004379.html\n"
     ]
    },
    {
     "name": "stderr",
     "output_type": "stream",
     "text": [
      "\r",
      " 75%|███████▌  | 1072/1428 [08:05<02:07,  2.80it/s]"
     ]
    },
    {
     "name": "stdout",
     "output_type": "stream",
     "text": [
      "retrieving http://oracc.org/etcsri/Q004380/html\n",
      "saving http://oracc.org/etcsri/Q004380 as HTML/etcsri_Q004380.html\n"
     ]
    },
    {
     "name": "stderr",
     "output_type": "stream",
     "text": [
      "\r",
      " 75%|███████▌  | 1073/1428 [08:06<02:06,  2.80it/s]"
     ]
    },
    {
     "name": "stdout",
     "output_type": "stream",
     "text": [
      "retrieving http://oracc.org/etcsri/Q004381/html\n",
      "saving http://oracc.org/etcsri/Q004381 as HTML/etcsri_Q004381.html\n"
     ]
    },
    {
     "name": "stderr",
     "output_type": "stream",
     "text": [
      "\r",
      " 75%|███████▌  | 1074/1428 [08:06<02:13,  2.66it/s]"
     ]
    },
    {
     "name": "stdout",
     "output_type": "stream",
     "text": [
      "retrieving http://oracc.org/etcsri/Q004382/html\n",
      "saving http://oracc.org/etcsri/Q004382 as HTML/etcsri_Q004382.html\n"
     ]
    },
    {
     "name": "stderr",
     "output_type": "stream",
     "text": [
      "\r",
      " 75%|███████▌  | 1075/1428 [08:06<02:26,  2.41it/s]"
     ]
    },
    {
     "name": "stdout",
     "output_type": "stream",
     "text": [
      "retrieving http://oracc.org/etcsri/Q004383/html\n",
      "saving http://oracc.org/etcsri/Q004383 as HTML/etcsri_Q004383.html\n"
     ]
    },
    {
     "name": "stderr",
     "output_type": "stream",
     "text": [
      "\r",
      " 75%|███████▌  | 1076/1428 [08:07<02:18,  2.54it/s]"
     ]
    },
    {
     "name": "stdout",
     "output_type": "stream",
     "text": [
      "retrieving http://oracc.org/etcsri/Q004384/html\n",
      "saving http://oracc.org/etcsri/Q004384 as HTML/etcsri_Q004384.html\n"
     ]
    },
    {
     "name": "stderr",
     "output_type": "stream",
     "text": [
      "\r",
      " 75%|███████▌  | 1077/1428 [08:07<02:12,  2.65it/s]"
     ]
    },
    {
     "name": "stdout",
     "output_type": "stream",
     "text": [
      "retrieving http://oracc.org/etcsri/Q004385/html\n",
      "saving http://oracc.org/etcsri/Q004385 as HTML/etcsri_Q004385.html\n"
     ]
    },
    {
     "name": "stderr",
     "output_type": "stream",
     "text": [
      "\r",
      " 75%|███████▌  | 1078/1428 [08:07<02:07,  2.74it/s]"
     ]
    },
    {
     "name": "stdout",
     "output_type": "stream",
     "text": [
      "retrieving http://oracc.org/etcsri/Q004386/html\n",
      "saving http://oracc.org/etcsri/Q004386 as HTML/etcsri_Q004386.html\n"
     ]
    },
    {
     "name": "stderr",
     "output_type": "stream",
     "text": [
      "\r",
      " 76%|███████▌  | 1079/1428 [08:08<02:19,  2.49it/s]"
     ]
    },
    {
     "name": "stdout",
     "output_type": "stream",
     "text": [
      "retrieving http://oracc.org/etcsri/Q004387/html\n",
      "saving http://oracc.org/etcsri/Q004387 as HTML/etcsri_Q004387.html\n"
     ]
    },
    {
     "name": "stderr",
     "output_type": "stream",
     "text": [
      "\r",
      " 76%|███████▌  | 1080/1428 [08:08<02:26,  2.38it/s]"
     ]
    },
    {
     "name": "stdout",
     "output_type": "stream",
     "text": [
      "retrieving http://oracc.org/etcsri/Q004388/html\n",
      "saving http://oracc.org/etcsri/Q004388 as HTML/etcsri_Q004388.html\n"
     ]
    },
    {
     "name": "stderr",
     "output_type": "stream",
     "text": [
      "\r",
      " 76%|███████▌  | 1081/1428 [08:09<02:33,  2.26it/s]"
     ]
    },
    {
     "name": "stdout",
     "output_type": "stream",
     "text": [
      "retrieving http://oracc.org/etcsri/Q004389/html\n",
      "saving http://oracc.org/etcsri/Q004389 as HTML/etcsri_Q004389.html\n"
     ]
    },
    {
     "name": "stderr",
     "output_type": "stream",
     "text": [
      "\r",
      " 76%|███████▌  | 1082/1428 [08:09<02:32,  2.26it/s]"
     ]
    },
    {
     "name": "stdout",
     "output_type": "stream",
     "text": [
      "retrieving http://oracc.org/etcsri/Q004390/html\n",
      "saving http://oracc.org/etcsri/Q004390 as HTML/etcsri_Q004390.html\n"
     ]
    },
    {
     "name": "stderr",
     "output_type": "stream",
     "text": [
      "\r",
      " 76%|███████▌  | 1083/1428 [08:10<02:22,  2.43it/s]"
     ]
    },
    {
     "name": "stdout",
     "output_type": "stream",
     "text": [
      "retrieving http://oracc.org/etcsri/Q004391/html\n",
      "saving http://oracc.org/etcsri/Q004391 as HTML/etcsri_Q004391.html\n"
     ]
    },
    {
     "name": "stderr",
     "output_type": "stream",
     "text": [
      "\r",
      " 76%|███████▌  | 1084/1428 [08:10<02:18,  2.49it/s]"
     ]
    },
    {
     "name": "stdout",
     "output_type": "stream",
     "text": [
      "retrieving http://oracc.org/etcsri/Q004392/html\n",
      "saving http://oracc.org/etcsri/Q004392 as HTML/etcsri_Q004392.html\n"
     ]
    },
    {
     "name": "stderr",
     "output_type": "stream",
     "text": [
      "\r",
      " 76%|███████▌  | 1085/1428 [08:10<02:11,  2.61it/s]"
     ]
    },
    {
     "name": "stdout",
     "output_type": "stream",
     "text": [
      "retrieving http://oracc.org/etcsri/Q004393/html\n",
      "saving http://oracc.org/etcsri/Q004393 as HTML/etcsri_Q004393.html\n"
     ]
    },
    {
     "name": "stderr",
     "output_type": "stream",
     "text": [
      "\r",
      " 76%|███████▌  | 1086/1428 [08:11<02:05,  2.72it/s]"
     ]
    },
    {
     "name": "stdout",
     "output_type": "stream",
     "text": [
      "retrieving http://oracc.org/etcsri/Q004394/html\n",
      "saving http://oracc.org/etcsri/Q004394 as HTML/etcsri_Q004394.html\n"
     ]
    },
    {
     "name": "stderr",
     "output_type": "stream",
     "text": [
      "\r",
      " 76%|███████▌  | 1087/1428 [08:11<02:02,  2.78it/s]"
     ]
    },
    {
     "name": "stdout",
     "output_type": "stream",
     "text": [
      "retrieving http://oracc.org/etcsri/Q004395/html\n",
      "saving http://oracc.org/etcsri/Q004395 as HTML/etcsri_Q004395.html\n"
     ]
    },
    {
     "name": "stderr",
     "output_type": "stream",
     "text": [
      "\r",
      " 76%|███████▌  | 1088/1428 [08:11<01:59,  2.83it/s]"
     ]
    },
    {
     "name": "stdout",
     "output_type": "stream",
     "text": [
      "retrieving http://oracc.org/etcsri/Q004396/html\n",
      "saving http://oracc.org/etcsri/Q004396 as HTML/etcsri_Q004396.html\n"
     ]
    },
    {
     "name": "stderr",
     "output_type": "stream",
     "text": [
      "\r",
      " 76%|███████▋  | 1089/1428 [08:12<02:09,  2.61it/s]"
     ]
    },
    {
     "name": "stdout",
     "output_type": "stream",
     "text": [
      "retrieving http://oracc.org/etcsri/Q004397/html\n",
      "saving http://oracc.org/etcsri/Q004397 as HTML/etcsri_Q004397.html\n"
     ]
    },
    {
     "name": "stderr",
     "output_type": "stream",
     "text": [
      "\r",
      " 76%|███████▋  | 1090/1428 [08:12<02:13,  2.54it/s]"
     ]
    },
    {
     "name": "stdout",
     "output_type": "stream",
     "text": [
      "retrieving http://oracc.org/etcsri/Q004398/html\n",
      "saving http://oracc.org/etcsri/Q004398 as HTML/etcsri_Q004398.html\n"
     ]
    },
    {
     "name": "stderr",
     "output_type": "stream",
     "text": [
      "\r",
      " 76%|███████▋  | 1091/1428 [08:13<02:07,  2.65it/s]"
     ]
    },
    {
     "name": "stdout",
     "output_type": "stream",
     "text": [
      "retrieving http://oracc.org/etcsri/Q004399/html\n",
      "saving http://oracc.org/etcsri/Q004399 as HTML/etcsri_Q004399.html\n"
     ]
    },
    {
     "name": "stderr",
     "output_type": "stream",
     "text": [
      "\r",
      " 76%|███████▋  | 1092/1428 [08:13<02:03,  2.72it/s]"
     ]
    },
    {
     "name": "stdout",
     "output_type": "stream",
     "text": [
      "retrieving http://oracc.org/etcsri/Q004400/html\n",
      "saving http://oracc.org/etcsri/Q004400 as HTML/etcsri_Q004400.html\n"
     ]
    },
    {
     "name": "stderr",
     "output_type": "stream",
     "text": [
      "\r",
      " 77%|███████▋  | 1093/1428 [08:13<02:06,  2.64it/s]"
     ]
    },
    {
     "name": "stdout",
     "output_type": "stream",
     "text": [
      "retrieving http://oracc.org/etcsri/Q004401/html\n",
      "saving http://oracc.org/etcsri/Q004401 as HTML/etcsri_Q004401.html\n"
     ]
    },
    {
     "name": "stderr",
     "output_type": "stream",
     "text": [
      "\r",
      " 77%|███████▋  | 1094/1428 [08:14<02:02,  2.73it/s]"
     ]
    },
    {
     "name": "stdout",
     "output_type": "stream",
     "text": [
      "retrieving http://oracc.org/etcsri/Q004402/html\n",
      "saving http://oracc.org/etcsri/Q004402 as HTML/etcsri_Q004402.html\n"
     ]
    },
    {
     "name": "stderr",
     "output_type": "stream",
     "text": [
      "\r",
      " 77%|███████▋  | 1095/1428 [08:14<02:02,  2.72it/s]"
     ]
    },
    {
     "name": "stdout",
     "output_type": "stream",
     "text": [
      "retrieving http://oracc.org/etcsri/Q004403/html\n",
      "saving http://oracc.org/etcsri/Q004403 as HTML/etcsri_Q004403.html\n"
     ]
    },
    {
     "name": "stderr",
     "output_type": "stream",
     "text": [
      "\r",
      " 77%|███████▋  | 1096/1428 [08:15<02:11,  2.53it/s]"
     ]
    },
    {
     "name": "stdout",
     "output_type": "stream",
     "text": [
      "retrieving http://oracc.org/etcsri/Q004404/html\n",
      "saving http://oracc.org/etcsri/Q004404 as HTML/etcsri_Q004404.html\n"
     ]
    },
    {
     "name": "stderr",
     "output_type": "stream",
     "text": [
      "\r",
      " 77%|███████▋  | 1097/1428 [08:15<02:05,  2.64it/s]"
     ]
    },
    {
     "name": "stdout",
     "output_type": "stream",
     "text": [
      "retrieving http://oracc.org/etcsri/Q004405/html\n",
      "saving http://oracc.org/etcsri/Q004405 as HTML/etcsri_Q004405.html\n"
     ]
    },
    {
     "name": "stderr",
     "output_type": "stream",
     "text": [
      "\r",
      " 77%|███████▋  | 1098/1428 [08:15<02:01,  2.72it/s]"
     ]
    },
    {
     "name": "stdout",
     "output_type": "stream",
     "text": [
      "retrieving http://oracc.org/etcsri/Q004406/html\n",
      "saving http://oracc.org/etcsri/Q004406 as HTML/etcsri_Q004406.html\n"
     ]
    },
    {
     "name": "stderr",
     "output_type": "stream",
     "text": [
      "\r",
      " 77%|███████▋  | 1099/1428 [08:16<01:56,  2.82it/s]"
     ]
    },
    {
     "name": "stdout",
     "output_type": "stream",
     "text": [
      "retrieving http://oracc.org/etcsri/Q004407/html\n",
      "saving http://oracc.org/etcsri/Q004407 as HTML/etcsri_Q004407.html\n"
     ]
    },
    {
     "name": "stderr",
     "output_type": "stream",
     "text": [
      "\r",
      " 77%|███████▋  | 1100/1428 [08:16<01:54,  2.87it/s]"
     ]
    },
    {
     "name": "stdout",
     "output_type": "stream",
     "text": [
      "retrieving http://oracc.org/etcsri/Q004408/html\n",
      "saving http://oracc.org/etcsri/Q004408 as HTML/etcsri_Q004408.html\n"
     ]
    },
    {
     "name": "stderr",
     "output_type": "stream",
     "text": [
      "\r",
      " 77%|███████▋  | 1101/1428 [08:16<01:57,  2.78it/s]"
     ]
    },
    {
     "name": "stdout",
     "output_type": "stream",
     "text": [
      "retrieving http://oracc.org/etcsri/Q004409/html\n",
      "saving http://oracc.org/etcsri/Q004409 as HTML/etcsri_Q004409.html\n"
     ]
    },
    {
     "name": "stderr",
     "output_type": "stream",
     "text": [
      "\r",
      " 77%|███████▋  | 1102/1428 [08:17<02:02,  2.66it/s]"
     ]
    },
    {
     "name": "stdout",
     "output_type": "stream",
     "text": [
      "retrieving http://oracc.org/etcsri/Q004410/html\n",
      "saving http://oracc.org/etcsri/Q004410 as HTML/etcsri_Q004410.html\n"
     ]
    },
    {
     "name": "stderr",
     "output_type": "stream",
     "text": [
      "\r",
      " 77%|███████▋  | 1103/1428 [08:17<02:00,  2.69it/s]"
     ]
    },
    {
     "name": "stdout",
     "output_type": "stream",
     "text": [
      "retrieving http://oracc.org/etcsri/Q004411/html\n",
      "saving http://oracc.org/etcsri/Q004411 as HTML/etcsri_Q004411.html\n"
     ]
    },
    {
     "name": "stderr",
     "output_type": "stream",
     "text": [
      "\r",
      " 77%|███████▋  | 1104/1428 [08:17<01:59,  2.71it/s]"
     ]
    },
    {
     "name": "stdout",
     "output_type": "stream",
     "text": [
      "retrieving http://oracc.org/etcsri/Q004412/html\n",
      "saving http://oracc.org/etcsri/Q004412 as HTML/etcsri_Q004412.html\n"
     ]
    },
    {
     "name": "stderr",
     "output_type": "stream",
     "text": [
      "\r",
      " 77%|███████▋  | 1105/1428 [08:18<01:56,  2.77it/s]"
     ]
    },
    {
     "name": "stdout",
     "output_type": "stream",
     "text": [
      "retrieving http://oracc.org/etcsri/Q004413/html\n",
      "saving http://oracc.org/etcsri/Q004413 as HTML/etcsri_Q004413.html\n"
     ]
    },
    {
     "name": "stderr",
     "output_type": "stream",
     "text": [
      "\r",
      " 77%|███████▋  | 1106/1428 [08:18<01:57,  2.73it/s]"
     ]
    },
    {
     "name": "stdout",
     "output_type": "stream",
     "text": [
      "retrieving http://oracc.org/etcsri/Q004414/html\n",
      "saving http://oracc.org/etcsri/Q004414 as HTML/etcsri_Q004414.html\n"
     ]
    },
    {
     "name": "stderr",
     "output_type": "stream",
     "text": [
      "\r",
      " 78%|███████▊  | 1107/1428 [08:18<01:54,  2.79it/s]"
     ]
    },
    {
     "name": "stdout",
     "output_type": "stream",
     "text": [
      "retrieving http://oracc.org/etcsri/Q004415/html\n",
      "saving http://oracc.org/etcsri/Q004415 as HTML/etcsri_Q004415.html\n"
     ]
    },
    {
     "name": "stderr",
     "output_type": "stream",
     "text": [
      "\r",
      " 78%|███████▊  | 1108/1428 [08:19<02:05,  2.56it/s]"
     ]
    },
    {
     "name": "stdout",
     "output_type": "stream",
     "text": [
      "retrieving http://oracc.org/etcsri/Q004416/html\n",
      "saving http://oracc.org/etcsri/Q004416 as HTML/etcsri_Q004416.html\n"
     ]
    },
    {
     "name": "stderr",
     "output_type": "stream",
     "text": [
      "\r",
      " 78%|███████▊  | 1109/1428 [08:19<02:00,  2.64it/s]"
     ]
    },
    {
     "name": "stdout",
     "output_type": "stream",
     "text": [
      "retrieving http://oracc.org/etcsri/Q004417/html\n",
      "saving http://oracc.org/etcsri/Q004417 as HTML/etcsri_Q004417.html\n"
     ]
    },
    {
     "name": "stderr",
     "output_type": "stream",
     "text": [
      "\r",
      " 78%|███████▊  | 1110/1428 [08:20<02:09,  2.45it/s]"
     ]
    },
    {
     "name": "stdout",
     "output_type": "stream",
     "text": [
      "retrieving http://oracc.org/etcsri/Q004418/html\n",
      "saving http://oracc.org/etcsri/Q004418 as HTML/etcsri_Q004418.html\n"
     ]
    },
    {
     "name": "stderr",
     "output_type": "stream",
     "text": [
      "\r",
      " 78%|███████▊  | 1111/1428 [08:20<02:03,  2.56it/s]"
     ]
    },
    {
     "name": "stdout",
     "output_type": "stream",
     "text": [
      "retrieving http://oracc.org/etcsri/Q004419/html\n",
      "saving http://oracc.org/etcsri/Q004419 as HTML/etcsri_Q004419.html\n"
     ]
    },
    {
     "name": "stderr",
     "output_type": "stream",
     "text": [
      "\r",
      " 78%|███████▊  | 1112/1428 [08:20<01:59,  2.64it/s]"
     ]
    },
    {
     "name": "stdout",
     "output_type": "stream",
     "text": [
      "retrieving http://oracc.org/etcsri/Q004420/html\n",
      "saving http://oracc.org/etcsri/Q004420 as HTML/etcsri_Q004420.html\n"
     ]
    },
    {
     "name": "stderr",
     "output_type": "stream",
     "text": [
      "\r",
      " 78%|███████▊  | 1113/1428 [08:21<01:55,  2.72it/s]"
     ]
    },
    {
     "name": "stdout",
     "output_type": "stream",
     "text": [
      "retrieving http://oracc.org/etcsri/Q004421/html\n",
      "saving http://oracc.org/etcsri/Q004421 as HTML/etcsri_Q004421.html\n"
     ]
    },
    {
     "name": "stderr",
     "output_type": "stream",
     "text": [
      "\r",
      " 78%|███████▊  | 1114/1428 [08:21<01:59,  2.62it/s]"
     ]
    },
    {
     "name": "stdout",
     "output_type": "stream",
     "text": [
      "retrieving http://oracc.org/etcsri/Q004422/html\n",
      "saving http://oracc.org/etcsri/Q004422 as HTML/etcsri_Q004422.html\n"
     ]
    },
    {
     "name": "stderr",
     "output_type": "stream",
     "text": [
      "\r",
      " 78%|███████▊  | 1115/1428 [08:22<01:55,  2.70it/s]"
     ]
    },
    {
     "name": "stdout",
     "output_type": "stream",
     "text": [
      "retrieving http://oracc.org/etcsri/Q004423/html\n",
      "saving http://oracc.org/etcsri/Q004423 as HTML/etcsri_Q004423.html\n"
     ]
    },
    {
     "name": "stderr",
     "output_type": "stream",
     "text": [
      "\r",
      " 78%|███████▊  | 1116/1428 [08:22<02:01,  2.56it/s]"
     ]
    },
    {
     "name": "stdout",
     "output_type": "stream",
     "text": [
      "retrieving http://oracc.org/etcsri/Q004424/html\n",
      "saving http://oracc.org/etcsri/Q004424 as HTML/etcsri_Q004424.html\n"
     ]
    },
    {
     "name": "stderr",
     "output_type": "stream",
     "text": [
      "\r",
      " 78%|███████▊  | 1117/1428 [08:22<02:04,  2.50it/s]"
     ]
    },
    {
     "name": "stdout",
     "output_type": "stream",
     "text": [
      "retrieving http://oracc.org/etcsri/Q004425/html\n",
      "saving http://oracc.org/etcsri/Q004425 as HTML/etcsri_Q004425.html\n"
     ]
    },
    {
     "name": "stderr",
     "output_type": "stream",
     "text": [
      "\r",
      " 78%|███████▊  | 1118/1428 [08:23<01:59,  2.60it/s]"
     ]
    },
    {
     "name": "stdout",
     "output_type": "stream",
     "text": [
      "retrieving http://oracc.org/etcsri/Q004426/html\n",
      "saving http://oracc.org/etcsri/Q004426 as HTML/etcsri_Q004426.html\n"
     ]
    },
    {
     "name": "stderr",
     "output_type": "stream",
     "text": [
      "\r",
      " 78%|███████▊  | 1119/1428 [08:23<02:00,  2.56it/s]"
     ]
    },
    {
     "name": "stdout",
     "output_type": "stream",
     "text": [
      "retrieving http://oracc.org/etcsri/Q004427/html\n",
      "saving http://oracc.org/etcsri/Q004427 as HTML/etcsri_Q004427.html\n"
     ]
    },
    {
     "name": "stderr",
     "output_type": "stream",
     "text": [
      "\r",
      " 78%|███████▊  | 1120/1428 [08:24<02:07,  2.41it/s]"
     ]
    },
    {
     "name": "stdout",
     "output_type": "stream",
     "text": [
      "retrieving http://oracc.org/etcsri/Q004428/html\n",
      "saving http://oracc.org/etcsri/Q004428 as HTML/etcsri_Q004428.html\n"
     ]
    },
    {
     "name": "stderr",
     "output_type": "stream",
     "text": [
      "\r",
      " 79%|███████▊  | 1121/1428 [08:24<02:04,  2.47it/s]"
     ]
    },
    {
     "name": "stdout",
     "output_type": "stream",
     "text": [
      "retrieving http://oracc.org/etcsri/Q004429/html\n",
      "saving http://oracc.org/etcsri/Q004429 as HTML/etcsri_Q004429.html\n"
     ]
    },
    {
     "name": "stderr",
     "output_type": "stream",
     "text": [
      "\r",
      " 79%|███████▊  | 1122/1428 [08:24<02:03,  2.47it/s]"
     ]
    },
    {
     "name": "stdout",
     "output_type": "stream",
     "text": [
      "retrieving http://oracc.org/etcsri/Q004430/html\n",
      "saving http://oracc.org/etcsri/Q004430 as HTML/etcsri_Q004430.html\n"
     ]
    },
    {
     "name": "stderr",
     "output_type": "stream",
     "text": [
      "\r",
      " 79%|███████▊  | 1123/1428 [08:25<02:02,  2.50it/s]"
     ]
    },
    {
     "name": "stdout",
     "output_type": "stream",
     "text": [
      "retrieving http://oracc.org/etcsri/Q004431/html\n",
      "saving http://oracc.org/etcsri/Q004431 as HTML/etcsri_Q004431.html\n"
     ]
    },
    {
     "name": "stderr",
     "output_type": "stream",
     "text": [
      "\r",
      " 79%|███████▊  | 1124/1428 [08:25<02:01,  2.50it/s]"
     ]
    },
    {
     "name": "stdout",
     "output_type": "stream",
     "text": [
      "retrieving http://oracc.org/etcsri/Q004432/html\n",
      "saving http://oracc.org/etcsri/Q004432 as HTML/etcsri_Q004432.html\n"
     ]
    },
    {
     "name": "stderr",
     "output_type": "stream",
     "text": [
      "\r",
      " 79%|███████▉  | 1125/1428 [08:26<01:56,  2.61it/s]"
     ]
    },
    {
     "name": "stdout",
     "output_type": "stream",
     "text": [
      "retrieving http://oracc.org/etcsri/Q004433/html\n",
      "saving http://oracc.org/etcsri/Q004433 as HTML/etcsri_Q004433.html\n"
     ]
    },
    {
     "name": "stderr",
     "output_type": "stream",
     "text": [
      "\r",
      " 79%|███████▉  | 1126/1428 [08:26<01:58,  2.54it/s]"
     ]
    },
    {
     "name": "stdout",
     "output_type": "stream",
     "text": [
      "retrieving http://oracc.org/etcsri/Q004434/html\n",
      "saving http://oracc.org/etcsri/Q004434 as HTML/etcsri_Q004434.html\n"
     ]
    },
    {
     "name": "stderr",
     "output_type": "stream",
     "text": [
      "\r",
      " 79%|███████▉  | 1127/1428 [08:26<01:52,  2.67it/s]"
     ]
    },
    {
     "name": "stdout",
     "output_type": "stream",
     "text": [
      "retrieving http://oracc.org/etcsri/Q004435/html\n",
      "saving http://oracc.org/etcsri/Q004435 as HTML/etcsri_Q004435.html\n"
     ]
    },
    {
     "name": "stderr",
     "output_type": "stream",
     "text": [
      "\r",
      " 79%|███████▉  | 1128/1428 [08:27<01:55,  2.60it/s]"
     ]
    },
    {
     "name": "stdout",
     "output_type": "stream",
     "text": [
      "retrieving http://oracc.org/etcsri/Q004436/html\n",
      "saving http://oracc.org/etcsri/Q004436 as HTML/etcsri_Q004436.html\n"
     ]
    },
    {
     "name": "stderr",
     "output_type": "stream",
     "text": [
      "\r",
      " 79%|███████▉  | 1129/1428 [08:27<01:49,  2.73it/s]"
     ]
    },
    {
     "name": "stdout",
     "output_type": "stream",
     "text": [
      "retrieving http://oracc.org/etcsri/Q004437/html\n",
      "saving http://oracc.org/etcsri/Q004437 as HTML/etcsri_Q004437.html\n"
     ]
    },
    {
     "name": "stderr",
     "output_type": "stream",
     "text": [
      "\r",
      " 79%|███████▉  | 1130/1428 [08:27<01:52,  2.66it/s]"
     ]
    },
    {
     "name": "stdout",
     "output_type": "stream",
     "text": [
      "retrieving http://oracc.org/etcsri/Q004438/html\n",
      "saving http://oracc.org/etcsri/Q004438 as HTML/etcsri_Q004438.html\n"
     ]
    },
    {
     "name": "stderr",
     "output_type": "stream",
     "text": [
      "\r",
      " 79%|███████▉  | 1131/1428 [08:28<01:51,  2.65it/s]"
     ]
    },
    {
     "name": "stdout",
     "output_type": "stream",
     "text": [
      "retrieving http://oracc.org/etcsri/Q004439/html\n",
      "saving http://oracc.org/etcsri/Q004439 as HTML/etcsri_Q004439.html\n"
     ]
    },
    {
     "name": "stderr",
     "output_type": "stream",
     "text": [
      "\r",
      " 79%|███████▉  | 1132/1428 [08:28<01:55,  2.56it/s]"
     ]
    },
    {
     "name": "stdout",
     "output_type": "stream",
     "text": [
      "retrieving http://oracc.org/etcsri/Q004440/html\n",
      "saving http://oracc.org/etcsri/Q004440 as HTML/etcsri_Q004440.html\n"
     ]
    },
    {
     "name": "stderr",
     "output_type": "stream",
     "text": [
      "\r",
      " 79%|███████▉  | 1133/1428 [08:29<01:56,  2.54it/s]"
     ]
    },
    {
     "name": "stdout",
     "output_type": "stream",
     "text": [
      "retrieving http://oracc.org/etcsri/Q004441/html\n",
      "saving http://oracc.org/etcsri/Q004441 as HTML/etcsri_Q004441.html\n"
     ]
    },
    {
     "name": "stderr",
     "output_type": "stream",
     "text": [
      "\r",
      " 79%|███████▉  | 1134/1428 [08:29<01:50,  2.67it/s]"
     ]
    },
    {
     "name": "stdout",
     "output_type": "stream",
     "text": [
      "retrieving http://oracc.org/etcsri/Q004442/html\n",
      "saving http://oracc.org/etcsri/Q004442 as HTML/etcsri_Q004442.html\n"
     ]
    },
    {
     "name": "stderr",
     "output_type": "stream",
     "text": [
      "\r",
      " 79%|███████▉  | 1135/1428 [08:29<01:51,  2.62it/s]"
     ]
    },
    {
     "name": "stdout",
     "output_type": "stream",
     "text": [
      "retrieving http://oracc.org/etcsri/Q004443/html\n",
      "saving http://oracc.org/etcsri/Q004443 as HTML/etcsri_Q004443.html\n"
     ]
    },
    {
     "name": "stderr",
     "output_type": "stream",
     "text": [
      "\r",
      " 80%|███████▉  | 1136/1428 [08:30<01:48,  2.70it/s]"
     ]
    },
    {
     "name": "stdout",
     "output_type": "stream",
     "text": [
      "retrieving http://oracc.org/etcsri/Q004444/html\n",
      "saving http://oracc.org/etcsri/Q004444 as HTML/etcsri_Q004444.html\n"
     ]
    },
    {
     "name": "stderr",
     "output_type": "stream",
     "text": [
      "\r",
      " 80%|███████▉  | 1137/1428 [08:30<01:44,  2.80it/s]"
     ]
    },
    {
     "name": "stdout",
     "output_type": "stream",
     "text": [
      "retrieving http://oracc.org/etcsri/Q004445/html\n",
      "saving http://oracc.org/etcsri/Q004445 as HTML/etcsri_Q004445.html\n"
     ]
    },
    {
     "name": "stderr",
     "output_type": "stream",
     "text": [
      "\r",
      " 80%|███████▉  | 1138/1428 [08:31<01:53,  2.56it/s]"
     ]
    },
    {
     "name": "stdout",
     "output_type": "stream",
     "text": [
      "retrieving http://oracc.org/etcsri/Q004446/html\n",
      "saving http://oracc.org/etcsri/Q004446 as HTML/etcsri_Q004446.html\n"
     ]
    },
    {
     "name": "stderr",
     "output_type": "stream",
     "text": [
      "\r",
      " 80%|███████▉  | 1139/1428 [08:31<01:53,  2.55it/s]"
     ]
    },
    {
     "name": "stdout",
     "output_type": "stream",
     "text": [
      "retrieving http://oracc.org/etcsri/Q004447/html\n",
      "saving http://oracc.org/etcsri/Q004447 as HTML/etcsri_Q004447.html\n"
     ]
    },
    {
     "name": "stderr",
     "output_type": "stream",
     "text": [
      "\r",
      " 80%|███████▉  | 1140/1428 [08:31<01:58,  2.44it/s]"
     ]
    },
    {
     "name": "stdout",
     "output_type": "stream",
     "text": [
      "retrieving http://oracc.org/etcsri/Q004448/html\n",
      "saving http://oracc.org/etcsri/Q004448 as HTML/etcsri_Q004448.html\n"
     ]
    },
    {
     "name": "stderr",
     "output_type": "stream",
     "text": [
      "\r",
      " 80%|███████▉  | 1141/1428 [08:32<01:51,  2.58it/s]"
     ]
    },
    {
     "name": "stdout",
     "output_type": "stream",
     "text": [
      "retrieving http://oracc.org/etcsri/Q004900/html\n",
      "saving http://oracc.org/etcsri/Q004900 as HTML/etcsri_Q004900.html\n"
     ]
    },
    {
     "name": "stderr",
     "output_type": "stream",
     "text": [
      "\r",
      " 80%|███████▉  | 1142/1428 [08:32<01:49,  2.62it/s]"
     ]
    },
    {
     "name": "stdout",
     "output_type": "stream",
     "text": [
      "retrieving http://oracc.org/etcsri/Q004901/html\n",
      "saving http://oracc.org/etcsri/Q004901 as HTML/etcsri_Q004901.html\n"
     ]
    },
    {
     "name": "stderr",
     "output_type": "stream",
     "text": [
      "\r",
      " 80%|████████  | 1143/1428 [08:32<01:43,  2.75it/s]"
     ]
    },
    {
     "name": "stdout",
     "output_type": "stream",
     "text": [
      "retrieving http://oracc.org/etcsri/Q004902/html\n",
      "saving http://oracc.org/etcsri/Q004902 as HTML/etcsri_Q004902.html\n"
     ]
    },
    {
     "name": "stderr",
     "output_type": "stream",
     "text": [
      "\r",
      " 80%|████████  | 1144/1428 [08:33<01:40,  2.82it/s]"
     ]
    },
    {
     "name": "stdout",
     "output_type": "stream",
     "text": [
      "retrieving http://oracc.org/etcsri/Q004903/html\n",
      "saving http://oracc.org/etcsri/Q004903 as HTML/etcsri_Q004903.html\n"
     ]
    },
    {
     "name": "stderr",
     "output_type": "stream",
     "text": [
      "\r",
      " 80%|████████  | 1145/1428 [08:33<01:37,  2.90it/s]"
     ]
    },
    {
     "name": "stdout",
     "output_type": "stream",
     "text": [
      "retrieving http://oracc.org/etcsri/Q004904/html\n",
      "saving http://oracc.org/etcsri/Q004904 as HTML/etcsri_Q004904.html\n"
     ]
    },
    {
     "name": "stderr",
     "output_type": "stream",
     "text": [
      "\r",
      " 80%|████████  | 1146/1428 [08:33<01:36,  2.91it/s]"
     ]
    },
    {
     "name": "stdout",
     "output_type": "stream",
     "text": [
      "retrieving http://oracc.org/etcsri/Q004905/html\n",
      "saving http://oracc.org/etcsri/Q004905 as HTML/etcsri_Q004905.html\n"
     ]
    },
    {
     "name": "stderr",
     "output_type": "stream",
     "text": [
      "\r",
      " 80%|████████  | 1147/1428 [08:34<01:38,  2.85it/s]"
     ]
    },
    {
     "name": "stdout",
     "output_type": "stream",
     "text": [
      "retrieving http://oracc.org/etcsri/Q004906/html\n",
      "saving http://oracc.org/etcsri/Q004906 as HTML/etcsri_Q004906.html\n"
     ]
    },
    {
     "name": "stderr",
     "output_type": "stream",
     "text": [
      "\r",
      " 80%|████████  | 1148/1428 [08:34<01:37,  2.86it/s]"
     ]
    },
    {
     "name": "stdout",
     "output_type": "stream",
     "text": [
      "retrieving http://oracc.org/etcsri/Q004907/html\n",
      "saving http://oracc.org/etcsri/Q004907 as HTML/etcsri_Q004907.html\n"
     ]
    },
    {
     "name": "stderr",
     "output_type": "stream",
     "text": [
      "\r",
      " 80%|████████  | 1149/1428 [08:34<01:37,  2.87it/s]"
     ]
    },
    {
     "name": "stdout",
     "output_type": "stream",
     "text": [
      "retrieving http://oracc.org/etcsri/Q004908/html\n",
      "saving http://oracc.org/etcsri/Q004908 as HTML/etcsri_Q004908.html\n"
     ]
    },
    {
     "name": "stderr",
     "output_type": "stream",
     "text": [
      "\r",
      " 81%|████████  | 1150/1428 [08:35<01:36,  2.89it/s]"
     ]
    },
    {
     "name": "stdout",
     "output_type": "stream",
     "text": [
      "retrieving http://oracc.org/etcsri/Q004909/html\n",
      "saving http://oracc.org/etcsri/Q004909 as HTML/etcsri_Q004909.html\n"
     ]
    },
    {
     "name": "stderr",
     "output_type": "stream",
     "text": [
      "\r",
      " 81%|████████  | 1151/1428 [08:35<01:46,  2.59it/s]"
     ]
    },
    {
     "name": "stdout",
     "output_type": "stream",
     "text": [
      "retrieving http://oracc.org/etcsri/Q004910/html\n",
      "saving http://oracc.org/etcsri/Q004910 as HTML/etcsri_Q004910.html\n"
     ]
    },
    {
     "name": "stderr",
     "output_type": "stream",
     "text": [
      "\r",
      " 81%|████████  | 1152/1428 [08:36<01:58,  2.32it/s]"
     ]
    },
    {
     "name": "stdout",
     "output_type": "stream",
     "text": [
      "retrieving http://oracc.org/etcsri/Q004911/html\n",
      "saving http://oracc.org/etcsri/Q004911 as HTML/etcsri_Q004911.html\n"
     ]
    },
    {
     "name": "stderr",
     "output_type": "stream",
     "text": [
      "\r",
      " 81%|████████  | 1153/1428 [08:36<01:59,  2.29it/s]"
     ]
    },
    {
     "name": "stdout",
     "output_type": "stream",
     "text": [
      "retrieving http://oracc.org/etcsri/Q004912/html\n",
      "saving http://oracc.org/etcsri/Q004912 as HTML/etcsri_Q004912.html\n"
     ]
    },
    {
     "name": "stderr",
     "output_type": "stream",
     "text": [
      "\r",
      " 81%|████████  | 1154/1428 [08:37<01:54,  2.38it/s]"
     ]
    },
    {
     "name": "stdout",
     "output_type": "stream",
     "text": [
      "retrieving http://oracc.org/etcsri/Q004913/html\n",
      "saving http://oracc.org/etcsri/Q004913 as HTML/etcsri_Q004913.html\n"
     ]
    },
    {
     "name": "stderr",
     "output_type": "stream",
     "text": [
      "\r",
      " 81%|████████  | 1155/1428 [08:37<01:57,  2.31it/s]"
     ]
    },
    {
     "name": "stdout",
     "output_type": "stream",
     "text": [
      "retrieving http://oracc.org/etcsri/Q004914/html\n",
      "saving http://oracc.org/etcsri/Q004914 as HTML/etcsri_Q004914.html\n"
     ]
    },
    {
     "name": "stderr",
     "output_type": "stream",
     "text": [
      "\r",
      " 81%|████████  | 1156/1428 [08:37<01:50,  2.46it/s]"
     ]
    },
    {
     "name": "stdout",
     "output_type": "stream",
     "text": [
      "retrieving http://oracc.org/etcsri/Q004915/html\n",
      "saving http://oracc.org/etcsri/Q004915 as HTML/etcsri_Q004915.html\n"
     ]
    },
    {
     "name": "stderr",
     "output_type": "stream",
     "text": [
      "\r",
      " 81%|████████  | 1157/1428 [08:38<01:54,  2.36it/s]"
     ]
    },
    {
     "name": "stdout",
     "output_type": "stream",
     "text": [
      "retrieving http://oracc.org/etcsri/Q004916/html\n",
      "saving http://oracc.org/etcsri/Q004916 as HTML/etcsri_Q004916.html\n"
     ]
    },
    {
     "name": "stderr",
     "output_type": "stream",
     "text": [
      "\r",
      " 81%|████████  | 1158/1428 [08:38<01:48,  2.49it/s]"
     ]
    },
    {
     "name": "stdout",
     "output_type": "stream",
     "text": [
      "retrieving http://oracc.org/etcsri/Q004917/html\n",
      "saving http://oracc.org/etcsri/Q004917 as HTML/etcsri_Q004917.html\n"
     ]
    },
    {
     "name": "stderr",
     "output_type": "stream",
     "text": [
      "\r",
      " 81%|████████  | 1159/1428 [08:39<01:48,  2.47it/s]"
     ]
    },
    {
     "name": "stdout",
     "output_type": "stream",
     "text": [
      "retrieving http://oracc.org/etcsri/Q004918/html\n",
      "saving http://oracc.org/etcsri/Q004918 as HTML/etcsri_Q004918.html\n"
     ]
    },
    {
     "name": "stderr",
     "output_type": "stream",
     "text": [
      "\r",
      " 81%|████████  | 1160/1428 [08:39<01:42,  2.62it/s]"
     ]
    },
    {
     "name": "stdout",
     "output_type": "stream",
     "text": [
      "retrieving http://oracc.org/etcsri/Q004919/html\n",
      "saving http://oracc.org/etcsri/Q004919 as HTML/etcsri_Q004919.html\n"
     ]
    },
    {
     "name": "stderr",
     "output_type": "stream",
     "text": [
      "\r",
      " 81%|████████▏ | 1161/1428 [08:39<01:38,  2.72it/s]"
     ]
    },
    {
     "name": "stdout",
     "output_type": "stream",
     "text": [
      "retrieving http://oracc.org/etcsri/Q004920/html\n",
      "saving http://oracc.org/etcsri/Q004920 as HTML/etcsri_Q004920.html\n"
     ]
    },
    {
     "name": "stderr",
     "output_type": "stream",
     "text": [
      "\r",
      " 81%|████████▏ | 1162/1428 [08:40<01:35,  2.78it/s]"
     ]
    },
    {
     "name": "stdout",
     "output_type": "stream",
     "text": [
      "retrieving http://oracc.org/etcsri/Q004921/html\n",
      "saving http://oracc.org/etcsri/Q004921 as HTML/etcsri_Q004921.html\n"
     ]
    },
    {
     "name": "stderr",
     "output_type": "stream",
     "text": [
      "\r",
      " 81%|████████▏ | 1163/1428 [08:40<01:33,  2.83it/s]"
     ]
    },
    {
     "name": "stdout",
     "output_type": "stream",
     "text": [
      "retrieving http://oracc.org/etcsri/Q004922/html\n",
      "saving http://oracc.org/etcsri/Q004922 as HTML/etcsri_Q004922.html\n"
     ]
    },
    {
     "name": "stderr",
     "output_type": "stream",
     "text": [
      "\r",
      " 82%|████████▏ | 1164/1428 [08:40<01:36,  2.73it/s]"
     ]
    },
    {
     "name": "stdout",
     "output_type": "stream",
     "text": [
      "retrieving http://oracc.org/etcsri/Q004923/html\n",
      "saving http://oracc.org/etcsri/Q004923 as HTML/etcsri_Q004923.html\n"
     ]
    },
    {
     "name": "stderr",
     "output_type": "stream",
     "text": [
      "\r",
      " 82%|████████▏ | 1165/1428 [08:41<01:33,  2.82it/s]"
     ]
    },
    {
     "name": "stdout",
     "output_type": "stream",
     "text": [
      "retrieving http://oracc.org/etcsri/Q004924/html\n",
      "saving http://oracc.org/etcsri/Q004924 as HTML/etcsri_Q004924.html\n"
     ]
    },
    {
     "name": "stderr",
     "output_type": "stream",
     "text": [
      "\r",
      " 82%|████████▏ | 1166/1428 [08:41<01:31,  2.87it/s]"
     ]
    },
    {
     "name": "stdout",
     "output_type": "stream",
     "text": [
      "retrieving http://oracc.org/etcsri/Q004925/html\n",
      "saving http://oracc.org/etcsri/Q004925 as HTML/etcsri_Q004925.html\n"
     ]
    },
    {
     "name": "stderr",
     "output_type": "stream",
     "text": [
      "\r",
      " 82%|████████▏ | 1167/1428 [08:41<01:29,  2.93it/s]"
     ]
    },
    {
     "name": "stdout",
     "output_type": "stream",
     "text": [
      "retrieving http://oracc.org/etcsri/Q004926/html\n",
      "saving http://oracc.org/etcsri/Q004926 as HTML/etcsri_Q004926.html\n"
     ]
    },
    {
     "name": "stderr",
     "output_type": "stream",
     "text": [
      "\r",
      " 82%|████████▏ | 1168/1428 [08:42<01:28,  2.93it/s]"
     ]
    },
    {
     "name": "stdout",
     "output_type": "stream",
     "text": [
      "retrieving http://oracc.org/etcsri/Q004927/html\n",
      "saving http://oracc.org/etcsri/Q004927 as HTML/etcsri_Q004927.html\n"
     ]
    },
    {
     "name": "stderr",
     "output_type": "stream",
     "text": [
      "\r",
      " 82%|████████▏ | 1169/1428 [08:42<01:27,  2.95it/s]"
     ]
    },
    {
     "name": "stdout",
     "output_type": "stream",
     "text": [
      "retrieving http://oracc.org/etcsri/Q004928/html\n",
      "saving http://oracc.org/etcsri/Q004928 as HTML/etcsri_Q004928.html\n"
     ]
    },
    {
     "name": "stderr",
     "output_type": "stream",
     "text": [
      "\r",
      " 82%|████████▏ | 1170/1428 [08:42<01:27,  2.95it/s]"
     ]
    },
    {
     "name": "stdout",
     "output_type": "stream",
     "text": [
      "retrieving http://oracc.org/etcsri/Q004929/html\n",
      "saving http://oracc.org/etcsri/Q004929 as HTML/etcsri_Q004929.html\n"
     ]
    },
    {
     "name": "stderr",
     "output_type": "stream",
     "text": [
      "\r",
      " 82%|████████▏ | 1171/1428 [08:43<01:26,  2.96it/s]"
     ]
    },
    {
     "name": "stdout",
     "output_type": "stream",
     "text": [
      "retrieving http://oracc.org/etcsri/Q004930/html\n",
      "saving http://oracc.org/etcsri/Q004930 as HTML/etcsri_Q004930.html\n"
     ]
    },
    {
     "name": "stderr",
     "output_type": "stream",
     "text": [
      "\r",
      " 82%|████████▏ | 1172/1428 [08:43<01:33,  2.73it/s]"
     ]
    },
    {
     "name": "stdout",
     "output_type": "stream",
     "text": [
      "retrieving http://oracc.org/etcsri/Q004931/html\n",
      "saving http://oracc.org/etcsri/Q004931 as HTML/etcsri_Q004931.html\n"
     ]
    },
    {
     "name": "stderr",
     "output_type": "stream",
     "text": [
      "\r",
      " 82%|████████▏ | 1173/1428 [08:44<01:32,  2.75it/s]"
     ]
    },
    {
     "name": "stdout",
     "output_type": "stream",
     "text": [
      "retrieving http://oracc.org/etcsri/Q004932/html\n",
      "saving http://oracc.org/etcsri/Q004932 as HTML/etcsri_Q004932.html\n"
     ]
    },
    {
     "name": "stderr",
     "output_type": "stream",
     "text": [
      "\r",
      " 82%|████████▏ | 1174/1428 [08:44<01:31,  2.79it/s]"
     ]
    },
    {
     "name": "stdout",
     "output_type": "stream",
     "text": [
      "retrieving http://oracc.org/etcsri/Q004933/html\n",
      "saving http://oracc.org/etcsri/Q004933 as HTML/etcsri_Q004933.html\n"
     ]
    },
    {
     "name": "stderr",
     "output_type": "stream",
     "text": [
      "\r",
      " 82%|████████▏ | 1175/1428 [08:44<01:29,  2.84it/s]"
     ]
    },
    {
     "name": "stdout",
     "output_type": "stream",
     "text": [
      "retrieving http://oracc.org/etcsri/Q004934/html\n",
      "saving http://oracc.org/etcsri/Q004934 as HTML/etcsri_Q004934.html\n"
     ]
    },
    {
     "name": "stderr",
     "output_type": "stream",
     "text": [
      "\r",
      " 82%|████████▏ | 1176/1428 [08:45<01:29,  2.82it/s]"
     ]
    },
    {
     "name": "stdout",
     "output_type": "stream",
     "text": [
      "retrieving http://oracc.org/etcsri/Q004935/html\n",
      "saving http://oracc.org/etcsri/Q004935 as HTML/etcsri_Q004935.html\n"
     ]
    },
    {
     "name": "stderr",
     "output_type": "stream",
     "text": [
      "\r",
      " 82%|████████▏ | 1177/1428 [08:45<01:28,  2.85it/s]"
     ]
    },
    {
     "name": "stdout",
     "output_type": "stream",
     "text": [
      "retrieving http://oracc.org/etcsri/Q004936/html\n",
      "saving http://oracc.org/etcsri/Q004936 as HTML/etcsri_Q004936.html\n"
     ]
    },
    {
     "name": "stderr",
     "output_type": "stream",
     "text": [
      "\r",
      " 82%|████████▏ | 1178/1428 [08:45<01:37,  2.56it/s]"
     ]
    },
    {
     "name": "stdout",
     "output_type": "stream",
     "text": [
      "retrieving http://oracc.org/etcsri/Q004937/html\n",
      "saving http://oracc.org/etcsri/Q004937 as HTML/etcsri_Q004937.html\n"
     ]
    },
    {
     "name": "stderr",
     "output_type": "stream",
     "text": [
      "\r",
      " 83%|████████▎ | 1179/1428 [08:46<01:31,  2.71it/s]"
     ]
    },
    {
     "name": "stdout",
     "output_type": "stream",
     "text": [
      "retrieving http://oracc.org/etcsri/Q004938/html\n",
      "saving http://oracc.org/etcsri/Q004938 as HTML/etcsri_Q004938.html\n"
     ]
    },
    {
     "name": "stderr",
     "output_type": "stream",
     "text": [
      "\r",
      " 83%|████████▎ | 1180/1428 [08:46<01:34,  2.64it/s]"
     ]
    },
    {
     "name": "stdout",
     "output_type": "stream",
     "text": [
      "retrieving http://oracc.org/etcsri/Q004939/html\n",
      "saving http://oracc.org/etcsri/Q004939 as HTML/etcsri_Q004939.html\n"
     ]
    },
    {
     "name": "stderr",
     "output_type": "stream",
     "text": [
      "\r",
      " 83%|████████▎ | 1181/1428 [08:47<01:34,  2.60it/s]"
     ]
    },
    {
     "name": "stdout",
     "output_type": "stream",
     "text": [
      "retrieving http://oracc.org/etcsri/Q004940/html\n",
      "saving http://oracc.org/etcsri/Q004940 as HTML/etcsri_Q004940.html\n"
     ]
    },
    {
     "name": "stderr",
     "output_type": "stream",
     "text": [
      "\r",
      " 83%|████████▎ | 1182/1428 [08:47<01:31,  2.70it/s]"
     ]
    },
    {
     "name": "stdout",
     "output_type": "stream",
     "text": [
      "retrieving http://oracc.org/etcsri/Q004941/html\n",
      "saving http://oracc.org/etcsri/Q004941 as HTML/etcsri_Q004941.html\n"
     ]
    },
    {
     "name": "stderr",
     "output_type": "stream",
     "text": [
      "\r",
      " 83%|████████▎ | 1183/1428 [08:47<01:28,  2.76it/s]"
     ]
    },
    {
     "name": "stdout",
     "output_type": "stream",
     "text": [
      "retrieving http://oracc.org/etcsri/Q004942/html\n",
      "saving http://oracc.org/etcsri/Q004942 as HTML/etcsri_Q004942.html\n"
     ]
    },
    {
     "name": "stderr",
     "output_type": "stream",
     "text": [
      "\r",
      " 83%|████████▎ | 1184/1428 [08:48<01:30,  2.69it/s]"
     ]
    },
    {
     "name": "stdout",
     "output_type": "stream",
     "text": [
      "retrieving http://oracc.org/etcsri/Q004943/html\n",
      "saving http://oracc.org/etcsri/Q004943 as HTML/etcsri_Q004943.html\n"
     ]
    },
    {
     "name": "stderr",
     "output_type": "stream",
     "text": [
      "\r",
      " 83%|████████▎ | 1185/1428 [08:48<01:32,  2.63it/s]"
     ]
    },
    {
     "name": "stdout",
     "output_type": "stream",
     "text": [
      "retrieving http://oracc.org/etcsri/Q004944/html\n",
      "saving http://oracc.org/etcsri/Q004944 as HTML/etcsri_Q004944.html\n"
     ]
    },
    {
     "name": "stderr",
     "output_type": "stream",
     "text": [
      "\r",
      " 83%|████████▎ | 1186/1428 [08:48<01:29,  2.71it/s]"
     ]
    },
    {
     "name": "stdout",
     "output_type": "stream",
     "text": [
      "retrieving http://oracc.org/etcsri/Q004945/html\n",
      "saving http://oracc.org/etcsri/Q004945 as HTML/etcsri_Q004945.html\n"
     ]
    },
    {
     "name": "stderr",
     "output_type": "stream",
     "text": [
      "\r",
      " 83%|████████▎ | 1187/1428 [08:49<01:26,  2.80it/s]"
     ]
    },
    {
     "name": "stdout",
     "output_type": "stream",
     "text": [
      "retrieving http://oracc.org/etcsri/Q004946/html\n",
      "saving http://oracc.org/etcsri/Q004946 as HTML/etcsri_Q004946.html\n"
     ]
    },
    {
     "name": "stderr",
     "output_type": "stream",
     "text": [
      "\r",
      " 83%|████████▎ | 1188/1428 [08:49<01:24,  2.84it/s]"
     ]
    },
    {
     "name": "stdout",
     "output_type": "stream",
     "text": [
      "retrieving http://oracc.org/etcsri/Q004947/html\n",
      "saving http://oracc.org/etcsri/Q004947 as HTML/etcsri_Q004947.html\n"
     ]
    },
    {
     "name": "stderr",
     "output_type": "stream",
     "text": [
      "\r",
      " 83%|████████▎ | 1189/1428 [08:49<01:24,  2.82it/s]"
     ]
    },
    {
     "name": "stdout",
     "output_type": "stream",
     "text": [
      "retrieving http://oracc.org/etcsri/Q004948/html\n",
      "saving http://oracc.org/etcsri/Q004948 as HTML/etcsri_Q004948.html\n"
     ]
    },
    {
     "name": "stderr",
     "output_type": "stream",
     "text": [
      "\r",
      " 83%|████████▎ | 1190/1428 [08:50<01:23,  2.85it/s]"
     ]
    },
    {
     "name": "stdout",
     "output_type": "stream",
     "text": [
      "retrieving http://oracc.org/etcsri/Q004949/html\n",
      "saving http://oracc.org/etcsri/Q004949 as HTML/etcsri_Q004949.html\n"
     ]
    },
    {
     "name": "stderr",
     "output_type": "stream",
     "text": [
      "\r",
      " 83%|████████▎ | 1191/1428 [08:50<01:28,  2.66it/s]"
     ]
    },
    {
     "name": "stdout",
     "output_type": "stream",
     "text": [
      "retrieving http://oracc.org/etcsri/Q004950/html\n",
      "saving http://oracc.org/etcsri/Q004950 as HTML/etcsri_Q004950.html\n"
     ]
    },
    {
     "name": "stderr",
     "output_type": "stream",
     "text": [
      "\r",
      " 83%|████████▎ | 1192/1428 [08:50<01:26,  2.73it/s]"
     ]
    },
    {
     "name": "stdout",
     "output_type": "stream",
     "text": [
      "retrieving http://oracc.org/etcsri/Q004951/html\n",
      "saving http://oracc.org/etcsri/Q004951 as HTML/etcsri_Q004951.html\n"
     ]
    },
    {
     "name": "stderr",
     "output_type": "stream",
     "text": [
      "\r",
      " 84%|████████▎ | 1193/1428 [08:51<01:23,  2.80it/s]"
     ]
    },
    {
     "name": "stdout",
     "output_type": "stream",
     "text": [
      "retrieving http://oracc.org/etcsri/X002171/html\n",
      "saving http://oracc.org/etcsri/X002171 as HTML/etcsri_X002171.html\n"
     ]
    },
    {
     "name": "stderr",
     "output_type": "stream",
     "text": [
      "\r",
      " 84%|████████▎ | 1194/1428 [08:51<01:27,  2.68it/s]"
     ]
    },
    {
     "name": "stdout",
     "output_type": "stream",
     "text": [
      "retrieving http://oracc.org/etcsri/X002172/html\n",
      "saving http://oracc.org/etcsri/X002172 as HTML/etcsri_X002172.html\n"
     ]
    },
    {
     "name": "stderr",
     "output_type": "stream",
     "text": [
      "\r",
      " 84%|████████▎ | 1195/1428 [08:52<01:24,  2.76it/s]"
     ]
    },
    {
     "name": "stdout",
     "output_type": "stream",
     "text": [
      "retrieving http://oracc.org/etcsri/Q001005/html\n",
      "saving http://oracc.org/etcsri/Q001005 as HTML/etcsri_Q001005.html\n"
     ]
    },
    {
     "name": "stderr",
     "output_type": "stream",
     "text": [
      "\r",
      " 84%|████████▍ | 1196/1428 [08:52<01:30,  2.55it/s]"
     ]
    },
    {
     "name": "stdout",
     "output_type": "stream",
     "text": [
      "retrieving http://oracc.org/etcsri/Q001849/html\n",
      "saving http://oracc.org/etcsri/Q001849 as HTML/etcsri_Q001849.html\n"
     ]
    },
    {
     "name": "stderr",
     "output_type": "stream",
     "text": [
      "\r",
      " 84%|████████▍ | 1197/1428 [08:53<01:46,  2.16it/s]"
     ]
    },
    {
     "name": "stdout",
     "output_type": "stream",
     "text": [
      "retrieving http://oracc.org/etcsri/Q001851/html\n",
      "saving http://oracc.org/etcsri/Q001851 as HTML/etcsri_Q001851.html\n"
     ]
    },
    {
     "name": "stderr",
     "output_type": "stream",
     "text": [
      "\r",
      " 84%|████████▍ | 1198/1428 [08:53<01:46,  2.17it/s]"
     ]
    },
    {
     "name": "stdout",
     "output_type": "stream",
     "text": [
      "retrieving http://oracc.org/etcsri/Q001852/html\n",
      "saving http://oracc.org/etcsri/Q001852 as HTML/etcsri_Q001852.html\n"
     ]
    },
    {
     "name": "stderr",
     "output_type": "stream",
     "text": [
      "\r",
      " 84%|████████▍ | 1199/1428 [08:54<01:41,  2.26it/s]"
     ]
    },
    {
     "name": "stdout",
     "output_type": "stream",
     "text": [
      "retrieving http://oracc.org/etcsri/Q001853/html\n",
      "saving http://oracc.org/etcsri/Q001853 as HTML/etcsri_Q001853.html\n"
     ]
    },
    {
     "name": "stderr",
     "output_type": "stream",
     "text": [
      "\r",
      " 84%|████████▍ | 1200/1428 [08:54<01:38,  2.32it/s]"
     ]
    },
    {
     "name": "stdout",
     "output_type": "stream",
     "text": [
      "retrieving http://oracc.org/etcsri/Q001854/html\n",
      "saving http://oracc.org/etcsri/Q001854 as HTML/etcsri_Q001854.html\n"
     ]
    },
    {
     "name": "stderr",
     "output_type": "stream",
     "text": [
      "\r",
      " 84%|████████▍ | 1201/1428 [08:54<01:40,  2.27it/s]"
     ]
    },
    {
     "name": "stdout",
     "output_type": "stream",
     "text": [
      "retrieving http://oracc.org/etcsri/Q001855/html\n",
      "saving http://oracc.org/etcsri/Q001855 as HTML/etcsri_Q001855.html\n"
     ]
    },
    {
     "name": "stderr",
     "output_type": "stream",
     "text": [
      "\r",
      " 84%|████████▍ | 1202/1428 [08:55<01:34,  2.39it/s]"
     ]
    },
    {
     "name": "stdout",
     "output_type": "stream",
     "text": [
      "retrieving http://oracc.org/etcsri/Q001856/html\n",
      "saving http://oracc.org/etcsri/Q001856 as HTML/etcsri_Q001856.html\n"
     ]
    },
    {
     "name": "stderr",
     "output_type": "stream",
     "text": [
      "\r",
      " 84%|████████▍ | 1203/1428 [08:55<01:36,  2.33it/s]"
     ]
    },
    {
     "name": "stdout",
     "output_type": "stream",
     "text": [
      "retrieving http://oracc.org/etcsri/Q001857/html\n",
      "saving http://oracc.org/etcsri/Q001857 as HTML/etcsri_Q001857.html\n"
     ]
    },
    {
     "name": "stderr",
     "output_type": "stream",
     "text": [
      "\r",
      " 84%|████████▍ | 1204/1428 [08:56<01:30,  2.49it/s]"
     ]
    },
    {
     "name": "stdout",
     "output_type": "stream",
     "text": [
      "retrieving http://oracc.org/etcsri/Q001858/html\n",
      "saving http://oracc.org/etcsri/Q001858 as HTML/etcsri_Q001858.html\n"
     ]
    },
    {
     "name": "stderr",
     "output_type": "stream",
     "text": [
      "\r",
      " 84%|████████▍ | 1205/1428 [08:56<01:25,  2.62it/s]"
     ]
    },
    {
     "name": "stdout",
     "output_type": "stream",
     "text": [
      "retrieving http://oracc.org/etcsri/Q001859/html\n",
      "saving http://oracc.org/etcsri/Q001859 as HTML/etcsri_Q001859.html\n"
     ]
    },
    {
     "name": "stderr",
     "output_type": "stream",
     "text": [
      "\r",
      " 84%|████████▍ | 1206/1428 [08:56<01:22,  2.71it/s]"
     ]
    },
    {
     "name": "stdout",
     "output_type": "stream",
     "text": [
      "retrieving http://oracc.org/etcsri/Q001860/html\n",
      "saving http://oracc.org/etcsri/Q001860 as HTML/etcsri_Q001860.html\n"
     ]
    },
    {
     "name": "stderr",
     "output_type": "stream",
     "text": [
      "\r",
      " 85%|████████▍ | 1207/1428 [08:57<01:20,  2.75it/s]"
     ]
    },
    {
     "name": "stdout",
     "output_type": "stream",
     "text": [
      "retrieving http://oracc.org/etcsri/Q001006/html\n",
      "saving http://oracc.org/etcsri/Q001006 as HTML/etcsri_Q001006.html\n"
     ]
    },
    {
     "name": "stderr",
     "output_type": "stream",
     "text": [
      "\r",
      " 85%|████████▍ | 1208/1428 [08:57<01:19,  2.78it/s]"
     ]
    },
    {
     "name": "stdout",
     "output_type": "stream",
     "text": [
      "retrieving http://oracc.org/etcsri/Q001861/html\n",
      "saving http://oracc.org/etcsri/Q001861 as HTML/etcsri_Q001861.html\n"
     ]
    },
    {
     "name": "stderr",
     "output_type": "stream",
     "text": [
      "\r",
      " 85%|████████▍ | 1209/1428 [08:57<01:17,  2.84it/s]"
     ]
    },
    {
     "name": "stdout",
     "output_type": "stream",
     "text": [
      "retrieving http://oracc.org/etcsri/Q001862/html\n",
      "saving http://oracc.org/etcsri/Q001862 as HTML/etcsri_Q001862.html\n"
     ]
    },
    {
     "name": "stderr",
     "output_type": "stream",
     "text": [
      "\r",
      " 85%|████████▍ | 1210/1428 [08:58<01:17,  2.82it/s]"
     ]
    },
    {
     "name": "stdout",
     "output_type": "stream",
     "text": [
      "retrieving http://oracc.org/etcsri/Q001863/html\n",
      "saving http://oracc.org/etcsri/Q001863 as HTML/etcsri_Q001863.html\n"
     ]
    },
    {
     "name": "stderr",
     "output_type": "stream",
     "text": [
      "\r",
      " 85%|████████▍ | 1211/1428 [08:58<01:18,  2.77it/s]"
     ]
    },
    {
     "name": "stdout",
     "output_type": "stream",
     "text": [
      "retrieving http://oracc.org/etcsri/Q001864/html\n",
      "saving http://oracc.org/etcsri/Q001864 as HTML/etcsri_Q001864.html\n"
     ]
    },
    {
     "name": "stderr",
     "output_type": "stream",
     "text": [
      "\r",
      " 85%|████████▍ | 1212/1428 [08:58<01:18,  2.74it/s]"
     ]
    },
    {
     "name": "stdout",
     "output_type": "stream",
     "text": [
      "retrieving http://oracc.org/etcsri/Q001865/html\n",
      "saving http://oracc.org/etcsri/Q001865 as HTML/etcsri_Q001865.html\n"
     ]
    },
    {
     "name": "stderr",
     "output_type": "stream",
     "text": [
      "\r",
      " 85%|████████▍ | 1213/1428 [08:59<01:24,  2.56it/s]"
     ]
    },
    {
     "name": "stdout",
     "output_type": "stream",
     "text": [
      "retrieving http://oracc.org/etcsri/Q001866/html\n",
      "saving http://oracc.org/etcsri/Q001866 as HTML/etcsri_Q001866.html\n"
     ]
    },
    {
     "name": "stderr",
     "output_type": "stream",
     "text": [
      "\r",
      " 85%|████████▌ | 1214/1428 [08:59<01:21,  2.62it/s]"
     ]
    },
    {
     "name": "stdout",
     "output_type": "stream",
     "text": [
      "retrieving http://oracc.org/etcsri/Q001867/html\n",
      "saving http://oracc.org/etcsri/Q001867 as HTML/etcsri_Q001867.html\n"
     ]
    },
    {
     "name": "stderr",
     "output_type": "stream",
     "text": [
      "\r",
      " 85%|████████▌ | 1215/1428 [08:59<01:18,  2.73it/s]"
     ]
    },
    {
     "name": "stdout",
     "output_type": "stream",
     "text": [
      "retrieving http://oracc.org/etcsri/Q001868/html\n",
      "saving http://oracc.org/etcsri/Q001868 as HTML/etcsri_Q001868.html\n"
     ]
    },
    {
     "name": "stderr",
     "output_type": "stream",
     "text": [
      "\r",
      " 85%|████████▌ | 1216/1428 [09:00<01:16,  2.78it/s]"
     ]
    },
    {
     "name": "stdout",
     "output_type": "stream",
     "text": [
      "retrieving http://oracc.org/etcsri/Q001869/html\n",
      "saving http://oracc.org/etcsri/Q001869 as HTML/etcsri_Q001869.html\n"
     ]
    },
    {
     "name": "stderr",
     "output_type": "stream",
     "text": [
      "\r",
      " 85%|████████▌ | 1217/1428 [09:00<01:20,  2.61it/s]"
     ]
    },
    {
     "name": "stdout",
     "output_type": "stream",
     "text": [
      "retrieving http://oracc.org/etcsri/Q001870/html\n",
      "saving http://oracc.org/etcsri/Q001870 as HTML/etcsri_Q001870.html\n"
     ]
    },
    {
     "name": "stderr",
     "output_type": "stream",
     "text": [
      "\r",
      " 85%|████████▌ | 1218/1428 [09:01<01:18,  2.67it/s]"
     ]
    },
    {
     "name": "stdout",
     "output_type": "stream",
     "text": [
      "retrieving http://oracc.org/etcsri/Q001871/html\n",
      "saving http://oracc.org/etcsri/Q001871 as HTML/etcsri_Q001871.html\n"
     ]
    },
    {
     "name": "stderr",
     "output_type": "stream",
     "text": [
      "\r",
      " 85%|████████▌ | 1219/1428 [09:01<01:18,  2.68it/s]"
     ]
    },
    {
     "name": "stdout",
     "output_type": "stream",
     "text": [
      "retrieving http://oracc.org/etcsri/Q004952/html\n",
      "saving http://oracc.org/etcsri/Q004952 as HTML/etcsri_Q004952.html\n"
     ]
    },
    {
     "name": "stderr",
     "output_type": "stream",
     "text": [
      "\r",
      " 85%|████████▌ | 1220/1428 [09:02<01:26,  2.41it/s]"
     ]
    },
    {
     "name": "stdout",
     "output_type": "stream",
     "text": [
      "retrieving http://oracc.org/etcsri/Q004953/html\n",
      "saving http://oracc.org/etcsri/Q004953 as HTML/etcsri_Q004953.html\n"
     ]
    },
    {
     "name": "stderr",
     "output_type": "stream",
     "text": [
      "\r",
      " 86%|████████▌ | 1221/1428 [09:02<01:23,  2.48it/s]"
     ]
    },
    {
     "name": "stdout",
     "output_type": "stream",
     "text": [
      "retrieving http://oracc.org/etcsri/Q004954/html\n",
      "saving http://oracc.org/etcsri/Q004954 as HTML/etcsri_Q004954.html\n"
     ]
    },
    {
     "name": "stderr",
     "output_type": "stream",
     "text": [
      "\r",
      " 86%|████████▌ | 1222/1428 [09:02<01:19,  2.60it/s]"
     ]
    },
    {
     "name": "stdout",
     "output_type": "stream",
     "text": [
      "retrieving http://oracc.org/etcsri/Q004955/html\n",
      "saving http://oracc.org/etcsri/Q004955 as HTML/etcsri_Q004955.html\n"
     ]
    },
    {
     "name": "stderr",
     "output_type": "stream",
     "text": [
      "\r",
      " 86%|████████▌ | 1223/1428 [09:03<01:15,  2.71it/s]"
     ]
    },
    {
     "name": "stdout",
     "output_type": "stream",
     "text": [
      "retrieving http://oracc.org/etcsri/Q004956/html\n",
      "saving http://oracc.org/etcsri/Q004956 as HTML/etcsri_Q004956.html\n"
     ]
    },
    {
     "name": "stderr",
     "output_type": "stream",
     "text": [
      "\r",
      " 86%|████████▌ | 1224/1428 [09:03<01:17,  2.63it/s]"
     ]
    },
    {
     "name": "stdout",
     "output_type": "stream",
     "text": [
      "retrieving http://oracc.org/etcsri/Q004957/html\n",
      "saving http://oracc.org/etcsri/Q004957 as HTML/etcsri_Q004957.html\n"
     ]
    },
    {
     "name": "stderr",
     "output_type": "stream",
     "text": [
      "\r",
      " 86%|████████▌ | 1225/1428 [09:03<01:18,  2.58it/s]"
     ]
    },
    {
     "name": "stdout",
     "output_type": "stream",
     "text": [
      "retrieving http://oracc.org/etcsri/Q004958/html\n",
      "saving http://oracc.org/etcsri/Q004958 as HTML/etcsri_Q004958.html\n"
     ]
    },
    {
     "name": "stderr",
     "output_type": "stream",
     "text": [
      "\r",
      " 86%|████████▌ | 1226/1428 [09:04<01:18,  2.58it/s]"
     ]
    },
    {
     "name": "stdout",
     "output_type": "stream",
     "text": [
      "retrieving http://oracc.org/etcsri/Q004959/html\n",
      "saving http://oracc.org/etcsri/Q004959 as HTML/etcsri_Q004959.html\n"
     ]
    },
    {
     "name": "stderr",
     "output_type": "stream",
     "text": [
      "\r",
      " 86%|████████▌ | 1227/1428 [09:04<01:15,  2.65it/s]"
     ]
    },
    {
     "name": "stdout",
     "output_type": "stream",
     "text": [
      "retrieving http://oracc.org/etcsri/Q004960/html\n",
      "saving http://oracc.org/etcsri/Q004960 as HTML/etcsri_Q004960.html\n"
     ]
    },
    {
     "name": "stderr",
     "output_type": "stream",
     "text": [
      "\r",
      " 86%|████████▌ | 1228/1428 [09:04<01:14,  2.69it/s]"
     ]
    },
    {
     "name": "stdout",
     "output_type": "stream",
     "text": [
      "retrieving http://oracc.org/etcsri/Q004961/html\n",
      "saving http://oracc.org/etcsri/Q004961 as HTML/etcsri_Q004961.html\n"
     ]
    },
    {
     "name": "stderr",
     "output_type": "stream",
     "text": [
      "\r",
      " 86%|████████▌ | 1229/1428 [09:05<01:20,  2.46it/s]"
     ]
    },
    {
     "name": "stdout",
     "output_type": "stream",
     "text": [
      "retrieving http://oracc.org/etcsri/Q004962/html\n",
      "saving http://oracc.org/etcsri/Q004962 as HTML/etcsri_Q004962.html\n"
     ]
    },
    {
     "name": "stderr",
     "output_type": "stream",
     "text": [
      "\r",
      " 86%|████████▌ | 1230/1428 [09:05<01:20,  2.47it/s]"
     ]
    },
    {
     "name": "stdout",
     "output_type": "stream",
     "text": [
      "retrieving http://oracc.org/etcsri/Q004963/html\n",
      "saving http://oracc.org/etcsri/Q004963 as HTML/etcsri_Q004963.html\n"
     ]
    },
    {
     "name": "stderr",
     "output_type": "stream",
     "text": [
      "\r",
      " 86%|████████▌ | 1231/1428 [09:06<01:14,  2.64it/s]"
     ]
    },
    {
     "name": "stdout",
     "output_type": "stream",
     "text": [
      "retrieving http://oracc.org/etcsri/Q004964/html\n",
      "saving http://oracc.org/etcsri/Q004964 as HTML/etcsri_Q004964.html\n"
     ]
    },
    {
     "name": "stderr",
     "output_type": "stream",
     "text": [
      "\r",
      " 86%|████████▋ | 1232/1428 [09:06<01:12,  2.72it/s]"
     ]
    },
    {
     "name": "stdout",
     "output_type": "stream",
     "text": [
      "retrieving http://oracc.org/etcsri/Q004965/html\n",
      "saving http://oracc.org/etcsri/Q004965 as HTML/etcsri_Q004965.html\n"
     ]
    },
    {
     "name": "stderr",
     "output_type": "stream",
     "text": [
      "\r",
      " 86%|████████▋ | 1233/1428 [09:06<01:11,  2.73it/s]"
     ]
    },
    {
     "name": "stdout",
     "output_type": "stream",
     "text": [
      "retrieving http://oracc.org/etcsri/Q004966/html\n",
      "saving http://oracc.org/etcsri/Q004966 as HTML/etcsri_Q004966.html\n"
     ]
    },
    {
     "name": "stderr",
     "output_type": "stream",
     "text": [
      "\r",
      " 86%|████████▋ | 1234/1428 [09:07<01:11,  2.73it/s]"
     ]
    },
    {
     "name": "stdout",
     "output_type": "stream",
     "text": [
      "retrieving http://oracc.org/etcsri/Q004967/html\n",
      "saving http://oracc.org/etcsri/Q004967 as HTML/etcsri_Q004967.html\n"
     ]
    },
    {
     "name": "stderr",
     "output_type": "stream",
     "text": [
      "\r",
      " 86%|████████▋ | 1235/1428 [09:07<01:09,  2.80it/s]"
     ]
    },
    {
     "name": "stdout",
     "output_type": "stream",
     "text": [
      "retrieving http://oracc.org/etcsri/Q004968/html\n",
      "saving http://oracc.org/etcsri/Q004968 as HTML/etcsri_Q004968.html\n"
     ]
    },
    {
     "name": "stderr",
     "output_type": "stream",
     "text": [
      "\r",
      " 87%|████████▋ | 1236/1428 [09:07<01:07,  2.85it/s]"
     ]
    },
    {
     "name": "stdout",
     "output_type": "stream",
     "text": [
      "retrieving http://oracc.org/etcsri/Q004969/html\n",
      "saving http://oracc.org/etcsri/Q004969 as HTML/etcsri_Q004969.html\n"
     ]
    },
    {
     "name": "stderr",
     "output_type": "stream",
     "text": [
      "\r",
      " 87%|████████▋ | 1237/1428 [09:08<01:13,  2.60it/s]"
     ]
    },
    {
     "name": "stdout",
     "output_type": "stream",
     "text": [
      "retrieving http://oracc.org/etcsri/Q004970/html\n",
      "saving http://oracc.org/etcsri/Q004970 as HTML/etcsri_Q004970.html\n"
     ]
    },
    {
     "name": "stderr",
     "output_type": "stream",
     "text": [
      "\r",
      " 87%|████████▋ | 1238/1428 [09:08<01:09,  2.74it/s]"
     ]
    },
    {
     "name": "stdout",
     "output_type": "stream",
     "text": [
      "retrieving http://oracc.org/etcsri/Q004971/html\n",
      "saving http://oracc.org/etcsri/Q004971 as HTML/etcsri_Q004971.html\n"
     ]
    },
    {
     "name": "stderr",
     "output_type": "stream",
     "text": [
      "\r",
      " 87%|████████▋ | 1239/1428 [09:09<01:08,  2.76it/s]"
     ]
    },
    {
     "name": "stdout",
     "output_type": "stream",
     "text": [
      "retrieving http://oracc.org/etcsri/Q004972/html\n",
      "saving http://oracc.org/etcsri/Q004972 as HTML/etcsri_Q004972.html\n"
     ]
    },
    {
     "name": "stderr",
     "output_type": "stream",
     "text": [
      "\r",
      " 87%|████████▋ | 1240/1428 [09:09<01:13,  2.54it/s]"
     ]
    },
    {
     "name": "stdout",
     "output_type": "stream",
     "text": [
      "retrieving http://oracc.org/etcsri/Q004973/html\n",
      "saving http://oracc.org/etcsri/Q004973 as HTML/etcsri_Q004973.html\n"
     ]
    },
    {
     "name": "stderr",
     "output_type": "stream",
     "text": [
      "\r",
      " 87%|████████▋ | 1241/1428 [09:09<01:12,  2.60it/s]"
     ]
    },
    {
     "name": "stdout",
     "output_type": "stream",
     "text": [
      "retrieving http://oracc.org/etcsri/Q004974/html\n",
      "saving http://oracc.org/etcsri/Q004974 as HTML/etcsri_Q004974.html\n"
     ]
    },
    {
     "name": "stderr",
     "output_type": "stream",
     "text": [
      "\r",
      " 87%|████████▋ | 1242/1428 [09:10<01:15,  2.47it/s]"
     ]
    },
    {
     "name": "stdout",
     "output_type": "stream",
     "text": [
      "retrieving http://oracc.org/etcsri/Q004975/html\n",
      "saving http://oracc.org/etcsri/Q004975 as HTML/etcsri_Q004975.html\n"
     ]
    },
    {
     "name": "stderr",
     "output_type": "stream",
     "text": [
      "\r",
      " 87%|████████▋ | 1243/1428 [09:10<01:14,  2.48it/s]"
     ]
    },
    {
     "name": "stdout",
     "output_type": "stream",
     "text": [
      "retrieving http://oracc.org/etcsri/Q004976/html\n",
      "saving http://oracc.org/etcsri/Q004976 as HTML/etcsri_Q004976.html\n"
     ]
    },
    {
     "name": "stderr",
     "output_type": "stream",
     "text": [
      "\r",
      " 87%|████████▋ | 1244/1428 [09:11<01:09,  2.63it/s]"
     ]
    },
    {
     "name": "stdout",
     "output_type": "stream",
     "text": [
      "retrieving http://oracc.org/etcsri/Q004977/html\n",
      "saving http://oracc.org/etcsri/Q004977 as HTML/etcsri_Q004977.html\n"
     ]
    },
    {
     "name": "stderr",
     "output_type": "stream",
     "text": [
      "\r",
      " 87%|████████▋ | 1245/1428 [09:11<01:06,  2.73it/s]"
     ]
    },
    {
     "name": "stdout",
     "output_type": "stream",
     "text": [
      "retrieving http://oracc.org/etcsri/Q004978/html\n",
      "saving http://oracc.org/etcsri/Q004978 as HTML/etcsri_Q004978.html\n"
     ]
    },
    {
     "name": "stderr",
     "output_type": "stream",
     "text": [
      "\r",
      " 87%|████████▋ | 1246/1428 [09:11<01:12,  2.52it/s]"
     ]
    },
    {
     "name": "stdout",
     "output_type": "stream",
     "text": [
      "retrieving http://oracc.org/etcsri/Q004979/html\n",
      "saving http://oracc.org/etcsri/Q004979 as HTML/etcsri_Q004979.html\n"
     ]
    },
    {
     "name": "stderr",
     "output_type": "stream",
     "text": [
      "\r",
      " 87%|████████▋ | 1247/1428 [09:12<01:07,  2.67it/s]"
     ]
    },
    {
     "name": "stdout",
     "output_type": "stream",
     "text": [
      "retrieving http://oracc.org/etcsri/Q004980/html\n",
      "saving http://oracc.org/etcsri/Q004980 as HTML/etcsri_Q004980.html\n"
     ]
    },
    {
     "name": "stderr",
     "output_type": "stream",
     "text": [
      "\r",
      " 87%|████████▋ | 1248/1428 [09:12<01:11,  2.51it/s]"
     ]
    },
    {
     "name": "stdout",
     "output_type": "stream",
     "text": [
      "retrieving http://oracc.org/etcsri/Q004981/html\n",
      "saving http://oracc.org/etcsri/Q004981 as HTML/etcsri_Q004981.html\n"
     ]
    },
    {
     "name": "stderr",
     "output_type": "stream",
     "text": [
      "\r",
      " 87%|████████▋ | 1249/1428 [09:13<01:12,  2.46it/s]"
     ]
    },
    {
     "name": "stdout",
     "output_type": "stream",
     "text": [
      "retrieving http://oracc.org/etcsri/Q004982/html\n",
      "saving http://oracc.org/etcsri/Q004982 as HTML/etcsri_Q004982.html\n"
     ]
    },
    {
     "name": "stderr",
     "output_type": "stream",
     "text": [
      "\r",
      " 88%|████████▊ | 1250/1428 [09:13<01:08,  2.59it/s]"
     ]
    },
    {
     "name": "stdout",
     "output_type": "stream",
     "text": [
      "retrieving http://oracc.org/etcsri/Q004983/html\n",
      "saving http://oracc.org/etcsri/Q004983 as HTML/etcsri_Q004983.html\n"
     ]
    },
    {
     "name": "stderr",
     "output_type": "stream",
     "text": [
      "\r",
      " 88%|████████▊ | 1251/1428 [09:13<01:07,  2.60it/s]"
     ]
    },
    {
     "name": "stdout",
     "output_type": "stream",
     "text": [
      "retrieving http://oracc.org/etcsri/Q004984/html\n",
      "saving http://oracc.org/etcsri/Q004984 as HTML/etcsri_Q004984.html\n"
     ]
    },
    {
     "name": "stderr",
     "output_type": "stream",
     "text": [
      "\r",
      " 88%|████████▊ | 1252/1428 [09:14<01:08,  2.57it/s]"
     ]
    },
    {
     "name": "stdout",
     "output_type": "stream",
     "text": [
      "retrieving http://oracc.org/etcsri/Q004985/html\n",
      "saving http://oracc.org/etcsri/Q004985 as HTML/etcsri_Q004985.html\n"
     ]
    },
    {
     "name": "stderr",
     "output_type": "stream",
     "text": [
      "\r",
      " 88%|████████▊ | 1253/1428 [09:14<01:06,  2.61it/s]"
     ]
    },
    {
     "name": "stdout",
     "output_type": "stream",
     "text": [
      "retrieving http://oracc.org/etcsri/Q004986/html\n",
      "saving http://oracc.org/etcsri/Q004986 as HTML/etcsri_Q004986.html\n"
     ]
    },
    {
     "name": "stderr",
     "output_type": "stream",
     "text": [
      "\r",
      " 88%|████████▊ | 1254/1428 [09:14<01:04,  2.71it/s]"
     ]
    },
    {
     "name": "stdout",
     "output_type": "stream",
     "text": [
      "retrieving http://oracc.org/etcsri/Q004987/html\n",
      "saving http://oracc.org/etcsri/Q004987 as HTML/etcsri_Q004987.html\n"
     ]
    },
    {
     "name": "stderr",
     "output_type": "stream",
     "text": [
      "\r",
      " 88%|████████▊ | 1255/1428 [09:15<01:02,  2.76it/s]"
     ]
    },
    {
     "name": "stdout",
     "output_type": "stream",
     "text": [
      "retrieving http://oracc.org/etcsri/Q004988/html\n",
      "saving http://oracc.org/etcsri/Q004988 as HTML/etcsri_Q004988.html\n"
     ]
    },
    {
     "name": "stderr",
     "output_type": "stream",
     "text": [
      "\r",
      " 88%|████████▊ | 1256/1428 [09:15<01:05,  2.64it/s]"
     ]
    },
    {
     "name": "stdout",
     "output_type": "stream",
     "text": [
      "retrieving http://oracc.org/etcsri/Q004989/html\n",
      "saving http://oracc.org/etcsri/Q004989 as HTML/etcsri_Q004989.html\n"
     ]
    },
    {
     "name": "stderr",
     "output_type": "stream",
     "text": [
      "\r",
      " 88%|████████▊ | 1257/1428 [09:16<01:10,  2.43it/s]"
     ]
    },
    {
     "name": "stdout",
     "output_type": "stream",
     "text": [
      "retrieving http://oracc.org/etcsri/Q004990/html\n",
      "saving http://oracc.org/etcsri/Q004990 as HTML/etcsri_Q004990.html\n"
     ]
    },
    {
     "name": "stderr",
     "output_type": "stream",
     "text": [
      "\r",
      " 88%|████████▊ | 1258/1428 [09:16<01:12,  2.34it/s]"
     ]
    },
    {
     "name": "stdout",
     "output_type": "stream",
     "text": [
      "retrieving http://oracc.org/etcsri/Q004991/html\n",
      "saving http://oracc.org/etcsri/Q004991 as HTML/etcsri_Q004991.html\n"
     ]
    },
    {
     "name": "stderr",
     "output_type": "stream",
     "text": [
      "\r",
      " 88%|████████▊ | 1259/1428 [09:17<01:11,  2.37it/s]"
     ]
    },
    {
     "name": "stdout",
     "output_type": "stream",
     "text": [
      "retrieving http://oracc.org/etcsri/Q004992/html\n",
      "saving http://oracc.org/etcsri/Q004992 as HTML/etcsri_Q004992.html\n"
     ]
    },
    {
     "name": "stderr",
     "output_type": "stream",
     "text": [
      "\r",
      " 88%|████████▊ | 1260/1428 [09:17<01:09,  2.42it/s]"
     ]
    },
    {
     "name": "stdout",
     "output_type": "stream",
     "text": [
      "retrieving http://oracc.org/etcsri/Q004993/html\n",
      "saving http://oracc.org/etcsri/Q004993 as HTML/etcsri_Q004993.html\n"
     ]
    },
    {
     "name": "stderr",
     "output_type": "stream",
     "text": [
      "\r",
      " 88%|████████▊ | 1261/1428 [09:17<01:05,  2.56it/s]"
     ]
    },
    {
     "name": "stdout",
     "output_type": "stream",
     "text": [
      "retrieving http://oracc.org/etcsri/Q004994/html\n",
      "saving http://oracc.org/etcsri/Q004994 as HTML/etcsri_Q004994.html\n"
     ]
    },
    {
     "name": "stderr",
     "output_type": "stream",
     "text": [
      "\r",
      " 88%|████████▊ | 1262/1428 [09:18<01:02,  2.68it/s]"
     ]
    },
    {
     "name": "stdout",
     "output_type": "stream",
     "text": [
      "retrieving http://oracc.org/etcsri/Q004995/html\n",
      "saving http://oracc.org/etcsri/Q004995 as HTML/etcsri_Q004995.html\n"
     ]
    },
    {
     "name": "stderr",
     "output_type": "stream",
     "text": [
      "\r",
      " 88%|████████▊ | 1263/1428 [09:18<00:59,  2.76it/s]"
     ]
    },
    {
     "name": "stdout",
     "output_type": "stream",
     "text": [
      "retrieving http://oracc.org/etcsri/Q004996/html\n",
      "saving http://oracc.org/etcsri/Q004996 as HTML/etcsri_Q004996.html\n"
     ]
    },
    {
     "name": "stderr",
     "output_type": "stream",
     "text": [
      "\r",
      " 89%|████████▊ | 1264/1428 [09:18<00:58,  2.80it/s]"
     ]
    },
    {
     "name": "stdout",
     "output_type": "stream",
     "text": [
      "retrieving http://oracc.org/etcsri/Q004997/html\n",
      "saving http://oracc.org/etcsri/Q004997 as HTML/etcsri_Q004997.html\n"
     ]
    },
    {
     "name": "stderr",
     "output_type": "stream",
     "text": [
      "\r",
      " 89%|████████▊ | 1265/1428 [09:19<00:58,  2.78it/s]"
     ]
    },
    {
     "name": "stdout",
     "output_type": "stream",
     "text": [
      "retrieving http://oracc.org/etcsri/Q004998/html\n",
      "saving http://oracc.org/etcsri/Q004998 as HTML/etcsri_Q004998.html\n"
     ]
    },
    {
     "name": "stderr",
     "output_type": "stream",
     "text": [
      "\r",
      " 89%|████████▊ | 1266/1428 [09:19<01:03,  2.55it/s]"
     ]
    },
    {
     "name": "stdout",
     "output_type": "stream",
     "text": [
      "retrieving http://oracc.org/etcsri/Q004999/html\n",
      "saving http://oracc.org/etcsri/Q004999 as HTML/etcsri_Q004999.html\n"
     ]
    },
    {
     "name": "stderr",
     "output_type": "stream",
     "text": [
      "\r",
      " 89%|████████▊ | 1267/1428 [09:19<01:02,  2.59it/s]"
     ]
    },
    {
     "name": "stdout",
     "output_type": "stream",
     "text": [
      "retrieving http://oracc.org/etcsri/Q005000/html\n",
      "saving http://oracc.org/etcsri/Q005000 as HTML/etcsri_Q005000.html\n"
     ]
    },
    {
     "name": "stderr",
     "output_type": "stream",
     "text": [
      "\r",
      " 89%|████████▉ | 1268/1428 [09:20<01:02,  2.54it/s]"
     ]
    },
    {
     "name": "stdout",
     "output_type": "stream",
     "text": [
      "retrieving http://oracc.org/etcsri/Q005001/html\n",
      "saving http://oracc.org/etcsri/Q005001 as HTML/etcsri_Q005001.html\n"
     ]
    },
    {
     "name": "stderr",
     "output_type": "stream",
     "text": [
      "\r",
      " 89%|████████▉ | 1269/1428 [09:20<00:58,  2.70it/s]"
     ]
    },
    {
     "name": "stdout",
     "output_type": "stream",
     "text": [
      "retrieving http://oracc.org/etcsri/Q005002/html\n",
      "saving http://oracc.org/etcsri/Q005002 as HTML/etcsri_Q005002.html\n"
     ]
    },
    {
     "name": "stderr",
     "output_type": "stream",
     "text": [
      "\r",
      " 89%|████████▉ | 1270/1428 [09:21<01:02,  2.51it/s]"
     ]
    },
    {
     "name": "stdout",
     "output_type": "stream",
     "text": [
      "retrieving http://oracc.org/etcsri/Q005003/html\n",
      "saving http://oracc.org/etcsri/Q005003 as HTML/etcsri_Q005003.html\n"
     ]
    },
    {
     "name": "stderr",
     "output_type": "stream",
     "text": [
      "\r",
      " 89%|████████▉ | 1271/1428 [09:21<01:03,  2.47it/s]"
     ]
    },
    {
     "name": "stdout",
     "output_type": "stream",
     "text": [
      "retrieving http://oracc.org/etcsri/Q005004/html\n",
      "saving http://oracc.org/etcsri/Q005004 as HTML/etcsri_Q005004.html\n"
     ]
    },
    {
     "name": "stderr",
     "output_type": "stream",
     "text": [
      "\r",
      " 89%|████████▉ | 1272/1428 [09:22<01:06,  2.34it/s]"
     ]
    },
    {
     "name": "stdout",
     "output_type": "stream",
     "text": [
      "retrieving http://oracc.org/etcsri/Q005005/html\n",
      "saving http://oracc.org/etcsri/Q005005 as HTML/etcsri_Q005005.html\n"
     ]
    },
    {
     "name": "stderr",
     "output_type": "stream",
     "text": [
      "\r",
      " 89%|████████▉ | 1273/1428 [09:22<01:01,  2.51it/s]"
     ]
    },
    {
     "name": "stdout",
     "output_type": "stream",
     "text": [
      "retrieving http://oracc.org/etcsri/Q005006/html\n",
      "saving http://oracc.org/etcsri/Q005006 as HTML/etcsri_Q005006.html\n"
     ]
    },
    {
     "name": "stderr",
     "output_type": "stream",
     "text": [
      "\r",
      " 89%|████████▉ | 1274/1428 [09:22<01:02,  2.47it/s]"
     ]
    },
    {
     "name": "stdout",
     "output_type": "stream",
     "text": [
      "retrieving http://oracc.org/etcsri/Q005007/html\n",
      "saving http://oracc.org/etcsri/Q005007 as HTML/etcsri_Q005007.html\n"
     ]
    },
    {
     "name": "stderr",
     "output_type": "stream",
     "text": [
      "\r",
      " 89%|████████▉ | 1275/1428 [09:23<01:05,  2.34it/s]"
     ]
    },
    {
     "name": "stdout",
     "output_type": "stream",
     "text": [
      "retrieving http://oracc.org/etcsri/Q005008/html\n",
      "saving http://oracc.org/etcsri/Q005008 as HTML/etcsri_Q005008.html\n"
     ]
    },
    {
     "name": "stderr",
     "output_type": "stream",
     "text": [
      "\r",
      " 89%|████████▉ | 1276/1428 [09:23<01:02,  2.42it/s]"
     ]
    },
    {
     "name": "stdout",
     "output_type": "stream",
     "text": [
      "retrieving http://oracc.org/etcsri/Q005009/html\n",
      "saving http://oracc.org/etcsri/Q005009 as HTML/etcsri_Q005009.html\n"
     ]
    },
    {
     "name": "stderr",
     "output_type": "stream",
     "text": [
      "\r",
      " 89%|████████▉ | 1277/1428 [09:24<01:02,  2.43it/s]"
     ]
    },
    {
     "name": "stdout",
     "output_type": "stream",
     "text": [
      "retrieving http://oracc.org/etcsri/Q005010/html\n",
      "saving http://oracc.org/etcsri/Q005010 as HTML/etcsri_Q005010.html\n"
     ]
    },
    {
     "name": "stderr",
     "output_type": "stream",
     "text": [
      "\r",
      " 89%|████████▉ | 1278/1428 [09:24<00:58,  2.58it/s]"
     ]
    },
    {
     "name": "stdout",
     "output_type": "stream",
     "text": [
      "retrieving http://oracc.org/etcsri/Q005011/html\n",
      "saving http://oracc.org/etcsri/Q005011 as HTML/etcsri_Q005011.html\n"
     ]
    },
    {
     "name": "stderr",
     "output_type": "stream",
     "text": [
      "\r",
      " 90%|████████▉ | 1279/1428 [09:24<00:58,  2.54it/s]"
     ]
    },
    {
     "name": "stdout",
     "output_type": "stream",
     "text": [
      "retrieving http://oracc.org/etcsri/Q005012/html\n",
      "saving http://oracc.org/etcsri/Q005012 as HTML/etcsri_Q005012.html\n"
     ]
    },
    {
     "name": "stderr",
     "output_type": "stream",
     "text": [
      "\r",
      " 90%|████████▉ | 1280/1428 [09:25<00:58,  2.53it/s]"
     ]
    },
    {
     "name": "stdout",
     "output_type": "stream",
     "text": [
      "retrieving http://oracc.org/etcsri/Q005013/html\n",
      "saving http://oracc.org/etcsri/Q005013 as HTML/etcsri_Q005013.html\n"
     ]
    },
    {
     "name": "stderr",
     "output_type": "stream",
     "text": [
      "\r",
      " 90%|████████▉ | 1281/1428 [09:25<00:55,  2.63it/s]"
     ]
    },
    {
     "name": "stdout",
     "output_type": "stream",
     "text": [
      "retrieving http://oracc.org/etcsri/Q005014/html\n",
      "saving http://oracc.org/etcsri/Q005014 as HTML/etcsri_Q005014.html\n"
     ]
    },
    {
     "name": "stderr",
     "output_type": "stream",
     "text": [
      "\r",
      " 90%|████████▉ | 1282/1428 [09:25<00:54,  2.70it/s]"
     ]
    },
    {
     "name": "stdout",
     "output_type": "stream",
     "text": [
      "retrieving http://oracc.org/etcsri/Q005015/html\n",
      "saving http://oracc.org/etcsri/Q005015 as HTML/etcsri_Q005015.html\n"
     ]
    },
    {
     "name": "stderr",
     "output_type": "stream",
     "text": [
      "\r",
      " 90%|████████▉ | 1283/1428 [09:26<00:53,  2.72it/s]"
     ]
    },
    {
     "name": "stdout",
     "output_type": "stream",
     "text": [
      "retrieving http://oracc.org/etcsri/Q005016/html\n",
      "saving http://oracc.org/etcsri/Q005016 as HTML/etcsri_Q005016.html\n"
     ]
    },
    {
     "name": "stderr",
     "output_type": "stream",
     "text": [
      "\r",
      " 90%|████████▉ | 1284/1428 [09:26<00:55,  2.59it/s]"
     ]
    },
    {
     "name": "stdout",
     "output_type": "stream",
     "text": [
      "retrieving http://oracc.org/etcsri/Q005017/html\n",
      "saving http://oracc.org/etcsri/Q005017 as HTML/etcsri_Q005017.html\n"
     ]
    },
    {
     "name": "stderr",
     "output_type": "stream",
     "text": [
      "\r",
      " 90%|████████▉ | 1285/1428 [09:27<00:57,  2.48it/s]"
     ]
    },
    {
     "name": "stdout",
     "output_type": "stream",
     "text": [
      "retrieving http://oracc.org/etcsri/Q005018/html\n",
      "saving http://oracc.org/etcsri/Q005018 as HTML/etcsri_Q005018.html\n"
     ]
    },
    {
     "name": "stderr",
     "output_type": "stream",
     "text": [
      "\r",
      " 90%|█████████ | 1286/1428 [09:27<00:54,  2.60it/s]"
     ]
    },
    {
     "name": "stdout",
     "output_type": "stream",
     "text": [
      "retrieving http://oracc.org/etcsri/Q005019/html\n",
      "saving http://oracc.org/etcsri/Q005019 as HTML/etcsri_Q005019.html\n"
     ]
    },
    {
     "name": "stderr",
     "output_type": "stream",
     "text": [
      "\r",
      " 90%|█████████ | 1287/1428 [09:27<00:54,  2.57it/s]"
     ]
    },
    {
     "name": "stdout",
     "output_type": "stream",
     "text": [
      "retrieving http://oracc.org/etcsri/Q005020/html\n",
      "saving http://oracc.org/etcsri/Q005020 as HTML/etcsri_Q005020.html\n"
     ]
    },
    {
     "name": "stderr",
     "output_type": "stream",
     "text": [
      "\r",
      " 90%|█████████ | 1288/1428 [09:28<00:52,  2.69it/s]"
     ]
    },
    {
     "name": "stdout",
     "output_type": "stream",
     "text": [
      "retrieving http://oracc.org/etcsri/Q005021/html\n",
      "saving http://oracc.org/etcsri/Q005021 as HTML/etcsri_Q005021.html\n"
     ]
    },
    {
     "name": "stderr",
     "output_type": "stream",
     "text": [
      "\r",
      " 90%|█████████ | 1289/1428 [09:28<00:52,  2.67it/s]"
     ]
    },
    {
     "name": "stdout",
     "output_type": "stream",
     "text": [
      "retrieving http://oracc.org/etcsri/Q005022/html\n",
      "saving http://oracc.org/etcsri/Q005022 as HTML/etcsri_Q005022.html\n"
     ]
    },
    {
     "name": "stderr",
     "output_type": "stream",
     "text": [
      "\r",
      " 90%|█████████ | 1290/1428 [09:28<00:51,  2.66it/s]"
     ]
    },
    {
     "name": "stdout",
     "output_type": "stream",
     "text": [
      "retrieving http://oracc.org/etcsri/Q005023/html\n",
      "saving http://oracc.org/etcsri/Q005023 as HTML/etcsri_Q005023.html\n"
     ]
    },
    {
     "name": "stderr",
     "output_type": "stream",
     "text": [
      "\r",
      " 90%|█████████ | 1291/1428 [09:29<00:52,  2.60it/s]"
     ]
    },
    {
     "name": "stdout",
     "output_type": "stream",
     "text": [
      "retrieving http://oracc.org/etcsri/Q005024/html\n",
      "saving http://oracc.org/etcsri/Q005024 as HTML/etcsri_Q005024.html\n"
     ]
    },
    {
     "name": "stderr",
     "output_type": "stream",
     "text": [
      "\r",
      " 90%|█████████ | 1292/1428 [09:29<00:57,  2.36it/s]"
     ]
    },
    {
     "name": "stdout",
     "output_type": "stream",
     "text": [
      "retrieving http://oracc.org/etcsri/Q005025/html\n",
      "saving http://oracc.org/etcsri/Q005025 as HTML/etcsri_Q005025.html\n"
     ]
    },
    {
     "name": "stderr",
     "output_type": "stream",
     "text": [
      "\r",
      " 91%|█████████ | 1293/1428 [09:30<00:56,  2.40it/s]"
     ]
    },
    {
     "name": "stdout",
     "output_type": "stream",
     "text": [
      "retrieving http://oracc.org/etcsri/Q005026/html\n",
      "saving http://oracc.org/etcsri/Q005026 as HTML/etcsri_Q005026.html\n"
     ]
    },
    {
     "name": "stderr",
     "output_type": "stream",
     "text": [
      "\r",
      " 91%|█████████ | 1294/1428 [09:30<00:52,  2.53it/s]"
     ]
    },
    {
     "name": "stdout",
     "output_type": "stream",
     "text": [
      "retrieving http://oracc.org/etcsri/Q005027/html\n",
      "saving http://oracc.org/etcsri/Q005027 as HTML/etcsri_Q005027.html\n"
     ]
    },
    {
     "name": "stderr",
     "output_type": "stream",
     "text": [
      "\r",
      " 91%|█████████ | 1295/1428 [09:31<00:53,  2.47it/s]"
     ]
    },
    {
     "name": "stdout",
     "output_type": "stream",
     "text": [
      "retrieving http://oracc.org/etcsri/Q005028/html\n",
      "saving http://oracc.org/etcsri/Q005028 as HTML/etcsri_Q005028.html\n"
     ]
    },
    {
     "name": "stderr",
     "output_type": "stream",
     "text": [
      "\r",
      " 91%|█████████ | 1296/1428 [09:31<01:02,  2.12it/s]"
     ]
    },
    {
     "name": "stdout",
     "output_type": "stream",
     "text": [
      "retrieving http://oracc.org/etcsri/Q001872/html\n",
      "saving http://oracc.org/etcsri/Q001872 as HTML/etcsri_Q001872.html\n"
     ]
    },
    {
     "name": "stderr",
     "output_type": "stream",
     "text": [
      "\r",
      " 91%|█████████ | 1297/1428 [09:32<00:56,  2.32it/s]"
     ]
    },
    {
     "name": "stdout",
     "output_type": "stream",
     "text": [
      "retrieving http://oracc.org/etcsri/Q001873/html\n",
      "saving http://oracc.org/etcsri/Q001873 as HTML/etcsri_Q001873.html\n"
     ]
    },
    {
     "name": "stderr",
     "output_type": "stream",
     "text": [
      "\r",
      " 91%|█████████ | 1298/1428 [09:32<00:53,  2.45it/s]"
     ]
    },
    {
     "name": "stdout",
     "output_type": "stream",
     "text": [
      "retrieving http://oracc.org/etcsri/Q001874/html\n",
      "saving http://oracc.org/etcsri/Q001874 as HTML/etcsri_Q001874.html\n"
     ]
    },
    {
     "name": "stderr",
     "output_type": "stream",
     "text": [
      "\r",
      " 91%|█████████ | 1299/1428 [09:32<00:53,  2.42it/s]"
     ]
    },
    {
     "name": "stdout",
     "output_type": "stream",
     "text": [
      "retrieving http://oracc.org/etcsri/Q001875/html\n",
      "saving http://oracc.org/etcsri/Q001875 as HTML/etcsri_Q001875.html\n"
     ]
    },
    {
     "name": "stderr",
     "output_type": "stream",
     "text": [
      "\r",
      " 91%|█████████ | 1300/1428 [09:33<00:52,  2.43it/s]"
     ]
    },
    {
     "name": "stdout",
     "output_type": "stream",
     "text": [
      "retrieving http://oracc.org/etcsri/Q001876/html\n",
      "saving http://oracc.org/etcsri/Q001876 as HTML/etcsri_Q001876.html\n"
     ]
    },
    {
     "name": "stderr",
     "output_type": "stream",
     "text": [
      "\r",
      " 91%|█████████ | 1301/1428 [09:33<00:52,  2.41it/s]"
     ]
    },
    {
     "name": "stdout",
     "output_type": "stream",
     "text": [
      "retrieving http://oracc.org/etcsri/Q001007/html\n",
      "saving http://oracc.org/etcsri/Q001007 as HTML/etcsri_Q001007.html\n"
     ]
    },
    {
     "name": "stderr",
     "output_type": "stream",
     "text": [
      "\r",
      " 91%|█████████ | 1302/1428 [09:34<00:56,  2.23it/s]"
     ]
    },
    {
     "name": "stdout",
     "output_type": "stream",
     "text": [
      "retrieving http://oracc.org/etcsri/Q001878/html\n",
      "saving http://oracc.org/etcsri/Q001878 as HTML/etcsri_Q001878.html\n"
     ]
    },
    {
     "name": "stderr",
     "output_type": "stream",
     "text": [
      "\r",
      " 91%|█████████ | 1303/1428 [09:34<00:51,  2.41it/s]"
     ]
    },
    {
     "name": "stdout",
     "output_type": "stream",
     "text": [
      "retrieving http://oracc.org/etcsri/Q001879/html\n",
      "saving http://oracc.org/etcsri/Q001879 as HTML/etcsri_Q001879.html\n"
     ]
    },
    {
     "name": "stderr",
     "output_type": "stream",
     "text": [
      "\r",
      " 91%|█████████▏| 1304/1428 [09:34<00:53,  2.32it/s]"
     ]
    },
    {
     "name": "stdout",
     "output_type": "stream",
     "text": [
      "retrieving http://oracc.org/etcsri/Q001880/html\n",
      "saving http://oracc.org/etcsri/Q001880 as HTML/etcsri_Q001880.html\n"
     ]
    },
    {
     "name": "stderr",
     "output_type": "stream",
     "text": [
      "\r",
      " 91%|█████████▏| 1305/1428 [09:35<00:49,  2.48it/s]"
     ]
    },
    {
     "name": "stdout",
     "output_type": "stream",
     "text": [
      "retrieving http://oracc.org/etcsri/Q001881/html\n",
      "saving http://oracc.org/etcsri/Q001881 as HTML/etcsri_Q001881.html\n"
     ]
    },
    {
     "name": "stderr",
     "output_type": "stream",
     "text": [
      "\r",
      " 91%|█████████▏| 1306/1428 [09:35<00:49,  2.49it/s]"
     ]
    },
    {
     "name": "stdout",
     "output_type": "stream",
     "text": [
      "retrieving http://oracc.org/etcsri/Q001882/html\n",
      "saving http://oracc.org/etcsri/Q001882 as HTML/etcsri_Q001882.html\n"
     ]
    },
    {
     "name": "stderr",
     "output_type": "stream",
     "text": [
      "\r",
      " 92%|█████████▏| 1307/1428 [09:36<00:47,  2.55it/s]"
     ]
    },
    {
     "name": "stdout",
     "output_type": "stream",
     "text": [
      "retrieving http://oracc.org/etcsri/Q001885/html\n",
      "saving http://oracc.org/etcsri/Q001885 as HTML/etcsri_Q001885.html\n"
     ]
    },
    {
     "name": "stderr",
     "output_type": "stream",
     "text": [
      "\r",
      " 92%|█████████▏| 1308/1428 [09:36<00:45,  2.62it/s]"
     ]
    },
    {
     "name": "stdout",
     "output_type": "stream",
     "text": [
      "retrieving http://oracc.org/etcsri/Q001887/html\n",
      "saving http://oracc.org/etcsri/Q001887 as HTML/etcsri_Q001887.html\n"
     ]
    },
    {
     "name": "stderr",
     "output_type": "stream",
     "text": [
      "\r",
      " 92%|█████████▏| 1309/1428 [09:36<00:46,  2.55it/s]"
     ]
    },
    {
     "name": "stdout",
     "output_type": "stream",
     "text": [
      "retrieving http://oracc.org/etcsri/Q001888/html\n",
      "saving http://oracc.org/etcsri/Q001888 as HTML/etcsri_Q001888.html\n"
     ]
    },
    {
     "name": "stderr",
     "output_type": "stream",
     "text": [
      "\r",
      " 92%|█████████▏| 1310/1428 [09:37<00:47,  2.47it/s]"
     ]
    },
    {
     "name": "stdout",
     "output_type": "stream",
     "text": [
      "retrieving http://oracc.org/etcsri/Q001893/html\n",
      "saving http://oracc.org/etcsri/Q001893 as HTML/etcsri_Q001893.html\n"
     ]
    },
    {
     "name": "stderr",
     "output_type": "stream",
     "text": [
      "\r",
      " 92%|█████████▏| 1311/1428 [09:37<00:44,  2.62it/s]"
     ]
    },
    {
     "name": "stdout",
     "output_type": "stream",
     "text": [
      "retrieving http://oracc.org/etcsri/Q001894/html\n",
      "saving http://oracc.org/etcsri/Q001894 as HTML/etcsri_Q001894.html\n"
     ]
    },
    {
     "name": "stderr",
     "output_type": "stream",
     "text": [
      "\r",
      " 92%|█████████▏| 1312/1428 [09:38<00:44,  2.59it/s]"
     ]
    },
    {
     "name": "stdout",
     "output_type": "stream",
     "text": [
      "retrieving http://oracc.org/etcsri/Q001895/html\n",
      "saving http://oracc.org/etcsri/Q001895 as HTML/etcsri_Q001895.html\n"
     ]
    },
    {
     "name": "stderr",
     "output_type": "stream",
     "text": [
      "\r",
      " 92%|█████████▏| 1313/1428 [09:38<00:42,  2.69it/s]"
     ]
    },
    {
     "name": "stdout",
     "output_type": "stream",
     "text": [
      "retrieving http://oracc.org/etcsri/Q001896/html\n",
      "saving http://oracc.org/etcsri/Q001896 as HTML/etcsri_Q001896.html\n"
     ]
    },
    {
     "name": "stderr",
     "output_type": "stream",
     "text": [
      "\r",
      " 92%|█████████▏| 1314/1428 [09:38<00:43,  2.63it/s]"
     ]
    },
    {
     "name": "stdout",
     "output_type": "stream",
     "text": [
      "retrieving http://oracc.org/etcsri/Q001008/html\n",
      "saving http://oracc.org/etcsri/Q001008 as HTML/etcsri_Q001008.html\n"
     ]
    },
    {
     "name": "stderr",
     "output_type": "stream",
     "text": [
      "\r",
      " 92%|█████████▏| 1315/1428 [09:39<00:44,  2.55it/s]"
     ]
    },
    {
     "name": "stdout",
     "output_type": "stream",
     "text": [
      "retrieving http://oracc.org/etcsri/Q001897/html\n",
      "saving http://oracc.org/etcsri/Q001897 as HTML/etcsri_Q001897.html\n"
     ]
    },
    {
     "name": "stderr",
     "output_type": "stream",
     "text": [
      "\r",
      " 92%|█████████▏| 1316/1428 [09:39<00:42,  2.65it/s]"
     ]
    },
    {
     "name": "stdout",
     "output_type": "stream",
     "text": [
      "retrieving http://oracc.org/etcsri/Q001898/html\n",
      "saving http://oracc.org/etcsri/Q001898 as HTML/etcsri_Q001898.html\n"
     ]
    },
    {
     "name": "stderr",
     "output_type": "stream",
     "text": [
      "\r",
      " 92%|█████████▏| 1317/1428 [09:39<00:43,  2.57it/s]"
     ]
    },
    {
     "name": "stdout",
     "output_type": "stream",
     "text": [
      "retrieving http://oracc.org/etcsri/Q001899/html\n",
      "saving http://oracc.org/etcsri/Q001899 as HTML/etcsri_Q001899.html\n"
     ]
    },
    {
     "name": "stderr",
     "output_type": "stream",
     "text": [
      "\r",
      " 92%|█████████▏| 1318/1428 [09:40<00:40,  2.71it/s]"
     ]
    },
    {
     "name": "stdout",
     "output_type": "stream",
     "text": [
      "retrieving http://oracc.org/etcsri/Q001900/html\n",
      "saving http://oracc.org/etcsri/Q001900 as HTML/etcsri_Q001900.html\n"
     ]
    },
    {
     "name": "stderr",
     "output_type": "stream",
     "text": [
      "\r",
      " 92%|█████████▏| 1319/1428 [09:40<00:40,  2.72it/s]"
     ]
    },
    {
     "name": "stdout",
     "output_type": "stream",
     "text": [
      "retrieving http://oracc.org/etcsri/Q001901/html\n",
      "saving http://oracc.org/etcsri/Q001901 as HTML/etcsri_Q001901.html\n"
     ]
    },
    {
     "name": "stderr",
     "output_type": "stream",
     "text": [
      "\r",
      " 92%|█████████▏| 1320/1428 [09:40<00:39,  2.75it/s]"
     ]
    },
    {
     "name": "stdout",
     "output_type": "stream",
     "text": [
      "retrieving http://oracc.org/etcsri/Q001902/html\n",
      "saving http://oracc.org/etcsri/Q001902 as HTML/etcsri_Q001902.html\n"
     ]
    },
    {
     "name": "stderr",
     "output_type": "stream",
     "text": [
      "\r",
      " 93%|█████████▎| 1321/1428 [09:41<00:39,  2.72it/s]"
     ]
    },
    {
     "name": "stdout",
     "output_type": "stream",
     "text": [
      "retrieving http://oracc.org/etcsri/Q001903/html\n",
      "saving http://oracc.org/etcsri/Q001903 as HTML/etcsri_Q001903.html\n"
     ]
    },
    {
     "name": "stderr",
     "output_type": "stream",
     "text": [
      "\r",
      " 93%|█████████▎| 1322/1428 [09:41<00:38,  2.78it/s]"
     ]
    },
    {
     "name": "stdout",
     "output_type": "stream",
     "text": [
      "retrieving http://oracc.org/etcsri/Q001904/html\n",
      "saving http://oracc.org/etcsri/Q001904 as HTML/etcsri_Q001904.html\n"
     ]
    },
    {
     "name": "stderr",
     "output_type": "stream",
     "text": [
      "\r",
      " 93%|█████████▎| 1323/1428 [09:42<00:37,  2.82it/s]"
     ]
    },
    {
     "name": "stdout",
     "output_type": "stream",
     "text": [
      "retrieving http://oracc.org/etcsri/Q001905/html\n",
      "saving http://oracc.org/etcsri/Q001905 as HTML/etcsri_Q001905.html\n"
     ]
    },
    {
     "name": "stderr",
     "output_type": "stream",
     "text": [
      "\r",
      " 93%|█████████▎| 1324/1428 [09:42<00:36,  2.81it/s]"
     ]
    },
    {
     "name": "stdout",
     "output_type": "stream",
     "text": [
      "retrieving http://oracc.org/etcsri/Q001906/html\n",
      "saving http://oracc.org/etcsri/Q001906 as HTML/etcsri_Q001906.html\n"
     ]
    },
    {
     "name": "stderr",
     "output_type": "stream",
     "text": [
      "\r",
      " 93%|█████████▎| 1325/1428 [09:42<00:37,  2.74it/s]"
     ]
    },
    {
     "name": "stdout",
     "output_type": "stream",
     "text": [
      "retrieving http://oracc.org/etcsri/Q001907/html\n",
      "saving http://oracc.org/etcsri/Q001907 as HTML/etcsri_Q001907.html\n"
     ]
    },
    {
     "name": "stderr",
     "output_type": "stream",
     "text": [
      "\r",
      " 93%|█████████▎| 1326/1428 [09:43<00:38,  2.64it/s]"
     ]
    },
    {
     "name": "stdout",
     "output_type": "stream",
     "text": [
      "retrieving http://oracc.org/etcsri/Q001908/html\n",
      "saving http://oracc.org/etcsri/Q001908 as HTML/etcsri_Q001908.html\n"
     ]
    },
    {
     "name": "stderr",
     "output_type": "stream",
     "text": [
      "\r",
      " 93%|█████████▎| 1327/1428 [09:43<00:36,  2.78it/s]"
     ]
    },
    {
     "name": "stdout",
     "output_type": "stream",
     "text": [
      "retrieving http://oracc.org/etcsri/Q001909/html\n",
      "saving http://oracc.org/etcsri/Q001909 as HTML/etcsri_Q001909.html\n"
     ]
    },
    {
     "name": "stderr",
     "output_type": "stream",
     "text": [
      "\r",
      " 93%|█████████▎| 1328/1428 [09:43<00:37,  2.66it/s]"
     ]
    },
    {
     "name": "stdout",
     "output_type": "stream",
     "text": [
      "retrieving http://oracc.org/etcsri/Q001910/html\n",
      "saving http://oracc.org/etcsri/Q001910 as HTML/etcsri_Q001910.html\n"
     ]
    },
    {
     "name": "stderr",
     "output_type": "stream",
     "text": [
      "\r",
      " 93%|█████████▎| 1329/1428 [09:44<00:38,  2.58it/s]"
     ]
    },
    {
     "name": "stdout",
     "output_type": "stream",
     "text": [
      "retrieving http://oracc.org/etcsri/Q001911/html\n",
      "saving http://oracc.org/etcsri/Q001911 as HTML/etcsri_Q001911.html\n"
     ]
    },
    {
     "name": "stderr",
     "output_type": "stream",
     "text": [
      "\r",
      " 93%|█████████▎| 1330/1428 [09:44<00:40,  2.44it/s]"
     ]
    },
    {
     "name": "stdout",
     "output_type": "stream",
     "text": [
      "retrieving http://oracc.org/etcsri/Q001912/html\n",
      "saving http://oracc.org/etcsri/Q001912 as HTML/etcsri_Q001912.html\n"
     ]
    },
    {
     "name": "stderr",
     "output_type": "stream",
     "text": [
      "\r",
      " 93%|█████████▎| 1331/1428 [09:45<00:37,  2.59it/s]"
     ]
    },
    {
     "name": "stdout",
     "output_type": "stream",
     "text": [
      "retrieving http://oracc.org/etcsri/Q001913/html\n",
      "saving http://oracc.org/etcsri/Q001913 as HTML/etcsri_Q001913.html\n"
     ]
    },
    {
     "name": "stderr",
     "output_type": "stream",
     "text": [
      "\r",
      " 93%|█████████▎| 1332/1428 [09:45<00:42,  2.25it/s]"
     ]
    },
    {
     "name": "stdout",
     "output_type": "stream",
     "text": [
      "retrieving http://oracc.org/etcsri/Q001914/html\n",
      "saving http://oracc.org/etcsri/Q001914 as HTML/etcsri_Q001914.html\n"
     ]
    },
    {
     "name": "stderr",
     "output_type": "stream",
     "text": [
      "\r",
      " 93%|█████████▎| 1333/1428 [09:46<00:50,  1.89it/s]"
     ]
    },
    {
     "name": "stdout",
     "output_type": "stream",
     "text": [
      "retrieving http://oracc.org/etcsri/Q001915/html\n",
      "saving http://oracc.org/etcsri/Q001915 as HTML/etcsri_Q001915.html\n"
     ]
    },
    {
     "name": "stderr",
     "output_type": "stream",
     "text": [
      "\r",
      " 93%|█████████▎| 1334/1428 [09:46<00:45,  2.05it/s]"
     ]
    },
    {
     "name": "stdout",
     "output_type": "stream",
     "text": [
      "retrieving http://oracc.org/etcsri/Q005029/html\n",
      "saving http://oracc.org/etcsri/Q005029 as HTML/etcsri_Q005029.html\n"
     ]
    },
    {
     "name": "stderr",
     "output_type": "stream",
     "text": [
      "\r",
      " 93%|█████████▎| 1335/1428 [09:47<00:42,  2.18it/s]"
     ]
    },
    {
     "name": "stdout",
     "output_type": "stream",
     "text": [
      "retrieving http://oracc.org/etcsri/Q004874/html\n",
      "saving http://oracc.org/etcsri/Q004874 as HTML/etcsri_Q004874.html\n"
     ]
    },
    {
     "name": "stderr",
     "output_type": "stream",
     "text": [
      "\r",
      " 94%|█████████▎| 1336/1428 [09:47<00:40,  2.27it/s]"
     ]
    },
    {
     "name": "stdout",
     "output_type": "stream",
     "text": [
      "retrieving http://oracc.org/etcsri/X004875/html\n",
      "saving http://oracc.org/etcsri/X004875 as HTML/etcsri_X004875.html\n"
     ]
    },
    {
     "name": "stderr",
     "output_type": "stream",
     "text": [
      "\r",
      " 94%|█████████▎| 1337/1428 [09:48<00:41,  2.20it/s]"
     ]
    },
    {
     "name": "stdout",
     "output_type": "stream",
     "text": [
      "retrieving http://oracc.org/etcsri/Q001916/html\n",
      "saving http://oracc.org/etcsri/Q001916 as HTML/etcsri_Q001916.html\n"
     ]
    },
    {
     "name": "stderr",
     "output_type": "stream",
     "text": [
      "\r",
      " 94%|█████████▎| 1338/1428 [09:48<00:36,  2.43it/s]"
     ]
    },
    {
     "name": "stdout",
     "output_type": "stream",
     "text": [
      "retrieving http://oracc.org/etcsri/Q001009/html\n",
      "saving http://oracc.org/etcsri/Q001009 as HTML/etcsri_Q001009.html\n"
     ]
    },
    {
     "name": "stderr",
     "output_type": "stream",
     "text": [
      "\r",
      " 94%|█████████▍| 1339/1428 [09:48<00:36,  2.43it/s]"
     ]
    },
    {
     "name": "stdout",
     "output_type": "stream",
     "text": [
      "retrieving http://oracc.org/etcsri/X111117/html\n",
      "saving http://oracc.org/etcsri/X111117 as HTML/etcsri_X111117.html\n"
     ]
    },
    {
     "name": "stderr",
     "output_type": "stream",
     "text": [
      "\r",
      " 94%|█████████▍| 1340/1428 [09:49<00:34,  2.56it/s]"
     ]
    },
    {
     "name": "stdout",
     "output_type": "stream",
     "text": [
      "retrieving http://oracc.org/etcsri/Q001920/html\n",
      "saving http://oracc.org/etcsri/Q001920 as HTML/etcsri_Q001920.html\n"
     ]
    },
    {
     "name": "stderr",
     "output_type": "stream",
     "text": [
      "\r",
      " 94%|█████████▍| 1341/1428 [09:49<00:36,  2.38it/s]"
     ]
    },
    {
     "name": "stdout",
     "output_type": "stream",
     "text": [
      "retrieving http://oracc.org/etcsri/Q001934/html\n",
      "saving http://oracc.org/etcsri/Q001934 as HTML/etcsri_Q001934.html\n"
     ]
    },
    {
     "name": "stderr",
     "output_type": "stream",
     "text": [
      "\r",
      " 94%|█████████▍| 1342/1428 [09:50<00:37,  2.27it/s]"
     ]
    },
    {
     "name": "stdout",
     "output_type": "stream",
     "text": [
      "retrieving http://oracc.org/etcsri/Q001936/html\n",
      "saving http://oracc.org/etcsri/Q001936 as HTML/etcsri_Q001936.html\n"
     ]
    },
    {
     "name": "stderr",
     "output_type": "stream",
     "text": [
      "\r",
      " 94%|█████████▍| 1343/1428 [09:50<00:41,  2.05it/s]"
     ]
    },
    {
     "name": "stdout",
     "output_type": "stream",
     "text": [
      "retrieving http://oracc.org/etcsri/Q001937/html\n",
      "saving http://oracc.org/etcsri/Q001937 as HTML/etcsri_Q001937.html\n"
     ]
    },
    {
     "name": "stderr",
     "output_type": "stream",
     "text": [
      "\r",
      " 94%|█████████▍| 1344/1428 [09:51<00:37,  2.27it/s]"
     ]
    },
    {
     "name": "stdout",
     "output_type": "stream",
     "text": [
      "retrieving http://oracc.org/etcsri/Q001938/html\n",
      "saving http://oracc.org/etcsri/Q001938 as HTML/etcsri_Q001938.html\n"
     ]
    },
    {
     "name": "stderr",
     "output_type": "stream",
     "text": [
      "\r",
      " 94%|█████████▍| 1345/1428 [09:51<00:34,  2.43it/s]"
     ]
    },
    {
     "name": "stdout",
     "output_type": "stream",
     "text": [
      "retrieving http://oracc.org/etcsri/Q001939/html\n",
      "saving http://oracc.org/etcsri/Q001939 as HTML/etcsri_Q001939.html\n"
     ]
    },
    {
     "name": "stderr",
     "output_type": "stream",
     "text": [
      "\r",
      " 94%|█████████▍| 1346/1428 [09:51<00:35,  2.28it/s]"
     ]
    },
    {
     "name": "stdout",
     "output_type": "stream",
     "text": [
      "retrieving http://oracc.org/etcsri/Q001940/html\n",
      "saving http://oracc.org/etcsri/Q001940 as HTML/etcsri_Q001940.html\n"
     ]
    },
    {
     "name": "stderr",
     "output_type": "stream",
     "text": [
      "\r",
      " 94%|█████████▍| 1347/1428 [09:52<00:33,  2.45it/s]"
     ]
    },
    {
     "name": "stdout",
     "output_type": "stream",
     "text": [
      "retrieving http://oracc.org/etcsri/Q001941/html\n",
      "saving http://oracc.org/etcsri/Q001941 as HTML/etcsri_Q001941.html\n"
     ]
    },
    {
     "name": "stderr",
     "output_type": "stream",
     "text": [
      "\r",
      " 94%|█████████▍| 1348/1428 [09:52<00:34,  2.34it/s]"
     ]
    },
    {
     "name": "stdout",
     "output_type": "stream",
     "text": [
      "retrieving http://oracc.org/etcsri/Q001943/html\n",
      "saving http://oracc.org/etcsri/Q001943 as HTML/etcsri_Q001943.html\n"
     ]
    },
    {
     "name": "stderr",
     "output_type": "stream",
     "text": [
      "\r",
      " 94%|█████████▍| 1349/1428 [09:53<00:36,  2.14it/s]"
     ]
    },
    {
     "name": "stdout",
     "output_type": "stream",
     "text": [
      "retrieving http://oracc.org/etcsri/Q001944/html\n",
      "saving http://oracc.org/etcsri/Q001944 as HTML/etcsri_Q001944.html\n"
     ]
    },
    {
     "name": "stderr",
     "output_type": "stream",
     "text": [
      "\r",
      " 95%|█████████▍| 1350/1428 [09:53<00:39,  1.96it/s]"
     ]
    },
    {
     "name": "stdout",
     "output_type": "stream",
     "text": [
      "retrieving http://oracc.org/etcsri/Q001945/html\n",
      "saving http://oracc.org/etcsri/Q001945 as HTML/etcsri_Q001945.html\n"
     ]
    },
    {
     "name": "stderr",
     "output_type": "stream",
     "text": [
      "\r",
      " 95%|█████████▍| 1351/1428 [09:54<00:35,  2.17it/s]"
     ]
    },
    {
     "name": "stdout",
     "output_type": "stream",
     "text": [
      "retrieving http://oracc.org/etcsri/Q001946/html\n",
      "saving http://oracc.org/etcsri/Q001946 as HTML/etcsri_Q001946.html\n"
     ]
    },
    {
     "name": "stderr",
     "output_type": "stream",
     "text": [
      "\r",
      " 95%|█████████▍| 1352/1428 [09:54<00:33,  2.30it/s]"
     ]
    },
    {
     "name": "stdout",
     "output_type": "stream",
     "text": [
      "retrieving http://oracc.org/etcsri/Q001947/html\n",
      "saving http://oracc.org/etcsri/Q001947 as HTML/etcsri_Q001947.html\n"
     ]
    },
    {
     "name": "stderr",
     "output_type": "stream",
     "text": [
      "\r",
      " 95%|█████████▍| 1353/1428 [09:54<00:30,  2.46it/s]"
     ]
    },
    {
     "name": "stdout",
     "output_type": "stream",
     "text": [
      "retrieving http://oracc.org/etcsri/Q001948/html\n",
      "saving http://oracc.org/etcsri/Q001948 as HTML/etcsri_Q001948.html\n"
     ]
    },
    {
     "name": "stderr",
     "output_type": "stream",
     "text": [
      "\r",
      " 95%|█████████▍| 1354/1428 [09:55<00:28,  2.59it/s]"
     ]
    },
    {
     "name": "stdout",
     "output_type": "stream",
     "text": [
      "retrieving http://oracc.org/etcsri/Q001949/html\n",
      "saving http://oracc.org/etcsri/Q001949 as HTML/etcsri_Q001949.html\n"
     ]
    },
    {
     "name": "stderr",
     "output_type": "stream",
     "text": [
      "\r",
      " 95%|█████████▍| 1355/1428 [09:55<00:30,  2.39it/s]"
     ]
    },
    {
     "name": "stdout",
     "output_type": "stream",
     "text": [
      "retrieving http://oracc.org/etcsri/Q001951/html\n",
      "saving http://oracc.org/etcsri/Q001951 as HTML/etcsri_Q001951.html\n"
     ]
    },
    {
     "name": "stderr",
     "output_type": "stream",
     "text": [
      "\r",
      " 95%|█████████▍| 1356/1428 [09:56<00:28,  2.55it/s]"
     ]
    },
    {
     "name": "stdout",
     "output_type": "stream",
     "text": [
      "retrieving http://oracc.org/etcsri/Q001952/html\n",
      "saving http://oracc.org/etcsri/Q001952 as HTML/etcsri_Q001952.html\n"
     ]
    },
    {
     "name": "stderr",
     "output_type": "stream",
     "text": [
      "\r",
      " 95%|█████████▌| 1357/1428 [09:56<00:32,  2.20it/s]"
     ]
    },
    {
     "name": "stdout",
     "output_type": "stream",
     "text": [
      "retrieving http://oracc.org/etcsri/Q001953/html\n",
      "saving http://oracc.org/etcsri/Q001953 as HTML/etcsri_Q001953.html\n"
     ]
    },
    {
     "name": "stderr",
     "output_type": "stream",
     "text": [
      "\r",
      " 95%|█████████▌| 1358/1428 [09:57<00:31,  2.21it/s]"
     ]
    },
    {
     "name": "stdout",
     "output_type": "stream",
     "text": [
      "retrieving http://oracc.org/etcsri/Q001954/html\n",
      "saving http://oracc.org/etcsri/Q001954 as HTML/etcsri_Q001954.html\n"
     ]
    },
    {
     "name": "stderr",
     "output_type": "stream",
     "text": [
      "\r",
      " 95%|█████████▌| 1359/1428 [09:57<00:35,  1.94it/s]"
     ]
    },
    {
     "name": "stdout",
     "output_type": "stream",
     "text": [
      "retrieving http://oracc.org/etcsri/Q001956/html\n",
      "saving http://oracc.org/etcsri/Q001956 as HTML/etcsri_Q001956.html\n"
     ]
    },
    {
     "name": "stderr",
     "output_type": "stream",
     "text": [
      "\r",
      " 95%|█████████▌| 1360/1428 [09:58<00:31,  2.17it/s]"
     ]
    },
    {
     "name": "stdout",
     "output_type": "stream",
     "text": [
      "retrieving http://oracc.org/etcsri/Q001958/html\n",
      "saving http://oracc.org/etcsri/Q001958 as HTML/etcsri_Q001958.html\n"
     ]
    },
    {
     "name": "stderr",
     "output_type": "stream",
     "text": [
      "\r",
      " 95%|█████████▌| 1361/1428 [09:58<00:29,  2.28it/s]"
     ]
    },
    {
     "name": "stdout",
     "output_type": "stream",
     "text": [
      "retrieving http://oracc.org/etcsri/Q005031/html\n",
      "saving http://oracc.org/etcsri/Q005031 as HTML/etcsri_Q005031.html\n"
     ]
    },
    {
     "name": "stderr",
     "output_type": "stream",
     "text": [
      "\r",
      " 95%|█████████▌| 1362/1428 [09:58<00:28,  2.28it/s]"
     ]
    },
    {
     "name": "stdout",
     "output_type": "stream",
     "text": [
      "retrieving http://oracc.org/etcsri/Q000613/html\n",
      "saving http://oracc.org/etcsri/Q000613 as HTML/etcsri_Q000613.html\n"
     ]
    },
    {
     "name": "stderr",
     "output_type": "stream",
     "text": [
      "\r",
      " 95%|█████████▌| 1363/1428 [09:59<00:36,  1.76it/s]"
     ]
    },
    {
     "name": "stdout",
     "output_type": "stream",
     "text": [
      "retrieving http://oracc.org/etcsri/Q001959/html\n",
      "saving http://oracc.org/etcsri/Q001959 as HTML/etcsri_Q001959.html\n"
     ]
    },
    {
     "name": "stderr",
     "output_type": "stream",
     "text": [
      "\r",
      " 96%|█████████▌| 1364/1428 [10:00<00:35,  1.82it/s]"
     ]
    },
    {
     "name": "stdout",
     "output_type": "stream",
     "text": [
      "retrieving http://oracc.org/etcsri/Q001960/html\n",
      "saving http://oracc.org/etcsri/Q001960 as HTML/etcsri_Q001960.html\n"
     ]
    },
    {
     "name": "stderr",
     "output_type": "stream",
     "text": [
      "\r",
      " 96%|█████████▌| 1365/1428 [10:01<00:36,  1.74it/s]"
     ]
    },
    {
     "name": "stdout",
     "output_type": "stream",
     "text": [
      "retrieving http://oracc.org/etcsri/Q001961/html\n",
      "saving http://oracc.org/etcsri/Q001961 as HTML/etcsri_Q001961.html\n"
     ]
    },
    {
     "name": "stderr",
     "output_type": "stream",
     "text": [
      "\r",
      " 96%|█████████▌| 1366/1428 [10:01<00:33,  1.84it/s]"
     ]
    },
    {
     "name": "stdout",
     "output_type": "stream",
     "text": [
      "retrieving http://oracc.org/etcsri/Q001962/html\n",
      "saving http://oracc.org/etcsri/Q001962 as HTML/etcsri_Q001962.html\n"
     ]
    },
    {
     "name": "stderr",
     "output_type": "stream",
     "text": [
      "\r",
      " 96%|█████████▌| 1367/1428 [10:02<00:33,  1.84it/s]"
     ]
    },
    {
     "name": "stdout",
     "output_type": "stream",
     "text": [
      "retrieving http://oracc.org/etcsri/Q001964/html\n",
      "saving http://oracc.org/etcsri/Q001964 as HTML/etcsri_Q001964.html\n"
     ]
    },
    {
     "name": "stderr",
     "output_type": "stream",
     "text": [
      "\r",
      " 96%|█████████▌| 1368/1428 [10:02<00:31,  1.89it/s]"
     ]
    },
    {
     "name": "stdout",
     "output_type": "stream",
     "text": [
      "retrieving http://oracc.org/etcsri/Q001965/html\n",
      "saving http://oracc.org/etcsri/Q001965 as HTML/etcsri_Q001965.html\n"
     ]
    },
    {
     "name": "stderr",
     "output_type": "stream",
     "text": [
      "\r",
      " 96%|█████████▌| 1369/1428 [10:02<00:27,  2.13it/s]"
     ]
    },
    {
     "name": "stdout",
     "output_type": "stream",
     "text": [
      "retrieving http://oracc.org/etcsri/Q004103/html\n",
      "saving http://oracc.org/etcsri/Q004103 as HTML/etcsri_Q004103.html\n"
     ]
    },
    {
     "name": "stderr",
     "output_type": "stream",
     "text": [
      "\r",
      " 96%|█████████▌| 1370/1428 [10:03<00:29,  1.99it/s]"
     ]
    },
    {
     "name": "stdout",
     "output_type": "stream",
     "text": [
      "retrieving http://oracc.org/etcsri/Q004104/html\n",
      "saving http://oracc.org/etcsri/Q004104 as HTML/etcsri_Q004104.html\n"
     ]
    },
    {
     "name": "stderr",
     "output_type": "stream",
     "text": [
      "\r",
      " 96%|█████████▌| 1371/1428 [10:03<00:28,  2.02it/s]"
     ]
    },
    {
     "name": "stdout",
     "output_type": "stream",
     "text": [
      "retrieving http://oracc.org/etcsri/Q001967/html\n",
      "saving http://oracc.org/etcsri/Q001967 as HTML/etcsri_Q001967.html\n"
     ]
    },
    {
     "name": "stderr",
     "output_type": "stream",
     "text": [
      "\r",
      " 96%|█████████▌| 1372/1428 [10:04<00:26,  2.14it/s]"
     ]
    },
    {
     "name": "stdout",
     "output_type": "stream",
     "text": [
      "retrieving http://oracc.org/etcsri/Q001968/html\n",
      "saving http://oracc.org/etcsri/Q001968 as HTML/etcsri_Q001968.html\n"
     ]
    },
    {
     "name": "stderr",
     "output_type": "stream",
     "text": [
      "\r",
      " 96%|█████████▌| 1373/1428 [10:04<00:24,  2.28it/s]"
     ]
    },
    {
     "name": "stdout",
     "output_type": "stream",
     "text": [
      "retrieving http://oracc.org/etcsri/Q001969/html\n",
      "saving http://oracc.org/etcsri/Q001969 as HTML/etcsri_Q001969.html\n"
     ]
    },
    {
     "name": "stderr",
     "output_type": "stream",
     "text": [
      "\r",
      " 96%|█████████▌| 1374/1428 [10:05<00:22,  2.45it/s]"
     ]
    },
    {
     "name": "stdout",
     "output_type": "stream",
     "text": [
      "retrieving http://oracc.org/etcsri/Q001970/html\n",
      "saving http://oracc.org/etcsri/Q001970 as HTML/etcsri_Q001970.html\n"
     ]
    },
    {
     "name": "stderr",
     "output_type": "stream",
     "text": [
      "\r",
      " 96%|█████████▋| 1375/1428 [10:05<00:21,  2.49it/s]"
     ]
    },
    {
     "name": "stdout",
     "output_type": "stream",
     "text": [
      "retrieving http://oracc.org/etcsri/Q001971/html\n",
      "saving http://oracc.org/etcsri/Q001971 as HTML/etcsri_Q001971.html\n"
     ]
    },
    {
     "name": "stderr",
     "output_type": "stream",
     "text": [
      "\r",
      " 96%|█████████▋| 1376/1428 [10:05<00:20,  2.58it/s]"
     ]
    },
    {
     "name": "stdout",
     "output_type": "stream",
     "text": [
      "retrieving http://oracc.org/etcsri/Q001973/html\n",
      "saving http://oracc.org/etcsri/Q001973 as HTML/etcsri_Q001973.html\n"
     ]
    },
    {
     "name": "stderr",
     "output_type": "stream",
     "text": [
      "\r",
      " 96%|█████████▋| 1377/1428 [10:06<00:19,  2.64it/s]"
     ]
    },
    {
     "name": "stdout",
     "output_type": "stream",
     "text": [
      "retrieving http://oracc.org/etcsri/Q001974/html\n",
      "saving http://oracc.org/etcsri/Q001974 as HTML/etcsri_Q001974.html\n"
     ]
    },
    {
     "name": "stderr",
     "output_type": "stream",
     "text": [
      "\r",
      " 96%|█████████▋| 1378/1428 [10:06<00:19,  2.58it/s]"
     ]
    },
    {
     "name": "stdout",
     "output_type": "stream",
     "text": [
      "retrieving http://oracc.org/etcsri/Q001977/html\n",
      "saving http://oracc.org/etcsri/Q001977 as HTML/etcsri_Q001977.html\n"
     ]
    },
    {
     "name": "stderr",
     "output_type": "stream",
     "text": [
      "\r",
      " 97%|█████████▋| 1379/1428 [10:06<00:18,  2.69it/s]"
     ]
    },
    {
     "name": "stdout",
     "output_type": "stream",
     "text": [
      "retrieving http://oracc.org/etcsri/Q001978/html\n",
      "saving http://oracc.org/etcsri/Q001978 as HTML/etcsri_Q001978.html\n"
     ]
    },
    {
     "name": "stderr",
     "output_type": "stream",
     "text": [
      "\r",
      " 97%|█████████▋| 1380/1428 [10:07<00:18,  2.63it/s]"
     ]
    },
    {
     "name": "stdout",
     "output_type": "stream",
     "text": [
      "retrieving http://oracc.org/etcsri/Q001979/html\n",
      "saving http://oracc.org/etcsri/Q001979 as HTML/etcsri_Q001979.html\n"
     ]
    },
    {
     "name": "stderr",
     "output_type": "stream",
     "text": [
      "\r",
      " 97%|█████████▋| 1381/1428 [10:07<00:18,  2.55it/s]"
     ]
    },
    {
     "name": "stdout",
     "output_type": "stream",
     "text": [
      "retrieving http://oracc.org/etcsri/Q001980/html\n",
      "saving http://oracc.org/etcsri/Q001980 as HTML/etcsri_Q001980.html\n"
     ]
    },
    {
     "name": "stderr",
     "output_type": "stream",
     "text": [
      "\r",
      " 97%|█████████▋| 1382/1428 [10:07<00:17,  2.68it/s]"
     ]
    },
    {
     "name": "stdout",
     "output_type": "stream",
     "text": [
      "retrieving http://oracc.org/etcsri/Q001981/html\n",
      "saving http://oracc.org/etcsri/Q001981 as HTML/etcsri_Q001981.html\n"
     ]
    },
    {
     "name": "stderr",
     "output_type": "stream",
     "text": [
      "\r",
      " 97%|█████████▋| 1383/1428 [10:08<00:18,  2.50it/s]"
     ]
    },
    {
     "name": "stdout",
     "output_type": "stream",
     "text": [
      "retrieving http://oracc.org/etcsri/Q001982/html\n",
      "saving http://oracc.org/etcsri/Q001982 as HTML/etcsri_Q001982.html\n"
     ]
    },
    {
     "name": "stderr",
     "output_type": "stream",
     "text": [
      "\r",
      " 97%|█████████▋| 1384/1428 [10:08<00:16,  2.62it/s]"
     ]
    },
    {
     "name": "stdout",
     "output_type": "stream",
     "text": [
      "retrieving http://oracc.org/etcsri/Q001983/html\n",
      "saving http://oracc.org/etcsri/Q001983 as HTML/etcsri_Q001983.html\n"
     ]
    },
    {
     "name": "stderr",
     "output_type": "stream",
     "text": [
      "\r",
      " 97%|█████████▋| 1385/1428 [10:09<00:16,  2.64it/s]"
     ]
    },
    {
     "name": "stdout",
     "output_type": "stream",
     "text": [
      "retrieving http://oracc.org/etcsri/Q001984/html\n",
      "saving http://oracc.org/etcsri/Q001984 as HTML/etcsri_Q001984.html\n"
     ]
    },
    {
     "name": "stderr",
     "output_type": "stream",
     "text": [
      "\r",
      " 97%|█████████▋| 1386/1428 [10:09<00:19,  2.21it/s]"
     ]
    },
    {
     "name": "stdout",
     "output_type": "stream",
     "text": [
      "retrieving http://oracc.org/etcsri/Q001985/html\n",
      "saving http://oracc.org/etcsri/Q001985 as HTML/etcsri_Q001985.html\n"
     ]
    },
    {
     "name": "stderr",
     "output_type": "stream",
     "text": [
      "\r",
      " 97%|█████████▋| 1387/1428 [10:10<00:19,  2.11it/s]"
     ]
    },
    {
     "name": "stdout",
     "output_type": "stream",
     "text": [
      "retrieving http://oracc.org/etcsri/Q001986/html\n",
      "saving http://oracc.org/etcsri/Q001986 as HTML/etcsri_Q001986.html\n"
     ]
    },
    {
     "name": "stderr",
     "output_type": "stream",
     "text": [
      "\r",
      " 97%|█████████▋| 1388/1428 [10:10<00:19,  2.05it/s]"
     ]
    },
    {
     "name": "stdout",
     "output_type": "stream",
     "text": [
      "retrieving http://oracc.org/etcsri/Q001987/html\n",
      "saving http://oracc.org/etcsri/Q001987 as HTML/etcsri_Q001987.html\n"
     ]
    },
    {
     "name": "stderr",
     "output_type": "stream",
     "text": [
      "\r",
      " 97%|█████████▋| 1389/1428 [10:11<00:19,  1.99it/s]"
     ]
    },
    {
     "name": "stdout",
     "output_type": "stream",
     "text": [
      "retrieving http://oracc.org/etcsri/Q001988/html\n",
      "saving http://oracc.org/etcsri/Q001988 as HTML/etcsri_Q001988.html\n"
     ]
    },
    {
     "name": "stderr",
     "output_type": "stream",
     "text": [
      "\r",
      " 97%|█████████▋| 1390/1428 [10:11<00:17,  2.14it/s]"
     ]
    },
    {
     "name": "stdout",
     "output_type": "stream",
     "text": [
      "retrieving http://oracc.org/etcsri/Q001989/html\n",
      "saving http://oracc.org/etcsri/Q001989 as HTML/etcsri_Q001989.html\n"
     ]
    },
    {
     "name": "stderr",
     "output_type": "stream",
     "text": [
      "\r",
      " 97%|█████████▋| 1391/1428 [10:12<00:16,  2.20it/s]"
     ]
    },
    {
     "name": "stdout",
     "output_type": "stream",
     "text": [
      "retrieving http://oracc.org/etcsri/Q001990/html\n",
      "saving http://oracc.org/etcsri/Q001990 as HTML/etcsri_Q001990.html\n"
     ]
    },
    {
     "name": "stderr",
     "output_type": "stream",
     "text": [
      "\r",
      " 97%|█████████▋| 1392/1428 [10:12<00:15,  2.38it/s]"
     ]
    },
    {
     "name": "stdout",
     "output_type": "stream",
     "text": [
      "retrieving http://oracc.org/etcsri/Q001991/html\n",
      "saving http://oracc.org/etcsri/Q001991 as HTML/etcsri_Q001991.html\n"
     ]
    },
    {
     "name": "stderr",
     "output_type": "stream",
     "text": [
      "\r",
      " 98%|█████████▊| 1393/1428 [10:13<00:15,  2.29it/s]"
     ]
    },
    {
     "name": "stdout",
     "output_type": "stream",
     "text": [
      "retrieving http://oracc.org/etcsri/Q001992/html\n",
      "saving http://oracc.org/etcsri/Q001992 as HTML/etcsri_Q001992.html\n"
     ]
    },
    {
     "name": "stderr",
     "output_type": "stream",
     "text": [
      "\r",
      " 98%|█████████▊| 1394/1428 [10:13<00:14,  2.41it/s]"
     ]
    },
    {
     "name": "stdout",
     "output_type": "stream",
     "text": [
      "retrieving http://oracc.org/etcsri/Q001994/html\n",
      "saving http://oracc.org/etcsri/Q001994 as HTML/etcsri_Q001994.html\n"
     ]
    },
    {
     "name": "stderr",
     "output_type": "stream",
     "text": [
      "\r",
      " 98%|█████████▊| 1395/1428 [10:13<00:13,  2.51it/s]"
     ]
    },
    {
     "name": "stdout",
     "output_type": "stream",
     "text": [
      "retrieving http://oracc.org/etcsri/X000112/html\n",
      "saving http://oracc.org/etcsri/X000112 as HTML/etcsri_X000112.html\n"
     ]
    },
    {
     "name": "stderr",
     "output_type": "stream",
     "text": [
      "\r",
      " 98%|█████████▊| 1396/1428 [10:14<00:12,  2.53it/s]"
     ]
    },
    {
     "name": "stdout",
     "output_type": "stream",
     "text": [
      "retrieving http://oracc.org/etcsri/Q001997/html\n",
      "saving http://oracc.org/etcsri/Q001997 as HTML/etcsri_Q001997.html\n"
     ]
    },
    {
     "name": "stderr",
     "output_type": "stream",
     "text": [
      "\r",
      " 98%|█████████▊| 1397/1428 [10:14<00:12,  2.54it/s]"
     ]
    },
    {
     "name": "stdout",
     "output_type": "stream",
     "text": [
      "retrieving http://oracc.org/etcsri/Q001998/html\n",
      "saving http://oracc.org/etcsri/Q001998 as HTML/etcsri_Q001998.html\n"
     ]
    },
    {
     "name": "stderr",
     "output_type": "stream",
     "text": [
      "\r",
      " 98%|█████████▊| 1398/1428 [10:14<00:12,  2.46it/s]"
     ]
    },
    {
     "name": "stdout",
     "output_type": "stream",
     "text": [
      "retrieving http://oracc.org/etcsri/Q002001/html\n",
      "saving http://oracc.org/etcsri/Q002001 as HTML/etcsri_Q002001.html\n"
     ]
    },
    {
     "name": "stderr",
     "output_type": "stream",
     "text": [
      "\r",
      " 98%|█████████▊| 1399/1428 [10:15<00:11,  2.59it/s]"
     ]
    },
    {
     "name": "stdout",
     "output_type": "stream",
     "text": [
      "retrieving http://oracc.org/etcsri/Q002002/html\n",
      "saving http://oracc.org/etcsri/Q002002 as HTML/etcsri_Q002002.html\n"
     ]
    },
    {
     "name": "stderr",
     "output_type": "stream",
     "text": [
      "\r",
      " 98%|█████████▊| 1400/1428 [10:15<00:10,  2.60it/s]"
     ]
    },
    {
     "name": "stdout",
     "output_type": "stream",
     "text": [
      "retrieving http://oracc.org/etcsri/Q002003/html\n",
      "saving http://oracc.org/etcsri/Q002003 as HTML/etcsri_Q002003.html\n"
     ]
    },
    {
     "name": "stderr",
     "output_type": "stream",
     "text": [
      "\r",
      " 98%|█████████▊| 1401/1428 [10:16<00:10,  2.68it/s]"
     ]
    },
    {
     "name": "stdout",
     "output_type": "stream",
     "text": [
      "retrieving http://oracc.org/etcsri/Q002004/html\n",
      "saving http://oracc.org/etcsri/Q002004 as HTML/etcsri_Q002004.html\n"
     ]
    },
    {
     "name": "stderr",
     "output_type": "stream",
     "text": [
      "\r",
      " 98%|█████████▊| 1402/1428 [10:16<00:09,  2.77it/s]"
     ]
    },
    {
     "name": "stdout",
     "output_type": "stream",
     "text": [
      "retrieving http://oracc.org/etcsri/Q002009/html\n",
      "saving http://oracc.org/etcsri/Q002009 as HTML/etcsri_Q002009.html\n"
     ]
    },
    {
     "name": "stderr",
     "output_type": "stream",
     "text": [
      "\r",
      " 98%|█████████▊| 1403/1428 [10:16<00:08,  2.83it/s]"
     ]
    },
    {
     "name": "stdout",
     "output_type": "stream",
     "text": [
      "retrieving http://oracc.org/etcsri/Q002014/html\n",
      "saving http://oracc.org/etcsri/Q002014 as HTML/etcsri_Q002014.html\n"
     ]
    },
    {
     "name": "stderr",
     "output_type": "stream",
     "text": [
      "\r",
      " 98%|█████████▊| 1404/1428 [10:17<00:09,  2.60it/s]"
     ]
    },
    {
     "name": "stdout",
     "output_type": "stream",
     "text": [
      "retrieving http://oracc.org/etcsri/Q002015/html\n",
      "saving http://oracc.org/etcsri/Q002015 as HTML/etcsri_Q002015.html\n"
     ]
    },
    {
     "name": "stderr",
     "output_type": "stream",
     "text": [
      "\r",
      " 98%|█████████▊| 1405/1428 [10:17<00:09,  2.45it/s]"
     ]
    },
    {
     "name": "stdout",
     "output_type": "stream",
     "text": [
      "retrieving http://oracc.org/etcsri/Q002016/html\n",
      "saving http://oracc.org/etcsri/Q002016 as HTML/etcsri_Q002016.html\n"
     ]
    },
    {
     "name": "stderr",
     "output_type": "stream",
     "text": [
      "\r",
      " 98%|█████████▊| 1406/1428 [10:17<00:08,  2.54it/s]"
     ]
    },
    {
     "name": "stdout",
     "output_type": "stream",
     "text": [
      "retrieving http://oracc.org/etcsri/Q002017/html\n",
      "saving http://oracc.org/etcsri/Q002017 as HTML/etcsri_Q002017.html\n"
     ]
    },
    {
     "name": "stderr",
     "output_type": "stream",
     "text": [
      "\r",
      " 99%|█████████▊| 1407/1428 [10:18<00:08,  2.61it/s]"
     ]
    },
    {
     "name": "stdout",
     "output_type": "stream",
     "text": [
      "retrieving http://oracc.org/etcsri/Q004449/html\n",
      "saving http://oracc.org/etcsri/Q004449 as HTML/etcsri_Q004449.html\n"
     ]
    },
    {
     "name": "stderr",
     "output_type": "stream",
     "text": [
      "\r",
      " 99%|█████████▊| 1408/1428 [10:18<00:09,  2.21it/s]"
     ]
    },
    {
     "name": "stdout",
     "output_type": "stream",
     "text": [
      "retrieving http://oracc.org/etcsri/Q002028/html\n",
      "saving http://oracc.org/etcsri/Q002028 as HTML/etcsri_Q002028.html\n"
     ]
    },
    {
     "name": "stderr",
     "output_type": "stream",
     "text": [
      "\r",
      " 99%|█████████▊| 1409/1428 [10:19<00:08,  2.37it/s]"
     ]
    },
    {
     "name": "stdout",
     "output_type": "stream",
     "text": [
      "retrieving http://oracc.org/etcsri/Q002029/html\n",
      "saving http://oracc.org/etcsri/Q002029 as HTML/etcsri_Q002029.html\n"
     ]
    },
    {
     "name": "stderr",
     "output_type": "stream",
     "text": [
      "\r",
      " 99%|█████████▊| 1410/1428 [10:19<00:07,  2.50it/s]"
     ]
    },
    {
     "name": "stdout",
     "output_type": "stream",
     "text": [
      "retrieving http://oracc.org/etcsri/Q005032/html\n",
      "saving http://oracc.org/etcsri/Q005032 as HTML/etcsri_Q005032.html\n"
     ]
    },
    {
     "name": "stderr",
     "output_type": "stream",
     "text": [
      "\r",
      " 99%|█████████▉| 1411/1428 [10:19<00:06,  2.56it/s]"
     ]
    },
    {
     "name": "stdout",
     "output_type": "stream",
     "text": [
      "retrieving http://oracc.org/etcsri/Q002032/html\n",
      "saving http://oracc.org/etcsri/Q002032 as HTML/etcsri_Q002032.html\n"
     ]
    },
    {
     "name": "stderr",
     "output_type": "stream",
     "text": [
      "\r",
      " 99%|█████████▉| 1412/1428 [10:20<00:06,  2.61it/s]"
     ]
    },
    {
     "name": "stdout",
     "output_type": "stream",
     "text": [
      "retrieving http://oracc.org/etcsri/Q002033/html\n",
      "saving http://oracc.org/etcsri/Q002033 as HTML/etcsri_Q002033.html\n"
     ]
    },
    {
     "name": "stderr",
     "output_type": "stream",
     "text": [
      "\r",
      " 99%|█████████▉| 1413/1428 [10:20<00:05,  2.59it/s]"
     ]
    },
    {
     "name": "stdout",
     "output_type": "stream",
     "text": [
      "retrieving http://oracc.org/etcsri/Q002035/html\n",
      "saving http://oracc.org/etcsri/Q002035 as HTML/etcsri_Q002035.html\n"
     ]
    },
    {
     "name": "stderr",
     "output_type": "stream",
     "text": [
      "\r",
      " 99%|█████████▉| 1414/1428 [10:21<00:05,  2.52it/s]"
     ]
    },
    {
     "name": "stdout",
     "output_type": "stream",
     "text": [
      "retrieving http://oracc.org/etcsri/Q002036/html\n",
      "saving http://oracc.org/etcsri/Q002036 as HTML/etcsri_Q002036.html\n"
     ]
    },
    {
     "name": "stderr",
     "output_type": "stream",
     "text": [
      "\r",
      " 99%|█████████▉| 1415/1428 [10:21<00:04,  2.66it/s]"
     ]
    },
    {
     "name": "stdout",
     "output_type": "stream",
     "text": [
      "retrieving http://oracc.org/etcsri/Q002040/html\n",
      "saving http://oracc.org/etcsri/Q002040 as HTML/etcsri_Q002040.html\n"
     ]
    },
    {
     "name": "stderr",
     "output_type": "stream",
     "text": [
      "\r",
      " 99%|█████████▉| 1416/1428 [10:21<00:04,  2.75it/s]"
     ]
    },
    {
     "name": "stdout",
     "output_type": "stream",
     "text": [
      "retrieving http://oracc.org/etcsri/Q002115/html\n",
      "saving http://oracc.org/etcsri/Q002115 as HTML/etcsri_Q002115.html\n"
     ]
    },
    {
     "name": "stderr",
     "output_type": "stream",
     "text": [
      "\r",
      " 99%|█████████▉| 1417/1428 [10:22<00:04,  2.29it/s]"
     ]
    },
    {
     "name": "stdout",
     "output_type": "stream",
     "text": [
      "retrieving http://oracc.org/etcsri/Q002134/html\n",
      "saving http://oracc.org/etcsri/Q002134 as HTML/etcsri_Q002134.html\n"
     ]
    },
    {
     "name": "stderr",
     "output_type": "stream",
     "text": [
      "\r",
      " 99%|█████████▉| 1418/1428 [10:22<00:04,  2.34it/s]"
     ]
    },
    {
     "name": "stdout",
     "output_type": "stream",
     "text": [
      "retrieving http://oracc.org/etcsri/Q002135/html\n",
      "saving http://oracc.org/etcsri/Q002135 as HTML/etcsri_Q002135.html\n"
     ]
    },
    {
     "name": "stderr",
     "output_type": "stream",
     "text": [
      "\r",
      " 99%|█████████▉| 1419/1428 [10:23<00:03,  2.57it/s]"
     ]
    },
    {
     "name": "stdout",
     "output_type": "stream",
     "text": [
      "retrieving http://oracc.org/etcsri/Q002136/html\n",
      "saving http://oracc.org/etcsri/Q002136 as HTML/etcsri_Q002136.html\n"
     ]
    },
    {
     "name": "stderr",
     "output_type": "stream",
     "text": [
      "\r",
      " 99%|█████████▉| 1420/1428 [10:23<00:02,  2.67it/s]"
     ]
    },
    {
     "name": "stdout",
     "output_type": "stream",
     "text": [
      "retrieving http://oracc.org/etcsri/Q002137/html\n",
      "saving http://oracc.org/etcsri/Q002137 as HTML/etcsri_Q002137.html\n"
     ]
    },
    {
     "name": "stderr",
     "output_type": "stream",
     "text": [
      "\r",
      "100%|█████████▉| 1421/1428 [10:23<00:02,  2.71it/s]"
     ]
    },
    {
     "name": "stdout",
     "output_type": "stream",
     "text": [
      "retrieving http://oracc.org/etcsri/Q002190/html\n",
      "saving http://oracc.org/etcsri/Q002190 as HTML/etcsri_Q002190.html\n"
     ]
    },
    {
     "name": "stderr",
     "output_type": "stream",
     "text": [
      "\r",
      "100%|█████████▉| 1422/1428 [10:24<00:02,  2.08it/s]"
     ]
    },
    {
     "name": "stdout",
     "output_type": "stream",
     "text": [
      "retrieving http://oracc.org/etcsri/Q002192/html\n",
      "saving http://oracc.org/etcsri/Q002192 as HTML/etcsri_Q002192.html\n"
     ]
    },
    {
     "name": "stderr",
     "output_type": "stream",
     "text": [
      "\r",
      "100%|█████████▉| 1423/1428 [10:25<00:02,  1.88it/s]"
     ]
    },
    {
     "name": "stdout",
     "output_type": "stream",
     "text": [
      "retrieving http://oracc.org/etcsri/Q002239/html\n",
      "saving http://oracc.org/etcsri/Q002239 as HTML/etcsri_Q002239.html\n"
     ]
    },
    {
     "name": "stderr",
     "output_type": "stream",
     "text": [
      "\r",
      "100%|█████████▉| 1424/1428 [10:25<00:01,  2.11it/s]"
     ]
    },
    {
     "name": "stdout",
     "output_type": "stream",
     "text": [
      "retrieving http://oracc.org/etcsri/Q002240/html\n",
      "saving http://oracc.org/etcsri/Q002240 as HTML/etcsri_Q002240.html\n"
     ]
    },
    {
     "name": "stderr",
     "output_type": "stream",
     "text": [
      "\r",
      "100%|█████████▉| 1425/1428 [10:25<00:01,  2.28it/s]"
     ]
    },
    {
     "name": "stdout",
     "output_type": "stream",
     "text": [
      "retrieving http://oracc.org/etcsri/Q002241/html\n",
      "saving http://oracc.org/etcsri/Q002241 as HTML/etcsri_Q002241.html\n"
     ]
    },
    {
     "name": "stderr",
     "output_type": "stream",
     "text": [
      "\r",
      "100%|█████████▉| 1426/1428 [10:26<00:00,  2.44it/s]"
     ]
    },
    {
     "name": "stdout",
     "output_type": "stream",
     "text": [
      "retrieving http://oracc.org/etcsri/Q002242/html\n",
      "saving http://oracc.org/etcsri/Q002242 as HTML/etcsri_Q002242.html\n"
     ]
    },
    {
     "name": "stderr",
     "output_type": "stream",
     "text": [
      "\r",
      "100%|█████████▉| 1427/1428 [10:26<00:00,  2.49it/s]"
     ]
    },
    {
     "name": "stdout",
     "output_type": "stream",
     "text": [
      "retrieving http://oracc.org/etcsri/Q002257/html\n",
      "saving http://oracc.org/etcsri/Q002257 as HTML/etcsri_Q002257.html\n"
     ]
    },
    {
     "name": "stderr",
     "output_type": "stream",
     "text": [
      "100%|██████████| 1428/1428 [10:26<00:00,  2.62it/s]\n"
     ]
    }
   ],
   "source": [
    "if not os.path.exists('HTML'):\n",
    "    os.mkdir('HTML')\n",
    "for eachtextid in tqdm(textlist):\n",
    "    time.sleep(.01)\n",
    "    eachtextid = eachtextid.rstrip()\n",
    "    url = 'http://oracc.org/' + eachtextid + '/html'\n",
    "    print('retrieving ' + url)\n",
    "    with urllib.request.urlopen(url) as currentFile:\n",
    "        f = currentFile.read()\n",
    "        # if file has content, save\n",
    "        #identify P, Q, or X number and check that it appears in the file\n",
    "    textid = eachtextid[-7:]\n",
    "    if textid in str(f):\n",
    "        # replace / by _ in eachtextid in output filename\n",
    "        filename = 'HTML/' + eachtextid.replace('/', '_') + '.html'\n",
    "        print('saving ' + 'http://oracc.org/' + eachtextid + ' as ' + filename)\n",
    "        with open(filename, mode='wb') as writeFile:\n",
    "            writeFile.write(f)\n",
    "    else:\n",
    "        print(eachtextid + ' not available')\n"
   ]
  },
  {
   "cell_type": "code",
   "execution_count": null,
   "metadata": {
    "collapsed": true
   },
   "outputs": [],
   "source": []
  }
 ],
 "metadata": {
  "anaconda-cloud": {},
  "kernelspec": {
   "display_name": "Python [default]",
   "language": "python",
   "name": "python3"
  },
  "language_info": {
   "codemirror_mode": {
    "name": "ipython",
    "version": 3
   },
   "file_extension": ".py",
   "mimetype": "text/x-python",
   "name": "python",
   "nbconvert_exporter": "python",
   "pygments_lexer": "ipython3",
   "version": "3.5.2"
  }
 },
 "nbformat": 4,
 "nbformat_minor": 0
}
