{
 "cells": [
  {
   "cell_type": "markdown",
   "metadata": {},
   "source": [
    "# TODO\n",
    "The scraper output needs a field 'version' to make it compatible with ETCSL output. This field may be used for pseudo-composites such as [dcclt/Q000043](http://oracc.org/dcclt/Q000043) to indicate the designation of the tablet from which the text is taken."
   ]
  },
  {
   "cell_type": "markdown",
   "metadata": {},
   "source": [
    "# ORACC Scraper\n",
    "\n",
    "Generalized scraper for [ORACC](html://oracc.org) files. The scraper needs an input file, that lists the P, Q, or X numbers to be scraped. It will create an output file for each of these P, Q, or X numbers with line numbers and lemmatized words."
   ]
  },
  {
   "cell_type": "markdown",
   "metadata": {},
   "source": [
    "## Set up the environment\n",
    "Import the packages:\n",
    "- re Regular Expressions (for string manipulation)\n",
    "- BeautifulSoup (for parsing HTML pages)\n",
    "- tqdm for progress bar\n",
    "- ipywidgets for checkboxes and text input boxes\n",
    "- IPython.display to display widgets\n",
    "\n",
    "This scraper is written for Python3."
   ]
  },
  {
   "cell_type": "code",
   "execution_count": 1,
   "metadata": {
    "collapsed": false
   },
   "outputs": [
    {
     "name": "stdout",
     "output_type": "stream",
     "text": [
      "Running under Python version: (3, 5, 2)\n"
     ]
    }
   ],
   "source": [
    "#!/usr/bin/env python\n",
    "# -*- coding: utf-8 -*-\n",
    "#! pip install tqdm\n",
    "from __future__ import print_function\n",
    "from bs4 import BeautifulSoup\n",
    "import re\n",
    "import sys\n",
    "import os\n",
    "import ipywidgets as widgets\n",
    "from time import sleep\n",
    "from tqdm import *\n",
    "\n",
    "# Additional imports required for interactive outputter.\n",
    "# 1. ipywidgets to use checkboxes and text box widgets\n",
    "# 2. IPython.display to display these widgets\n",
    "from ipywidgets import Checkbox, interactive\n",
    "from IPython.display import display\n",
    "\n",
    "#this program should use python unit test\n",
    "PY3 = sys.version_info.major == 3\n",
    "\n",
    "if not PY3:\n",
    "    input = raw_input\n",
    "\n",
    "print(\"Running under Python version:\", sys.version_info[:3])"
   ]
  },
  {
   "cell_type": "markdown",
   "metadata": {},
   "source": [
    "## Format Output Options\n",
    "- Select output variables to display by checking the box next to the data element. \n",
    "- To provide optional values to filter by for the selected elements, type the desired value in the text box. If the text box is left blank, the output will not be filtered on that field.\n",
    "- When multiple text boxes are filled with values, only output matching all the specifications are displayed.\n",
    "- If you want to filter in a way such that text matching any of the values listed should be outputted, type in a comma separated list for each element that is acceptable in the appropriate input field. For example, if you want to output text that is either Akkadian or Sumerian, in the 'lang' text box, type in akk,sux (or sux,akk - but no spaces in between options).\n",
    "- If you want to exclude certain values for an attribute (e.g. Akkadian for 'lang' or N for 'pos'), type in -akk or -N in the input box.\n",
    "- The default output is \"lang:citform[guide]pos\", so those 4 options are initially checked. The text fields are initially empty, so there are no restrictions (nothing is filtered out). \n",
    "- You can check and uncheck any of the options, as well as provide values to filter the output by.\n",
    "\n",
    "### Examples\n",
    "- Example 1: If we only want to display nouns, make sure pos is checked, and type in 'N' in the text field next to pos.\n",
    "- Example 2: If we only want display nouns, and the language if it is Sumerian, make sure lang and pos are checked, and type in 'sux' for lang and 'N' for pos. This will only output text that is both in Sumerian and a noun.\n",
    "- Example 3: If we want keep nouns, but only display 'lang', make sure lang is checked, and type in 'N' for pos. This will only output text with the language, and filter out text so that all outputs are nouns even though pos isn't displayed.\n",
    "- Special Edge Case: If you want to output all proper nouns, you can type QPN in the pos text box.\n",
    "\n",
    "### Summary:\n",
    "- Checkboxes are for choosing which options you want to display.\n",
    "- Input boxes are for filtering text whose values match the values in the boxes.\n",
    "- You can check boxes without filtering, and you can also type in values to filter by without checking the box."
   ]
  },
  {
   "cell_type": "code",
   "execution_count": 2,
   "metadata": {
    "collapsed": false
   },
   "outputs": [],
   "source": [
    "# Step 1: Create a list of all possible output options.\n",
    "l = [\"lang\", \"translit\", \"citform\", \"guide\", \"sense\", \"pos\", \"epos\", \"norm\", \"base\", \"morph\"]\n",
    "\n",
    "# Step 2: Create a checkbox widget for each element in the option list using a list comprehension. \n",
    "#         Set the description argument of checkbox equal to the variable \"a\", the element name.\n",
    "checks = [widgets.Checkbox(description=a) for a in l]\n",
    "\n",
    "# Step 3: Create a text box input widget for each element in the option list using a list comprehension. \n",
    "#         Set the description argument of checkbox equal to the empty string, since we don't want\n",
    "#         the option name to be repeated twice.\n",
    "inputs = [widgets.Text(description=\"\") for a in l]\n",
    "\n",
    "# Step 4: Sets the 'lang', 'citform', 'guide', and 'pos' checkboxes as checked from the start.\n",
    "for c in checks:\n",
    "    if c.description in ['lang', 'citform', 'guide', 'pos']:\n",
    "        c.value = True\n",
    "\n",
    "# Step 5: Combine the list of 10 checkboxes into one vertical column widget using VBox.\n",
    "checkboxes = widgets.VBox(checks)\n",
    "\n",
    "# Step 6: Combine the list of 10 input text boxes into one vertical column widget using VBox.\n",
    "inputboxes = widgets.VBox(inputs)\n",
    "\n",
    "# Step 7: Combine the two column widgets, checkboxes and inputboxes, to be side-by-side using HBox.\n",
    "combined_check_input = widgets.HBox([checkboxes, inputboxes])\n",
    "\n",
    "# Step 8: Display the combined widget.\n",
    "display(combined_check_input)"
   ]
  },
  {
   "cell_type": "code",
   "execution_count": 3,
   "metadata": {
    "collapsed": false
   },
   "outputs": [],
   "source": [
    "textiderror = 'Not available:\\n'"
   ]
  },
  {
   "cell_type": "markdown",
   "metadata": {},
   "source": [
    "# Input File\n",
    "\n",
    "The input file should be located in a directory called /Input, which must be located in the directory in which this Python Notebook is found. The file should have a .txt extension and must be created with a flat text editor such as TextEdit, Notepad, or Emacs. The file contains a simple list of P, Q, or X numbers, preceded by the ORACC abbreviation where the file is edited. For instance:\n",
    "\n",
    "    rinap/rinap1/Q003421\n",
    "    dcclt/Q000039\n",
    "    cams/gkab/P348623\n",
    "\n",
    "Before running this scraper, use the same input file to download the text material (in html format) with the ORACC Downloader to the /Data directory.\n",
    "\n",
    "Run everything above this cell, select the output format options you wish to display with the checkboxes, and type in anything you want to include (e.g. V for verbs in the 'pos' field, akk for Akkadian in the 'lang' field), or exclude (put a \"-\" minus sign in front of what you want to exclude, e.g. -N in 'pos' excludes all nouns, -sux in 'lang' means no Sumerian) in the text boxes. Then run everything below this cell and type in the Input .txt file you want to scrape."
   ]
  },
  {
   "cell_type": "code",
   "execution_count": 4,
   "metadata": {
    "collapsed": false
   },
   "outputs": [
    {
     "name": "stdout",
     "output_type": "stream",
     "text": [
      "Name of Input List: etcsri.txt\n"
     ]
    }
   ],
   "source": [
    "inputfile = input(\"Name of Input List: \")"
   ]
  },
  {
   "cell_type": "markdown",
   "metadata": {},
   "source": [
    "# Format Output\n",
    "\n",
    "The function outputformat() defines what the output of the lemmatized forms will look like. This function may be adapted in various ways to produce different types of output. The function takes a dictionary as input with the following keys: \n",
    "\n",
    "- 1     lang: Language\n",
    "- 2     translit: Transliteration\n",
    "- 3     citform: Citation Form\n",
    "- 4     guide: Guide Word\n",
    "- 5     sense: Sense\n",
    "- 6     pos: Part of Speech\n",
    "- 7     epos: Effective Part of Speech\n",
    "- 8     norm: Normalization\n",
    "- 9     base: Base (Sumerian only)\n",
    "- 10    morph: Morphology (Sumerian only)\n",
    "\n",
    "In the standard format the output will look like: sux:lugal[king]N. One may adapt the output, for instance, by omitting the element lang (lugal[king]N) or to select for certain parts of speech, or for certain language codes. For instance:\n",
    "```python\n",
    "    if output['pos'] == 'N':\n",
    "        output_formatted = output['citform'] + \"\\t\" + output['guide']\n",
    "```\n",
    "This will create output in the form lugal   king (lugal and king seperated by TAB), selecting only Nouns (excluding Proper Nouns).\n",
    "\n",
    "```python\n",
    "    if output['lang'] == 'sux-x-emesal':\n",
    "        output_formatted = output['citform'] + \"[\" + output['guide'] + \"]\" + output['pos']\n",
    "```\n",
    "This will create output in the form umun[lord]N, selecting only Emesal words.\n",
    "In order to select both Sumerian (sux) and Emesal (sux-x-emesal) forms one could use:\n",
    "```python\n",
    "    if output['lang'][0:3] == 'sux':\n",
    "```\n"
   ]
  },
  {
   "cell_type": "markdown",
   "metadata": {
    "collapsed": true
   },
   "source": [
    "This code may be used (instead of the next cell) to only return proper nouns in the format CF[GW]POS:\n",
    "`def outputformat(output):\n",
    "    #output_formatted = ''\n",
    "    QPN = ('AN', 'CN', 'DN', 'EN', 'FN', 'GN', 'LN', 'MN', 'ON', 'PN', 'QN', 'RN', 'SN', 'TN', 'WN', 'YN')\n",
    "    if output['pos'] in QPN:\n",
    "        output_formatted = output['citform'] + \"[\" + output['guide'] + \"]\" + output['pos']\n",
    "    else:\n",
    "        return None\n",
    "    return output_formatted`"
   ]
  },
  {
   "cell_type": "code",
   "execution_count": 5,
   "metadata": {
    "collapsed": false
   },
   "outputs": [],
   "source": [
    "# List of proper nouns for the special QPN edge case.\n",
    "QPN = ('AN', 'CN', 'DN', 'EN', 'FN', 'GN', 'LN', 'MN', 'ON', 'PN', 'QN', 'RN', 'SN', 'TN', 'WN', 'YN')\n",
    "\n",
    "# Step 1: Use a list comprehension to store all checkboxes that are true. \"for c in checks\" iterates\n",
    "#         through all the checkboxes, and \"if c.value\" only keeps the ones that are marked true.\n",
    "#         We store the checkboxes marked true in a tuple, (option name, corresponding value in the input box).\n",
    "#         Option name is just the description argument in checkbox. We get the value of the input box\n",
    "#         by finding the equivalent index of c (checks.index(c)) in the inputs list, and then getting the value\n",
    "#         of this input box element. This relies on the fact that the index of the checkbox corresponds \n",
    "#         to the index of the input box. For example, index 0 for the checkbox list is 'lang', and\n",
    "#         index 0 for the inputs list contains the value of 'lang' if we want to filter it.\n",
    "\n",
    "options_selected = [(c.description, inputs[checks.index(c)].value) for c in checks if c.value]\n",
    "\n",
    "# Step 2: Use a list comprehension to store all restrictions, i.e. text fields that are filled. \n",
    "#         \"for i in inputs\" iterates through all the input boxes, and \"i.value != '' \" only keeps \n",
    "#         the ones that are filled with some text. We store the restrictions in a tuple, \n",
    "#         (option name in corresponding checkbox, value in the input box). Option name is the description \n",
    "#         argument of the corresponding checkbox element. We can get the option name using the \n",
    "#         same corresponding index strategy as in step 1. i.value is the value in the input box.\n",
    "#         i.value != '' and i.value[0] != \"-\" tells us which values should be the only ones included.\n",
    "#         i.value != '' and i.value[0] == \"-\" means the value starts with a negative, so we exclude it.\n",
    "\n",
    "keep = [(checks[inputs.index(i)].description, i.value) for i in inputs if i.value != '' and i.value[0] != \"-\"]\n",
    "ban = [(checks[inputs.index(i)].description, i.value) for i in inputs if i.value != '' and i.value[0] == \"-\"]\n",
    "\n",
    "# Step 3: Write a function that takes in the output and a list of restrictions.\n",
    "#         Returns True if the output meets every restriction.\n",
    "#         Returns False if it fails to meet at least one restriction.\n",
    "\n",
    "def conforms(output, keep, ban):\n",
    "    for k in keep:\n",
    "        # Special edge case for QPN proper nouns.\n",
    "        # The continue statement stops the current iteration, and\n",
    "        # forces the for loop to move on to the next restriction.\n",
    "        if k[0] == 'pos' and k[1] == 'QPN' and output['pos'] in QPN:\n",
    "            continue\n",
    "        \n",
    "        # If the output's value (output[r[0]]) for an element, r[0], \n",
    "        # is not in the list of permitted values (r[1]) inputted in the text box \n",
    "        # for that element, immediately return False.\n",
    "        if output[k[0]] not in k[1].split(','):\n",
    "            return False\n",
    "        \n",
    "    for b in ban:\n",
    "        # Special edge case for QPN proper nouns.\n",
    "        # If text is -QPN, exclude all QPN words.\n",
    "        if b[0] == 'pos' and b[1][1:]  == 'QPN' and output['pos'] in QPN:\n",
    "            return False\n",
    "        \n",
    "        # If the output's value (output[r[0]]) for an element, r[0], \n",
    "        # is on the excluded list, immediately return False.\n",
    "        if \"-\" + output[b[0]] in b[1].split(','):\n",
    "            return False\n",
    "    return True\n",
    "\n",
    "# Step 4: Given the output, the data element, and the list of all options checked, add the \n",
    "#         appropriate separators before and after the output's value for this data element.\n",
    "#         Return the string of the output's value for this data element with punctuation added.\n",
    "\n",
    "def addSeparators(output, field, all_options):\n",
    "    # This if statement deals with the case when 'morph' and/or 'base' are checked\n",
    "    # and the output is not Sumerian. Only Sumerian and Emesal words have morph and base elements. \n",
    "    # If the language of the text does not start with 'sux' and we are adding\n",
    "    # separators for 'base' or 'morph', this function returns the empty string\n",
    "    # to avoid a KeyError.\n",
    "    \n",
    "    if output['lang'][0:2] != 'sux' and (field == 'base' or field == 'morph'):\n",
    "        return \"\"\n",
    "    \n",
    "    # The text variable holds the value of the element in the text.\n",
    "    text = output[field]\n",
    "    \n",
    "    # Depending on which data element we are working with, we have to prepend\n",
    "    # or append certain punctuation marks to complete the ORACC signature.\n",
    "    # If the data element we are considering does not need any additional\n",
    "    # punctuation, we simply return the text variable at the end.\n",
    "    \n",
    "    if field == 'lang':\n",
    "        return text + \":\"\n",
    "    if field == 'translit':\n",
    "        return text + \"=\"\n",
    "    \n",
    "    # For the guide word and sense case, if only one is checked, surround it with [].\n",
    "    # If both are checked, put the \"[\" before the guide word, the \"//\" before the\n",
    "    # sense, and \"]\" after the sense.\n",
    "    \n",
    "    if field == 'guide':\n",
    "        if 'sense' not in [a[0] for a in all_options]:\n",
    "            return \"[\" + text + \"]\"\n",
    "        return \"[\" + text\n",
    "    if field == 'sense':\n",
    "        if 'guide' not in [a[0] for a in all_options]:\n",
    "            return \"[\" + text + \"]\"\n",
    "        return \"//\" + text + \"]\"\n",
    "    \n",
    "    if field == 'epos':\n",
    "        return \"'\" + text\n",
    "    if field == 'norm':\n",
    "        return \"$\" + text\n",
    "    if field == 'base':\n",
    "        return \"/\" + text\n",
    "    if field == 'morph':\n",
    "        return \"#\" + text\n",
    "    return text\n",
    "    \n",
    "# Step 5: Write the function that builds the actual output\n",
    "#         given a dictionary of the values for the data elements\n",
    "#         in the text.\n",
    "\n",
    "def outputformat(output):\n",
    "    # Only output text that meets the restrictions.\n",
    "    if conforms(output, keep, ban):\n",
    "        \n",
    "        # Start with an empty string.\n",
    "        output_formatted = ''\n",
    "        \n",
    "        # For all data elements checked\n",
    "        for options in options_selected:\n",
    "            # Concatenate the value of each data element checked \n",
    "            # with its punctuation to the existing formatted output.\n",
    "            # options[0] gives the name of the data element.\n",
    "            \n",
    "            output_formatted += addSeparators(output, options[0], options_selected)\n",
    "            \n",
    "        return output_formatted\n",
    "    \n",
    "    # Texts that do not meet the restrictions return None.\n",
    "    else:\n",
    "        return None"
   ]
  },
  {
   "cell_type": "markdown",
   "metadata": {},
   "source": [
    "# Parse an ORACC lemma\n",
    "\n",
    "The function `parselemma()` parses a so-called ORACC 'signature.' It is called by the `getline()` function where these signatures are extracted from the html files. A signature, as extracted by the `getline()` function, looks as follows:\n",
    "\n",
    "> javascript:pop1sig('dcclt','','@dcclt%sux:am-si=amsi[elephant//elephant]N´N$amsi/am-si#~').\n",
    "\n",
    "Akkadian signatures look slightly different, lacking the last two elements (after the /). The `parselemma()` function removes all the superfluous elements and breaks the string up into its parts. It returns a dictionary that lists all of these parts. The function `getline()` forwards this dictionary to the function `formatoutput()`, which uses its keys and values to build a usable data structure and/or to filter the data."
   ]
  },
  {
   "cell_type": "code",
   "execution_count": 6,
   "metadata": {
    "collapsed": true
   },
   "outputs": [],
   "source": [
    "def parselemma(signature):\n",
    "    output = {}\n",
    "    signature = signature.replace(' ', '-')\n",
    "    signature = signature.replace(',', ';') #remove spaces and commas from GuideWord and Sense\n",
    "    oracc_words = re.sub(\"'\\)$\", \"\", signature) #remove ') from the end of the signature\n",
    "    oracc_words = re.sub('^[^%]*%', '', oracc_words) #remove everything before the first % in the signature\n",
    "    \n",
    "    sep_char = [\":\", \"=\", \"$\", \"#\", \"[\", \"]\", \"//\"] # these are the character sequences that separate\n",
    "                                                    # the various elements of the signature\n",
    "    for eachchar in sep_char:\n",
    "        oracc_words = oracc_words.replace(eachchar, \" \", 1) # ':' may appear in guideword/sense, so replace only once\n",
    "    \n",
    "    oracc_words_l = oracc_words.split() #split signature into a list\n",
    "    output['lang'] = oracc_words_l[0]\n",
    "    output['translit'] = oracc_words_l[1]\n",
    "    output['citform'] = oracc_words_l[2]\n",
    "    output['guide'] = oracc_words_l[3]\n",
    "    output['sense'] = oracc_words_l[4]\n",
    "\n",
    "    oracc_words_l[5] = oracc_words_l[5].replace(\"´\", \" \") # this separates pos from epos\n",
    "    oracc_words_l[5] = oracc_words_l[5].split() #split into sub-list\n",
    "    output['pos'] = oracc_words_l[5][0]\n",
    "    output['epos'] = oracc_words_l[5][1]\n",
    "    \n",
    "    if output['lang'][0:2] == 'sux': # Sumerian or Emesal signature\n",
    "        oracc_words_l[6] = oracc_words_l[6].replace(\"/\", \" \") # this separates norm from base in sux\n",
    "        oracc_words_l[6] = oracc_words_l[6].split() #split into sub-list\n",
    "        output['norm'] = oracc_words_l[6][0]\n",
    "        output['base'] = oracc_words_l[6][1]\n",
    "        output['morph'] = oracc_words_l[7]\n",
    "    \n",
    "    else:\n",
    "        output['norm'] = oracc_words_l[6]\n",
    "    \n",
    "    return output"
   ]
  },
  {
   "cell_type": "markdown",
   "metadata": {},
   "source": [
    "## Compound Orthographic Forms\n",
    "\n",
    "Compound Orthographic Forms are combinations of two or more words that are written with a single graphemic complex. Examples are *im-ma-ti* for *ina mati* (when?) or {lu₂}EN.NAM for *bēl pīhati* (governor). In ORACC HTML, the words in a COF are combined in a single signature, separated by '&&':\n",
    "\n",
    "> javascript:pop1sig('saao/saa10','','@saao/saa10%akk-x-neoass:im-ma-ti=ina[in//in]PRP´PRP\\$ina&&@saao/saa10%akk-x-neoass:=mati[when?//when?]QP´QP\\$mati')\n",
    "\n",
    "The function `cof()` is called, when necessary, by `getline()`. It splits the signature at the '&&' separator and returns a list of signatures. The transliteration (in this case *im-ma-ti*), which is included only in the first signature, is isolated and assigned to the variable `translit`. This transliteration is inserted in the remaining signatures at the proper place.\n",
    "\n",
    "Occasionally, in some COF signatures, the second and further words do not have their own normalization (introduced by $) - this is, presumably, an irregularity in ORACC. If this is the case, normalization is supplied by assuming that it is equal to the citation form in the function `supplynorm()`.\n"
   ]
  },
  {
   "cell_type": "code",
   "execution_count": 7,
   "metadata": {
    "collapsed": false
   },
   "outputs": [],
   "source": [
    "def cof(signature):\n",
    "    signature = signature.replace(\"javascript:pop1sig('\", \"\")\n",
    "    signature = signature.replace(\"')\", \"\")\n",
    "    translit = re.search(':(.*?)=', signature).group(1) #TODO replace the expression with positive look back\n",
    "                                                        # and positive look ahead expression\n",
    "    cofsignatures = signature.split('&&@')\n",
    "    cofsignatures = [cofsignature.replace(':=', ':' + translit + '=') for cofsignature in cofsignatures]\n",
    "\n",
    "    def supplynorm(cofsignature):\n",
    "        if not '$' in cofsignature:\n",
    "            citform = re.search('=(.*?)\\[', cofsignature).group(1)\n",
    "            cofsignature = cofsignature + '$' + citform\n",
    "        return cofsignature\n",
    "    \n",
    "    cofsignatures = [supplynorm(cofsignature) for cofsignature in cofsignatures]\n",
    "        \n",
    "    return cofsignatures"
   ]
  },
  {
   "cell_type": "markdown",
   "metadata": {},
   "source": [
    "# Process a Line\n",
    "\n",
    "The function `getline()` receives a line with metadata from the function `scrape()`. It returns a single variable (`line`) that contains the lines metadata and the formatted lemmata in a single string. \n",
    "\n",
    "The function needs two arguments. The first, `line_label`, includes all the metadata of the line: `id_text`, `text_name`, and `l_no` in a single string (separated by commas). The second argument, `line`, is a `BeautifulSoup` object that holds the HTML representation of a single line.\n",
    "\n",
    "Each line contains a series of words, represented as `signatures` in ORACC HTML. The function collects the signatures in the list `lemmas` and iterates over these. If a signature represents a Compound Orthographic Form (a combination of multiple lemmas, separated by '&&') it is sent to the function `cof()` in order to split the signature in its component forms.\n",
    "\n",
    "Each signature is sent to `parselemma()`, where it is analyzed. The function `parselemma()` returns a dictionary (`output`) that contains all the elements of the signature (transliteration, citation form, guide word, etc.). This dictionary is sent to the function `outputformat()` which returns a string, combining elements of the signature in the desired format (the default is language:citform[guide]pos, as in sux:lugal[king]N). This string is added to the list `wordsinline`. Finally, once all lemmas (signatures) have been processed, the function builds a single string out of the `line_label` (metadata) and the formatted lemmas in `wordsinline`. This string is returned in the variable `line`."
   ]
  },
  {
   "cell_type": "code",
   "execution_count": 8,
   "metadata": {
    "collapsed": false
   },
   "outputs": [],
   "source": [
    "def getline(line_label, line):\n",
    "    wordsinline = [] #initialize list for the words in this line\n",
    "    lemmas = line.findAll('a', {'class':'cbd'}, href=True)\n",
    "    for eachlemma in lemmas:\n",
    "        signature = eachlemma['href']\n",
    "        if '&&@' in signature:  #Compound Orthographic Form, which results in multiple lemmas\n",
    "            cofsignatures = cof(signature)\n",
    "            for cofsignature in cofsignatures:\n",
    "                output = parselemma(cofsignature)\n",
    "                output_formatted = outputformat(output)\n",
    "                if not output_formatted == None:\n",
    "                    wordsinline.append(output_formatted)\n",
    "        else:\n",
    "            output = parselemma(signature)\n",
    "            output_formatted = outputformat(output)\n",
    "            if not output_formatted == None:\n",
    "                wordsinline.append(output_formatted)\n",
    "    line = line_label + ' '.join(wordsinline)\n",
    "    return line"
   ]
  },
  {
   "cell_type": "markdown",
   "metadata": {},
   "source": [
    "# Scrape a Single Text\n",
    "\n",
    "The function `scrape()` takes a single text file and uses the `BeautifulSoup` package to analyze the HTML and return the data in a csv (Comma Separated Values) format. The function is called by the main process.\n",
    "\n",
    "The function `scrape()` first identifies the name (or designation) of the text - if it cannot find the name, the text is not further processed and an error message is returned.\n",
    "\n",
    "The function then identifies a line and sends this line to the function `getline()` for further processing. The line number is a string that belongs to the attribute `class = 'xlabel'`. Text name, text id and line number are combined into a single string as `line_label` - which is sent to `getline()` as its first argument (the second is the line itself).\n",
    "\n",
    "If there is no `class = 'xlabel'` attribute, this means that the line belongs with the previous line as a single unit. This happens in interlinear bilinguals and, occasionally, in the representation of explanatory glosses (see, e.g. SAA 10, 044). In such cases the variable `line` from the previous iteration (which is a single string, concatenating `line_label` and the formatted lemmas) is sent, in its entirety, as the first argument to `getline()` so that the new lemma or lemmas will be added to the end of it.\n",
    "\n",
    "Finally all lines are assembled in the variable `csvformat`, which is returned to the main process."
   ]
  },
  {
   "cell_type": "code",
   "execution_count": 9,
   "metadata": {
    "collapsed": false
   },
   "outputs": [],
   "source": [
    "def scrape(text_id):\n",
    "    print('Parsing ' + text_id)\n",
    "    line = ''\n",
    "    csvformat ='id_text,text_name,version,l_no,text\\n' #initialize output variable\n",
    "    with open('HTML/' + text_id.replace('/', '_') + '.html', encoding='utf8') as f:\n",
    "        raw_html = f.read()\n",
    "    soup = BeautifulSoup(raw_html, \"html.parser\")\n",
    "    name = soup.find('h1', {'class':'p3h2'}).string\n",
    "    #if there is no text name, there are errors in atf and page was not built correctly\n",
    "    if name == None:\n",
    "        print(eachtextid + \" is not built correctly.\")\n",
    "    else:\n",
    "        #if name includes comma, replace comma with nothing\n",
    "        name = name.replace(',','')\n",
    "        print(eachtextid + \":\" + name)\n",
    "        #all line HTML tags and also tags of the form\n",
    "        #<div dc:title=\"...\"> which contains the versions\n",
    "        #as their text. We will find all lines containing\n",
    "        #signatures plus the version headers if applicable\n",
    "        lines = soup.findAll(lambda tag: (tag.name == 'tr' and 'class' in tag.attrs and tag.attrs['class'][0] == 'l') \n",
    "                                    or (tag.name == 'div' and 'dc:title' in tag.attrs))\n",
    "        version = '' # set default version to empty string at the very beginning\n",
    "        for index, eachline in enumerate(lines):\n",
    "            #all versions are included as text inside <a target=\"_blank\"> tags, \n",
    "            #so we look for these tags for each line\n",
    "            #if text never has any versions, BeautifulSoup will never\n",
    "            #find these 'a' tags so version is the default value \"\"\n",
    "            subtitle = eachline.find('a', {'target': '_blank'})\n",
    "            #check if the line contains this type of tag\n",
    "            if subtitle:\n",
    "                version = subtitle.string.replace(',', '') # assign the tag's text to the version variable\n",
    "            if eachline.find('a', {'class':'cbd'}, href=True) == None: # if the line has no words\n",
    "                continue                                               # go to next line\n",
    "            if eachline.find('span', {'class': 'xlabel'}) != None and eachline.find('span', {'class': 'xlabel'}).string != None:\n",
    "                l_no = eachline.find('span', {'class': 'xlabel'}).string.replace(',', ';')\n",
    "                line_label = text_id + ',' + name + ',' + version + ',' + l_no + ','\n",
    "                line = getline(line_label, eachline)\n",
    "                try:\n",
    "                    nextline = lines[index + 1]\n",
    "                    if nextline.find('span', {'class': 'xlabel'}) == None: #if next line has no line number\n",
    "                        if nextline.find('a', {'class':'cbd'}, href=True) == None: #ignore if there are no lemmatized words\n",
    "                            continue                                               # in next line\n",
    "                        else:\n",
    "                            line_label = line + ' '                         # otherwise join output with previous line\n",
    "                            line = getline(line_label, nextline)\n",
    "                except:\n",
    "                    continue\n",
    "            else:\n",
    "                continue\n",
    "            csvformat = csvformat + line + '\\n'\n",
    "    return csvformat\n",
    "        "
   ]
  },
  {
   "cell_type": "markdown",
   "metadata": {},
   "source": [
    "# Main Process\n",
    "\n",
    "The main process opens the list of text IDs (in the directory `Input`) to be processed and iterates over that list. The process calls the function `scrape()` which, in turn, calls the other functions defined above.\n",
    "\n",
    "The function creates a separate file for each of the scraped documents in the directory Output. A list of texts that could not be scraped is saved in the directory Error."
   ]
  },
  {
   "cell_type": "code",
   "execution_count": 10,
   "metadata": {
    "collapsed": false
   },
   "outputs": [
    {
     "name": "stderr",
     "output_type": "stream",
     "text": [
      "  0%|          | 3/1428 [00:00<00:48, 29.25it/s]"
     ]
    },
    {
     "name": "stdout",
     "output_type": "stream",
     "text": [
      "Parsing etcsri/Q004872\n",
      "etcsri/Q004872:Anonymous unclear 1\n",
      "Saving Output/etcsri_Q004872.txt\n",
      "\n",
      "Parsing etcsri/Q004244\n",
      "etcsri/Q004244:E-pa-e 1\n",
      "Saving Output/etcsri_Q004244.txt\n",
      "\n",
      "Parsing etcsri/Q004245\n",
      "etcsri/Q004245:Nigir-eša-tum 1\n",
      "Saving Output/etcsri_Q004245.txt\n",
      "\n",
      "Parsing etcsri/Q004246\n",
      "etcsri/Q004246:Anonymous Nippur 65add\n",
      "Saving Output/etcsri_Q004246.txt\n",
      "\n",
      "Parsing etcsri/Q004247\n",
      "etcsri/Q004247:Ur-ešlila 1\n"
     ]
    },
    {
     "name": "stderr",
     "output_type": "stream",
     "text": [
      "\r",
      "  0%|          | 5/1428 [00:00<00:59, 23.83it/s]"
     ]
    },
    {
     "name": "stdout",
     "output_type": "stream",
     "text": [
      "Saving Output/etcsri_Q004247.txt\n",
      "\n",
      "Parsing etcsri/Q004248\n",
      "etcsri/Q004248:Anonymous Lagaš 31add\n",
      "Saving Output/etcsri_Q004248.txt\n",
      "\n",
      "Parsing etcsri/Q004868\n",
      "etcsri/Q004868:Unnamed rulers of Lagaš 4add\n"
     ]
    },
    {
     "name": "stderr",
     "output_type": "stream",
     "text": [
      "\r",
      "  0%|          | 7/1428 [00:00<01:32, 15.35it/s]"
     ]
    },
    {
     "name": "stdout",
     "output_type": "stream",
     "text": [
      "Saving Output/etcsri_Q004868.txt\n",
      "\n",
      "Parsing etcsri/Q004834\n",
      "etcsri/Q004834:En-metena 32add\n",
      "Saving Output/etcsri_Q004834.txt\n",
      "\n",
      "Parsing etcsri/Q004249\n",
      "etcsri/Q004249:Geme-Bau 1\n"
     ]
    },
    {
     "name": "stderr",
     "output_type": "stream",
     "text": [
      "  1%|          | 10/1428 [00:00<02:33,  9.26it/s]"
     ]
    },
    {
     "name": "stdout",
     "output_type": "stream",
     "text": [
      "Saving Output/etcsri_Q004249.txt\n",
      "\n",
      "Parsing etcsri/Q004250\n",
      "etcsri/Q004250:Arad-Dumuzida 1\n",
      "Saving Output/etcsri_Q004250.txt\n",
      "\n",
      "Parsing etcsri/Q004106\n"
     ]
    },
    {
     "name": "stderr",
     "output_type": "stream",
     "text": [
      "\r",
      "  1%|          | 12/1428 [00:01<02:18, 10.26it/s]"
     ]
    },
    {
     "name": "stdout",
     "output_type": "stream",
     "text": [
      "etcsri/Q004106:Bara-sagnudi 1\n",
      "Saving Output/etcsri_Q004106.txt\n",
      "\n",
      "Parsing etcsri/Q004251\n",
      "etcsri/Q004251:Tulili 1\n",
      "Saving Output/etcsri_Q004251.txt\n",
      "\n",
      "Parsing etcsri/Q001198\n",
      "etcsri/Q001198:Me-ba-LAK551 1\n",
      "Saving Output/etcsri_Q001198.txt\n",
      "\n",
      "Parsing etcsri/Q001214\n",
      "etcsri/Q001214:Bara-heNIdu 1\n"
     ]
    },
    {
     "name": "stderr",
     "output_type": "stream",
     "text": [
      "\r",
      "  1%|          | 14/1428 [00:01<02:05, 11.22it/s]"
     ]
    },
    {
     "name": "stdout",
     "output_type": "stream",
     "text": [
      "Saving Output/etcsri_Q001214.txt\n",
      "\n",
      "Parsing etcsri/Q001199\n",
      "etcsri/Q001199:Bara-heNIdu 2001\n",
      "Saving Output/etcsri_Q001199.txt\n",
      "\n",
      "Parsing etcsri/Q001203\n",
      "etcsri/Q001203:Lugalda-lu 1\n"
     ]
    },
    {
     "name": "stderr",
     "output_type": "stream",
     "text": [
      "  1%|▏         | 19/1428 [00:01<02:00, 11.69it/s]"
     ]
    },
    {
     "name": "stdout",
     "output_type": "stream",
     "text": [
      "Saving Output/etcsri_Q001203.txt\n",
      "\n",
      "Parsing etcsri/Q001204\n",
      "etcsri/Q001204:LUM-ma 1\n",
      "Saving Output/etcsri_Q001204.txt\n",
      "\n",
      "Parsing etcsri/Q001205\n",
      "etcsri/Q001205:LUM-ma 2\n",
      "Saving Output/etcsri_Q001205.txt\n",
      "\n",
      "Parsing etcsri/Q001212\n",
      "etcsri/Q001212:Anonymous Adab 07\n",
      "Saving Output/etcsri_Q001212.txt\n",
      "\n",
      "Parsing etcsri/Q001213\n",
      "etcsri/Q001213:Anonymous Adab 08\n"
     ]
    },
    {
     "name": "stderr",
     "output_type": "stream",
     "text": [
      "  2%|▏         | 23/1428 [00:01<01:39, 14.13it/s]"
     ]
    },
    {
     "name": "stdout",
     "output_type": "stream",
     "text": [
      "Saving Output/etcsri_Q001213.txt\n",
      "\n",
      "Parsing etcsri/Q001218\n",
      "etcsri/Q001218:Anonymous Adab 13\n",
      "Saving Output/etcsri_Q001218.txt\n",
      "\n",
      "Parsing etcsri/Q001228\n",
      "etcsri/Q001228:Anonymous Fara 4\n",
      "Saving Output/etcsri_Q001228.txt\n",
      "\n",
      "Parsing etcsri/Q001239\n",
      "etcsri/Q001239:Anonymous Khafaje 11\n",
      "Saving Output/etcsri_Q001239.txt\n",
      "\n",
      "Parsing etcsri/Q001183\n",
      "etcsri/Q001183:Aga-ak 1\n"
     ]
    },
    {
     "name": "stderr",
     "output_type": "stream",
     "text": [
      "\r",
      "  2%|▏         | 25/1428 [00:02<01:57, 11.96it/s]"
     ]
    },
    {
     "name": "stdout",
     "output_type": "stream",
     "text": [
      "Saving Output/etcsri_Q001183.txt\n",
      "\n",
      "Parsing etcsri/Q001202\n",
      "etcsri/Q001202:E-IGI.NIM-pa'e 1\n",
      "Saving Output/etcsri_Q001202.txt\n",
      "\n",
      "Parsing etcsri/Q001201\n",
      "etcsri/Q001201:E-IGI.NIM-pa'e 2\n",
      "Saving Output/etcsri_Q001201.txt\n",
      "\n",
      "Parsing etcsri/Q003637\n",
      "etcsri/Q003637:Mes-kigala 2001\n"
     ]
    },
    {
     "name": "stderr",
     "output_type": "stream",
     "text": [
      "\r",
      "  2%|▏         | 27/1428 [00:02<02:23,  9.77it/s]"
     ]
    },
    {
     "name": "stdout",
     "output_type": "stream",
     "text": [
      "Saving Output/etcsri_Q003637.txt\n",
      "\n",
      "Parsing etcsri/Q004105\n",
      "etcsri/Q004105:Mes-kigala 2002\n",
      "Saving Output/etcsri_Q004105.txt\n",
      "\n",
      "Parsing etcsri/Q001241\n",
      "etcsri/Q001241:EN.ME-barage-si 1\n",
      "Saving Output/etcsri_Q001241.txt\n",
      "\n"
     ]
    },
    {
     "name": "stderr",
     "output_type": "stream",
     "text": [
      "  2%|▏         | 31/1428 [00:02<02:11, 10.60it/s]"
     ]
    },
    {
     "name": "stdout",
     "output_type": "stream",
     "text": [
      "Parsing etcsri/Q001242\n",
      "etcsri/Q001242:EN.ME-barage-si 2\n",
      "Saving Output/etcsri_Q001242.txt\n",
      "\n",
      "Parsing etcsri/Q001243\n",
      "etcsri/Q001243:Utuk/Uhub 1\n",
      "Saving Output/etcsri_Q001243.txt\n",
      "\n",
      "Parsing etcsri/Q001244\n"
     ]
    },
    {
     "name": "stderr",
     "output_type": "stream",
     "text": [
      "\r",
      "  2%|▏         | 33/1428 [00:03<02:51,  8.13it/s]"
     ]
    },
    {
     "name": "stdout",
     "output_type": "stream",
     "text": [
      "etcsri/Q001244:Me-silim 1\n",
      "Saving Output/etcsri_Q001244.txt\n",
      "\n",
      "Parsing etcsri/Q001245\n",
      "etcsri/Q001245:Me-silim 2\n",
      "Saving Output/etcsri_Q001245.txt\n",
      "\n",
      "Parsing etcsri/Q001246\n",
      "etcsri/Q001246:Me-silim 3\n",
      "Saving Output/etcsri_Q001246.txt\n",
      "\n",
      "Parsing etcsri/Q001251\n",
      "etcsri/Q001251:Lugal-namnir-sum 1\n"
     ]
    },
    {
     "name": "stderr",
     "output_type": "stream",
     "text": [
      "\r",
      "  3%|▎         | 36/1428 [00:03<02:17, 10.14it/s]"
     ]
    },
    {
     "name": "stdout",
     "output_type": "stream",
     "text": [
      "Saving Output/etcsri_Q001251.txt\n",
      "\n",
      "Parsing etcsri/Q001016\n",
      "etcsri/Q001016:Ur-Nanše 01\n",
      "Saving Output/etcsri_Q001016.txt\n",
      "\n",
      "Parsing etcsri/Q001021\n",
      "etcsri/Q001021:Ur-Nanše 02\n"
     ]
    },
    {
     "name": "stderr",
     "output_type": "stream",
     "text": [
      "\r",
      "  3%|▎         | 38/1428 [00:03<02:30,  9.25it/s]"
     ]
    },
    {
     "name": "stdout",
     "output_type": "stream",
     "text": [
      "Saving Output/etcsri_Q001021.txt\n",
      "\n",
      "Parsing etcsri/Q001022\n",
      "etcsri/Q001022:Ur-Nanše 03\n",
      "Saving Output/etcsri_Q001022.txt\n",
      "\n",
      "Parsing etcsri/Q001023\n",
      "etcsri/Q001023:Ur-Nanše 04\n"
     ]
    },
    {
     "name": "stderr",
     "output_type": "stream",
     "text": [
      "\r",
      "  3%|▎         | 40/1428 [00:03<02:48,  8.23it/s]"
     ]
    },
    {
     "name": "stdout",
     "output_type": "stream",
     "text": [
      "Saving Output/etcsri_Q001023.txt\n",
      "\n",
      "Parsing etcsri/Q001024\n",
      "etcsri/Q001024:Ur-Nanše 05\n",
      "Saving Output/etcsri_Q001024.txt\n",
      "\n",
      "Parsing etcsri/Q003641\n",
      "etcsri/Q003641:Ur-Nanše 06a\n",
      "Saving Output/etcsri_Q003641.txt\n",
      "\n",
      "Parsing etcsri/Q001050\n",
      "etcsri/Q001050:Ur-Nanše 06b\n"
     ]
    },
    {
     "name": "stderr",
     "output_type": "stream",
     "text": [
      "  3%|▎         | 44/1428 [00:04<03:36,  6.39it/s]"
     ]
    },
    {
     "name": "stdout",
     "output_type": "stream",
     "text": [
      "Saving Output/etcsri_Q001050.txt\n",
      "\n",
      "Parsing etcsri/Q001017\n",
      "etcsri/Q001017:Ur-Nanše 07\n",
      "Saving Output/etcsri_Q001017.txt\n",
      "\n",
      "Parsing etcsri/Q001039\n",
      "etcsri/Q001039:Ur-Nanše 08\n",
      "Saving Output/etcsri_Q001039.txt\n",
      "\n",
      "Parsing etcsri/Q001027\n",
      "etcsri/Q001027:Ur-Nanše 09\n",
      "Saving Output/etcsri_Q001027.txt\n",
      "\n",
      "Parsing etcsri/Q001029\n"
     ]
    },
    {
     "name": "stderr",
     "output_type": "stream",
     "text": [
      "\r",
      "  3%|▎         | 46/1428 [00:05<03:57,  5.82it/s]"
     ]
    },
    {
     "name": "stdout",
     "output_type": "stream",
     "text": [
      "etcsri/Q001029:Ur-Nanše 10\n",
      "Saving Output/etcsri_Q001029.txt\n",
      "\n",
      "Parsing etcsri/Q001026\n",
      "etcsri/Q001026:Ur-Nanše 11\n"
     ]
    },
    {
     "name": "stderr",
     "output_type": "stream",
     "text": [
      "  3%|▎         | 48/1428 [00:05<04:26,  5.18it/s]"
     ]
    },
    {
     "name": "stdout",
     "output_type": "stream",
     "text": [
      "Saving Output/etcsri_Q001026.txt\n",
      "\n",
      "Parsing etcsri/Q001028\n",
      "etcsri/Q001028:Ur-Nanše 12\n",
      "Saving Output/etcsri_Q001028.txt\n",
      "\n"
     ]
    },
    {
     "name": "stderr",
     "output_type": "stream",
     "text": [
      "\r",
      "  3%|▎         | 49/1428 [00:05<04:06,  5.60it/s]"
     ]
    },
    {
     "name": "stdout",
     "output_type": "stream",
     "text": [
      "Parsing etcsri/Q001030\n",
      "etcsri/Q001030:Ur-Nanše 13\n",
      "Saving Output/etcsri_Q001030.txt\n",
      "\n",
      "Parsing etcsri/Q001031\n",
      "etcsri/Q001031:Ur-Nanše 14\n"
     ]
    },
    {
     "name": "stderr",
     "output_type": "stream",
     "text": [
      "  4%|▎         | 51/1428 [00:05<03:55,  5.86it/s]"
     ]
    },
    {
     "name": "stdout",
     "output_type": "stream",
     "text": [
      "Saving Output/etcsri_Q001031.txt\n",
      "\n",
      "Parsing etcsri/Q001032\n",
      "etcsri/Q001032:Ur-Nanše 15\n",
      "Saving Output/etcsri_Q001032.txt\n",
      "\n",
      "Parsing etcsri/Q001034\n"
     ]
    },
    {
     "name": "stderr",
     "output_type": "stream",
     "text": [
      "\r",
      "  4%|▎         | 52/1428 [00:06<03:44,  6.12it/s]"
     ]
    },
    {
     "name": "stdout",
     "output_type": "stream",
     "text": [
      "etcsri/Q001034:Ur-Nanše 16\n",
      "Saving Output/etcsri_Q001034.txt\n",
      "\n",
      "Parsing etcsri/Q001025\n",
      "etcsri/Q001025:Ur-Nanše 17\n"
     ]
    },
    {
     "name": "stderr",
     "output_type": "stream",
     "text": [
      "  4%|▍         | 54/1428 [00:06<03:45,  6.10it/s]"
     ]
    },
    {
     "name": "stdout",
     "output_type": "stream",
     "text": [
      "Saving Output/etcsri_Q001025.txt\n",
      "\n",
      "Parsing etcsri/Q001033\n",
      "etcsri/Q001033:Ur-Nanše 18\n",
      "Saving Output/etcsri_Q001033.txt\n",
      "\n",
      "Parsing etcsri/Q001018\n",
      "etcsri/Q001018:Ur-Nanše 19\n",
      "Saving Output/etcsri_Q001018.txt\n",
      "\n",
      "Parsing etcsri/Q001035\n",
      "etcsri/Q001035:Ur-Nanše 20\n"
     ]
    },
    {
     "name": "stderr",
     "output_type": "stream",
     "text": [
      "  4%|▍         | 57/1428 [00:06<03:30,  6.50it/s]"
     ]
    },
    {
     "name": "stdout",
     "output_type": "stream",
     "text": [
      "Saving Output/etcsri_Q001035.txt\n",
      "\n",
      "Parsing etcsri/Q001036\n",
      "etcsri/Q001036:Ur-Nanše 21\n",
      "Saving Output/etcsri_Q001036.txt\n",
      "\n",
      "Parsing etcsri/Q001037\n",
      "etcsri/Q001037:Ur-Nanše 22\n"
     ]
    },
    {
     "name": "stderr",
     "output_type": "stream",
     "text": [
      "  4%|▍         | 59/1428 [00:07<03:10,  7.18it/s]"
     ]
    },
    {
     "name": "stdout",
     "output_type": "stream",
     "text": [
      "Saving Output/etcsri_Q001037.txt\n",
      "\n",
      "Parsing etcsri/Q001038\n",
      "etcsri/Q001038:Ur-Nanše 23\n",
      "Saving Output/etcsri_Q001038.txt\n",
      "\n",
      "Parsing etcsri/Q001044\n",
      "etcsri/Q001044:Ur-Nanše 24a\n",
      "Saving Output/etcsri_Q001044.txt\n",
      "\n",
      "Parsing etcsri/Q001045\n",
      "etcsri/Q001045:Ur-Nanše 24b\n",
      "Saving Output/etcsri_Q001045.txt\n",
      "\n"
     ]
    },
    {
     "name": "stderr",
     "output_type": "stream",
     "text": [
      "  5%|▍         | 65/1428 [00:07<02:06, 10.78it/s]"
     ]
    },
    {
     "name": "stdout",
     "output_type": "stream",
     "text": [
      "Parsing etcsri/Q001046\n",
      "etcsri/Q001046:Ur-Nanše 25\n",
      "Saving Output/etcsri_Q001046.txt\n",
      "\n",
      "Parsing etcsri/Q001042\n",
      "etcsri/Q001042:Ur-Nanše 26\n",
      "Saving Output/etcsri_Q001042.txt\n",
      "\n",
      "Parsing etcsri/Q001047\n",
      "etcsri/Q001047:Ur-Nanše 27\n",
      "Saving Output/etcsri_Q001047.txt\n",
      "\n",
      "Parsing etcsri/Q001048\n",
      "etcsri/Q001048:Ur-Nanše 28\n",
      "Saving Output/etcsri_Q001048.txt\n",
      "\n"
     ]
    },
    {
     "name": "stderr",
     "output_type": "stream",
     "text": [
      "  5%|▍         | 69/1428 [00:07<01:40, 13.59it/s]"
     ]
    },
    {
     "name": "stdout",
     "output_type": "stream",
     "text": [
      "Parsing etcsri/Q001019\n",
      "etcsri/Q001019:Ur-Nanše 29\n",
      "Saving Output/etcsri_Q001019.txt\n",
      "\n",
      "Parsing etcsri/Q001020\n",
      "etcsri/Q001020:Ur-Nanše 30a\n",
      "Saving Output/etcsri_Q001020.txt\n",
      "\n",
      "Parsing etcsri/Q003642\n",
      "etcsri/Q003642:Ur-Nanše 30b\n",
      "Saving Output/etcsri_Q003642.txt\n",
      "\n",
      "Parsing etcsri/Q001040\n",
      "etcsri/Q001040:Ur-Nanše 31\n",
      "Saving Output/etcsri_Q001040.txt\n",
      "\n"
     ]
    },
    {
     "name": "stderr",
     "output_type": "stream",
     "text": [
      "\r",
      "  5%|▍         | 71/1428 [00:07<01:31, 14.85it/s]"
     ]
    },
    {
     "name": "stdout",
     "output_type": "stream",
     "text": [
      "Parsing etcsri/Q001049\n",
      "etcsri/Q001049:Ur-Nanše 32\n",
      "Saving Output/etcsri_Q001049.txt\n",
      "\n",
      "Parsing etcsri/Q001051\n",
      "etcsri/Q001051:Ur-Nanše 33\n",
      "Saving Output/etcsri_Q001051.txt\n",
      "\n",
      "Parsing etcsri/Q001053\n",
      "etcsri/Q001053:A-kurgal 1\n",
      "Saving Output/etcsri_Q001053.txt\n",
      "\n",
      "Parsing etcsri/Q001054\n",
      "etcsri/Q001054:A-kurgal 2a\n",
      "Saving Output/etcsri_Q001054.txt\n",
      "\n",
      "Parsing etcsri/Q001055\n",
      "etcsri/Q001055:A-kurgal 3\n"
     ]
    },
    {
     "name": "stderr",
     "output_type": "stream",
     "text": [
      "\r",
      "  5%|▌         | 74/1428 [00:07<01:19, 17.08it/s]"
     ]
    },
    {
     "name": "stdout",
     "output_type": "stream",
     "text": [
      "Saving Output/etcsri_Q001055.txt\n",
      "\n",
      "Parsing etcsri/Q001056\n",
      "etcsri/Q001056:E-anatum 01\n",
      "Saving Output/etcsri_Q001056.txt\n",
      "\n",
      "Parsing etcsri/Q001067\n",
      "etcsri/Q001067:E-anatum 03\n"
     ]
    },
    {
     "name": "stderr",
     "output_type": "stream",
     "text": [
      "\r",
      "  5%|▌         | 76/1428 [00:10<10:38,  2.12it/s]"
     ]
    },
    {
     "name": "stdout",
     "output_type": "stream",
     "text": [
      "Saving Output/etcsri_Q001067.txt\n",
      "\n",
      "Parsing etcsri/Q001064\n",
      "etcsri/Q001064:E-anatum 04\n",
      "Saving Output/etcsri_Q001064.txt\n",
      "\n",
      "Parsing etcsri/Q001057\n",
      "etcsri/Q001057:E-anatum 05\n"
     ]
    },
    {
     "name": "stderr",
     "output_type": "stream",
     "text": [
      "\r",
      "  5%|▌         | 78/1428 [00:11<10:47,  2.08it/s]"
     ]
    },
    {
     "name": "stdout",
     "output_type": "stream",
     "text": [
      "Saving Output/etcsri_Q001057.txt\n",
      "\n",
      "Parsing etcsri/Q001058\n",
      "etcsri/Q001058:E-anatum 06\n"
     ]
    },
    {
     "name": "stderr",
     "output_type": "stream",
     "text": [
      "\r",
      "  6%|▌         | 80/1428 [00:12<09:41,  2.32it/s]"
     ]
    },
    {
     "name": "stdout",
     "output_type": "stream",
     "text": [
      "Saving Output/etcsri_Q001058.txt\n",
      "\n",
      "Parsing etcsri/Q001059\n",
      "etcsri/Q001059:E-anatum 07a\n",
      "Saving Output/etcsri_Q001059.txt\n",
      "\n",
      "Parsing etcsri/Q003644\n",
      "etcsri/Q003644:E-anatum 07b\n",
      "Saving Output/etcsri_Q003644.txt\n",
      "\n",
      "Parsing etcsri/Q001062\n"
     ]
    },
    {
     "name": "stderr",
     "output_type": "stream",
     "text": [
      "\r",
      "  6%|▌         | 82/1428 [00:12<07:56,  2.82it/s]"
     ]
    },
    {
     "name": "stdout",
     "output_type": "stream",
     "text": [
      "etcsri/Q001062:E-anatum 08\n",
      "Saving Output/etcsri_Q001062.txt\n",
      "\n",
      "Parsing etcsri/Q001063\n"
     ]
    },
    {
     "name": "stderr",
     "output_type": "stream",
     "text": [
      "\r",
      "  6%|▌         | 83/1428 [00:12<06:47,  3.30it/s]"
     ]
    },
    {
     "name": "stdout",
     "output_type": "stream",
     "text": [
      "etcsri/Q001063:E-anatum 09\n",
      "Saving Output/etcsri_Q001063.txt\n",
      "\n",
      "Parsing etcsri/Q001071\n",
      "etcsri/Q001071:E-anatum 10\n"
     ]
    },
    {
     "name": "stderr",
     "output_type": "stream",
     "text": [
      "  6%|▌         | 85/1428 [00:13<05:17,  4.23it/s]"
     ]
    },
    {
     "name": "stdout",
     "output_type": "stream",
     "text": [
      "Saving Output/etcsri_Q001071.txt\n",
      "\n",
      "Parsing etcsri/Q001066\n",
      "etcsri/Q001066:E-anatum 11\n",
      "Saving Output/etcsri_Q001066.txt\n",
      "\n",
      "Parsing etcsri/Q001068\n",
      "etcsri/Q001068:E-anatum 12\n"
     ]
    },
    {
     "name": "stderr",
     "output_type": "stream",
     "text": [
      "\r",
      "  6%|▌         | 87/1428 [00:13<04:04,  5.48it/s]"
     ]
    },
    {
     "name": "stdout",
     "output_type": "stream",
     "text": [
      "Saving Output/etcsri_Q001068.txt\n",
      "\n",
      "Parsing etcsri/Q001065\n",
      "etcsri/Q001065:E-anatum 13\n",
      "Saving Output/etcsri_Q001065.txt\n",
      "\n",
      "Parsing etcsri/Q001070\n",
      "etcsri/Q001070:E-anatum 14\n",
      "Saving Output/etcsri_Q001070.txt\n",
      "\n",
      "Parsing etcsri/Q003645\n",
      "etcsri/Q003645:E-anatum 15\n",
      "Saving Output/etcsri_Q003645.txt\n",
      "\n",
      "Parsing etcsri/Q001182\n"
     ]
    },
    {
     "name": "stderr",
     "output_type": "stream",
     "text": [
      "  6%|▋         | 92/1428 [00:13<02:37,  8.48it/s]"
     ]
    },
    {
     "name": "stdout",
     "output_type": "stream",
     "text": [
      "etcsri/Q001182:E-anatum 16\n",
      "Saving Output/etcsri_Q001182.txt\n",
      "\n",
      "Parsing etcsri/Q003646\n",
      "etcsri/Q003646:E-anatum 18\n",
      "Saving Output/etcsri_Q003646.txt\n",
      "\n",
      "Parsing etcsri/Q001175\n",
      "etcsri/Q001175:E-anatum 19\n",
      "Saving Output/etcsri_Q001175.txt\n",
      "\n",
      "Parsing etcsri/Q004842\n",
      "etcsri/Q004842:E-anatum? 22add\n"
     ]
    },
    {
     "name": "stderr",
     "output_type": "stream",
     "text": [
      "\r",
      "  7%|▋         | 94/1428 [00:13<02:12, 10.10it/s]"
     ]
    },
    {
     "name": "stdout",
     "output_type": "stream",
     "text": [
      "Saving Output/etcsri_Q004842.txt\n",
      "\n",
      "Parsing etcsri/Q001072\n",
      "etcsri/Q001072:En-anatum I 01\n",
      "Saving Output/etcsri_Q001072.txt\n",
      "\n",
      "Parsing etcsri/Q001073\n",
      "etcsri/Q001073:En-anatum I 03\n",
      "Saving Output/etcsri_Q001073.txt\n",
      "\n",
      "Parsing etcsri/Q001078\n"
     ]
    },
    {
     "name": "stderr",
     "output_type": "stream",
     "text": [
      "\r",
      "  7%|▋         | 96/1428 [00:14<02:20,  9.49it/s]"
     ]
    },
    {
     "name": "stdout",
     "output_type": "stream",
     "text": [
      "etcsri/Q001078:En-anatum I 04\n",
      "Saving Output/etcsri_Q001078.txt\n",
      "\n",
      "Parsing etcsri/Q001090\n"
     ]
    },
    {
     "name": "stderr",
     "output_type": "stream",
     "text": [
      "\r",
      "  7%|▋         | 98/1428 [00:14<03:08,  7.06it/s]"
     ]
    },
    {
     "name": "stdout",
     "output_type": "stream",
     "text": [
      "etcsri/Q001090:En-anatum I 05\n",
      "Saving Output/etcsri_Q001090.txt\n",
      "\n",
      "Parsing etcsri/Q001076\n",
      "etcsri/Q001076:En-anatum I 06\n",
      "Saving Output/etcsri_Q001076.txt\n",
      "\n",
      "Parsing etcsri/Q001077\n",
      "etcsri/Q001077:En-anatum I 07\n"
     ]
    },
    {
     "name": "stderr",
     "output_type": "stream",
     "text": [
      "\r",
      "  7%|▋         | 100/1428 [00:14<02:45,  8.04it/s]"
     ]
    },
    {
     "name": "stdout",
     "output_type": "stream",
     "text": [
      "Saving Output/etcsri_Q001077.txt\n",
      "\n",
      "Parsing etcsri/Q001074\n",
      "etcsri/Q001074:En-anatum I 08\n",
      "Saving Output/etcsri_Q001074.txt\n",
      "\n",
      "Parsing etcsri/Q001080\n"
     ]
    },
    {
     "name": "stderr",
     "output_type": "stream",
     "text": [
      "\r",
      "  7%|▋         | 102/1428 [00:14<02:55,  7.54it/s]"
     ]
    },
    {
     "name": "stdout",
     "output_type": "stream",
     "text": [
      "etcsri/Q001080:En-anatum I 10\n",
      "Saving Output/etcsri_Q001080.txt\n",
      "\n",
      "Parsing etcsri/Q001082\n",
      "etcsri/Q001082:En-anatum I 11\n",
      "Saving Output/etcsri_Q001082.txt\n",
      "\n",
      "Parsing etcsri/Q001081\n"
     ]
    },
    {
     "name": "stderr",
     "output_type": "stream",
     "text": [
      "\r",
      "  7%|▋         | 104/1428 [00:15<02:42,  8.15it/s]"
     ]
    },
    {
     "name": "stdout",
     "output_type": "stream",
     "text": [
      "etcsri/Q001081:En-anatum I 12\n",
      "Saving Output/etcsri_Q001081.txt\n",
      "\n",
      "Parsing etcsri/Q001075\n",
      "etcsri/Q001075:En-anatum I 14\n",
      "Saving Output/etcsri_Q001075.txt\n",
      "\n",
      "Parsing etcsri/Q001083\n"
     ]
    },
    {
     "name": "stderr",
     "output_type": "stream",
     "text": [
      "\r",
      "  7%|▋         | 105/1428 [00:15<03:27,  6.37it/s]"
     ]
    },
    {
     "name": "stdout",
     "output_type": "stream",
     "text": [
      "etcsri/Q001083:En-anatum I 15\n",
      "Saving Output/etcsri_Q001083.txt\n",
      "\n",
      "Parsing etcsri/Q001089\n",
      "etcsri/Q001089:En-anatum I 16\n",
      "Saving Output/etcsri_Q001089.txt\n",
      "\n",
      "Parsing etcsri/Q001084\n"
     ]
    },
    {
     "name": "stderr",
     "output_type": "stream",
     "text": [
      "\r",
      "  7%|▋         | 107/1428 [00:15<03:06,  7.10it/s]"
     ]
    },
    {
     "name": "stdout",
     "output_type": "stream",
     "text": [
      "etcsri/Q001084:En-anatum I 17\n",
      "Saving Output/etcsri_Q001084.txt\n",
      "\n",
      "Parsing etcsri/Q001086\n",
      "etcsri/Q001086:En-anatum I 18\n"
     ]
    },
    {
     "name": "stderr",
     "output_type": "stream",
     "text": [
      "  8%|▊         | 110/1428 [00:15<03:00,  7.30it/s]"
     ]
    },
    {
     "name": "stdout",
     "output_type": "stream",
     "text": [
      "Saving Output/etcsri_Q001086.txt\n",
      "\n",
      "Parsing etcsri/Q001079\n",
      "etcsri/Q001079:En-anatum I 19\n",
      "Saving Output/etcsri_Q001079.txt\n",
      "\n",
      "Parsing etcsri/Q001087\n",
      "etcsri/Q001087:En-anatum I 20\n",
      "Saving Output/etcsri_Q001087.txt\n",
      "\n",
      "Parsing etcsri/Q001103\n",
      "etcsri/Q001103:En-metena 01\n"
     ]
    },
    {
     "name": "stderr",
     "output_type": "stream",
     "text": [
      "  8%|▊         | 112/1428 [00:17<08:13,  2.67it/s]"
     ]
    },
    {
     "name": "stdout",
     "output_type": "stream",
     "text": [
      "Saving Output/etcsri_Q001103.txt\n",
      "\n",
      "Parsing etcsri/Q001110\n",
      "etcsri/Q001110:En-metena 02\n",
      "Saving Output/etcsri_Q001110.txt\n",
      "\n",
      "Parsing etcsri/Q001092\n"
     ]
    },
    {
     "name": "stderr",
     "output_type": "stream",
     "text": [
      "\r",
      "  8%|▊         | 113/1428 [00:17<06:35,  3.33it/s]"
     ]
    },
    {
     "name": "stdout",
     "output_type": "stream",
     "text": [
      "etcsri/Q001092:En-metena 03\n",
      "Saving Output/etcsri_Q001092.txt\n",
      "\n",
      "Parsing etcsri/Q001117\n"
     ]
    },
    {
     "name": "stderr",
     "output_type": "stream",
     "text": [
      "\r",
      "  8%|▊         | 114/1428 [00:17<06:59,  3.13it/s]"
     ]
    },
    {
     "name": "stdout",
     "output_type": "stream",
     "text": [
      "etcsri/Q001117:En-metena 04\n",
      "Saving Output/etcsri_Q001117.txt\n",
      "\n"
     ]
    },
    {
     "name": "stderr",
     "output_type": "stream",
     "text": [
      "\r",
      "  8%|▊         | 115/1428 [00:17<05:52,  3.73it/s]"
     ]
    },
    {
     "name": "stdout",
     "output_type": "stream",
     "text": [
      "Parsing etcsri/Q001115\n",
      "etcsri/Q001115:En-metena 05a\n",
      "Saving Output/etcsri_Q001115.txt\n",
      "\n",
      "Parsing etcsri/Q001118\n",
      "etcsri/Q001118:En-metena 06\n",
      "Saving Output/etcsri_Q001118.txt\n",
      "\n"
     ]
    },
    {
     "name": "stderr",
     "output_type": "stream",
     "text": [
      "\r",
      "  8%|▊         | 117/1428 [00:18<04:50,  4.52it/s]"
     ]
    },
    {
     "name": "stdout",
     "output_type": "stream",
     "text": [
      "Parsing etcsri/Q001107\n",
      "etcsri/Q001107:En-metena 07\n",
      "Saving Output/etcsri_Q001107.txt\n",
      "\n",
      "Parsing etcsri/Q001112\n",
      "etcsri/Q001112:En-metena 08\n"
     ]
    },
    {
     "name": "stderr",
     "output_type": "stream",
     "text": [
      "  8%|▊         | 120/1428 [00:18<03:21,  6.49it/s]"
     ]
    },
    {
     "name": "stdout",
     "output_type": "stream",
     "text": [
      "Saving Output/etcsri_Q001112.txt\n",
      "\n",
      "Parsing etcsri/Q001095\n",
      "etcsri/Q001095:En-metena 09\n",
      "Saving Output/etcsri_Q001095.txt\n",
      "\n",
      "Parsing etcsri/Q001096\n",
      "etcsri/Q001096:En-metena 10\n",
      "Saving Output/etcsri_Q001096.txt\n",
      "\n",
      "Parsing etcsri/Q001109\n"
     ]
    },
    {
     "name": "stderr",
     "output_type": "stream",
     "text": [
      "\r",
      "  8%|▊         | 121/1428 [00:18<03:12,  6.78it/s]"
     ]
    },
    {
     "name": "stdout",
     "output_type": "stream",
     "text": [
      "etcsri/Q001109:En-metena 11\n",
      "Saving Output/etcsri_Q001109.txt\n",
      "\n",
      "Parsing etcsri/Q001093\n"
     ]
    },
    {
     "name": "stderr",
     "output_type": "stream",
     "text": [
      "\r",
      "  9%|▊         | 122/1428 [00:19<05:05,  4.27it/s]"
     ]
    },
    {
     "name": "stdout",
     "output_type": "stream",
     "text": [
      "etcsri/Q001093:En-metena 12\n",
      "Saving Output/etcsri_Q001093.txt\n",
      "\n",
      "Parsing etcsri/Q003671\n"
     ]
    },
    {
     "name": "stderr",
     "output_type": "stream",
     "text": [
      "\r",
      "  9%|▊         | 124/1428 [00:19<04:05,  5.31it/s]"
     ]
    },
    {
     "name": "stdout",
     "output_type": "stream",
     "text": [
      "etcsri/Q003671:En-metena 13\n",
      "Saving Output/etcsri_Q003671.txt\n",
      "\n",
      "Parsing etcsri/Q001097\n",
      "etcsri/Q001097:En-metena 14\n",
      "Saving Output/etcsri_Q001097.txt\n",
      "\n",
      "Parsing etcsri/Q001111\n",
      "etcsri/Q001111:En-metena 15\n"
     ]
    },
    {
     "name": "stderr",
     "output_type": "stream",
     "text": [
      "\r",
      "  9%|▉         | 125/1428 [00:19<03:41,  5.89it/s]"
     ]
    },
    {
     "name": "stdout",
     "output_type": "stream",
     "text": [
      "Saving Output/etcsri_Q001111.txt\n",
      "\n",
      "Parsing etcsri/Q001098\n",
      "etcsri/Q001098:En-metena 16\n"
     ]
    },
    {
     "name": "stderr",
     "output_type": "stream",
     "text": [
      "\r",
      "  9%|▉         | 126/1428 [00:19<04:18,  5.03it/s]"
     ]
    },
    {
     "name": "stdout",
     "output_type": "stream",
     "text": [
      "Saving Output/etcsri_Q001098.txt\n",
      "\n",
      "Parsing etcsri/Q001091\n",
      "etcsri/Q001091:En-metena 17\n"
     ]
    },
    {
     "name": "stderr",
     "output_type": "stream",
     "text": [
      "  9%|▉         | 128/1428 [00:20<05:24,  4.01it/s]"
     ]
    },
    {
     "name": "stdout",
     "output_type": "stream",
     "text": [
      "Saving Output/etcsri_Q001091.txt\n",
      "\n",
      "Parsing etcsri/Q001105\n",
      "etcsri/Q001105:En-metena 18\n",
      "Saving Output/etcsri_Q001105.txt\n",
      "\n",
      "Parsing etcsri/Q001113\n"
     ]
    },
    {
     "name": "stderr",
     "output_type": "stream",
     "text": [
      "  9%|▉         | 130/1428 [00:20<03:59,  5.42it/s]"
     ]
    },
    {
     "name": "stdout",
     "output_type": "stream",
     "text": [
      "etcsri/Q001113:En-metena 19\n",
      "Saving Output/etcsri_Q001113.txt\n",
      "\n",
      "Parsing etcsri/Q001102\n",
      "etcsri/Q001102:En-metena 20\n",
      "Saving Output/etcsri_Q001102.txt\n",
      "\n",
      "Parsing etcsri/Q001099\n"
     ]
    },
    {
     "name": "stderr",
     "output_type": "stream",
     "text": [
      "\r",
      "  9%|▉         | 132/1428 [00:20<03:13,  6.69it/s]"
     ]
    },
    {
     "name": "stdout",
     "output_type": "stream",
     "text": [
      "etcsri/Q001099:En-metena 21\n",
      "Saving Output/etcsri_Q001099.txt\n",
      "\n",
      "Parsing etcsri/Q001100\n",
      "etcsri/Q001100:En-metena 22\n",
      "Saving Output/etcsri_Q001100.txt\n",
      "\n",
      "Parsing etcsri/Q001101\n",
      "etcsri/Q001101:En-metena 23\n"
     ]
    },
    {
     "name": "stderr",
     "output_type": "stream",
     "text": [
      "  9%|▉         | 135/1428 [00:20<02:56,  7.33it/s]"
     ]
    },
    {
     "name": "stdout",
     "output_type": "stream",
     "text": [
      "Saving Output/etcsri_Q001101.txt\n",
      "\n",
      "Parsing etcsri/Q001119\n",
      "etcsri/Q001119:En-metena 24\n",
      "Saving Output/etcsri_Q001119.txt\n",
      "\n",
      "Parsing etcsri/Q001106\n",
      "etcsri/Q001106:En-metena 25\n",
      "Saving Output/etcsri_Q001106.txt\n",
      "\n",
      "Parsing etcsri/Q001108\n",
      "etcsri/Q001108:En-metena 26\n",
      "Saving Output/etcsri_Q001108.txt\n",
      "\n"
     ]
    },
    {
     "name": "stderr",
     "output_type": "stream",
     "text": [
      "\r",
      " 10%|▉         | 137/1428 [00:21<04:03,  5.30it/s]"
     ]
    },
    {
     "name": "stdout",
     "output_type": "stream",
     "text": [
      "Parsing etcsri/Q001094\n",
      "etcsri/Q001094:En-metena 27\n",
      "Saving Output/etcsri_Q001094.txt\n",
      "\n"
     ]
    },
    {
     "name": "stderr",
     "output_type": "stream",
     "text": [
      "\r",
      " 10%|▉         | 139/1428 [00:21<03:12,  6.70it/s]"
     ]
    },
    {
     "name": "stdout",
     "output_type": "stream",
     "text": [
      "Parsing etcsri/Q001116\n",
      "etcsri/Q001116:En-metena 28\n",
      "Saving Output/etcsri_Q001116.txt\n",
      "\n",
      "Parsing etcsri/Q003648\n",
      "etcsri/Q003648:En-metena 29\n",
      "Saving Output/etcsri_Q003648.txt\n",
      "\n",
      "Parsing etcsri/Q003649\n",
      "etcsri/Q003649:En-metena 30\n",
      "Saving Output/etcsri_Q003649.txt\n",
      "\n",
      "Parsing etcsri/Q004252\n",
      "etcsri/Q004252:En-metena 31add\n"
     ]
    },
    {
     "name": "stderr",
     "output_type": "stream",
     "text": [
      " 10%|█         | 143/1428 [00:21<02:23,  8.93it/s]"
     ]
    },
    {
     "name": "stdout",
     "output_type": "stream",
     "text": [
      "Saving Output/etcsri_Q004252.txt\n",
      "\n",
      "Parsing etcsri/Q001120\n",
      "etcsri/Q001120:En-anatum II 1\n",
      "Saving Output/etcsri_Q001120.txt\n",
      "\n",
      "Parsing etcsri/Q001121\n",
      "etcsri/Q001121:En-entarzi 1\n",
      "Saving Output/etcsri_Q001121.txt\n",
      "\n",
      "Parsing etcsri/Q003650\n",
      "etcsri/Q003650:Lugal-Anda 1\n",
      "Saving Output/etcsri_Q003650.txt\n",
      "\n",
      "Parsing etcsri/Q001122\n"
     ]
    },
    {
     "name": "stderr",
     "output_type": "stream",
     "text": [
      "\r",
      " 10%|█         | 145/1428 [00:22<02:14,  9.57it/s]"
     ]
    },
    {
     "name": "stdout",
     "output_type": "stream",
     "text": [
      "etcsri/Q001122:Lugal-Anda 2\n",
      "Saving Output/etcsri_Q001122.txt\n",
      "\n",
      "Parsing etcsri/Q003651\n",
      "etcsri/Q003651:Lugal-Anda 3\n",
      "Saving Output/etcsri_Q003651.txt\n",
      "\n",
      "Parsing etcsri/Q001124\n",
      "etcsri/Q001124:URU-KA-gina 01\n"
     ]
    },
    {
     "name": "stderr",
     "output_type": "stream",
     "text": [
      "\r",
      " 10%|█         | 147/1428 [00:24<07:50,  2.72it/s]"
     ]
    },
    {
     "name": "stdout",
     "output_type": "stream",
     "text": [
      "Saving Output/etcsri_Q001124.txt\n",
      "\n",
      "Parsing etcsri/Q001123\n",
      "etcsri/Q001123:URU-KA-gina 02\n"
     ]
    },
    {
     "name": "stderr",
     "output_type": "stream",
     "text": [
      " 10%|█         | 149/1428 [00:24<07:18,  2.92it/s]"
     ]
    },
    {
     "name": "stdout",
     "output_type": "stream",
     "text": [
      "Saving Output/etcsri_Q001123.txt\n",
      "\n",
      "Parsing etcsri/Q004873\n",
      "etcsri/Q004873:Iri-kagina 34add\n",
      "Saving Output/etcsri_Q004873.txt\n",
      "\n",
      "Parsing etcsri/Q001132\n",
      "etcsri/Q001132:URU-KA-gina 04\n",
      "Saving Output/etcsri_Q001132.txt\n",
      "\n",
      "Parsing etcsri/Q001133\n",
      "etcsri/Q001133:URU-KA-gina 05\n"
     ]
    },
    {
     "name": "stderr",
     "output_type": "stream",
     "text": [
      " 11%|█         | 152/1428 [00:25<05:44,  3.71it/s]"
     ]
    },
    {
     "name": "stdout",
     "output_type": "stream",
     "text": [
      "Saving Output/etcsri_Q001133.txt\n",
      "\n",
      "Parsing etcsri/Q001130\n",
      "etcsri/Q001130:URU-KA-gina 09\n",
      "Saving Output/etcsri_Q001130.txt\n",
      "\n",
      "Parsing etcsri/Q001127\n",
      "etcsri/Q001127:URU-KA-gina 10\n"
     ]
    },
    {
     "name": "stderr",
     "output_type": "stream",
     "text": [
      " 11%|█         | 156/1428 [00:25<03:38,  5.82it/s]"
     ]
    },
    {
     "name": "stdout",
     "output_type": "stream",
     "text": [
      "Saving Output/etcsri_Q001127.txt\n",
      "\n",
      "Parsing etcsri/Q001131\n",
      "etcsri/Q001131:URU-KA-gina 11\n",
      "Saving Output/etcsri_Q001131.txt\n",
      "\n",
      "Parsing etcsri/Q003652\n",
      "etcsri/Q003652:URU-KA-gina 12\n",
      "Saving Output/etcsri_Q003652.txt\n",
      "\n",
      "Parsing etcsri/Q003653\n",
      "etcsri/Q003653:URU-KA-gina 13\n",
      "Saving Output/etcsri_Q003653.txt\n",
      "\n",
      "Parsing etcsri/Q001150\n",
      "etcsri/Q001150:URU-KA-gina 14a\n",
      "Saving Output/etcsri_Q001150.txt\n",
      "\n",
      "Parsing etcsri/Q001154\n",
      "etcsri/Q001154:URU-KA-gina 14e\n"
     ]
    },
    {
     "name": "stderr",
     "output_type": "stream",
     "text": [
      " 11%|█▏        | 162/1428 [00:26<02:11,  9.65it/s]"
     ]
    },
    {
     "name": "stdout",
     "output_type": "stream",
     "text": [
      "Saving Output/etcsri_Q001154.txt\n",
      "\n",
      "Parsing etcsri/Q001155\n",
      "etcsri/Q001155:URU-KA-gina 14f\n",
      "Saving Output/etcsri_Q001155.txt\n",
      "\n",
      "Parsing etcsri/Q001156\n",
      "etcsri/Q001156:URU-KA-gina 14g\n",
      "Saving Output/etcsri_Q001156.txt\n",
      "\n",
      "Parsing etcsri/Q001157\n",
      "etcsri/Q001157:URU-KA-gina 14h\n",
      "Saving Output/etcsri_Q001157.txt\n",
      "\n",
      "Parsing etcsri/Q001158\n",
      "etcsri/Q001158:URU-KA-gina 14i\n",
      "Saving Output/etcsri_Q001158.txt\n",
      "\n",
      "Parsing etcsri/Q001159\n",
      "etcsri/Q001159:URU-KA-gina 14j\n",
      "Saving Output/etcsri_Q001159.txt\n",
      "\n",
      "Parsing etcsri/Q001160\n",
      "etcsri/Q001160:URU-KA-gina 14k\n"
     ]
    },
    {
     "name": "stderr",
     "output_type": "stream",
     "text": [
      " 12%|█▏        | 168/1428 [00:26<01:28, 14.30it/s]"
     ]
    },
    {
     "name": "stdout",
     "output_type": "stream",
     "text": [
      "Saving Output/etcsri_Q001160.txt\n",
      "\n",
      "Parsing etcsri/Q001162\n",
      "etcsri/Q001162:URU-KA-gina 14m\n",
      "Saving Output/etcsri_Q001162.txt\n",
      "\n",
      "Parsing etcsri/Q001163\n",
      "etcsri/Q001163:URU-KA-gina 14n\n",
      "Saving Output/etcsri_Q001163.txt\n",
      "\n",
      "Parsing etcsri/Q001164\n",
      "etcsri/Q001164:URU-KA-gina 14o\n",
      "Saving Output/etcsri_Q001164.txt\n",
      "\n",
      "Parsing etcsri/Q001165\n",
      "etcsri/Q001165:URU-KA-gina 14p\n",
      "Saving Output/etcsri_Q001165.txt\n",
      "\n",
      "Parsing etcsri/Q001166\n",
      "etcsri/Q001166:URU-KA-gina 14q\n",
      "Saving Output/etcsri_Q001166.txt\n",
      "\n"
     ]
    },
    {
     "name": "stderr",
     "output_type": "stream",
     "text": [
      " 12%|█▏        | 174/1428 [00:26<01:07, 18.62it/s]"
     ]
    },
    {
     "name": "stdout",
     "output_type": "stream",
     "text": [
      "Parsing etcsri/Q001167\n",
      "etcsri/Q001167:URU-KA-gina 14r\n",
      "Saving Output/etcsri_Q001167.txt\n",
      "\n",
      "Parsing etcsri/Q001168\n",
      "etcsri/Q001168:URU-KA-gina 14s\n",
      "Saving Output/etcsri_Q001168.txt\n",
      "\n",
      "Parsing etcsri/Q001169\n",
      "etcsri/Q001169:URU-KA-gina 14t\n",
      "Saving Output/etcsri_Q001169.txt\n",
      "\n",
      "Parsing etcsri/Q001170\n",
      "etcsri/Q001170:URU-KA-gina 14u\n",
      "Saving Output/etcsri_Q001170.txt\n",
      "\n",
      "Parsing etcsri/Q001172\n",
      "etcsri/Q001172:URU-KA-gina 14w\n",
      "Saving Output/etcsri_Q001172.txt\n",
      "\n",
      "Parsing etcsri/Q001134\n",
      "etcsri/Q001134:URU-KA-gina 17\n"
     ]
    },
    {
     "name": "stderr",
     "output_type": "stream",
     "text": [
      "\r",
      " 12%|█▏        | 177/1428 [00:26<01:03, 19.69it/s]"
     ]
    },
    {
     "name": "stdout",
     "output_type": "stream",
     "text": [
      "Saving Output/etcsri_Q001134.txt\n",
      "\n",
      "Parsing etcsri/Q001135\n",
      "etcsri/Q001135:URU-KA-gina 19\n",
      "Saving Output/etcsri_Q001135.txt\n",
      "\n",
      "Parsing etcsri/Q001137\n",
      "etcsri/Q001137:URU-KA-gina 21\n",
      "Saving Output/etcsri_Q001137.txt\n",
      "\n",
      "Parsing etcsri/Q001138\n",
      "etcsri/Q001138:URU-KA-gina 22\n",
      "Saving Output/etcsri_Q001138.txt\n",
      "\n",
      "Parsing etcsri/Q001139\n",
      "etcsri/Q001139:URU-KA-gina 23\n",
      "Saving Output/etcsri_Q001139.txt\n",
      "\n",
      "Parsing etcsri/Q001140\n"
     ]
    },
    {
     "name": "stderr",
     "output_type": "stream",
     "text": [
      " 13%|█▎        | 183/1428 [00:26<01:00, 20.42it/s]"
     ]
    },
    {
     "name": "stdout",
     "output_type": "stream",
     "text": [
      "etcsri/Q001140:URU-KA-gina 24\n",
      "Saving Output/etcsri_Q001140.txt\n",
      "\n",
      "Parsing etcsri/Q001141\n",
      "etcsri/Q001141:URU-KA-gina 25\n",
      "Saving Output/etcsri_Q001141.txt\n",
      "\n",
      "Parsing etcsri/Q001142\n",
      "etcsri/Q001142:URU-KA-gina 26\n",
      "Saving Output/etcsri_Q001142.txt\n",
      "\n",
      "Parsing etcsri/Q001143\n",
      "etcsri/Q001143:URU-KA-gina 27\n",
      "Saving Output/etcsri_Q001143.txt\n",
      "\n",
      "Parsing etcsri/Q001144\n",
      "etcsri/Q001144:URU-KA-gina 28\n",
      "Saving Output/etcsri_Q001144.txt\n",
      "\n",
      "Parsing etcsri/Q001145\n"
     ]
    },
    {
     "name": "stderr",
     "output_type": "stream",
     "text": [
      " 13%|█▎        | 189/1428 [00:27<00:59, 21.00it/s]"
     ]
    },
    {
     "name": "stdout",
     "output_type": "stream",
     "text": [
      "etcsri/Q001145:URU-KA-gina 29\n",
      "Saving Output/etcsri_Q001145.txt\n",
      "\n",
      "Parsing etcsri/Q001146\n",
      "etcsri/Q001146:URU-KA-gina 30\n",
      "Saving Output/etcsri_Q001146.txt\n",
      "\n",
      "Parsing etcsri/Q001147\n",
      "etcsri/Q001147:URU-KA-gina 31\n",
      "Saving Output/etcsri_Q001147.txt\n",
      "\n",
      "Parsing etcsri/Q001148\n",
      "etcsri/Q001148:URU-KA-gina 32\n",
      "Saving Output/etcsri_Q001148.txt\n",
      "\n",
      "Parsing etcsri/Q001149\n",
      "etcsri/Q001149:URU-KA-gina 33\n",
      "Saving Output/etcsri_Q001149.txt\n",
      "\n",
      "Parsing etcsri/Q003655\n"
     ]
    },
    {
     "name": "stderr",
     "output_type": "stream",
     "text": [
      "\r",
      " 13%|█▎        | 192/1428 [00:27<00:56, 21.78it/s]"
     ]
    },
    {
     "name": "stdout",
     "output_type": "stream",
     "text": [
      "etcsri/Q003655:Unnamed Rulers of Lagaš 3\n",
      "Saving Output/etcsri_Q003655.txt\n",
      "\n",
      "Parsing etcsri/Q001255\n",
      "etcsri/Q001255:Nammah 1\n",
      "Saving Output/etcsri_Q001255.txt\n",
      "\n",
      "Parsing etcsri/Q001258\n",
      "etcsri/Q001258:Ur-Enlil 2\n",
      "Saving Output/etcsri_Q001258.txt\n",
      "\n",
      "Parsing etcsri/Q001253\n",
      "etcsri/Q001253:Abzu-kidu 1\n",
      "Saving Output/etcsri_Q001253.txt\n",
      "\n",
      "Parsing etcsri/Q001254\n",
      "etcsri/Q001254:Abzu-kidu 2\n",
      "Saving Output/etcsri_Q001254.txt\n",
      "\n",
      "Parsing etcsri/Q001321\n",
      "etcsri/Q001321:Pa-bilga … 1\n",
      "Saving Output/etcsri_Q001321.txt\n",
      "\n"
     ]
    },
    {
     "name": "stderr",
     "output_type": "stream",
     "text": [
      " 14%|█▍        | 198/1428 [00:27<00:54, 22.77it/s]"
     ]
    },
    {
     "name": "stdout",
     "output_type": "stream",
     "text": [
      "Parsing etcsri/Q001322\n",
      "etcsri/Q001322:Aka 1\n",
      "Saving Output/etcsri_Q001322.txt\n",
      "\n",
      "Parsing etcsri/Q001323\n",
      "etcsri/Q001323:Ur-LUM-ma 1\n",
      "Saving Output/etcsri_Q001323.txt\n",
      "\n",
      "Parsing etcsri/Q003656\n",
      "etcsri/Q003656:Ur-LUM-ma 2\n",
      "Saving Output/etcsri_Q003656.txt\n",
      "\n",
      "Parsing etcsri/Q001324\n",
      "etcsri/Q001324:Il 1\n",
      "Saving Output/etcsri_Q001324.txt\n",
      "\n",
      "Parsing etcsri/Q001325\n",
      "etcsri/Q001325:Giša-kidu 1\n",
      "Saving Output/etcsri_Q001325.txt\n",
      "\n",
      "Parsing etcsri/Q001380\n",
      "etcsri/Q001380:Giša-kidu 2\n"
     ]
    },
    {
     "name": "stderr",
     "output_type": "stream",
     "text": [
      " 14%|█▍        | 203/1428 [00:28<01:56, 10.52it/s]"
     ]
    },
    {
     "name": "stdout",
     "output_type": "stream",
     "text": [
      "Saving Output/etcsri_Q001380.txt\n",
      "\n",
      "Parsing etcsri/Q003657\n",
      "etcsri/Q003657:Lugal-zage-si 1\n",
      "Saving Output/etcsri_Q003657.txt\n",
      "\n",
      "Parsing etcsri/Q003658\n",
      "etcsri/Q003658:A-Anzu 1\n",
      "Saving Output/etcsri_Q003658.txt\n",
      "\n",
      "Parsing etcsri/Q003660\n",
      "etcsri/Q003660:Gan-kug-sig 1\n",
      "Saving Output/etcsri_Q003660.txt\n",
      "\n",
      "Parsing etcsri/Q003661\n"
     ]
    },
    {
     "name": "stderr",
     "output_type": "stream",
     "text": [
      " 15%|█▍        | 210/1428 [00:28<01:19, 15.30it/s]"
     ]
    },
    {
     "name": "stdout",
     "output_type": "stream",
     "text": [
      "etcsri/Q003661:Mes-KALAM-du 1\n",
      "Saving Output/etcsri_Q003661.txt\n",
      "\n",
      "Parsing etcsri/Q003662\n",
      "etcsri/Q003662:Mes-KALAM-du 2\n",
      "Saving Output/etcsri_Q003662.txt\n",
      "\n",
      "Parsing etcsri/Q003663\n",
      "etcsri/Q003663:Mes-KALAM-du 3\n",
      "Saving Output/etcsri_Q003663.txt\n",
      "\n",
      "Parsing etcsri/Q003664\n",
      "etcsri/Q003664:A-KALAM-du 1\n",
      "Saving Output/etcsri_Q003664.txt\n",
      "\n",
      "Parsing etcsri/Q001329\n",
      "etcsri/Q001329:Mes-Ane-pada 1\n",
      "Saving Output/etcsri_Q001329.txt\n",
      "\n",
      "Parsing etcsri/Q003665\n",
      "etcsri/Q003665:Mes-Ane-pada 2\n",
      "Saving Output/etcsri_Q003665.txt\n",
      "\n",
      "Parsing etcsri/Q003666\n",
      "etcsri/Q003666:Mes-Ane-pada 3\n"
     ]
    },
    {
     "name": "stderr",
     "output_type": "stream",
     "text": [
      "\r",
      " 15%|█▍        | 214/1428 [00:28<01:06, 18.20it/s]"
     ]
    },
    {
     "name": "stdout",
     "output_type": "stream",
     "text": [
      "Saving Output/etcsri_Q003666.txt\n",
      "\n",
      "Parsing etcsri/Q003667\n",
      "etcsri/Q003667:Mes-Ane-pada 4\n",
      "Saving Output/etcsri_Q003667.txt\n",
      "\n",
      "Parsing etcsri/Q001330\n",
      "etcsri/Q001330:A-Ane-pada 1\n",
      "Saving Output/etcsri_Q001330.txt\n",
      "\n",
      "Parsing etcsri/Q001335\n",
      "etcsri/Q001335:A-Ane-pada 2\n",
      "Saving Output/etcsri_Q001335.txt\n",
      "\n",
      "Parsing etcsri/Q001331\n",
      "etcsri/Q001331:A-Ane-pada 3\n",
      "Saving Output/etcsri_Q001331.txt\n",
      "\n",
      "Parsing etcsri/Q001334\n",
      "etcsri/Q001334:A-Ane-pada 6\n",
      "Saving Output/etcsri_Q001334.txt\n",
      "\n"
     ]
    },
    {
     "name": "stderr",
     "output_type": "stream",
     "text": [
      "\r",
      " 15%|█▌        | 217/1428 [00:28<01:01, 19.61it/s]"
     ]
    },
    {
     "name": "stdout",
     "output_type": "stream",
     "text": [
      "Parsing etcsri/Q001328\n",
      "etcsri/Q001328:Mes-KALAM-du (the prince) 1\n",
      "Saving Output/etcsri_Q001328.txt\n",
      "\n",
      "Parsing etcsri/Q001337\n",
      "etcsri/Q001337:Elili 1\n",
      "Saving Output/etcsri_Q001337.txt\n",
      "\n",
      "Parsing etcsri/Q001368\n",
      "etcsri/Q001368:Lugal-kigine-dudu 1\n",
      "Saving Output/etcsri_Q001368.txt\n",
      "\n",
      "Parsing etcsri/Q001370\n"
     ]
    },
    {
     "name": "stderr",
     "output_type": "stream",
     "text": [
      " 16%|█▌        | 223/1428 [00:29<01:10, 17.15it/s]"
     ]
    },
    {
     "name": "stdout",
     "output_type": "stream",
     "text": [
      "etcsri/Q001370:Lugal-kigine-dudu 2\n",
      "Saving Output/etcsri_Q001370.txt\n",
      "\n",
      "Parsing etcsri/Q001367\n",
      "etcsri/Q001367:Lugal-kigine-dudu 3a\n",
      "Saving Output/etcsri_Q001367.txt\n",
      "\n",
      "Parsing etcsri/Q003668\n",
      "etcsri/Q003668:Lugal-kigine-dudu 3b\n",
      "Saving Output/etcsri_Q003668.txt\n",
      "\n",
      "Parsing etcsri/Q001372\n",
      "etcsri/Q001372:Lugal-kigine-dudu 5\n",
      "Saving Output/etcsri_Q001372.txt\n",
      "\n",
      "Parsing etcsri/Q001369\n",
      "etcsri/Q001369:Lugal-kigine-dudu 6\n"
     ]
    },
    {
     "name": "stderr",
     "output_type": "stream",
     "text": [
      "\r",
      " 16%|█▌        | 226/1428 [00:29<01:11, 16.78it/s]"
     ]
    },
    {
     "name": "stdout",
     "output_type": "stream",
     "text": [
      "Saving Output/etcsri_Q001369.txt\n",
      "\n",
      "Parsing etcsri/Q003909\n",
      "etcsri/Q003909:Lugal-kigine-dudu 7\n",
      "Saving Output/etcsri_Q003909.txt\n",
      "\n",
      "Parsing etcsri/Q001374\n",
      "etcsri/Q001374:Lugal-KISAL-si 1\n",
      "Saving Output/etcsri_Q001374.txt\n",
      "\n",
      "Parsing etcsri/Q003669\n",
      "etcsri/Q003669:Lugal-KISAL-si 2\n",
      "Saving Output/etcsri_Q003669.txt\n",
      "\n",
      "Parsing etcsri/Q001376\n",
      "etcsri/Q001376:Lugal-KISAL-si 3\n"
     ]
    },
    {
     "name": "stderr",
     "output_type": "stream",
     "text": [
      "\r",
      " 16%|█▌        | 229/1428 [00:29<01:11, 16.76it/s]"
     ]
    },
    {
     "name": "stdout",
     "output_type": "stream",
     "text": [
      "Saving Output/etcsri_Q001376.txt\n",
      "\n",
      "Parsing etcsri/Q001250\n",
      "etcsri/Q001250:Ur-zage 1\n",
      "Saving Output/etcsri_Q001250.txt\n",
      "\n",
      "Parsing etcsri/Q001362\n",
      "etcsri/Q001362:En-šakuš-Ana 1\n"
     ]
    },
    {
     "name": "stderr",
     "output_type": "stream",
     "text": [
      " 16%|█▋        | 233/1428 [00:30<01:20, 14.87it/s]"
     ]
    },
    {
     "name": "stdout",
     "output_type": "stream",
     "text": [
      "Saving Output/etcsri_Q001362.txt\n",
      "\n",
      "Parsing etcsri/Q001363\n",
      "etcsri/Q001363:En-šakuš-Ana 2\n",
      "Saving Output/etcsri_Q001363.txt\n",
      "\n",
      "Parsing etcsri/Q001366\n",
      "etcsri/Q001366:En-šakuš-Ana 3\n",
      "Saving Output/etcsri_Q001366.txt\n",
      "\n",
      "Parsing etcsri/Q001365\n",
      "etcsri/Q001365:En-šakuš-Ana 4\n",
      "Saving Output/etcsri_Q001365.txt\n",
      "\n",
      "Parsing etcsri/Q004864\n",
      "etcsri/Q004864:En-šakuš-Ana 5add\n",
      "Saving Output/etcsri_Q004864.txt\n",
      "\n",
      "Parsing etcsri/Q001379\n",
      "etcsri/Q001379:Lugal-zage-si 1\n"
     ]
    },
    {
     "name": "stderr",
     "output_type": "stream",
     "text": [
      " 17%|█▋        | 237/1428 [00:30<02:37,  7.58it/s]"
     ]
    },
    {
     "name": "stdout",
     "output_type": "stream",
     "text": [
      "Saving Output/etcsri_Q001379.txt\n",
      "\n",
      "Parsing etcsri/Q001381\n",
      "etcsri/Q001381:Lugal-zage-si 2\n",
      "Saving Output/etcsri_Q001381.txt\n",
      "\n",
      "Parsing etcsri/Q001223\n",
      "etcsri/Q001223:Anonymous Ešnuna 1\n",
      "Saving Output/etcsri_Q001223.txt\n",
      "\n",
      "Parsing etcsri/Q001224\n",
      "etcsri/Q001224:Anonymous Ešnuna 2\n",
      "Saving Output/etcsri_Q001224.txt\n",
      "\n",
      "Parsing etcsri/Q001173\n",
      "etcsri/Q001173:Anonymous Lagaš 01\n",
      "Saving Output/etcsri_Q001173.txt\n",
      "\n"
     ]
    },
    {
     "name": "stderr",
     "output_type": "stream",
     "text": [
      " 17%|█▋        | 244/1428 [00:31<01:39, 11.90it/s]"
     ]
    },
    {
     "name": "stdout",
     "output_type": "stream",
     "text": [
      "Parsing etcsri/Q001174\n",
      "etcsri/Q001174:Anonymous Lagaš 02\n",
      "Saving Output/etcsri_Q001174.txt\n",
      "\n",
      "Parsing etcsri/Q001176\n",
      "etcsri/Q001176:Anonymous Lagaš 04\n",
      "Saving Output/etcsri_Q001176.txt\n",
      "\n",
      "Parsing etcsri/Q001177\n",
      "etcsri/Q001177:Anonymous Lagaš 05\n",
      "Saving Output/etcsri_Q001177.txt\n",
      "\n",
      "Parsing etcsri/Q001178\n",
      "etcsri/Q001178:Anonymous Lagaš 06\n",
      "Saving Output/etcsri_Q001178.txt\n",
      "\n",
      "Parsing etcsri/Q001179\n",
      "etcsri/Q001179:Anonymous Lagaš 07\n",
      "Saving Output/etcsri_Q001179.txt\n",
      "\n",
      "Parsing etcsri/Q001181\n",
      "etcsri/Q001181:Anonymous Lagaš 10\n"
     ]
    },
    {
     "name": "stderr",
     "output_type": "stream",
     "text": [
      " 18%|█▊        | 250/1428 [00:31<01:11, 16.42it/s]"
     ]
    },
    {
     "name": "stdout",
     "output_type": "stream",
     "text": [
      "Saving Output/etcsri_Q001181.txt\n",
      "\n",
      "Parsing etcsri/Q001184\n",
      "etcsri/Q001184:Anonymous Lagaš 13\n",
      "Saving Output/etcsri_Q001184.txt\n",
      "\n",
      "Parsing etcsri/Q001185\n",
      "etcsri/Q001185:Anonymous Lagaš 14\n",
      "Saving Output/etcsri_Q001185.txt\n",
      "\n",
      "Parsing etcsri/Q001187\n",
      "etcsri/Q001187:Anonymous Lagaš 16\n",
      "Saving Output/etcsri_Q001187.txt\n",
      "\n",
      "Parsing etcsri/Q001186\n",
      "etcsri/Q001186:Anonymous Lagaš 15\n",
      "Saving Output/etcsri_Q001186.txt\n",
      "\n",
      "Parsing etcsri/Q001188\n",
      "etcsri/Q001188:Anonymous Lagaš 17\n",
      "Saving Output/etcsri_Q001188.txt\n",
      "\n"
     ]
    },
    {
     "name": "stderr",
     "output_type": "stream",
     "text": [
      "\r",
      " 18%|█▊        | 254/1428 [00:31<01:00, 19.56it/s]"
     ]
    },
    {
     "name": "stdout",
     "output_type": "stream",
     "text": [
      "Parsing etcsri/Q001189\n",
      "etcsri/Q001189:Anonymous Lagaš 18\n",
      "Saving Output/etcsri_Q001189.txt\n",
      "\n",
      "Parsing etcsri/Q001190\n",
      "etcsri/Q001190:Anonymous Lagaš 19\n",
      "Saving Output/etcsri_Q001190.txt\n",
      "\n",
      "Parsing etcsri/Q001191\n",
      "etcsri/Q001191:Anonymous Lagaš 20\n",
      "Saving Output/etcsri_Q001191.txt\n",
      "\n",
      "Parsing etcsri/Q001192\n",
      "etcsri/Q001192:Anonymous Lagaš 24\n",
      "Saving Output/etcsri_Q001192.txt\n",
      "\n",
      "Parsing etcsri/Q001193\n",
      "etcsri/Q001193:Anonymous Lagaš 25\n",
      "Saving Output/etcsri_Q001193.txt\n",
      "\n",
      "Parsing etcsri/Q001194\n",
      "etcsri/Q001194:Anonymous Lagaš 26\n"
     ]
    },
    {
     "name": "stderr",
     "output_type": "stream",
     "text": [
      " 18%|█▊        | 260/1428 [00:31<00:55, 20.90it/s]"
     ]
    },
    {
     "name": "stdout",
     "output_type": "stream",
     "text": [
      "Saving Output/etcsri_Q001194.txt\n",
      "\n",
      "Parsing etcsri/Q004167\n",
      "etcsri/Q004167:Anonymous Lagaš 27\n",
      "Saving Output/etcsri_Q004167.txt\n",
      "\n",
      "Parsing etcsri/Q001195\n",
      "etcsri/Q001195:Anonymous Lagaš 28\n",
      "Saving Output/etcsri_Q001195.txt\n",
      "\n",
      "Parsing etcsri/Q001259\n",
      "etcsri/Q001259:Anonymous Nippur 01\n",
      "Saving Output/etcsri_Q001259.txt\n",
      "\n",
      "Parsing etcsri/Q001260\n",
      "etcsri/Q001260:Anonymous Nippur 02\n",
      "Saving Output/etcsri_Q001260.txt\n",
      "\n",
      "Parsing etcsri/Q001262\n",
      "etcsri/Q001262:Anonymous Nippur 04\n",
      "Saving Output/etcsri_Q001262.txt\n",
      "\n",
      "Parsing etcsri/Q001263\n"
     ]
    },
    {
     "name": "stderr",
     "output_type": "stream",
     "text": [
      " 19%|█▊        | 266/1428 [00:32<00:54, 21.34it/s]"
     ]
    },
    {
     "name": "stdout",
     "output_type": "stream",
     "text": [
      "etcsri/Q001263:Anonymous Nippur 05\n",
      "Saving Output/etcsri_Q001263.txt\n",
      "\n",
      "Parsing etcsri/Q001264\n",
      "etcsri/Q001264:Anonymous Nippur 06\n",
      "Saving Output/etcsri_Q001264.txt\n",
      "\n",
      "Parsing etcsri/Q001265\n",
      "etcsri/Q001265:Anonymous Nippur 07\n",
      "Saving Output/etcsri_Q001265.txt\n",
      "\n",
      "Parsing etcsri/Q001266\n",
      "etcsri/Q001266:Anonymous Nippur 08\n",
      "Saving Output/etcsri_Q001266.txt\n",
      "\n",
      "Parsing etcsri/Q001267\n",
      "etcsri/Q001267:Anonymous Nippur 09\n",
      "Saving Output/etcsri_Q001267.txt\n",
      "\n"
     ]
    },
    {
     "name": "stderr",
     "output_type": "stream",
     "text": [
      "\r",
      " 19%|█▉        | 269/1428 [00:32<00:54, 21.31it/s]"
     ]
    },
    {
     "name": "stdout",
     "output_type": "stream",
     "text": [
      "Parsing etcsri/Q001268\n",
      "etcsri/Q001268:Anonymous Nippur 10\n",
      "Saving Output/etcsri_Q001268.txt\n",
      "\n",
      "Parsing etcsri/Q001269\n",
      "etcsri/Q001269:Anonymous Nippur 11\n",
      "Saving Output/etcsri_Q001269.txt\n",
      "\n",
      "Parsing etcsri/Q001270\n",
      "etcsri/Q001270:Anonymous Nippur 12\n",
      "Saving Output/etcsri_Q001270.txt\n",
      "\n",
      "Parsing etcsri/Q001271\n",
      "etcsri/Q001271:Anonymous Nippur 13\n",
      "Saving Output/etcsri_Q001271.txt\n",
      "\n",
      "Parsing etcsri/Q001272\n",
      "etcsri/Q001272:Anonymous Nippur 14\n",
      "Saving Output/etcsri_Q001272.txt\n",
      "\n"
     ]
    },
    {
     "name": "stderr",
     "output_type": "stream",
     "text": [
      " 19%|█▉        | 276/1428 [00:32<00:45, 25.32it/s]"
     ]
    },
    {
     "name": "stdout",
     "output_type": "stream",
     "text": [
      "Parsing etcsri/Q001274\n",
      "etcsri/Q001274:Anonymous Nippur 16\n",
      "Saving Output/etcsri_Q001274.txt\n",
      "\n",
      "Parsing etcsri/Q001275\n",
      "etcsri/Q001275:Anonymous Nippur 17\n",
      "Saving Output/etcsri_Q001275.txt\n",
      "\n",
      "Parsing etcsri/Q001276\n",
      "etcsri/Q001276:Anonymous Nippur 21\n",
      "Saving Output/etcsri_Q001276.txt\n",
      "\n",
      "Parsing etcsri/Q001277\n",
      "etcsri/Q001277:Anonymous Nippur 22\n",
      "Saving Output/etcsri_Q001277.txt\n",
      "\n",
      "Parsing etcsri/Q001278\n",
      "etcsri/Q001278:Anonymous Nippur 23\n",
      "Saving Output/etcsri_Q001278.txt\n",
      "\n",
      "Parsing etcsri/Q001279\n",
      "etcsri/Q001279:Anonymous Nippur 24\n",
      "Saving Output/etcsri_Q001279.txt\n",
      "\n",
      "Parsing etcsri/Q001280\n",
      "etcsri/Q001280:Anonymous Nippur 25\n",
      "Saving Output/etcsri_Q001280.txt\n",
      "\n",
      "Parsing etcsri/Q001281\n"
     ]
    },
    {
     "name": "stderr",
     "output_type": "stream",
     "text": [
      " 20%|█▉        | 282/1428 [00:32<00:45, 25.09it/s]"
     ]
    },
    {
     "name": "stdout",
     "output_type": "stream",
     "text": [
      "etcsri/Q001281:Anonymous Nippur 26\n",
      "Saving Output/etcsri_Q001281.txt\n",
      "\n",
      "Parsing etcsri/Q001282\n",
      "etcsri/Q001282:Anonymous Nippur 27\n",
      "Saving Output/etcsri_Q001282.txt\n",
      "\n",
      "Parsing etcsri/Q001283\n",
      "etcsri/Q001283:Anonymous Nippur 28\n",
      "Saving Output/etcsri_Q001283.txt\n",
      "\n",
      "Parsing etcsri/Q001284\n",
      "etcsri/Q001284:Anonymous Nippur 29\n",
      "Saving Output/etcsri_Q001284.txt\n",
      "\n",
      "Parsing etcsri/Q001285\n",
      "etcsri/Q001285:Anonymous Nippur 30\n",
      "Saving Output/etcsri_Q001285.txt\n",
      "\n",
      "Parsing etcsri/Q001286\n",
      "etcsri/Q001286:Anonymous Nippur 31\n",
      "Saving Output/etcsri_Q001286.txt\n",
      "\n",
      "Parsing etcsri/Q001287\n"
     ]
    },
    {
     "name": "stderr",
     "output_type": "stream",
     "text": [
      " 20%|██        | 289/1428 [00:32<00:40, 28.47it/s]"
     ]
    },
    {
     "name": "stdout",
     "output_type": "stream",
     "text": [
      "etcsri/Q001287:Anonymous Nippur 32\n",
      "Saving Output/etcsri_Q001287.txt\n",
      "\n",
      "Parsing etcsri/Q001288\n",
      "etcsri/Q001288:Anonymous Nippur 34\n",
      "Saving Output/etcsri_Q001288.txt\n",
      "\n",
      "Parsing etcsri/Q001289\n",
      "etcsri/Q001289:Anonymous Nippur 35\n",
      "Saving Output/etcsri_Q001289.txt\n",
      "\n",
      "Parsing etcsri/Q001290\n",
      "etcsri/Q001290:Anonymous Nippur 36\n",
      "Saving Output/etcsri_Q001290.txt\n",
      "\n",
      "Parsing etcsri/Q001291\n",
      "etcsri/Q001291:Anonymous Nippur 37\n",
      "Saving Output/etcsri_Q001291.txt\n",
      "\n",
      "Parsing etcsri/Q001292\n",
      "etcsri/Q001292:Anonymous Nippur 38\n",
      "Saving Output/etcsri_Q001292.txt\n",
      "\n",
      "Parsing etcsri/Q001293\n",
      "etcsri/Q001293:Anonymous Nippur 39\n",
      "Saving Output/etcsri_Q001293.txt\n",
      "\n"
     ]
    },
    {
     "name": "stderr",
     "output_type": "stream",
     "text": [
      "\r",
      " 20%|██        | 292/1428 [00:33<00:41, 27.34it/s]"
     ]
    },
    {
     "name": "stdout",
     "output_type": "stream",
     "text": [
      "Parsing etcsri/Q001294\n",
      "etcsri/Q001294:Anonymous Nippur 40\n",
      "Saving Output/etcsri_Q001294.txt\n",
      "\n",
      "Parsing etcsri/Q001295\n",
      "etcsri/Q001295:Anonymous Nippur 41\n",
      "Saving Output/etcsri_Q001295.txt\n",
      "\n",
      "Parsing etcsri/Q001296\n",
      "etcsri/Q001296:Anonymous Nippur 42\n",
      "Saving Output/etcsri_Q001296.txt\n",
      "\n",
      "Parsing etcsri/Q001297\n",
      "etcsri/Q001297:Anonymous Nippur 43\n"
     ]
    },
    {
     "name": "stderr",
     "output_type": "stream",
     "text": [
      " 21%|██        | 299/1428 [00:33<00:47, 23.75it/s]"
     ]
    },
    {
     "name": "stdout",
     "output_type": "stream",
     "text": [
      "Saving Output/etcsri_Q001297.txt\n",
      "\n",
      "Parsing etcsri/Q001298\n",
      "etcsri/Q001298:Anonymous Nippur 44\n",
      "Saving Output/etcsri_Q001298.txt\n",
      "\n",
      "Parsing etcsri/Q001299\n",
      "etcsri/Q001299:Anonymous Nippur 45\n",
      "Saving Output/etcsri_Q001299.txt\n",
      "\n",
      "Parsing etcsri/Q001300\n",
      "etcsri/Q001300:Anonymous Nippur 46\n",
      "Saving Output/etcsri_Q001300.txt\n",
      "\n",
      "Parsing etcsri/Q001301\n",
      "etcsri/Q001301:Anonymous Nippur 47\n",
      "Saving Output/etcsri_Q001301.txt\n",
      "\n",
      "Parsing etcsri/Q001303\n",
      "etcsri/Q001303:Anonymous Nippur 49\n",
      "Saving Output/etcsri_Q001303.txt\n",
      "\n",
      "Parsing etcsri/Q001304\n",
      "etcsri/Q001304:Anonymous Nippur 50\n",
      "Saving Output/etcsri_Q001304.txt\n",
      "\n"
     ]
    },
    {
     "name": "stderr",
     "output_type": "stream",
     "text": [
      " 21%|██▏       | 307/1428 [00:33<00:42, 26.21it/s]"
     ]
    },
    {
     "name": "stdout",
     "output_type": "stream",
     "text": [
      "Parsing etcsri/Q001306\n",
      "etcsri/Q001306:Anonymous Nippur 53\n",
      "Saving Output/etcsri_Q001306.txt\n",
      "\n",
      "Parsing etcsri/Q001307\n",
      "etcsri/Q001307:Anonymous Nippur 54\n",
      "Saving Output/etcsri_Q001307.txt\n",
      "\n",
      "Parsing etcsri/Q001310\n",
      "etcsri/Q001310:Anonymous Nippur 57\n",
      "Saving Output/etcsri_Q001310.txt\n",
      "\n",
      "Parsing etcsri/Q001313\n",
      "etcsri/Q001313:Anonymous Nippur 60\n",
      "Saving Output/etcsri_Q001313.txt\n",
      "\n",
      "Parsing etcsri/Q001339\n",
      "etcsri/Q001339:Anonymous Ur 01\n",
      "Saving Output/etcsri_Q001339.txt\n",
      "\n",
      "Parsing etcsri/Q001320\n",
      "etcsri/Q001320:Anonymous Sippar 3\n",
      "Saving Output/etcsri_Q001320.txt\n",
      "\n",
      "Parsing etcsri/Q001340\n"
     ]
    },
    {
     "name": "stderr",
     "output_type": "stream",
     "text": [
      "\r",
      " 22%|██▏       | 311/1428 [00:33<00:38, 29.07it/s]"
     ]
    },
    {
     "name": "stdout",
     "output_type": "stream",
     "text": [
      "etcsri/Q001340:Anonymous Ur 02\n",
      "Saving Output/etcsri_Q001340.txt\n",
      "\n",
      "Parsing etcsri/Q001341\n",
      "etcsri/Q001341:Anonymous Ur 03\n",
      "Saving Output/etcsri_Q001341.txt\n",
      "\n",
      "Parsing etcsri/Q001344\n",
      "etcsri/Q001344:Anonymous Ur 06\n",
      "Saving Output/etcsri_Q001344.txt\n",
      "\n",
      "Parsing etcsri/Q001346\n",
      "etcsri/Q001346:Anonymous Ur 08\n",
      "Saving Output/etcsri_Q001346.txt\n",
      "\n",
      "Parsing etcsri/Q001345\n",
      "etcsri/Q001345:Anonymous Ur 07\n",
      "Saving Output/etcsri_Q001345.txt\n",
      "\n",
      "Parsing etcsri/Q001347\n",
      "etcsri/Q001347:Anonymous Ur 09\n",
      "Saving Output/etcsri_Q001347.txt\n",
      "\n",
      "Parsing etcsri/Q001349\n",
      "etcsri/Q001349:Anonymous Ur 11\n",
      "Saving Output/etcsri_Q001349.txt\n",
      "\n",
      "Parsing etcsri/Q001354\n",
      "etcsri/Q001354:Anonymous Ur 16\n"
     ]
    },
    {
     "name": "stderr",
     "output_type": "stream",
     "text": [
      " 22%|██▏       | 318/1428 [00:34<00:39, 28.21it/s]"
     ]
    },
    {
     "name": "stdout",
     "output_type": "stream",
     "text": [
      "Saving Output/etcsri_Q001354.txt\n",
      "\n",
      "Parsing etcsri/Q001355\n",
      "etcsri/Q001355:Anonymous Ur 17\n",
      "Saving Output/etcsri_Q001355.txt\n",
      "\n",
      "Parsing etcsri/Q001357\n",
      "etcsri/Q001357:Anonymous Ur 19\n",
      "Saving Output/etcsri_Q001357.txt\n",
      "\n",
      "Parsing etcsri/Q001351\n",
      "etcsri/Q001351:An(u)bu 2\n",
      "Saving Output/etcsri_Q001351.txt\n",
      "\n",
      "Parsing etcsri/Q001350\n",
      "etcsri/Q001350:An(u)bu 3\n",
      "Saving Output/etcsri_Q001350.txt\n",
      "\n",
      "Parsing etcsri/Q001359\n",
      "etcsri/Q001359:Anonymous Ur 21\n",
      "Saving Output/etcsri_Q001359.txt\n",
      "\n",
      "Parsing etcsri/Q001360\n",
      "etcsri/Q001360:Anonymous Ur 22\n"
     ]
    },
    {
     "name": "stderr",
     "output_type": "stream",
     "text": [
      " 23%|██▎       | 324/1428 [00:34<00:45, 24.22it/s]"
     ]
    },
    {
     "name": "stdout",
     "output_type": "stream",
     "text": [
      "Saving Output/etcsri_Q001360.txt\n",
      "\n",
      "Parsing etcsri/Q001361\n",
      "etcsri/Q001361:Anonymous Ur 23\n",
      "Saving Output/etcsri_Q001361.txt\n",
      "\n",
      "Parsing etcsri/Q001383\n",
      "etcsri/Q001383:An-Uruk 1\n",
      "Saving Output/etcsri_Q001383.txt\n",
      "\n",
      "Parsing etcsri/Q004166\n",
      "etcsri/Q004166:Anonymous Uruk 2\n",
      "Saving Output/etcsri_Q004166.txt\n",
      "\n",
      "Parsing etcsri/Q001388\n",
      "etcsri/Q001388:Unattributed 06\n",
      "Saving Output/etcsri_Q001388.txt\n",
      "\n"
     ]
    },
    {
     "name": "stderr",
     "output_type": "stream",
     "text": [
      "\r",
      " 23%|██▎       | 327/1428 [00:34<00:46, 23.79it/s]"
     ]
    },
    {
     "name": "stdout",
     "output_type": "stream",
     "text": [
      "Parsing etcsri/Q001391\n",
      "etcsri/Q001391:Unattributed 10\n",
      "Saving Output/etcsri_Q001391.txt\n",
      "\n",
      "Parsing etcsri/Q005030\n",
      "etcsri/Q005030:Nabi-Suen 2001\n",
      "Saving Output/etcsri_Q005030.txt\n",
      "\n",
      "Parsing etcsri/Q004875\n",
      "etcsri/Q004875:Sargon 2006add\n",
      "Saving Output/etcsri_Q004875.txt\n",
      "\n",
      "Parsing etcsri/Q004876\n",
      "etcsri/Q004876:Sargon 2007add\n",
      "Saving Output/etcsri_Q004876.txt\n",
      "\n"
     ]
    },
    {
     "name": "stderr",
     "output_type": "stream",
     "text": [
      "\r",
      " 23%|██▎       | 330/1428 [00:34<01:09, 15.75it/s]"
     ]
    },
    {
     "name": "stdout",
     "output_type": "stream",
     "text": [
      "Parsing etcsri/Q004253\n",
      "etcsri/Q004253:Lugal-ayamu 2001\n",
      "Saving Output/etcsri_Q004253.txt\n",
      "\n",
      "Parsing etcsri/Q000834\n",
      "etcsri/Q000834:Sargon 01\n"
     ]
    },
    {
     "name": "stderr",
     "output_type": "stream",
     "text": [
      " 23%|██▎       | 335/1428 [00:35<01:45, 10.36it/s]"
     ]
    },
    {
     "name": "stdout",
     "output_type": "stream",
     "text": [
      "Saving Output/etcsri_Q000834.txt\n",
      "\n",
      "Parsing etcsri/Q001397\n",
      "etcsri/Q001397:Sargon 02\n",
      "Saving Output/etcsri_Q001397.txt\n",
      "\n",
      "Parsing etcsri/Q001398\n",
      "etcsri/Q001398:Sargon 03\n",
      "Saving Output/etcsri_Q001398.txt\n",
      "\n",
      "Parsing etcsri/Q001399\n",
      "etcsri/Q001399:Sargon 06\n",
      "Saving Output/etcsri_Q001399.txt\n",
      "\n",
      "Parsing etcsri/Q001400\n",
      "etcsri/Q001400:Sargon 07\n",
      "Saving Output/etcsri_Q001400.txt\n",
      "\n",
      "Parsing etcsri/Q001403\n"
     ]
    },
    {
     "name": "stderr",
     "output_type": "stream",
     "text": [
      "\r",
      " 24%|██▎       | 337/1428 [00:35<02:02,  8.93it/s]"
     ]
    },
    {
     "name": "stdout",
     "output_type": "stream",
     "text": [
      "etcsri/Q001403:Sargon 11\n",
      "Saving Output/etcsri_Q001403.txt\n",
      "\n",
      "Parsing etcsri/Q001404\n",
      "etcsri/Q001404:Sargon 11 Akkadian Version\n",
      "Saving Output/etcsri_Q001404.txt\n",
      "\n",
      "Parsing etcsri/Q001405\n",
      "etcsri/Q001405:Sargon 12\n",
      "Saving Output/etcsri_Q001405.txt\n",
      "\n"
     ]
    },
    {
     "name": "stderr",
     "output_type": "stream",
     "text": [
      "\r",
      " 24%|██▍       | 341/1428 [00:35<01:38, 10.99it/s]"
     ]
    },
    {
     "name": "stdout",
     "output_type": "stream",
     "text": [
      "Parsing etcsri/Q001406\n",
      "etcsri/Q001406:Sargon 13\n",
      "Saving Output/etcsri_Q001406.txt\n",
      "\n",
      "Parsing etcsri/Q001407\n",
      "etcsri/Q001407:Sargon 15\n",
      "Saving Output/etcsri_Q001407.txt\n",
      "\n",
      "Parsing etcsri/Q000835\n",
      "etcsri/Q000835:Sargon 16\n",
      "Saving Output/etcsri_Q000835.txt\n",
      "\n",
      "Parsing etcsri/Q001408\n",
      "etcsri/Q001408:Sargon 2001\n",
      "Saving Output/etcsri_Q001408.txt\n",
      "\n",
      "Parsing etcsri/Q001409\n",
      "etcsri/Q001409:Sargon 2003\n"
     ]
    },
    {
     "name": "stderr",
     "output_type": "stream",
     "text": [
      "\r",
      " 24%|██▍       | 344/1428 [00:36<01:22, 13.16it/s]"
     ]
    },
    {
     "name": "stdout",
     "output_type": "stream",
     "text": [
      "Saving Output/etcsri_Q001409.txt\n",
      "\n",
      "Parsing etcsri/Q001410\n",
      "etcsri/Q001410:Sargon 2004\n",
      "Saving Output/etcsri_Q001410.txt\n",
      "\n",
      "Parsing etcsri/Q001411\n",
      "etcsri/Q001411:Sargon 2005\n",
      "Saving Output/etcsri_Q001411.txt\n",
      "\n",
      "Parsing etcsri/Q001415\n",
      "etcsri/Q001415:Rimuš 03\n",
      "Saving Output/etcsri_Q001415.txt\n",
      "\n",
      "Parsing etcsri/Q000842\n",
      "etcsri/Q000842:Rimuš 18\n"
     ]
    },
    {
     "name": "stderr",
     "output_type": "stream",
     "text": [
      " 24%|██▍       | 349/1428 [00:36<01:15, 14.24it/s]"
     ]
    },
    {
     "name": "stdout",
     "output_type": "stream",
     "text": [
      "Saving Output/etcsri_Q000842.txt\n",
      "\n",
      "Parsing etcsri/Q001421\n",
      "etcsri/Q001421:Rimuš 2001\n",
      "Saving Output/etcsri_Q001421.txt\n",
      "\n",
      "Parsing etcsri/Q000844\n",
      "etcsri/Q000844:Maništušu 1\n",
      "Saving Output/etcsri_Q000844.txt\n",
      "\n",
      "Parsing etcsri/Q001423\n",
      "etcsri/Q001423:Naram-Suen 14\n",
      "Saving Output/etcsri_Q001423.txt\n",
      "\n",
      "Parsing etcsri/Q001424\n",
      "etcsri/Q001424:Naram-Suen 34\n",
      "Saving Output/etcsri_Q001424.txt\n",
      "\n"
     ]
    },
    {
     "name": "stderr",
     "output_type": "stream",
     "text": [
      " 25%|██▍       | 354/1428 [00:36<01:05, 16.31it/s]"
     ]
    },
    {
     "name": "stdout",
     "output_type": "stream",
     "text": [
      "Parsing etcsri/Q001426\n",
      "etcsri/Q001426:Naram-Suen 2001\n",
      "Saving Output/etcsri_Q001426.txt\n",
      "\n",
      "Parsing etcsri/Q001427\n",
      "etcsri/Q001427:Naram-Suen 2018\n",
      "Saving Output/etcsri_Q001427.txt\n",
      "\n",
      "Parsing etcsri/Q001428\n",
      "etcsri/Q001428:Naram-Suen 2019\n",
      "Saving Output/etcsri_Q001428.txt\n",
      "\n",
      "Parsing etcsri/Q001429\n",
      "etcsri/Q001429:Naram-Suen 2020\n",
      "Saving Output/etcsri_Q001429.txt\n",
      "\n"
     ]
    },
    {
     "name": "stderr",
     "output_type": "stream",
     "text": [
      "\r",
      " 25%|██▍       | 356/1428 [00:36<01:16, 14.05it/s]"
     ]
    },
    {
     "name": "stdout",
     "output_type": "stream",
     "text": [
      "Parsing etcsri/Q001431\n",
      "etcsri/Q001431:Šar-kali-šarri 4\n",
      "Saving Output/etcsri_Q001431.txt\n",
      "\n",
      "Parsing etcsri/Q001433\n",
      "etcsri/Q001433:Erridupizir 1\n",
      "Saving Output/etcsri_Q001433.txt\n",
      "\n",
      "Parsing etcsri/Q001435\n",
      "etcsri/Q001435:Erridupizir 3\n",
      "Saving Output/etcsri_Q001435.txt\n",
      "\n"
     ]
    },
    {
     "name": "stderr",
     "output_type": "stream",
     "text": [
      " 25%|██▌       | 360/1428 [00:37<01:08, 15.69it/s]"
     ]
    },
    {
     "name": "stdout",
     "output_type": "stream",
     "text": [
      "Parsing etcsri/Q001436\n",
      "etcsri/Q001436:Urunabadbi 2001\n",
      "Saving Output/etcsri_Q001436.txt\n",
      "\n",
      "Parsing etcsri/Q000871\n",
      "etcsri/Q000871:Lugal-nigzu 1\n",
      "Saving Output/etcsri_Q000871.txt\n",
      "\n",
      "Parsing etcsri/Q001437\n",
      "etcsri/Q001437:Nammahabzu 1\n",
      "Saving Output/etcsri_Q001437.txt\n",
      "\n",
      "Parsing etcsri/Q001438\n",
      "etcsri/Q001438:Nammahabzu 2002\n",
      "Saving Output/etcsri_Q001438.txt\n",
      "\n"
     ]
    },
    {
     "name": "stderr",
     "output_type": "stream",
     "text": [
      " 26%|██▌       | 365/1428 [00:37<01:03, 16.73it/s]"
     ]
    },
    {
     "name": "stdout",
     "output_type": "stream",
     "text": [
      "Parsing etcsri/Q001439\n",
      "etcsri/Q001439:Lu-dingirana 2001\n",
      "Saving Output/etcsri_Q001439.txt\n",
      "\n",
      "Parsing etcsri/Q004254\n",
      "etcsri/Q004254:Šaratigubisin 1\n",
      "Saving Output/etcsri_Q004254.txt\n",
      "\n",
      "Parsing etcsri/Q001440\n",
      "etcsri/Q001440:Šaratigubisin 2001\n",
      "Saving Output/etcsri_Q001440.txt\n",
      "\n",
      "Parsing etcsri/Q001442\n",
      "etcsri/Q001442:Lugalgiš 2003\n"
     ]
    },
    {
     "name": "stderr",
     "output_type": "stream",
     "text": [
      "\r",
      " 26%|██▌       | 368/1428 [00:37<01:00, 17.66it/s]"
     ]
    },
    {
     "name": "stdout",
     "output_type": "stream",
     "text": [
      "Saving Output/etcsri_Q001442.txt\n",
      "\n",
      "Parsing etcsri/Q001443\n",
      "etcsri/Q001443:UrTUR 1\n",
      "Saving Output/etcsri_Q001443.txt\n",
      "\n",
      "Parsing etcsri/Q001444\n",
      "etcsri/Q001444:Hala-Adda 1\n",
      "Saving Output/etcsri_Q001444.txt\n",
      "\n",
      "Parsing etcsri/Q001445\n",
      "etcsri/Q001445:Šuruškin\n",
      "Saving Output/etcsri_Q001445.txt\n",
      "\n",
      "Parsing etcsri/Q000872\n",
      "etcsri/Q000872:Lu-Utu 1\n",
      "Saving Output/etcsri_Q000872.txt\n",
      "\n"
     ]
    },
    {
     "name": "stderr",
     "output_type": "stream",
     "text": [
      " 26%|██▌       | 372/1428 [00:37<01:05, 16.08it/s]"
     ]
    },
    {
     "name": "stdout",
     "output_type": "stream",
     "text": [
      "Parsing etcsri/Q000873\n",
      "etcsri/Q000873:Lu-Utu 2\n",
      "Saving Output/etcsri_Q000873.txt\n",
      "\n",
      "Parsing etcsri/Q005285\n",
      "etcsri/Q005285:Lu-Utu add03\n",
      "Saving Output/etcsri_Q005285.txt\n",
      "\n",
      "Parsing etcsri/Q001447\n",
      "etcsri/Q001447:Lugal-anatuma 1\n"
     ]
    },
    {
     "name": "stderr",
     "output_type": "stream",
     "text": [
      "\r",
      " 26%|██▌       | 374/1428 [00:37<01:12, 14.58it/s]"
     ]
    },
    {
     "name": "stdout",
     "output_type": "stream",
     "text": [
      "Saving Output/etcsri_Q001447.txt\n",
      "\n",
      "Parsing etcsri/Q001446\n",
      "etcsri/Q001446:Namahni 1\n",
      "Saving Output/etcsri_Q001446.txt\n",
      "\n",
      "Parsing etcsri/Q000874\n",
      "etcsri/Q000874:Lugal-ušumgal 2001\n",
      "Saving Output/etcsri_Q000874.txt\n",
      "\n",
      "Parsing etcsri/Q001448\n",
      "etcsri/Q001448:Puzurmama 2001\n",
      "Saving Output/etcsri_Q001448.txt\n",
      "\n",
      "Parsing etcsri/Q001449\n",
      "etcsri/Q001449:Urniginak 1\n"
     ]
    },
    {
     "name": "stderr",
     "output_type": "stream",
     "text": [
      " 27%|██▋       | 379/1428 [00:38<01:05, 16.13it/s]"
     ]
    },
    {
     "name": "stdout",
     "output_type": "stream",
     "text": [
      "Saving Output/etcsri_Q001449.txt\n",
      "\n",
      "Parsing etcsri/Q001450\n",
      "etcsri/Q001450:Urgigirak 2001\n",
      "Saving Output/etcsri_Q001450.txt\n",
      "\n",
      "Parsing etcsri/Q001451\n",
      "etcsri/Q001451:Kuda 1\n",
      "Saving Output/etcsri_Q001451.txt\n",
      "\n",
      "Parsing etcsri/Q001452\n",
      "etcsri/Q001452:Kuda 1001\n",
      "Saving Output/etcsri_Q001452.txt\n",
      "\n",
      "Parsing etcsri/Q001453\n",
      "etcsri/Q001453:Ur-Utu 2001\n",
      "Saving Output/etcsri_Q001453.txt\n",
      "\n",
      "Parsing etcsri/Q000876\n"
     ]
    },
    {
     "name": "stderr",
     "output_type": "stream",
     "text": [
      " 27%|██▋       | 384/1428 [00:38<01:06, 15.68it/s]"
     ]
    },
    {
     "name": "stdout",
     "output_type": "stream",
     "text": [
      "etcsri/Q000876:Utu-hegal 1\n",
      "Saving Output/etcsri_Q000876.txt\n",
      "\n",
      "Parsing etcsri/Q001454\n",
      "etcsri/Q001454:Utu-hegal 2\n",
      "Saving Output/etcsri_Q001454.txt\n",
      "\n",
      "Parsing etcsri/Q000877\n",
      "etcsri/Q000877:Utu-hegal 3\n",
      "Saving Output/etcsri_Q000877.txt\n",
      "\n",
      "Parsing etcsri/Q000376\n",
      "etcsri/Q000376:The victory of Utu-hegal\n"
     ]
    },
    {
     "name": "stderr",
     "output_type": "stream",
     "text": [
      "\r",
      " 27%|██▋       | 386/1428 [00:39<03:08,  5.54it/s]"
     ]
    },
    {
     "name": "stdout",
     "output_type": "stream",
     "text": [
      "Saving Output/etcsri_Q000376.txt\n",
      "\n",
      "Parsing etcsri/Q001455\n",
      "etcsri/Q001455:Utu-hegal 5\n",
      "Saving Output/etcsri_Q001455.txt\n",
      "\n",
      "Parsing etcsri/Q001456\n",
      "etcsri/Q001456:Utu-hegal 6\n",
      "Saving Output/etcsri_Q001456.txt\n",
      "\n"
     ]
    },
    {
     "name": "stderr",
     "output_type": "stream",
     "text": [
      " 27%|██▋       | 390/1428 [00:39<02:13,  7.79it/s]"
     ]
    },
    {
     "name": "stdout",
     "output_type": "stream",
     "text": [
      "Parsing etcsri/Q001457\n",
      "etcsri/Q001457:Utu-hegal 2001\n",
      "Saving Output/etcsri_Q001457.txt\n",
      "\n",
      "Parsing etcsri/Q001458\n",
      "etcsri/Q001458:Utu-hegal 2002\n",
      "Saving Output/etcsri_Q001458.txt\n",
      "\n",
      "Parsing etcsri/Q000879\n",
      "etcsri/Q000879:Lusaga 1\n",
      "Saving Output/etcsri_Q000879.txt\n",
      "\n",
      "Parsing etcsri/Q000377\n",
      "etcsri/Q000377:The building of Ningirsu's temple (Gudea cylinders A and B)\n"
     ]
    },
    {
     "name": "stderr",
     "output_type": "stream",
     "text": [
      " 28%|██▊       | 393/1428 [00:42<06:30,  2.65it/s]"
     ]
    },
    {
     "name": "stdout",
     "output_type": "stream",
     "text": [
      "Saving Output/etcsri_Q000377.txt\n",
      "\n",
      "Parsing etcsri/Q001459\n",
      "etcsri/Q001459:Ur-Ningirsu I 1\n",
      "Saving Output/etcsri_Q001459.txt\n",
      "\n",
      "Parsing etcsri/Q001460\n",
      "etcsri/Q001460:Ur-Ningirsu I 2\n",
      "Saving Output/etcsri_Q001460.txt\n",
      "\n",
      "Parsing etcsri/Q001461\n",
      "etcsri/Q001461:Ur-Ningirsu I 3\n"
     ]
    },
    {
     "name": "stderr",
     "output_type": "stream",
     "text": [
      "\r",
      " 28%|██▊       | 395/1428 [00:42<04:56,  3.48it/s]"
     ]
    },
    {
     "name": "stdout",
     "output_type": "stream",
     "text": [
      "Saving Output/etcsri_Q001461.txt\n",
      "\n",
      "Parsing etcsri/Q001462\n",
      "etcsri/Q001462:Ur-Ningirsu I 4\n",
      "Saving Output/etcsri_Q001462.txt\n",
      "\n",
      "Parsing etcsri/Q001463\n",
      "etcsri/Q001463:Ur-Ningirsu I 5\n",
      "Saving Output/etcsri_Q001463.txt\n",
      "\n",
      "Parsing etcsri/Q001464\n",
      "etcsri/Q001464:Ur-Ningirsu I 6\n",
      "Saving Output/etcsri_Q001464.txt\n",
      "\n"
     ]
    },
    {
     "name": "stderr",
     "output_type": "stream",
     "text": [
      " 28%|██▊       | 399/1428 [00:43<03:04,  5.58it/s]"
     ]
    },
    {
     "name": "stdout",
     "output_type": "stream",
     "text": [
      "Parsing etcsri/Q000881\n",
      "etcsri/Q000881:Pirigme 1\n",
      "Saving Output/etcsri_Q000881.txt\n",
      "\n",
      "Parsing etcsri/Q000882\n",
      "etcsri/Q000882:Ur-Bau 01\n",
      "Saving Output/etcsri_Q000882.txt\n",
      "\n",
      "Parsing etcsri/Q001465\n",
      "etcsri/Q001465:Ur-Bau 02\n",
      "Saving Output/etcsri_Q001465.txt\n",
      "\n"
     ]
    },
    {
     "name": "stderr",
     "output_type": "stream",
     "text": [
      "\r",
      " 28%|██▊       | 401/1428 [00:43<02:26,  7.01it/s]"
     ]
    },
    {
     "name": "stdout",
     "output_type": "stream",
     "text": [
      "Parsing etcsri/Q000883\n",
      "etcsri/Q000883:Ur-Bau 03\n",
      "Saving Output/etcsri_Q000883.txt\n",
      "\n",
      "Parsing etcsri/Q000884\n",
      "etcsri/Q000884:Ur-Bau 04\n",
      "Saving Output/etcsri_Q000884.txt\n",
      "\n",
      "Parsing etcsri/Q001466\n",
      "etcsri/Q001466:Ur-Bau 05\n"
     ]
    },
    {
     "name": "stderr",
     "output_type": "stream",
     "text": [
      "\r",
      " 28%|██▊       | 403/1428 [00:43<02:59,  5.72it/s]"
     ]
    },
    {
     "name": "stdout",
     "output_type": "stream",
     "text": [
      "Saving Output/etcsri_Q001466.txt\n",
      "\n",
      "Parsing etcsri/Q001467\n",
      "etcsri/Q001467:Ur-Bau 06\n",
      "Saving Output/etcsri_Q001467.txt\n",
      "\n",
      "Parsing etcsri/Q001468\n",
      "etcsri/Q001468:Ur-Bau 07\n"
     ]
    },
    {
     "name": "stderr",
     "output_type": "stream",
     "text": [
      " 29%|██▊       | 407/1428 [00:43<02:07,  7.98it/s]"
     ]
    },
    {
     "name": "stdout",
     "output_type": "stream",
     "text": [
      "Saving Output/etcsri_Q001468.txt\n",
      "\n",
      "Parsing etcsri/Q001469\n",
      "etcsri/Q001469:Ur-Bau 08\n",
      "Saving Output/etcsri_Q001469.txt\n",
      "\n",
      "Parsing etcsri/Q001470\n",
      "etcsri/Q001470:Ur-Bau 09\n",
      "Saving Output/etcsri_Q001470.txt\n",
      "\n",
      "Parsing etcsri/Q001471\n",
      "etcsri/Q001471:Ur-Bau 10\n",
      "Saving Output/etcsri_Q001471.txt\n",
      "\n",
      "Parsing etcsri/Q001472\n",
      "etcsri/Q001472:Ur-Bau 11\n"
     ]
    },
    {
     "name": "stderr",
     "output_type": "stream",
     "text": [
      " 29%|██▉       | 411/1428 [00:44<01:31, 11.10it/s]"
     ]
    },
    {
     "name": "stdout",
     "output_type": "stream",
     "text": [
      "Saving Output/etcsri_Q001472.txt\n",
      "\n",
      "Parsing etcsri/Q000885\n",
      "etcsri/Q000885:Ur-Bau 12\n",
      "Saving Output/etcsri_Q000885.txt\n",
      "\n",
      "Parsing etcsri/Q000886\n",
      "etcsri/Q000886:Ur-Bau 13\n",
      "Saving Output/etcsri_Q000886.txt\n",
      "\n",
      "Parsing etcsri/Q001540\n",
      "etcsri/Q001540:Gudea Statue A\n",
      "Saving Output/etcsri_Q001540.txt\n",
      "\n",
      "Parsing etcsri/Q001541\n",
      "etcsri/Q001541:Gudea Statue B\n"
     ]
    },
    {
     "name": "stderr",
     "output_type": "stream",
     "text": [
      "\r",
      " 29%|██▉       | 413/1428 [00:46<07:19,  2.31it/s]"
     ]
    },
    {
     "name": "stdout",
     "output_type": "stream",
     "text": [
      "Saving Output/etcsri_Q001541.txt\n",
      "\n",
      "Parsing etcsri/Q001542\n",
      "etcsri/Q001542:Gudea Statue C\n",
      "Saving Output/etcsri_Q001542.txt\n",
      "\n",
      "Parsing etcsri/Q001543\n",
      "etcsri/Q001543:Gudea Statue D\n"
     ]
    },
    {
     "name": "stderr",
     "output_type": "stream",
     "text": [
      "\r",
      " 29%|██▉       | 415/1428 [00:47<07:13,  2.34it/s]"
     ]
    },
    {
     "name": "stdout",
     "output_type": "stream",
     "text": [
      "Saving Output/etcsri_Q001543.txt\n",
      "\n",
      "Parsing etcsri/Q001544\n",
      "etcsri/Q001544:Gudea Statue E\n"
     ]
    },
    {
     "name": "stderr",
     "output_type": "stream",
     "text": [
      "\r",
      " 29%|██▉       | 416/1428 [00:48<10:22,  1.63it/s]"
     ]
    },
    {
     "name": "stdout",
     "output_type": "stream",
     "text": [
      "Saving Output/etcsri_Q001544.txt\n",
      "\n",
      "Parsing etcsri/Q001545\n",
      "etcsri/Q001545:Gudea Statue F\n"
     ]
    },
    {
     "name": "stderr",
     "output_type": "stream",
     "text": [
      "\r",
      " 29%|██▉       | 417/1428 [00:48<09:17,  1.81it/s]"
     ]
    },
    {
     "name": "stdout",
     "output_type": "stream",
     "text": [
      "Saving Output/etcsri_Q001545.txt\n",
      "\n",
      "Parsing etcsri/Q001546\n",
      "etcsri/Q001546:Gudea Statue G\n"
     ]
    },
    {
     "name": "stderr",
     "output_type": "stream",
     "text": [
      " 29%|██▉       | 419/1428 [00:49<07:24,  2.27it/s]"
     ]
    },
    {
     "name": "stdout",
     "output_type": "stream",
     "text": [
      "Saving Output/etcsri_Q001546.txt\n",
      "\n",
      "Parsing etcsri/Q001547\n",
      "etcsri/Q001547:Gudea Statue H\n",
      "Saving Output/etcsri_Q001547.txt\n",
      "\n",
      "Parsing etcsri/Q001548\n"
     ]
    },
    {
     "name": "stderr",
     "output_type": "stream",
     "text": [
      "\r",
      " 29%|██▉       | 420/1428 [00:49<06:43,  2.50it/s]"
     ]
    },
    {
     "name": "stdout",
     "output_type": "stream",
     "text": [
      "etcsri/Q001548:Gudea Statue I\n",
      "Saving Output/etcsri_Q001548.txt\n",
      "\n",
      "Parsing etcsri/Q001549\n"
     ]
    },
    {
     "name": "stderr",
     "output_type": "stream",
     "text": [
      "\r",
      " 29%|██▉       | 421/1428 [00:50<05:40,  2.96it/s]"
     ]
    },
    {
     "name": "stdout",
     "output_type": "stream",
     "text": [
      "etcsri/Q001549:Gudea Statue K\n",
      "Saving Output/etcsri_Q001549.txt\n",
      "\n",
      "Parsing etcsri/Q001551\n",
      "etcsri/Q001551:Gudea Statue M\n"
     ]
    },
    {
     "name": "stderr",
     "output_type": "stream",
     "text": [
      "\r",
      " 30%|██▉       | 422/1428 [00:50<04:41,  3.58it/s]"
     ]
    },
    {
     "name": "stdout",
     "output_type": "stream",
     "text": [
      "Saving Output/etcsri_Q001551.txt\n",
      "\n",
      "Parsing etcsri/Q001552\n"
     ]
    },
    {
     "name": "stderr",
     "output_type": "stream",
     "text": [
      " 30%|██▉       | 424/1428 [00:50<04:07,  4.06it/s]"
     ]
    },
    {
     "name": "stdout",
     "output_type": "stream",
     "text": [
      "etcsri/Q001552:Gudea Statue N\n",
      "Saving Output/etcsri_Q001552.txt\n",
      "\n",
      "Parsing etcsri/Q001553\n",
      "etcsri/Q001553:Gudea Statue O\n",
      "Saving Output/etcsri_Q001553.txt\n",
      "\n",
      "Parsing etcsri/Q001554\n",
      "etcsri/Q001554:Gudea Statue P\n"
     ]
    },
    {
     "name": "stderr",
     "output_type": "stream",
     "text": [
      "\r",
      " 30%|██▉       | 425/1428 [00:51<04:28,  3.74it/s]"
     ]
    },
    {
     "name": "stdout",
     "output_type": "stream",
     "text": [
      "Saving Output/etcsri_Q001554.txt\n",
      "\n",
      "Parsing etcsri/Q001555\n",
      "etcsri/Q001555:Gudea Statue Q\n",
      "Saving Output/etcsri_Q001555.txt\n",
      "\n",
      "Parsing etcsri/Q001556\n",
      "etcsri/Q001556:Gudea Statue R\n"
     ]
    },
    {
     "name": "stderr",
     "output_type": "stream",
     "text": [
      " 30%|██▉       | 428/1428 [00:51<03:12,  5.19it/s]"
     ]
    },
    {
     "name": "stdout",
     "output_type": "stream",
     "text": [
      "Saving Output/etcsri_Q001556.txt\n",
      "\n",
      "Parsing etcsri/Q001557\n",
      "etcsri/Q001557:Gudea Statue S\n",
      "Saving Output/etcsri_Q001557.txt\n",
      "\n",
      "Parsing etcsri/Q001558\n",
      "etcsri/Q001558:Gudea Statue T\n",
      "Saving Output/etcsri_Q001558.txt\n",
      "\n",
      "Parsing etcsri/Q001559\n"
     ]
    },
    {
     "name": "stderr",
     "output_type": "stream",
     "text": [
      " 30%|███       | 433/1428 [00:51<02:02,  8.10it/s]"
     ]
    },
    {
     "name": "stdout",
     "output_type": "stream",
     "text": [
      "etcsri/Q001559:Gudea Statue U\n",
      "Saving Output/etcsri_Q001559.txt\n",
      "\n",
      "Parsing etcsri/Q001560\n",
      "etcsri/Q001560:Gudea Statue V\n",
      "Saving Output/etcsri_Q001560.txt\n",
      "\n",
      "Parsing etcsri/Q001561\n",
      "etcsri/Q001561:Gudea Statue W\n",
      "Saving Output/etcsri_Q001561.txt\n",
      "\n",
      "Parsing etcsri/Q001562\n",
      "etcsri/Q001562:Gudea Statue X\n",
      "Saving Output/etcsri_Q001562.txt\n",
      "\n",
      "Parsing etcsri/Q001563\n",
      "etcsri/Q001563:Gudea Statue Y\n",
      "Saving Output/etcsri_Q001563.txt\n",
      "\n"
     ]
    },
    {
     "name": "stderr",
     "output_type": "stream",
     "text": [
      " 31%|███       | 437/1428 [00:51<01:29, 11.08it/s]"
     ]
    },
    {
     "name": "stdout",
     "output_type": "stream",
     "text": [
      "Parsing etcsri/Q001564\n",
      "etcsri/Q001564:Gudea Statue Z\n",
      "Saving Output/etcsri_Q001564.txt\n",
      "\n",
      "Parsing etcsri/Q001565\n",
      "etcsri/Q001565:Gudea Statue AA\n",
      "Saving Output/etcsri_Q001565.txt\n",
      "\n",
      "Parsing etcsri/Q001534\n",
      "etcsri/Q001534:Gudea Cylinder Fragment 06\n",
      "Saving Output/etcsri_Q001534.txt\n",
      "\n",
      "Parsing etcsri/Q001535\n",
      "etcsri/Q001535:Gudea Cylinder Fragment 07\n"
     ]
    },
    {
     "name": "stderr",
     "output_type": "stream",
     "text": [
      " 31%|███       | 441/1428 [00:52<01:13, 13.39it/s]"
     ]
    },
    {
     "name": "stdout",
     "output_type": "stream",
     "text": [
      "Saving Output/etcsri_Q001535.txt\n",
      "\n",
      "Parsing etcsri/Q001538\n",
      "etcsri/Q001538:Gudea Cylinder Fragment 10\n",
      "Saving Output/etcsri_Q001538.txt\n",
      "\n",
      "Parsing etcsri/Q000887\n",
      "etcsri/Q000887:Gudea 001\n",
      "Saving Output/etcsri_Q000887.txt\n",
      "\n",
      "Parsing etcsri/Q000888\n",
      "etcsri/Q000888:Gudea 002\n",
      "Saving Output/etcsri_Q000888.txt\n",
      "\n",
      "Parsing etcsri/Q000889\n"
     ]
    },
    {
     "name": "stderr",
     "output_type": "stream",
     "text": [
      "\r",
      " 31%|███       | 443/1428 [00:52<01:14, 13.20it/s]"
     ]
    },
    {
     "name": "stdout",
     "output_type": "stream",
     "text": [
      "etcsri/Q000889:Gudea 003\n",
      "Saving Output/etcsri_Q000889.txt\n",
      "\n",
      "Parsing etcsri/Q000890\n",
      "etcsri/Q000890:Gudea 004\n",
      "Saving Output/etcsri_Q000890.txt\n",
      "\n",
      "Parsing etcsri/Q001473\n",
      "etcsri/Q001473:Gudea 005\n",
      "Saving Output/etcsri_Q001473.txt\n",
      "\n"
     ]
    },
    {
     "name": "stderr",
     "output_type": "stream",
     "text": [
      " 31%|███▏      | 447/1428 [00:52<01:13, 13.40it/s]"
     ]
    },
    {
     "name": "stdout",
     "output_type": "stream",
     "text": [
      "Parsing etcsri/Q000891\n",
      "etcsri/Q000891:Gudea 006\n",
      "Saving Output/etcsri_Q000891.txt\n",
      "\n",
      "Parsing etcsri/Q001474\n",
      "etcsri/Q001474:Gudea 007\n",
      "Saving Output/etcsri_Q001474.txt\n",
      "\n",
      "Parsing etcsri/Q000892\n",
      "etcsri/Q000892:Gudea 008\n",
      "Saving Output/etcsri_Q000892.txt\n",
      "\n"
     ]
    },
    {
     "name": "stderr",
     "output_type": "stream",
     "text": [
      "\r",
      " 31%|███▏      | 449/1428 [00:52<01:11, 13.71it/s]"
     ]
    },
    {
     "name": "stdout",
     "output_type": "stream",
     "text": [
      "Parsing etcsri/Q001475\n",
      "etcsri/Q001475:Gudea 009\n",
      "Saving Output/etcsri_Q001475.txt\n",
      "\n",
      "Parsing etcsri/Q001476\n",
      "etcsri/Q001476:Gudea 010\n",
      "Saving Output/etcsri_Q001476.txt\n",
      "\n",
      "Parsing etcsri/Q000893\n",
      "etcsri/Q000893:Gudea 011\n",
      "Saving Output/etcsri_Q000893.txt\n",
      "\n"
     ]
    },
    {
     "name": "stderr",
     "output_type": "stream",
     "text": [
      " 32%|███▏      | 453/1428 [00:53<01:04, 15.22it/s]"
     ]
    },
    {
     "name": "stdout",
     "output_type": "stream",
     "text": [
      "Parsing etcsri/Q001477\n",
      "etcsri/Q001477:Gudea 011a\n",
      "Saving Output/etcsri_Q001477.txt\n",
      "\n",
      "Parsing etcsri/Q001478\n",
      "etcsri/Q001478:Gudea 012\n",
      "Saving Output/etcsri_Q001478.txt\n",
      "\n",
      "Parsing etcsri/Q001479\n",
      "etcsri/Q001479:Gudea 013\n",
      "Saving Output/etcsri_Q001479.txt\n",
      "\n",
      "Parsing etcsri/Q001480\n",
      "etcsri/Q001480:Gudea 014\n",
      "Saving Output/etcsri_Q001480.txt\n",
      "\n"
     ]
    },
    {
     "name": "stderr",
     "output_type": "stream",
     "text": [
      "\r",
      " 32%|███▏      | 456/1428 [00:53<00:59, 16.36it/s]"
     ]
    },
    {
     "name": "stdout",
     "output_type": "stream",
     "text": [
      "Parsing etcsri/Q001481\n",
      "etcsri/Q001481:Gudea 015\n",
      "Saving Output/etcsri_Q001481.txt\n",
      "\n",
      "Parsing etcsri/Q000894\n",
      "etcsri/Q000894:Gudea 016\n",
      "Saving Output/etcsri_Q000894.txt\n",
      "\n",
      "Parsing etcsri/Q000895\n",
      "etcsri/Q000895:Gudea 017\n",
      "Saving Output/etcsri_Q000895.txt\n",
      "\n",
      "Parsing etcsri/Q000896\n",
      "etcsri/Q000896:Gudea 018\n",
      "Saving Output/etcsri_Q000896.txt\n",
      "\n"
     ]
    },
    {
     "name": "stderr",
     "output_type": "stream",
     "text": [
      " 32%|███▏      | 460/1428 [00:53<01:00, 15.98it/s]"
     ]
    },
    {
     "name": "stdout",
     "output_type": "stream",
     "text": [
      "Parsing etcsri/Q000897\n",
      "etcsri/Q000897:Gudea 019\n",
      "Saving Output/etcsri_Q000897.txt\n",
      "\n",
      "Parsing etcsri/Q000898\n",
      "etcsri/Q000898:Gudea 020\n",
      "Saving Output/etcsri_Q000898.txt\n",
      "\n",
      "Parsing etcsri/Q000899\n",
      "etcsri/Q000899:Gudea 021\n",
      "Saving Output/etcsri_Q000899.txt\n",
      "\n",
      "Parsing etcsri/Q001482\n",
      "etcsri/Q001482:Gudea 022\n"
     ]
    },
    {
     "name": "stderr",
     "output_type": "stream",
     "text": [
      " 32%|███▏      | 464/1428 [00:53<00:58, 16.59it/s]"
     ]
    },
    {
     "name": "stdout",
     "output_type": "stream",
     "text": [
      "Saving Output/etcsri_Q001482.txt\n",
      "\n",
      "Parsing etcsri/Q001483\n",
      "etcsri/Q001483:Gudea 023\n",
      "Saving Output/etcsri_Q001483.txt\n",
      "\n",
      "Parsing etcsri/Q000900\n",
      "etcsri/Q000900:Gudea 024\n",
      "Saving Output/etcsri_Q000900.txt\n",
      "\n",
      "Parsing etcsri/Q000901\n",
      "etcsri/Q000901:Gudea 025\n",
      "Saving Output/etcsri_Q000901.txt\n",
      "\n"
     ]
    },
    {
     "name": "stderr",
     "output_type": "stream",
     "text": [
      "\r",
      " 33%|███▎      | 466/1428 [00:53<01:05, 14.70it/s]"
     ]
    },
    {
     "name": "stdout",
     "output_type": "stream",
     "text": [
      "Parsing etcsri/Q000902\n",
      "etcsri/Q000902:Gudea 026\n",
      "Saving Output/etcsri_Q000902.txt\n",
      "\n",
      "Parsing etcsri/Q001484\n",
      "etcsri/Q001484:Gudea 027\n",
      "Saving Output/etcsri_Q001484.txt\n",
      "\n",
      "Parsing etcsri/Q001485\n",
      "etcsri/Q001485:Gudea 028\n"
     ]
    },
    {
     "name": "stderr",
     "output_type": "stream",
     "text": [
      " 33%|███▎      | 470/1428 [00:54<01:03, 14.97it/s]"
     ]
    },
    {
     "name": "stdout",
     "output_type": "stream",
     "text": [
      "Saving Output/etcsri_Q001485.txt\n",
      "\n",
      "Parsing etcsri/Q000903\n",
      "etcsri/Q000903:Gudea 029\n",
      "Saving Output/etcsri_Q000903.txt\n",
      "\n",
      "Parsing etcsri/Q001486\n",
      "etcsri/Q001486:Gudea 030\n",
      "Saving Output/etcsri_Q001486.txt\n",
      "\n",
      "Parsing etcsri/Q000904\n",
      "etcsri/Q000904:Gudea 031\n",
      "Saving Output/etcsri_Q000904.txt\n",
      "\n",
      "Parsing etcsri/Q001487\n",
      "etcsri/Q001487:Gudea 032\n"
     ]
    },
    {
     "name": "stderr",
     "output_type": "stream",
     "text": [
      " 33%|███▎      | 474/1428 [00:54<01:01, 15.50it/s]"
     ]
    },
    {
     "name": "stdout",
     "output_type": "stream",
     "text": [
      "Saving Output/etcsri_Q001487.txt\n",
      "\n",
      "Parsing etcsri/Q000905\n",
      "etcsri/Q000905:Gudea 033\n",
      "Saving Output/etcsri_Q000905.txt\n",
      "\n",
      "Parsing etcsri/Q000906\n",
      "etcsri/Q000906:Gudea 034\n",
      "Saving Output/etcsri_Q000906.txt\n",
      "\n",
      "Parsing etcsri/Q000907\n",
      "etcsri/Q000907:Gudea 035\n",
      "Saving Output/etcsri_Q000907.txt\n",
      "\n",
      "Parsing etcsri/Q001488\n",
      "etcsri/Q001488:Gudea 036\n"
     ]
    },
    {
     "name": "stderr",
     "output_type": "stream",
     "text": [
      " 33%|███▎      | 478/1428 [00:54<00:59, 16.01it/s]"
     ]
    },
    {
     "name": "stdout",
     "output_type": "stream",
     "text": [
      "Saving Output/etcsri_Q001488.txt\n",
      "\n",
      "Parsing etcsri/Q000908\n",
      "etcsri/Q000908:Gudea 037\n",
      "Saving Output/etcsri_Q000908.txt\n",
      "\n",
      "Parsing etcsri/Q001489\n",
      "etcsri/Q001489:Gudea 038\n",
      "Saving Output/etcsri_Q001489.txt\n",
      "\n",
      "Parsing etcsri/Q000909\n",
      "etcsri/Q000909:Gudea 039\n",
      "Saving Output/etcsri_Q000909.txt\n",
      "\n",
      "Parsing etcsri/Q000910\n"
     ]
    },
    {
     "name": "stderr",
     "output_type": "stream",
     "text": [
      " 34%|███▍      | 482/1428 [00:54<01:00, 15.76it/s]"
     ]
    },
    {
     "name": "stdout",
     "output_type": "stream",
     "text": [
      "etcsri/Q000910:Gudea 040\n",
      "Saving Output/etcsri_Q000910.txt\n",
      "\n",
      "Parsing etcsri/Q000911\n",
      "etcsri/Q000911:Gudea 041\n",
      "Saving Output/etcsri_Q000911.txt\n",
      "\n",
      "Parsing etcsri/Q000912\n",
      "etcsri/Q000912:Gudea 042\n",
      "Saving Output/etcsri_Q000912.txt\n",
      "\n",
      "Parsing etcsri/Q000913\n",
      "etcsri/Q000913:Gudea 043\n",
      "Saving Output/etcsri_Q000913.txt\n",
      "\n"
     ]
    },
    {
     "name": "stderr",
     "output_type": "stream",
     "text": [
      "\r",
      " 34%|███▍      | 484/1428 [00:55<01:02, 15.10it/s]"
     ]
    },
    {
     "name": "stdout",
     "output_type": "stream",
     "text": [
      "Parsing etcsri/Q000914\n",
      "etcsri/Q000914:Gudea 044\n",
      "Saving Output/etcsri_Q000914.txt\n",
      "\n",
      "Parsing etcsri/Q001490\n",
      "etcsri/Q001490:Gudea 045\n",
      "Saving Output/etcsri_Q001490.txt\n",
      "\n",
      "Parsing etcsri/Q001491\n",
      "etcsri/Q001491:Gudea 046\n"
     ]
    },
    {
     "name": "stderr",
     "output_type": "stream",
     "text": [
      "\r",
      " 34%|███▍      | 486/1428 [00:55<01:06, 14.25it/s]"
     ]
    },
    {
     "name": "stdout",
     "output_type": "stream",
     "text": [
      "Saving Output/etcsri_Q001491.txt\n",
      "\n",
      "Parsing etcsri/Q001492\n",
      "etcsri/Q001492:Gudea 047\n",
      "Saving Output/etcsri_Q001492.txt\n",
      "\n",
      "Parsing etcsri/Q000915\n",
      "etcsri/Q000915:Gudea 048\n"
     ]
    },
    {
     "name": "stderr",
     "output_type": "stream",
     "text": [
      " 34%|███▍      | 490/1428 [00:55<01:10, 13.21it/s]"
     ]
    },
    {
     "name": "stdout",
     "output_type": "stream",
     "text": [
      "Saving Output/etcsri_Q000915.txt\n",
      "\n",
      "Parsing etcsri/Q000916\n",
      "etcsri/Q000916:Gudea 049\n",
      "Saving Output/etcsri_Q000916.txt\n",
      "\n",
      "Parsing etcsri/Q001493\n",
      "etcsri/Q001493:Gudea 050\n",
      "Saving Output/etcsri_Q001493.txt\n",
      "\n",
      "Parsing etcsri/Q000917\n",
      "etcsri/Q000917:Gudea 051\n"
     ]
    },
    {
     "name": "stderr",
     "output_type": "stream",
     "text": [
      "\r",
      " 34%|███▍      | 492/1428 [00:55<01:15, 12.35it/s]"
     ]
    },
    {
     "name": "stdout",
     "output_type": "stream",
     "text": [
      "Saving Output/etcsri_Q000917.txt\n",
      "\n",
      "Parsing etcsri/Q001494\n",
      "etcsri/Q001494:Gudea 052\n",
      "Saving Output/etcsri_Q001494.txt\n",
      "\n",
      "Parsing etcsri/Q001495\n",
      "etcsri/Q001495:Gudea 053\n",
      "Saving Output/etcsri_Q001495.txt\n",
      "\n",
      "Parsing etcsri/Q000918\n",
      "etcsri/Q000918:Gudea 054\n"
     ]
    },
    {
     "name": "stderr",
     "output_type": "stream",
     "text": [
      " 35%|███▍      | 497/1428 [00:56<01:08, 13.58it/s]"
     ]
    },
    {
     "name": "stdout",
     "output_type": "stream",
     "text": [
      "Saving Output/etcsri_Q000918.txt\n",
      "\n",
      "Parsing etcsri/Q001496\n",
      "etcsri/Q001496:Gudea 055a\n",
      "Saving Output/etcsri_Q001496.txt\n",
      "\n",
      "Parsing etcsri/Q003220\n",
      "etcsri/Q003220:Gudea 55b\n",
      "Saving Output/etcsri_Q003220.txt\n",
      "\n",
      "Parsing etcsri/Q001497\n",
      "etcsri/Q001497:Gudea 056\n",
      "Saving Output/etcsri_Q001497.txt\n",
      "\n"
     ]
    },
    {
     "name": "stderr",
     "output_type": "stream",
     "text": [
      "\r",
      " 35%|███▍      | 499/1428 [00:56<01:08, 13.59it/s]"
     ]
    },
    {
     "name": "stdout",
     "output_type": "stream",
     "text": [
      "Parsing etcsri/Q001498\n",
      "etcsri/Q001498:Gudea 057\n",
      "Saving Output/etcsri_Q001498.txt\n",
      "\n",
      "Parsing etcsri/Q001499\n",
      "etcsri/Q001499:Gudea 058\n",
      "Saving Output/etcsri_Q001499.txt\n",
      "\n",
      "Parsing etcsri/Q001500\n",
      "etcsri/Q001500:Gudea 059\n",
      "Saving Output/etcsri_Q001500.txt\n",
      "\n"
     ]
    },
    {
     "name": "stderr",
     "output_type": "stream",
     "text": [
      " 35%|███▌      | 503/1428 [00:56<00:58, 15.73it/s]"
     ]
    },
    {
     "name": "stdout",
     "output_type": "stream",
     "text": [
      "Parsing etcsri/Q001501\n",
      "etcsri/Q001501:Gudea 060\n",
      "Saving Output/etcsri_Q001501.txt\n",
      "\n",
      "Parsing etcsri/Q001502\n",
      "etcsri/Q001502:Gudea 061\n",
      "Saving Output/etcsri_Q001502.txt\n",
      "\n",
      "Parsing etcsri/Q000919\n",
      "etcsri/Q000919:Gudea 062\n",
      "Saving Output/etcsri_Q000919.txt\n",
      "\n",
      "Parsing etcsri/Q000920\n",
      "etcsri/Q000920:Gudea 063\n",
      "Saving Output/etcsri_Q000920.txt\n",
      "\n",
      "Parsing etcsri/Q000921\n"
     ]
    },
    {
     "name": "stderr",
     "output_type": "stream",
     "text": [
      " 36%|███▌      | 507/1428 [00:56<00:53, 17.16it/s]"
     ]
    },
    {
     "name": "stdout",
     "output_type": "stream",
     "text": [
      "etcsri/Q000921:Gudea 064\n",
      "Saving Output/etcsri_Q000921.txt\n",
      "\n",
      "Parsing etcsri/Q001503\n",
      "etcsri/Q001503:Gudea 065\n",
      "Saving Output/etcsri_Q001503.txt\n",
      "\n",
      "Parsing etcsri/Q000922\n",
      "etcsri/Q000922:Gudea 066\n",
      "Saving Output/etcsri_Q000922.txt\n",
      "\n",
      "Parsing etcsri/Q000923\n",
      "etcsri/Q000923:Gudea 067\n",
      "Saving Output/etcsri_Q000923.txt\n",
      "\n"
     ]
    },
    {
     "name": "stderr",
     "output_type": "stream",
     "text": [
      " 36%|███▌      | 511/1428 [00:56<00:56, 16.26it/s]"
     ]
    },
    {
     "name": "stdout",
     "output_type": "stream",
     "text": [
      "Parsing etcsri/Q001504\n",
      "etcsri/Q001504:Gudea 068\n",
      "Saving Output/etcsri_Q001504.txt\n",
      "\n",
      "Parsing etcsri/Q001505\n",
      "etcsri/Q001505:Gudea 069\n",
      "Saving Output/etcsri_Q001505.txt\n",
      "\n",
      "Parsing etcsri/Q001506\n",
      "etcsri/Q001506:Gudea 070\n",
      "Saving Output/etcsri_Q001506.txt\n",
      "\n",
      "Parsing etcsri/Q001507\n",
      "etcsri/Q001507:Gudea 071\n"
     ]
    },
    {
     "name": "stderr",
     "output_type": "stream",
     "text": [
      " 36%|███▌      | 515/1428 [00:57<00:52, 17.41it/s]"
     ]
    },
    {
     "name": "stdout",
     "output_type": "stream",
     "text": [
      "Saving Output/etcsri_Q001507.txt\n",
      "\n",
      "Parsing etcsri/Q000924\n",
      "etcsri/Q000924:Gudea 072\n",
      "Saving Output/etcsri_Q000924.txt\n",
      "\n",
      "Parsing etcsri/Q000925\n",
      "etcsri/Q000925:Gudea 073\n",
      "Saving Output/etcsri_Q000925.txt\n",
      "\n",
      "Parsing etcsri/Q001508\n",
      "etcsri/Q001508:Gudea 074\n",
      "Saving Output/etcsri_Q001508.txt\n",
      "\n",
      "Parsing etcsri/Q001509\n",
      "etcsri/Q001509:Gudea 075\n"
     ]
    },
    {
     "name": "stderr",
     "output_type": "stream",
     "text": [
      " 36%|███▋      | 520/1428 [00:57<00:49, 18.51it/s]"
     ]
    },
    {
     "name": "stdout",
     "output_type": "stream",
     "text": [
      "Saving Output/etcsri_Q001509.txt\n",
      "\n",
      "Parsing etcsri/Q001510\n",
      "etcsri/Q001510:Gudea 076\n",
      "Saving Output/etcsri_Q001510.txt\n",
      "\n",
      "Parsing etcsri/Q001511\n",
      "etcsri/Q001511:Gudea 077\n",
      "Saving Output/etcsri_Q001511.txt\n",
      "\n",
      "Parsing etcsri/Q001512\n",
      "etcsri/Q001512:Gudea 078\n",
      "Saving Output/etcsri_Q001512.txt\n",
      "\n",
      "Parsing etcsri/Q001513\n",
      "etcsri/Q001513:Gudea 079\n",
      "Saving Output/etcsri_Q001513.txt\n",
      "\n",
      "Parsing etcsri/Q000926\n"
     ]
    },
    {
     "name": "stderr",
     "output_type": "stream",
     "text": [
      "\r",
      " 37%|███▋      | 523/1428 [00:57<00:46, 19.36it/s]"
     ]
    },
    {
     "name": "stdout",
     "output_type": "stream",
     "text": [
      "etcsri/Q000926:Gudea 080\n",
      "Saving Output/etcsri_Q000926.txt\n",
      "\n",
      "Parsing etcsri/Q001514\n",
      "etcsri/Q001514:Gudea 081\n",
      "Saving Output/etcsri_Q001514.txt\n",
      "\n",
      "Parsing etcsri/Q001515\n",
      "etcsri/Q001515:Gudea 082\n",
      "Saving Output/etcsri_Q001515.txt\n",
      "\n",
      "Parsing etcsri/Q000927\n",
      "etcsri/Q000927:Gudea 083\n",
      "Saving Output/etcsri_Q000927.txt\n",
      "\n",
      "Parsing etcsri/Q001516\n",
      "etcsri/Q001516:Gudea 084\n",
      "Saving Output/etcsri_Q001516.txt\n",
      "\n",
      "Parsing etcsri/Q001517\n"
     ]
    },
    {
     "name": "stderr",
     "output_type": "stream",
     "text": [
      " 37%|███▋      | 529/1428 [00:57<00:43, 20.54it/s]"
     ]
    },
    {
     "name": "stdout",
     "output_type": "stream",
     "text": [
      "etcsri/Q001517:Gudea 085\n",
      "Saving Output/etcsri_Q001517.txt\n",
      "\n",
      "Parsing etcsri/Q001518\n",
      "etcsri/Q001518:Gudea 086\n",
      "Saving Output/etcsri_Q001518.txt\n",
      "\n",
      "Parsing etcsri/Q001519\n",
      "etcsri/Q001519:Gudea 087\n",
      "Saving Output/etcsri_Q001519.txt\n",
      "\n",
      "Parsing etcsri/Q001520\n",
      "etcsri/Q001520:Gudea 088\n",
      "Saving Output/etcsri_Q001520.txt\n",
      "\n",
      "Parsing etcsri/Q001521\n",
      "etcsri/Q001521:Gudea 089\n",
      "Saving Output/etcsri_Q001521.txt\n",
      "\n"
     ]
    },
    {
     "name": "stderr",
     "output_type": "stream",
     "text": [
      "\r",
      " 37%|███▋      | 532/1428 [00:57<00:47, 18.78it/s]"
     ]
    },
    {
     "name": "stdout",
     "output_type": "stream",
     "text": [
      "Parsing etcsri/Q001522\n",
      "etcsri/Q001522:Gudea 090\n",
      "Saving Output/etcsri_Q001522.txt\n",
      "\n",
      "Parsing etcsri/Q001523\n",
      "etcsri/Q001523:Gudea 091\n",
      "Saving Output/etcsri_Q001523.txt\n",
      "\n",
      "Parsing etcsri/Q001524\n",
      "etcsri/Q001524:Gudea 092\n",
      "Saving Output/etcsri_Q001524.txt\n",
      "\n",
      "Parsing etcsri/Q001525\n",
      "etcsri/Q001525:Gudea 093\n"
     ]
    },
    {
     "name": "stderr",
     "output_type": "stream",
     "text": [
      "\r",
      " 37%|███▋      | 535/1428 [00:58<00:48, 18.24it/s]"
     ]
    },
    {
     "name": "stdout",
     "output_type": "stream",
     "text": [
      "Saving Output/etcsri_Q001525.txt\n",
      "\n",
      "Parsing etcsri/Q001526\n",
      "etcsri/Q001526:Gudea 094\n",
      "Saving Output/etcsri_Q001526.txt\n",
      "\n",
      "Parsing etcsri/Q001527\n",
      "etcsri/Q001527:Gudea 095\n",
      "Saving Output/etcsri_Q001527.txt\n",
      "\n",
      "Parsing etcsri/Q001528\n",
      "etcsri/Q001528:Gudea 096\n",
      "Saving Output/etcsri_Q001528.txt\n",
      "\n",
      "Parsing etcsri/Q001529\n",
      "etcsri/Q001529:Gudea 097\n"
     ]
    },
    {
     "name": "stderr",
     "output_type": "stream",
     "text": [
      "\r",
      " 38%|███▊      | 538/1428 [00:58<00:45, 19.44it/s]"
     ]
    },
    {
     "name": "stdout",
     "output_type": "stream",
     "text": [
      "Saving Output/etcsri_Q001529.txt\n",
      "\n",
      "Parsing etcsri/Q001530\n",
      "etcsri/Q001530:Gudea 098\n",
      "Saving Output/etcsri_Q001530.txt\n",
      "\n",
      "Parsing etcsri/Q001531\n",
      "etcsri/Q001531:Gudea 099\n",
      "Saving Output/etcsri_Q001531.txt\n",
      "\n",
      "Parsing etcsri/Q001532\n",
      "etcsri/Q001532:Gudea 100\n",
      "Saving Output/etcsri_Q001532.txt\n",
      "\n"
     ]
    },
    {
     "name": "stderr",
     "output_type": "stream",
     "text": [
      " 38%|███▊      | 543/1428 [00:58<00:53, 16.67it/s]"
     ]
    },
    {
     "name": "stdout",
     "output_type": "stream",
     "text": [
      "Parsing etcsri/Q003228\n",
      "etcsri/Q003228:Gudea 101\n",
      "Saving Output/etcsri_Q003228.txt\n",
      "\n",
      "Parsing etcsri/Q003229\n",
      "etcsri/Q003229:Gudea 102\n",
      "Saving Output/etcsri_Q003229.txt\n",
      "\n",
      "Parsing etcsri/Q004877\n",
      "etcsri/Q004877:Gudea 103add\n",
      "Saving Output/etcsri_Q004877.txt\n",
      "\n"
     ]
    },
    {
     "name": "stderr",
     "output_type": "stream",
     "text": [
      "\r",
      " 38%|███▊      | 545/1428 [00:58<01:01, 14.30it/s]"
     ]
    },
    {
     "name": "stdout",
     "output_type": "stream",
     "text": [
      "Parsing etcsri/X000105\n",
      "etcsri/X000105:Gudea 105add\n",
      "Saving Output/etcsri_X000105.txt\n",
      "\n",
      "Parsing etcsri/X000106\n",
      "etcsri/X000106:Gudea 106add\n",
      "Saving Output/etcsri_X000106.txt\n",
      "\n",
      "Parsing etcsri/X002001\n",
      "etcsri/X002001:Gudea 2001add\n",
      "Saving Output/etcsri_X002001.txt\n",
      "\n",
      "Parsing etcsri/X002002\n"
     ]
    },
    {
     "name": "stderr",
     "output_type": "stream",
     "text": [
      " 39%|███▊      | 551/1428 [00:59<00:52, 16.67it/s]"
     ]
    },
    {
     "name": "stdout",
     "output_type": "stream",
     "text": [
      "etcsri/X002002:Gudea 2002add\n",
      "Saving Output/etcsri_X002002.txt\n",
      "\n",
      "Parsing etcsri/X002003\n",
      "etcsri/X002003:Gudea 2003add\n",
      "Saving Output/etcsri_X002003.txt\n",
      "\n",
      "Parsing etcsri/X002004\n",
      "etcsri/X002004:Gudea 2004add\n",
      "Saving Output/etcsri_X002004.txt\n",
      "\n",
      "Parsing etcsri/Q001566\n",
      "etcsri/Q001566:Ur-Ningirsu II 01\n",
      "Saving Output/etcsri_Q001566.txt\n",
      "\n",
      "Parsing etcsri/Q000928\n"
     ]
    },
    {
     "name": "stderr",
     "output_type": "stream",
     "text": [
      "\r",
      " 39%|███▊      | 553/1428 [00:59<01:01, 14.20it/s]"
     ]
    },
    {
     "name": "stdout",
     "output_type": "stream",
     "text": [
      "etcsri/Q000928:Ur-Ningirsu II 02\n",
      "Saving Output/etcsri_Q000928.txt\n",
      "\n",
      "Parsing etcsri/Q000929\n",
      "etcsri/Q000929:Ur-Ningirsu II 03\n",
      "Saving Output/etcsri_Q000929.txt\n",
      "\n",
      "Parsing etcsri/Q001567\n",
      "etcsri/Q001567:Ur-Ningirsu II 04\n",
      "Saving Output/etcsri_Q001567.txt\n",
      "\n",
      "Parsing etcsri/Q001568\n"
     ]
    },
    {
     "name": "stderr",
     "output_type": "stream",
     "text": [
      " 39%|███▉      | 557/1428 [00:59<01:04, 13.58it/s]"
     ]
    },
    {
     "name": "stdout",
     "output_type": "stream",
     "text": [
      "etcsri/Q001568:Ur-Ningirsu II 05\n",
      "Saving Output/etcsri_Q001568.txt\n",
      "\n",
      "Parsing etcsri/Q001569\n",
      "etcsri/Q001569:Ur-Ningirsu II 06\n",
      "Saving Output/etcsri_Q001569.txt\n",
      "\n",
      "Parsing etcsri/Q001570\n",
      "etcsri/Q001570:Ur-Ningirsu II 07\n",
      "Saving Output/etcsri_Q001570.txt\n",
      "\n"
     ]
    },
    {
     "name": "stderr",
     "output_type": "stream",
     "text": [
      "\r",
      " 39%|███▉      | 560/1428 [00:59<00:56, 15.39it/s]"
     ]
    },
    {
     "name": "stdout",
     "output_type": "stream",
     "text": [
      "Parsing etcsri/Q001571\n",
      "etcsri/Q001571:Ur-Ningirsu II 08\n",
      "Saving Output/etcsri_Q001571.txt\n",
      "\n",
      "Parsing etcsri/Q001572\n",
      "etcsri/Q001572:Ur-Ningirsu II 09\n",
      "Saving Output/etcsri_Q001572.txt\n",
      "\n",
      "Parsing etcsri/Q001573\n",
      "etcsri/Q001573:Ur-Ningirsu II 10\n",
      "Saving Output/etcsri_Q001573.txt\n",
      "\n",
      "Parsing etcsri/Q001574\n",
      "etcsri/Q001574:Urgar 1\n",
      "Saving Output/etcsri_Q001574.txt\n",
      "\n"
     ]
    },
    {
     "name": "stderr",
     "output_type": "stream",
     "text": [
      " 39%|███▉      | 564/1428 [00:59<00:56, 15.36it/s]"
     ]
    },
    {
     "name": "stdout",
     "output_type": "stream",
     "text": [
      "Parsing etcsri/Q001575\n",
      "etcsri/Q001575:Urgar 2\n",
      "Saving Output/etcsri_Q001575.txt\n",
      "\n",
      "Parsing etcsri/Q001576\n",
      "etcsri/Q001576:Urgar 3\n",
      "Saving Output/etcsri_Q001576.txt\n",
      "\n",
      "Parsing etcsri/Q001577\n",
      "etcsri/Q001577:Urmama 1\n",
      "Saving Output/etcsri_Q001577.txt\n",
      "\n",
      "Parsing etcsri/Q001578\n",
      "etcsri/Q001578:Nammahni 01\n"
     ]
    },
    {
     "name": "stderr",
     "output_type": "stream",
     "text": [
      "\r",
      " 40%|███▉      | 566/1428 [01:00<00:58, 14.64it/s]"
     ]
    },
    {
     "name": "stdout",
     "output_type": "stream",
     "text": [
      "Saving Output/etcsri_Q001578.txt\n",
      "\n",
      "Parsing etcsri/Q000930\n",
      "etcsri/Q000930:Nammahni 02\n",
      "Saving Output/etcsri_Q000930.txt\n",
      "\n",
      "Parsing etcsri/Q000931\n",
      "etcsri/Q000931:Nammahni 03\n",
      "Saving Output/etcsri_Q000931.txt\n",
      "\n",
      "Parsing etcsri/Q001579\n",
      "etcsri/Q001579:Nammahni 04\n",
      "Saving Output/etcsri_Q001579.txt\n",
      "\n",
      "Parsing etcsri/Q001580\n",
      "etcsri/Q001580:Nammahni 05\n"
     ]
    },
    {
     "name": "stderr",
     "output_type": "stream",
     "text": [
      "\r",
      " 40%|███▉      | 569/1428 [01:00<00:55, 15.59it/s]"
     ]
    },
    {
     "name": "stdout",
     "output_type": "stream",
     "text": [
      "Saving Output/etcsri_Q001580.txt\n",
      "\n",
      "Parsing etcsri/Q001581\n",
      "etcsri/Q001581:Nammahni 06\n",
      "Saving Output/etcsri_Q001581.txt\n",
      "\n",
      "Parsing etcsri/Q000932\n"
     ]
    },
    {
     "name": "stderr",
     "output_type": "stream",
     "text": [
      " 40%|████      | 573/1428 [01:00<01:04, 13.18it/s]"
     ]
    },
    {
     "name": "stdout",
     "output_type": "stream",
     "text": [
      "etcsri/Q000932:Nammahni 07\n",
      "Saving Output/etcsri_Q000932.txt\n",
      "\n",
      "Parsing etcsri/Q001582\n",
      "etcsri/Q001582:Nammahni 08\n",
      "Saving Output/etcsri_Q001582.txt\n",
      "\n",
      "Parsing etcsri/Q001583\n",
      "etcsri/Q001583:Nammahni 09\n",
      "Saving Output/etcsri_Q001583.txt\n",
      "\n",
      "Parsing etcsri/Q001584\n",
      "etcsri/Q001584:Nammahni 10\n",
      "Saving Output/etcsri_Q001584.txt\n",
      "\n",
      "Parsing etcsri/Q000933\n",
      "etcsri/Q000933:Nammahni 11\n"
     ]
    },
    {
     "name": "stderr",
     "output_type": "stream",
     "text": [
      " 40%|████      | 577/1428 [01:00<00:57, 14.88it/s]"
     ]
    },
    {
     "name": "stdout",
     "output_type": "stream",
     "text": [
      "Saving Output/etcsri_Q000933.txt\n",
      "\n",
      "Parsing etcsri/Q001585\n",
      "etcsri/Q001585:Nammahni 12\n",
      "Saving Output/etcsri_Q001585.txt\n",
      "\n",
      "Parsing etcsri/Q001586\n",
      "etcsri/Q001586:Nammahni 13\n",
      "Saving Output/etcsri_Q001586.txt\n",
      "\n",
      "Parsing etcsri/Q001587\n",
      "etcsri/Q001587:Nammahni 14\n",
      "Saving Output/etcsri_Q001587.txt\n",
      "\n",
      "Parsing etcsri/Q001588\n",
      "etcsri/Q001588:Nammahni 15\n",
      "Saving Output/etcsri_Q001588.txt\n",
      "\n"
     ]
    },
    {
     "name": "stderr",
     "output_type": "stream",
     "text": [
      " 41%|████      | 582/1428 [01:01<00:54, 15.66it/s]"
     ]
    },
    {
     "name": "stdout",
     "output_type": "stream",
     "text": [
      "Parsing etcsri/Q001589\n",
      "etcsri/Q001589:Nammahni 16\n",
      "Saving Output/etcsri_Q001589.txt\n",
      "\n",
      "Parsing etcsri/Q000934\n",
      "etcsri/Q000934:Nammahni 17\n",
      "Saving Output/etcsri_Q000934.txt\n",
      "\n",
      "Parsing etcsri/Q001590\n",
      "etcsri/Q001590:Hala-Bau 1001\n",
      "Saving Output/etcsri_Q001590.txt\n",
      "\n",
      "Parsing etcsri/Q001591\n",
      "etcsri/Q001591:Lagaš II Unidentified 1002\n"
     ]
    },
    {
     "name": "stderr",
     "output_type": "stream",
     "text": [
      " 41%|████      | 589/1428 [01:01<00:40, 20.63it/s]"
     ]
    },
    {
     "name": "stdout",
     "output_type": "stream",
     "text": [
      "Saving Output/etcsri_Q001591.txt\n",
      "\n",
      "Parsing etcsri/Q001592\n",
      "etcsri/Q001592:Lagaš II Unidentified 1003\n",
      "Saving Output/etcsri_Q001592.txt\n",
      "\n",
      "Parsing etcsri/Q001593\n",
      "etcsri/Q001593:Lagaš II Unidentified 1004\n",
      "Saving Output/etcsri_Q001593.txt\n",
      "\n",
      "Parsing etcsri/Q001594\n",
      "etcsri/Q001594:Lagaš II Unidentified 1005\n",
      "Saving Output/etcsri_Q001594.txt\n",
      "\n",
      "Parsing etcsri/Q001595\n",
      "etcsri/Q001595:Lagaš II Unidentified 1006\n",
      "Saving Output/etcsri_Q001595.txt\n",
      "\n",
      "Parsing etcsri/Q001596\n",
      "etcsri/Q001596:Lagaš II Unidentified 1007\n",
      "Saving Output/etcsri_Q001596.txt\n",
      "\n",
      "Parsing etcsri/Q001597\n",
      "etcsri/Q001597:Lagaš II Unidentified 1008\n",
      "Saving Output/etcsri_Q001597.txt\n",
      "\n"
     ]
    },
    {
     "name": "stderr",
     "output_type": "stream",
     "text": [
      "\r",
      " 41%|████▏     | 592/1428 [01:01<00:38, 21.95it/s]"
     ]
    },
    {
     "name": "stdout",
     "output_type": "stream",
     "text": [
      "Parsing etcsri/Q001598\n",
      "etcsri/Q001598:Lagaš II Unidentified 1009\n",
      "Saving Output/etcsri_Q001598.txt\n",
      "\n",
      "Parsing etcsri/Q001599\n",
      "etcsri/Q001599:Lagaš II Unidentified 1010\n",
      "Saving Output/etcsri_Q001599.txt\n",
      "\n",
      "Parsing etcsri/Q001600\n",
      "etcsri/Q001600:Lagaš II Unidentified 1011\n",
      "Saving Output/etcsri_Q001600.txt\n",
      "\n",
      "Parsing etcsri/Q001601\n",
      "etcsri/Q001601:Lagaš II Unidentified 1012\n",
      "Saving Output/etcsri_Q001601.txt\n",
      "\n",
      "Parsing etcsri/Q001602\n",
      "etcsri/Q001602:Lagaš II Unidentified 1013\n",
      "Saving Output/etcsri_Q001602.txt\n",
      "\n",
      "Parsing etcsri/Q001603\n",
      "etcsri/Q001603:Lagaš II Unidentified 1014\n",
      "Saving Output/etcsri_Q001603.txt\n",
      "\n"
     ]
    },
    {
     "name": "stderr",
     "output_type": "stream",
     "text": [
      " 42%|████▏     | 599/1428 [01:01<00:33, 24.62it/s]"
     ]
    },
    {
     "name": "stdout",
     "output_type": "stream",
     "text": [
      "Parsing etcsri/Q001604\n",
      "etcsri/Q001604:Lagaš II Unidentified 1015\n",
      "Saving Output/etcsri_Q001604.txt\n",
      "\n",
      "Parsing etcsri/Q001605\n",
      "etcsri/Q001605:Lagaš II Unidentified 1016\n",
      "Saving Output/etcsri_Q001605.txt\n",
      "\n",
      "Parsing etcsri/Q001606\n",
      "etcsri/Q001606:Lagaš II Unidentified 1017\n",
      "Saving Output/etcsri_Q001606.txt\n",
      "\n",
      "Parsing etcsri/Q001607\n",
      "etcsri/Q001607:Lagaš II Unidentified 1018\n",
      "Saving Output/etcsri_Q001607.txt\n",
      "\n",
      "Parsing etcsri/Q001608\n",
      "etcsri/Q001608:Lagaš II Unidentified 1019\n",
      "Saving Output/etcsri_Q001608.txt\n",
      "\n"
     ]
    },
    {
     "name": "stderr",
     "output_type": "stream",
     "text": [
      " 42%|████▏     | 605/1428 [01:02<00:34, 24.16it/s]"
     ]
    },
    {
     "name": "stdout",
     "output_type": "stream",
     "text": [
      "Parsing etcsri/Q001609\n",
      "etcsri/Q001609:Lagaš II Unidentified 1020\n",
      "Saving Output/etcsri_Q001609.txt\n",
      "\n",
      "Parsing etcsri/Q001610\n",
      "etcsri/Q001610:Lagaš II Unidentified 1021\n",
      "Saving Output/etcsri_Q001610.txt\n",
      "\n",
      "Parsing etcsri/Q001611\n",
      "etcsri/Q001611:Lagaš II Unidentified 1022\n",
      "Saving Output/etcsri_Q001611.txt\n",
      "\n",
      "Parsing etcsri/Q001612\n",
      "etcsri/Q001612:Lagaš II Unidentified 1023\n",
      "Saving Output/etcsri_Q001612.txt\n",
      "\n",
      "Parsing etcsri/Q001613\n",
      "etcsri/Q001613:Lagaš II Unidentified 1024\n",
      "Saving Output/etcsri_Q001613.txt\n",
      "\n"
     ]
    },
    {
     "name": "stderr",
     "output_type": "stream",
     "text": [
      "\r",
      " 43%|████▎     | 608/1428 [01:02<00:33, 24.41it/s]"
     ]
    },
    {
     "name": "stdout",
     "output_type": "stream",
     "text": [
      "Parsing etcsri/Q001614\n",
      "etcsri/Q001614:Lagaš II Unidentified 1025\n",
      "Saving Output/etcsri_Q001614.txt\n",
      "\n",
      "Parsing etcsri/Q001615\n",
      "etcsri/Q001615:Lagaš II Unidentified 1026\n",
      "Saving Output/etcsri_Q001615.txt\n",
      "\n",
      "Parsing etcsri/Q001616\n",
      "etcsri/Q001616:Lagaš II Unidentified 1027\n",
      "Saving Output/etcsri_Q001616.txt\n",
      "\n",
      "Parsing etcsri/Q004255\n",
      "etcsri/Q004255:Lagaš II Unidentified 1028add\n",
      "Saving Output/etcsri_Q004255.txt\n",
      "\n",
      "Parsing etcsri/Q004256\n",
      "etcsri/Q004256:Lagaš II Unidentified 1029add\n",
      "Saving Output/etcsri_Q004256.txt\n",
      "\n",
      "Parsing etcsri/Q004257\n",
      "etcsri/Q004257:Lagaš II Unidentified 1030add\n"
     ]
    },
    {
     "name": "stderr",
     "output_type": "stream",
     "text": [
      " 43%|████▎     | 615/1428 [01:02<00:30, 26.75it/s]"
     ]
    },
    {
     "name": "stdout",
     "output_type": "stream",
     "text": [
      "Saving Output/etcsri_Q004257.txt\n",
      "\n",
      "Parsing etcsri/Q004258\n",
      "etcsri/Q004258:Lagaš II Unidentified 1031add\n",
      "Saving Output/etcsri_Q004258.txt\n",
      "\n",
      "Parsing etcsri/Q004259\n",
      "etcsri/Q004259:Lagaš II Unidentified 1032add\n",
      "Saving Output/etcsri_Q004259.txt\n",
      "\n",
      "Parsing etcsri/Q004260\n",
      "etcsri/Q004260:Lagaš II Unidentified 1033add\n",
      "Saving Output/etcsri_Q004260.txt\n",
      "\n",
      "Parsing etcsri/Q004261\n",
      "etcsri/Q004261:Lagaš II Unidentified 1034add\n",
      "Saving Output/etcsri_Q004261.txt\n",
      "\n",
      "Parsing etcsri/Q004262\n",
      "etcsri/Q004262:Lagaš II Unidentified 1035add\n",
      "Saving Output/etcsri_Q004262.txt\n",
      "\n",
      "Parsing etcsri/Q004263\n",
      "etcsri/Q004263:Lagaš II Unidentified 1036add\n",
      "Saving Output/etcsri_Q004263.txt\n",
      "\n",
      "Parsing etcsri/Q004264\n",
      "etcsri/Q004264:Lagaš II Unidentified 1037add\n",
      "Saving Output/etcsri_Q004264.txt\n",
      "\n"
     ]
    },
    {
     "name": "stderr",
     "output_type": "stream",
     "text": [
      " 44%|████▎     | 622/1428 [01:02<00:28, 27.86it/s]"
     ]
    },
    {
     "name": "stdout",
     "output_type": "stream",
     "text": [
      "Parsing etcsri/Q004265\n",
      "etcsri/Q004265:Lagaš II Unidentified 1038add\n",
      "Saving Output/etcsri_Q004265.txt\n",
      "\n",
      "Parsing etcsri/Q004266\n",
      "etcsri/Q004266:Lagaš II Unidentified 1039add\n",
      "Saving Output/etcsri_Q004266.txt\n",
      "\n",
      "Parsing etcsri/Q004267\n",
      "etcsri/Q004267:Lagaš II Unidentified 1040add\n",
      "Saving Output/etcsri_Q004267.txt\n",
      "\n",
      "Parsing etcsri/Q004268\n",
      "etcsri/Q004268:Lagaš II Unidentified 1042add\n",
      "Saving Output/etcsri_Q004268.txt\n",
      "\n",
      "Parsing etcsri/Q004269\n",
      "etcsri/Q004269:Lagaš II Unidentified 1043add\n",
      "Saving Output/etcsri_Q004269.txt\n",
      "\n",
      "Parsing etcsri/Q004270\n",
      "etcsri/Q004270:Lagaš II Unidentified 1044add\n",
      "Saving Output/etcsri_Q004270.txt\n",
      "\n"
     ]
    },
    {
     "name": "stderr",
     "output_type": "stream",
     "text": [
      " 44%|████▍     | 628/1428 [01:02<00:29, 27.03it/s]"
     ]
    },
    {
     "name": "stdout",
     "output_type": "stream",
     "text": [
      "Parsing etcsri/Q004271\n",
      "etcsri/Q004271:Lagaš II Unidentified 1045add\n",
      "Saving Output/etcsri_Q004271.txt\n",
      "\n",
      "Parsing etcsri/Q004272\n",
      "etcsri/Q004272:Lagaš II Unidentified 1046add\n",
      "Saving Output/etcsri_Q004272.txt\n",
      "\n",
      "Parsing etcsri/Q004273\n",
      "etcsri/Q004273:Lagaš II Unidentified 1047add\n",
      "Saving Output/etcsri_Q004273.txt\n",
      "\n",
      "Parsing etcsri/Q004274\n",
      "etcsri/Q004274:Lagaš II Unidentified 1048add\n",
      "Saving Output/etcsri_Q004274.txt\n",
      "\n",
      "Parsing etcsri/Q004275\n",
      "etcsri/Q004275:Lagaš II Unidentified 1049add\n",
      "Saving Output/etcsri_Q004275.txt\n",
      "\n",
      "Parsing etcsri/Q004881\n",
      "etcsri/Q004881:Lagaš II Unidentified 1050add\n",
      "Saving Output/etcsri_Q004881.txt\n",
      "\n"
     ]
    },
    {
     "name": "stderr",
     "output_type": "stream",
     "text": [
      " 44%|████▍     | 634/1428 [01:03<00:32, 24.54it/s]"
     ]
    },
    {
     "name": "stdout",
     "output_type": "stream",
     "text": [
      "Parsing etcsri/Q004882\n",
      "etcsri/Q004882:Lagaš II Unidentified 1051add\n",
      "Saving Output/etcsri_Q004882.txt\n",
      "\n",
      "Parsing etcsri/Q004883\n",
      "etcsri/Q004883:Lagaš II Unidentified 1052add\n",
      "Saving Output/etcsri_Q004883.txt\n",
      "\n",
      "Parsing etcsri/Q004884\n",
      "etcsri/Q004884:Lagaš II Unidentified 1053add\n",
      "Saving Output/etcsri_Q004884.txt\n",
      "\n",
      "Parsing etcsri/Q004885\n",
      "etcsri/Q004885:Lagaš II Unidentified 1054add\n",
      "Saving Output/etcsri_Q004885.txt\n",
      "\n",
      "Parsing etcsri/X004281\n"
     ]
    },
    {
     "name": "stderr",
     "output_type": "stream",
     "text": [
      "\r",
      " 45%|████▍     | 638/1428 [01:03<00:31, 25.16it/s]"
     ]
    },
    {
     "name": "stdout",
     "output_type": "stream",
     "text": [
      "etcsri/X004281:Lagaš II Unidentified 1055add\n",
      "Saving Output/etcsri_X004281.txt\n",
      "\n",
      "Parsing etcsri/Q004886\n",
      "etcsri/Q004886:Lagaš II Unidentified 1056add\n",
      "Saving Output/etcsri_Q004886.txt\n",
      "\n",
      "Parsing etcsri/Q004887\n",
      "etcsri/Q004887:Lagaš II Unidentified 1057add\n",
      "Saving Output/etcsri_Q004887.txt\n",
      "\n",
      "Parsing etcsri/Q004888\n",
      "etcsri/Q004888:Lagaš II Unidentified 1058add\n",
      "Saving Output/etcsri_Q004888.txt\n",
      "\n",
      "Parsing etcsri/Q004889\n",
      "etcsri/Q004889:Lagaš II Unidentified 1059add\n",
      "Saving Output/etcsri_Q004889.txt\n",
      "\n",
      "Parsing etcsri/Q004890\n",
      "etcsri/Q004890:Lagaš II Unidentified 1060add\n",
      "Saving Output/etcsri_Q004890.txt\n",
      "\n"
     ]
    },
    {
     "name": "stderr",
     "output_type": "stream",
     "text": [
      " 45%|████▌     | 644/1428 [01:03<00:30, 25.57it/s]"
     ]
    },
    {
     "name": "stdout",
     "output_type": "stream",
     "text": [
      "Parsing etcsri/Q004891\n",
      "etcsri/Q004891:Lagaš II Unidentified 1061add\n",
      "Saving Output/etcsri_Q004891.txt\n",
      "\n",
      "Parsing etcsri/Q004892\n",
      "etcsri/Q004892:Lagaš II Unidentified 1062add\n",
      "Saving Output/etcsri_Q004892.txt\n",
      "\n",
      "Parsing etcsri/Q004893\n",
      "etcsri/Q004893:Lagaš II Unidentified 1063add\n",
      "Saving Output/etcsri_Q004893.txt\n",
      "\n",
      "Parsing etcsri/Q004894\n",
      "etcsri/Q004894:Lagaš II Unidentified 1064add\n",
      "Saving Output/etcsri_Q004894.txt\n",
      "\n",
      "Parsing etcsri/Q004895\n",
      "etcsri/Q004895:Lagaš II Unidentified 1065add\n",
      "Saving Output/etcsri_Q004895.txt\n",
      "\n",
      "Parsing etcsri/Q004878\n",
      "etcsri/Q004878:Ur-Ninmarki 1\n"
     ]
    },
    {
     "name": "stderr",
     "output_type": "stream",
     "text": [
      "\r",
      " 45%|████▌     | 647/1428 [01:03<00:33, 23.06it/s]"
     ]
    },
    {
     "name": "stdout",
     "output_type": "stream",
     "text": [
      "Saving Output/etcsri_Q004878.txt\n",
      "\n",
      "Parsing etcsri/Q004879\n",
      "etcsri/Q004879:Ur-Ninmarki 2\n",
      "Saving Output/etcsri_Q004879.txt\n",
      "\n",
      "Parsing etcsri/Q004880\n",
      "etcsri/Q004880:Ur-Ninsumuna 1\n",
      "Saving Output/etcsri_Q004880.txt\n",
      "\n",
      "Parsing etcsri/Q004276\n",
      "etcsri/Q004276:Idattu 1\n"
     ]
    },
    {
     "name": "stderr",
     "output_type": "stream",
     "text": [
      " 46%|████▌     | 653/1428 [01:04<00:39, 19.59it/s]"
     ]
    },
    {
     "name": "stdout",
     "output_type": "stream",
     "text": [
      "Saving Output/etcsri_Q004276.txt\n",
      "\n",
      "Parsing etcsri/Q004277\n",
      "etcsri/Q004277:Ur-Numušda 1\n",
      "Saving Output/etcsri_Q004277.txt\n",
      "\n",
      "Parsing etcsri/Q000935\n",
      "etcsri/Q000935:Ur-Namma 02\n",
      "Saving Output/etcsri_Q000935.txt\n",
      "\n",
      "Parsing etcsri/Q001619\n",
      "etcsri/Q001619:Ur-Namma 03\n",
      "Saving Output/etcsri_Q001619.txt\n",
      "\n",
      "Parsing etcsri/Q000936\n",
      "etcsri/Q000936:Ur-Namma 04\n",
      "Saving Output/etcsri_Q000936.txt\n",
      "\n",
      "Parsing etcsri/Q000937\n"
     ]
    },
    {
     "name": "stderr",
     "output_type": "stream",
     "text": [
      "\r",
      " 46%|████▌     | 656/1428 [01:04<00:39, 19.56it/s]"
     ]
    },
    {
     "name": "stdout",
     "output_type": "stream",
     "text": [
      "etcsri/Q000937:Ur-Namma 05\n",
      "Saving Output/etcsri_Q000937.txt\n",
      "\n",
      "Parsing etcsri/Q001620\n",
      "etcsri/Q001620:Ur-Namma 06\n",
      "Saving Output/etcsri_Q001620.txt\n",
      "\n",
      "Parsing etcsri/Q001621\n",
      "etcsri/Q001621:Ur-Namma 07\n",
      "Saving Output/etcsri_Q001621.txt\n",
      "\n",
      "Parsing etcsri/Q001622\n",
      "etcsri/Q001622:Ur-Namma 08\n",
      "Saving Output/etcsri_Q001622.txt\n",
      "\n",
      "Parsing etcsri/Q001623\n",
      "etcsri/Q001623:Ur-Namma 09\n",
      "Saving Output/etcsri_Q001623.txt\n",
      "\n",
      "Parsing etcsri/Q000938\n",
      "etcsri/Q000938:Ur-Namma 10\n"
     ]
    },
    {
     "name": "stderr",
     "output_type": "stream",
     "text": [
      "\r",
      " 46%|████▌     | 659/1428 [01:04<00:36, 21.12it/s]"
     ]
    },
    {
     "name": "stdout",
     "output_type": "stream",
     "text": [
      "Saving Output/etcsri_Q000938.txt\n",
      "\n",
      "Parsing etcsri/Q000939\n",
      "etcsri/Q000939:Ur-Namma 11\n",
      "Saving Output/etcsri_Q000939.txt\n",
      "\n",
      "Parsing etcsri/Q000940\n",
      "etcsri/Q000940:Ur-Namma 12\n",
      "Saving Output/etcsri_Q000940.txt\n",
      "\n",
      "Parsing etcsri/Q000941\n",
      "etcsri/Q000941:Ur-Namma 13\n"
     ]
    },
    {
     "name": "stderr",
     "output_type": "stream",
     "text": [
      " 46%|████▋     | 664/1428 [01:04<00:42, 18.05it/s]"
     ]
    },
    {
     "name": "stdout",
     "output_type": "stream",
     "text": [
      "Saving Output/etcsri_Q000941.txt\n",
      "\n",
      "Parsing etcsri/Q000942\n",
      "etcsri/Q000942:Ur-Namma 14\n",
      "Saving Output/etcsri_Q000942.txt\n",
      "\n",
      "Parsing etcsri/Q000943\n",
      "etcsri/Q000943:Ur-Namma 15\n",
      "Saving Output/etcsri_Q000943.txt\n",
      "\n",
      "Parsing etcsri/Q000944\n",
      "etcsri/Q000944:Ur-Namma 16\n",
      "Saving Output/etcsri_Q000944.txt\n",
      "\n",
      "Parsing etcsri/Q000945\n"
     ]
    },
    {
     "name": "stderr",
     "output_type": "stream",
     "text": [
      "\r",
      " 47%|████▋     | 666/1428 [01:04<00:49, 15.32it/s]"
     ]
    },
    {
     "name": "stdout",
     "output_type": "stream",
     "text": [
      "etcsri/Q000945:Ur-Namma 17\n",
      "Saving Output/etcsri_Q000945.txt\n",
      "\n",
      "Parsing etcsri/Q001624\n",
      "etcsri/Q001624:Ur-Namma 18\n"
     ]
    },
    {
     "name": "stderr",
     "output_type": "stream",
     "text": [
      "\r",
      " 47%|████▋     | 668/1428 [01:05<01:16,  9.89it/s]"
     ]
    },
    {
     "name": "stdout",
     "output_type": "stream",
     "text": [
      "Saving Output/etcsri_Q001624.txt\n",
      "\n",
      "Parsing etcsri/Q000946\n",
      "etcsri/Q000946:Ur-Namma 19\n",
      "Saving Output/etcsri_Q000946.txt\n",
      "\n",
      "Parsing etcsri/Q000947\n",
      "etcsri/Q000947:Ur-Namma 20 (= Laws of Ur-Namma)\n",
      "Saving Output/etcsri_Q000947.txt\n",
      "\n",
      "Parsing etcsri/Q001625\n",
      "etcsri/Q001625:Ur-Namma 21 ex. 1\n"
     ]
    },
    {
     "name": "stderr",
     "output_type": "stream",
     "text": [
      " 47%|████▋     | 672/1428 [01:05<01:27,  8.66it/s]"
     ]
    },
    {
     "name": "stdout",
     "output_type": "stream",
     "text": [
      "Saving Output/etcsri_Q001625.txt\n",
      "\n",
      "Parsing etcsri/Q001628\n",
      "etcsri/Q001628:Ur-Namma 23\n",
      "Saving Output/etcsri_Q001628.txt\n",
      "\n",
      "Parsing etcsri/Q000949\n",
      "etcsri/Q000949:Ur-Namma 24\n",
      "Saving Output/etcsri_Q000949.txt\n",
      "\n",
      "Parsing etcsri/Q000950\n"
     ]
    },
    {
     "name": "stderr",
     "output_type": "stream",
     "text": [
      "\r",
      " 47%|████▋     | 674/1428 [01:05<01:17,  9.72it/s]"
     ]
    },
    {
     "name": "stdout",
     "output_type": "stream",
     "text": [
      "etcsri/Q000950:Ur-Namma 25\n",
      "Saving Output/etcsri_Q000950.txt\n",
      "\n",
      "Parsing etcsri/Q000951\n",
      "etcsri/Q000951:Ur-Namma 26\n",
      "Saving Output/etcsri_Q000951.txt\n",
      "\n",
      "Parsing etcsri/Q001629\n",
      "etcsri/Q001629:Ur-Namma 27\n",
      "Saving Output/etcsri_Q001629.txt\n",
      "\n",
      "Parsing etcsri/Q000952\n"
     ]
    },
    {
     "name": "stderr",
     "output_type": "stream",
     "text": [
      "\r",
      " 47%|████▋     | 676/1428 [01:06<01:24,  8.87it/s]"
     ]
    },
    {
     "name": "stdout",
     "output_type": "stream",
     "text": [
      "etcsri/Q000952:Ur-Namma 28\n",
      "Saving Output/etcsri_Q000952.txt\n",
      "\n",
      "Parsing etcsri/Q001632\n",
      "etcsri/Q001632:Ur-Namma 31\n",
      "Saving Output/etcsri_Q001632.txt\n",
      "\n",
      "Parsing etcsri/Q001633\n",
      "etcsri/Q001633:Ur-Namma 32\n"
     ]
    },
    {
     "name": "stderr",
     "output_type": "stream",
     "text": [
      " 48%|████▊     | 680/1428 [01:06<01:04, 11.53it/s]"
     ]
    },
    {
     "name": "stdout",
     "output_type": "stream",
     "text": [
      "Saving Output/etcsri_Q001633.txt\n",
      "\n",
      "Parsing etcsri/Q000953\n",
      "etcsri/Q000953:Ur-Namma 33\n",
      "Saving Output/etcsri_Q000953.txt\n",
      "\n",
      "Parsing etcsri/Q000954\n",
      "etcsri/Q000954:Ur-Namma 34\n",
      "Saving Output/etcsri_Q000954.txt\n",
      "\n",
      "Parsing etcsri/Q000955\n",
      "etcsri/Q000955:Ur-Namma 35\n",
      "Saving Output/etcsri_Q000955.txt\n",
      "\n",
      "Parsing etcsri/Q001634\n"
     ]
    },
    {
     "name": "stderr",
     "output_type": "stream",
     "text": [
      " 48%|████▊     | 684/1428 [01:06<00:56, 13.20it/s]"
     ]
    },
    {
     "name": "stdout",
     "output_type": "stream",
     "text": [
      "etcsri/Q001634:Ur-Namma 36\n",
      "Saving Output/etcsri_Q001634.txt\n",
      "\n",
      "Parsing etcsri/Q000956\n",
      "etcsri/Q000956:Ur-Namma 37\n",
      "Saving Output/etcsri_Q000956.txt\n",
      "\n",
      "Parsing etcsri/Q001635\n",
      "etcsri/Q001635:Ur-Namma 38\n",
      "Saving Output/etcsri_Q001635.txt\n",
      "\n",
      "Parsing etcsri/Q000957\n",
      "etcsri/Q000957:Ur-Namma 39\n",
      "Saving Output/etcsri_Q000957.txt\n",
      "\n"
     ]
    },
    {
     "name": "stderr",
     "output_type": "stream",
     "text": [
      " 48%|████▊     | 689/1428 [01:06<00:47, 15.68it/s]"
     ]
    },
    {
     "name": "stdout",
     "output_type": "stream",
     "text": [
      "Parsing etcsri/Q000958\n",
      "etcsri/Q000958:Ur-Namma 40\n",
      "Saving Output/etcsri_Q000958.txt\n",
      "\n",
      "Parsing etcsri/Q001636\n",
      "etcsri/Q001636:Ur-Namma 41\n",
      "Saving Output/etcsri_Q001636.txt\n",
      "\n",
      "Parsing etcsri/Q001637\n",
      "etcsri/Q001637:Ur-Namma 42\n",
      "Saving Output/etcsri_Q001637.txt\n",
      "\n",
      "Parsing etcsri/Q001638\n",
      "etcsri/Q001638:Ur-Namma 43\n",
      "Saving Output/etcsri_Q001638.txt\n",
      "\n",
      "Parsing etcsri/Q001639\n",
      "etcsri/Q001639:Ur-Namma 44\n"
     ]
    },
    {
     "name": "stderr",
     "output_type": "stream",
     "text": [
      "\r",
      " 48%|████▊     | 691/1428 [01:07<00:45, 16.06it/s]"
     ]
    },
    {
     "name": "stdout",
     "output_type": "stream",
     "text": [
      "Saving Output/etcsri_Q001639.txt\n",
      "\n",
      "Parsing etcsri/Q001640\n",
      "etcsri/Q001640:Ur-Namma 45\n",
      "Saving Output/etcsri_Q001640.txt\n",
      "\n",
      "Parsing etcsri/Q001641\n",
      "etcsri/Q001641:Ur-Namma 46\n",
      "Saving Output/etcsri_Q001641.txt\n",
      "\n",
      "Parsing etcsri/Q001642\n",
      "etcsri/Q001642:Ur-Namma 47\n"
     ]
    },
    {
     "name": "stderr",
     "output_type": "stream",
     "text": [
      " 49%|████▊     | 696/1428 [01:07<00:43, 16.72it/s]"
     ]
    },
    {
     "name": "stdout",
     "output_type": "stream",
     "text": [
      "Saving Output/etcsri_Q001642.txt\n",
      "\n",
      "Parsing etcsri/Q001643\n",
      "etcsri/Q001643:Ur-Namma 48\n",
      "Saving Output/etcsri_Q001643.txt\n",
      "\n",
      "Parsing etcsri/Q001644\n",
      "etcsri/Q001644:Ur-Namma 49\n",
      "Saving Output/etcsri_Q001644.txt\n",
      "\n",
      "Parsing etcsri/Q001645\n",
      "etcsri/Q001645:Ur-Namma 50\n",
      "Saving Output/etcsri_Q001645.txt\n",
      "\n",
      "Parsing etcsri/Q001646\n",
      "etcsri/Q001646:Ur-Namma 51\n",
      "Saving Output/etcsri_Q001646.txt\n",
      "\n",
      "Parsing etcsri/Q001647\n",
      "etcsri/Q001647:Ur-Namma 52\n"
     ]
    },
    {
     "name": "stderr",
     "output_type": "stream",
     "text": [
      " 49%|████▉     | 700/1428 [01:07<00:43, 16.60it/s]"
     ]
    },
    {
     "name": "stdout",
     "output_type": "stream",
     "text": [
      "Saving Output/etcsri_Q001647.txt\n",
      "\n",
      "Parsing etcsri/Q001648\n",
      "etcsri/Q001648:Ur-Namma 53\n",
      "Saving Output/etcsri_Q001648.txt\n",
      "\n",
      "Parsing etcsri/Q000959\n",
      "etcsri/Q000959:Ur-Namma 54\n",
      "Saving Output/etcsri_Q000959.txt\n",
      "\n",
      "Parsing etcsri/Q001649\n",
      "etcsri/Q001649:Ur-Namma 2001\n",
      "Saving Output/etcsri_Q001649.txt\n",
      "\n",
      "Parsing etcsri/Q004896\n"
     ]
    },
    {
     "name": "stderr",
     "output_type": "stream",
     "text": [
      " 49%|████▉     | 704/1428 [01:07<00:42, 16.94it/s]"
     ]
    },
    {
     "name": "stdout",
     "output_type": "stream",
     "text": [
      "etcsri/Q004896:Ur-Namma 55add\n",
      "Saving Output/etcsri_Q004896.txt\n",
      "\n",
      "Parsing etcsri/Q004897\n",
      "etcsri/Q004897:Ur-Namma 56add\n",
      "Saving Output/etcsri_Q004897.txt\n",
      "\n",
      "Parsing etcsri/Q001651\n",
      "etcsri/Q001651:Šulgi 01\n",
      "Saving Output/etcsri_Q001651.txt\n",
      "\n",
      "Parsing etcsri/Q001652\n",
      "etcsri/Q001652:Šulgi 02\n",
      "Saving Output/etcsri_Q001652.txt\n",
      "\n",
      "Parsing etcsri/Q000960\n"
     ]
    },
    {
     "name": "stderr",
     "output_type": "stream",
     "text": [
      " 50%|████▉     | 708/1428 [01:08<00:42, 16.83it/s]"
     ]
    },
    {
     "name": "stdout",
     "output_type": "stream",
     "text": [
      "etcsri/Q000960:Šulgi 03\n",
      "Saving Output/etcsri_Q000960.txt\n",
      "\n",
      "Parsing etcsri/Q000961\n",
      "etcsri/Q000961:Šulgi 04\n",
      "Saving Output/etcsri_Q000961.txt\n",
      "\n",
      "Parsing etcsri/Q001653\n",
      "etcsri/Q001653:Šulgi 05\n",
      "Saving Output/etcsri_Q001653.txt\n",
      "\n",
      "Parsing etcsri/Q000962\n",
      "etcsri/Q000962:Šulgi 06\n",
      "Saving Output/etcsri_Q000962.txt\n",
      "\n"
     ]
    },
    {
     "name": "stderr",
     "output_type": "stream",
     "text": [
      " 50%|████▉     | 712/1428 [01:08<00:43, 16.39it/s]"
     ]
    },
    {
     "name": "stdout",
     "output_type": "stream",
     "text": [
      "Parsing etcsri/Q001654\n",
      "etcsri/Q001654:Šulgi 07\n",
      "Saving Output/etcsri_Q001654.txt\n",
      "\n",
      "Parsing etcsri/Q001655\n",
      "etcsri/Q001655:Šulgi 08\n",
      "Saving Output/etcsri_Q001655.txt\n",
      "\n",
      "Parsing etcsri/Q000963\n",
      "etcsri/Q000963:Šulgi 09\n",
      "Saving Output/etcsri_Q000963.txt\n",
      "\n",
      "Parsing etcsri/Q000964\n",
      "etcsri/Q000964:Šulgi 10\n"
     ]
    },
    {
     "name": "stderr",
     "output_type": "stream",
     "text": [
      "\r",
      " 50%|█████     | 714/1428 [01:08<00:44, 15.96it/s]"
     ]
    },
    {
     "name": "stdout",
     "output_type": "stream",
     "text": [
      "Saving Output/etcsri_Q000964.txt\n",
      "\n",
      "Parsing etcsri/Q000965\n",
      "etcsri/Q000965:Šulgi 11\n",
      "Saving Output/etcsri_Q000965.txt\n",
      "\n",
      "Parsing etcsri/Q000966\n",
      "etcsri/Q000966:Šulgi 12\n",
      "Saving Output/etcsri_Q000966.txt\n",
      "\n",
      "Parsing etcsri/Q000967\n",
      "etcsri/Q000967:Šulgi 13\n"
     ]
    },
    {
     "name": "stderr",
     "output_type": "stream",
     "text": [
      " 50%|█████     | 718/1428 [01:08<00:46, 15.21it/s]"
     ]
    },
    {
     "name": "stdout",
     "output_type": "stream",
     "text": [
      "Saving Output/etcsri_Q000967.txt\n",
      "\n",
      "Parsing etcsri/Q001656\n",
      "etcsri/Q001656:Šulgi 14\n",
      "Saving Output/etcsri_Q001656.txt\n",
      "\n",
      "Parsing etcsri/Q001657\n",
      "etcsri/Q001657:Šulgi 15\n",
      "Saving Output/etcsri_Q001657.txt\n",
      "\n",
      "Parsing etcsri/Q000968\n",
      "etcsri/Q000968:Šulgi 16\n",
      "Saving Output/etcsri_Q000968.txt\n",
      "\n"
     ]
    },
    {
     "name": "stderr",
     "output_type": "stream",
     "text": [
      " 51%|█████     | 722/1428 [01:08<00:43, 16.32it/s]"
     ]
    },
    {
     "name": "stdout",
     "output_type": "stream",
     "text": [
      "Parsing etcsri/Q001658\n",
      "etcsri/Q001658:Šulgi 17\n",
      "Saving Output/etcsri_Q001658.txt\n",
      "\n",
      "Parsing etcsri/Q000969\n",
      "etcsri/Q000969:Šulgi 18\n",
      "Saving Output/etcsri_Q000969.txt\n",
      "\n",
      "Parsing etcsri/Q001660\n",
      "etcsri/Q001660:Šulgi 19\n",
      "Saving Output/etcsri_Q001660.txt\n",
      "\n",
      "Parsing etcsri/Q000971\n",
      "etcsri/Q000971:Šulgi 20\n",
      "Saving Output/etcsri_Q000971.txt\n",
      "\n"
     ]
    },
    {
     "name": "stderr",
     "output_type": "stream",
     "text": [
      " 51%|█████     | 726/1428 [01:09<00:44, 15.77it/s]"
     ]
    },
    {
     "name": "stdout",
     "output_type": "stream",
     "text": [
      "Parsing etcsri/Q000972\n",
      "etcsri/Q000972:Šulgi 21\n",
      "Saving Output/etcsri_Q000972.txt\n",
      "\n",
      "Parsing etcsri/Q000973\n",
      "etcsri/Q000973:Šulgi 22\n",
      "Saving Output/etcsri_Q000973.txt\n",
      "\n",
      "Parsing etcsri/Q001662\n",
      "etcsri/Q001662:Šulgi 24\n",
      "Saving Output/etcsri_Q001662.txt\n",
      "\n",
      "Parsing etcsri/Q000974\n"
     ]
    },
    {
     "name": "stderr",
     "output_type": "stream",
     "text": [
      "\r",
      " 51%|█████     | 728/1428 [01:09<00:45, 15.51it/s]"
     ]
    },
    {
     "name": "stdout",
     "output_type": "stream",
     "text": [
      "etcsri/Q000974:Šulgi 28\n",
      "Saving Output/etcsri_Q000974.txt\n",
      "\n",
      "Parsing etcsri/Q000975\n",
      "etcsri/Q000975:Šulgi 30\n",
      "Saving Output/etcsri_Q000975.txt\n",
      "\n",
      "Parsing etcsri/Q000976\n",
      "etcsri/Q000976:Šulgi 31\n",
      "Saving Output/etcsri_Q000976.txt\n",
      "\n",
      "Parsing etcsri/Q000977\n",
      "etcsri/Q000977:Šulgi 32\n"
     ]
    },
    {
     "name": "stderr",
     "output_type": "stream",
     "text": [
      " 51%|█████▏    | 732/1428 [01:09<00:45, 15.38it/s]"
     ]
    },
    {
     "name": "stdout",
     "output_type": "stream",
     "text": [
      "Saving Output/etcsri_Q000977.txt\n",
      "\n",
      "Parsing etcsri/Q001668\n",
      "etcsri/Q001668:Šulgi 34\n",
      "Saving Output/etcsri_Q001668.txt\n",
      "\n",
      "Parsing etcsri/Q001670\n",
      "etcsri/Q001670:Šulgi 36\n",
      "Saving Output/etcsri_Q001670.txt\n",
      "\n",
      "Parsing etcsri/Q001671\n",
      "etcsri/Q001671:Šulgi 37\n"
     ]
    },
    {
     "name": "stderr",
     "output_type": "stream",
     "text": [
      " 52%|█████▏    | 737/1428 [01:09<00:39, 17.41it/s]"
     ]
    },
    {
     "name": "stdout",
     "output_type": "stream",
     "text": [
      "Saving Output/etcsri_Q001671.txt\n",
      "\n",
      "Parsing etcsri/Q000978\n",
      "etcsri/Q000978:Šulgi 39\n",
      "Saving Output/etcsri_Q000978.txt\n",
      "\n",
      "Parsing etcsri/Q001673\n",
      "etcsri/Q001673:Šulgi 40\n",
      "Saving Output/etcsri_Q001673.txt\n",
      "\n",
      "Parsing etcsri/Q001674\n",
      "etcsri/Q001674:Šulgi 41\n",
      "Saving Output/etcsri_Q001674.txt\n",
      "\n",
      "Parsing etcsri/Q000979\n",
      "etcsri/Q000979:Šulgi 42\n",
      "Saving Output/etcsri_Q000979.txt\n",
      "\n",
      "Parsing etcsri/Q001675\n",
      "etcsri/Q001675:Šulgi 43\n",
      "Saving Output/etcsri_Q001675.txt\n",
      "\n"
     ]
    },
    {
     "name": "stderr",
     "output_type": "stream",
     "text": [
      " 52%|█████▏    | 743/1428 [01:10<00:32, 20.87it/s]"
     ]
    },
    {
     "name": "stdout",
     "output_type": "stream",
     "text": [
      "Parsing etcsri/Q001676\n",
      "etcsri/Q001676:Šulgi 44\n",
      "Saving Output/etcsri_Q001676.txt\n",
      "\n",
      "Parsing etcsri/Q001677\n",
      "etcsri/Q001677:Šulgi 45\n",
      "Saving Output/etcsri_Q001677.txt\n",
      "\n",
      "Parsing etcsri/Q001678\n",
      "etcsri/Q001678:Šulgi 46\n",
      "Saving Output/etcsri_Q001678.txt\n",
      "\n",
      "Parsing etcsri/Q001679\n",
      "etcsri/Q001679:Šulgi 47\n",
      "Saving Output/etcsri_Q001679.txt\n",
      "\n",
      "Parsing etcsri/Q001680\n",
      "etcsri/Q001680:Šulgi 48\n",
      "Saving Output/etcsri_Q001680.txt\n",
      "\n",
      "Parsing etcsri/Q001681\n"
     ]
    },
    {
     "name": "stderr",
     "output_type": "stream",
     "text": [
      "\r",
      " 52%|█████▏    | 746/1428 [01:10<00:33, 20.12it/s]"
     ]
    },
    {
     "name": "stdout",
     "output_type": "stream",
     "text": [
      "etcsri/Q001681:Šulgi 49\n",
      "Saving Output/etcsri_Q001681.txt\n",
      "\n",
      "Parsing etcsri/Q001682\n",
      "etcsri/Q001682:Šulgi 50\n",
      "Saving Output/etcsri_Q001682.txt\n",
      "\n",
      "Parsing etcsri/Q001683\n",
      "etcsri/Q001683:Šulgi 51\n",
      "Saving Output/etcsri_Q001683.txt\n",
      "\n",
      "Parsing etcsri/Q001684\n",
      "etcsri/Q001684:Šulgi 52\n",
      "Saving Output/etcsri_Q001684.txt\n",
      "\n",
      "Parsing etcsri/Q001685\n"
     ]
    },
    {
     "name": "stderr",
     "output_type": "stream",
     "text": [
      "\r",
      " 52%|█████▏    | 749/1428 [01:10<00:36, 18.60it/s]"
     ]
    },
    {
     "name": "stdout",
     "output_type": "stream",
     "text": [
      "etcsri/Q001685:Šulgi 53\n",
      "Saving Output/etcsri_Q001685.txt\n",
      "\n",
      "Parsing etcsri/Q001687\n",
      "etcsri/Q001687:Šulgi 55\n",
      "Saving Output/etcsri_Q001687.txt\n",
      "\n",
      "Parsing etcsri/Q001688\n",
      "etcsri/Q001688:Šulgi 56\n",
      "Saving Output/etcsri_Q001688.txt\n",
      "\n",
      "Parsing etcsri/Q001689\n",
      "etcsri/Q001689:Šulgi 57\n",
      "Saving Output/etcsri_Q001689.txt\n",
      "\n"
     ]
    },
    {
     "name": "stderr",
     "output_type": "stream",
     "text": [
      " 53%|█████▎    | 753/1428 [01:10<00:39, 17.04it/s]"
     ]
    },
    {
     "name": "stdout",
     "output_type": "stream",
     "text": [
      "Parsing etcsri/Q001690\n",
      "etcsri/Q001690:Šulgi 58\n",
      "Saving Output/etcsri_Q001690.txt\n",
      "\n",
      "Parsing etcsri/Q001691\n",
      "etcsri/Q001691:Šulgi 59\n",
      "Saving Output/etcsri_Q001691.txt\n",
      "\n",
      "Parsing etcsri/Q001692\n",
      "etcsri/Q001692:Šulgi 60\n",
      "Saving Output/etcsri_Q001692.txt\n",
      "\n",
      "Parsing etcsri/Q001693\n",
      "etcsri/Q001693:Šulgi 61\n"
     ]
    },
    {
     "name": "stderr",
     "output_type": "stream",
     "text": [
      " 53%|█████▎    | 757/1428 [01:10<00:45, 14.73it/s]"
     ]
    },
    {
     "name": "stdout",
     "output_type": "stream",
     "text": [
      "Saving Output/etcsri_Q001693.txt\n",
      "\n",
      "Parsing etcsri/Q001694\n",
      "etcsri/Q001694:Šulgi 62\n",
      "Saving Output/etcsri_Q001694.txt\n",
      "\n",
      "Parsing etcsri/Q001695\n",
      "etcsri/Q001695:Šulgi 63\n",
      "Saving Output/etcsri_Q001695.txt\n",
      "\n",
      "Parsing etcsri/Q001698\n"
     ]
    },
    {
     "name": "stderr",
     "output_type": "stream",
     "text": [
      " 53%|█████▎    | 761/1428 [01:11<00:41, 15.90it/s]"
     ]
    },
    {
     "name": "stdout",
     "output_type": "stream",
     "text": [
      "etcsri/Q001698:Šulgi 66\n",
      "Saving Output/etcsri_Q001698.txt\n",
      "\n",
      "Parsing etcsri/Q001699\n",
      "etcsri/Q001699:Šulgi 67\n",
      "Saving Output/etcsri_Q001699.txt\n",
      "\n",
      "Parsing etcsri/Q001700\n",
      "etcsri/Q001700:Šulgi 68\n",
      "Saving Output/etcsri_Q001700.txt\n",
      "\n",
      "Parsing etcsri/Q001701\n",
      "etcsri/Q001701:Šulgi 69\n",
      "Saving Output/etcsri_Q001701.txt\n",
      "\n",
      "Parsing etcsri/Q001702\n"
     ]
    },
    {
     "name": "stderr",
     "output_type": "stream",
     "text": [
      "\r",
      " 54%|█████▎    | 764/1428 [01:11<00:39, 16.67it/s]"
     ]
    },
    {
     "name": "stdout",
     "output_type": "stream",
     "text": [
      "etcsri/Q001702:Šulgi 70\n",
      "Saving Output/etcsri_Q001702.txt\n",
      "\n",
      "Parsing etcsri/Q001703\n",
      "etcsri/Q001703:Šulgi 71\n",
      "Saving Output/etcsri_Q001703.txt\n",
      "\n",
      "Parsing etcsri/Q001704\n",
      "etcsri/Q001704:Šulgi 72\n",
      "Saving Output/etcsri_Q001704.txt\n",
      "\n",
      "Parsing etcsri/Q001705\n",
      "etcsri/Q001705:Šulgi 73\n",
      "Saving Output/etcsri_Q001705.txt\n",
      "\n",
      "Parsing etcsri/Q001706\n",
      "etcsri/Q001706:Šulgi 74\n",
      "Saving Output/etcsri_Q001706.txt\n",
      "\n"
     ]
    },
    {
     "name": "stderr",
     "output_type": "stream",
     "text": [
      " 54%|█████▍    | 770/1428 [01:11<00:35, 18.52it/s]"
     ]
    },
    {
     "name": "stdout",
     "output_type": "stream",
     "text": [
      "Parsing etcsri/Q001707\n",
      "etcsri/Q001707:Šulgi 75\n",
      "Saving Output/etcsri_Q001707.txt\n",
      "\n",
      "Parsing etcsri/Q001708\n",
      "etcsri/Q001708:Šulgi 76\n",
      "Saving Output/etcsri_Q001708.txt\n",
      "\n",
      "Parsing etcsri/Q001709\n",
      "etcsri/Q001709:Šulgi 77\n",
      "Saving Output/etcsri_Q001709.txt\n",
      "\n",
      "Parsing etcsri/Q001710\n",
      "etcsri/Q001710:Šulgi 78\n",
      "Saving Output/etcsri_Q001710.txt\n",
      "\n"
     ]
    },
    {
     "name": "stderr",
     "output_type": "stream",
     "text": [
      "\r",
      " 54%|█████▍    | 773/1428 [01:11<00:36, 18.19it/s]"
     ]
    },
    {
     "name": "stdout",
     "output_type": "stream",
     "text": [
      "Parsing etcsri/Q001711\n",
      "etcsri/Q001711:Šulgi 79\n",
      "Saving Output/etcsri_Q001711.txt\n",
      "\n",
      "Parsing etcsri/Q001712\n",
      "etcsri/Q001712:Šulgi 80\n",
      "Saving Output/etcsri_Q001712.txt\n",
      "\n",
      "Parsing etcsri/Q001713\n",
      "etcsri/Q001713:Šulgi 81\n",
      "Saving Output/etcsri_Q001713.txt\n",
      "\n",
      "Parsing etcsri/Q001714\n",
      "etcsri/Q001714:Šulgi 82\n"
     ]
    },
    {
     "name": "stderr",
     "output_type": "stream",
     "text": [
      "\r",
      " 54%|█████▍    | 775/1428 [01:11<00:37, 17.58it/s]"
     ]
    },
    {
     "name": "stdout",
     "output_type": "stream",
     "text": [
      "Saving Output/etcsri_Q001714.txt\n",
      "\n",
      "Parsing etcsri/Q001715\n",
      "etcsri/Q001715:Šulgi 83\n",
      "Saving Output/etcsri_Q001715.txt\n",
      "\n",
      "Parsing etcsri/Q001716\n",
      "etcsri/Q001716:Šulgi 84\n",
      "Saving Output/etcsri_Q001716.txt\n",
      "\n",
      "Parsing etcsri/Q001717\n",
      "etcsri/Q001717:Šulgi 85\n",
      "Saving Output/etcsri_Q001717.txt\n",
      "\n"
     ]
    },
    {
     "name": "stderr",
     "output_type": "stream",
     "text": [
      " 55%|█████▍    | 780/1428 [01:12<00:40, 15.86it/s]"
     ]
    },
    {
     "name": "stdout",
     "output_type": "stream",
     "text": [
      "Parsing etcsri/Q001718\n",
      "etcsri/Q001718:Šulgi 86\n",
      "Saving Output/etcsri_Q001718.txt\n",
      "\n",
      "Parsing etcsri/Q001719\n",
      "etcsri/Q001719:Šulgi 87\n",
      "Saving Output/etcsri_Q001719.txt\n",
      "\n",
      "Parsing etcsri/Q001720\n",
      "etcsri/Q001720:Šulgi 88\n",
      "Saving Output/etcsri_Q001720.txt\n",
      "\n",
      "Parsing etcsri/Q000980\n"
     ]
    },
    {
     "name": "stderr",
     "output_type": "stream",
     "text": [
      "\r",
      " 55%|█████▍    | 783/1428 [01:12<00:36, 17.78it/s]"
     ]
    },
    {
     "name": "stdout",
     "output_type": "stream",
     "text": [
      "etcsri/Q000980:Šulgi 89\n",
      "Saving Output/etcsri_Q000980.txt\n",
      "\n",
      "Parsing etcsri/Q001721\n",
      "etcsri/Q001721:Šulgi 90\n",
      "Saving Output/etcsri_Q001721.txt\n",
      "\n",
      "Parsing etcsri/Q001722\n",
      "etcsri/Q001722:Šulgi 91\n",
      "Saving Output/etcsri_Q001722.txt\n",
      "\n",
      "Parsing etcsri/Q001723\n",
      "etcsri/Q001723:Šulgi 92\n",
      "Saving Output/etcsri_Q001723.txt\n",
      "\n",
      "Parsing etcsri/Q001724\n",
      "etcsri/Q001724:Šulgi 93\n",
      "Saving Output/etcsri_Q001724.txt\n",
      "\n",
      "Parsing etcsri/Q001725\n",
      "etcsri/Q001725:Šulgi 94\n"
     ]
    },
    {
     "name": "stderr",
     "output_type": "stream",
     "text": [
      " 55%|█████▌    | 789/1428 [01:12<00:32, 19.72it/s]"
     ]
    },
    {
     "name": "stdout",
     "output_type": "stream",
     "text": [
      "Saving Output/etcsri_Q001725.txt\n",
      "\n",
      "Parsing etcsri/Q001726\n",
      "etcsri/Q001726:Šulgi 95\n",
      "Saving Output/etcsri_Q001726.txt\n",
      "\n",
      "Parsing etcsri/Q001727\n",
      "etcsri/Q001727:Šulgi 96\n",
      "Saving Output/etcsri_Q001727.txt\n",
      "\n",
      "Parsing etcsri/Q001728\n",
      "etcsri/Q001728:Šulgi 97\n",
      "Saving Output/etcsri_Q001728.txt\n",
      "\n",
      "Parsing etcsri/Q004898\n",
      "etcsri/Q004898:Šulgi 98add\n",
      "Saving Output/etcsri_Q004898.txt\n",
      "\n",
      "Parsing etcsri/Q001729\n"
     ]
    },
    {
     "name": "stderr",
     "output_type": "stream",
     "text": [
      " 56%|█████▌    | 795/1428 [01:12<00:31, 20.23it/s]"
     ]
    },
    {
     "name": "stdout",
     "output_type": "stream",
     "text": [
      "etcsri/Q001729:Šulgi 2001\n",
      "Saving Output/etcsri_Q001729.txt\n",
      "\n",
      "Parsing etcsri/Q001730\n",
      "etcsri/Q001730:Šulgi 2002\n",
      "Saving Output/etcsri_Q001730.txt\n",
      "\n",
      "Parsing etcsri/Q001731\n",
      "etcsri/Q001731:Šulgi 2003\n",
      "Saving Output/etcsri_Q001731.txt\n",
      "\n",
      "Parsing etcsri/Q001732\n",
      "etcsri/Q001732:Šulgi 2004\n",
      "Saving Output/etcsri_Q001732.txt\n",
      "\n",
      "Parsing etcsri/Q001733\n",
      "etcsri/Q001733:Šulgi 2005\n",
      "Saving Output/etcsri_Q001733.txt\n",
      "\n"
     ]
    },
    {
     "name": "stderr",
     "output_type": "stream",
     "text": [
      "\r",
      " 56%|█████▌    | 798/1428 [01:13<00:30, 20.45it/s]"
     ]
    },
    {
     "name": "stdout",
     "output_type": "stream",
     "text": [
      "Parsing etcsri/Q001734\n",
      "etcsri/Q001734:Šulgi 2006\n",
      "Saving Output/etcsri_Q001734.txt\n",
      "\n",
      "Parsing etcsri/Q001735\n",
      "etcsri/Q001735:Šulgi 2007\n",
      "Saving Output/etcsri_Q001735.txt\n",
      "\n",
      "Parsing etcsri/Q001736\n",
      "etcsri/Q001736:Šulgi 2008\n",
      "Saving Output/etcsri_Q001736.txt\n",
      "\n",
      "Parsing etcsri/Q001737\n",
      "etcsri/Q001737:Šulgi 2009\n",
      "Saving Output/etcsri_Q001737.txt\n",
      "\n",
      "Parsing etcsri/Q001738\n"
     ]
    },
    {
     "name": "stderr",
     "output_type": "stream",
     "text": [
      "\r",
      " 56%|█████▌    | 801/1428 [01:13<00:34, 18.34it/s]"
     ]
    },
    {
     "name": "stdout",
     "output_type": "stream",
     "text": [
      "etcsri/Q001738:Šulgi 2010\n",
      "Saving Output/etcsri_Q001738.txt\n",
      "\n",
      "Parsing etcsri/Q001739\n",
      "etcsri/Q001739:Šulgi 2011\n",
      "Saving Output/etcsri_Q001739.txt\n",
      "\n",
      "Parsing etcsri/Q001740\n",
      "etcsri/Q001740:Šulgi 2012\n",
      "Saving Output/etcsri_Q001740.txt\n",
      "\n",
      "Parsing etcsri/Q001741\n"
     ]
    },
    {
     "name": "stderr",
     "output_type": "stream",
     "text": [
      " 56%|█████▋    | 806/1428 [01:13<00:34, 18.28it/s]"
     ]
    },
    {
     "name": "stdout",
     "output_type": "stream",
     "text": [
      "etcsri/Q001741:Šulgi 2013\n",
      "Saving Output/etcsri_Q001741.txt\n",
      "\n",
      "Parsing etcsri/Q001742\n",
      "etcsri/Q001742:Šulgi 2014\n",
      "Saving Output/etcsri_Q001742.txt\n",
      "\n",
      "Parsing etcsri/Q001743\n",
      "etcsri/Q001743:Šulgi 2015\n",
      "Saving Output/etcsri_Q001743.txt\n",
      "\n",
      "Parsing etcsri/Q001744\n",
      "etcsri/Q001744:Šulgi 2016\n",
      "Saving Output/etcsri_Q001744.txt\n",
      "\n",
      "Parsing etcsri/Q001745\n",
      "etcsri/Q001745:Šulgi 2017\n",
      "Saving Output/etcsri_Q001745.txt\n",
      "\n"
     ]
    },
    {
     "name": "stderr",
     "output_type": "stream",
     "text": [
      " 57%|█████▋    | 810/1428 [01:13<00:33, 18.21it/s]"
     ]
    },
    {
     "name": "stdout",
     "output_type": "stream",
     "text": [
      "Parsing etcsri/Q001746\n",
      "etcsri/Q001746:Šulgi 2018\n",
      "Saving Output/etcsri_Q001746.txt\n",
      "\n",
      "Parsing etcsri/Q001747\n",
      "etcsri/Q001747:Šulgi 2019\n",
      "Saving Output/etcsri_Q001747.txt\n",
      "\n",
      "Parsing etcsri/Q001748\n",
      "etcsri/Q001748:Šulgi 2020\n",
      "Saving Output/etcsri_Q001748.txt\n",
      "\n",
      "Parsing etcsri/Q001749\n",
      "etcsri/Q001749:Šulgi 2021\n"
     ]
    },
    {
     "name": "stderr",
     "output_type": "stream",
     "text": [
      "\r",
      " 57%|█████▋    | 812/1428 [01:13<00:35, 17.18it/s]"
     ]
    },
    {
     "name": "stdout",
     "output_type": "stream",
     "text": [
      "Saving Output/etcsri_Q001749.txt\n",
      "\n",
      "Parsing etcsri/Q001750\n",
      "etcsri/Q001750:Šulgi 2022\n",
      "Saving Output/etcsri_Q001750.txt\n",
      "\n",
      "Parsing etcsri/Q001751\n",
      "etcsri/Q001751:Šulgi 2023\n",
      "Saving Output/etcsri_Q001751.txt\n",
      "\n",
      "Parsing etcsri/Q001752\n",
      "etcsri/Q001752:Šulgi 2024\n"
     ]
    },
    {
     "name": "stderr",
     "output_type": "stream",
     "text": [
      " 57%|█████▋    | 816/1428 [01:14<00:36, 16.91it/s]"
     ]
    },
    {
     "name": "stdout",
     "output_type": "stream",
     "text": [
      "Saving Output/etcsri_Q001752.txt\n",
      "\n",
      "Parsing etcsri/Q001753\n",
      "etcsri/Q001753:Šulgi 2025\n",
      "Saving Output/etcsri_Q001753.txt\n",
      "\n",
      "Parsing etcsri/Q001754\n",
      "etcsri/Q001754:Šulgi 2026\n",
      "Saving Output/etcsri_Q001754.txt\n",
      "\n",
      "Parsing etcsri/Q001755\n",
      "etcsri/Q001755:Šulgi 2027\n",
      "Saving Output/etcsri_Q001755.txt\n",
      "\n",
      "Parsing etcsri/Q001756\n",
      "etcsri/Q001756:Šulgi 2028\n",
      "Saving Output/etcsri_Q001756.txt\n",
      "\n"
     ]
    },
    {
     "name": "stderr",
     "output_type": "stream",
     "text": [
      "\r",
      " 57%|█████▋    | 819/1428 [01:14<00:34, 17.49it/s]"
     ]
    },
    {
     "name": "stdout",
     "output_type": "stream",
     "text": [
      "Parsing etcsri/Q001757\n",
      "etcsri/Q001757:Šulgi 2029\n",
      "Saving Output/etcsri_Q001757.txt\n",
      "\n",
      "Parsing etcsri/Q001758\n",
      "etcsri/Q001758:Šulgi 2030\n",
      "Saving Output/etcsri_Q001758.txt\n",
      "\n",
      "Parsing etcsri/Q001760\n",
      "etcsri/Q001760:Šulgi 2032\n"
     ]
    },
    {
     "name": "stderr",
     "output_type": "stream",
     "text": [
      " 58%|█████▊    | 823/1428 [01:14<00:39, 15.37it/s]"
     ]
    },
    {
     "name": "stdout",
     "output_type": "stream",
     "text": [
      "Saving Output/etcsri_Q001760.txt\n",
      "\n",
      "Parsing etcsri/Q001761\n",
      "etcsri/Q001761:Šulgi 2033\n",
      "Saving Output/etcsri_Q001761.txt\n",
      "\n",
      "Parsing etcsri/Q001762\n",
      "etcsri/Q001762:Šulgi 2034\n",
      "Saving Output/etcsri_Q001762.txt\n",
      "\n",
      "Parsing etcsri/Q001763\n",
      "etcsri/Q001763:Šulgi 2035\n",
      "Saving Output/etcsri_Q001763.txt\n",
      "\n",
      "Parsing etcsri/Q001764\n",
      "etcsri/Q001764:Šulgi 2036\n"
     ]
    },
    {
     "name": "stderr",
     "output_type": "stream",
     "text": [
      " 58%|█████▊    | 827/1428 [01:14<00:37, 16.07it/s]"
     ]
    },
    {
     "name": "stdout",
     "output_type": "stream",
     "text": [
      "Saving Output/etcsri_Q001764.txt\n",
      "\n",
      "Parsing etcsri/Q001765\n",
      "etcsri/Q001765:Šulgi 2037\n",
      "Saving Output/etcsri_Q001765.txt\n",
      "\n",
      "Parsing etcsri/Q001766\n",
      "etcsri/Q001766:Šulgi 2038\n",
      "Saving Output/etcsri_Q001766.txt\n",
      "\n",
      "Parsing etcsri/Q001767\n",
      "etcsri/Q001767:Šulgi 2039\n",
      "Saving Output/etcsri_Q001767.txt\n",
      "\n"
     ]
    },
    {
     "name": "stderr",
     "output_type": "stream",
     "text": [
      " 58%|█████▊    | 831/1428 [01:15<00:37, 15.79it/s]"
     ]
    },
    {
     "name": "stdout",
     "output_type": "stream",
     "text": [
      "Parsing etcsri/Q001768\n",
      "etcsri/Q001768:Šulgi 2040\n",
      "Saving Output/etcsri_Q001768.txt\n",
      "\n",
      "Parsing etcsri/Q001769\n",
      "etcsri/Q001769:Šulgi 2041\n",
      "Saving Output/etcsri_Q001769.txt\n",
      "\n",
      "Parsing etcsri/Q001770\n",
      "etcsri/Q001770:Šulgi 2042\n",
      "Saving Output/etcsri_Q001770.txt\n",
      "\n",
      "Parsing etcsri/Q001771\n",
      "etcsri/Q001771:Šulgi 2043\n",
      "Saving Output/etcsri_Q001771.txt\n",
      "\n"
     ]
    },
    {
     "name": "stderr",
     "output_type": "stream",
     "text": [
      " 58%|█████▊    | 835/1428 [01:15<00:35, 16.65it/s]"
     ]
    },
    {
     "name": "stdout",
     "output_type": "stream",
     "text": [
      "Parsing etcsri/Q001772\n",
      "etcsri/Q001772:Šulgi 2044\n",
      "Saving Output/etcsri_Q001772.txt\n",
      "\n",
      "Parsing etcsri/Q001773\n",
      "etcsri/Q001773:Šulgi 2045\n",
      "Saving Output/etcsri_Q001773.txt\n",
      "\n",
      "Parsing etcsri/Q001774\n",
      "etcsri/Q001774:Šulgi 2046\n",
      "Saving Output/etcsri_Q001774.txt\n",
      "\n",
      "Parsing etcsri/Q001775\n",
      "etcsri/Q001775:Šulgi 2047\n"
     ]
    },
    {
     "name": "stderr",
     "output_type": "stream",
     "text": [
      " 59%|█████▉    | 839/1428 [01:15<00:35, 16.78it/s]"
     ]
    },
    {
     "name": "stdout",
     "output_type": "stream",
     "text": [
      "Saving Output/etcsri_Q001775.txt\n",
      "\n",
      "Parsing etcsri/Q001777\n",
      "etcsri/Q001777:Šulgi 2049\n",
      "Saving Output/etcsri_Q001777.txt\n",
      "\n",
      "Parsing etcsri/Q001778\n",
      "etcsri/Q001778:Šulgi 2050\n",
      "Saving Output/etcsri_Q001778.txt\n",
      "\n",
      "Parsing etcsri/Q001779\n",
      "etcsri/Q001779:Šulgi 2051\n",
      "Saving Output/etcsri_Q001779.txt\n",
      "\n",
      "Parsing etcsri/Q001780\n"
     ]
    },
    {
     "name": "stderr",
     "output_type": "stream",
     "text": [
      " 59%|█████▉    | 843/1428 [01:15<00:36, 16.15it/s]"
     ]
    },
    {
     "name": "stdout",
     "output_type": "stream",
     "text": [
      "etcsri/Q001780:Šulgi 2052\n",
      "Saving Output/etcsri_Q001780.txt\n",
      "\n",
      "Parsing etcsri/Q001781\n",
      "etcsri/Q001781:Šulgi 2053\n",
      "Saving Output/etcsri_Q001781.txt\n",
      "\n",
      "Parsing etcsri/Q001782\n",
      "etcsri/Q001782:Šulgi 2054\n",
      "Saving Output/etcsri_Q001782.txt\n",
      "\n",
      "Parsing etcsri/Q001783\n",
      "etcsri/Q001783:Šulgi 2055\n",
      "Saving Output/etcsri_Q001783.txt\n",
      "\n"
     ]
    },
    {
     "name": "stderr",
     "output_type": "stream",
     "text": [
      "\r",
      " 59%|█████▉    | 845/1428 [01:15<00:34, 17.13it/s]"
     ]
    },
    {
     "name": "stdout",
     "output_type": "stream",
     "text": [
      "Parsing etcsri/Q001785\n",
      "etcsri/Q001785:Šulgi 2057\n",
      "Saving Output/etcsri_Q001785.txt\n",
      "\n",
      "Parsing etcsri/Q001786\n",
      "etcsri/Q001786:Šulgi 2058\n",
      "Saving Output/etcsri_Q001786.txt\n",
      "\n",
      "Parsing etcsri/Q001787\n",
      "etcsri/Q001787:Šulgi 2059\n",
      "Saving Output/etcsri_Q001787.txt\n",
      "\n",
      "Parsing etcsri/Q004278\n"
     ]
    },
    {
     "name": "stderr",
     "output_type": "stream",
     "text": [
      " 59%|█████▉    | 849/1428 [01:16<00:36, 15.68it/s]"
     ]
    },
    {
     "name": "stdout",
     "output_type": "stream",
     "text": [
      "etcsri/Q004278:Šulgi 2060add\n",
      "Saving Output/etcsri_Q004278.txt\n",
      "\n",
      "Parsing etcsri/Q004279\n",
      "etcsri/Q004279:Šulgi 2061add\n",
      "Saving Output/etcsri_Q004279.txt\n",
      "\n",
      "Parsing etcsri/Q004280\n",
      "etcsri/Q004280:Šulgi 2062add\n",
      "Saving Output/etcsri_Q004280.txt\n",
      "\n",
      "Parsing etcsri/Q004281\n",
      "etcsri/Q004281:Šulgi 2063add\n",
      "Saving Output/etcsri_Q004281.txt\n",
      "\n",
      "Parsing etcsri/Q004282\n",
      "etcsri/Q004282:Šulgi 2064add\n"
     ]
    },
    {
     "name": "stderr",
     "output_type": "stream",
     "text": [
      " 60%|█████▉    | 854/1428 [01:16<00:32, 17.69it/s]"
     ]
    },
    {
     "name": "stdout",
     "output_type": "stream",
     "text": [
      "Saving Output/etcsri_Q004282.txt\n",
      "\n",
      "Parsing etcsri/Q004283\n",
      "etcsri/Q004283:Šulgi 2065add\n",
      "Saving Output/etcsri_Q004283.txt\n",
      "\n",
      "Parsing etcsri/Q004284\n",
      "etcsri/Q004284:Šulgi 2066add\n",
      "Saving Output/etcsri_Q004284.txt\n",
      "\n",
      "Parsing etcsri/Q004285\n",
      "etcsri/Q004285:Šulgi 2067add\n",
      "Saving Output/etcsri_Q004285.txt\n",
      "\n",
      "Parsing etcsri/Q004286\n",
      "etcsri/Q004286:Šulgi 2068add\n",
      "Saving Output/etcsri_Q004286.txt\n",
      "\n"
     ]
    },
    {
     "name": "stderr",
     "output_type": "stream",
     "text": [
      " 60%|██████    | 859/1428 [01:16<00:30, 18.84it/s]"
     ]
    },
    {
     "name": "stdout",
     "output_type": "stream",
     "text": [
      "Parsing etcsri/Q004287\n",
      "etcsri/Q004287:Šulgi 2069add\n",
      "Saving Output/etcsri_Q004287.txt\n",
      "\n",
      "Parsing etcsri/Q004288\n",
      "etcsri/Q004288:Šulgi 2070add\n",
      "Saving Output/etcsri_Q004288.txt\n",
      "\n",
      "Parsing etcsri/Q004289\n",
      "etcsri/Q004289:Šulgi 2071add\n",
      "Saving Output/etcsri_Q004289.txt\n",
      "\n",
      "Parsing etcsri/Q004290\n",
      "etcsri/Q004290:Šulgi 2072add\n",
      "Saving Output/etcsri_Q004290.txt\n",
      "\n",
      "Parsing etcsri/Q004291\n"
     ]
    },
    {
     "name": "stderr",
     "output_type": "stream",
     "text": [
      " 61%|██████    | 864/1428 [01:17<00:29, 19.28it/s]"
     ]
    },
    {
     "name": "stdout",
     "output_type": "stream",
     "text": [
      "etcsri/Q004291:Šulgi 2073add\n",
      "Saving Output/etcsri_Q004291.txt\n",
      "\n",
      "Parsing etcsri/Q004292\n",
      "etcsri/Q004292:Šulgi 2074add\n",
      "Saving Output/etcsri_Q004292.txt\n",
      "\n",
      "Parsing etcsri/Q004293\n",
      "etcsri/Q004293:Šulgi 2075add\n",
      "Saving Output/etcsri_Q004293.txt\n",
      "\n",
      "Parsing etcsri/Q004294\n",
      "etcsri/Q004294:Šulgi 2076add\n",
      "Saving Output/etcsri_Q004294.txt\n",
      "\n",
      "Parsing etcsri/Q004295\n",
      "etcsri/Q004295:Šulgi 2077add\n",
      "Saving Output/etcsri_Q004295.txt\n",
      "\n"
     ]
    },
    {
     "name": "stderr",
     "output_type": "stream",
     "text": [
      " 61%|██████    | 868/1428 [01:17<00:29, 18.67it/s]"
     ]
    },
    {
     "name": "stdout",
     "output_type": "stream",
     "text": [
      "Parsing etcsri/Q004296\n",
      "etcsri/Q004296:Šulgi 2078add\n",
      "Saving Output/etcsri_Q004296.txt\n",
      "\n",
      "Parsing etcsri/Q004297\n",
      "etcsri/Q004297:Šulgi 2079add\n",
      "Saving Output/etcsri_Q004297.txt\n",
      "\n",
      "Parsing etcsri/Q004298\n",
      "etcsri/Q004298:Šulgi 2080add\n",
      "Saving Output/etcsri_Q004298.txt\n",
      "\n",
      "Parsing etcsri/Q004299\n",
      "etcsri/Q004299:Šulgi 2081add\n",
      "Saving Output/etcsri_Q004299.txt\n",
      "\n"
     ]
    },
    {
     "name": "stderr",
     "output_type": "stream",
     "text": [
      "\r",
      " 61%|██████    | 871/1428 [01:17<00:29, 19.08it/s]"
     ]
    },
    {
     "name": "stdout",
     "output_type": "stream",
     "text": [
      "Parsing etcsri/Q004300\n",
      "etcsri/Q004300:Šulgi 2082add\n",
      "Saving Output/etcsri_Q004300.txt\n",
      "\n",
      "Parsing etcsri/Q004301\n",
      "etcsri/Q004301:Šulgi 2083add\n",
      "Saving Output/etcsri_Q004301.txt\n",
      "\n",
      "Parsing etcsri/Q004302\n",
      "etcsri/Q004302:Šulgi 2084add\n",
      "Saving Output/etcsri_Q004302.txt\n",
      "\n",
      "Parsing etcsri/Q004303\n",
      "etcsri/Q004303:Šulgi 2085add\n",
      "Saving Output/etcsri_Q004303.txt\n",
      "\n",
      "Parsing etcsri/Q004304\n",
      "etcsri/Q004304:Šulgi 2086add\n"
     ]
    },
    {
     "name": "stderr",
     "output_type": "stream",
     "text": [
      " 61%|██████▏   | 875/1428 [01:17<00:31, 17.74it/s]"
     ]
    },
    {
     "name": "stdout",
     "output_type": "stream",
     "text": [
      "Saving Output/etcsri_Q004304.txt\n",
      "\n",
      "Parsing etcsri/Q004305\n",
      "etcsri/Q004305:Šulgi 2087add\n",
      "Saving Output/etcsri_Q004305.txt\n",
      "\n",
      "Parsing etcsri/Q004306\n",
      "etcsri/Q004306:Šulgi 2088add\n",
      "Saving Output/etcsri_Q004306.txt\n",
      "\n",
      "Parsing etcsri/Q004307\n",
      "etcsri/Q004307:Šulgi 2089add\n",
      "Saving Output/etcsri_Q004307.txt\n",
      "\n",
      "Parsing etcsri/Q004308\n",
      "etcsri/Q004308:Šulgi 2090add\n"
     ]
    },
    {
     "name": "stderr",
     "output_type": "stream",
     "text": [
      " 62%|██████▏   | 879/1428 [01:17<00:29, 18.49it/s]"
     ]
    },
    {
     "name": "stdout",
     "output_type": "stream",
     "text": [
      "Saving Output/etcsri_Q004308.txt\n",
      "\n",
      "Parsing etcsri/Q004309\n",
      "etcsri/Q004309:Šulgi 2091add\n",
      "Saving Output/etcsri_Q004309.txt\n",
      "\n",
      "Parsing etcsri/Q004310\n",
      "etcsri/Q004310:Šulgi 2092add\n",
      "Saving Output/etcsri_Q004310.txt\n",
      "\n",
      "Parsing etcsri/Q004311\n",
      "etcsri/Q004311:Šulgi 2093add\n",
      "Saving Output/etcsri_Q004311.txt\n",
      "\n",
      "Parsing etcsri/Q004312\n",
      "etcsri/Q004312:Šulgi 2094add\n"
     ]
    },
    {
     "name": "stderr",
     "output_type": "stream",
     "text": [
      " 62%|██████▏   | 883/1428 [01:18<00:30, 17.63it/s]"
     ]
    },
    {
     "name": "stdout",
     "output_type": "stream",
     "text": [
      "Saving Output/etcsri_Q004312.txt\n",
      "\n",
      "Parsing etcsri/Q004313\n",
      "etcsri/Q004313:Šulgi 2095add\n",
      "Saving Output/etcsri_Q004313.txt\n",
      "\n",
      "Parsing etcsri/Q004314\n",
      "etcsri/Q004314:Šulgi 2096add\n",
      "Saving Output/etcsri_Q004314.txt\n",
      "\n",
      "Parsing etcsri/Q004315\n",
      "etcsri/Q004315:Šulgi 2097add\n",
      "Saving Output/etcsri_Q004315.txt\n",
      "\n",
      "Parsing etcsri/Q004316\n",
      "etcsri/Q004316:Šulgi 2098add\n",
      "Saving Output/etcsri_Q004316.txt\n",
      "\n"
     ]
    },
    {
     "name": "stderr",
     "output_type": "stream",
     "text": [
      " 62%|██████▏   | 889/1428 [01:18<00:29, 18.40it/s]"
     ]
    },
    {
     "name": "stdout",
     "output_type": "stream",
     "text": [
      "Parsing etcsri/Q004317\n",
      "etcsri/Q004317:Šulgi 2099add\n",
      "Saving Output/etcsri_Q004317.txt\n",
      "\n",
      "Parsing etcsri/Q004318\n",
      "etcsri/Q004318:Šulgi 2100add\n",
      "Saving Output/etcsri_Q004318.txt\n",
      "\n",
      "Parsing etcsri/Q004319\n",
      "etcsri/Q004319:Šulgi 2101add\n",
      "Saving Output/etcsri_Q004319.txt\n",
      "\n",
      "Parsing etcsri/Q004320\n",
      "etcsri/Q004320:Šulgi 2102add\n",
      "Saving Output/etcsri_Q004320.txt\n",
      "\n"
     ]
    },
    {
     "name": "stderr",
     "output_type": "stream",
     "text": [
      " 63%|██████▎   | 893/1428 [01:18<00:28, 18.62it/s]"
     ]
    },
    {
     "name": "stdout",
     "output_type": "stream",
     "text": [
      "Parsing etcsri/Q004321\n",
      "etcsri/Q004321:Šulgi 2103add\n",
      "Saving Output/etcsri_Q004321.txt\n",
      "\n",
      "Parsing etcsri/Q004322\n",
      "etcsri/Q004322:Šulgi 2104add\n",
      "Saving Output/etcsri_Q004322.txt\n",
      "\n",
      "Parsing etcsri/Q004323\n",
      "etcsri/Q004323:Šulgi 2105add\n",
      "Saving Output/etcsri_Q004323.txt\n",
      "\n",
      "Parsing etcsri/Q004324\n",
      "etcsri/Q004324:Šulgi 2106add\n",
      "Saving Output/etcsri_Q004324.txt\n",
      "\n",
      "Parsing etcsri/Q004325\n"
     ]
    },
    {
     "name": "stderr",
     "output_type": "stream",
     "text": [
      "\r",
      " 63%|██████▎   | 896/1428 [01:18<00:28, 18.77it/s]"
     ]
    },
    {
     "name": "stdout",
     "output_type": "stream",
     "text": [
      "etcsri/Q004325:Šulgi 2107add\n",
      "Saving Output/etcsri_Q004325.txt\n",
      "\n",
      "Parsing etcsri/Q004326\n",
      "etcsri/Q004326:Šulgi 2108add\n",
      "Saving Output/etcsri_Q004326.txt\n",
      "\n",
      "Parsing etcsri/Q004327\n",
      "etcsri/Q004327:Šulgi 2110add\n",
      "Saving Output/etcsri_Q004327.txt\n",
      "\n",
      "Parsing etcsri/Q004328\n",
      "etcsri/Q004328:Šulgi 2111add\n",
      "Saving Output/etcsri_Q004328.txt\n",
      "\n",
      "Parsing etcsri/Q004329\n",
      "etcsri/Q004329:Šulgi 2112add\n"
     ]
    },
    {
     "name": "stderr",
     "output_type": "stream",
     "text": [
      " 63%|██████▎   | 900/1428 [01:18<00:30, 17.56it/s]"
     ]
    },
    {
     "name": "stdout",
     "output_type": "stream",
     "text": [
      "Saving Output/etcsri_Q004329.txt\n",
      "\n",
      "Parsing etcsri/Q004330\n",
      "etcsri/Q004330:Šulgi 2113add\n",
      "Saving Output/etcsri_Q004330.txt\n",
      "\n",
      "Parsing etcsri/Q004331\n",
      "etcsri/Q004331:Šulgi 2114add\n",
      "Saving Output/etcsri_Q004331.txt\n",
      "\n"
     ]
    },
    {
     "name": "stderr",
     "output_type": "stream",
     "text": [
      "\r",
      " 63%|██████▎   | 902/1428 [01:19<00:33, 15.56it/s]"
     ]
    },
    {
     "name": "stdout",
     "output_type": "stream",
     "text": [
      "Parsing etcsri/Q004332\n",
      "etcsri/Q004332:Šulgi 2115add\n",
      "Saving Output/etcsri_Q004332.txt\n",
      "\n",
      "Parsing etcsri/Q004333\n",
      "etcsri/Q004333:Šulgi 2116add\n",
      "Saving Output/etcsri_Q004333.txt\n",
      "\n",
      "Parsing etcsri/Q004334\n",
      "etcsri/Q004334:Šulgi 2117add\n",
      "Saving Output/etcsri_Q004334.txt\n",
      "\n",
      "Parsing etcsri/Q004335\n",
      "etcsri/Q004335:Šulgi 2118add\n",
      "Saving Output/etcsri_Q004335.txt\n",
      "\n",
      "Parsing etcsri/Q004336\n",
      "etcsri/Q004336:Šulgi 2119add\n",
      "Saving Output/etcsri_Q004336.txt\n",
      "\n"
     ]
    },
    {
     "name": "stderr",
     "output_type": "stream",
     "text": [
      " 64%|██████▎   | 907/1428 [01:19<00:29, 17.39it/s]"
     ]
    },
    {
     "name": "stdout",
     "output_type": "stream",
     "text": [
      "Parsing etcsri/Q004337\n",
      "etcsri/Q004337:Šulgi 2120add\n",
      "Saving Output/etcsri_Q004337.txt\n",
      "\n",
      "Parsing etcsri/Q004338\n",
      "etcsri/Q004338:Šulgi 2121add\n",
      "Saving Output/etcsri_Q004338.txt\n",
      "\n",
      "Parsing etcsri/Q004339\n",
      "etcsri/Q004339:Šulgi 2122add\n",
      "Saving Output/etcsri_Q004339.txt\n",
      "\n",
      "Parsing etcsri/Q004340\n",
      "etcsri/Q004340:Šulgi 2123add\n",
      "Saving Output/etcsri_Q004340.txt\n",
      "\n"
     ]
    },
    {
     "name": "stderr",
     "output_type": "stream",
     "text": [
      " 64%|██████▍   | 911/1428 [01:19<00:28, 17.90it/s]"
     ]
    },
    {
     "name": "stdout",
     "output_type": "stream",
     "text": [
      "Parsing etcsri/Q004341\n",
      "etcsri/Q004341:Šulgi 2124add\n",
      "Saving Output/etcsri_Q004341.txt\n",
      "\n",
      "Parsing etcsri/Q004342\n",
      "etcsri/Q004342:Šulgi 2125add\n",
      "Saving Output/etcsri_Q004342.txt\n",
      "\n",
      "Parsing etcsri/Q004343\n",
      "etcsri/Q004343:Šulgi 2126add\n",
      "Saving Output/etcsri_Q004343.txt\n",
      "\n",
      "Parsing etcsri/Q004344\n",
      "etcsri/Q004344:Šulgi 2127add\n",
      "Saving Output/etcsri_Q004344.txt\n",
      "\n"
     ]
    },
    {
     "name": "stderr",
     "output_type": "stream",
     "text": [
      " 64%|██████▍   | 916/1428 [01:19<00:28, 17.97it/s]"
     ]
    },
    {
     "name": "stdout",
     "output_type": "stream",
     "text": [
      "Parsing etcsri/Q004345\n",
      "etcsri/Q004345:Šulgi 2128add\n",
      "Saving Output/etcsri_Q004345.txt\n",
      "\n",
      "Parsing etcsri/Q004346\n",
      "etcsri/Q004346:Šulgi 2129add\n",
      "Saving Output/etcsri_Q004346.txt\n",
      "\n",
      "Parsing etcsri/Q004347\n",
      "etcsri/Q004347:Šulgi 2130add\n",
      "Saving Output/etcsri_Q004347.txt\n",
      "\n",
      "Parsing etcsri/Q004348\n"
     ]
    },
    {
     "name": "stderr",
     "output_type": "stream",
     "text": [
      " 64%|██████▍   | 920/1428 [01:20<00:32, 15.69it/s]"
     ]
    },
    {
     "name": "stdout",
     "output_type": "stream",
     "text": [
      "etcsri/Q004348:Šulgi 2131add\n",
      "Saving Output/etcsri_Q004348.txt\n",
      "\n",
      "Parsing etcsri/Q004349\n",
      "etcsri/Q004349:Šulgi 2132add\n",
      "Saving Output/etcsri_Q004349.txt\n",
      "\n",
      "Parsing etcsri/Q004350\n",
      "etcsri/Q004350:Šulgi 2133add\n",
      "Saving Output/etcsri_Q004350.txt\n",
      "\n",
      "Parsing etcsri/Q004351\n",
      "etcsri/Q004351:Šulgi 2134add\n",
      "Saving Output/etcsri_Q004351.txt\n",
      "\n"
     ]
    },
    {
     "name": "stderr",
     "output_type": "stream",
     "text": [
      "\r",
      " 65%|██████▍   | 922/1428 [01:20<00:33, 15.24it/s]"
     ]
    },
    {
     "name": "stdout",
     "output_type": "stream",
     "text": [
      "Parsing etcsri/Q000981\n",
      "etcsri/Q000981:Amar-Suen 01\n",
      "Saving Output/etcsri_Q000981.txt\n",
      "\n",
      "Parsing etcsri/Q001789\n",
      "etcsri/Q001789:Amar-Suen 02\n",
      "Saving Output/etcsri_Q001789.txt\n",
      "\n",
      "Parsing etcsri/Q001790\n",
      "etcsri/Q001790:Amar-Suen 03\n"
     ]
    },
    {
     "name": "stderr",
     "output_type": "stream",
     "text": [
      "\r",
      " 65%|██████▍   | 924/1428 [01:20<00:33, 15.01it/s]"
     ]
    },
    {
     "name": "stdout",
     "output_type": "stream",
     "text": [
      "Saving Output/etcsri_Q001790.txt\n",
      "\n",
      "Parsing etcsri/Q000982\n",
      "etcsri/Q000982:Amar-Suen 04\n",
      "Saving Output/etcsri_Q000982.txt\n",
      "\n",
      "Parsing etcsri/Q001791\n",
      "etcsri/Q001791:Amar-Suen 05\n",
      "Saving Output/etcsri_Q001791.txt\n",
      "\n",
      "Parsing etcsri/Q001792\n",
      "etcsri/Q001792:Amar-Suen 06\n"
     ]
    },
    {
     "name": "stderr",
     "output_type": "stream",
     "text": [
      " 65%|██████▍   | 928/1428 [01:20<00:39, 12.51it/s]"
     ]
    },
    {
     "name": "stdout",
     "output_type": "stream",
     "text": [
      "Saving Output/etcsri_Q001792.txt\n",
      "\n",
      "Parsing etcsri/Q001793\n",
      "etcsri/Q001793:Amar-Suen 07\n",
      "Saving Output/etcsri_Q001793.txt\n",
      "\n",
      "Parsing etcsri/Q000983\n",
      "etcsri/Q000983:Amar-Suen 08\n",
      "Saving Output/etcsri_Q000983.txt\n",
      "\n",
      "Parsing etcsri/Q000984\n",
      "etcsri/Q000984:Amar-Suen 09\n",
      "Saving Output/etcsri_Q000984.txt\n",
      "\n",
      "Parsing etcsri/Q000985\n"
     ]
    },
    {
     "name": "stderr",
     "output_type": "stream",
     "text": [
      "\r",
      " 65%|██████▌   | 930/1428 [01:21<01:02,  8.00it/s]"
     ]
    },
    {
     "name": "stdout",
     "output_type": "stream",
     "text": [
      "etcsri/Q000985:Amar-Suen 10\n",
      "Saving Output/etcsri_Q000985.txt\n",
      "\n",
      "Parsing etcsri/Q001794\n"
     ]
    },
    {
     "name": "stderr",
     "output_type": "stream",
     "text": [
      "\r",
      " 65%|██████▌   | 932/1428 [01:21<01:10,  7.00it/s]"
     ]
    },
    {
     "name": "stdout",
     "output_type": "stream",
     "text": [
      "etcsri/Q001794:Amar-Suen 11\n",
      "Saving Output/etcsri_Q001794.txt\n",
      "\n",
      "Parsing etcsri/Q001795\n",
      "etcsri/Q001795:Amar-Suen 12\n",
      "Saving Output/etcsri_Q001795.txt\n",
      "\n",
      "Parsing etcsri/Q000986\n"
     ]
    },
    {
     "name": "stderr",
     "output_type": "stream",
     "text": [
      "\r",
      " 65%|██████▌   | 933/1428 [01:21<01:07,  7.34it/s]"
     ]
    },
    {
     "name": "stdout",
     "output_type": "stream",
     "text": [
      "etcsri/Q000986:Amar-Suen 13\n",
      "Saving Output/etcsri_Q000986.txt\n",
      "\n",
      "Parsing etcsri/Q000987\n",
      "etcsri/Q000987:Amar-Suen 14\n",
      "Saving Output/etcsri_Q000987.txt\n",
      "\n",
      "Parsing etcsri/Q000988\n",
      "etcsri/Q000988:Amar-Suen 15\n"
     ]
    },
    {
     "name": "stderr",
     "output_type": "stream",
     "text": [
      " 66%|██████▌   | 936/1428 [01:22<01:08,  7.19it/s]"
     ]
    },
    {
     "name": "stdout",
     "output_type": "stream",
     "text": [
      "Saving Output/etcsri_Q000988.txt\n",
      "\n",
      "Parsing etcsri/Q000989\n",
      "etcsri/Q000989:Amar-Suen 16\n",
      "Saving Output/etcsri_Q000989.txt\n",
      "\n",
      "Parsing etcsri/Q000990\n"
     ]
    },
    {
     "name": "stderr",
     "output_type": "stream",
     "text": [
      " 66%|██████▌   | 940/1428 [01:22<00:56,  8.57it/s]"
     ]
    },
    {
     "name": "stdout",
     "output_type": "stream",
     "text": [
      "etcsri/Q000990:Amar-Suen 17\n",
      "Saving Output/etcsri_Q000990.txt\n",
      "\n",
      "Parsing etcsri/Q001796\n",
      "etcsri/Q001796:Amar-Suen 18\n",
      "Saving Output/etcsri_Q001796.txt\n",
      "\n",
      "Parsing etcsri/Q001797\n",
      "etcsri/Q001797:Amar-Suen 19\n",
      "Saving Output/etcsri_Q001797.txt\n",
      "\n",
      "Parsing etcsri/Q001798\n",
      "etcsri/Q001798:Amar-Suen 20\n",
      "Saving Output/etcsri_Q001798.txt\n",
      "\n"
     ]
    },
    {
     "name": "stderr",
     "output_type": "stream",
     "text": [
      "\r",
      " 66%|██████▌   | 942/1428 [01:22<00:48,  9.99it/s]"
     ]
    },
    {
     "name": "stdout",
     "output_type": "stream",
     "text": [
      "Parsing etcsri/Q001799\n",
      "etcsri/Q001799:Amar-Suen 21\n",
      "Saving Output/etcsri_Q001799.txt\n",
      "\n",
      "Parsing etcsri/Q001800\n",
      "etcsri/Q001800:Amar-Suen 22\n",
      "Saving Output/etcsri_Q001800.txt\n",
      "\n",
      "Parsing etcsri/Q001802\n",
      "etcsri/Q001802:Amar-Suen 2002\n",
      "Saving Output/etcsri_Q001802.txt\n",
      "\n",
      "Parsing etcsri/Q001803\n",
      "etcsri/Q001803:Amar-Suen 2003\n"
     ]
    },
    {
     "name": "stderr",
     "output_type": "stream",
     "text": [
      " 66%|██████▋   | 947/1428 [01:22<00:37, 12.84it/s]"
     ]
    },
    {
     "name": "stdout",
     "output_type": "stream",
     "text": [
      "Saving Output/etcsri_Q001803.txt\n",
      "\n",
      "Parsing etcsri/Q001804\n",
      "etcsri/Q001804:Amar-Suen 2004\n",
      "Saving Output/etcsri_Q001804.txt\n",
      "\n",
      "Parsing etcsri/Q001805\n",
      "etcsri/Q001805:Amar-Suen 2005\n",
      "Saving Output/etcsri_Q001805.txt\n",
      "\n",
      "Parsing etcsri/Q001806\n",
      "etcsri/Q001806:Amar-Suen 2006\n",
      "Saving Output/etcsri_Q001806.txt\n",
      "\n",
      "Parsing etcsri/Q001807\n",
      "etcsri/Q001807:Amar-Suen 2007\n"
     ]
    },
    {
     "name": "stderr",
     "output_type": "stream",
     "text": [
      "\r",
      " 66%|██████▋   | 949/1428 [01:23<00:38, 12.39it/s]"
     ]
    },
    {
     "name": "stdout",
     "output_type": "stream",
     "text": [
      "Saving Output/etcsri_Q001807.txt\n",
      "\n",
      "Parsing etcsri/Q001808\n",
      "etcsri/Q001808:Amar-Suen 2008\n",
      "Saving Output/etcsri_Q001808.txt\n",
      "\n",
      "Parsing etcsri/Q001809\n",
      "etcsri/Q001809:Amar-Suen 2009\n",
      "Saving Output/etcsri_Q001809.txt\n",
      "\n",
      "Parsing etcsri/Q004112\n"
     ]
    },
    {
     "name": "stderr",
     "output_type": "stream",
     "text": [
      " 67%|██████▋   | 953/1428 [01:23<00:34, 13.86it/s]"
     ]
    },
    {
     "name": "stdout",
     "output_type": "stream",
     "text": [
      "etcsri/Q004112:Amar-Suen 2010add\n",
      "Saving Output/etcsri_Q004112.txt\n",
      "\n",
      "Parsing etcsri/Q004113\n",
      "etcsri/Q004113:Amar-Suen 2011add\n",
      "Saving Output/etcsri_Q004113.txt\n",
      "\n",
      "Parsing etcsri/Q004114\n",
      "etcsri/Q004114:Amar-Suen 2012add\n",
      "Saving Output/etcsri_Q004114.txt\n",
      "\n",
      "Parsing etcsri/Q004115\n",
      "etcsri/Q004115:Amar-Suen 2013add\n",
      "Saving Output/etcsri_Q004115.txt\n",
      "\n"
     ]
    },
    {
     "name": "stderr",
     "output_type": "stream",
     "text": [
      " 67%|██████▋   | 957/1428 [01:23<00:30, 15.59it/s]"
     ]
    },
    {
     "name": "stdout",
     "output_type": "stream",
     "text": [
      "Parsing etcsri/Q004116\n",
      "etcsri/Q004116:Amar-Suen 2014add\n",
      "Saving Output/etcsri_Q004116.txt\n",
      "\n",
      "Parsing etcsri/Q004117\n",
      "etcsri/Q004117:Amar-Suen 2015add\n",
      "Saving Output/etcsri_Q004117.txt\n",
      "\n",
      "Parsing etcsri/Q004118\n",
      "etcsri/Q004118:Amar-Suen 2016add\n",
      "Saving Output/etcsri_Q004118.txt\n",
      "\n",
      "Parsing etcsri/Q004119\n",
      "etcsri/Q004119:Amar-Suen 2017add\n"
     ]
    },
    {
     "name": "stderr",
     "output_type": "stream",
     "text": [
      " 67%|██████▋   | 961/1428 [01:23<00:28, 16.24it/s]"
     ]
    },
    {
     "name": "stdout",
     "output_type": "stream",
     "text": [
      "Saving Output/etcsri_Q004119.txt\n",
      "\n",
      "Parsing etcsri/Q004120\n",
      "etcsri/Q004120:Amar-Suen 2018add\n",
      "Saving Output/etcsri_Q004120.txt\n",
      "\n",
      "Parsing etcsri/Q004121\n",
      "etcsri/Q004121:Amar-Suen 2019add\n",
      "Saving Output/etcsri_Q004121.txt\n",
      "\n",
      "Parsing etcsri/Q004122\n",
      "etcsri/Q004122:Amar-Suen 2020add\n",
      "Saving Output/etcsri_Q004122.txt\n",
      "\n",
      "Parsing etcsri/Q004123\n"
     ]
    },
    {
     "name": "stderr",
     "output_type": "stream",
     "text": [
      " 68%|██████▊   | 965/1428 [01:23<00:28, 16.06it/s]"
     ]
    },
    {
     "name": "stdout",
     "output_type": "stream",
     "text": [
      "etcsri/Q004123:Amar-Suen 2021add\n",
      "Saving Output/etcsri_Q004123.txt\n",
      "\n",
      "Parsing etcsri/Q004124\n",
      "etcsri/Q004124:Amar-Suen 2022add\n",
      "Saving Output/etcsri_Q004124.txt\n",
      "\n",
      "Parsing etcsri/Q004125\n",
      "etcsri/Q004125:Amar-Suen 2023add\n",
      "Saving Output/etcsri_Q004125.txt\n",
      "\n",
      "Parsing etcsri/Q004126\n",
      "etcsri/Q004126:Amar-Suen 2024add\n",
      "Saving Output/etcsri_Q004126.txt\n",
      "\n"
     ]
    },
    {
     "name": "stderr",
     "output_type": "stream",
     "text": [
      "\r",
      " 68%|██████▊   | 967/1428 [01:24<00:28, 16.21it/s]"
     ]
    },
    {
     "name": "stdout",
     "output_type": "stream",
     "text": [
      "Parsing etcsri/Q004127\n",
      "etcsri/Q004127:Amar-Suen 2025add\n",
      "Saving Output/etcsri_Q004127.txt\n",
      "\n",
      "Parsing etcsri/Q004128\n",
      "etcsri/Q004128:Amar-Suen 2026add\n",
      "Saving Output/etcsri_Q004128.txt\n",
      "\n",
      "Parsing etcsri/Q004129\n",
      "etcsri/Q004129:Amar-Suen 2027add\n",
      "Saving Output/etcsri_Q004129.txt\n",
      "\n",
      "Parsing etcsri/Q004130\n",
      "etcsri/Q004130:Amar-Suen 2028add\n"
     ]
    },
    {
     "name": "stderr",
     "output_type": "stream",
     "text": [
      " 68%|██████▊   | 971/1428 [01:24<00:26, 17.05it/s]"
     ]
    },
    {
     "name": "stdout",
     "output_type": "stream",
     "text": [
      "Saving Output/etcsri_Q004130.txt\n",
      "\n",
      "Parsing etcsri/Q004131\n",
      "etcsri/Q004131:Amar-Suen 2029add\n",
      "Saving Output/etcsri_Q004131.txt\n",
      "\n",
      "Parsing etcsri/Q004132\n",
      "etcsri/Q004132:Amar-Suen 2030add\n",
      "Saving Output/etcsri_Q004132.txt\n",
      "\n",
      "Parsing etcsri/Q004133\n",
      "etcsri/Q004133:Amar-Suen 2031add\n",
      "Saving Output/etcsri_Q004133.txt\n",
      "\n",
      "Parsing etcsri/Q004134\n"
     ]
    },
    {
     "name": "stderr",
     "output_type": "stream",
     "text": [
      " 68%|██████▊   | 975/1428 [01:24<00:28, 16.01it/s]"
     ]
    },
    {
     "name": "stdout",
     "output_type": "stream",
     "text": [
      "etcsri/Q004134:Amar-Suen 2032add\n",
      "Saving Output/etcsri_Q004134.txt\n",
      "\n",
      "Parsing etcsri/Q004135\n",
      "etcsri/Q004135:Amar-Suen 2033add\n",
      "Saving Output/etcsri_Q004135.txt\n",
      "\n",
      "Parsing etcsri/Q004136\n",
      "etcsri/Q004136:Amar-Suen 2034add\n",
      "Saving Output/etcsri_Q004136.txt\n",
      "\n",
      "Parsing etcsri/Q004137\n",
      "etcsri/Q004137:Amar-Suen 2035add\n",
      "Saving Output/etcsri_Q004137.txt\n",
      "\n"
     ]
    },
    {
     "name": "stderr",
     "output_type": "stream",
     "text": [
      " 69%|██████▊   | 979/1428 [01:24<00:26, 16.92it/s]"
     ]
    },
    {
     "name": "stdout",
     "output_type": "stream",
     "text": [
      "Parsing etcsri/Q004138\n",
      "etcsri/Q004138:Amar-Suen 2036add\n",
      "Saving Output/etcsri_Q004138.txt\n",
      "\n",
      "Parsing etcsri/Q004139\n",
      "etcsri/Q004139:Amar-Suen 2037add\n",
      "Saving Output/etcsri_Q004139.txt\n",
      "\n",
      "Parsing etcsri/Q004140\n",
      "etcsri/Q004140:Amar-Suen 2038add\n",
      "Saving Output/etcsri_Q004140.txt\n",
      "\n",
      "Parsing etcsri/Q004141\n",
      "etcsri/Q004141:Amar-Suen 2039add\n"
     ]
    },
    {
     "name": "stderr",
     "output_type": "stream",
     "text": [
      " 69%|██████▉   | 983/1428 [01:25<00:26, 16.89it/s]"
     ]
    },
    {
     "name": "stdout",
     "output_type": "stream",
     "text": [
      "Saving Output/etcsri_Q004141.txt\n",
      "\n",
      "Parsing etcsri/Q004142\n",
      "etcsri/Q004142:Amar-Suen 2040add\n",
      "Saving Output/etcsri_Q004142.txt\n",
      "\n",
      "Parsing etcsri/Q004143\n",
      "etcsri/Q004143:Amar-Suen 2041add\n",
      "Saving Output/etcsri_Q004143.txt\n",
      "\n",
      "Parsing etcsri/Q004352\n",
      "etcsri/Q004352:Amar-Suena 2042add\n",
      "Saving Output/etcsri_Q004352.txt\n",
      "\n",
      "Parsing etcsri/Q004145\n",
      "etcsri/Q004145:Amar-Suen 2043add\n"
     ]
    },
    {
     "name": "stderr",
     "output_type": "stream",
     "text": [
      " 69%|██████▉   | 988/1428 [01:25<00:24, 17.95it/s]"
     ]
    },
    {
     "name": "stdout",
     "output_type": "stream",
     "text": [
      "Saving Output/etcsri_Q004145.txt\n",
      "\n",
      "Parsing etcsri/Q004146\n",
      "etcsri/Q004146:Amar-Suen 2044add\n",
      "Saving Output/etcsri_Q004146.txt\n",
      "\n",
      "Parsing etcsri/Q004147\n",
      "etcsri/Q004147:Amar-Suen 2045add\n",
      "Saving Output/etcsri_Q004147.txt\n",
      "\n",
      "Parsing etcsri/Q004148\n",
      "etcsri/Q004148:Amar-Suen 2046add\n",
      "Saving Output/etcsri_Q004148.txt\n",
      "\n",
      "Parsing etcsri/Q004149\n",
      "etcsri/Q004149:Amar-Suen 2047add\n",
      "Saving Output/etcsri_Q004149.txt\n",
      "\n"
     ]
    },
    {
     "name": "stderr",
     "output_type": "stream",
     "text": [
      "\r",
      " 69%|██████▉   | 990/1428 [01:25<00:24, 17.90it/s]"
     ]
    },
    {
     "name": "stdout",
     "output_type": "stream",
     "text": [
      "Parsing etcsri/Q004150\n",
      "etcsri/Q004150:Amar-Suen 2048add\n",
      "Saving Output/etcsri_Q004150.txt\n",
      "\n",
      "Parsing etcsri/Q004151\n",
      "etcsri/Q004151:Amar-Suen 2049add\n",
      "Saving Output/etcsri_Q004151.txt\n",
      "\n",
      "Parsing etcsri/Q004152\n",
      "etcsri/Q004152:Amar-Suen 2050add\n",
      "Saving Output/etcsri_Q004152.txt\n",
      "\n",
      "Parsing etcsri/Q004153\n",
      "etcsri/Q004153:Amar-Suen 2051add\n"
     ]
    },
    {
     "name": "stderr",
     "output_type": "stream",
     "text": [
      " 70%|██████▉   | 994/1428 [01:25<00:25, 16.72it/s]"
     ]
    },
    {
     "name": "stdout",
     "output_type": "stream",
     "text": [
      "Saving Output/etcsri_Q004153.txt\n",
      "\n",
      "Parsing etcsri/Q004353\n",
      "etcsri/Q004353:Amar-Suena 2052add\n",
      "Saving Output/etcsri_Q004353.txt\n",
      "\n",
      "Parsing etcsri/Q004155\n",
      "etcsri/Q004155:Amar-Suen 2054add\n",
      "Saving Output/etcsri_Q004155.txt\n",
      "\n",
      "Parsing etcsri/Q004156\n",
      "etcsri/Q004156:Amar-Suen 2055add\n",
      "Saving Output/etcsri_Q004156.txt\n",
      "\n",
      "Parsing etcsri/Q004157\n"
     ]
    },
    {
     "name": "stderr",
     "output_type": "stream",
     "text": [
      " 70%|██████▉   | 999/1428 [01:25<00:24, 17.28it/s]"
     ]
    },
    {
     "name": "stdout",
     "output_type": "stream",
     "text": [
      "etcsri/Q004157:Amar-Suen 2056add\n",
      "Saving Output/etcsri_Q004157.txt\n",
      "\n",
      "Parsing etcsri/Q004158\n",
      "etcsri/Q004158:Amar-Suen 2057add\n",
      "Saving Output/etcsri_Q004158.txt\n",
      "\n",
      "Parsing etcsri/Q004159\n",
      "etcsri/Q004159:Amar-Suen 2058add\n",
      "Saving Output/etcsri_Q004159.txt\n",
      "\n",
      "Parsing etcsri/Q004160\n",
      "etcsri/Q004160:Amar-Suen 2059add\n",
      "Saving Output/etcsri_Q004160.txt\n",
      "\n",
      "Parsing etcsri/Q004354\n"
     ]
    },
    {
     "name": "stderr",
     "output_type": "stream",
     "text": [
      "\r",
      " 70%|███████   | 1001/1428 [01:26<00:25, 16.77it/s]"
     ]
    },
    {
     "name": "stdout",
     "output_type": "stream",
     "text": [
      "etcsri/Q004354:Amar-Suena 2060add\n",
      "Saving Output/etcsri_Q004354.txt\n",
      "\n",
      "Parsing etcsri/Q004162\n",
      "etcsri/Q004162:Amar-Suen 2061add\n",
      "Saving Output/etcsri_Q004162.txt\n",
      "\n",
      "Parsing etcsri/Q004163\n",
      "etcsri/Q004163:Amar-Suen 2062add\n",
      "Saving Output/etcsri_Q004163.txt\n",
      "\n",
      "Parsing etcsri/Q004899\n",
      "etcsri/Q004899:Amar-Suena 2063add\n"
     ]
    },
    {
     "name": "stderr",
     "output_type": "stream",
     "text": [
      " 70%|███████   | 1005/1428 [01:26<00:26, 15.77it/s]"
     ]
    },
    {
     "name": "stdout",
     "output_type": "stream",
     "text": [
      "Saving Output/etcsri_Q004899.txt\n",
      "\n",
      "Parsing etcsri/Q000992\n",
      "etcsri/Q000992:Šu-Suen 03\n",
      "Saving Output/etcsri_Q000992.txt\n",
      "\n",
      "Parsing etcsri/Q001813\n",
      "etcsri/Q001813:Šu-Suen 06\n",
      "Saving Output/etcsri_Q001813.txt\n",
      "\n",
      "Parsing etcsri/Q000994\n",
      "etcsri/Q000994:Šu-Suen 07\n",
      "Saving Output/etcsri_Q000994.txt\n",
      "\n",
      "Parsing etcsri/Q001814\n"
     ]
    },
    {
     "name": "stderr",
     "output_type": "stream",
     "text": [
      "\r",
      " 71%|███████   | 1007/1428 [01:26<00:48,  8.68it/s]"
     ]
    },
    {
     "name": "stdout",
     "output_type": "stream",
     "text": [
      "etcsri/Q001814:Šu-Suen 08\n",
      "Saving Output/etcsri_Q001814.txt\n",
      "\n",
      "Parsing etcsri/Q001816\n",
      "etcsri/Q001816:Šu-Suen 11\n",
      "Saving Output/etcsri_Q001816.txt\n",
      "\n",
      "Parsing etcsri/Q000996\n",
      "etcsri/Q000996:Šu-Suen 12\n"
     ]
    },
    {
     "name": "stderr",
     "output_type": "stream",
     "text": [
      "\r",
      " 71%|███████   | 1009/1428 [01:27<00:47,  8.85it/s]"
     ]
    },
    {
     "name": "stdout",
     "output_type": "stream",
     "text": [
      "Saving Output/etcsri_Q000996.txt\n",
      "\n",
      "Parsing etcsri/Q000997\n",
      "etcsri/Q000997:Šu-Suen 13\n",
      "Saving Output/etcsri_Q000997.txt\n",
      "\n"
     ]
    },
    {
     "name": "stderr",
     "output_type": "stream",
     "text": [
      "\r",
      " 71%|███████   | 1011/1428 [01:27<00:51,  8.14it/s]"
     ]
    },
    {
     "name": "stdout",
     "output_type": "stream",
     "text": [
      "Parsing etcsri/Q001817\n",
      "etcsri/Q001817:Šu-Suen 14\n",
      "Saving Output/etcsri_Q001817.txt\n",
      "\n",
      "Parsing etcsri/Q000998\n",
      "etcsri/Q000998:Šu-Suen 15\n",
      "Saving Output/etcsri_Q000998.txt\n",
      "\n"
     ]
    },
    {
     "name": "stderr",
     "output_type": "stream",
     "text": [
      "\r",
      " 71%|███████   | 1013/1428 [01:27<00:48,  8.64it/s]"
     ]
    },
    {
     "name": "stdout",
     "output_type": "stream",
     "text": [
      "Parsing etcsri/Q000999\n",
      "etcsri/Q000999:Šu-Suen 16\n",
      "Saving Output/etcsri_Q000999.txt\n",
      "\n",
      "Parsing etcsri/Q001000\n",
      "etcsri/Q001000:Šu-Suen 17\n"
     ]
    },
    {
     "name": "stderr",
     "output_type": "stream",
     "text": [
      "\r",
      " 71%|███████   | 1015/1428 [01:27<00:50,  8.10it/s]"
     ]
    },
    {
     "name": "stdout",
     "output_type": "stream",
     "text": [
      "Saving Output/etcsri_Q001000.txt\n",
      "\n",
      "Parsing etcsri/Q001818\n",
      "etcsri/Q001818:Šu-Suen 18\n",
      "Saving Output/etcsri_Q001818.txt\n",
      "\n",
      "Parsing etcsri/Q001001\n",
      "etcsri/Q001001:Šu-Suen 19\n",
      "Saving Output/etcsri_Q001001.txt\n",
      "\n",
      "Parsing etcsri/Q001002\n"
     ]
    },
    {
     "name": "stderr",
     "output_type": "stream",
     "text": [
      " 71%|███████▏  | 1018/1428 [01:28<00:46,  8.85it/s]"
     ]
    },
    {
     "name": "stdout",
     "output_type": "stream",
     "text": [
      "etcsri/Q001002:Šu-Suen 20\n",
      "Saving Output/etcsri_Q001002.txt\n",
      "\n",
      "Parsing etcsri/Q001003\n",
      "etcsri/Q001003:Šu-Suen 21\n",
      "Saving Output/etcsri_Q001003.txt\n",
      "\n",
      "Parsing etcsri/Q001819\n",
      "etcsri/Q001819:Šu-Suen 22\n",
      "Saving Output/etcsri_Q001819.txt\n",
      "\n",
      "Parsing etcsri/Q001820\n"
     ]
    },
    {
     "name": "stderr",
     "output_type": "stream",
     "text": [
      " 72%|███████▏  | 1023/1428 [01:28<00:32, 12.45it/s]"
     ]
    },
    {
     "name": "stdout",
     "output_type": "stream",
     "text": [
      "etcsri/Q001820:Šu-Suen 23\n",
      "Saving Output/etcsri_Q001820.txt\n",
      "\n",
      "Parsing etcsri/Q001821\n",
      "etcsri/Q001821:Šu-Suen 24\n",
      "Saving Output/etcsri_Q001821.txt\n",
      "\n",
      "Parsing etcsri/Q001822\n",
      "etcsri/Q001822:Šu-Suen 25\n",
      "Saving Output/etcsri_Q001822.txt\n",
      "\n",
      "Parsing etcsri/Q001823\n",
      "etcsri/Q001823:Šu-Suen 26\n",
      "Saving Output/etcsri_Q001823.txt\n",
      "\n",
      "Parsing etcsri/Q001824\n",
      "etcsri/Q001824:Šu-Suen 27\n"
     ]
    },
    {
     "name": "stderr",
     "output_type": "stream",
     "text": [
      "\r",
      " 72%|███████▏  | 1026/1428 [01:28<00:27, 14.48it/s]"
     ]
    },
    {
     "name": "stdout",
     "output_type": "stream",
     "text": [
      "Saving Output/etcsri_Q001824.txt\n",
      "\n",
      "Parsing etcsri/Q001825\n",
      "etcsri/Q001825:Šu-Suen 28\n",
      "Saving Output/etcsri_Q001825.txt\n",
      "\n",
      "Parsing etcsri/Q001826\n",
      "etcsri/Q001826:Šu-Suen 29\n",
      "Saving Output/etcsri_Q001826.txt\n",
      "\n",
      "Parsing etcsri/Q001827\n",
      "etcsri/Q001827:Šu-Suen 30\n",
      "Saving Output/etcsri_Q001827.txt\n",
      "\n",
      "Parsing etcsri/Q001828\n",
      "etcsri/Q001828:Šu-Suen 31\n",
      "Saving Output/etcsri_Q001828.txt\n",
      "\n",
      "Parsing etcsri/Q001829\n"
     ]
    },
    {
     "name": "stderr",
     "output_type": "stream",
     "text": [
      "\r",
      " 72%|███████▏  | 1029/1428 [01:28<00:27, 14.28it/s]"
     ]
    },
    {
     "name": "stdout",
     "output_type": "stream",
     "text": [
      "etcsri/Q001829:Šu-Suen 32\n",
      "Saving Output/etcsri_Q001829.txt\n",
      "\n",
      "Parsing etcsri/Q001830\n",
      "etcsri/Q001830:Šu-Suen 33\n",
      "Saving Output/etcsri_Q001830.txt\n",
      "\n"
     ]
    },
    {
     "name": "stderr",
     "output_type": "stream",
     "text": [
      " 72%|███████▏  | 1033/1428 [01:29<00:29, 13.49it/s]"
     ]
    },
    {
     "name": "stdout",
     "output_type": "stream",
     "text": [
      "Parsing etcsri/Q001831\n",
      "etcsri/Q001831:Šu-Suen 2001\n",
      "Saving Output/etcsri_Q001831.txt\n",
      "\n",
      "Parsing etcsri/Q001832\n",
      "etcsri/Q001832:Šu-Suen 2002\n",
      "Saving Output/etcsri_Q001832.txt\n",
      "\n",
      "Parsing etcsri/Q001833\n",
      "etcsri/Q001833:Šu-Suen 2004\n",
      "Saving Output/etcsri_Q001833.txt\n",
      "\n",
      "Parsing etcsri/Q001834\n",
      "etcsri/Q001834:Šu-Suen 2005\n"
     ]
    },
    {
     "name": "stderr",
     "output_type": "stream",
     "text": [
      " 73%|███████▎  | 1037/1428 [01:29<00:27, 14.08it/s]"
     ]
    },
    {
     "name": "stdout",
     "output_type": "stream",
     "text": [
      "Saving Output/etcsri_Q001834.txt\n",
      "\n",
      "Parsing etcsri/Q001835\n",
      "etcsri/Q001835:Šu-Suen 2006\n",
      "Saving Output/etcsri_Q001835.txt\n",
      "\n",
      "Parsing etcsri/Q001836\n",
      "etcsri/Q001836:Šu-Suen 2007\n",
      "Saving Output/etcsri_Q001836.txt\n",
      "\n",
      "Parsing etcsri/Q001837\n",
      "etcsri/Q001837:Šu-Suen 2008\n",
      "Saving Output/etcsri_Q001837.txt\n",
      "\n"
     ]
    },
    {
     "name": "stderr",
     "output_type": "stream",
     "text": [
      " 73%|███████▎  | 1041/1428 [01:29<00:23, 16.17it/s]"
     ]
    },
    {
     "name": "stdout",
     "output_type": "stream",
     "text": [
      "Parsing etcsri/Q001838\n",
      "etcsri/Q001838:Šu-Suen 2009\n",
      "Saving Output/etcsri_Q001838.txt\n",
      "\n",
      "Parsing etcsri/Q001839\n",
      "etcsri/Q001839:Šu-Suen 2010\n",
      "Saving Output/etcsri_Q001839.txt\n",
      "\n",
      "Parsing etcsri/Q001840\n",
      "etcsri/Q001840:Šu-Suen 2011\n",
      "Saving Output/etcsri_Q001840.txt\n",
      "\n",
      "Parsing etcsri/Q001841\n",
      "etcsri/Q001841:Šu-Suen 2012\n",
      "Saving Output/etcsri_Q001841.txt\n",
      "\n",
      "Parsing etcsri/Q001842\n",
      "etcsri/Q001842:Šu-Suen 2013\n"
     ]
    },
    {
     "name": "stderr",
     "output_type": "stream",
     "text": [
      "\r",
      " 73%|███████▎  | 1044/1428 [01:29<00:21, 17.68it/s]"
     ]
    },
    {
     "name": "stdout",
     "output_type": "stream",
     "text": [
      "Saving Output/etcsri_Q001842.txt\n",
      "\n",
      "Parsing etcsri/Q001843\n",
      "etcsri/Q001843:Šu-Suen 2014\n",
      "Saving Output/etcsri_Q001843.txt\n",
      "\n",
      "Parsing etcsri/Q001844\n",
      "etcsri/Q001844:Šu-Suen 2015\n",
      "Saving Output/etcsri_Q001844.txt\n",
      "\n",
      "Parsing etcsri/Q001845\n",
      "etcsri/Q001845:Šu-Suen 2016\n",
      "Saving Output/etcsri_Q001845.txt\n",
      "\n",
      "Parsing etcsri/Q001846\n"
     ]
    },
    {
     "name": "stderr",
     "output_type": "stream",
     "text": [
      " 73%|███████▎  | 1048/1428 [01:29<00:25, 14.82it/s]"
     ]
    },
    {
     "name": "stdout",
     "output_type": "stream",
     "text": [
      "etcsri/Q001846:Šu-Suen 2017\n",
      "Saving Output/etcsri_Q001846.txt\n",
      "\n",
      "Parsing etcsri/Q001847\n",
      "etcsri/Q001847:Šu-Suen 2018\n",
      "Saving Output/etcsri_Q001847.txt\n",
      "\n",
      "Parsing etcsri/Q004355\n",
      "etcsri/Q004355:Šu-Suen 2019add\n",
      "Saving Output/etcsri_Q004355.txt\n",
      "\n",
      "Parsing etcsri/Q004356\n"
     ]
    },
    {
     "name": "stderr",
     "output_type": "stream",
     "text": [
      " 74%|███████▎  | 1052/1428 [01:30<00:24, 15.61it/s]"
     ]
    },
    {
     "name": "stdout",
     "output_type": "stream",
     "text": [
      "etcsri/Q004356:Šu-Suen 2020add\n",
      "Saving Output/etcsri_Q004356.txt\n",
      "\n",
      "Parsing etcsri/Q004357\n",
      "etcsri/Q004357:Šu-Suen 2021add\n",
      "Saving Output/etcsri_Q004357.txt\n",
      "\n",
      "Parsing etcsri/Q004358\n",
      "etcsri/Q004358:Šu-Suen 2022add\n",
      "Saving Output/etcsri_Q004358.txt\n",
      "\n",
      "Parsing etcsri/Q004359\n",
      "etcsri/Q004359:Šu-Suen 2023add\n",
      "Saving Output/etcsri_Q004359.txt\n",
      "\n",
      "Parsing etcsri/Q004360\n"
     ]
    },
    {
     "name": "stderr",
     "output_type": "stream",
     "text": [
      "\r",
      " 74%|███████▍  | 1054/1428 [01:30<00:25, 14.66it/s]"
     ]
    },
    {
     "name": "stdout",
     "output_type": "stream",
     "text": [
      "etcsri/Q004360:Šu-Suen 2024add\n",
      "Saving Output/etcsri_Q004360.txt\n",
      "\n",
      "Parsing etcsri/Q004361\n",
      "etcsri/Q004361:Šu-Suen 2025add\n",
      "Saving Output/etcsri_Q004361.txt\n",
      "\n",
      "Parsing etcsri/Q004362\n",
      "etcsri/Q004362:Šu-Suen 2026add\n",
      "Saving Output/etcsri_Q004362.txt\n",
      "\n",
      "Parsing etcsri/Q004363\n",
      "etcsri/Q004363:Šu-Suen 2027add\n"
     ]
    },
    {
     "name": "stderr",
     "output_type": "stream",
     "text": [
      " 74%|███████▍  | 1058/1428 [01:30<00:23, 15.68it/s]"
     ]
    },
    {
     "name": "stdout",
     "output_type": "stream",
     "text": [
      "Saving Output/etcsri_Q004363.txt\n",
      "\n",
      "Parsing etcsri/Q004364\n",
      "etcsri/Q004364:Šu-Suen 2028add\n",
      "Saving Output/etcsri_Q004364.txt\n",
      "\n",
      "Parsing etcsri/Q004365\n",
      "etcsri/Q004365:Šu-Suen 2029add\n",
      "Saving Output/etcsri_Q004365.txt\n",
      "\n",
      "Parsing etcsri/Q004366\n",
      "etcsri/Q004366:Šu-Suen 2030add\n",
      "Saving Output/etcsri_Q004366.txt\n",
      "\n",
      "Parsing etcsri/Q004367\n"
     ]
    },
    {
     "name": "stderr",
     "output_type": "stream",
     "text": [
      " 74%|███████▍  | 1062/1428 [01:30<00:22, 16.13it/s]"
     ]
    },
    {
     "name": "stdout",
     "output_type": "stream",
     "text": [
      "etcsri/Q004367:Šu-Suen 2031add\n",
      "Saving Output/etcsri_Q004367.txt\n",
      "\n",
      "Parsing etcsri/Q004368\n",
      "etcsri/Q004368:Šu-Suen 2032add\n",
      "Saving Output/etcsri_Q004368.txt\n",
      "\n",
      "Parsing etcsri/Q004369\n",
      "etcsri/Q004369:Šu-Suen 2033add\n",
      "Saving Output/etcsri_Q004369.txt\n",
      "\n",
      "Parsing etcsri/Q004370\n",
      "etcsri/Q004370:Šu-Suen 2034add\n",
      "Saving Output/etcsri_Q004370.txt\n",
      "\n",
      "Parsing etcsri/Q004371\n"
     ]
    },
    {
     "name": "stderr",
     "output_type": "stream",
     "text": [
      " 75%|███████▍  | 1067/1428 [01:31<00:21, 16.92it/s]"
     ]
    },
    {
     "name": "stdout",
     "output_type": "stream",
     "text": [
      "etcsri/Q004371:Šu-Suen 2035add\n",
      "Saving Output/etcsri_Q004371.txt\n",
      "\n",
      "Parsing etcsri/Q004372\n",
      "etcsri/Q004372:Šu-Suen 2036add\n",
      "Saving Output/etcsri_Q004372.txt\n",
      "\n",
      "Parsing etcsri/Q004373\n",
      "etcsri/Q004373:Šu-Suen 2037add\n",
      "Saving Output/etcsri_Q004373.txt\n",
      "\n",
      "Parsing etcsri/Q004374\n",
      "etcsri/Q004374:Šu-Suen 2038add\n",
      "Saving Output/etcsri_Q004374.txt\n",
      "\n",
      "Parsing etcsri/Q004375\n"
     ]
    },
    {
     "name": "stderr",
     "output_type": "stream",
     "text": [
      " 75%|███████▌  | 1071/1428 [01:31<00:20, 17.30it/s]"
     ]
    },
    {
     "name": "stdout",
     "output_type": "stream",
     "text": [
      "etcsri/Q004375:Šu-Suen 2039add\n",
      "Saving Output/etcsri_Q004375.txt\n",
      "\n",
      "Parsing etcsri/Q004376\n",
      "etcsri/Q004376:Šu-Suen 2040add\n",
      "Saving Output/etcsri_Q004376.txt\n",
      "\n",
      "Parsing etcsri/Q004377\n",
      "etcsri/Q004377:Šu-Suen 2041add\n",
      "Saving Output/etcsri_Q004377.txt\n",
      "\n",
      "Parsing etcsri/Q004378\n",
      "etcsri/Q004378:Šu-Suen 2042add\n",
      "Saving Output/etcsri_Q004378.txt\n",
      "\n",
      "Parsing etcsri/Q004379\n"
     ]
    },
    {
     "name": "stderr",
     "output_type": "stream",
     "text": [
      " 75%|███████▌  | 1075/1428 [01:31<00:20, 17.00it/s]"
     ]
    },
    {
     "name": "stdout",
     "output_type": "stream",
     "text": [
      "etcsri/Q004379:Šu-Suen 2043add\n",
      "Saving Output/etcsri_Q004379.txt\n",
      "\n",
      "Parsing etcsri/Q004380\n",
      "etcsri/Q004380:Šu-Suen 2044add\n",
      "Saving Output/etcsri_Q004380.txt\n",
      "\n",
      "Parsing etcsri/Q004381\n",
      "etcsri/Q004381:Šu-Suen 2046add\n",
      "Saving Output/etcsri_Q004381.txt\n",
      "\n",
      "Parsing etcsri/Q004382\n",
      "etcsri/Q004382:Šu-Suen 2047add\n",
      "Saving Output/etcsri_Q004382.txt\n",
      "\n"
     ]
    },
    {
     "name": "stderr",
     "output_type": "stream",
     "text": [
      "\r",
      " 75%|███████▌  | 1077/1428 [01:31<00:23, 14.75it/s]"
     ]
    },
    {
     "name": "stdout",
     "output_type": "stream",
     "text": [
      "Parsing etcsri/Q004383\n",
      "etcsri/Q004383:Šu-Suen 2048add\n",
      "Saving Output/etcsri_Q004383.txt\n",
      "\n",
      "Parsing etcsri/Q004384\n",
      "etcsri/Q004384:Šu-Suen 2049add\n",
      "Saving Output/etcsri_Q004384.txt\n",
      "\n",
      "Parsing etcsri/Q004385\n",
      "etcsri/Q004385:Šu-Suen 2050add\n"
     ]
    },
    {
     "name": "stderr",
     "output_type": "stream",
     "text": [
      " 76%|███████▌  | 1081/1428 [01:32<00:22, 15.34it/s]"
     ]
    },
    {
     "name": "stdout",
     "output_type": "stream",
     "text": [
      "Saving Output/etcsri_Q004385.txt\n",
      "\n",
      "Parsing etcsri/Q004386\n",
      "etcsri/Q004386:Šu-Suen 2051add\n",
      "Saving Output/etcsri_Q004386.txt\n",
      "\n",
      "Parsing etcsri/Q004387\n",
      "etcsri/Q004387:Šu-Suen 2052add\n",
      "Saving Output/etcsri_Q004387.txt\n",
      "\n",
      "Parsing etcsri/Q004388\n",
      "etcsri/Q004388:Šu-Suen 2053add\n",
      "Saving Output/etcsri_Q004388.txt\n",
      "\n",
      "Parsing etcsri/Q004389\n"
     ]
    },
    {
     "name": "stderr",
     "output_type": "stream",
     "text": [
      "\r",
      " 76%|███████▌  | 1084/1428 [01:32<00:20, 16.42it/s]"
     ]
    },
    {
     "name": "stdout",
     "output_type": "stream",
     "text": [
      "etcsri/Q004389:Šu-Suen 2054add\n",
      "Saving Output/etcsri_Q004389.txt\n",
      "\n",
      "Parsing etcsri/Q004390\n",
      "etcsri/Q004390:Šu-Suen 2055add\n",
      "Saving Output/etcsri_Q004390.txt\n",
      "\n",
      "Parsing etcsri/Q004391\n",
      "etcsri/Q004391:Šu-Suen 2056add\n",
      "Saving Output/etcsri_Q004391.txt\n",
      "\n",
      "Parsing etcsri/Q004392\n",
      "etcsri/Q004392:Šu-Suen 2058add\n",
      "Saving Output/etcsri_Q004392.txt\n",
      "\n",
      "Parsing etcsri/Q004393\n",
      "etcsri/Q004393:Šu-Suen 2059add\n"
     ]
    },
    {
     "name": "stderr",
     "output_type": "stream",
     "text": [
      " 76%|███████▌  | 1088/1428 [01:32<00:19, 17.11it/s]"
     ]
    },
    {
     "name": "stdout",
     "output_type": "stream",
     "text": [
      "Saving Output/etcsri_Q004393.txt\n",
      "\n",
      "Parsing etcsri/Q004394\n",
      "etcsri/Q004394:Šu-Suen 2060add\n",
      "Saving Output/etcsri_Q004394.txt\n",
      "\n",
      "Parsing etcsri/Q004395\n",
      "etcsri/Q004395:Šu-Suen 2061add\n",
      "Saving Output/etcsri_Q004395.txt\n",
      "\n",
      "Parsing etcsri/Q004396\n",
      "etcsri/Q004396:Šu-Suen 2062add\n",
      "Saving Output/etcsri_Q004396.txt\n",
      "\n",
      "Parsing etcsri/Q004397\n",
      "etcsri/Q004397:Šu-Suen 2063add\n"
     ]
    },
    {
     "name": "stderr",
     "output_type": "stream",
     "text": [
      " 76%|███████▋  | 1092/1428 [01:32<00:20, 16.20it/s]"
     ]
    },
    {
     "name": "stdout",
     "output_type": "stream",
     "text": [
      "Saving Output/etcsri_Q004397.txt\n",
      "\n",
      "Parsing etcsri/Q004398\n",
      "etcsri/Q004398:Šu-Suen 2065add\n",
      "Saving Output/etcsri_Q004398.txt\n",
      "\n",
      "Parsing etcsri/Q004399\n",
      "etcsri/Q004399:Šu-Suen 2066add\n",
      "Saving Output/etcsri_Q004399.txt\n",
      "\n",
      "Parsing etcsri/Q004400\n",
      "etcsri/Q004400:Šu-Suen 2067add\n",
      "Saving Output/etcsri_Q004400.txt\n",
      "\n"
     ]
    },
    {
     "name": "stderr",
     "output_type": "stream",
     "text": [
      "\r",
      " 77%|███████▋  | 1094/1428 [01:32<00:21, 15.72it/s]"
     ]
    },
    {
     "name": "stdout",
     "output_type": "stream",
     "text": [
      "Parsing etcsri/Q004401\n",
      "etcsri/Q004401:Šu-Suen 2068add\n",
      "Saving Output/etcsri_Q004401.txt\n",
      "\n",
      "Parsing etcsri/Q004402\n",
      "etcsri/Q004402:Šu-Suen 2069add\n",
      "Saving Output/etcsri_Q004402.txt\n",
      "\n",
      "Parsing etcsri/Q004403\n",
      "etcsri/Q004403:Šu-Suen 2070add\n"
     ]
    },
    {
     "name": "stderr",
     "output_type": "stream",
     "text": [
      " 77%|███████▋  | 1098/1428 [01:33<00:21, 15.18it/s]"
     ]
    },
    {
     "name": "stdout",
     "output_type": "stream",
     "text": [
      "Saving Output/etcsri_Q004403.txt\n",
      "\n",
      "Parsing etcsri/Q004404\n",
      "etcsri/Q004404:Šu-Suen 2071add\n",
      "Saving Output/etcsri_Q004404.txt\n",
      "\n",
      "Parsing etcsri/Q004405\n",
      "etcsri/Q004405:Šu-Suen 2072add\n",
      "Saving Output/etcsri_Q004405.txt\n",
      "\n",
      "Parsing etcsri/Q004406\n",
      "etcsri/Q004406:Šu-Suen 2073add\n",
      "Saving Output/etcsri_Q004406.txt\n",
      "\n",
      "Parsing etcsri/Q004407\n",
      "etcsri/Q004407:Šu-Suen 2074add\n"
     ]
    },
    {
     "name": "stderr",
     "output_type": "stream",
     "text": [
      " 77%|███████▋  | 1102/1428 [01:33<00:20, 16.16it/s]"
     ]
    },
    {
     "name": "stdout",
     "output_type": "stream",
     "text": [
      "Saving Output/etcsri_Q004407.txt\n",
      "\n",
      "Parsing etcsri/Q004408\n",
      "etcsri/Q004408:Šu-Suen 2075add\n",
      "Saving Output/etcsri_Q004408.txt\n",
      "\n",
      "Parsing etcsri/Q004409\n",
      "etcsri/Q004409:Šu-Suen 2076add\n",
      "Saving Output/etcsri_Q004409.txt\n",
      "\n",
      "Parsing etcsri/Q004410\n",
      "etcsri/Q004410:Šu-Suen 2077add\n",
      "Saving Output/etcsri_Q004410.txt\n",
      "\n",
      "Parsing etcsri/Q004411\n"
     ]
    },
    {
     "name": "stderr",
     "output_type": "stream",
     "text": [
      " 77%|███████▋  | 1106/1428 [01:33<00:18, 17.03it/s]"
     ]
    },
    {
     "name": "stdout",
     "output_type": "stream",
     "text": [
      "etcsri/Q004411:Šu-Suen 2078add\n",
      "Saving Output/etcsri_Q004411.txt\n",
      "\n",
      "Parsing etcsri/Q004412\n",
      "etcsri/Q004412:Šu-Suen 2079add\n",
      "Saving Output/etcsri_Q004412.txt\n",
      "\n",
      "Parsing etcsri/Q004413\n",
      "etcsri/Q004413:Šu-Suen 2080add\n",
      "Saving Output/etcsri_Q004413.txt\n",
      "\n",
      "Parsing etcsri/Q004414\n",
      "etcsri/Q004414:Šu-Suen 2081add\n",
      "Saving Output/etcsri_Q004414.txt\n",
      "\n"
     ]
    },
    {
     "name": "stderr",
     "output_type": "stream",
     "text": [
      " 78%|███████▊  | 1110/1428 [01:33<00:19, 16.16it/s]"
     ]
    },
    {
     "name": "stdout",
     "output_type": "stream",
     "text": [
      "Parsing etcsri/Q004415\n",
      "etcsri/Q004415:Šu-Suen 2082add\n",
      "Saving Output/etcsri_Q004415.txt\n",
      "\n",
      "Parsing etcsri/Q004416\n",
      "etcsri/Q004416:Šu-Suen 2083add\n",
      "Saving Output/etcsri_Q004416.txt\n",
      "\n",
      "Parsing etcsri/Q004417\n",
      "etcsri/Q004417:Šu-Suen 2084add\n",
      "Saving Output/etcsri_Q004417.txt\n",
      "\n",
      "Parsing etcsri/Q004418\n"
     ]
    },
    {
     "name": "stderr",
     "output_type": "stream",
     "text": [
      " 78%|███████▊  | 1114/1428 [01:34<00:19, 16.05it/s]"
     ]
    },
    {
     "name": "stdout",
     "output_type": "stream",
     "text": [
      "etcsri/Q004418:Šu-Suen 2085add\n",
      "Saving Output/etcsri_Q004418.txt\n",
      "\n",
      "Parsing etcsri/Q004419\n",
      "etcsri/Q004419:Šu-Suen 2086add\n",
      "Saving Output/etcsri_Q004419.txt\n",
      "\n",
      "Parsing etcsri/Q004420\n",
      "etcsri/Q004420:Šu-Suen 2087add\n",
      "Saving Output/etcsri_Q004420.txt\n",
      "\n",
      "Parsing etcsri/Q004421\n",
      "etcsri/Q004421:Šu-Suen 2088add\n",
      "Saving Output/etcsri_Q004421.txt\n",
      "\n"
     ]
    },
    {
     "name": "stderr",
     "output_type": "stream",
     "text": [
      " 78%|███████▊  | 1118/1428 [01:34<00:18, 16.78it/s]"
     ]
    },
    {
     "name": "stdout",
     "output_type": "stream",
     "text": [
      "Parsing etcsri/Q004422\n",
      "etcsri/Q004422:Šu-Suen 2089add\n",
      "Saving Output/etcsri_Q004422.txt\n",
      "\n",
      "Parsing etcsri/Q004423\n",
      "etcsri/Q004423:Šu-Suen 2090add\n",
      "Saving Output/etcsri_Q004423.txt\n",
      "\n",
      "Parsing etcsri/Q004424\n",
      "etcsri/Q004424:Šu-Suen 2091add\n",
      "Saving Output/etcsri_Q004424.txt\n",
      "\n",
      "Parsing etcsri/Q004425\n",
      "etcsri/Q004425:Šu-Suen 2092add\n",
      "Saving Output/etcsri_Q004425.txt\n",
      "\n"
     ]
    },
    {
     "name": "stderr",
     "output_type": "stream",
     "text": [
      "\r",
      " 78%|███████▊  | 1120/1428 [01:34<00:17, 17.26it/s]"
     ]
    },
    {
     "name": "stdout",
     "output_type": "stream",
     "text": [
      "Parsing etcsri/Q004426\n",
      "etcsri/Q004426:Šu-Suen 2093add\n",
      "Saving Output/etcsri_Q004426.txt\n",
      "\n",
      "Parsing etcsri/Q004427\n",
      "etcsri/Q004427:Šu-Suen 2094add\n",
      "Saving Output/etcsri_Q004427.txt\n",
      "\n",
      "Parsing etcsri/Q004428\n",
      "etcsri/Q004428:Šu-Suen 2095add\n",
      "Saving Output/etcsri_Q004428.txt\n",
      "\n",
      "Parsing etcsri/Q004429\n",
      "etcsri/Q004429:Šu-Suen 2096add\n"
     ]
    },
    {
     "name": "stderr",
     "output_type": "stream",
     "text": [
      " 79%|███████▊  | 1124/1428 [01:34<00:17, 16.96it/s]"
     ]
    },
    {
     "name": "stdout",
     "output_type": "stream",
     "text": [
      "Saving Output/etcsri_Q004429.txt\n",
      "\n",
      "Parsing etcsri/Q004430\n",
      "etcsri/Q004430:Šu-Suen 2097add\n",
      "Saving Output/etcsri_Q004430.txt\n",
      "\n",
      "Parsing etcsri/Q004431\n",
      "etcsri/Q004431:Šu-Suen 2098add\n",
      "Saving Output/etcsri_Q004431.txt\n",
      "\n",
      "Parsing etcsri/Q004432\n",
      "etcsri/Q004432:Šu-Suen 2099add\n",
      "Saving Output/etcsri_Q004432.txt\n",
      "\n",
      "Parsing etcsri/Q004433\n",
      "etcsri/Q004433:Šu-Suen 2100add\n"
     ]
    },
    {
     "name": "stderr",
     "output_type": "stream",
     "text": [
      " 79%|███████▉  | 1129/1428 [01:34<00:16, 17.95it/s]"
     ]
    },
    {
     "name": "stdout",
     "output_type": "stream",
     "text": [
      "Saving Output/etcsri_Q004433.txt\n",
      "\n",
      "Parsing etcsri/Q004434\n",
      "etcsri/Q004434:Šu-Suen 2101add\n",
      "Saving Output/etcsri_Q004434.txt\n",
      "\n",
      "Parsing etcsri/Q004435\n",
      "etcsri/Q004435:Šu-Suen 2102add\n",
      "Saving Output/etcsri_Q004435.txt\n",
      "\n",
      "Parsing etcsri/Q004436\n",
      "etcsri/Q004436:Šu-Suen 2103add\n",
      "Saving Output/etcsri_Q004436.txt\n",
      "\n",
      "Parsing etcsri/Q004437\n",
      "etcsri/Q004437:Šu-Suen 2104add\n"
     ]
    },
    {
     "name": "stderr",
     "output_type": "stream",
     "text": [
      " 79%|███████▉  | 1133/1428 [01:35<00:17, 17.13it/s]"
     ]
    },
    {
     "name": "stdout",
     "output_type": "stream",
     "text": [
      "Saving Output/etcsri_Q004437.txt\n",
      "\n",
      "Parsing etcsri/Q004438\n",
      "etcsri/Q004438:Šu-Suen 2105add\n",
      "Saving Output/etcsri_Q004438.txt\n",
      "\n",
      "Parsing etcsri/Q004439\n",
      "etcsri/Q004439:Šu-Suen 2106add\n",
      "Saving Output/etcsri_Q004439.txt\n",
      "\n",
      "Parsing etcsri/Q004440\n",
      "etcsri/Q004440:Šu-Suen 2107add\n",
      "Saving Output/etcsri_Q004440.txt\n",
      "\n",
      "Parsing etcsri/Q004441\n"
     ]
    },
    {
     "name": "stderr",
     "output_type": "stream",
     "text": [
      " 80%|███████▉  | 1137/1428 [01:35<00:17, 16.90it/s]"
     ]
    },
    {
     "name": "stdout",
     "output_type": "stream",
     "text": [
      "etcsri/Q004441:Šu-Suen 2108add\n",
      "Saving Output/etcsri_Q004441.txt\n",
      "\n",
      "Parsing etcsri/Q004442\n",
      "etcsri/Q004442:Šu-Suen 2109add\n",
      "Saving Output/etcsri_Q004442.txt\n",
      "\n",
      "Parsing etcsri/Q004443\n",
      "etcsri/Q004443:Šu-Suen 2110add\n",
      "Saving Output/etcsri_Q004443.txt\n",
      "\n",
      "Parsing etcsri/Q004444\n",
      "etcsri/Q004444:Šu-Suen 2111add\n",
      "Saving Output/etcsri_Q004444.txt\n",
      "\n"
     ]
    },
    {
     "name": "stderr",
     "output_type": "stream",
     "text": [
      " 80%|███████▉  | 1141/1428 [01:35<00:16, 17.58it/s]"
     ]
    },
    {
     "name": "stdout",
     "output_type": "stream",
     "text": [
      "Parsing etcsri/Q004445\n",
      "etcsri/Q004445:Šu-Suen 2112add\n",
      "Saving Output/etcsri_Q004445.txt\n",
      "\n",
      "Parsing etcsri/Q004446\n",
      "etcsri/Q004446:Šu-Suen 2113add\n",
      "Saving Output/etcsri_Q004446.txt\n",
      "\n",
      "Parsing etcsri/Q004447\n",
      "etcsri/Q004447:Šu-Suen 2114add\n",
      "Saving Output/etcsri_Q004447.txt\n",
      "\n",
      "Parsing etcsri/Q004448\n",
      "etcsri/Q004448:Šu-Suen 2115add\n",
      "Saving Output/etcsri_Q004448.txt\n",
      "\n",
      "Parsing etcsri/Q004900\n"
     ]
    },
    {
     "name": "stderr",
     "output_type": "stream",
     "text": [
      " 80%|████████  | 1145/1428 [01:35<00:16, 17.66it/s]"
     ]
    },
    {
     "name": "stdout",
     "output_type": "stream",
     "text": [
      "etcsri/Q004900:Šu-Suen 2116add\n",
      "Saving Output/etcsri_Q004900.txt\n",
      "\n",
      "Parsing etcsri/Q004901\n",
      "etcsri/Q004901:Šu-Suen 2117add\n",
      "Saving Output/etcsri_Q004901.txt\n",
      "\n",
      "Parsing etcsri/Q004902\n",
      "etcsri/Q004902:Šu-Suen 2118add\n",
      "Saving Output/etcsri_Q004902.txt\n",
      "\n",
      "Parsing etcsri/Q004903\n",
      "etcsri/Q004903:Šu-Suen 2119add\n",
      "Saving Output/etcsri_Q004903.txt\n",
      "\n",
      "Parsing etcsri/Q004904\n",
      "etcsri/Q004904:Šu-Suen 2120add\n"
     ]
    },
    {
     "name": "stderr",
     "output_type": "stream",
     "text": [
      " 80%|████████  | 1149/1428 [01:36<00:16, 17.02it/s]"
     ]
    },
    {
     "name": "stdout",
     "output_type": "stream",
     "text": [
      "Saving Output/etcsri_Q004904.txt\n",
      "\n",
      "Parsing etcsri/Q004905\n",
      "etcsri/Q004905:Šu-Suen 2121add\n",
      "Saving Output/etcsri_Q004905.txt\n",
      "\n",
      "Parsing etcsri/Q004906\n",
      "etcsri/Q004906:Šu-Suen 2122add\n",
      "Saving Output/etcsri_Q004906.txt\n",
      "\n",
      "Parsing etcsri/Q004907\n",
      "etcsri/Q004907:Šu-Suen 2123add\n",
      "Saving Output/etcsri_Q004907.txt\n",
      "\n",
      "Parsing etcsri/Q004908\n"
     ]
    },
    {
     "name": "stderr",
     "output_type": "stream",
     "text": [
      "\r",
      " 81%|████████  | 1151/1428 [01:36<00:16, 16.63it/s]"
     ]
    },
    {
     "name": "stdout",
     "output_type": "stream",
     "text": [
      "etcsri/Q004908:Šu-Suen 2124add\n",
      "Saving Output/etcsri_Q004908.txt\n",
      "\n",
      "Parsing etcsri/Q004909\n",
      "etcsri/Q004909:Šu-Suen 2125add\n",
      "Saving Output/etcsri_Q004909.txt\n",
      "\n",
      "Parsing etcsri/Q004910\n",
      "etcsri/Q004910:Šu-Suen 2126add\n",
      "Saving Output/etcsri_Q004910.txt\n",
      "\n",
      "Parsing etcsri/Q004911\n",
      "etcsri/Q004911:Šu-Suen 2127add\n",
      "Saving Output/etcsri_Q004911.txt\n",
      "\n",
      "Parsing etcsri/Q004912\n",
      "etcsri/Q004912:Šu-Suen 2128add\n",
      "Saving Output/etcsri_Q004912.txt\n",
      "\n"
     ]
    },
    {
     "name": "stderr",
     "output_type": "stream",
     "text": [
      " 81%|████████  | 1156/1428 [01:36<00:15, 17.12it/s]"
     ]
    },
    {
     "name": "stdout",
     "output_type": "stream",
     "text": [
      "Parsing etcsri/Q004913\n",
      "etcsri/Q004913:Šu-Suen 2129add\n",
      "Saving Output/etcsri_Q004913.txt\n",
      "\n",
      "Parsing etcsri/Q004914\n",
      "etcsri/Q004914:Šu-Suen 2130add\n",
      "Saving Output/etcsri_Q004914.txt\n",
      "\n",
      "Parsing etcsri/Q004915\n",
      "etcsri/Q004915:Šu-Suen 2131add\n",
      "Saving Output/etcsri_Q004915.txt\n",
      "\n",
      "Parsing etcsri/Q004916\n",
      "etcsri/Q004916:Šu-Suen 2132add\n"
     ]
    },
    {
     "name": "stderr",
     "output_type": "stream",
     "text": [
      " 81%|████████  | 1160/1428 [01:36<00:16, 16.63it/s]"
     ]
    },
    {
     "name": "stdout",
     "output_type": "stream",
     "text": [
      "Saving Output/etcsri_Q004916.txt\n",
      "\n",
      "Parsing etcsri/Q004917\n",
      "etcsri/Q004917:Šu-Suen 2133add\n",
      "Saving Output/etcsri_Q004917.txt\n",
      "\n",
      "Parsing etcsri/Q004918\n",
      "etcsri/Q004918:Šu-Suen 2134add\n",
      "Saving Output/etcsri_Q004918.txt\n",
      "\n",
      "Parsing etcsri/Q004919\n",
      "etcsri/Q004919:Šu-Suen 2135add\n",
      "Saving Output/etcsri_Q004919.txt\n",
      "\n",
      "Parsing etcsri/Q004920\n"
     ]
    },
    {
     "name": "stderr",
     "output_type": "stream",
     "text": [
      " 82%|████████▏ | 1164/1428 [01:36<00:16, 16.37it/s]"
     ]
    },
    {
     "name": "stdout",
     "output_type": "stream",
     "text": [
      "etcsri/Q004920:Šu-Suen 2136add\n",
      "Saving Output/etcsri_Q004920.txt\n",
      "\n",
      "Parsing etcsri/Q004921\n",
      "etcsri/Q004921:Šu-Suen 2137add\n",
      "Saving Output/etcsri_Q004921.txt\n",
      "\n",
      "Parsing etcsri/Q004922\n",
      "etcsri/Q004922:Šu-Suen 2138add\n",
      "Saving Output/etcsri_Q004922.txt\n",
      "\n",
      "Parsing etcsri/Q004923\n",
      "etcsri/Q004923:Šu-Suen 2139add\n",
      "Saving Output/etcsri_Q004923.txt\n",
      "\n",
      "Parsing etcsri/Q004924\n",
      "etcsri/Q004924:Šu-Suen 2140add\n"
     ]
    },
    {
     "name": "stderr",
     "output_type": "stream",
     "text": [
      " 82%|████████▏ | 1168/1428 [01:37<00:15, 17.23it/s]"
     ]
    },
    {
     "name": "stdout",
     "output_type": "stream",
     "text": [
      "Saving Output/etcsri_Q004924.txt\n",
      "\n",
      "Parsing etcsri/Q004925\n",
      "etcsri/Q004925:Šu-Suen 2141add\n",
      "Saving Output/etcsri_Q004925.txt\n",
      "\n",
      "Parsing etcsri/Q004926\n",
      "etcsri/Q004926:Šu-Suen 2142add\n",
      "Saving Output/etcsri_Q004926.txt\n",
      "\n",
      "Parsing etcsri/Q004927\n",
      "etcsri/Q004927:Šu-Suen 2143add\n",
      "Saving Output/etcsri_Q004927.txt\n",
      "\n",
      "Parsing etcsri/Q004928\n",
      "etcsri/Q004928:Šu-Suen 2144add\n"
     ]
    },
    {
     "name": "stderr",
     "output_type": "stream",
     "text": [
      " 82%|████████▏ | 1172/1428 [01:37<00:14, 17.40it/s]"
     ]
    },
    {
     "name": "stdout",
     "output_type": "stream",
     "text": [
      "Saving Output/etcsri_Q004928.txt\n",
      "\n",
      "Parsing etcsri/Q004929\n",
      "etcsri/Q004929:Šu-Suen 2145add\n",
      "Saving Output/etcsri_Q004929.txt\n",
      "\n",
      "Parsing etcsri/Q004930\n",
      "etcsri/Q004930:Šu-Suen 2146add\n",
      "Saving Output/etcsri_Q004930.txt\n",
      "\n",
      "Parsing etcsri/Q004931\n",
      "etcsri/Q004931:Šu-Suen 2147add\n",
      "Saving Output/etcsri_Q004931.txt\n",
      "\n",
      "Parsing etcsri/Q004932\n"
     ]
    },
    {
     "name": "stderr",
     "output_type": "stream",
     "text": [
      " 82%|████████▏ | 1176/1428 [01:37<00:15, 16.77it/s]"
     ]
    },
    {
     "name": "stdout",
     "output_type": "stream",
     "text": [
      "etcsri/Q004932:Šu-Suen 2148add\n",
      "Saving Output/etcsri_Q004932.txt\n",
      "\n",
      "Parsing etcsri/Q004933\n",
      "etcsri/Q004933:Šu-Suen 2149add\n",
      "Saving Output/etcsri_Q004933.txt\n",
      "\n",
      "Parsing etcsri/Q004934\n",
      "etcsri/Q004934:Šu-Suen 2150add\n",
      "Saving Output/etcsri_Q004934.txt\n",
      "\n",
      "Parsing etcsri/Q004935\n",
      "etcsri/Q004935:Šu-Suen 2152add\n",
      "Saving Output/etcsri_Q004935.txt\n",
      "\n",
      "Parsing etcsri/Q004936\n",
      "etcsri/Q004936:Šu-Suen 2153add\n"
     ]
    },
    {
     "name": "stderr",
     "output_type": "stream",
     "text": [
      "\r",
      " 83%|████████▎ | 1179/1428 [01:37<00:15, 15.94it/s]"
     ]
    },
    {
     "name": "stdout",
     "output_type": "stream",
     "text": [
      "Saving Output/etcsri_Q004936.txt\n",
      "\n",
      "Parsing etcsri/Q004937\n",
      "etcsri/Q004937:Šu-Suen 2154add\n",
      "Saving Output/etcsri_Q004937.txt\n",
      "\n",
      "Parsing etcsri/Q004938\n",
      "etcsri/Q004938:Šu-Suen 2155add\n",
      "Saving Output/etcsri_Q004938.txt\n",
      "\n",
      "Parsing etcsri/Q004939\n",
      "etcsri/Q004939:Šu-Suen 2156add\n"
     ]
    },
    {
     "name": "stderr",
     "output_type": "stream",
     "text": [
      " 83%|████████▎ | 1183/1428 [01:38<00:15, 16.08it/s]"
     ]
    },
    {
     "name": "stdout",
     "output_type": "stream",
     "text": [
      "Saving Output/etcsri_Q004939.txt\n",
      "\n",
      "Parsing etcsri/Q004940\n",
      "etcsri/Q004940:Šu-Suen 2157add\n",
      "Saving Output/etcsri_Q004940.txt\n",
      "\n",
      "Parsing etcsri/Q004941\n",
      "etcsri/Q004941:Šu-Suen 2159add\n",
      "Saving Output/etcsri_Q004941.txt\n",
      "\n",
      "Parsing etcsri/Q004942\n",
      "etcsri/Q004942:Šu-Suen 2160add\n",
      "Saving Output/etcsri_Q004942.txt\n",
      "\n",
      "Parsing etcsri/Q004943\n",
      "etcsri/Q004943:Šu-Suen 2161add\n"
     ]
    },
    {
     "name": "stderr",
     "output_type": "stream",
     "text": [
      " 83%|████████▎ | 1188/1428 [01:38<00:14, 16.87it/s]"
     ]
    },
    {
     "name": "stdout",
     "output_type": "stream",
     "text": [
      "Saving Output/etcsri_Q004943.txt\n",
      "\n",
      "Parsing etcsri/Q004944\n",
      "etcsri/Q004944:Šu-Suen 2162add\n",
      "Saving Output/etcsri_Q004944.txt\n",
      "\n",
      "Parsing etcsri/Q004945\n",
      "etcsri/Q004945:Šu-Suen 2163add\n",
      "Saving Output/etcsri_Q004945.txt\n",
      "\n",
      "Parsing etcsri/Q004946\n",
      "etcsri/Q004946:Šu-Suen 2164add\n",
      "Saving Output/etcsri_Q004946.txt\n",
      "\n",
      "Parsing etcsri/Q004947\n"
     ]
    },
    {
     "name": "stderr",
     "output_type": "stream",
     "text": [
      " 83%|████████▎ | 1192/1428 [01:38<00:14, 16.79it/s]"
     ]
    },
    {
     "name": "stdout",
     "output_type": "stream",
     "text": [
      "etcsri/Q004947:Šu-Suen 2166add\n",
      "Saving Output/etcsri_Q004947.txt\n",
      "\n",
      "Parsing etcsri/Q004948\n",
      "etcsri/Q004948:Šu-Suen 2167add\n",
      "Saving Output/etcsri_Q004948.txt\n",
      "\n",
      "Parsing etcsri/Q004949\n",
      "etcsri/Q004949:Šu-Suen 2168add\n",
      "Saving Output/etcsri_Q004949.txt\n",
      "\n",
      "Parsing etcsri/Q004950\n",
      "etcsri/Q004950:Šu-Suen 2169add\n",
      "Saving Output/etcsri_Q004950.txt\n",
      "\n"
     ]
    },
    {
     "name": "stderr",
     "output_type": "stream",
     "text": [
      "\r",
      " 84%|████████▎ | 1194/1428 [01:38<00:14, 16.25it/s]"
     ]
    },
    {
     "name": "stdout",
     "output_type": "stream",
     "text": [
      "Parsing etcsri/Q004951\n",
      "etcsri/Q004951:Šu-Suen 2170add\n",
      "Saving Output/etcsri_Q004951.txt\n",
      "\n",
      "Parsing etcsri/X002171\n",
      "etcsri/X002171:Šu-Suen 2171add\n",
      "Saving Output/etcsri_X002171.txt\n",
      "\n",
      "Parsing etcsri/X002172\n",
      "etcsri/X002172:Šu-Suen 2172add\n",
      "Saving Output/etcsri_X002172.txt\n",
      "\n",
      "Parsing etcsri/Q001005\n"
     ]
    },
    {
     "name": "stderr",
     "output_type": "stream",
     "text": [
      "\r",
      " 84%|████████▍ | 1196/1428 [01:38<00:17, 13.11it/s]"
     ]
    },
    {
     "name": "stdout",
     "output_type": "stream",
     "text": [
      "etcsri/Q001005:Ibbi-Suen 01\n",
      "Saving Output/etcsri_Q001005.txt\n",
      "\n",
      "Parsing etcsri/Q001849\n",
      "etcsri/Q001849:Ibbi-Suen 02\n"
     ]
    },
    {
     "name": "stderr",
     "output_type": "stream",
     "text": [
      "\r",
      " 84%|████████▍ | 1198/1428 [01:39<00:23,  9.69it/s]"
     ]
    },
    {
     "name": "stdout",
     "output_type": "stream",
     "text": [
      "Saving Output/etcsri_Q001849.txt\n",
      "\n",
      "Parsing etcsri/Q001851\n",
      "etcsri/Q001851:Ibbi-Suen 04\n",
      "Saving Output/etcsri_Q001851.txt\n",
      "\n",
      "Parsing etcsri/Q001852\n",
      "etcsri/Q001852:Ibbi-Suen 05\n",
      "Saving Output/etcsri_Q001852.txt\n",
      "\n",
      "Parsing etcsri/Q001853\n"
     ]
    },
    {
     "name": "stderr",
     "output_type": "stream",
     "text": [
      " 84%|████████▍ | 1202/1428 [01:39<00:18, 12.19it/s]"
     ]
    },
    {
     "name": "stdout",
     "output_type": "stream",
     "text": [
      "etcsri/Q001853:Ibbi-Suen 06\n",
      "Saving Output/etcsri_Q001853.txt\n",
      "\n",
      "Parsing etcsri/Q001854\n",
      "etcsri/Q001854:Ibbi-Suen 07\n",
      "Saving Output/etcsri_Q001854.txt\n",
      "\n",
      "Parsing etcsri/Q001855\n",
      "etcsri/Q001855:Ibbi-Suen 08\n",
      "Saving Output/etcsri_Q001855.txt\n",
      "\n",
      "Parsing etcsri/Q001856\n",
      "etcsri/Q001856:Ibbi-Suen 2001\n",
      "Saving Output/etcsri_Q001856.txt\n",
      "\n",
      "Parsing etcsri/Q001857\n"
     ]
    },
    {
     "name": "stderr",
     "output_type": "stream",
     "text": [
      " 84%|████████▍ | 1206/1428 [01:39<00:15, 14.28it/s]"
     ]
    },
    {
     "name": "stdout",
     "output_type": "stream",
     "text": [
      "etcsri/Q001857:Ibbi-Suen 2002\n",
      "Saving Output/etcsri_Q001857.txt\n",
      "\n",
      "Parsing etcsri/Q001858\n",
      "etcsri/Q001858:Ibbi-Suen 2003\n",
      "Saving Output/etcsri_Q001858.txt\n",
      "\n",
      "Parsing etcsri/Q001859\n",
      "etcsri/Q001859:Ibbi-Suen 2004\n",
      "Saving Output/etcsri_Q001859.txt\n",
      "\n",
      "Parsing etcsri/Q001860\n",
      "etcsri/Q001860:Ibbi-Suen 2005\n"
     ]
    },
    {
     "name": "stderr",
     "output_type": "stream",
     "text": [
      " 85%|████████▍ | 1210/1428 [01:40<00:15, 14.17it/s]"
     ]
    },
    {
     "name": "stdout",
     "output_type": "stream",
     "text": [
      "Saving Output/etcsri_Q001860.txt\n",
      "\n",
      "Parsing etcsri/Q001006\n",
      "etcsri/Q001006:Ibbi-Suen 2006\n",
      "Saving Output/etcsri_Q001006.txt\n",
      "\n",
      "Parsing etcsri/Q001861\n",
      "etcsri/Q001861:Ibbi-Suen 2007\n",
      "Saving Output/etcsri_Q001861.txt\n",
      "\n",
      "Parsing etcsri/Q001862\n",
      "etcsri/Q001862:Ibbi-Suen 2008\n",
      "Saving Output/etcsri_Q001862.txt\n",
      "\n"
     ]
    },
    {
     "name": "stderr",
     "output_type": "stream",
     "text": [
      "\r",
      " 85%|████████▍ | 1213/1428 [01:40<00:13, 16.08it/s]"
     ]
    },
    {
     "name": "stdout",
     "output_type": "stream",
     "text": [
      "Parsing etcsri/Q001863\n",
      "etcsri/Q001863:Ibbi-Suen 2009\n",
      "Saving Output/etcsri_Q001863.txt\n",
      "\n",
      "Parsing etcsri/Q001864\n",
      "etcsri/Q001864:Ibbi-Suen 2010\n",
      "Saving Output/etcsri_Q001864.txt\n",
      "\n",
      "Parsing etcsri/Q001865\n",
      "etcsri/Q001865:Ibbi-Suen 2011\n",
      "Saving Output/etcsri_Q001865.txt\n",
      "\n",
      "Parsing etcsri/Q001866\n",
      "etcsri/Q001866:Ibbi-Suen 2012\n",
      "Saving Output/etcsri_Q001866.txt\n",
      "\n",
      "Parsing etcsri/Q001867\n",
      "etcsri/Q001867:Ibbi-Suen 2013\n"
     ]
    },
    {
     "name": "stderr",
     "output_type": "stream",
     "text": [
      " 85%|████████▌ | 1217/1428 [01:40<00:13, 16.02it/s]"
     ]
    },
    {
     "name": "stdout",
     "output_type": "stream",
     "text": [
      "Saving Output/etcsri_Q001867.txt\n",
      "\n",
      "Parsing etcsri/Q001868\n",
      "etcsri/Q001868:Sin-abušu seal\n",
      "Saving Output/etcsri_Q001868.txt\n",
      "\n",
      "Parsing etcsri/Q001869\n",
      "etcsri/Q001869:Ibbi-Suen 2014\n",
      "Saving Output/etcsri_Q001869.txt\n",
      "\n",
      "Parsing etcsri/Q001870\n",
      "etcsri/Q001870:Ibbi-Suen 2015\n",
      "Saving Output/etcsri_Q001870.txt\n",
      "\n",
      "Parsing etcsri/Q001871\n",
      "etcsri/Q001871:Ibbi-Suen 2016\n"
     ]
    },
    {
     "name": "stderr",
     "output_type": "stream",
     "text": [
      " 86%|████████▌ | 1221/1428 [01:40<00:11, 17.80it/s]"
     ]
    },
    {
     "name": "stdout",
     "output_type": "stream",
     "text": [
      "Saving Output/etcsri_Q001871.txt\n",
      "\n",
      "Parsing etcsri/Q004952\n",
      "etcsri/Q004952:Ibbi-Suen 2017add\n",
      "Saving Output/etcsri_Q004952.txt\n",
      "\n",
      "Parsing etcsri/Q004953\n",
      "etcsri/Q004953:Ibbi-Suen 2018add\n",
      "Saving Output/etcsri_Q004953.txt\n",
      "\n",
      "Parsing etcsri/Q004954\n",
      "etcsri/Q004954:Ibbi-Suen 2019add\n",
      "Saving Output/etcsri_Q004954.txt\n",
      "\n",
      "Parsing etcsri/Q004955\n",
      "etcsri/Q004955:Ibbi-Suen 2020add\n"
     ]
    },
    {
     "name": "stderr",
     "output_type": "stream",
     "text": [
      " 86%|████████▌ | 1225/1428 [01:40<00:11, 17.72it/s]"
     ]
    },
    {
     "name": "stdout",
     "output_type": "stream",
     "text": [
      "Saving Output/etcsri_Q004955.txt\n",
      "\n",
      "Parsing etcsri/Q004956\n",
      "etcsri/Q004956:Ibbi-Suen 2021add\n",
      "Saving Output/etcsri_Q004956.txt\n",
      "\n",
      "Parsing etcsri/Q004957\n",
      "etcsri/Q004957:Ibbi-Suen 2022add\n",
      "Saving Output/etcsri_Q004957.txt\n",
      "\n",
      "Parsing etcsri/Q004958\n",
      "etcsri/Q004958:Ibbi-Suen 2023add\n",
      "Saving Output/etcsri_Q004958.txt\n",
      "\n",
      "Parsing etcsri/Q004959\n",
      "etcsri/Q004959:Ibbi-Suen 2024add\n"
     ]
    },
    {
     "name": "stderr",
     "output_type": "stream",
     "text": [
      " 86%|████████▌ | 1229/1428 [01:41<00:11, 17.34it/s]"
     ]
    },
    {
     "name": "stdout",
     "output_type": "stream",
     "text": [
      "Saving Output/etcsri_Q004959.txt\n",
      "\n",
      "Parsing etcsri/Q004960\n",
      "etcsri/Q004960:Ibbi-Suen 2025add\n",
      "Saving Output/etcsri_Q004960.txt\n",
      "\n",
      "Parsing etcsri/Q004961\n",
      "etcsri/Q004961:Ibbi-Suen 2026add\n",
      "Saving Output/etcsri_Q004961.txt\n",
      "\n",
      "Parsing etcsri/Q004962\n",
      "etcsri/Q004962:Ibbi-Suen 2027add\n",
      "Saving Output/etcsri_Q004962.txt\n",
      "\n",
      "Parsing etcsri/Q004963\n",
      "etcsri/Q004963:Ibbi-Suen 2029add\n"
     ]
    },
    {
     "name": "stderr",
     "output_type": "stream",
     "text": [
      " 86%|████████▋ | 1233/1428 [01:41<00:11, 17.43it/s]"
     ]
    },
    {
     "name": "stdout",
     "output_type": "stream",
     "text": [
      "Saving Output/etcsri_Q004963.txt\n",
      "\n",
      "Parsing etcsri/Q004964\n",
      "etcsri/Q004964:Ibbi-Suen 2030add\n",
      "Saving Output/etcsri_Q004964.txt\n",
      "\n",
      "Parsing etcsri/Q004965\n",
      "etcsri/Q004965:Ibbi-Suen 2031add\n",
      "Saving Output/etcsri_Q004965.txt\n",
      "\n",
      "Parsing etcsri/Q004966\n",
      "etcsri/Q004966:Ibbi-Suen 2032add\n",
      "Saving Output/etcsri_Q004966.txt\n",
      "\n"
     ]
    },
    {
     "name": "stderr",
     "output_type": "stream",
     "text": [
      " 87%|████████▋ | 1237/1428 [01:41<00:11, 16.20it/s]"
     ]
    },
    {
     "name": "stdout",
     "output_type": "stream",
     "text": [
      "Parsing etcsri/Q004967\n",
      "etcsri/Q004967:Ibbi-Suen 2033add\n",
      "Saving Output/etcsri_Q004967.txt\n",
      "\n",
      "Parsing etcsri/Q004968\n",
      "etcsri/Q004968:Ibbi-Suen 2034add\n",
      "Saving Output/etcsri_Q004968.txt\n",
      "\n",
      "Parsing etcsri/Q004969\n",
      "etcsri/Q004969:Ibbi-Suen 2035add\n",
      "Saving Output/etcsri_Q004969.txt\n",
      "\n",
      "Parsing etcsri/Q004970\n"
     ]
    },
    {
     "name": "stderr",
     "output_type": "stream",
     "text": [
      " 87%|████████▋ | 1241/1428 [01:41<00:11, 16.06it/s]"
     ]
    },
    {
     "name": "stdout",
     "output_type": "stream",
     "text": [
      "etcsri/Q004970:Ibbi-Suen 2036add\n",
      "Saving Output/etcsri_Q004970.txt\n",
      "\n",
      "Parsing etcsri/Q004971\n",
      "etcsri/Q004971:Ibbi-Suen 2037add\n",
      "Saving Output/etcsri_Q004971.txt\n",
      "\n",
      "Parsing etcsri/Q004972\n",
      "etcsri/Q004972:Ibbi-Suen 2038add\n",
      "Saving Output/etcsri_Q004972.txt\n",
      "\n",
      "Parsing etcsri/Q004973\n",
      "etcsri/Q004973:Ibbi-Suen 2039add\n",
      "Saving Output/etcsri_Q004973.txt\n",
      "\n",
      "Parsing etcsri/Q004974\n"
     ]
    },
    {
     "name": "stderr",
     "output_type": "stream",
     "text": [
      " 87%|████████▋ | 1245/1428 [01:42<00:11, 16.42it/s]"
     ]
    },
    {
     "name": "stdout",
     "output_type": "stream",
     "text": [
      "etcsri/Q004974:Ibbi-Suen 2040add\n",
      "Saving Output/etcsri_Q004974.txt\n",
      "\n",
      "Parsing etcsri/Q004975\n",
      "etcsri/Q004975:Ibbi-Suen 2041add\n",
      "Saving Output/etcsri_Q004975.txt\n",
      "\n",
      "Parsing etcsri/Q004976\n",
      "etcsri/Q004976:Ibbi-Suen 2042add\n",
      "Saving Output/etcsri_Q004976.txt\n",
      "\n",
      "Parsing etcsri/Q004977\n",
      "etcsri/Q004977:Ibbi-Suen 2043add\n",
      "Saving Output/etcsri_Q004977.txt\n",
      "\n"
     ]
    },
    {
     "name": "stderr",
     "output_type": "stream",
     "text": [
      "\r",
      " 87%|████████▋ | 1247/1428 [01:42<00:10, 16.60it/s]"
     ]
    },
    {
     "name": "stdout",
     "output_type": "stream",
     "text": [
      "Parsing etcsri/Q004978\n",
      "etcsri/Q004978:Ibbi-Suen 2044add\n",
      "Saving Output/etcsri_Q004978.txt\n",
      "\n",
      "Parsing etcsri/Q004979\n",
      "etcsri/Q004979:Ibbi-Suen 2045add\n",
      "Saving Output/etcsri_Q004979.txt\n",
      "\n",
      "Parsing etcsri/Q004980\n",
      "etcsri/Q004980:Ibbi-Suen 2046add\n",
      "Saving Output/etcsri_Q004980.txt\n",
      "\n",
      "Parsing etcsri/Q004981\n"
     ]
    },
    {
     "name": "stderr",
     "output_type": "stream",
     "text": [
      " 88%|████████▊ | 1251/1428 [01:42<00:11, 15.70it/s]"
     ]
    },
    {
     "name": "stdout",
     "output_type": "stream",
     "text": [
      "etcsri/Q004981:Ibbi-Suen 2047add\n",
      "Saving Output/etcsri_Q004981.txt\n",
      "\n",
      "Parsing etcsri/Q004982\n",
      "etcsri/Q004982:Ibbi-Suen 2048add\n",
      "Saving Output/etcsri_Q004982.txt\n",
      "\n",
      "Parsing etcsri/Q004983\n",
      "etcsri/Q004983:Ibbi-Suen 2049add\n",
      "Saving Output/etcsri_Q004983.txt\n",
      "\n",
      "Parsing etcsri/Q004984\n",
      "etcsri/Q004984:Ibbi-Suen 2050add\n"
     ]
    },
    {
     "name": "stderr",
     "output_type": "stream",
     "text": [
      " 88%|████████▊ | 1255/1428 [01:42<00:10, 16.44it/s]"
     ]
    },
    {
     "name": "stdout",
     "output_type": "stream",
     "text": [
      "Saving Output/etcsri_Q004984.txt\n",
      "\n",
      "Parsing etcsri/Q004985\n",
      "etcsri/Q004985:Ibbi-Suen 2051add\n",
      "Saving Output/etcsri_Q004985.txt\n",
      "\n",
      "Parsing etcsri/Q004986\n",
      "etcsri/Q004986:Ibbi-Suen 2052add\n",
      "Saving Output/etcsri_Q004986.txt\n",
      "\n",
      "Parsing etcsri/Q004987\n",
      "etcsri/Q004987:Ibbi-Suen 2053add\n",
      "Saving Output/etcsri_Q004987.txt\n",
      "\n",
      "Parsing etcsri/Q004988\n"
     ]
    },
    {
     "name": "stderr",
     "output_type": "stream",
     "text": [
      "\r",
      " 88%|████████▊ | 1257/1428 [01:42<00:12, 14.05it/s]"
     ]
    },
    {
     "name": "stdout",
     "output_type": "stream",
     "text": [
      "etcsri/Q004988:Ibbi-Suen 2054add\n",
      "Saving Output/etcsri_Q004988.txt\n",
      "\n",
      "Parsing etcsri/Q004989\n",
      "etcsri/Q004989:Ibbi-Suen 2055add\n",
      "Saving Output/etcsri_Q004989.txt\n",
      "\n",
      "Parsing etcsri/Q004990\n",
      "etcsri/Q004990:Ibbi-Suen 2056add\n",
      "Saving Output/etcsri_Q004990.txt\n",
      "\n"
     ]
    },
    {
     "name": "stderr",
     "output_type": "stream",
     "text": [
      " 88%|████████▊ | 1261/1428 [01:43<00:11, 14.89it/s]"
     ]
    },
    {
     "name": "stdout",
     "output_type": "stream",
     "text": [
      "Parsing etcsri/Q004991\n",
      "etcsri/Q004991:Ibbi-Suen 2057add\n",
      "Saving Output/etcsri_Q004991.txt\n",
      "\n",
      "Parsing etcsri/Q004992\n",
      "etcsri/Q004992:Ibbi-Suen 2058add\n",
      "Saving Output/etcsri_Q004992.txt\n",
      "\n",
      "Parsing etcsri/Q004993\n",
      "etcsri/Q004993:Ibbi-Suen 2059add\n",
      "Saving Output/etcsri_Q004993.txt\n",
      "\n",
      "Parsing etcsri/Q004994\n"
     ]
    },
    {
     "name": "stderr",
     "output_type": "stream",
     "text": [
      "\r",
      " 88%|████████▊ | 1263/1428 [01:43<00:11, 14.97it/s]"
     ]
    },
    {
     "name": "stdout",
     "output_type": "stream",
     "text": [
      "etcsri/Q004994:Ibbi-Suen 2063add\n",
      "Saving Output/etcsri_Q004994.txt\n",
      "\n",
      "Parsing etcsri/Q004995\n",
      "etcsri/Q004995:Ibbi-Suen 2064add\n",
      "Saving Output/etcsri_Q004995.txt\n",
      "\n",
      "Parsing etcsri/Q004996\n",
      "etcsri/Q004996:Ibbi-Suen 2066add\n",
      "Saving Output/etcsri_Q004996.txt\n",
      "\n",
      "Parsing etcsri/Q004997\n",
      "etcsri/Q004997:Ibbi-Suen 2067add\n"
     ]
    },
    {
     "name": "stderr",
     "output_type": "stream",
     "text": [
      " 89%|████████▊ | 1267/1428 [01:43<00:10, 14.94it/s]"
     ]
    },
    {
     "name": "stdout",
     "output_type": "stream",
     "text": [
      "Saving Output/etcsri_Q004997.txt\n",
      "\n",
      "Parsing etcsri/Q004998\n",
      "etcsri/Q004998:Ibbi-Suen 2068add\n",
      "Saving Output/etcsri_Q004998.txt\n",
      "\n",
      "Parsing etcsri/Q004999\n",
      "etcsri/Q004999:Ibbi-Suen 2069add\n",
      "Saving Output/etcsri_Q004999.txt\n",
      "\n",
      "Parsing etcsri/Q005000\n",
      "etcsri/Q005000:Ibbi-Suen 2070add\n",
      "Saving Output/etcsri_Q005000.txt\n",
      "\n"
     ]
    },
    {
     "name": "stderr",
     "output_type": "stream",
     "text": [
      " 89%|████████▉ | 1271/1428 [01:43<00:10, 15.61it/s]"
     ]
    },
    {
     "name": "stdout",
     "output_type": "stream",
     "text": [
      "Parsing etcsri/Q005001\n",
      "etcsri/Q005001:Ibbi-Suen 2071add\n",
      "Saving Output/etcsri_Q005001.txt\n",
      "\n",
      "Parsing etcsri/Q005002\n",
      "etcsri/Q005002:Ibbi-Suen 2072add\n",
      "Saving Output/etcsri_Q005002.txt\n",
      "\n",
      "Parsing etcsri/Q005003\n",
      "etcsri/Q005003:Ibbi-Suen 2073add\n",
      "Saving Output/etcsri_Q005003.txt\n",
      "\n",
      "Parsing etcsri/Q005004\n",
      "etcsri/Q005004:Ibbi-Suen 2074add\n"
     ]
    },
    {
     "name": "stderr",
     "output_type": "stream",
     "text": [
      " 89%|████████▉ | 1275/1428 [01:44<00:09, 16.26it/s]"
     ]
    },
    {
     "name": "stdout",
     "output_type": "stream",
     "text": [
      "Saving Output/etcsri_Q005004.txt\n",
      "\n",
      "Parsing etcsri/Q005005\n",
      "etcsri/Q005005:Ibbi-Suen 2075add\n",
      "Saving Output/etcsri_Q005005.txt\n",
      "\n",
      "Parsing etcsri/Q005006\n",
      "etcsri/Q005006:Ibbi-Suen 2076add\n",
      "Saving Output/etcsri_Q005006.txt\n",
      "\n",
      "Parsing etcsri/Q005007\n",
      "etcsri/Q005007:Ibbi-Suen 2077add\n",
      "Saving Output/etcsri_Q005007.txt\n",
      "\n",
      "Parsing etcsri/Q005008\n",
      "etcsri/Q005008:Ibbi-Suen 2078add\n"
     ]
    },
    {
     "name": "stderr",
     "output_type": "stream",
     "text": [
      " 90%|████████▉ | 1279/1428 [01:44<00:09, 16.42it/s]"
     ]
    },
    {
     "name": "stdout",
     "output_type": "stream",
     "text": [
      "Saving Output/etcsri_Q005008.txt\n",
      "\n",
      "Parsing etcsri/Q005009\n",
      "etcsri/Q005009:Ibbi-Suen 2079add\n",
      "Saving Output/etcsri_Q005009.txt\n",
      "\n",
      "Parsing etcsri/Q005010\n",
      "etcsri/Q005010:Ibbi-Suen 2080add\n",
      "Saving Output/etcsri_Q005010.txt\n",
      "\n",
      "Parsing etcsri/Q005011\n",
      "etcsri/Q005011:Ibbi-Suen 2081add\n",
      "Saving Output/etcsri_Q005011.txt\n",
      "\n",
      "Parsing etcsri/Q005012\n"
     ]
    },
    {
     "name": "stderr",
     "output_type": "stream",
     "text": [
      " 90%|████████▉ | 1283/1428 [01:44<00:08, 16.62it/s]"
     ]
    },
    {
     "name": "stdout",
     "output_type": "stream",
     "text": [
      "etcsri/Q005012:Ibbi-Suen 2083add\n",
      "Saving Output/etcsri_Q005012.txt\n",
      "\n",
      "Parsing etcsri/Q005013\n",
      "etcsri/Q005013:Ibbi-Suen 2084add\n",
      "Saving Output/etcsri_Q005013.txt\n",
      "\n",
      "Parsing etcsri/Q005014\n",
      "etcsri/Q005014:Ibbi-Suen 2085add\n",
      "Saving Output/etcsri_Q005014.txt\n",
      "\n",
      "Parsing etcsri/Q005015\n",
      "etcsri/Q005015:Ibbi-Suen 2086add\n",
      "Saving Output/etcsri_Q005015.txt\n",
      "\n"
     ]
    },
    {
     "name": "stderr",
     "output_type": "stream",
     "text": [
      "\r",
      " 90%|████████▉ | 1285/1428 [01:44<00:08, 16.68it/s]"
     ]
    },
    {
     "name": "stdout",
     "output_type": "stream",
     "text": [
      "Parsing etcsri/Q005016\n",
      "etcsri/Q005016:Ibbi-Suen 2087add\n",
      "Saving Output/etcsri_Q005016.txt\n",
      "\n",
      "Parsing etcsri/Q005017\n",
      "etcsri/Q005017:Ibbi-Suen 2090add\n",
      "Saving Output/etcsri_Q005017.txt\n",
      "\n",
      "Parsing etcsri/Q005018\n",
      "etcsri/Q005018:Ibbi-Suen 2091add\n",
      "Saving Output/etcsri_Q005018.txt\n",
      "\n",
      "Parsing etcsri/Q005019\n",
      "etcsri/Q005019:Ibbi-Suen 2092add\n"
     ]
    },
    {
     "name": "stderr",
     "output_type": "stream",
     "text": [
      " 90%|█████████ | 1289/1428 [01:44<00:08, 15.71it/s]"
     ]
    },
    {
     "name": "stdout",
     "output_type": "stream",
     "text": [
      "Saving Output/etcsri_Q005019.txt\n",
      "\n",
      "Parsing etcsri/Q005020\n",
      "etcsri/Q005020:Ibbi-Suen 2093add\n",
      "Saving Output/etcsri_Q005020.txt\n",
      "\n",
      "Parsing etcsri/Q005021\n",
      "etcsri/Q005021:Ibbi-Suen 2094add\n",
      "Saving Output/etcsri_Q005021.txt\n",
      "\n",
      "Parsing etcsri/Q005022\n",
      "etcsri/Q005022:Ibbi-Suen 2095add\n",
      "Saving Output/etcsri_Q005022.txt\n",
      "\n"
     ]
    },
    {
     "name": "stderr",
     "output_type": "stream",
     "text": [
      " 91%|█████████ | 1293/1428 [01:45<00:08, 16.21it/s]"
     ]
    },
    {
     "name": "stdout",
     "output_type": "stream",
     "text": [
      "Parsing etcsri/Q005023\n",
      "etcsri/Q005023:Ibbi-Suen 2096add\n",
      "Saving Output/etcsri_Q005023.txt\n",
      "\n",
      "Parsing etcsri/Q005024\n",
      "etcsri/Q005024:Ibbi-Suen 2097add\n",
      "Saving Output/etcsri_Q005024.txt\n",
      "\n",
      "Parsing etcsri/Q005025\n",
      "etcsri/Q005025:Ibbi-Suen 2099add\n",
      "Saving Output/etcsri_Q005025.txt\n",
      "\n",
      "Parsing etcsri/Q005026\n",
      "etcsri/Q005026:Ibbi-Suen 2100add\n"
     ]
    },
    {
     "name": "stderr",
     "output_type": "stream",
     "text": [
      " 91%|█████████ | 1298/1428 [01:45<00:07, 17.81it/s]"
     ]
    },
    {
     "name": "stdout",
     "output_type": "stream",
     "text": [
      "Saving Output/etcsri_Q005026.txt\n",
      "\n",
      "Parsing etcsri/Q005027\n",
      "etcsri/Q005027:Ibbi-Suen 2101add\n",
      "Saving Output/etcsri_Q005027.txt\n",
      "\n",
      "Parsing etcsri/Q005028\n",
      "etcsri/Q005028:Ibbi-Suen 2102add\n",
      "Saving Output/etcsri_Q005028.txt\n",
      "\n",
      "Parsing etcsri/Q001872\n",
      "etcsri/Q001872:Unattributed Ur III 1001\n",
      "Saving Output/etcsri_Q001872.txt\n",
      "\n",
      "Parsing etcsri/Q001873\n",
      "etcsri/Q001873:Unattributed Ur III 1002\n",
      "Saving Output/etcsri_Q001873.txt\n",
      "\n"
     ]
    },
    {
     "name": "stderr",
     "output_type": "stream",
     "text": [
      "\r",
      " 91%|█████████ | 1301/1428 [01:45<00:06, 19.27it/s]"
     ]
    },
    {
     "name": "stdout",
     "output_type": "stream",
     "text": [
      "Parsing etcsri/Q001874\n",
      "etcsri/Q001874:Unattributed Ur III 1003\n",
      "Saving Output/etcsri_Q001874.txt\n",
      "\n",
      "Parsing etcsri/Q001875\n",
      "etcsri/Q001875:Unattributed Ur III 1004\n",
      "Saving Output/etcsri_Q001875.txt\n",
      "\n",
      "Parsing etcsri/Q001876\n",
      "etcsri/Q001876:Unattributed Ur III 1005\n",
      "Saving Output/etcsri_Q001876.txt\n",
      "\n",
      "Parsing etcsri/Q001007\n",
      "etcsri/Q001007:Unattributed Ur III 1007\n",
      "Saving Output/etcsri_Q001007.txt\n",
      "\n",
      "Parsing etcsri/Q001878\n",
      "etcsri/Q001878:Unattributed Ur III 1008\n",
      "Saving Output/etcsri_Q001878.txt\n",
      "\n",
      "Parsing etcsri/Q001879\n"
     ]
    },
    {
     "name": "stderr",
     "output_type": "stream",
     "text": [
      " 92%|█████████▏| 1307/1428 [01:45<00:05, 21.02it/s]"
     ]
    },
    {
     "name": "stdout",
     "output_type": "stream",
     "text": [
      "etcsri/Q001879:Unattributed Ur III 1009\n",
      "Saving Output/etcsri_Q001879.txt\n",
      "\n",
      "Parsing etcsri/Q001880\n",
      "etcsri/Q001880:Unattributed Ur III 1010\n",
      "Saving Output/etcsri_Q001880.txt\n",
      "\n",
      "Parsing etcsri/Q001881\n",
      "etcsri/Q001881:Unattributed Ur III 1011\n",
      "Saving Output/etcsri_Q001881.txt\n",
      "\n",
      "Parsing etcsri/Q001882\n",
      "etcsri/Q001882:Unattributed Ur III 1012\n",
      "Saving Output/etcsri_Q001882.txt\n",
      "\n",
      "Parsing etcsri/Q001885\n",
      "etcsri/Q001885:Unattributed Ur III 1015\n",
      "Saving Output/etcsri_Q001885.txt\n",
      "\n",
      "Parsing etcsri/Q001887\n"
     ]
    },
    {
     "name": "stderr",
     "output_type": "stream",
     "text": [
      "\r",
      " 92%|█████████▏| 1310/1428 [01:45<00:05, 21.61it/s]"
     ]
    },
    {
     "name": "stdout",
     "output_type": "stream",
     "text": [
      "etcsri/Q001887:Unattributed Ur III 1017\n",
      "Saving Output/etcsri_Q001887.txt\n",
      "\n",
      "Parsing etcsri/Q001888\n",
      "etcsri/Q001888:Unattributed Ur III 1018\n",
      "Saving Output/etcsri_Q001888.txt\n",
      "\n",
      "Parsing etcsri/Q001893\n",
      "etcsri/Q001893:Unattributed Ur III 1023\n",
      "Saving Output/etcsri_Q001893.txt\n",
      "\n",
      "Parsing etcsri/Q001894\n",
      "etcsri/Q001894:Unattributed Ur III 1024\n",
      "Saving Output/etcsri_Q001894.txt\n",
      "\n",
      "Parsing etcsri/Q001895\n",
      "etcsri/Q001895:Unattributed Ur III 1025\n"
     ]
    },
    {
     "name": "stderr",
     "output_type": "stream",
     "text": [
      " 92%|█████████▏| 1316/1428 [01:46<00:05, 19.79it/s]"
     ]
    },
    {
     "name": "stdout",
     "output_type": "stream",
     "text": [
      "Saving Output/etcsri_Q001895.txt\n",
      "\n",
      "Parsing etcsri/Q001896\n",
      "etcsri/Q001896:Unattributed Ur III 1026\n",
      "Saving Output/etcsri_Q001896.txt\n",
      "\n",
      "Parsing etcsri/Q001008\n",
      "etcsri/Q001008:Unattributed Ur III 1027\n",
      "Saving Output/etcsri_Q001008.txt\n",
      "\n",
      "Parsing etcsri/Q001897\n",
      "etcsri/Q001897:Unattributed Ur III 1028\n",
      "Saving Output/etcsri_Q001897.txt\n",
      "\n",
      "Parsing etcsri/Q001898\n",
      "etcsri/Q001898:Unattributed Ur III 1029\n",
      "Saving Output/etcsri_Q001898.txt\n",
      "\n"
     ]
    },
    {
     "name": "stderr",
     "output_type": "stream",
     "text": [
      "\r",
      " 92%|█████████▏| 1319/1428 [01:46<00:05, 19.04it/s]"
     ]
    },
    {
     "name": "stdout",
     "output_type": "stream",
     "text": [
      "Parsing etcsri/Q001899\n",
      "etcsri/Q001899:Unattributed Ur III 1030\n",
      "Saving Output/etcsri_Q001899.txt\n",
      "\n",
      "Parsing etcsri/Q001900\n",
      "etcsri/Q001900:Unattributed Ur III 1031\n",
      "Saving Output/etcsri_Q001900.txt\n",
      "\n",
      "Parsing etcsri/Q001901\n",
      "etcsri/Q001901:Unattributed Ur III 1032\n",
      "Saving Output/etcsri_Q001901.txt\n",
      "\n",
      "Parsing etcsri/Q001902\n",
      "etcsri/Q001902:Unattributed Ur III 1033\n"
     ]
    },
    {
     "name": "stderr",
     "output_type": "stream",
     "text": [
      " 93%|█████████▎| 1325/1428 [01:46<00:05, 20.33it/s]"
     ]
    },
    {
     "name": "stdout",
     "output_type": "stream",
     "text": [
      "Saving Output/etcsri_Q001902.txt\n",
      "\n",
      "Parsing etcsri/Q001903\n",
      "etcsri/Q001903:Unattributed Ur III 1034\n",
      "Saving Output/etcsri_Q001903.txt\n",
      "\n",
      "Parsing etcsri/Q001904\n",
      "etcsri/Q001904:Unattributed Ur III 1035\n",
      "Saving Output/etcsri_Q001904.txt\n",
      "\n",
      "Parsing etcsri/Q001905\n",
      "etcsri/Q001905:Unattributed Ur III 1036\n",
      "Saving Output/etcsri_Q001905.txt\n",
      "\n",
      "Parsing etcsri/Q001906\n",
      "etcsri/Q001906:Unattributed Ur III 1037\n",
      "Saving Output/etcsri_Q001906.txt\n",
      "\n"
     ]
    },
    {
     "name": "stderr",
     "output_type": "stream",
     "text": [
      "\r",
      " 93%|█████████▎| 1328/1428 [01:46<00:05, 19.17it/s]"
     ]
    },
    {
     "name": "stdout",
     "output_type": "stream",
     "text": [
      "Parsing etcsri/Q001907\n",
      "etcsri/Q001907:Unattributed Ur III 1038\n",
      "Saving Output/etcsri_Q001907.txt\n",
      "\n",
      "Parsing etcsri/Q001908\n",
      "etcsri/Q001908:Unattributed Ur III 1039\n",
      "Saving Output/etcsri_Q001908.txt\n",
      "\n",
      "Parsing etcsri/Q001909\n",
      "etcsri/Q001909:Unattributed Ur III 1040\n",
      "Saving Output/etcsri_Q001909.txt\n",
      "\n",
      "Parsing etcsri/Q001910\n",
      "etcsri/Q001910:Unattributed Ur III 1041\n"
     ]
    },
    {
     "name": "stderr",
     "output_type": "stream",
     "text": [
      "\r",
      " 93%|█████████▎| 1331/1428 [01:46<00:04, 20.20it/s]"
     ]
    },
    {
     "name": "stdout",
     "output_type": "stream",
     "text": [
      "Saving Output/etcsri_Q001910.txt\n",
      "\n",
      "Parsing etcsri/Q001911\n",
      "etcsri/Q001911:Unattributed Ur III 1042\n",
      "Saving Output/etcsri_Q001911.txt\n",
      "\n",
      "Parsing etcsri/Q001912\n",
      "etcsri/Q001912:Unattributed Ur III 1043\n",
      "Saving Output/etcsri_Q001912.txt\n",
      "\n",
      "Parsing etcsri/Q001913\n",
      "etcsri/Q001913:Unattributed Ur III 1044\n",
      "Saving Output/etcsri_Q001913.txt\n",
      "\n",
      "Parsing etcsri/Q001914\n",
      "etcsri/Q001914:Unattributed Ur III 1045\n",
      "Saving Output/etcsri_Q001914.txt\n",
      "\n",
      "Parsing etcsri/Q001915\n"
     ]
    },
    {
     "name": "stderr",
     "output_type": "stream",
     "text": [
      " 94%|█████████▎| 1337/1428 [01:47<00:04, 21.36it/s]"
     ]
    },
    {
     "name": "stdout",
     "output_type": "stream",
     "text": [
      "etcsri/Q001915:Unattributed Ur III 1046\n",
      "Saving Output/etcsri_Q001915.txt\n",
      "\n",
      "Parsing etcsri/Q005029\n",
      "etcsri/Q005029:Unattributed Ur III 1047add\n",
      "Saving Output/etcsri_Q005029.txt\n",
      "\n",
      "Parsing etcsri/Q004874\n",
      "etcsri/Q004874:Unattributed 2\n",
      "Saving Output/etcsri_Q004874.txt\n",
      "\n",
      "Parsing etcsri/X004875\n",
      "etcsri/X004875:Unattributed 3\n",
      "Saving Output/etcsri_X004875.txt\n",
      "\n",
      "Parsing etcsri/Q001916\n",
      "etcsri/Q001916:Ur-Ningirsu 1\n",
      "Saving Output/etcsri_Q001916.txt\n",
      "\n",
      "Parsing etcsri/Q001009\n",
      "etcsri/Q001009:Ur-Ningirsu 2\n"
     ]
    },
    {
     "name": "stderr",
     "output_type": "stream",
     "text": [
      "\r",
      " 94%|█████████▍| 1340/1428 [01:47<00:04, 20.56it/s]"
     ]
    },
    {
     "name": "stdout",
     "output_type": "stream",
     "text": [
      "Saving Output/etcsri_Q001009.txt\n",
      "\n",
      "Parsing etcsri/X111117\n",
      "etcsri/X111117:Ur-Nanše 1 [E3/2.2.2.1]\n",
      "Saving Output/etcsri_X111117.txt\n",
      "\n",
      "Parsing etcsri/Q001920\n",
      "etcsri/Q001920:Išbi-Erra 1\n",
      "Saving Output/etcsri_Q001920.txt\n",
      "\n",
      "Parsing etcsri/Q001934\n"
     ]
    },
    {
     "name": "stderr",
     "output_type": "stream",
     "text": [
      "\r",
      " 94%|█████████▍| 1343/1428 [01:47<00:06, 13.77it/s]"
     ]
    },
    {
     "name": "stdout",
     "output_type": "stream",
     "text": [
      "etcsri/Q001934:Šu-ilišu 1\n",
      "Saving Output/etcsri_Q001934.txt\n",
      "\n",
      "Parsing etcsri/Q001936\n",
      "etcsri/Q001936:Šu-ilišu 3\n",
      "Saving Output/etcsri_Q001936.txt\n",
      "\n",
      "Parsing etcsri/Q001937\n"
     ]
    },
    {
     "name": "stderr",
     "output_type": "stream",
     "text": [
      "\r",
      " 94%|█████████▍| 1345/1428 [01:47<00:05, 14.93it/s]"
     ]
    },
    {
     "name": "stdout",
     "output_type": "stream",
     "text": [
      "etcsri/Q001937:Šu-ilišu 4\n",
      "Saving Output/etcsri_Q001937.txt\n",
      "\n",
      "Parsing etcsri/Q001938\n",
      "etcsri/Q001938:Šu-ilišu 2001\n",
      "Saving Output/etcsri_Q001938.txt\n",
      "\n",
      "Parsing etcsri/Q001939\n",
      "etcsri/Q001939:Šu-ilišu 2002\n",
      "Saving Output/etcsri_Q001939.txt\n",
      "\n",
      "Parsing etcsri/Q001940\n",
      "etcsri/Q001940:Šu-ilišu 2003\n",
      "Saving Output/etcsri_Q001940.txt\n",
      "\n"
     ]
    },
    {
     "name": "stderr",
     "output_type": "stream",
     "text": [
      "\r",
      " 94%|█████████▍| 1347/1428 [01:48<00:05, 14.81it/s]"
     ]
    },
    {
     "name": "stdout",
     "output_type": "stream",
     "text": [
      "Parsing etcsri/Q001941\n",
      "etcsri/Q001941:Iddin-Dagan 1\n",
      "Saving Output/etcsri_Q001941.txt\n",
      "\n",
      "Parsing etcsri/Q001943\n",
      "etcsri/Q001943:Iddin-Dagan 3\n",
      "Saving Output/etcsri_Q001943.txt\n",
      "\n"
     ]
    },
    {
     "name": "stderr",
     "output_type": "stream",
     "text": [
      " 95%|█████████▍| 1351/1428 [01:48<00:05, 13.33it/s]"
     ]
    },
    {
     "name": "stdout",
     "output_type": "stream",
     "text": [
      "Parsing etcsri/Q001944\n",
      "etcsri/Q001944:Iddin-Dagan 2001\n",
      "Saving Output/etcsri_Q001944.txt\n",
      "\n",
      "Parsing etcsri/Q001945\n",
      "etcsri/Q001945:Išme-Dagan 01\n",
      "Saving Output/etcsri_Q001945.txt\n",
      "\n",
      "Parsing etcsri/Q001946\n",
      "etcsri/Q001946:Išme-Dagan 02\n",
      "Saving Output/etcsri_Q001946.txt\n",
      "\n"
     ]
    },
    {
     "name": "stderr",
     "output_type": "stream",
     "text": [
      " 95%|█████████▍| 1355/1428 [01:48<00:05, 13.00it/s]"
     ]
    },
    {
     "name": "stdout",
     "output_type": "stream",
     "text": [
      "Parsing etcsri/Q001947\n",
      "etcsri/Q001947:Išme-Dagan 03\n",
      "Saving Output/etcsri_Q001947.txt\n",
      "\n",
      "Parsing etcsri/Q001948\n",
      "etcsri/Q001948:Išme-Dagan 04\n",
      "Saving Output/etcsri_Q001948.txt\n",
      "\n",
      "Parsing etcsri/Q001949\n",
      "etcsri/Q001949:Išme-Dagan 05\n",
      "Saving Output/etcsri_Q001949.txt\n",
      "\n"
     ]
    },
    {
     "name": "stderr",
     "output_type": "stream",
     "text": [
      "\r",
      " 95%|█████████▌| 1357/1428 [01:48<00:05, 13.24it/s]"
     ]
    },
    {
     "name": "stdout",
     "output_type": "stream",
     "text": [
      "Parsing etcsri/Q001951\n",
      "etcsri/Q001951:Išme-Dagan 07\n",
      "Saving Output/etcsri_Q001951.txt\n",
      "\n",
      "Parsing etcsri/Q001952\n",
      "etcsri/Q001952:Išme-Dagan 10\n",
      "Saving Output/etcsri_Q001952.txt\n",
      "\n",
      "Parsing etcsri/Q001953\n",
      "etcsri/Q001953:Išme-Dagan 11\n"
     ]
    },
    {
     "name": "stderr",
     "output_type": "stream",
     "text": [
      "\r",
      " 95%|█████████▌| 1359/1428 [01:49<00:05, 11.77it/s]"
     ]
    },
    {
     "name": "stdout",
     "output_type": "stream",
     "text": [
      "Saving Output/etcsri_Q001953.txt\n",
      "\n",
      "Parsing etcsri/Q001954\n",
      "etcsri/Q001954:Išme-Dagan 12\n",
      "Saving Output/etcsri_Q001954.txt\n",
      "\n",
      "Parsing etcsri/Q001956\n",
      "etcsri/Q001956:Išme-Dagan 14\n",
      "Saving Output/etcsri_Q001956.txt\n",
      "\n",
      "Parsing etcsri/Q001958\n",
      "etcsri/Q001958:Išme-Dagan 2001\n"
     ]
    },
    {
     "name": "stderr",
     "output_type": "stream",
     "text": [
      "\r",
      " 95%|█████████▌| 1361/1428 [01:49<00:05, 13.27it/s]"
     ]
    },
    {
     "name": "stdout",
     "output_type": "stream",
     "text": [
      "Saving Output/etcsri_Q001958.txt\n",
      "\n",
      "Parsing etcsri/Q005031\n",
      "etcsri/Q005031:Išme-Dagan 2002add\n",
      "Saving Output/etcsri_Q005031.txt\n",
      "\n",
      "Parsing etcsri/Q000613\n"
     ]
    },
    {
     "name": "stderr",
     "output_type": "stream",
     "text": [
      "\r",
      " 95%|█████████▌| 1363/1428 [01:49<00:07,  8.79it/s]"
     ]
    },
    {
     "name": "stdout",
     "output_type": "stream",
     "text": [
      "etcsri/Q000613:Laws of Lipit-Eštar\n",
      "Saving Output/etcsri_Q000613.txt\n",
      "\n",
      "Parsing etcsri/Q001959\n"
     ]
    },
    {
     "name": "stderr",
     "output_type": "stream",
     "text": [
      "\r",
      " 96%|█████████▌| 1365/1428 [01:49<00:07,  8.82it/s]"
     ]
    },
    {
     "name": "stdout",
     "output_type": "stream",
     "text": [
      "etcsri/Q001959:Lipit-Eštar 1\n",
      "Saving Output/etcsri_Q001959.txt\n",
      "\n",
      "Parsing etcsri/Q001960\n",
      "etcsri/Q001960:Lipit-Eštar 2\n",
      "Saving Output/etcsri_Q001960.txt\n",
      "\n",
      "Parsing etcsri/Q001961\n"
     ]
    },
    {
     "name": "stderr",
     "output_type": "stream",
     "text": [
      "\r",
      " 96%|█████████▌| 1367/1428 [01:50<00:07,  8.46it/s]"
     ]
    },
    {
     "name": "stdout",
     "output_type": "stream",
     "text": [
      "etcsri/Q001961:Lipit-Eštar 4\n",
      "Saving Output/etcsri_Q001961.txt\n",
      "\n",
      "Parsing etcsri/Q001962\n",
      "etcsri/Q001962:Lipit-Eštar 5\n",
      "Saving Output/etcsri_Q001962.txt\n",
      "\n",
      "Parsing etcsri/Q001964\n"
     ]
    },
    {
     "name": "stderr",
     "output_type": "stream",
     "text": [
      "\r",
      " 96%|█████████▌| 1368/1428 [01:50<00:06,  8.71it/s]"
     ]
    },
    {
     "name": "stdout",
     "output_type": "stream",
     "text": [
      "etcsri/Q001964:Lipit-Eštar 7\n",
      "Saving Output/etcsri_Q001964.txt\n",
      "\n",
      "Parsing etcsri/Q001965\n",
      "etcsri/Q001965:Lipit-Eštar 8\n",
      "Saving Output/etcsri_Q001965.txt\n",
      "\n",
      "Parsing etcsri/Q004103\n",
      "etcsri/Q004103:Lipit-Eštar 10add\n"
     ]
    },
    {
     "name": "stderr",
     "output_type": "stream",
     "text": [
      " 96%|█████████▌| 1371/1428 [01:50<00:06,  8.45it/s]"
     ]
    },
    {
     "name": "stdout",
     "output_type": "stream",
     "text": [
      "Saving Output/etcsri_Q004103.txt\n",
      "\n",
      "Parsing etcsri/Q004104\n",
      "etcsri/Q004104:Lipit-Eštar 11add\n",
      "Saving Output/etcsri_Q004104.txt\n",
      "\n",
      "Parsing etcsri/Q001967\n",
      "etcsri/Q001967:Lipit-Eštar 2001\n",
      "Saving Output/etcsri_Q001967.txt\n",
      "\n",
      "Parsing etcsri/Q001968\n"
     ]
    },
    {
     "name": "stderr",
     "output_type": "stream",
     "text": [
      " 96%|█████████▋| 1376/1428 [01:50<00:04, 11.49it/s]"
     ]
    },
    {
     "name": "stdout",
     "output_type": "stream",
     "text": [
      "etcsri/Q001968:Lipit-Eštar 2002\n",
      "Saving Output/etcsri_Q001968.txt\n",
      "\n",
      "Parsing etcsri/Q001969\n",
      "etcsri/Q001969:Lipit-Eštar 2003\n",
      "Saving Output/etcsri_Q001969.txt\n",
      "\n",
      "Parsing etcsri/Q001970\n",
      "etcsri/Q001970:Lipit-Eštar 2004\n",
      "Saving Output/etcsri_Q001970.txt\n",
      "\n",
      "Parsing etcsri/Q001971\n",
      "etcsri/Q001971:Ur-Ninurta 1\n",
      "Saving Output/etcsri_Q001971.txt\n",
      "\n",
      "Parsing etcsri/Q001973\n"
     ]
    },
    {
     "name": "stderr",
     "output_type": "stream",
     "text": [
      "\r",
      " 96%|█████████▋| 1378/1428 [01:50<00:04, 11.81it/s]"
     ]
    },
    {
     "name": "stdout",
     "output_type": "stream",
     "text": [
      "etcsri/Q001973:Bur-Sin 1\n",
      "Saving Output/etcsri_Q001973.txt\n",
      "\n",
      "Parsing etcsri/Q001974\n",
      "etcsri/Q001974:Bur-Sin 2\n",
      "Saving Output/etcsri_Q001974.txt\n",
      "\n",
      "Parsing etcsri/Q001977\n",
      "etcsri/Q001977:Bur-Sin 2002\n",
      "Saving Output/etcsri_Q001977.txt\n",
      "\n",
      "Parsing etcsri/Q001978\n",
      "etcsri/Q001978:Bur-Sin 2003\n",
      "Saving Output/etcsri_Q001978.txt\n",
      "\n"
     ]
    },
    {
     "name": "stderr",
     "output_type": "stream",
     "text": [
      " 97%|█████████▋| 1384/1428 [01:51<00:02, 15.71it/s]"
     ]
    },
    {
     "name": "stdout",
     "output_type": "stream",
     "text": [
      "Parsing etcsri/Q001979\n",
      "etcsri/Q001979:Bur-Sin 2004\n",
      "Saving Output/etcsri_Q001979.txt\n",
      "\n",
      "Parsing etcsri/Q001980\n",
      "etcsri/Q001980:Bur-Sin 2005\n",
      "Saving Output/etcsri_Q001980.txt\n",
      "\n",
      "Parsing etcsri/Q001981\n",
      "etcsri/Q001981:Bur-Sin 2006\n",
      "Saving Output/etcsri_Q001981.txt\n",
      "\n",
      "Parsing etcsri/Q001982\n",
      "etcsri/Q001982:Erra-imitti 2001\n",
      "Saving Output/etcsri_Q001982.txt\n",
      "\n",
      "Parsing etcsri/Q001983\n",
      "etcsri/Q001983:Enlil-bani 01\n"
     ]
    },
    {
     "name": "stderr",
     "output_type": "stream",
     "text": [
      "\r",
      " 97%|█████████▋| 1386/1428 [01:51<00:03, 13.17it/s]"
     ]
    },
    {
     "name": "stdout",
     "output_type": "stream",
     "text": [
      "Saving Output/etcsri_Q001983.txt\n",
      "\n",
      "Parsing etcsri/Q001984\n",
      "etcsri/Q001984:Enlil-bani 02\n",
      "Saving Output/etcsri_Q001984.txt\n",
      "\n",
      "Parsing etcsri/Q001985\n",
      "etcsri/Q001985:Enlil-bani 03\n"
     ]
    },
    {
     "name": "stderr",
     "output_type": "stream",
     "text": [
      "\r",
      " 97%|█████████▋| 1388/1428 [01:51<00:03, 11.90it/s]"
     ]
    },
    {
     "name": "stdout",
     "output_type": "stream",
     "text": [
      "Saving Output/etcsri_Q001985.txt\n",
      "\n",
      "Parsing etcsri/Q001986\n",
      "etcsri/Q001986:Enlil-bani 04\n",
      "Saving Output/etcsri_Q001986.txt\n",
      "\n",
      "Parsing etcsri/Q001987\n",
      "etcsri/Q001987:Enlil-bani 05\n"
     ]
    },
    {
     "name": "stderr",
     "output_type": "stream",
     "text": [
      "\r",
      " 97%|█████████▋| 1390/1428 [01:51<00:03, 10.73it/s]"
     ]
    },
    {
     "name": "stdout",
     "output_type": "stream",
     "text": [
      "Saving Output/etcsri_Q001987.txt\n",
      "\n",
      "Parsing etcsri/Q001988\n",
      "etcsri/Q001988:Enlil-bani 06\n",
      "Saving Output/etcsri_Q001988.txt\n",
      "\n",
      "Parsing etcsri/Q001989\n",
      "etcsri/Q001989:Enlil-bani 07\n",
      "Saving Output/etcsri_Q001989.txt\n",
      "\n",
      "Parsing etcsri/Q001990\n",
      "etcsri/Q001990:Enlil-bani 08\n"
     ]
    },
    {
     "name": "stderr",
     "output_type": "stream",
     "text": [
      " 98%|█████████▊| 1394/1428 [01:52<00:02, 12.16it/s]"
     ]
    },
    {
     "name": "stdout",
     "output_type": "stream",
     "text": [
      "Saving Output/etcsri_Q001990.txt\n",
      "\n",
      "Parsing etcsri/Q001991\n",
      "etcsri/Q001991:Enlil-bani 09\n",
      "Saving Output/etcsri_Q001991.txt\n",
      "\n",
      "Parsing etcsri/Q001992\n",
      "etcsri/Q001992:Enlil-bani 10\n",
      "Saving Output/etcsri_Q001992.txt\n",
      "\n",
      "Parsing etcsri/Q001994\n",
      "etcsri/Q001994:Enlil-bani 1001\n"
     ]
    },
    {
     "name": "stderr",
     "output_type": "stream",
     "text": [
      " 98%|█████████▊| 1398/1428 [01:52<00:02, 13.32it/s]"
     ]
    },
    {
     "name": "stdout",
     "output_type": "stream",
     "text": [
      "Saving Output/etcsri_Q001994.txt\n",
      "\n",
      "Parsing etcsri/X000112\n",
      "etcsri/X000112:Zambiya 2add\n",
      "Saving Output/etcsri_X000112.txt\n",
      "\n",
      "Parsing etcsri/Q001997\n",
      "etcsri/Q001997:Urdukuga 2\n",
      "Saving Output/etcsri_Q001997.txt\n",
      "\n",
      "Parsing etcsri/Q001998\n",
      "etcsri/Q001998:Urdukuga 3\n",
      "Saving Output/etcsri_Q001998.txt\n",
      "\n"
     ]
    },
    {
     "name": "stderr",
     "output_type": "stream",
     "text": [
      " 98%|█████████▊| 1403/1428 [01:52<00:01, 15.96it/s]"
     ]
    },
    {
     "name": "stdout",
     "output_type": "stream",
     "text": [
      "Parsing etcsri/Q002001\n",
      "etcsri/Q002001:Sin-magir 3\n",
      "Saving Output/etcsri_Q002001.txt\n",
      "\n",
      "Parsing etcsri/Q002002\n",
      "etcsri/Q002002:Sin-magir 2001\n",
      "Saving Output/etcsri_Q002002.txt\n",
      "\n",
      "Parsing etcsri/Q002003\n",
      "etcsri/Q002003:Sin-magir 2002\n",
      "Saving Output/etcsri_Q002003.txt\n",
      "\n",
      "Parsing etcsri/Q002004\n",
      "etcsri/Q002004:Sin-magir 2003\n",
      "Saving Output/etcsri_Q002004.txt\n",
      "\n",
      "Parsing etcsri/Q002009\n",
      "etcsri/Q002009:Damiq-ilišu 2001\n",
      "Saving Output/etcsri_Q002009.txt\n",
      "\n",
      "Parsing etcsri/Q002014\n",
      "etcsri/Q002014:Gungunum 1\n",
      "Saving Output/etcsri_Q002014.txt\n",
      "\n",
      "Parsing etcsri/Q002015\n"
     ]
    },
    {
     "name": "stderr",
     "output_type": "stream",
     "text": [
      " 99%|█████████▊| 1407/1428 [01:53<00:01, 12.09it/s]"
     ]
    },
    {
     "name": "stdout",
     "output_type": "stream",
     "text": [
      "etcsri/Q002015:Gungunum 2\n",
      "Saving Output/etcsri_Q002015.txt\n",
      "\n",
      "Parsing etcsri/Q002016\n",
      "etcsri/Q002016:Gungunum 3\n",
      "Saving Output/etcsri_Q002016.txt\n",
      "\n",
      "Parsing etcsri/Q002017\n",
      "etcsri/Q002017:Gungunum 4\n",
      "Saving Output/etcsri_Q002017.txt\n",
      "\n",
      "Parsing etcsri/Q004449\n",
      "etcsri/Q004449:Gungunum 5add\n"
     ]
    },
    {
     "name": "stderr",
     "output_type": "stream",
     "text": [
      "\r",
      " 99%|█████████▊| 1409/1428 [01:53<00:01,  9.51it/s]"
     ]
    },
    {
     "name": "stdout",
     "output_type": "stream",
     "text": [
      "Saving Output/etcsri_Q004449.txt\n",
      "\n",
      "Parsing etcsri/Q002028\n",
      "etcsri/Q002028:Abisare 2005\n",
      "Saving Output/etcsri_Q002028.txt\n",
      "\n",
      "Parsing etcsri/Q002029\n",
      "etcsri/Q002029:Abisare 2006\n",
      "Saving Output/etcsri_Q002029.txt\n",
      "\n",
      "Parsing etcsri/Q005032\n",
      "etcsri/Q005032:Abi-sare 3add\n",
      "Saving Output/etcsri_Q005032.txt\n",
      "\n",
      "Parsing etcsri/Q002032\n",
      "etcsri/Q002032:Sumu-el 1\n"
     ]
    },
    {
     "name": "stderr",
     "output_type": "stream",
     "text": [
      " 99%|█████████▉| 1414/1428 [01:53<00:01, 12.09it/s]"
     ]
    },
    {
     "name": "stdout",
     "output_type": "stream",
     "text": [
      "Saving Output/etcsri_Q002032.txt\n",
      "\n",
      "Parsing etcsri/Q002033\n",
      "etcsri/Q002033:Sumu-el 2\n",
      "Saving Output/etcsri_Q002033.txt\n",
      "\n",
      "Parsing etcsri/Q002035\n",
      "etcsri/Q002035:Sumu-el 2002\n",
      "Saving Output/etcsri_Q002035.txt\n",
      "\n",
      "Parsing etcsri/Q002036\n",
      "etcsri/Q002036:Sumu-el 2003\n",
      "Saving Output/etcsri_Q002036.txt\n",
      "\n",
      "Parsing etcsri/Q002040\n"
     ]
    },
    {
     "name": "stderr",
     "output_type": "stream",
     "text": [
      " 99%|█████████▉| 1418/1428 [01:54<00:00, 12.88it/s]"
     ]
    },
    {
     "name": "stdout",
     "output_type": "stream",
     "text": [
      "etcsri/Q002040:Sumu-el 2007\n",
      "Saving Output/etcsri_Q002040.txt\n",
      "\n",
      "Parsing etcsri/Q002115\n",
      "etcsri/Q002115:Warad-Sin 11\n",
      "Saving Output/etcsri_Q002115.txt\n",
      "\n",
      "Parsing etcsri/Q002134\n",
      "etcsri/Q002134:Warad-Sin 30\n",
      "Saving Output/etcsri_Q002134.txt\n",
      "\n",
      "Parsing etcsri/Q002135\n",
      "etcsri/Q002135:Warad-Sin 31\n"
     ]
    },
    {
     "name": "stderr",
     "output_type": "stream",
     "text": [
      "\r",
      "100%|█████████▉| 1421/1428 [01:54<00:00, 14.92it/s]"
     ]
    },
    {
     "name": "stdout",
     "output_type": "stream",
     "text": [
      "Saving Output/etcsri_Q002135.txt\n",
      "\n",
      "Parsing etcsri/Q002136\n",
      "etcsri/Q002136:Warad-Sin 32\n",
      "Saving Output/etcsri_Q002136.txt\n",
      "\n",
      "Parsing etcsri/Q002137\n",
      "etcsri/Q002137:Warad-Sin 33\n",
      "Saving Output/etcsri_Q002137.txt\n",
      "\n",
      "Parsing etcsri/Q002190\n",
      "etcsri/Q002190:Hammu-rabi 14\n",
      "Saving Output/etcsri_Q002190.txt\n",
      "\n",
      "Parsing etcsri/Q002192\n",
      "etcsri/Q002192:Hammu-rabi 16\n"
     ]
    },
    {
     "name": "stderr",
     "output_type": "stream",
     "text": [
      "100%|█████████▉| 1425/1428 [01:54<00:00, 10.92it/s]"
     ]
    },
    {
     "name": "stdout",
     "output_type": "stream",
     "text": [
      "Saving Output/etcsri_Q002192.txt\n",
      "\n",
      "Parsing etcsri/Q002239\n",
      "etcsri/Q002239:Sin-kašid 02\n",
      "Saving Output/etcsri_Q002239.txt\n",
      "\n",
      "Parsing etcsri/Q002240\n",
      "etcsri/Q002240:Sin-kašid 03\n",
      "Saving Output/etcsri_Q002240.txt\n",
      "\n",
      "Parsing etcsri/Q002241\n",
      "etcsri/Q002241:Sin-kašid 04\n",
      "Saving Output/etcsri_Q002241.txt\n",
      "\n",
      "Parsing etcsri/Q002242\n"
     ]
    },
    {
     "name": "stderr",
     "output_type": "stream",
     "text": [
      "100%|██████████| 1428/1428 [01:54<00:00, 12.43it/s]"
     ]
    },
    {
     "name": "stdout",
     "output_type": "stream",
     "text": [
      "etcsri/Q002242:Sin-kašid 05\n",
      "Saving Output/etcsri_Q002242.txt\n",
      "\n",
      "Parsing etcsri/Q002257\n",
      "etcsri/Q002257:Anam 1\n",
      "Saving Output/etcsri_Q002257.txt\n",
      "\n"
     ]
    },
    {
     "name": "stderr",
     "output_type": "stream",
     "text": [
      "\n"
     ]
    }
   ],
   "source": [
    "with open('Input/' + inputfile, mode = 'r', encoding='utf8') as f:\n",
    "    textlist = f.read().splitlines()\n",
    "for eachtextid in tqdm(textlist):\n",
    "    sleep(0.01)\n",
    "    eachtextid = eachtextid.rstrip()\n",
    "    file = 'HTML/' + eachtextid.replace('/', '_') + '.html'\n",
    "    try:\n",
    "        csvformat = scrape(eachtextid)\n",
    "        outputfile = 'Output/' + eachtextid.replace('/', '_') + '.txt'\n",
    "        print(\"Saving \" + outputfile + '\\n')\n",
    "    \n",
    "        if not os.path.exists('Output'):\n",
    "            os.mkdir('Output')\n",
    "        \n",
    "        with open(outputfile, mode = 'w', encoding='utf8') as writeFile:\n",
    "            writeFile.write(csvformat)  \n",
    "\n",
    "    except IOError:\n",
    "        print(file + ' not available')\n",
    "        textiderror = textiderror + eachtextid + '\\n'\n",
    "\n",
    "#Create error log\n",
    "if not os.path.exists('Error'):\n",
    "    os.mkdir('Error')\n",
    "with open('Error/oraccerror.txt', mode='w', encoding='utf8') as writeFile:\n",
    "    writeFile.write(textiderror)"
   ]
  }
 ],
 "metadata": {
  "anaconda-cloud": {},
  "kernelspec": {
   "display_name": "Python [default]",
   "language": "python",
   "name": "python3"
  },
  "language_info": {
   "codemirror_mode": {
    "name": "ipython",
    "version": 3
   },
   "file_extension": ".py",
   "mimetype": "text/x-python",
   "name": "python",
   "nbconvert_exporter": "python",
   "pygments_lexer": "ipython3",
   "version": "3.5.2"
  },
  "widgets": {
   "state": {
    "8628ac50b4b0470e90d8663635ada8a0": {
     "views": [
      {
       "cell_index": 5
      }
     ]
    }
   },
   "version": "1.2.0"
  }
 },
 "nbformat": 4,
 "nbformat_minor": 0
}
