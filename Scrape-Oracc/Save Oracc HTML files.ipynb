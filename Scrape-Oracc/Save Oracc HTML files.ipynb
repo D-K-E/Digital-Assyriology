{
 "cells": [
  {
   "cell_type": "markdown",
   "metadata": {},
   "source": [
    "# Download Oracc HTML Files\n",
    "\n",
    "Download script for ORACC files. The downloader needs an input file that lists the P, Q, or X numbers to be downloaded. It will save these files in the /HTML directory. The `Scrape Oracc` Notebook may be used to further process these files."
   ]
  },
  {
   "cell_type": "markdown",
   "metadata": {},
   "source": [
    "## Setting up the Environment\n",
    "\n",
    "This cell imports the required packages and checks under which Python version the script is running. Recommended (and tested) is Python 3.5.\n",
    "\n",
    "The function `patch_http_response_read()` takes care of the IncompleteRead error, which may terminate the script. This function was found in the blog post [Beaver Notes](http://bobrochel.blogspot.com/2010/11/bad-servers-chunked-encoding-and.html) and has been adapted minimally for Python 3.5.\n",
    "\n",
    "Other solutions for the IncompleteRead error have been suggested on blogs. It is possible that some of these solutions are better and/or faster - they have not been tried. The current script has been stress-tested with a list of more than 3,000 P numbers, which took approximately 45 minutes."
   ]
  },
  {
   "cell_type": "code",
   "execution_count": null,
   "metadata": {
    "collapsed": false
   },
   "outputs": [],
   "source": [
    "from __future__ import print_function\n",
    "\n",
    "import urllib.request\n",
    "import re\n",
    "import sys\n",
    "import os\n",
    "import time\n",
    "from tqdm import *\n",
    "import http.client as httplib\n",
    "\n",
    "PY3 = sys.version_info.major == 3\n",
    "print(\"Running under Python version:\", sys.version_info[:3])\n",
    "\n",
    "if not PY3:\n",
    "    input = raw_input\n",
    "\n",
    "def patch_http_response_read(func):\n",
    "    def inner(*args):\n",
    "        try:\n",
    "            return func(*args)\n",
    "        except httplib.IncompleteRead as e:\n",
    "            return e.partial\n",
    "\n",
    "    return inner\n",
    "httplib.HTTPResponse.read = patch_http_response_read(httplib.HTTPResponse.read)"
   ]
  },
  {
   "cell_type": "markdown",
   "metadata": {},
   "source": [
    "# Input File\n",
    "\n",
    "The input file should be located in a directory called /Input, which must be located in the directory in which this Python Notebook is executed. The file should have a .txt extension and must be created with a flat text editor such as TextEdit, Notepad, or Emacs. The file contains a simple list of P, Q, or X numbers, preceded by the ORACC abbreviation where the file is edited. For instance:\n",
    "\n",
    "    rinap/rinap1/Q003421\n",
    "    dcclt/Q000039\n",
    "    cams/gkab/P348623\n",
    "\n"
   ]
  },
  {
   "cell_type": "code",
   "execution_count": null,
   "metadata": {
    "collapsed": false
   },
   "outputs": [],
   "source": [
    "inputFile = input(\"Name of Input List: \")"
   ]
  },
  {
   "cell_type": "code",
   "execution_count": null,
   "metadata": {
    "collapsed": true
   },
   "outputs": [],
   "source": [
    "with open('Input/' + inputFile, mode = 'r', encoding = 'utf8') as f:\n",
    "    textlist = f.read().splitlines()"
   ]
  },
  {
   "cell_type": "code",
   "execution_count": null,
   "metadata": {
    "collapsed": false
   },
   "outputs": [],
   "source": [
    "if not os.path.exists('HTML'):\n",
    "    os.mkdir('HTML')\n",
    "for eachtextid in tqdm(textlist):\n",
    "    time.sleep(.01)\n",
    "    eachtextid = eachtextid.rstrip()\n",
    "    url = 'http://oracc.org/' + eachtextid + '/html'\n",
    "    print('retrieving ' + url)\n",
    "    with urllib.request.urlopen(url) as currentFile:\n",
    "        f = currentFile.read()\n",
    "        # if file has content, save\n",
    "        #identify P, Q, or X number and check that it appears in the file\n",
    "    textid = eachtextid[-7:]\n",
    "    if textid in str(f):\n",
    "        # replace / by _ in eachtextid in output filename\n",
    "        filename = 'HTML/' + eachtextid.replace('/', '_') + '.html'\n",
    "        print('saving ' + 'http://oracc.org/' + eachtextid + ' as ' + filename)\n",
    "        with open(filename, mode='wb') as writeFile:\n",
    "            writeFile.write(f)\n",
    "    else:\n",
    "        print(eachtextid + ' not available')\n"
   ]
  },
  {
   "cell_type": "code",
   "execution_count": null,
   "metadata": {
    "collapsed": true
   },
   "outputs": [],
   "source": []
  }
 ],
 "metadata": {
  "kernelspec": {
   "display_name": "Python 3",
   "language": "python",
   "name": "python3"
  },
  "language_info": {
   "codemirror_mode": {
    "name": "ipython",
    "version": 3
   },
   "file_extension": ".py",
   "mimetype": "text/x-python",
   "name": "python",
   "nbconvert_exporter": "python",
   "pygments_lexer": "ipython3",
   "version": "3.5.2"
  }
 },
 "nbformat": 4,
 "nbformat_minor": 0
}
