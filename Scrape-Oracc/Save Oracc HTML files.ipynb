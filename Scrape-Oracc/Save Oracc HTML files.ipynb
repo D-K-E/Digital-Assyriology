{
 "cells": [
  {
   "cell_type": "markdown",
   "metadata": {},
   "source": [
    "# Download Oracc HTML Files\n",
    "\n",
    "Download script for ORACC files. The downloader needs an input file that lists the P, Q, or X numbers to be downloaded. It will save these files in the /HTML directory. The `Scrape Oracc` Notebook may be used to further process these files."
   ]
  },
  {
   "cell_type": "markdown",
   "metadata": {},
   "source": [
    "## Setting up the Environment\n",
    "\n",
    "This cell imports the required packages and checks under which Python version the script is running. Recommended (and tested) is Python 3.5.\n",
    "\n",
    "The function `patch_http_response_read()` takes care of the IncompleteRead error, which may terminate the script. This function was found in the blog post [Beaver Notes](http://bobrochel.blogspot.com/2010/11/bad-servers-chunked-encoding-and.html) and has been adapted minimally for Python 3.5.\n",
    "\n",
    "Other solutions for the IncompleteRead error have been suggested on blogs. It is possible that some of these solutions are better and/or faster - they have not been tried. The current script has been stress-tested with a list of more than 3,000 P numbers, which took approximately 45 minutes."
   ]
  },
  {
   "cell_type": "code",
   "execution_count": 1,
   "metadata": {
    "collapsed": false
   },
   "outputs": [
    {
     "name": "stdout",
     "output_type": "stream",
     "text": [
      "Running under Python version: (3, 5, 1)\n"
     ]
    }
   ],
   "source": [
    "from __future__ import print_function\n",
    "\n",
    "import urllib.request\n",
    "import re\n",
    "import sys\n",
    "import os\n",
    "import time\n",
    "from tqdm import *\n",
    "import http.client as httplib\n",
    "\n",
    "PY3 = sys.version_info.major == 3\n",
    "print(\"Running under Python version:\", sys.version_info[:3])\n",
    "\n",
    "if not PY3:\n",
    "    input = raw_input\n",
    "\n",
    "def patch_http_response_read(func):\n",
    "    def inner(*args):\n",
    "        try:\n",
    "            return func(*args)\n",
    "        except httplib.IncompleteRead as e:\n",
    "            return e.partial\n",
    "\n",
    "    return inner\n",
    "httplib.HTTPResponse.read = patch_http_response_read(httplib.HTTPResponse.read)"
   ]
  },
  {
   "cell_type": "markdown",
   "metadata": {},
   "source": [
    "# Input File\n",
    "\n",
    "The input file should be located in a directory called /Input, which must be located in the directory in which this Python Notebook is executed. The file should have a .txt extension and must be created with a flat text editor such as TextEdit, Notepad, or Emacs. The file contains a simple list of P, Q, or X numbers, preceded by the ORACC abbreviation where the file is edited. For instance:\n",
    "\n",
    "    rinap/rinap1/Q003421\n",
    "    dcclt/Q000039\n",
    "    cams/gkab/P348623\n",
    "\n"
   ]
  },
  {
   "cell_type": "code",
   "execution_count": 2,
   "metadata": {
    "collapsed": false
   },
   "outputs": [
    {
     "name": "stdout",
     "output_type": "stream",
     "text": [
      "Name of Input List: amarna.txt\n"
     ]
    }
   ],
   "source": [
    "inputFile = input(\"Name of Input List: \")"
   ]
  },
  {
   "cell_type": "code",
   "execution_count": 3,
   "metadata": {
    "collapsed": true
   },
   "outputs": [],
   "source": [
    "with open('Input/' + inputFile, mode = 'r') as f:\n",
    "    textlist = f.read().splitlines()"
   ]
  },
  {
   "cell_type": "code",
   "execution_count": 4,
   "metadata": {
    "collapsed": false
   },
   "outputs": [
    {
     "name": "stderr",
     "output_type": "stream",
     "text": [
      "\r",
      "  0%|          | 0/378 [00:00<?, ?it/s]"
     ]
    },
    {
     "name": "stdout",
     "output_type": "stream",
     "text": [
      "retrieving http://oracc.org/aemw/amarna/P270887/html\n"
     ]
    },
    {
     "name": "stderr",
     "output_type": "stream",
     "text": [
      "\r",
      "  0%|          | 1/378 [00:00<05:26,  1.16it/s]"
     ]
    },
    {
     "name": "stdout",
     "output_type": "stream",
     "text": [
      "saving http://oracc.org/aemw/amarna/P270887 as HTML/aemw_amarna_P270887.html\n",
      "retrieving http://oracc.org/aemw/amarna/P271034/html\n"
     ]
    },
    {
     "name": "stderr",
     "output_type": "stream",
     "text": [
      "\r",
      "  1%|          | 2/378 [00:01<04:31,  1.38it/s]"
     ]
    },
    {
     "name": "stdout",
     "output_type": "stream",
     "text": [
      "saving http://oracc.org/aemw/amarna/P271034 as HTML/aemw_amarna_P271034.html\n",
      "retrieving http://oracc.org/aemw/amarna/P270975/html\n"
     ]
    },
    {
     "name": "stderr",
     "output_type": "stream",
     "text": [
      "\r",
      "  1%|          | 3/378 [00:01<03:53,  1.61it/s]"
     ]
    },
    {
     "name": "stdout",
     "output_type": "stream",
     "text": [
      "saving http://oracc.org/aemw/amarna/P270975 as HTML/aemw_amarna_P270975.html\n",
      "retrieving http://oracc.org/aemw/amarna/P271101/html\n"
     ]
    },
    {
     "name": "stderr",
     "output_type": "stream",
     "text": [
      "\r",
      "  1%|          | 4/378 [00:02<03:38,  1.71it/s]"
     ]
    },
    {
     "name": "stdout",
     "output_type": "stream",
     "text": [
      "saving http://oracc.org/aemw/amarna/P271101 as HTML/aemw_amarna_P271101.html\n",
      "retrieving http://oracc.org/aemw/amarna/P270890/html\n"
     ]
    },
    {
     "name": "stderr",
     "output_type": "stream",
     "text": [
      "\r",
      "  1%|▏         | 5/378 [00:02<03:40,  1.69it/s]"
     ]
    },
    {
     "name": "stdout",
     "output_type": "stream",
     "text": [
      "saving http://oracc.org/aemw/amarna/P270890 as HTML/aemw_amarna_P270890.html\n",
      "retrieving http://oracc.org/aemw/amarna/P271035/html\n"
     ]
    },
    {
     "name": "stderr",
     "output_type": "stream",
     "text": [
      "\r",
      "  2%|▏         | 6/378 [00:03<03:17,  1.88it/s]"
     ]
    },
    {
     "name": "stdout",
     "output_type": "stream",
     "text": [
      "saving http://oracc.org/aemw/amarna/P271035 as HTML/aemw_amarna_P271035.html\n",
      "retrieving http://oracc.org/aemw/amarna/P271036/html\n"
     ]
    },
    {
     "name": "stderr",
     "output_type": "stream",
     "text": [
      "\r",
      "  2%|▏         | 7/378 [00:03<03:26,  1.79it/s]"
     ]
    },
    {
     "name": "stdout",
     "output_type": "stream",
     "text": [
      "saving http://oracc.org/aemw/amarna/P271036 as HTML/aemw_amarna_P271036.html\n",
      "retrieving http://oracc.org/aemw/amarna/P271038/html\n"
     ]
    },
    {
     "name": "stderr",
     "output_type": "stream",
     "text": [
      "\r",
      "  2%|▏         | 8/378 [00:04<04:12,  1.46it/s]"
     ]
    },
    {
     "name": "stdout",
     "output_type": "stream",
     "text": [
      "saving http://oracc.org/aemw/amarna/P271038 as HTML/aemw_amarna_P271038.html\n",
      "retrieving http://oracc.org/aemw/amarna/P270888/html\n"
     ]
    },
    {
     "name": "stderr",
     "output_type": "stream",
     "text": [
      "\r",
      "  2%|▏         | 9/378 [00:05<03:39,  1.68it/s]"
     ]
    },
    {
     "name": "stdout",
     "output_type": "stream",
     "text": [
      "saving http://oracc.org/aemw/amarna/P270888 as HTML/aemw_amarna_P270888.html\n",
      "retrieving http://oracc.org/aemw/amarna/P270889/html\n"
     ]
    },
    {
     "name": "stderr",
     "output_type": "stream",
     "text": [
      "\r",
      "  3%|▎         | 10/378 [00:05<03:27,  1.77it/s]"
     ]
    },
    {
     "name": "stdout",
     "output_type": "stream",
     "text": [
      "saving http://oracc.org/aemw/amarna/P270889 as HTML/aemw_amarna_P270889.html\n",
      "retrieving http://oracc.org/aemw/amarna/P271037/html\n"
     ]
    },
    {
     "name": "stderr",
     "output_type": "stream",
     "text": [
      "\r",
      "  3%|▎         | 11/378 [00:06<03:47,  1.61it/s]"
     ]
    },
    {
     "name": "stdout",
     "output_type": "stream",
     "text": [
      "saving http://oracc.org/aemw/amarna/P271037 as HTML/aemw_amarna_P271037.html\n",
      "retrieving http://oracc.org/aemw/amarna/P271061/html\n"
     ]
    },
    {
     "name": "stderr",
     "output_type": "stream",
     "text": [
      "\r",
      "  3%|▎         | 12/378 [00:06<03:21,  1.82it/s]"
     ]
    },
    {
     "name": "stdout",
     "output_type": "stream",
     "text": [
      "saving http://oracc.org/aemw/amarna/P271061 as HTML/aemw_amarna_P271061.html\n",
      "retrieving http://oracc.org/aemw/amarna/P271153/html\n"
     ]
    },
    {
     "name": "stderr",
     "output_type": "stream",
     "text": [
      "\r",
      "  3%|▎         | 13/378 [00:07<04:17,  1.42it/s]"
     ]
    },
    {
     "name": "stdout",
     "output_type": "stream",
     "text": [
      "saving http://oracc.org/aemw/amarna/P271153 as HTML/aemw_amarna_P271153.html\n",
      "retrieving http://oracc.org/aemw/amarna/P271097/html\n"
     ]
    },
    {
     "name": "stderr",
     "output_type": "stream",
     "text": [
      "\r",
      "  4%|▎         | 14/378 [00:08<04:57,  1.22it/s]"
     ]
    },
    {
     "name": "stdout",
     "output_type": "stream",
     "text": [
      "saving http://oracc.org/aemw/amarna/P271097 as HTML/aemw_amarna_P271097.html\n",
      "retrieving http://oracc.org/aemw/amarna/P271024/html\n"
     ]
    },
    {
     "name": "stderr",
     "output_type": "stream",
     "text": [
      "\r",
      "  4%|▍         | 15/378 [00:09<04:10,  1.45it/s]"
     ]
    },
    {
     "name": "stdout",
     "output_type": "stream",
     "text": [
      "saving http://oracc.org/aemw/amarna/P271024 as HTML/aemw_amarna_P271024.html\n",
      "retrieving http://oracc.org/aemw/amarna/P270976/html\n"
     ]
    },
    {
     "name": "stderr",
     "output_type": "stream",
     "text": [
      "\r",
      "  4%|▍         | 16/378 [00:10<04:13,  1.43it/s]"
     ]
    },
    {
     "name": "stdout",
     "output_type": "stream",
     "text": [
      "saving http://oracc.org/aemw/amarna/P270976 as HTML/aemw_amarna_P270976.html\n",
      "retrieving http://oracc.org/aemw/amarna/P270895/html\n"
     ]
    },
    {
     "name": "stderr",
     "output_type": "stream",
     "text": [
      "\r",
      "  4%|▍         | 17/378 [00:10<03:51,  1.56it/s]"
     ]
    },
    {
     "name": "stdout",
     "output_type": "stream",
     "text": [
      "saving http://oracc.org/aemw/amarna/P270895 as HTML/aemw_amarna_P270895.html\n",
      "retrieving http://oracc.org/aemw/amarna/P271171/html\n"
     ]
    },
    {
     "name": "stderr",
     "output_type": "stream",
     "text": [
      "\r",
      "  5%|▍         | 18/378 [00:10<03:23,  1.77it/s]"
     ]
    },
    {
     "name": "stdout",
     "output_type": "stream",
     "text": [
      "saving http://oracc.org/aemw/amarna/P271171 as HTML/aemw_amarna_P271171.html\n",
      "retrieving http://oracc.org/aemw/amarna/P270894/html\n"
     ]
    },
    {
     "name": "stderr",
     "output_type": "stream",
     "text": [
      "\r",
      "  5%|▌         | 19/378 [00:11<03:28,  1.72it/s]"
     ]
    },
    {
     "name": "stdout",
     "output_type": "stream",
     "text": [
      "saving http://oracc.org/aemw/amarna/P270894 as HTML/aemw_amarna_P270894.html\n",
      "retrieving http://oracc.org/aemw/amarna/P271179/html\n"
     ]
    },
    {
     "name": "stderr",
     "output_type": "stream",
     "text": [
      "\r",
      "  5%|▌         | 20/378 [00:12<04:03,  1.47it/s]"
     ]
    },
    {
     "name": "stdout",
     "output_type": "stream",
     "text": [
      "saving http://oracc.org/aemw/amarna/P271179 as HTML/aemw_amarna_P271179.html\n",
      "retrieving http://oracc.org/aemw/amarna/P271178/html\n"
     ]
    },
    {
     "name": "stderr",
     "output_type": "stream",
     "text": [
      "\r",
      "  6%|▌         | 21/378 [00:12<03:43,  1.60it/s]"
     ]
    },
    {
     "name": "stdout",
     "output_type": "stream",
     "text": [
      "saving http://oracc.org/aemw/amarna/P271178 as HTML/aemw_amarna_P271178.html\n",
      "retrieving http://oracc.org/aemw/amarna/P271213/html\n"
     ]
    },
    {
     "name": "stderr",
     "output_type": "stream",
     "text": [
      "\r",
      "  6%|▌         | 22/378 [00:14<05:17,  1.12it/s]"
     ]
    },
    {
     "name": "stdout",
     "output_type": "stream",
     "text": [
      "saving http://oracc.org/aemw/amarna/P271213 as HTML/aemw_amarna_P271213.html\n",
      "retrieving http://oracc.org/aemw/amarna/P270896/html\n"
     ]
    },
    {
     "name": "stderr",
     "output_type": "stream",
     "text": [
      "\r",
      "  6%|▌         | 23/378 [00:14<04:22,  1.35it/s]"
     ]
    },
    {
     "name": "stdout",
     "output_type": "stream",
     "text": [
      "saving http://oracc.org/aemw/amarna/P270896 as HTML/aemw_amarna_P270896.html\n",
      "retrieving http://oracc.org/aemw/amarna/P271214/html\n"
     ]
    },
    {
     "name": "stderr",
     "output_type": "stream",
     "text": [
      "\r",
      "  6%|▋         | 24/378 [00:15<03:32,  1.66it/s]"
     ]
    },
    {
     "name": "stdout",
     "output_type": "stream",
     "text": [
      "saving http://oracc.org/aemw/amarna/P271214 as HTML/aemw_amarna_P271214.html\n",
      "retrieving http://oracc.org/aemw/amarna/P271202/html\n"
     ]
    },
    {
     "name": "stderr",
     "output_type": "stream",
     "text": [
      "\r",
      "  7%|▋         | 25/378 [00:18<08:17,  1.41s/it]"
     ]
    },
    {
     "name": "stdout",
     "output_type": "stream",
     "text": [
      "saving http://oracc.org/aemw/amarna/P271202 as HTML/aemw_amarna_P271202.html\n",
      "retrieving http://oracc.org/aemw/amarna/P270897/html\n"
     ]
    },
    {
     "name": "stderr",
     "output_type": "stream",
     "text": [
      "\r",
      "  7%|▋         | 26/378 [00:19<07:14,  1.24s/it]"
     ]
    },
    {
     "name": "stdout",
     "output_type": "stream",
     "text": [
      "saving http://oracc.org/aemw/amarna/P270897 as HTML/aemw_amarna_P270897.html\n",
      "retrieving http://oracc.org/aemw/amarna/P271181/html\n"
     ]
    },
    {
     "name": "stderr",
     "output_type": "stream",
     "text": [
      "\r",
      "  7%|▋         | 27/378 [00:22<10:56,  1.87s/it]"
     ]
    },
    {
     "name": "stdout",
     "output_type": "stream",
     "text": [
      "saving http://oracc.org/aemw/amarna/P271181 as HTML/aemw_amarna_P271181.html\n",
      "retrieving http://oracc.org/aemw/amarna/P270967/html\n"
     ]
    },
    {
     "name": "stderr",
     "output_type": "stream",
     "text": [
      "\r",
      "  7%|▋         | 28/378 [00:23<08:41,  1.49s/it]"
     ]
    },
    {
     "name": "stdout",
     "output_type": "stream",
     "text": [
      "saving http://oracc.org/aemw/amarna/P270967 as HTML/aemw_amarna_P270967.html\n",
      "retrieving http://oracc.org/aemw/amarna/P271184/html\n"
     ]
    },
    {
     "name": "stderr",
     "output_type": "stream",
     "text": [
      "\r",
      "  8%|▊         | 29/378 [00:25<10:15,  1.76s/it]"
     ]
    },
    {
     "name": "stdout",
     "output_type": "stream",
     "text": [
      "saving http://oracc.org/aemw/amarna/P271184 as HTML/aemw_amarna_P271184.html\n",
      "retrieving http://oracc.org/aemw/amarna/P270943/html\n"
     ]
    },
    {
     "name": "stderr",
     "output_type": "stream",
     "text": [
      "\r",
      "  8%|▊         | 30/378 [00:25<07:38,  1.32s/it]"
     ]
    },
    {
     "name": "stdout",
     "output_type": "stream",
     "text": [
      "saving http://oracc.org/aemw/amarna/P270943 as HTML/aemw_amarna_P270943.html\n",
      "retrieving http://oracc.org/aemw/amarna/P270973/html\n"
     ]
    },
    {
     "name": "stderr",
     "output_type": "stream",
     "text": [
      "\r",
      "  8%|▊         | 31/378 [00:26<06:12,  1.07s/it]"
     ]
    },
    {
     "name": "stdout",
     "output_type": "stream",
     "text": [
      "saving http://oracc.org/aemw/amarna/P270973 as HTML/aemw_amarna_P270973.html\n",
      "retrieving http://oracc.org/aemw/amarna/P271204/html\n"
     ]
    },
    {
     "name": "stderr",
     "output_type": "stream",
     "text": [
      "\r",
      "  8%|▊         | 32/378 [00:26<04:59,  1.15it/s]"
     ]
    },
    {
     "name": "stdout",
     "output_type": "stream",
     "text": [
      "saving http://oracc.org/aemw/amarna/P271204 as HTML/aemw_amarna_P271204.html\n",
      "retrieving http://oracc.org/aemw/amarna/P271098/html\n"
     ]
    },
    {
     "name": "stderr",
     "output_type": "stream",
     "text": [
      "\r",
      "  9%|▊         | 33/378 [00:27<04:21,  1.32it/s]"
     ]
    },
    {
     "name": "stdout",
     "output_type": "stream",
     "text": [
      "saving http://oracc.org/aemw/amarna/P271098 as HTML/aemw_amarna_P271098.html\n",
      "retrieving http://oracc.org/aemw/amarna/P270892/html\n"
     ]
    },
    {
     "name": "stderr",
     "output_type": "stream",
     "text": [
      "\r",
      "  9%|▉         | 34/378 [00:28<04:39,  1.23it/s]"
     ]
    },
    {
     "name": "stdout",
     "output_type": "stream",
     "text": [
      "saving http://oracc.org/aemw/amarna/P270892 as HTML/aemw_amarna_P270892.html\n",
      "retrieving http://oracc.org/aemw/amarna/P270891/html\n"
     ]
    },
    {
     "name": "stderr",
     "output_type": "stream",
     "text": [
      "\r",
      "  9%|▉         | 35/378 [00:29<05:58,  1.04s/it]"
     ]
    },
    {
     "name": "stdout",
     "output_type": "stream",
     "text": [
      "saving http://oracc.org/aemw/amarna/P270891 as HTML/aemw_amarna_P270891.html\n",
      "retrieving http://oracc.org/aemw/amarna/P270980/html\n"
     ]
    },
    {
     "name": "stderr",
     "output_type": "stream",
     "text": [
      "\r",
      " 10%|▉         | 36/378 [00:30<05:12,  1.09it/s]"
     ]
    },
    {
     "name": "stdout",
     "output_type": "stream",
     "text": [
      "saving http://oracc.org/aemw/amarna/P270980 as HTML/aemw_amarna_P270980.html\n",
      "retrieving http://oracc.org/aemw/amarna/P270893/html\n"
     ]
    },
    {
     "name": "stderr",
     "output_type": "stream",
     "text": [
      "\r",
      " 10%|▉         | 37/378 [00:31<04:40,  1.22it/s]"
     ]
    },
    {
     "name": "stdout",
     "output_type": "stream",
     "text": [
      "saving http://oracc.org/aemw/amarna/P270893 as HTML/aemw_amarna_P270893.html\n",
      "retrieving http://oracc.org/aemw/amarna/P271039/html\n"
     ]
    },
    {
     "name": "stderr",
     "output_type": "stream",
     "text": [
      "\r",
      " 10%|█         | 38/378 [00:31<04:29,  1.26it/s]"
     ]
    },
    {
     "name": "stdout",
     "output_type": "stream",
     "text": [
      "saving http://oracc.org/aemw/amarna/P271039 as HTML/aemw_amarna_P271039.html\n",
      "retrieving http://oracc.org/aemw/amarna/P270978/html\n"
     ]
    },
    {
     "name": "stderr",
     "output_type": "stream",
     "text": [
      "\r",
      " 10%|█         | 39/378 [00:32<03:58,  1.42it/s]"
     ]
    },
    {
     "name": "stdout",
     "output_type": "stream",
     "text": [
      "saving http://oracc.org/aemw/amarna/P270978 as HTML/aemw_amarna_P270978.html\n",
      "retrieving http://oracc.org/aemw/amarna/P270979/html\n"
     ]
    },
    {
     "name": "stderr",
     "output_type": "stream",
     "text": [
      "\r",
      " 11%|█         | 40/378 [00:32<03:49,  1.47it/s]"
     ]
    },
    {
     "name": "stdout",
     "output_type": "stream",
     "text": [
      "saving http://oracc.org/aemw/amarna/P270979 as HTML/aemw_amarna_P270979.html\n",
      "retrieving http://oracc.org/aemw/amarna/P270977/html\n"
     ]
    },
    {
     "name": "stderr",
     "output_type": "stream",
     "text": [
      "\r",
      " 11%|█         | 41/378 [00:33<03:42,  1.51it/s]"
     ]
    },
    {
     "name": "stdout",
     "output_type": "stream",
     "text": [
      "saving http://oracc.org/aemw/amarna/P270977 as HTML/aemw_amarna_P270977.html\n",
      "retrieving http://oracc.org/aemw/amarna/P271099/html\n"
     ]
    },
    {
     "name": "stderr",
     "output_type": "stream",
     "text": [
      "\r",
      " 11%|█         | 42/378 [00:33<03:14,  1.73it/s]"
     ]
    },
    {
     "name": "stdout",
     "output_type": "stream",
     "text": [
      "saving http://oracc.org/aemw/amarna/P271099 as HTML/aemw_amarna_P271099.html\n",
      "retrieving http://oracc.org/aemw/amarna/P270878/html\n"
     ]
    },
    {
     "name": "stderr",
     "output_type": "stream",
     "text": [
      "\r",
      " 11%|█▏        | 43/378 [00:34<02:54,  1.92it/s]"
     ]
    },
    {
     "name": "stdout",
     "output_type": "stream",
     "text": [
      "saving http://oracc.org/aemw/amarna/P270878 as HTML/aemw_amarna_P270878.html\n",
      "retrieving http://oracc.org/aemw/amarna/P271100/html\n"
     ]
    },
    {
     "name": "stderr",
     "output_type": "stream",
     "text": [
      "\r",
      " 12%|█▏        | 44/378 [00:35<03:26,  1.62it/s]"
     ]
    },
    {
     "name": "stdout",
     "output_type": "stream",
     "text": [
      "saving http://oracc.org/aemw/amarna/P271100 as HTML/aemw_amarna_P271100.html\n",
      "retrieving http://oracc.org/aemw/amarna/P271133/html\n"
     ]
    },
    {
     "name": "stderr",
     "output_type": "stream",
     "text": [
      "\r",
      " 12%|█▏        | 45/378 [00:35<03:47,  1.46it/s]"
     ]
    },
    {
     "name": "stdout",
     "output_type": "stream",
     "text": [
      "saving http://oracc.org/aemw/amarna/P271133 as HTML/aemw_amarna_P271133.html\n",
      "retrieving http://oracc.org/aemw/amarna/P271135/html\n"
     ]
    },
    {
     "name": "stderr",
     "output_type": "stream",
     "text": [
      "\r",
      " 12%|█▏        | 46/378 [00:36<03:28,  1.59it/s]"
     ]
    },
    {
     "name": "stdout",
     "output_type": "stream",
     "text": [
      "saving http://oracc.org/aemw/amarna/P271135 as HTML/aemw_amarna_P271135.html\n",
      "retrieving http://oracc.org/aemw/amarna/P271134/html\n"
     ]
    },
    {
     "name": "stderr",
     "output_type": "stream",
     "text": [
      "\r",
      " 12%|█▏        | 47/378 [00:37<03:25,  1.61it/s]"
     ]
    },
    {
     "name": "stdout",
     "output_type": "stream",
     "text": [
      "saving http://oracc.org/aemw/amarna/P271134 as HTML/aemw_amarna_P271134.html\n",
      "retrieving http://oracc.org/aemw/amarna/P271132/html\n"
     ]
    },
    {
     "name": "stderr",
     "output_type": "stream",
     "text": [
      "\r",
      " 13%|█▎        | 48/378 [00:37<03:02,  1.81it/s]"
     ]
    },
    {
     "name": "stdout",
     "output_type": "stream",
     "text": [
      "saving http://oracc.org/aemw/amarna/P271132 as HTML/aemw_amarna_P271132.html\n",
      "retrieving http://oracc.org/aemw/amarna/P271011/html\n"
     ]
    },
    {
     "name": "stderr",
     "output_type": "stream",
     "text": [
      "\r",
      " 13%|█▎        | 49/378 [00:38<03:39,  1.50it/s]"
     ]
    },
    {
     "name": "stdout",
     "output_type": "stream",
     "text": [
      "saving http://oracc.org/aemw/amarna/P271011 as HTML/aemw_amarna_P271011.html\n",
      "retrieving http://oracc.org/aemw/amarna/P271052/html\n"
     ]
    },
    {
     "name": "stderr",
     "output_type": "stream",
     "text": [
      "\r",
      " 13%|█▎        | 50/378 [00:38<03:00,  1.82it/s]"
     ]
    },
    {
     "name": "stdout",
     "output_type": "stream",
     "text": [
      "saving http://oracc.org/aemw/amarna/P271052 as HTML/aemw_amarna_P271052.html\n",
      "retrieving http://oracc.org/aemw/amarna/P271215/html\n"
     ]
    },
    {
     "name": "stderr",
     "output_type": "stream",
     "text": [
      "\r",
      " 13%|█▎        | 51/378 [00:39<03:16,  1.66it/s]"
     ]
    },
    {
     "name": "stdout",
     "output_type": "stream",
     "text": [
      "saving http://oracc.org/aemw/amarna/P271215 as HTML/aemw_amarna_P271215.html\n",
      "retrieving http://oracc.org/aemw/amarna/P270989/html\n"
     ]
    },
    {
     "name": "stderr",
     "output_type": "stream",
     "text": [
      "\r",
      " 14%|█▍        | 52/378 [00:40<03:28,  1.57it/s]"
     ]
    },
    {
     "name": "stdout",
     "output_type": "stream",
     "text": [
      "saving http://oracc.org/aemw/amarna/P270989 as HTML/aemw_amarna_P270989.html\n",
      "retrieving http://oracc.org/aemw/amarna/P270922/html\n"
     ]
    },
    {
     "name": "stderr",
     "output_type": "stream",
     "text": [
      "\r",
      " 14%|█▍        | 53/378 [00:41<04:30,  1.20it/s]"
     ]
    },
    {
     "name": "stdout",
     "output_type": "stream",
     "text": [
      "saving http://oracc.org/aemw/amarna/P270922 as HTML/aemw_amarna_P270922.html\n",
      "retrieving http://oracc.org/aemw/amarna/P271164/html\n"
     ]
    },
    {
     "name": "stderr",
     "output_type": "stream",
     "text": [
      "\r",
      " 14%|█▍        | 54/378 [00:42<04:29,  1.20it/s]"
     ]
    },
    {
     "name": "stdout",
     "output_type": "stream",
     "text": [
      "saving http://oracc.org/aemw/amarna/P271164 as HTML/aemw_amarna_P271164.html\n",
      "retrieving http://oracc.org/aemw/amarna/P270921/html\n"
     ]
    },
    {
     "name": "stderr",
     "output_type": "stream",
     "text": [
      "\r",
      " 15%|█▍        | 55/378 [00:43<04:51,  1.11it/s]"
     ]
    },
    {
     "name": "stdout",
     "output_type": "stream",
     "text": [
      "saving http://oracc.org/aemw/amarna/P270921 as HTML/aemw_amarna_P270921.html\n",
      "retrieving http://oracc.org/aemw/amarna/P271150/html\n"
     ]
    },
    {
     "name": "stderr",
     "output_type": "stream",
     "text": [
      "\r",
      " 15%|█▍        | 56/378 [00:44<04:43,  1.13it/s]"
     ]
    },
    {
     "name": "stdout",
     "output_type": "stream",
     "text": [
      "saving http://oracc.org/aemw/amarna/P271150 as HTML/aemw_amarna_P271150.html\n",
      "retrieving http://oracc.org/aemw/amarna/P271161/html\n"
     ]
    },
    {
     "name": "stderr",
     "output_type": "stream",
     "text": [
      "\r",
      " 15%|█▌        | 57/378 [00:44<04:16,  1.25it/s]"
     ]
    },
    {
     "name": "stdout",
     "output_type": "stream",
     "text": [
      "saving http://oracc.org/aemw/amarna/P271161 as HTML/aemw_amarna_P271161.html\n",
      "retrieving http://oracc.org/aemw/amarna/P271152/html\n"
     ]
    },
    {
     "name": "stderr",
     "output_type": "stream",
     "text": [
      "\r",
      " 15%|█▌        | 58/378 [00:45<03:56,  1.35it/s]"
     ]
    },
    {
     "name": "stdout",
     "output_type": "stream",
     "text": [
      "saving http://oracc.org/aemw/amarna/P271152 as HTML/aemw_amarna_P271152.html\n",
      "retrieving http://oracc.org/aemw/amarna/P270926/html\n"
     ]
    },
    {
     "name": "stderr",
     "output_type": "stream",
     "text": [
      "\r",
      " 16%|█▌        | 59/378 [00:46<04:05,  1.30it/s]"
     ]
    },
    {
     "name": "stdout",
     "output_type": "stream",
     "text": [
      "saving http://oracc.org/aemw/amarna/P270926 as HTML/aemw_amarna_P270926.html\n",
      "retrieving http://oracc.org/aemw/amarna/P271205/html\n"
     ]
    },
    {
     "name": "stderr",
     "output_type": "stream",
     "text": [
      "\r",
      " 16%|█▌        | 60/378 [00:46<03:49,  1.38it/s]"
     ]
    },
    {
     "name": "stdout",
     "output_type": "stream",
     "text": [
      "saving http://oracc.org/aemw/amarna/P271205 as HTML/aemw_amarna_P271205.html\n",
      "retrieving http://oracc.org/aemw/amarna/P270883/html\n"
     ]
    },
    {
     "name": "stderr",
     "output_type": "stream",
     "text": [
      "\r",
      " 16%|█▌        | 61/378 [00:47<03:17,  1.60it/s]"
     ]
    },
    {
     "name": "stdout",
     "output_type": "stream",
     "text": [
      "saving http://oracc.org/aemw/amarna/P270883 as HTML/aemw_amarna_P270883.html\n",
      "retrieving http://oracc.org/aemw/amarna/P271123/html\n"
     ]
    },
    {
     "name": "stderr",
     "output_type": "stream",
     "text": [
      "\r",
      " 16%|█▋        | 62/378 [00:48<03:47,  1.39it/s]"
     ]
    },
    {
     "name": "stdout",
     "output_type": "stream",
     "text": [
      "saving http://oracc.org/aemw/amarna/P271123 as HTML/aemw_amarna_P271123.html\n",
      "retrieving http://oracc.org/aemw/amarna/P270919/html\n"
     ]
    },
    {
     "name": "stderr",
     "output_type": "stream",
     "text": [
      "\r",
      " 17%|█▋        | 63/378 [00:48<03:15,  1.61it/s]"
     ]
    },
    {
     "name": "stdout",
     "output_type": "stream",
     "text": [
      "saving http://oracc.org/aemw/amarna/P270919 as HTML/aemw_amarna_P270919.html\n",
      "retrieving http://oracc.org/aemw/amarna/P270918/html\n"
     ]
    },
    {
     "name": "stderr",
     "output_type": "stream",
     "text": [
      "\r",
      " 17%|█▋        | 64/378 [00:48<03:03,  1.71it/s]"
     ]
    },
    {
     "name": "stdout",
     "output_type": "stream",
     "text": [
      "saving http://oracc.org/aemw/amarna/P270918 as HTML/aemw_amarna_P270918.html\n",
      "retrieving http://oracc.org/aemw/amarna/P271127/html\n"
     ]
    },
    {
     "name": "stderr",
     "output_type": "stream",
     "text": [
      "\r",
      " 17%|█▋        | 65/378 [00:49<02:44,  1.91it/s]"
     ]
    },
    {
     "name": "stdout",
     "output_type": "stream",
     "text": [
      "saving http://oracc.org/aemw/amarna/P271127 as HTML/aemw_amarna_P271127.html\n",
      "retrieving http://oracc.org/aemw/amarna/P271142/html\n"
     ]
    },
    {
     "name": "stderr",
     "output_type": "stream",
     "text": [
      "\r",
      " 17%|█▋        | 66/378 [00:49<02:20,  2.23it/s]"
     ]
    },
    {
     "name": "stdout",
     "output_type": "stream",
     "text": [
      "saving http://oracc.org/aemw/amarna/P271142 as HTML/aemw_amarna_P271142.html\n",
      "retrieving http://oracc.org/aemw/amarna/P271049/html\n"
     ]
    },
    {
     "name": "stderr",
     "output_type": "stream",
     "text": [
      "\r",
      " 18%|█▊        | 67/378 [00:50<02:34,  2.01it/s]"
     ]
    },
    {
     "name": "stdout",
     "output_type": "stream",
     "text": [
      "saving http://oracc.org/aemw/amarna/P271049 as HTML/aemw_amarna_P271049.html\n",
      "retrieving http://oracc.org/aemw/amarna/P271031/html\n"
     ]
    },
    {
     "name": "stderr",
     "output_type": "stream",
     "text": [
      "\r",
      " 18%|█▊        | 68/378 [00:50<02:34,  2.01it/s]"
     ]
    },
    {
     "name": "stdout",
     "output_type": "stream",
     "text": [
      "saving http://oracc.org/aemw/amarna/P271031 as HTML/aemw_amarna_P271031.html\n",
      "retrieving http://oracc.org/aemw/amarna/P270958/html\n"
     ]
    },
    {
     "name": "stderr",
     "output_type": "stream",
     "text": [
      "\r",
      " 18%|█▊        | 69/378 [00:51<02:44,  1.88it/s]"
     ]
    },
    {
     "name": "stdout",
     "output_type": "stream",
     "text": [
      "saving http://oracc.org/aemw/amarna/P270958 as HTML/aemw_amarna_P270958.html\n",
      "retrieving http://oracc.org/aemw/amarna/P271020/html\n"
     ]
    },
    {
     "name": "stderr",
     "output_type": "stream",
     "text": [
      "\r",
      " 19%|█▊        | 70/378 [00:51<02:50,  1.80it/s]"
     ]
    },
    {
     "name": "stdout",
     "output_type": "stream",
     "text": [
      "saving http://oracc.org/aemw/amarna/P271020 as HTML/aemw_amarna_P271020.html\n",
      "retrieving http://oracc.org/aemw/amarna/P271079/html\n"
     ]
    },
    {
     "name": "stderr",
     "output_type": "stream",
     "text": [
      "\r",
      " 19%|█▉        | 71/378 [00:52<02:55,  1.75it/s]"
     ]
    },
    {
     "name": "stdout",
     "output_type": "stream",
     "text": [
      "saving http://oracc.org/aemw/amarna/P271079 as HTML/aemw_amarna_P271079.html\n",
      "retrieving http://oracc.org/aemw/amarna/P271148/html\n"
     ]
    },
    {
     "name": "stderr",
     "output_type": "stream",
     "text": [
      "\r",
      " 19%|█▉        | 72/378 [00:52<02:37,  1.94it/s]"
     ]
    },
    {
     "name": "stdout",
     "output_type": "stream",
     "text": [
      "saving http://oracc.org/aemw/amarna/P271148 as HTML/aemw_amarna_P271148.html\n",
      "retrieving http://oracc.org/aemw/amarna/P270901/html\n"
     ]
    },
    {
     "name": "stderr",
     "output_type": "stream",
     "text": [
      "\r",
      " 19%|█▉        | 73/378 [00:53<02:56,  1.73it/s]"
     ]
    },
    {
     "name": "stdout",
     "output_type": "stream",
     "text": [
      "saving http://oracc.org/aemw/amarna/P270901 as HTML/aemw_amarna_P270901.html\n",
      "retrieving http://oracc.org/aemw/amarna/P270898/html\n"
     ]
    },
    {
     "name": "stderr",
     "output_type": "stream",
     "text": [
      "\r",
      " 20%|█▉        | 74/378 [00:55<04:46,  1.06it/s]"
     ]
    },
    {
     "name": "stdout",
     "output_type": "stream",
     "text": [
      "saving http://oracc.org/aemw/amarna/P270898 as HTML/aemw_amarna_P270898.html\n",
      "retrieving http://oracc.org/aemw/amarna/P270987/html\n"
     ]
    },
    {
     "name": "stderr",
     "output_type": "stream",
     "text": [
      "\r",
      " 20%|█▉        | 75/378 [00:56<04:45,  1.06it/s]"
     ]
    },
    {
     "name": "stdout",
     "output_type": "stream",
     "text": [
      "saving http://oracc.org/aemw/amarna/P270987 as HTML/aemw_amarna_P270987.html\n",
      "retrieving http://oracc.org/aemw/amarna/P271186/html\n"
     ]
    },
    {
     "name": "stderr",
     "output_type": "stream",
     "text": [
      "\r",
      " 20%|██        | 76/378 [00:57<04:24,  1.14it/s]"
     ]
    },
    {
     "name": "stdout",
     "output_type": "stream",
     "text": [
      "saving http://oracc.org/aemw/amarna/P271186 as HTML/aemw_amarna_P271186.html\n",
      "retrieving http://oracc.org/aemw/amarna/P271082/html\n"
     ]
    },
    {
     "name": "stderr",
     "output_type": "stream",
     "text": [
      "\r",
      " 20%|██        | 77/378 [00:57<04:12,  1.19it/s]"
     ]
    },
    {
     "name": "stdout",
     "output_type": "stream",
     "text": [
      "saving http://oracc.org/aemw/amarna/P271082 as HTML/aemw_amarna_P271082.html\n",
      "retrieving http://oracc.org/aemw/amarna/P271032/html\n"
     ]
    },
    {
     "name": "stderr",
     "output_type": "stream",
     "text": [
      "\r",
      " 21%|██        | 78/378 [00:58<03:50,  1.30it/s]"
     ]
    },
    {
     "name": "stdout",
     "output_type": "stream",
     "text": [
      "saving http://oracc.org/aemw/amarna/P271032 as HTML/aemw_amarna_P271032.html\n",
      "retrieving http://oracc.org/aemw/amarna/P271081/html\n"
     ]
    },
    {
     "name": "stderr",
     "output_type": "stream",
     "text": [
      "\r",
      " 21%|██        | 79/378 [00:59<03:56,  1.26it/s]"
     ]
    },
    {
     "name": "stdout",
     "output_type": "stream",
     "text": [
      "saving http://oracc.org/aemw/amarna/P271081 as HTML/aemw_amarna_P271081.html\n",
      "retrieving http://oracc.org/aemw/amarna/P271147/html\n"
     ]
    },
    {
     "name": "stderr",
     "output_type": "stream",
     "text": [
      "\r",
      " 21%|██        | 80/378 [00:59<03:29,  1.42it/s]"
     ]
    },
    {
     "name": "stdout",
     "output_type": "stream",
     "text": [
      "saving http://oracc.org/aemw/amarna/P271147 as HTML/aemw_amarna_P271147.html\n",
      "retrieving http://oracc.org/aemw/amarna/P271033/html\n"
     ]
    },
    {
     "name": "stderr",
     "output_type": "stream",
     "text": [
      "\r",
      " 21%|██▏       | 81/378 [01:00<04:00,  1.24it/s]"
     ]
    },
    {
     "name": "stdout",
     "output_type": "stream",
     "text": [
      "saving http://oracc.org/aemw/amarna/P271033 as HTML/aemw_amarna_P271033.html\n",
      "retrieving http://oracc.org/aemw/amarna/P270970/html\n"
     ]
    },
    {
     "name": "stderr",
     "output_type": "stream",
     "text": [
      "\r",
      " 22%|██▏       | 82/378 [01:01<04:11,  1.18it/s]"
     ]
    },
    {
     "name": "stdout",
     "output_type": "stream",
     "text": [
      "saving http://oracc.org/aemw/amarna/P270970 as HTML/aemw_amarna_P270970.html\n",
      "retrieving http://oracc.org/aemw/amarna/P270900/html\n"
     ]
    },
    {
     "name": "stderr",
     "output_type": "stream",
     "text": [
      "\r",
      " 22%|██▏       | 83/378 [01:02<04:19,  1.14it/s]"
     ]
    },
    {
     "name": "stdout",
     "output_type": "stream",
     "text": [
      "saving http://oracc.org/aemw/amarna/P270900 as HTML/aemw_amarna_P270900.html\n",
      "retrieving http://oracc.org/aemw/amarna/P271080/html\n"
     ]
    },
    {
     "name": "stderr",
     "output_type": "stream",
     "text": [
      "\r",
      " 22%|██▏       | 84/378 [01:03<04:17,  1.14it/s]"
     ]
    },
    {
     "name": "stdout",
     "output_type": "stream",
     "text": [
      "saving http://oracc.org/aemw/amarna/P271080 as HTML/aemw_amarna_P271080.html\n",
      "retrieving http://oracc.org/aemw/amarna/P271073/html\n"
     ]
    },
    {
     "name": "stderr",
     "output_type": "stream",
     "text": [
      "\r",
      " 22%|██▏       | 85/378 [01:05<05:11,  1.06s/it]"
     ]
    },
    {
     "name": "stdout",
     "output_type": "stream",
     "text": [
      "saving http://oracc.org/aemw/amarna/P271073 as HTML/aemw_amarna_P271073.html\n",
      "retrieving http://oracc.org/aemw/amarna/P270907/html\n"
     ]
    },
    {
     "name": "stderr",
     "output_type": "stream",
     "text": [
      "\r",
      " 23%|██▎       | 86/378 [01:06<05:37,  1.16s/it]"
     ]
    },
    {
     "name": "stdout",
     "output_type": "stream",
     "text": [
      "saving http://oracc.org/aemw/amarna/P270907 as HTML/aemw_amarna_P270907.html\n",
      "retrieving http://oracc.org/aemw/amarna/P270908/html\n"
     ]
    },
    {
     "name": "stderr",
     "output_type": "stream",
     "text": [
      "\r",
      " 23%|██▎       | 87/378 [01:07<04:49,  1.01it/s]"
     ]
    },
    {
     "name": "stdout",
     "output_type": "stream",
     "text": [
      "saving http://oracc.org/aemw/amarna/P270908 as HTML/aemw_amarna_P270908.html\n",
      "retrieving http://oracc.org/aemw/amarna/P270903/html\n"
     ]
    },
    {
     "name": "stderr",
     "output_type": "stream",
     "text": [
      "\r",
      " 23%|██▎       | 88/378 [01:08<05:57,  1.23s/it]"
     ]
    },
    {
     "name": "stdout",
     "output_type": "stream",
     "text": [
      "saving http://oracc.org/aemw/amarna/P270903 as HTML/aemw_amarna_P270903.html\n",
      "retrieving http://oracc.org/aemw/amarna/P271074/html\n"
     ]
    },
    {
     "name": "stderr",
     "output_type": "stream",
     "text": [
      "\r",
      " 24%|██▎       | 89/378 [01:10<05:51,  1.22s/it]"
     ]
    },
    {
     "name": "stdout",
     "output_type": "stream",
     "text": [
      "saving http://oracc.org/aemw/amarna/P271074 as HTML/aemw_amarna_P271074.html\n",
      "retrieving http://oracc.org/aemw/amarna/P271105/html\n"
     ]
    },
    {
     "name": "stderr",
     "output_type": "stream",
     "text": [
      "\r",
      " 24%|██▍       | 90/378 [01:11<05:27,  1.14s/it]"
     ]
    },
    {
     "name": "stdout",
     "output_type": "stream",
     "text": [
      "saving http://oracc.org/aemw/amarna/P271105 as HTML/aemw_amarna_P271105.html\n",
      "retrieving http://oracc.org/aemw/amarna/P271218/html\n"
     ]
    },
    {
     "name": "stderr",
     "output_type": "stream",
     "text": [
      "\r",
      " 24%|██▍       | 91/378 [01:12<05:49,  1.22s/it]"
     ]
    },
    {
     "name": "stdout",
     "output_type": "stream",
     "text": [
      "saving http://oracc.org/aemw/amarna/P271218 as HTML/aemw_amarna_P271218.html\n",
      "retrieving http://oracc.org/aemw/amarna/P271217/html\n"
     ]
    },
    {
     "name": "stderr",
     "output_type": "stream",
     "text": [
      "\r",
      " 24%|██▍       | 92/378 [01:13<05:35,  1.17s/it]"
     ]
    },
    {
     "name": "stdout",
     "output_type": "stream",
     "text": [
      "saving http://oracc.org/aemw/amarna/P271217 as HTML/aemw_amarna_P271217.html\n",
      "retrieving http://oracc.org/aemw/amarna/P271106/html\n"
     ]
    },
    {
     "name": "stderr",
     "output_type": "stream",
     "text": [
      "\r",
      " 25%|██▍       | 93/378 [01:14<04:36,  1.03it/s]"
     ]
    },
    {
     "name": "stdout",
     "output_type": "stream",
     "text": [
      "saving http://oracc.org/aemw/amarna/P271106 as HTML/aemw_amarna_P271106.html\n",
      "retrieving http://oracc.org/aemw/amarna/P270986/html\n"
     ]
    },
    {
     "name": "stderr",
     "output_type": "stream",
     "text": [
      "\r",
      " 25%|██▍       | 94/378 [01:14<04:33,  1.04it/s]"
     ]
    },
    {
     "name": "stdout",
     "output_type": "stream",
     "text": [
      "saving http://oracc.org/aemw/amarna/P270986 as HTML/aemw_amarna_P270986.html\n",
      "retrieving http://oracc.org/aemw/amarna/P271111/html\n"
     ]
    },
    {
     "name": "stderr",
     "output_type": "stream",
     "text": [
      "\r",
      " 25%|██▌       | 95/378 [01:15<04:22,  1.08it/s]"
     ]
    },
    {
     "name": "stdout",
     "output_type": "stream",
     "text": [
      "saving http://oracc.org/aemw/amarna/P271111 as HTML/aemw_amarna_P271111.html\n",
      "retrieving http://oracc.org/aemw/amarna/P271030/html\n"
     ]
    },
    {
     "name": "stderr",
     "output_type": "stream",
     "text": [
      "\r",
      " 25%|██▌       | 96/378 [01:16<03:54,  1.20it/s]"
     ]
    },
    {
     "name": "stdout",
     "output_type": "stream",
     "text": [
      "saving http://oracc.org/aemw/amarna/P271030 as HTML/aemw_amarna_P271030.html\n",
      "retrieving http://oracc.org/aemw/amarna/P271055/html\n"
     ]
    },
    {
     "name": "stderr",
     "output_type": "stream",
     "text": [
      "\r",
      " 26%|██▌       | 97/378 [01:16<03:16,  1.43it/s]"
     ]
    },
    {
     "name": "stdout",
     "output_type": "stream",
     "text": [
      "saving http://oracc.org/aemw/amarna/P271055 as HTML/aemw_amarna_P271055.html\n",
      "retrieving http://oracc.org/aemw/amarna/P271118/html\n"
     ]
    },
    {
     "name": "stderr",
     "output_type": "stream",
     "text": [
      "\r",
      " 26%|██▌       | 98/378 [01:17<03:08,  1.49it/s]"
     ]
    },
    {
     "name": "stdout",
     "output_type": "stream",
     "text": [
      "saving http://oracc.org/aemw/amarna/P271118 as HTML/aemw_amarna_P271118.html\n",
      "retrieving http://oracc.org/aemw/amarna/P270974/html\n"
     ]
    },
    {
     "name": "stderr",
     "output_type": "stream",
     "text": [
      "\r",
      " 26%|██▌       | 99/378 [01:18<03:02,  1.53it/s]"
     ]
    },
    {
     "name": "stdout",
     "output_type": "stream",
     "text": [
      "saving http://oracc.org/aemw/amarna/P270974 as HTML/aemw_amarna_P270974.html\n",
      "retrieving http://oracc.org/aemw/amarna/P270927/html\n"
     ]
    },
    {
     "name": "stderr",
     "output_type": "stream",
     "text": [
      "\r",
      " 26%|██▋       | 100/378 [01:18<03:07,  1.48it/s]"
     ]
    },
    {
     "name": "stdout",
     "output_type": "stream",
     "text": [
      "saving http://oracc.org/aemw/amarna/P270927 as HTML/aemw_amarna_P270927.html\n",
      "retrieving http://oracc.org/aemw/amarna/P270929/html\n"
     ]
    },
    {
     "name": "stderr",
     "output_type": "stream",
     "text": [
      "\r",
      " 27%|██▋       | 101/378 [01:19<03:01,  1.52it/s]"
     ]
    },
    {
     "name": "stdout",
     "output_type": "stream",
     "text": [
      "saving http://oracc.org/aemw/amarna/P270929 as HTML/aemw_amarna_P270929.html\n",
      "retrieving http://oracc.org/aemw/amarna/P270909/html\n"
     ]
    },
    {
     "name": "stderr",
     "output_type": "stream",
     "text": [
      "\r",
      " 27%|██▋       | 102/378 [01:20<03:14,  1.42it/s]"
     ]
    },
    {
     "name": "stdout",
     "output_type": "stream",
     "text": [
      "saving http://oracc.org/aemw/amarna/P270909 as HTML/aemw_amarna_P270909.html\n",
      "retrieving http://oracc.org/aemw/amarna/P271029/html\n"
     ]
    },
    {
     "name": "stderr",
     "output_type": "stream",
     "text": [
      "\r",
      " 27%|██▋       | 103/378 [01:21<03:24,  1.35it/s]"
     ]
    },
    {
     "name": "stdout",
     "output_type": "stream",
     "text": [
      "saving http://oracc.org/aemw/amarna/P271029 as HTML/aemw_amarna_P271029.html\n",
      "retrieving http://oracc.org/aemw/amarna/P270981/html\n"
     ]
    },
    {
     "name": "stderr",
     "output_type": "stream",
     "text": [
      "\r",
      " 28%|██▊       | 104/378 [01:21<03:31,  1.30it/s]"
     ]
    },
    {
     "name": "stdout",
     "output_type": "stream",
     "text": [
      "saving http://oracc.org/aemw/amarna/P270981 as HTML/aemw_amarna_P270981.html\n",
      "retrieving http://oracc.org/aemw/amarna/P271075/html\n"
     ]
    },
    {
     "name": "stderr",
     "output_type": "stream",
     "text": [
      "\r",
      " 28%|██▊       | 105/378 [01:24<05:28,  1.20s/it]"
     ]
    },
    {
     "name": "stdout",
     "output_type": "stream",
     "text": [
      "saving http://oracc.org/aemw/amarna/P271075 as HTML/aemw_amarna_P271075.html\n",
      "retrieving http://oracc.org/aemw/amarna/P271206/html\n"
     ]
    },
    {
     "name": "stderr",
     "output_type": "stream",
     "text": [
      "\r",
      " 28%|██▊       | 106/378 [01:25<05:42,  1.26s/it]"
     ]
    },
    {
     "name": "stdout",
     "output_type": "stream",
     "text": [
      "saving http://oracc.org/aemw/amarna/P271206 as HTML/aemw_amarna_P271206.html\n",
      "retrieving http://oracc.org/aemw/amarna/P271208/html\n"
     ]
    },
    {
     "name": "stderr",
     "output_type": "stream",
     "text": [
      "\r",
      " 28%|██▊       | 107/378 [01:26<04:58,  1.10s/it]"
     ]
    },
    {
     "name": "stdout",
     "output_type": "stream",
     "text": [
      "saving http://oracc.org/aemw/amarna/P271208 as HTML/aemw_amarna_P271208.html\n",
      "retrieving http://oracc.org/aemw/amarna/P271207/html\n"
     ]
    },
    {
     "name": "stderr",
     "output_type": "stream",
     "text": [
      "\r",
      " 29%|██▊       | 108/378 [01:27<05:02,  1.12s/it]"
     ]
    },
    {
     "name": "stdout",
     "output_type": "stream",
     "text": [
      "saving http://oracc.org/aemw/amarna/P271207 as HTML/aemw_amarna_P271207.html\n",
      "retrieving http://oracc.org/aemw/amarna/P271076/html\n"
     ]
    },
    {
     "name": "stderr",
     "output_type": "stream",
     "text": [
      "\r",
      " 29%|██▉       | 109/378 [01:28<05:18,  1.18s/it]"
     ]
    },
    {
     "name": "stdout",
     "output_type": "stream",
     "text": [
      "saving http://oracc.org/aemw/amarna/P271076 as HTML/aemw_amarna_P271076.html\n",
      "retrieving http://oracc.org/aemw/amarna/P271109/html\n"
     ]
    },
    {
     "name": "stderr",
     "output_type": "stream",
     "text": [
      "\r",
      " 29%|██▉       | 110/378 [01:29<04:31,  1.01s/it]"
     ]
    },
    {
     "name": "stdout",
     "output_type": "stream",
     "text": [
      "saving http://oracc.org/aemw/amarna/P271109 as HTML/aemw_amarna_P271109.html\n",
      "retrieving http://oracc.org/aemw/amarna/P271078/html\n"
     ]
    },
    {
     "name": "stderr",
     "output_type": "stream",
     "text": [
      "\r",
      " 29%|██▉       | 111/378 [01:29<03:48,  1.17it/s]"
     ]
    },
    {
     "name": "stdout",
     "output_type": "stream",
     "text": [
      "saving http://oracc.org/aemw/amarna/P271078 as HTML/aemw_amarna_P271078.html\n",
      "retrieving http://oracc.org/aemw/amarna/P271107/html\n"
     ]
    },
    {
     "name": "stderr",
     "output_type": "stream",
     "text": [
      "\r",
      " 30%|██▉       | 112/378 [01:30<03:46,  1.18it/s]"
     ]
    },
    {
     "name": "stdout",
     "output_type": "stream",
     "text": [
      "saving http://oracc.org/aemw/amarna/P271107 as HTML/aemw_amarna_P271107.html\n",
      "retrieving http://oracc.org/aemw/amarna/P270983/html\n"
     ]
    },
    {
     "name": "stderr",
     "output_type": "stream",
     "text": [
      "\r",
      " 30%|██▉       | 113/378 [01:31<03:43,  1.18it/s]"
     ]
    },
    {
     "name": "stdout",
     "output_type": "stream",
     "text": [
      "saving http://oracc.org/aemw/amarna/P270983 as HTML/aemw_amarna_P270983.html\n",
      "retrieving http://oracc.org/aemw/amarna/P270899/html\n"
     ]
    },
    {
     "name": "stderr",
     "output_type": "stream",
     "text": [
      "\r",
      " 30%|███       | 114/378 [01:32<03:59,  1.10it/s]"
     ]
    },
    {
     "name": "stdout",
     "output_type": "stream",
     "text": [
      "saving http://oracc.org/aemw/amarna/P270899 as HTML/aemw_amarna_P270899.html\n",
      "retrieving http://oracc.org/aemw/amarna/P271077/html\n"
     ]
    },
    {
     "name": "stderr",
     "output_type": "stream",
     "text": [
      "\r",
      " 30%|███       | 115/378 [01:33<03:26,  1.27it/s]"
     ]
    },
    {
     "name": "stdout",
     "output_type": "stream",
     "text": [
      "saving http://oracc.org/aemw/amarna/P271077 as HTML/aemw_amarna_P271077.html\n",
      "retrieving http://oracc.org/aemw/amarna/P270982/html\n"
     ]
    },
    {
     "name": "stderr",
     "output_type": "stream",
     "text": [
      "\r",
      " 31%|███       | 116/378 [01:34<03:56,  1.11it/s]"
     ]
    },
    {
     "name": "stdout",
     "output_type": "stream",
     "text": [
      "saving http://oracc.org/aemw/amarna/P270982 as HTML/aemw_amarna_P270982.html\n",
      "retrieving http://oracc.org/aemw/amarna/P271211/html\n"
     ]
    },
    {
     "name": "stderr",
     "output_type": "stream",
     "text": [
      "\r",
      " 31%|███       | 117/378 [01:35<04:33,  1.05s/it]"
     ]
    },
    {
     "name": "stdout",
     "output_type": "stream",
     "text": [
      "saving http://oracc.org/aemw/amarna/P271211 as HTML/aemw_amarna_P271211.html\n",
      "retrieving http://oracc.org/aemw/amarna/P270886/html\n"
     ]
    },
    {
     "name": "stderr",
     "output_type": "stream",
     "text": [
      "\r",
      " 31%|███       | 118/378 [01:36<04:24,  1.02s/it]"
     ]
    },
    {
     "name": "stdout",
     "output_type": "stream",
     "text": [
      "saving http://oracc.org/aemw/amarna/P270886 as HTML/aemw_amarna_P270886.html\n",
      "retrieving http://oracc.org/aemw/amarna/P271210/html\n"
     ]
    },
    {
     "name": "stderr",
     "output_type": "stream",
     "text": [
      "\r",
      " 31%|███▏      | 119/378 [01:37<04:13,  1.02it/s]"
     ]
    },
    {
     "name": "stdout",
     "output_type": "stream",
     "text": [
      "saving http://oracc.org/aemw/amarna/P271210 as HTML/aemw_amarna_P271210.html\n",
      "retrieving http://oracc.org/aemw/amarna/P271083/html\n"
     ]
    },
    {
     "name": "stderr",
     "output_type": "stream",
     "text": [
      "\r",
      " 32%|███▏      | 120/378 [01:38<03:53,  1.11it/s]"
     ]
    },
    {
     "name": "stdout",
     "output_type": "stream",
     "text": [
      "saving http://oracc.org/aemw/amarna/P271083 as HTML/aemw_amarna_P271083.html\n",
      "retrieving http://oracc.org/aemw/amarna/P271108/html\n"
     ]
    },
    {
     "name": "stderr",
     "output_type": "stream",
     "text": [
      "\r",
      " 32%|███▏      | 121/378 [01:38<03:38,  1.18it/s]"
     ]
    },
    {
     "name": "stdout",
     "output_type": "stream",
     "text": [
      "saving http://oracc.org/aemw/amarna/P271108 as HTML/aemw_amarna_P271108.html\n",
      "retrieving http://oracc.org/aemw/amarna/P271072/html\n"
     ]
    },
    {
     "name": "stderr",
     "output_type": "stream",
     "text": [
      "\r",
      " 32%|███▏      | 122/378 [01:39<03:28,  1.23it/s]"
     ]
    },
    {
     "name": "stdout",
     "output_type": "stream",
     "text": [
      "saving http://oracc.org/aemw/amarna/P271072 as HTML/aemw_amarna_P271072.html\n",
      "retrieving http://oracc.org/aemw/amarna/P270906/html\n"
     ]
    },
    {
     "name": "stderr",
     "output_type": "stream",
     "text": [
      "\r",
      " 33%|███▎      | 123/378 [01:40<03:11,  1.33it/s]"
     ]
    },
    {
     "name": "stdout",
     "output_type": "stream",
     "text": [
      "saving http://oracc.org/aemw/amarna/P270906 as HTML/aemw_amarna_P270906.html\n",
      "retrieving http://oracc.org/aemw/amarna/P270985/html\n"
     ]
    },
    {
     "name": "stderr",
     "output_type": "stream",
     "text": [
      "\r",
      " 33%|███▎      | 124/378 [01:41<03:26,  1.23it/s]"
     ]
    },
    {
     "name": "stdout",
     "output_type": "stream",
     "text": [
      "saving http://oracc.org/aemw/amarna/P270985 as HTML/aemw_amarna_P270985.html\n",
      "retrieving http://oracc.org/aemw/amarna/P270905/html\n"
     ]
    },
    {
     "name": "stderr",
     "output_type": "stream",
     "text": [
      "\r",
      " 33%|███▎      | 125/378 [01:42<03:27,  1.22it/s]"
     ]
    },
    {
     "name": "stdout",
     "output_type": "stream",
     "text": [
      "saving http://oracc.org/aemw/amarna/P270905 as HTML/aemw_amarna_P270905.html\n",
      "retrieving http://oracc.org/aemw/amarna/P271028/html\n"
     ]
    },
    {
     "name": "stderr",
     "output_type": "stream",
     "text": [
      "\r",
      " 33%|███▎      | 126/378 [01:42<03:36,  1.17it/s]"
     ]
    },
    {
     "name": "stdout",
     "output_type": "stream",
     "text": [
      "saving http://oracc.org/aemw/amarna/P271028 as HTML/aemw_amarna_P271028.html\n",
      "retrieving http://oracc.org/aemw/amarna/P271129/html\n"
     ]
    },
    {
     "name": "stderr",
     "output_type": "stream",
     "text": [
      "\r",
      " 34%|███▎      | 127/378 [01:43<03:33,  1.18it/s]"
     ]
    },
    {
     "name": "stdout",
     "output_type": "stream",
     "text": [
      "saving http://oracc.org/aemw/amarna/P271129 as HTML/aemw_amarna_P271129.html\n",
      "retrieving http://oracc.org/aemw/amarna/P271167/html\n"
     ]
    },
    {
     "name": "stderr",
     "output_type": "stream",
     "text": [
      "\r",
      " 34%|███▍      | 128/378 [01:44<02:57,  1.41it/s]"
     ]
    },
    {
     "name": "stdout",
     "output_type": "stream",
     "text": [
      "saving http://oracc.org/aemw/amarna/P271167 as HTML/aemw_amarna_P271167.html\n",
      "retrieving http://oracc.org/aemw/amarna/P271084/html\n"
     ]
    },
    {
     "name": "stderr",
     "output_type": "stream",
     "text": [
      "\r",
      " 34%|███▍      | 129/378 [01:45<03:39,  1.13it/s]"
     ]
    },
    {
     "name": "stdout",
     "output_type": "stream",
     "text": [
      "saving http://oracc.org/aemw/amarna/P271084 as HTML/aemw_amarna_P271084.html\n",
      "retrieving http://oracc.org/aemw/amarna/P271071/html\n"
     ]
    },
    {
     "name": "stderr",
     "output_type": "stream",
     "text": [
      "\r",
      " 34%|███▍      | 130/378 [01:47<04:39,  1.13s/it]"
     ]
    },
    {
     "name": "stdout",
     "output_type": "stream",
     "text": [
      "saving http://oracc.org/aemw/amarna/P271071 as HTML/aemw_amarna_P271071.html\n",
      "retrieving http://oracc.org/aemw/amarna/P270910/html\n"
     ]
    },
    {
     "name": "stderr",
     "output_type": "stream",
     "text": [
      "\r",
      " 35%|███▍      | 131/378 [01:48<04:33,  1.11s/it]"
     ]
    },
    {
     "name": "stdout",
     "output_type": "stream",
     "text": [
      "saving http://oracc.org/aemw/amarna/P270910 as HTML/aemw_amarna_P270910.html\n",
      "retrieving http://oracc.org/aemw/amarna/P270904/html\n"
     ]
    },
    {
     "name": "stderr",
     "output_type": "stream",
     "text": [
      "\r",
      " 35%|███▍      | 132/378 [01:49<04:12,  1.03s/it]"
     ]
    },
    {
     "name": "stdout",
     "output_type": "stream",
     "text": [
      "saving http://oracc.org/aemw/amarna/P270904 as HTML/aemw_amarna_P270904.html\n",
      "retrieving http://oracc.org/aemw/amarna/P271110/html\n"
     ]
    },
    {
     "name": "stderr",
     "output_type": "stream",
     "text": [
      "\r",
      " 35%|███▌      | 133/378 [01:49<03:24,  1.20it/s]"
     ]
    },
    {
     "name": "stdout",
     "output_type": "stream",
     "text": [
      "saving http://oracc.org/aemw/amarna/P271110 as HTML/aemw_amarna_P271110.html\n",
      "retrieving http://oracc.org/aemw/amarna/P270984/html\n"
     ]
    },
    {
     "name": "stderr",
     "output_type": "stream",
     "text": [
      "\r",
      " 35%|███▌      | 134/378 [01:50<03:07,  1.30it/s]"
     ]
    },
    {
     "name": "stdout",
     "output_type": "stream",
     "text": [
      "saving http://oracc.org/aemw/amarna/P270984 as HTML/aemw_amarna_P270984.html\n",
      "retrieving http://oracc.org/aemw/amarna/P270879/html\n"
     ]
    },
    {
     "name": "stderr",
     "output_type": "stream",
     "text": [
      "\r",
      " 36%|███▌      | 135/378 [01:50<02:54,  1.40it/s]"
     ]
    },
    {
     "name": "stdout",
     "output_type": "stream",
     "text": [
      "saving http://oracc.org/aemw/amarna/P270879 as HTML/aemw_amarna_P270879.html\n",
      "retrieving http://oracc.org/aemw/amarna/P270902/html\n"
     ]
    },
    {
     "name": "stderr",
     "output_type": "stream",
     "text": [
      "\r",
      " 36%|███▌      | 136/378 [01:51<03:34,  1.13it/s]"
     ]
    },
    {
     "name": "stdout",
     "output_type": "stream",
     "text": [
      "saving http://oracc.org/aemw/amarna/P270902 as HTML/aemw_amarna_P270902.html\n",
      "retrieving http://oracc.org/aemw/amarna/P271021/html\n"
     ]
    },
    {
     "name": "stderr",
     "output_type": "stream",
     "text": [
      "\r",
      " 36%|███▌      | 137/378 [01:53<04:18,  1.07s/it]"
     ]
    },
    {
     "name": "stdout",
     "output_type": "stream",
     "text": [
      "saving http://oracc.org/aemw/amarna/P271021 as HTML/aemw_amarna_P271021.html\n",
      "retrieving http://oracc.org/aemw/amarna/P271212/html\n"
     ]
    },
    {
     "name": "stderr",
     "output_type": "stream",
     "text": [
      "\r",
      " 37%|███▋      | 138/378 [01:55<05:14,  1.31s/it]"
     ]
    },
    {
     "name": "stdout",
     "output_type": "stream",
     "text": [
      "saving http://oracc.org/aemw/amarna/P271212 as HTML/aemw_amarna_P271212.html\n",
      "retrieving http://oracc.org/aemw/amarna/P270930/html\n"
     ]
    },
    {
     "name": "stderr",
     "output_type": "stream",
     "text": [
      "\r",
      " 37%|███▋      | 139/378 [01:56<04:30,  1.13s/it]"
     ]
    },
    {
     "name": "stdout",
     "output_type": "stream",
     "text": [
      "saving http://oracc.org/aemw/amarna/P270930 as HTML/aemw_amarna_P270930.html\n",
      "retrieving http://oracc.org/aemw/amarna/P271085/html\n"
     ]
    },
    {
     "name": "stderr",
     "output_type": "stream",
     "text": [
      "\r",
      " 37%|███▋      | 140/378 [01:56<03:53,  1.02it/s]"
     ]
    },
    {
     "name": "stdout",
     "output_type": "stream",
     "text": [
      "saving http://oracc.org/aemw/amarna/P271085 as HTML/aemw_amarna_P271085.html\n",
      "retrieving http://oracc.org/aemw/amarna/P270911/html\n"
     ]
    },
    {
     "name": "stderr",
     "output_type": "stream",
     "text": [
      "\r",
      " 37%|███▋      | 141/378 [01:57<03:41,  1.07it/s]"
     ]
    },
    {
     "name": "stdout",
     "output_type": "stream",
     "text": [
      "saving http://oracc.org/aemw/amarna/P270911 as HTML/aemw_amarna_P270911.html\n",
      "retrieving http://oracc.org/aemw/amarna/P270912/html\n"
     ]
    },
    {
     "name": "stderr",
     "output_type": "stream",
     "text": [
      "\r",
      " 38%|███▊      | 142/378 [01:58<03:21,  1.17it/s]"
     ]
    },
    {
     "name": "stdout",
     "output_type": "stream",
     "text": [
      "saving http://oracc.org/aemw/amarna/P270912 as HTML/aemw_amarna_P270912.html\n",
      "retrieving http://oracc.org/aemw/amarna/P271043/html\n"
     ]
    },
    {
     "name": "stderr",
     "output_type": "stream",
     "text": [
      "\r",
      " 38%|███▊      | 143/378 [01:58<03:11,  1.23it/s]"
     ]
    },
    {
     "name": "stdout",
     "output_type": "stream",
     "text": [
      "saving http://oracc.org/aemw/amarna/P271043 as HTML/aemw_amarna_P271043.html\n",
      "retrieving http://oracc.org/aemw/amarna/P271185/html\n"
     ]
    },
    {
     "name": "stderr",
     "output_type": "stream",
     "text": [
      "\r",
      " 38%|███▊      | 144/378 [01:59<03:11,  1.22it/s]"
     ]
    },
    {
     "name": "stdout",
     "output_type": "stream",
     "text": [
      "saving http://oracc.org/aemw/amarna/P271185 as HTML/aemw_amarna_P271185.html\n",
      "retrieving http://oracc.org/aemw/amarna/P271136/html\n"
     ]
    },
    {
     "name": "stderr",
     "output_type": "stream",
     "text": [
      "\r",
      " 38%|███▊      | 145/378 [02:00<02:57,  1.32it/s]"
     ]
    },
    {
     "name": "stdout",
     "output_type": "stream",
     "text": [
      "saving http://oracc.org/aemw/amarna/P271136 as HTML/aemw_amarna_P271136.html\n",
      "retrieving http://oracc.org/aemw/amarna/P271166/html\n"
     ]
    },
    {
     "name": "stderr",
     "output_type": "stream",
     "text": [
      "\r",
      " 39%|███▊      | 146/378 [02:00<02:45,  1.40it/s]"
     ]
    },
    {
     "name": "stdout",
     "output_type": "stream",
     "text": [
      "saving http://oracc.org/aemw/amarna/P271166 as HTML/aemw_amarna_P271166.html\n",
      "retrieving http://oracc.org/aemw/amarna/P270914/html\n"
     ]
    },
    {
     "name": "stderr",
     "output_type": "stream",
     "text": [
      "\r",
      " 39%|███▉      | 147/378 [02:02<03:24,  1.13it/s]"
     ]
    },
    {
     "name": "stdout",
     "output_type": "stream",
     "text": [
      "saving http://oracc.org/aemw/amarna/P270914 as HTML/aemw_amarna_P270914.html\n",
      "retrieving http://oracc.org/aemw/amarna/P270994/html\n"
     ]
    },
    {
     "name": "stderr",
     "output_type": "stream",
     "text": [
      "\r",
      " 39%|███▉      | 148/378 [02:02<03:12,  1.20it/s]"
     ]
    },
    {
     "name": "stdout",
     "output_type": "stream",
     "text": [
      "saving http://oracc.org/aemw/amarna/P270994 as HTML/aemw_amarna_P270994.html\n",
      "retrieving http://oracc.org/aemw/amarna/P270913/html\n"
     ]
    },
    {
     "name": "stderr",
     "output_type": "stream",
     "text": [
      "\r",
      " 39%|███▉      | 149/378 [02:04<03:44,  1.02it/s]"
     ]
    },
    {
     "name": "stdout",
     "output_type": "stream",
     "text": [
      "saving http://oracc.org/aemw/amarna/P270913 as HTML/aemw_amarna_P270913.html\n",
      "retrieving http://oracc.org/aemw/amarna/P270995/html\n"
     ]
    },
    {
     "name": "stderr",
     "output_type": "stream",
     "text": [
      "\r",
      " 40%|███▉      | 150/378 [02:04<03:11,  1.19it/s]"
     ]
    },
    {
     "name": "stdout",
     "output_type": "stream",
     "text": [
      "saving http://oracc.org/aemw/amarna/P270995 as HTML/aemw_amarna_P270995.html\n",
      "retrieving http://oracc.org/aemw/amarna/P270915/html\n"
     ]
    },
    {
     "name": "stderr",
     "output_type": "stream",
     "text": [
      "\r",
      " 40%|███▉      | 151/378 [02:06<04:04,  1.08s/it]"
     ]
    },
    {
     "name": "stdout",
     "output_type": "stream",
     "text": [
      "saving http://oracc.org/aemw/amarna/P270915 as HTML/aemw_amarna_P270915.html\n",
      "retrieving http://oracc.org/aemw/amarna/P271155/html\n"
     ]
    },
    {
     "name": "stderr",
     "output_type": "stream",
     "text": [
      "\r",
      " 40%|████      | 152/378 [02:07<03:54,  1.04s/it]"
     ]
    },
    {
     "name": "stdout",
     "output_type": "stream",
     "text": [
      "saving http://oracc.org/aemw/amarna/P271155 as HTML/aemw_amarna_P271155.html\n",
      "retrieving http://oracc.org/aemw/amarna/P271025/html\n"
     ]
    },
    {
     "name": "stderr",
     "output_type": "stream",
     "text": [
      "\r",
      " 40%|████      | 153/378 [02:07<03:09,  1.19it/s]"
     ]
    },
    {
     "name": "stdout",
     "output_type": "stream",
     "text": [
      "saving http://oracc.org/aemw/amarna/P271025 as HTML/aemw_amarna_P271025.html\n",
      "retrieving http://oracc.org/aemw/amarna/P271154/html\n"
     ]
    },
    {
     "name": "stderr",
     "output_type": "stream",
     "text": [
      "\r",
      " 41%|████      | 154/378 [02:08<02:45,  1.35it/s]"
     ]
    },
    {
     "name": "stdout",
     "output_type": "stream",
     "text": [
      "saving http://oracc.org/aemw/amarna/P271154 as HTML/aemw_amarna_P271154.html\n",
      "retrieving http://oracc.org/aemw/amarna/P270916/html\n"
     ]
    },
    {
     "name": "stderr",
     "output_type": "stream",
     "text": [
      "\r",
      " 41%|████      | 155/378 [02:09<03:13,  1.15it/s]"
     ]
    },
    {
     "name": "stdout",
     "output_type": "stream",
     "text": [
      "saving http://oracc.org/aemw/amarna/P270916 as HTML/aemw_amarna_P270916.html\n",
      "retrieving http://oracc.org/aemw/amarna/P271199/html\n"
     ]
    },
    {
     "name": "stderr",
     "output_type": "stream",
     "text": [
      "\r",
      " 41%|████▏     | 156/378 [02:09<02:40,  1.38it/s]"
     ]
    },
    {
     "name": "stdout",
     "output_type": "stream",
     "text": [
      "saving http://oracc.org/aemw/amarna/P271199 as HTML/aemw_amarna_P271199.html\n",
      "retrieving http://oracc.org/aemw/amarna/P271216/html\n"
     ]
    },
    {
     "name": "stderr",
     "output_type": "stream",
     "text": [
      "\r",
      " 42%|████▏     | 157/378 [02:10<02:47,  1.32it/s]"
     ]
    },
    {
     "name": "stdout",
     "output_type": "stream",
     "text": [
      "saving http://oracc.org/aemw/amarna/P271216 as HTML/aemw_amarna_P271216.html\n",
      "retrieving http://oracc.org/aemw/amarna/P270988/html\n"
     ]
    },
    {
     "name": "stderr",
     "output_type": "stream",
     "text": [
      "\r",
      " 42%|████▏     | 158/378 [02:11<02:47,  1.31it/s]"
     ]
    },
    {
     "name": "stdout",
     "output_type": "stream",
     "text": [
      "saving http://oracc.org/aemw/amarna/P270988 as HTML/aemw_amarna_P270988.html\n",
      "retrieving http://oracc.org/aemw/amarna/P271102/html\n"
     ]
    },
    {
     "name": "stderr",
     "output_type": "stream",
     "text": [
      "\r",
      " 42%|████▏     | 159/378 [02:11<02:37,  1.39it/s]"
     ]
    },
    {
     "name": "stdout",
     "output_type": "stream",
     "text": [
      "saving http://oracc.org/aemw/amarna/P271102 as HTML/aemw_amarna_P271102.html\n",
      "retrieving http://oracc.org/aemw/amarna/P271022/html\n"
     ]
    },
    {
     "name": "stderr",
     "output_type": "stream",
     "text": [
      "\r",
      " 42%|████▏     | 160/378 [02:12<02:51,  1.27it/s]"
     ]
    },
    {
     "name": "stdout",
     "output_type": "stream",
     "text": [
      "saving http://oracc.org/aemw/amarna/P271022 as HTML/aemw_amarna_P271022.html\n",
      "retrieving http://oracc.org/aemw/amarna/P270920/html\n"
     ]
    },
    {
     "name": "stderr",
     "output_type": "stream",
     "text": [
      "\r",
      " 43%|████▎     | 161/378 [02:13<03:07,  1.16it/s]"
     ]
    },
    {
     "name": "stdout",
     "output_type": "stream",
     "text": [
      "saving http://oracc.org/aemw/amarna/P270920 as HTML/aemw_amarna_P270920.html\n",
      "retrieving http://oracc.org/aemw/amarna/P271209/html\n"
     ]
    },
    {
     "name": "stderr",
     "output_type": "stream",
     "text": [
      "\r",
      " 43%|████▎     | 162/378 [02:15<04:02,  1.12s/it]"
     ]
    },
    {
     "name": "stdout",
     "output_type": "stream",
     "text": [
      "saving http://oracc.org/aemw/amarna/P271209 as HTML/aemw_amarna_P271209.html\n",
      "retrieving http://oracc.org/aemw/amarna/P271174/html\n"
     ]
    },
    {
     "name": "stderr",
     "output_type": "stream",
     "text": [
      "\r",
      " 43%|████▎     | 163/378 [02:16<03:13,  1.11it/s]"
     ]
    },
    {
     "name": "stdout",
     "output_type": "stream",
     "text": [
      "saving http://oracc.org/aemw/amarna/P271174 as HTML/aemw_amarna_P271174.html\n",
      "retrieving http://oracc.org/aemw/amarna/P271182/html\n"
     ]
    },
    {
     "name": "stderr",
     "output_type": "stream",
     "text": [
      "\r",
      " 43%|████▎     | 164/378 [02:16<03:01,  1.18it/s]"
     ]
    },
    {
     "name": "stdout",
     "output_type": "stream",
     "text": [
      "saving http://oracc.org/aemw/amarna/P271182 as HTML/aemw_amarna_P271182.html\n",
      "retrieving http://oracc.org/aemw/amarna/P271187/html\n"
     ]
    },
    {
     "name": "stderr",
     "output_type": "stream",
     "text": [
      "\r",
      " 44%|████▎     | 165/378 [02:17<03:07,  1.13it/s]"
     ]
    },
    {
     "name": "stdout",
     "output_type": "stream",
     "text": [
      "saving http://oracc.org/aemw/amarna/P271187 as HTML/aemw_amarna_P271187.html\n",
      "retrieving http://oracc.org/aemw/amarna/P271183/html\n"
     ]
    },
    {
     "name": "stderr",
     "output_type": "stream",
     "text": [
      "\r",
      " 44%|████▍     | 166/378 [02:18<02:49,  1.25it/s]"
     ]
    },
    {
     "name": "stdout",
     "output_type": "stream",
     "text": [
      "saving http://oracc.org/aemw/amarna/P271183 as HTML/aemw_amarna_P271183.html\n",
      "retrieving http://oracc.org/aemw/amarna/P271188/html\n"
     ]
    },
    {
     "name": "stderr",
     "output_type": "stream",
     "text": [
      "\r",
      " 44%|████▍     | 167/378 [02:19<02:43,  1.29it/s]"
     ]
    },
    {
     "name": "stdout",
     "output_type": "stream",
     "text": [
      "saving http://oracc.org/aemw/amarna/P271188 as HTML/aemw_amarna_P271188.html\n",
      "retrieving http://oracc.org/aemw/amarna/P271103/html\n"
     ]
    },
    {
     "name": "stderr",
     "output_type": "stream",
     "text": [
      "\r",
      " 44%|████▍     | 168/378 [02:20<03:06,  1.12it/s]"
     ]
    },
    {
     "name": "stdout",
     "output_type": "stream",
     "text": [
      "saving http://oracc.org/aemw/amarna/P271103 as HTML/aemw_amarna_P271103.html\n",
      "retrieving http://oracc.org/aemw/amarna/P271104/html\n"
     ]
    },
    {
     "name": "stderr",
     "output_type": "stream",
     "text": [
      "\r",
      " 45%|████▍     | 169/378 [02:20<02:55,  1.19it/s]"
     ]
    },
    {
     "name": "stdout",
     "output_type": "stream",
     "text": [
      "saving http://oracc.org/aemw/amarna/P271104 as HTML/aemw_amarna_P271104.html\n",
      "retrieving http://oracc.org/aemw/amarna/P271189/html\n"
     ]
    },
    {
     "name": "stderr",
     "output_type": "stream",
     "text": [
      "\r",
      " 45%|████▍     | 170/378 [02:21<02:47,  1.24it/s]"
     ]
    },
    {
     "name": "stdout",
     "output_type": "stream",
     "text": [
      "saving http://oracc.org/aemw/amarna/P271189 as HTML/aemw_amarna_P271189.html\n",
      "retrieving http://oracc.org/aemw/amarna/P271158/html\n"
     ]
    },
    {
     "name": "stderr",
     "output_type": "stream",
     "text": [
      "\r",
      " 45%|████▌     | 171/378 [02:22<02:41,  1.28it/s]"
     ]
    },
    {
     "name": "stdout",
     "output_type": "stream",
     "text": [
      "saving http://oracc.org/aemw/amarna/P271158 as HTML/aemw_amarna_P271158.html\n",
      "retrieving http://oracc.org/aemw/amarna/P271176/html\n"
     ]
    },
    {
     "name": "stderr",
     "output_type": "stream",
     "text": [
      "\r",
      " 46%|████▌     | 172/378 [02:22<02:09,  1.59it/s]"
     ]
    },
    {
     "name": "stdout",
     "output_type": "stream",
     "text": [
      "saving http://oracc.org/aemw/amarna/P271176 as HTML/aemw_amarna_P271176.html\n",
      "retrieving http://oracc.org/aemw/amarna/P271169/html\n"
     ]
    },
    {
     "name": "stderr",
     "output_type": "stream",
     "text": [
      "\r",
      " 46%|████▌     | 173/378 [02:23<01:54,  1.79it/s]"
     ]
    },
    {
     "name": "stdout",
     "output_type": "stream",
     "text": [
      "saving http://oracc.org/aemw/amarna/P271169 as HTML/aemw_amarna_P271169.html\n",
      "retrieving http://oracc.org/aemw/amarna/P271044/html\n"
     ]
    },
    {
     "name": "stderr",
     "output_type": "stream",
     "text": [
      "\r",
      " 46%|████▌     | 174/378 [02:23<01:50,  1.85it/s]"
     ]
    },
    {
     "name": "stdout",
     "output_type": "stream",
     "text": [
      "saving http://oracc.org/aemw/amarna/P271044 as HTML/aemw_amarna_P271044.html\n",
      "retrieving http://oracc.org/aemw/amarna/P271046/html\n"
     ]
    },
    {
     "name": "stderr",
     "output_type": "stream",
     "text": [
      "\r",
      " 46%|████▋     | 175/378 [02:24<01:46,  1.90it/s]"
     ]
    },
    {
     "name": "stdout",
     "output_type": "stream",
     "text": [
      "saving http://oracc.org/aemw/amarna/P271046 as HTML/aemw_amarna_P271046.html\n",
      "retrieving http://oracc.org/aemw/amarna/P270931/html\n"
     ]
    },
    {
     "name": "stderr",
     "output_type": "stream",
     "text": [
      "\r",
      " 47%|████▋     | 176/378 [02:24<01:44,  1.93it/s]"
     ]
    },
    {
     "name": "stdout",
     "output_type": "stream",
     "text": [
      "saving http://oracc.org/aemw/amarna/P270931 as HTML/aemw_amarna_P270931.html\n",
      "retrieving http://oracc.org/aemw/amarna/P271126/html\n"
     ]
    },
    {
     "name": "stderr",
     "output_type": "stream",
     "text": [
      "\r",
      " 47%|████▋     | 177/378 [02:24<01:29,  2.25it/s]"
     ]
    },
    {
     "name": "stdout",
     "output_type": "stream",
     "text": [
      "saving http://oracc.org/aemw/amarna/P271126 as HTML/aemw_amarna_P271126.html\n",
      "retrieving http://oracc.org/aemw/amarna/P271120/html\n"
     ]
    },
    {
     "name": "stderr",
     "output_type": "stream",
     "text": [
      "\r",
      " 47%|████▋     | 178/378 [02:25<01:25,  2.34it/s]"
     ]
    },
    {
     "name": "stdout",
     "output_type": "stream",
     "text": [
      "saving http://oracc.org/aemw/amarna/P271120 as HTML/aemw_amarna_P271120.html\n",
      "retrieving http://oracc.org/aemw/amarna/P271143/html\n"
     ]
    },
    {
     "name": "stderr",
     "output_type": "stream",
     "text": [
      "\r",
      " 47%|████▋     | 179/378 [02:25<01:29,  2.22it/s]"
     ]
    },
    {
     "name": "stdout",
     "output_type": "stream",
     "text": [
      "saving http://oracc.org/aemw/amarna/P271143 as HTML/aemw_amarna_P271143.html\n",
      "retrieving http://oracc.org/aemw/amarna/P271015/html\n"
     ]
    },
    {
     "name": "stderr",
     "output_type": "stream",
     "text": [
      "\r",
      " 48%|████▊     | 180/378 [02:26<01:32,  2.15it/s]"
     ]
    },
    {
     "name": "stdout",
     "output_type": "stream",
     "text": [
      "saving http://oracc.org/aemw/amarna/P271015 as HTML/aemw_amarna_P271015.html\n",
      "retrieving http://oracc.org/aemw/amarna/P271070/html\n"
     ]
    },
    {
     "name": "stderr",
     "output_type": "stream",
     "text": [
      "\r",
      " 48%|████▊     | 181/378 [02:26<01:27,  2.26it/s]"
     ]
    },
    {
     "name": "stdout",
     "output_type": "stream",
     "text": [
      "saving http://oracc.org/aemw/amarna/P271070 as HTML/aemw_amarna_P271070.html\n",
      "retrieving http://oracc.org/aemw/amarna/P271067/html\n"
     ]
    },
    {
     "name": "stderr",
     "output_type": "stream",
     "text": [
      "\r",
      " 48%|████▊     | 182/378 [02:27<01:23,  2.33it/s]"
     ]
    },
    {
     "name": "stdout",
     "output_type": "stream",
     "text": [
      "saving http://oracc.org/aemw/amarna/P271067 as HTML/aemw_amarna_P271067.html\n",
      "retrieving http://oracc.org/aemw/amarna/P271053/html\n"
     ]
    },
    {
     "name": "stderr",
     "output_type": "stream",
     "text": [
      "\r",
      " 48%|████▊     | 183/378 [02:27<01:14,  2.61it/s]"
     ]
    },
    {
     "name": "stdout",
     "output_type": "stream",
     "text": [
      "saving http://oracc.org/aemw/amarna/P271053 as HTML/aemw_amarna_P271053.html\n",
      "retrieving http://oracc.org/aemw/amarna/P270882/html\n"
     ]
    },
    {
     "name": "stderr",
     "output_type": "stream",
     "text": [
      "\r",
      " 49%|████▊     | 184/378 [02:27<01:08,  2.82it/s]"
     ]
    },
    {
     "name": "stdout",
     "output_type": "stream",
     "text": [
      "saving http://oracc.org/aemw/amarna/P270882 as HTML/aemw_amarna_P270882.html\n",
      "retrieving http://oracc.org/aemw/amarna/P271160/html\n"
     ]
    },
    {
     "name": "stderr",
     "output_type": "stream",
     "text": [
      "\r",
      " 49%|████▉     | 185/378 [02:28<01:56,  1.66it/s]"
     ]
    },
    {
     "name": "stdout",
     "output_type": "stream",
     "text": [
      "saving http://oracc.org/aemw/amarna/P271160 as HTML/aemw_amarna_P271160.html\n",
      "retrieving http://oracc.org/aemw/amarna/P271159/html\n"
     ]
    },
    {
     "name": "stderr",
     "output_type": "stream",
     "text": [
      "\r",
      " 49%|████▉     | 186/378 [02:30<02:41,  1.19it/s]"
     ]
    },
    {
     "name": "stdout",
     "output_type": "stream",
     "text": [
      "saving http://oracc.org/aemw/amarna/P271159 as HTML/aemw_amarna_P271159.html\n",
      "retrieving http://oracc.org/aemw/amarna/P270962/html\n"
     ]
    },
    {
     "name": "stderr",
     "output_type": "stream",
     "text": [
      "\r",
      " 49%|████▉     | 187/378 [02:30<02:21,  1.35it/s]"
     ]
    },
    {
     "name": "stdout",
     "output_type": "stream",
     "text": [
      "saving http://oracc.org/aemw/amarna/P270962 as HTML/aemw_amarna_P270962.html\n",
      "retrieving http://oracc.org/aemw/amarna/P271018/html\n"
     ]
    },
    {
     "name": "stderr",
     "output_type": "stream",
     "text": [
      "\r",
      " 50%|████▉     | 188/378 [02:30<01:54,  1.67it/s]"
     ]
    },
    {
     "name": "stdout",
     "output_type": "stream",
     "text": [
      "saving http://oracc.org/aemw/amarna/P271018 as HTML/aemw_amarna_P271018.html\n",
      "retrieving http://oracc.org/aemw/amarna/P271198/html\n"
     ]
    },
    {
     "name": "stderr",
     "output_type": "stream",
     "text": [
      "\r",
      " 50%|█████     | 189/378 [02:31<02:07,  1.49it/s]"
     ]
    },
    {
     "name": "stdout",
     "output_type": "stream",
     "text": [
      "saving http://oracc.org/aemw/amarna/P271198 as HTML/aemw_amarna_P271198.html\n",
      "retrieving http://oracc.org/aemw/amarna/P270880/html\n"
     ]
    },
    {
     "name": "stderr",
     "output_type": "stream",
     "text": [
      "\r",
      " 50%|█████     | 190/378 [02:32<01:50,  1.70it/s]"
     ]
    },
    {
     "name": "stdout",
     "output_type": "stream",
     "text": [
      "saving http://oracc.org/aemw/amarna/P270880 as HTML/aemw_amarna_P270880.html\n",
      "retrieving http://oracc.org/aemw/amarna/P270990/html\n"
     ]
    },
    {
     "name": "stderr",
     "output_type": "stream",
     "text": [
      "\r",
      " 51%|█████     | 191/378 [02:32<01:39,  1.89it/s]"
     ]
    },
    {
     "name": "stdout",
     "output_type": "stream",
     "text": [
      "saving http://oracc.org/aemw/amarna/P270990 as HTML/aemw_amarna_P270990.html\n",
      "retrieving http://oracc.org/aemw/amarna/P271117/html\n"
     ]
    },
    {
     "name": "stderr",
     "output_type": "stream",
     "text": [
      "\r",
      " 51%|█████     | 192/378 [02:32<01:30,  2.05it/s]"
     ]
    },
    {
     "name": "stdout",
     "output_type": "stream",
     "text": [
      "saving http://oracc.org/aemw/amarna/P271117 as HTML/aemw_amarna_P271117.html\n",
      "retrieving http://oracc.org/aemw/amarna/P271064/html\n"
     ]
    },
    {
     "name": "stderr",
     "output_type": "stream",
     "text": [
      "\r",
      " 51%|█████     | 193/378 [02:33<01:25,  2.17it/s]"
     ]
    },
    {
     "name": "stdout",
     "output_type": "stream",
     "text": [
      "saving http://oracc.org/aemw/amarna/P271064 as HTML/aemw_amarna_P271064.html\n",
      "retrieving http://oracc.org/aemw/amarna/P271144/html\n"
     ]
    },
    {
     "name": "stderr",
     "output_type": "stream",
     "text": [
      "\r",
      " 51%|█████▏    | 194/378 [02:33<01:26,  2.12it/s]"
     ]
    },
    {
     "name": "stdout",
     "output_type": "stream",
     "text": [
      "saving http://oracc.org/aemw/amarna/P271144 as HTML/aemw_amarna_P271144.html\n",
      "retrieving http://oracc.org/aemw/amarna/P270991/html\n"
     ]
    },
    {
     "name": "stderr",
     "output_type": "stream",
     "text": [
      "\r",
      " 52%|█████▏    | 195/378 [02:34<01:34,  1.94it/s]"
     ]
    },
    {
     "name": "stdout",
     "output_type": "stream",
     "text": [
      "saving http://oracc.org/aemw/amarna/P270991 as HTML/aemw_amarna_P270991.html\n",
      "retrieving http://oracc.org/aemw/amarna/P271050/html\n"
     ]
    },
    {
     "name": "stderr",
     "output_type": "stream",
     "text": [
      "\r",
      " 52%|█████▏    | 196/378 [02:35<01:52,  1.62it/s]"
     ]
    },
    {
     "name": "stdout",
     "output_type": "stream",
     "text": [
      "saving http://oracc.org/aemw/amarna/P271050 as HTML/aemw_amarna_P271050.html\n",
      "retrieving http://oracc.org/aemw/amarna/P270928/html\n"
     ]
    },
    {
     "name": "stderr",
     "output_type": "stream",
     "text": [
      "\r",
      " 52%|█████▏    | 197/378 [02:36<02:03,  1.46it/s]"
     ]
    },
    {
     "name": "stdout",
     "output_type": "stream",
     "text": [
      "saving http://oracc.org/aemw/amarna/P270928 as HTML/aemw_amarna_P270928.html\n",
      "retrieving http://oracc.org/aemw/amarna/P270993/html\n"
     ]
    },
    {
     "name": "stderr",
     "output_type": "stream",
     "text": [
      "\r",
      " 52%|█████▏    | 198/378 [02:36<01:54,  1.57it/s]"
     ]
    },
    {
     "name": "stdout",
     "output_type": "stream",
     "text": [
      "saving http://oracc.org/aemw/amarna/P270993 as HTML/aemw_amarna_P270993.html\n",
      "retrieving http://oracc.org/aemw/amarna/P271016/html\n"
     ]
    },
    {
     "name": "stderr",
     "output_type": "stream",
     "text": [
      "\r",
      " 53%|█████▎    | 199/378 [02:37<01:40,  1.77it/s]"
     ]
    },
    {
     "name": "stdout",
     "output_type": "stream",
     "text": [
      "saving http://oracc.org/aemw/amarna/P271016 as HTML/aemw_amarna_P271016.html\n",
      "retrieving http://oracc.org/aemw/amarna/P271069/html\n"
     ]
    },
    {
     "name": "stderr",
     "output_type": "stream",
     "text": [
      "\r",
      " 53%|█████▎    | 200/378 [02:37<01:31,  1.95it/s]"
     ]
    },
    {
     "name": "stdout",
     "output_type": "stream",
     "text": [
      "saving http://oracc.org/aemw/amarna/P271069 as HTML/aemw_amarna_P271069.html\n",
      "retrieving http://oracc.org/aemw/amarna/P271200/html\n"
     ]
    },
    {
     "name": "stderr",
     "output_type": "stream",
     "text": [
      "\r",
      " 53%|█████▎    | 201/378 [02:37<01:24,  2.10it/s]"
     ]
    },
    {
     "name": "stdout",
     "output_type": "stream",
     "text": [
      "saving http://oracc.org/aemw/amarna/P271200 as HTML/aemw_amarna_P271200.html\n",
      "retrieving http://oracc.org/aemw/amarna/P271193/html\n"
     ]
    },
    {
     "name": "stderr",
     "output_type": "stream",
     "text": [
      "\r",
      " 53%|█████▎    | 202/378 [02:38<01:19,  2.22it/s]"
     ]
    },
    {
     "name": "stdout",
     "output_type": "stream",
     "text": [
      "saving http://oracc.org/aemw/amarna/P271193 as HTML/aemw_amarna_P271193.html\n",
      "retrieving http://oracc.org/aemw/amarna/P271192/html\n"
     ]
    },
    {
     "name": "stderr",
     "output_type": "stream",
     "text": [
      "\r",
      " 54%|█████▎    | 203/378 [02:38<01:15,  2.31it/s]"
     ]
    },
    {
     "name": "stdout",
     "output_type": "stream",
     "text": [
      "saving http://oracc.org/aemw/amarna/P271192 as HTML/aemw_amarna_P271192.html\n",
      "retrieving http://oracc.org/aemw/amarna/P271190/html\n"
     ]
    },
    {
     "name": "stderr",
     "output_type": "stream",
     "text": [
      "\r",
      " 54%|█████▍    | 204/378 [02:39<01:13,  2.38it/s]"
     ]
    },
    {
     "name": "stdout",
     "output_type": "stream",
     "text": [
      "saving http://oracc.org/aemw/amarna/P271190 as HTML/aemw_amarna_P271190.html\n",
      "retrieving http://oracc.org/aemw/amarna/P270963/html\n"
     ]
    },
    {
     "name": "stderr",
     "output_type": "stream",
     "text": [
      "\r",
      " 54%|█████▍    | 205/378 [02:39<01:11,  2.42it/s]"
     ]
    },
    {
     "name": "stdout",
     "output_type": "stream",
     "text": [
      "saving http://oracc.org/aemw/amarna/P270963 as HTML/aemw_amarna_P270963.html\n",
      "retrieving http://oracc.org/aemw/amarna/P270992/html\n"
     ]
    },
    {
     "name": "stderr",
     "output_type": "stream",
     "text": [
      "\r",
      " 54%|█████▍    | 206/378 [02:39<01:09,  2.47it/s]"
     ]
    },
    {
     "name": "stdout",
     "output_type": "stream",
     "text": [
      "saving http://oracc.org/aemw/amarna/P270992 as HTML/aemw_amarna_P270992.html\n",
      "retrieving http://oracc.org/aemw/amarna/P271051/html\n"
     ]
    },
    {
     "name": "stderr",
     "output_type": "stream",
     "text": [
      "\r",
      " 55%|█████▍    | 207/378 [02:40<01:14,  2.29it/s]"
     ]
    },
    {
     "name": "stdout",
     "output_type": "stream",
     "text": [
      "saving http://oracc.org/aemw/amarna/P271051 as HTML/aemw_amarna_P271051.html\n",
      "retrieving http://oracc.org/aemw/amarna/P271140/html\n"
     ]
    },
    {
     "name": "stderr",
     "output_type": "stream",
     "text": [
      "\r",
      " 55%|█████▌    | 208/378 [02:40<01:05,  2.58it/s]"
     ]
    },
    {
     "name": "stdout",
     "output_type": "stream",
     "text": [
      "saving http://oracc.org/aemw/amarna/P271140 as HTML/aemw_amarna_P271140.html\n",
      "retrieving http://oracc.org/aemw/amarna/P270872/html\n"
     ]
    },
    {
     "name": "stderr",
     "output_type": "stream",
     "text": [
      "\r",
      " 55%|█████▌    | 209/378 [02:41<01:05,  2.58it/s]"
     ]
    },
    {
     "name": "stdout",
     "output_type": "stream",
     "text": [
      "saving http://oracc.org/aemw/amarna/P270872 as HTML/aemw_amarna_P270872.html\n",
      "retrieving http://oracc.org/aemw/amarna/P271170/html\n"
     ]
    },
    {
     "name": "stderr",
     "output_type": "stream",
     "text": [
      "\r",
      " 56%|█████▌    | 210/378 [02:41<00:59,  2.82it/s]"
     ]
    },
    {
     "name": "stdout",
     "output_type": "stream",
     "text": [
      "saving http://oracc.org/aemw/amarna/P271170 as HTML/aemw_amarna_P271170.html\n",
      "retrieving http://oracc.org/aemw/amarna/P271094/html\n"
     ]
    },
    {
     "name": "stderr",
     "output_type": "stream",
     "text": [
      "\r",
      " 56%|█████▌    | 211/378 [02:41<01:00,  2.75it/s]"
     ]
    },
    {
     "name": "stdout",
     "output_type": "stream",
     "text": [
      "saving http://oracc.org/aemw/amarna/P271094 as HTML/aemw_amarna_P271094.html\n",
      "retrieving http://oracc.org/aemw/amarna/P271045/html\n"
     ]
    },
    {
     "name": "stderr",
     "output_type": "stream",
     "text": [
      "\r",
      " 56%|█████▌    | 212/378 [02:42<01:01,  2.70it/s]"
     ]
    },
    {
     "name": "stdout",
     "output_type": "stream",
     "text": [
      "saving http://oracc.org/aemw/amarna/P271045 as HTML/aemw_amarna_P271045.html\n",
      "retrieving http://oracc.org/aemw/amarna/P270961/html\n"
     ]
    },
    {
     "name": "stderr",
     "output_type": "stream",
     "text": [
      "\r",
      " 56%|█████▋    | 213/378 [02:42<01:02,  2.65it/s]"
     ]
    },
    {
     "name": "stdout",
     "output_type": "stream",
     "text": [
      "saving http://oracc.org/aemw/amarna/P270961 as HTML/aemw_amarna_P270961.html\n",
      "retrieving http://oracc.org/aemw/amarna/P271063/html\n"
     ]
    },
    {
     "name": "stderr",
     "output_type": "stream",
     "text": [
      "\r",
      " 57%|█████▋    | 214/378 [02:42<01:02,  2.62it/s]"
     ]
    },
    {
     "name": "stdout",
     "output_type": "stream",
     "text": [
      "saving http://oracc.org/aemw/amarna/P271063 as HTML/aemw_amarna_P271063.html\n",
      "retrieving http://oracc.org/aemw/amarna/P270945/html\n"
     ]
    },
    {
     "name": "stderr",
     "output_type": "stream",
     "text": [
      "\r",
      " 57%|█████▋    | 215/378 [02:43<01:02,  2.61it/s]"
     ]
    },
    {
     "name": "stdout",
     "output_type": "stream",
     "text": [
      "saving http://oracc.org/aemw/amarna/P270945 as HTML/aemw_amarna_P270945.html\n",
      "retrieving http://oracc.org/aemw/amarna/P271012/html\n"
     ]
    },
    {
     "name": "stderr",
     "output_type": "stream",
     "text": [
      "\r",
      " 57%|█████▋    | 216/378 [02:43<01:07,  2.41it/s]"
     ]
    },
    {
     "name": "stdout",
     "output_type": "stream",
     "text": [
      "saving http://oracc.org/aemw/amarna/P271012 as HTML/aemw_amarna_P271012.html\n",
      "retrieving http://oracc.org/aemw/amarna/P271060/html\n"
     ]
    },
    {
     "name": "stderr",
     "output_type": "stream",
     "text": [
      "\r",
      " 57%|█████▋    | 217/378 [02:44<01:05,  2.45it/s]"
     ]
    },
    {
     "name": "stdout",
     "output_type": "stream",
     "text": [
      "saving http://oracc.org/aemw/amarna/P271060 as HTML/aemw_amarna_P271060.html\n",
      "retrieving http://oracc.org/aemw/amarna/P271137/html\n"
     ]
    },
    {
     "name": "stderr",
     "output_type": "stream",
     "text": [
      "\r",
      " 58%|█████▊    | 218/378 [02:44<01:04,  2.49it/s]"
     ]
    },
    {
     "name": "stdout",
     "output_type": "stream",
     "text": [
      "saving http://oracc.org/aemw/amarna/P271137 as HTML/aemw_amarna_P271137.html\n",
      "retrieving http://oracc.org/aemw/amarna/P271156/html\n"
     ]
    },
    {
     "name": "stderr",
     "output_type": "stream",
     "text": [
      "\r",
      " 58%|█████▊    | 219/378 [02:44<01:03,  2.51it/s]"
     ]
    },
    {
     "name": "stdout",
     "output_type": "stream",
     "text": [
      "saving http://oracc.org/aemw/amarna/P271156 as HTML/aemw_amarna_P271156.html\n",
      "retrieving http://oracc.org/aemw/amarna/P271013/html\n"
     ]
    },
    {
     "name": "stderr",
     "output_type": "stream",
     "text": [
      "\r",
      " 58%|█████▊    | 220/378 [02:45<01:13,  2.15it/s]"
     ]
    },
    {
     "name": "stdout",
     "output_type": "stream",
     "text": [
      "saving http://oracc.org/aemw/amarna/P271013 as HTML/aemw_amarna_P271013.html\n",
      "retrieving http://oracc.org/aemw/amarna/P271203/html\n"
     ]
    },
    {
     "name": "stderr",
     "output_type": "stream",
     "text": [
      "\r",
      " 58%|█████▊    | 221/378 [02:45<01:09,  2.26it/s]"
     ]
    },
    {
     "name": "stdout",
     "output_type": "stream",
     "text": [
      "saving http://oracc.org/aemw/amarna/P271203 as HTML/aemw_amarna_P271203.html\n",
      "retrieving http://oracc.org/aemw/amarna/P271125/html\n"
     ]
    },
    {
     "name": "stderr",
     "output_type": "stream",
     "text": [
      "\r",
      " 59%|█████▊    | 222/378 [02:46<01:01,  2.55it/s]"
     ]
    },
    {
     "name": "stdout",
     "output_type": "stream",
     "text": [
      "saving http://oracc.org/aemw/amarna/P271125 as HTML/aemw_amarna_P271125.html\n",
      "retrieving http://oracc.org/aemw/amarna/P271165/html\n"
     ]
    },
    {
     "name": "stderr",
     "output_type": "stream",
     "text": [
      "\r",
      " 59%|█████▉    | 223/378 [02:46<00:55,  2.78it/s]"
     ]
    },
    {
     "name": "stdout",
     "output_type": "stream",
     "text": [
      "saving http://oracc.org/aemw/amarna/P271165 as HTML/aemw_amarna_P271165.html\n",
      "retrieving http://oracc.org/aemw/amarna/P270951/html\n"
     ]
    },
    {
     "name": "stderr",
     "output_type": "stream",
     "text": [
      "\r",
      " 59%|█████▉    | 224/378 [02:46<00:56,  2.72it/s]"
     ]
    },
    {
     "name": "stdout",
     "output_type": "stream",
     "text": [
      "saving http://oracc.org/aemw/amarna/P270951 as HTML/aemw_amarna_P270951.html\n",
      "retrieving http://oracc.org/aemw/amarna/P271014/html\n"
     ]
    },
    {
     "name": "stderr",
     "output_type": "stream",
     "text": [
      "\r",
      " 60%|█████▉    | 225/378 [02:47<00:52,  2.94it/s]"
     ]
    },
    {
     "name": "stdout",
     "output_type": "stream",
     "text": [
      "saving http://oracc.org/aemw/amarna/P271014 as HTML/aemw_amarna_P271014.html\n",
      "retrieving http://oracc.org/aemw/amarna/P271066/html\n"
     ]
    },
    {
     "name": "stderr",
     "output_type": "stream",
     "text": [
      "\r",
      " 60%|█████▉    | 226/378 [02:47<00:53,  2.82it/s]"
     ]
    },
    {
     "name": "stdout",
     "output_type": "stream",
     "text": [
      "saving http://oracc.org/aemw/amarna/P271066 as HTML/aemw_amarna_P271066.html\n",
      "retrieving http://oracc.org/aemw/amarna/P270932/html\n"
     ]
    },
    {
     "name": "stderr",
     "output_type": "stream",
     "text": [
      "\r",
      " 60%|██████    | 227/378 [02:48<01:00,  2.51it/s]"
     ]
    },
    {
     "name": "stdout",
     "output_type": "stream",
     "text": [
      "saving http://oracc.org/aemw/amarna/P270932 as HTML/aemw_amarna_P270932.html\n",
      "retrieving http://oracc.org/aemw/amarna/P270933/html\n"
     ]
    },
    {
     "name": "stderr",
     "output_type": "stream",
     "text": [
      "\r",
      " 60%|██████    | 228/378 [02:48<00:59,  2.53it/s]"
     ]
    },
    {
     "name": "stdout",
     "output_type": "stream",
     "text": [
      "saving http://oracc.org/aemw/amarna/P270933 as HTML/aemw_amarna_P270933.html\n",
      "retrieving http://oracc.org/aemw/amarna/P271131/html\n"
     ]
    },
    {
     "name": "stderr",
     "output_type": "stream",
     "text": [
      "\r",
      " 61%|██████    | 229/378 [02:48<00:53,  2.78it/s]"
     ]
    },
    {
     "name": "stdout",
     "output_type": "stream",
     "text": [
      "saving http://oracc.org/aemw/amarna/P271131 as HTML/aemw_amarna_P271131.html\n",
      "retrieving http://oracc.org/aemw/amarna/P270968/html\n"
     ]
    },
    {
     "name": "stderr",
     "output_type": "stream",
     "text": [
      "\r",
      " 61%|██████    | 230/378 [02:49<00:59,  2.49it/s]"
     ]
    },
    {
     "name": "stdout",
     "output_type": "stream",
     "text": [
      "saving http://oracc.org/aemw/amarna/P270968 as HTML/aemw_amarna_P270968.html\n",
      "retrieving http://oracc.org/aemw/amarna/P271056/html\n"
     ]
    },
    {
     "name": "stderr",
     "output_type": "stream",
     "text": [
      "\r",
      " 61%|██████    | 231/378 [02:49<00:58,  2.51it/s]"
     ]
    },
    {
     "name": "stdout",
     "output_type": "stream",
     "text": [
      "saving http://oracc.org/aemw/amarna/P271056 as HTML/aemw_amarna_P271056.html\n",
      "retrieving http://oracc.org/aemw/amarna/P271086/html\n"
     ]
    },
    {
     "name": "stderr",
     "output_type": "stream",
     "text": [
      "\r",
      " 61%|██████▏   | 232/378 [02:49<00:57,  2.53it/s]"
     ]
    },
    {
     "name": "stdout",
     "output_type": "stream",
     "text": [
      "saving http://oracc.org/aemw/amarna/P271086 as HTML/aemw_amarna_P271086.html\n",
      "retrieving http://oracc.org/aemw/amarna/P270996/html\n"
     ]
    },
    {
     "name": "stderr",
     "output_type": "stream",
     "text": [
      "\r",
      " 62%|██████▏   | 233/378 [02:50<00:56,  2.55it/s]"
     ]
    },
    {
     "name": "stdout",
     "output_type": "stream",
     "text": [
      "saving http://oracc.org/aemw/amarna/P270996 as HTML/aemw_amarna_P270996.html\n",
      "retrieving http://oracc.org/aemw/amarna/P271087/html\n"
     ]
    },
    {
     "name": "stderr",
     "output_type": "stream",
     "text": [
      "\r",
      " 62%|██████▏   | 234/378 [02:50<01:05,  2.19it/s]"
     ]
    },
    {
     "name": "stdout",
     "output_type": "stream",
     "text": [
      "saving http://oracc.org/aemw/amarna/P271087 as HTML/aemw_amarna_P271087.html\n",
      "retrieving http://oracc.org/aemw/amarna/P270917/html\n"
     ]
    },
    {
     "name": "stderr",
     "output_type": "stream",
     "text": [
      "\r",
      " 62%|██████▏   | 235/378 [02:51<01:07,  2.13it/s]"
     ]
    },
    {
     "name": "stdout",
     "output_type": "stream",
     "text": [
      "saving http://oracc.org/aemw/amarna/P270917 as HTML/aemw_amarna_P270917.html\n",
      "retrieving http://oracc.org/aemw/amarna/P270881/html\n"
     ]
    },
    {
     "name": "stderr",
     "output_type": "stream",
     "text": [
      "\r",
      " 62%|██████▏   | 236/378 [02:51<00:58,  2.43it/s]"
     ]
    },
    {
     "name": "stdout",
     "output_type": "stream",
     "text": [
      "saving http://oracc.org/aemw/amarna/P270881 as HTML/aemw_amarna_P270881.html\n",
      "retrieving http://oracc.org/aemw/amarna/P271141/html\n"
     ]
    },
    {
     "name": "stderr",
     "output_type": "stream",
     "text": [
      "\r",
      " 63%|██████▎   | 237/378 [02:52<01:01,  2.28it/s]"
     ]
    },
    {
     "name": "stdout",
     "output_type": "stream",
     "text": [
      "saving http://oracc.org/aemw/amarna/P271141 as HTML/aemw_amarna_P271141.html\n",
      "retrieving http://oracc.org/aemw/amarna/P271163/html\n"
     ]
    },
    {
     "name": "stderr",
     "output_type": "stream",
     "text": [
      "\r",
      " 63%|██████▎   | 238/378 [02:52<01:03,  2.19it/s]"
     ]
    },
    {
     "name": "stdout",
     "output_type": "stream",
     "text": [
      "saving http://oracc.org/aemw/amarna/P271163 as HTML/aemw_amarna_P271163.html\n",
      "retrieving http://oracc.org/aemw/amarna/P271196/html\n"
     ]
    },
    {
     "name": "stderr",
     "output_type": "stream",
     "text": [
      "\r",
      " 63%|██████▎   | 239/378 [02:53<01:00,  2.29it/s]"
     ]
    },
    {
     "name": "stdout",
     "output_type": "stream",
     "text": [
      "saving http://oracc.org/aemw/amarna/P271196 as HTML/aemw_amarna_P271196.html\n",
      "retrieving http://oracc.org/aemw/amarna/P271180/html\n"
     ]
    },
    {
     "name": "stderr",
     "output_type": "stream",
     "text": [
      "\r",
      " 63%|██████▎   | 240/378 [02:53<00:53,  2.58it/s]"
     ]
    },
    {
     "name": "stdout",
     "output_type": "stream",
     "text": [
      "saving http://oracc.org/aemw/amarna/P271180 as HTML/aemw_amarna_P271180.html\n",
      "retrieving http://oracc.org/aemw/amarna/P271121/html\n"
     ]
    },
    {
     "name": "stderr",
     "output_type": "stream",
     "text": [
      "\r",
      " 64%|██████▍   | 241/378 [02:53<00:53,  2.58it/s]"
     ]
    },
    {
     "name": "stdout",
     "output_type": "stream",
     "text": [
      "saving http://oracc.org/aemw/amarna/P271121 as HTML/aemw_amarna_P271121.html\n",
      "retrieving http://oracc.org/aemw/amarna/P271113/html\n"
     ]
    },
    {
     "name": "stderr",
     "output_type": "stream",
     "text": [
      "\r",
      " 64%|██████▍   | 242/378 [02:54<00:52,  2.58it/s]"
     ]
    },
    {
     "name": "stdout",
     "output_type": "stream",
     "text": [
      "saving http://oracc.org/aemw/amarna/P271113 as HTML/aemw_amarna_P271113.html\n",
      "retrieving http://oracc.org/aemw/amarna/P271112/html\n"
     ]
    },
    {
     "name": "stderr",
     "output_type": "stream",
     "text": [
      "\r",
      " 64%|██████▍   | 243/378 [02:54<00:56,  2.38it/s]"
     ]
    },
    {
     "name": "stdout",
     "output_type": "stream",
     "text": [
      "saving http://oracc.org/aemw/amarna/P271112 as HTML/aemw_amarna_P271112.html\n",
      "retrieving http://oracc.org/aemw/amarna/P270997/html\n"
     ]
    },
    {
     "name": "stderr",
     "output_type": "stream",
     "text": [
      "\r",
      " 65%|██████▍   | 244/378 [02:55<01:04,  2.09it/s]"
     ]
    },
    {
     "name": "stdout",
     "output_type": "stream",
     "text": [
      "saving http://oracc.org/aemw/amarna/P270997 as HTML/aemw_amarna_P270997.html\n",
      "retrieving http://oracc.org/aemw/amarna/P270957/html\n"
     ]
    },
    {
     "name": "stderr",
     "output_type": "stream",
     "text": [
      "\r",
      " 65%|██████▍   | 245/378 [02:56<01:13,  1.81it/s]"
     ]
    },
    {
     "name": "stdout",
     "output_type": "stream",
     "text": [
      "saving http://oracc.org/aemw/amarna/P270957 as HTML/aemw_amarna_P270957.html\n",
      "retrieving http://oracc.org/aemw/amarna/P271095/html\n"
     ]
    },
    {
     "name": "stderr",
     "output_type": "stream",
     "text": [
      "\r",
      " 65%|██████▌   | 246/378 [02:56<01:06,  1.99it/s]"
     ]
    },
    {
     "name": "stdout",
     "output_type": "stream",
     "text": [
      "saving http://oracc.org/aemw/amarna/P271095 as HTML/aemw_amarna_P271095.html\n",
      "retrieving http://oracc.org/aemw/amarna/P271017/html\n"
     ]
    },
    {
     "name": "stderr",
     "output_type": "stream",
     "text": [
      "\r",
      " 65%|██████▌   | 247/378 [02:56<01:01,  2.13it/s]"
     ]
    },
    {
     "name": "stdout",
     "output_type": "stream",
     "text": [
      "saving http://oracc.org/aemw/amarna/P271017 as HTML/aemw_amarna_P271017.html\n",
      "retrieving http://oracc.org/aemw/amarna/P270944/html\n"
     ]
    },
    {
     "name": "stderr",
     "output_type": "stream",
     "text": [
      "\r",
      " 66%|██████▌   | 248/378 [02:57<00:57,  2.25it/s]"
     ]
    },
    {
     "name": "stdout",
     "output_type": "stream",
     "text": [
      "saving http://oracc.org/aemw/amarna/P270944 as HTML/aemw_amarna_P270944.html\n",
      "retrieving http://oracc.org/aemw/amarna/P271059/html\n"
     ]
    },
    {
     "name": "stderr",
     "output_type": "stream",
     "text": [
      "\r",
      " 66%|██████▌   | 249/378 [02:57<01:04,  2.00it/s]"
     ]
    },
    {
     "name": "stdout",
     "output_type": "stream",
     "text": [
      "saving http://oracc.org/aemw/amarna/P271059 as HTML/aemw_amarna_P271059.html\n",
      "retrieving http://oracc.org/aemw/amarna/P270998/html\n"
     ]
    },
    {
     "name": "stderr",
     "output_type": "stream",
     "text": [
      "\r",
      " 66%|██████▌   | 250/378 [02:58<01:25,  1.49it/s]"
     ]
    },
    {
     "name": "stdout",
     "output_type": "stream",
     "text": [
      "saving http://oracc.org/aemw/amarna/P270998 as HTML/aemw_amarna_P270998.html\n",
      "retrieving http://oracc.org/aemw/amarna/P270964/html\n"
     ]
    },
    {
     "name": "stderr",
     "output_type": "stream",
     "text": [
      "\r",
      " 66%|██████▋   | 251/378 [02:59<01:15,  1.69it/s]"
     ]
    },
    {
     "name": "stdout",
     "output_type": "stream",
     "text": [
      "saving http://oracc.org/aemw/amarna/P270964 as HTML/aemw_amarna_P270964.html\n",
      "retrieving http://oracc.org/aemw/amarna/P270946/html\n"
     ]
    },
    {
     "name": "stderr",
     "output_type": "stream",
     "text": [
      "\r",
      " 67%|██████▋   | 252/378 [02:59<01:11,  1.77it/s]"
     ]
    },
    {
     "name": "stdout",
     "output_type": "stream",
     "text": [
      "saving http://oracc.org/aemw/amarna/P270946 as HTML/aemw_amarna_P270946.html\n",
      "retrieving http://oracc.org/aemw/amarna/P271047/html\n"
     ]
    },
    {
     "name": "stderr",
     "output_type": "stream",
     "text": [
      "\r",
      " 67%|██████▋   | 253/378 [03:00<01:10,  1.78it/s]"
     ]
    },
    {
     "name": "stdout",
     "output_type": "stream",
     "text": [
      "saving http://oracc.org/aemw/amarna/P271047 as HTML/aemw_amarna_P271047.html\n",
      "retrieving http://oracc.org/aemw/amarna/P271197/html\n"
     ]
    },
    {
     "name": "stderr",
     "output_type": "stream",
     "text": [
      "\r",
      " 67%|██████▋   | 254/378 [03:01<01:15,  1.64it/s]"
     ]
    },
    {
     "name": "stdout",
     "output_type": "stream",
     "text": [
      "saving http://oracc.org/aemw/amarna/P271197 as HTML/aemw_amarna_P271197.html\n",
      "retrieving http://oracc.org/aemw/amarna/P271195/html\n"
     ]
    },
    {
     "name": "stderr",
     "output_type": "stream",
     "text": [
      "\r",
      " 67%|██████▋   | 255/378 [03:01<01:11,  1.73it/s]"
     ]
    },
    {
     "name": "stdout",
     "output_type": "stream",
     "text": [
      "saving http://oracc.org/aemw/amarna/P271195 as HTML/aemw_amarna_P271195.html\n",
      "retrieving http://oracc.org/aemw/amarna/P270949/html\n"
     ]
    },
    {
     "name": "stderr",
     "output_type": "stream",
     "text": [
      "\r",
      " 68%|██████▊   | 256/378 [03:02<01:11,  1.70it/s]"
     ]
    },
    {
     "name": "stdout",
     "output_type": "stream",
     "text": [
      "saving http://oracc.org/aemw/amarna/P270949 as HTML/aemw_amarna_P270949.html\n",
      "retrieving http://oracc.org/aemw/amarna/P271151/html\n"
     ]
    },
    {
     "name": "stderr",
     "output_type": "stream",
     "text": [
      "\r",
      " 68%|██████▊   | 257/378 [03:02<01:06,  1.82it/s]"
     ]
    },
    {
     "name": "stdout",
     "output_type": "stream",
     "text": [
      "saving http://oracc.org/aemw/amarna/P271151 as HTML/aemw_amarna_P271151.html\n",
      "retrieving http://oracc.org/aemw/amarna/P271191/html\n"
     ]
    },
    {
     "name": "stderr",
     "output_type": "stream",
     "text": [
      "\r",
      " 68%|██████▊   | 258/378 [03:02<00:56,  2.13it/s]"
     ]
    },
    {
     "name": "stdout",
     "output_type": "stream",
     "text": [
      "saving http://oracc.org/aemw/amarna/P271191 as HTML/aemw_amarna_P271191.html\n",
      "retrieving http://oracc.org/aemw/amarna/P271041/html\n"
     ]
    },
    {
     "name": "stderr",
     "output_type": "stream",
     "text": [
      "\r",
      " 69%|██████▊   | 259/378 [03:03<00:48,  2.43it/s]"
     ]
    },
    {
     "name": "stdout",
     "output_type": "stream",
     "text": [
      "saving http://oracc.org/aemw/amarna/P271041 as HTML/aemw_amarna_P271041.html\n",
      "retrieving http://oracc.org/aemw/amarna/P271027/html\n"
     ]
    },
    {
     "name": "stderr",
     "output_type": "stream",
     "text": [
      "\r",
      " 69%|██████▉   | 260/378 [03:03<00:47,  2.48it/s]"
     ]
    },
    {
     "name": "stdout",
     "output_type": "stream",
     "text": [
      "saving http://oracc.org/aemw/amarna/P271027 as HTML/aemw_amarna_P271027.html\n",
      "retrieving http://oracc.org/aemw/amarna/P270960/html\n"
     ]
    },
    {
     "name": "stderr",
     "output_type": "stream",
     "text": [
      "\r",
      " 69%|██████▉   | 261/378 [03:03<00:42,  2.74it/s]"
     ]
    },
    {
     "name": "stdout",
     "output_type": "stream",
     "text": [
      "saving http://oracc.org/aemw/amarna/P270960 as HTML/aemw_amarna_P270960.html\n",
      "retrieving http://oracc.org/aemw/amarna/P271010/html\n"
     ]
    },
    {
     "name": "stderr",
     "output_type": "stream",
     "text": [
      "\r",
      " 69%|██████▉   | 262/378 [03:04<00:39,  2.95it/s]"
     ]
    },
    {
     "name": "stdout",
     "output_type": "stream",
     "text": [
      "saving http://oracc.org/aemw/amarna/P271010 as HTML/aemw_amarna_P271010.html\n",
      "retrieving http://oracc.org/aemw/amarna/P271130/html\n"
     ]
    },
    {
     "name": "stderr",
     "output_type": "stream",
     "text": [
      "\r",
      " 70%|██████▉   | 263/378 [03:04<00:44,  2.59it/s]"
     ]
    },
    {
     "name": "stdout",
     "output_type": "stream",
     "text": [
      "saving http://oracc.org/aemw/amarna/P271130 as HTML/aemw_amarna_P271130.html\n",
      "retrieving http://oracc.org/aemw/amarna/P270955/html\n"
     ]
    },
    {
     "name": "stderr",
     "output_type": "stream",
     "text": [
      "\r",
      " 70%|██████▉   | 264/378 [03:05<00:48,  2.37it/s]"
     ]
    },
    {
     "name": "stdout",
     "output_type": "stream",
     "text": [
      "saving http://oracc.org/aemw/amarna/P270955 as HTML/aemw_amarna_P270955.html\n",
      "retrieving http://oracc.org/aemw/amarna/P271138/html\n"
     ]
    },
    {
     "name": "stderr",
     "output_type": "stream",
     "text": [
      "\r",
      " 70%|███████   | 265/378 [03:05<00:46,  2.43it/s]"
     ]
    },
    {
     "name": "stdout",
     "output_type": "stream",
     "text": [
      "saving http://oracc.org/aemw/amarna/P271138 as HTML/aemw_amarna_P271138.html\n",
      "retrieving http://oracc.org/aemw/amarna/P271048/html\n"
     ]
    },
    {
     "name": "stderr",
     "output_type": "stream",
     "text": [
      "\r",
      " 70%|███████   | 266/378 [03:06<00:49,  2.29it/s]"
     ]
    },
    {
     "name": "stdout",
     "output_type": "stream",
     "text": [
      "saving http://oracc.org/aemw/amarna/P271048 as HTML/aemw_amarna_P271048.html\n",
      "retrieving http://oracc.org/aemw/amarna/P270999/html\n"
     ]
    },
    {
     "name": "stderr",
     "output_type": "stream",
     "text": [
      "\r",
      " 71%|███████   | 267/378 [03:06<00:48,  2.31it/s]"
     ]
    },
    {
     "name": "stdout",
     "output_type": "stream",
     "text": [
      "saving http://oracc.org/aemw/amarna/P270999 as HTML/aemw_amarna_P270999.html\n",
      "retrieving http://oracc.org/aemw/amarna/P270838/html\n"
     ]
    },
    {
     "name": "stderr",
     "output_type": "stream",
     "text": [
      "\r",
      " 71%|███████   | 268/378 [03:06<00:46,  2.39it/s]"
     ]
    },
    {
     "name": "stdout",
     "output_type": "stream",
     "text": [
      "saving http://oracc.org/aemw/amarna/P270838 as HTML/aemw_amarna_P270838.html\n",
      "retrieving http://oracc.org/aemw/amarna/P270948/html\n"
     ]
    },
    {
     "name": "stderr",
     "output_type": "stream",
     "text": [
      "\r",
      " 71%|███████   | 269/378 [03:07<00:44,  2.44it/s]"
     ]
    },
    {
     "name": "stdout",
     "output_type": "stream",
     "text": [
      "saving http://oracc.org/aemw/amarna/P270948 as HTML/aemw_amarna_P270948.html\n",
      "retrieving http://oracc.org/aemw/amarna/P270947/html\n"
     ]
    },
    {
     "name": "stderr",
     "output_type": "stream",
     "text": [
      "\r",
      " 71%|███████▏  | 270/378 [03:07<00:47,  2.29it/s]"
     ]
    },
    {
     "name": "stdout",
     "output_type": "stream",
     "text": [
      "saving http://oracc.org/aemw/amarna/P270947 as HTML/aemw_amarna_P270947.html\n",
      "retrieving http://oracc.org/aemw/amarna/P271040/html\n"
     ]
    },
    {
     "name": "stderr",
     "output_type": "stream",
     "text": [
      "\r",
      " 72%|███████▏  | 271/378 [03:08<00:48,  2.19it/s]"
     ]
    },
    {
     "name": "stdout",
     "output_type": "stream",
     "text": [
      "saving http://oracc.org/aemw/amarna/P271040 as HTML/aemw_amarna_P271040.html\n",
      "retrieving http://oracc.org/aemw/amarna/P270965/html\n"
     ]
    },
    {
     "name": "stderr",
     "output_type": "stream",
     "text": [
      "\r",
      " 72%|███████▏  | 272/378 [03:08<00:49,  2.14it/s]"
     ]
    },
    {
     "name": "stdout",
     "output_type": "stream",
     "text": [
      "saving http://oracc.org/aemw/amarna/P270965 as HTML/aemw_amarna_P270965.html\n",
      "retrieving http://oracc.org/aemw/amarna/P271128/html\n"
     ]
    },
    {
     "name": "stderr",
     "output_type": "stream",
     "text": [
      "\r",
      " 72%|███████▏  | 273/378 [03:09<00:50,  2.10it/s]"
     ]
    },
    {
     "name": "stdout",
     "output_type": "stream",
     "text": [
      "saving http://oracc.org/aemw/amarna/P271128 as HTML/aemw_amarna_P271128.html\n",
      "retrieving http://oracc.org/aemw/amarna/P271001/html\n"
     ]
    },
    {
     "name": "stderr",
     "output_type": "stream",
     "text": [
      "\r",
      " 72%|███████▏  | 274/378 [03:09<00:46,  2.22it/s]"
     ]
    },
    {
     "name": "stdout",
     "output_type": "stream",
     "text": [
      "saving http://oracc.org/aemw/amarna/P271001 as HTML/aemw_amarna_P271001.html\n",
      "retrieving http://oracc.org/aemw/amarna/P271124/html\n"
     ]
    },
    {
     "name": "stderr",
     "output_type": "stream",
     "text": [
      "\r",
      " 73%|███████▎  | 275/378 [03:09<00:44,  2.31it/s]"
     ]
    },
    {
     "name": "stdout",
     "output_type": "stream",
     "text": [
      "saving http://oracc.org/aemw/amarna/P271124 as HTML/aemw_amarna_P271124.html\n",
      "retrieving http://oracc.org/aemw/amarna/P271145/html\n"
     ]
    },
    {
     "name": "stderr",
     "output_type": "stream",
     "text": [
      "\r",
      " 73%|███████▎  | 276/378 [03:10<00:42,  2.39it/s]"
     ]
    },
    {
     "name": "stdout",
     "output_type": "stream",
     "text": [
      "saving http://oracc.org/aemw/amarna/P271145 as HTML/aemw_amarna_P271145.html\n",
      "retrieving http://oracc.org/aemw/amarna/P270966/html\n"
     ]
    },
    {
     "name": "stderr",
     "output_type": "stream",
     "text": [
      "\r",
      " 73%|███████▎  | 277/378 [03:10<00:41,  2.44it/s]"
     ]
    },
    {
     "name": "stdout",
     "output_type": "stream",
     "text": [
      "saving http://oracc.org/aemw/amarna/P270966 as HTML/aemw_amarna_P270966.html\n",
      "retrieving http://oracc.org/aemw/amarna/P270954/html\n"
     ]
    },
    {
     "name": "stderr",
     "output_type": "stream",
     "text": [
      "\r",
      " 74%|███████▎  | 278/378 [03:11<00:40,  2.49it/s]"
     ]
    },
    {
     "name": "stdout",
     "output_type": "stream",
     "text": [
      "saving http://oracc.org/aemw/amarna/P270954 as HTML/aemw_amarna_P270954.html\n",
      "retrieving http://oracc.org/aemw/amarna/P271093/html\n"
     ]
    },
    {
     "name": "stderr",
     "output_type": "stream",
     "text": [
      "\r",
      " 74%|███████▍  | 279/378 [03:11<00:39,  2.51it/s]"
     ]
    },
    {
     "name": "stdout",
     "output_type": "stream",
     "text": [
      "saving http://oracc.org/aemw/amarna/P271093 as HTML/aemw_amarna_P271093.html\n",
      "retrieving http://oracc.org/aemw/amarna/P271000/html\n"
     ]
    },
    {
     "name": "stderr",
     "output_type": "stream",
     "text": [
      "\r",
      " 74%|███████▍  | 280/378 [03:12<00:46,  2.11it/s]"
     ]
    },
    {
     "name": "stdout",
     "output_type": "stream",
     "text": [
      "saving http://oracc.org/aemw/amarna/P271000 as HTML/aemw_amarna_P271000.html\n",
      "retrieving http://oracc.org/aemw/amarna/P271162/html\n"
     ]
    },
    {
     "name": "stderr",
     "output_type": "stream",
     "text": [
      "\r",
      " 74%|███████▍  | 281/378 [03:12<00:50,  1.94it/s]"
     ]
    },
    {
     "name": "stdout",
     "output_type": "stream",
     "text": [
      "saving http://oracc.org/aemw/amarna/P271162 as HTML/aemw_amarna_P271162.html\n",
      "retrieving http://oracc.org/aemw/amarna/P270953/html\n"
     ]
    },
    {
     "name": "stderr",
     "output_type": "stream",
     "text": [
      "\r",
      " 75%|███████▍  | 282/378 [03:13<00:45,  2.09it/s]"
     ]
    },
    {
     "name": "stdout",
     "output_type": "stream",
     "text": [
      "saving http://oracc.org/aemw/amarna/P270953 as HTML/aemw_amarna_P270953.html\n",
      "retrieving http://oracc.org/aemw/amarna/P271201/html\n"
     ]
    },
    {
     "name": "stderr",
     "output_type": "stream",
     "text": [
      "\r",
      " 75%|███████▍  | 283/378 [03:13<00:49,  1.93it/s]"
     ]
    },
    {
     "name": "stdout",
     "output_type": "stream",
     "text": [
      "saving http://oracc.org/aemw/amarna/P271201 as HTML/aemw_amarna_P271201.html\n",
      "retrieving http://oracc.org/aemw/amarna/P270952/html\n"
     ]
    },
    {
     "name": "stderr",
     "output_type": "stream",
     "text": [
      "\r",
      " 75%|███████▌  | 284/378 [03:14<00:51,  1.83it/s]"
     ]
    },
    {
     "name": "stdout",
     "output_type": "stream",
     "text": [
      "saving http://oracc.org/aemw/amarna/P270952 as HTML/aemw_amarna_P270952.html\n",
      "retrieving http://oracc.org/aemw/amarna/P271057/html\n"
     ]
    },
    {
     "name": "stderr",
     "output_type": "stream",
     "text": [
      "\r",
      " 75%|███████▌  | 285/378 [03:15<00:53,  1.75it/s]"
     ]
    },
    {
     "name": "stdout",
     "output_type": "stream",
     "text": [
      "saving http://oracc.org/aemw/amarna/P271057 as HTML/aemw_amarna_P271057.html\n",
      "retrieving http://oracc.org/aemw/amarna/P271088/html\n"
     ]
    },
    {
     "name": "stderr",
     "output_type": "stream",
     "text": [
      "\r",
      " 76%|███████▌  | 286/378 [03:16<01:05,  1.39it/s]"
     ]
    },
    {
     "name": "stdout",
     "output_type": "stream",
     "text": [
      "saving http://oracc.org/aemw/amarna/P271088 as HTML/aemw_amarna_P271088.html\n",
      "retrieving http://oracc.org/aemw/amarna/P271090/html\n"
     ]
    },
    {
     "name": "stderr",
     "output_type": "stream",
     "text": [
      "\r",
      " 76%|███████▌  | 287/378 [03:17<01:20,  1.13it/s]"
     ]
    },
    {
     "name": "stdout",
     "output_type": "stream",
     "text": [
      "saving http://oracc.org/aemw/amarna/P271090 as HTML/aemw_amarna_P271090.html\n",
      "retrieving http://oracc.org/aemw/amarna/P271089/html\n"
     ]
    },
    {
     "name": "stderr",
     "output_type": "stream",
     "text": [
      "\r",
      " 76%|███████▌  | 288/378 [03:18<01:25,  1.05it/s]"
     ]
    },
    {
     "name": "stdout",
     "output_type": "stream",
     "text": [
      "saving http://oracc.org/aemw/amarna/P271089 as HTML/aemw_amarna_P271089.html\n",
      "retrieving http://oracc.org/aemw/amarna/P271091/html\n"
     ]
    },
    {
     "name": "stderr",
     "output_type": "stream",
     "text": [
      "\r",
      " 76%|███████▋  | 289/378 [03:19<01:27,  1.02it/s]"
     ]
    },
    {
     "name": "stdout",
     "output_type": "stream",
     "text": [
      "saving http://oracc.org/aemw/amarna/P271091 as HTML/aemw_amarna_P271091.html\n",
      "retrieving http://oracc.org/aemw/amarna/P271092/html\n"
     ]
    },
    {
     "name": "stderr",
     "output_type": "stream",
     "text": [
      "\r",
      " 77%|███████▋  | 290/378 [03:20<01:16,  1.15it/s]"
     ]
    },
    {
     "name": "stdout",
     "output_type": "stream",
     "text": [
      "saving http://oracc.org/aemw/amarna/P271092 as HTML/aemw_amarna_P271092.html\n",
      "retrieving http://oracc.org/aemw/amarna/P271149/html\n"
     ]
    },
    {
     "name": "stderr",
     "output_type": "stream",
     "text": [
      "\r",
      " 77%|███████▋  | 291/378 [03:20<01:03,  1.38it/s]"
     ]
    },
    {
     "name": "stdout",
     "output_type": "stream",
     "text": [
      "saving http://oracc.org/aemw/amarna/P271149 as HTML/aemw_amarna_P271149.html\n",
      "retrieving http://oracc.org/aemw/amarna/P270969/html\n"
     ]
    },
    {
     "name": "stderr",
     "output_type": "stream",
     "text": [
      "\r",
      " 77%|███████▋  | 292/378 [03:21<01:05,  1.32it/s]"
     ]
    },
    {
     "name": "stdout",
     "output_type": "stream",
     "text": [
      "saving http://oracc.org/aemw/amarna/P270969 as HTML/aemw_amarna_P270969.html\n",
      "retrieving http://oracc.org/aemw/amarna/P271002/html\n"
     ]
    },
    {
     "name": "stderr",
     "output_type": "stream",
     "text": [
      "\r",
      " 78%|███████▊  | 293/378 [03:21<01:00,  1.40it/s]"
     ]
    },
    {
     "name": "stdout",
     "output_type": "stream",
     "text": [
      "saving http://oracc.org/aemw/amarna/P271002 as HTML/aemw_amarna_P271002.html\n",
      "retrieving http://oracc.org/aemw/amarna/P270956/html\n"
     ]
    },
    {
     "name": "stderr",
     "output_type": "stream",
     "text": [
      "\r",
      " 78%|███████▊  | 294/378 [03:22<00:57,  1.47it/s]"
     ]
    },
    {
     "name": "stdout",
     "output_type": "stream",
     "text": [
      "saving http://oracc.org/aemw/amarna/P270956 as HTML/aemw_amarna_P270956.html\n",
      "retrieving http://oracc.org/aemw/amarna/P271096/html\n"
     ]
    },
    {
     "name": "stderr",
     "output_type": "stream",
     "text": [
      "\r",
      " 78%|███████▊  | 295/378 [03:23<00:54,  1.51it/s]"
     ]
    },
    {
     "name": "stdout",
     "output_type": "stream",
     "text": [
      "saving http://oracc.org/aemw/amarna/P271096 as HTML/aemw_amarna_P271096.html\n",
      "retrieving http://oracc.org/aemw/amarna/P270942/html\n"
     ]
    },
    {
     "name": "stderr",
     "output_type": "stream",
     "text": [
      "\r",
      " 78%|███████▊  | 296/378 [03:23<00:53,  1.55it/s]"
     ]
    },
    {
     "name": "stdout",
     "output_type": "stream",
     "text": [
      "saving http://oracc.org/aemw/amarna/P270942 as HTML/aemw_amarna_P270942.html\n",
      "retrieving http://oracc.org/aemw/amarna/P270936/html\n"
     ]
    },
    {
     "name": "stderr",
     "output_type": "stream",
     "text": [
      "\r",
      " 79%|███████▊  | 297/378 [03:24<00:46,  1.75it/s]"
     ]
    },
    {
     "name": "stdout",
     "output_type": "stream",
     "text": [
      "saving http://oracc.org/aemw/amarna/P270936 as HTML/aemw_amarna_P270936.html\n",
      "retrieving http://oracc.org/aemw/amarna/P270935/html\n"
     ]
    },
    {
     "name": "stderr",
     "output_type": "stream",
     "text": [
      "\r",
      " 79%|███████▉  | 298/378 [03:24<00:46,  1.71it/s]"
     ]
    },
    {
     "name": "stdout",
     "output_type": "stream",
     "text": [
      "saving http://oracc.org/aemw/amarna/P270935 as HTML/aemw_amarna_P270935.html\n",
      "retrieving http://oracc.org/aemw/amarna/P270934/html\n"
     ]
    },
    {
     "name": "stderr",
     "output_type": "stream",
     "text": [
      "\r",
      " 79%|███████▉  | 299/378 [03:25<00:44,  1.79it/s]"
     ]
    },
    {
     "name": "stdout",
     "output_type": "stream",
     "text": [
      "saving http://oracc.org/aemw/amarna/P270934 as HTML/aemw_amarna_P270934.html\n",
      "retrieving http://oracc.org/aemw/amarna/P271062/html\n"
     ]
    },
    {
     "name": "stderr",
     "output_type": "stream",
     "text": [
      "\r",
      " 79%|███████▉  | 300/378 [03:25<00:42,  1.84it/s]"
     ]
    },
    {
     "name": "stdout",
     "output_type": "stream",
     "text": [
      "saving http://oracc.org/aemw/amarna/P271062 as HTML/aemw_amarna_P271062.html\n",
      "retrieving http://oracc.org/aemw/amarna/P271008/html\n"
     ]
    },
    {
     "name": "stderr",
     "output_type": "stream",
     "text": [
      "\r",
      " 80%|███████▉  | 301/378 [03:26<00:40,  1.89it/s]"
     ]
    },
    {
     "name": "stdout",
     "output_type": "stream",
     "text": [
      "saving http://oracc.org/aemw/amarna/P271008 as HTML/aemw_amarna_P271008.html\n",
      "retrieving http://oracc.org/aemw/amarna/P271194/html\n"
     ]
    },
    {
     "name": "stderr",
     "output_type": "stream",
     "text": [
      "\r",
      " 80%|███████▉  | 302/378 [03:26<00:37,  2.05it/s]"
     ]
    },
    {
     "name": "stdout",
     "output_type": "stream",
     "text": [
      "saving http://oracc.org/aemw/amarna/P271194 as HTML/aemw_amarna_P271194.html\n",
      "retrieving http://oracc.org/aemw/amarna/P270923/html\n"
     ]
    },
    {
     "name": "stderr",
     "output_type": "stream",
     "text": [
      "\r",
      " 80%|████████  | 303/378 [03:27<00:34,  2.18it/s]"
     ]
    },
    {
     "name": "stdout",
     "output_type": "stream",
     "text": [
      "saving http://oracc.org/aemw/amarna/P270923 as HTML/aemw_amarna_P270923.html\n",
      "retrieving http://oracc.org/aemw/amarna/P270924/html\n"
     ]
    },
    {
     "name": "stderr",
     "output_type": "stream",
     "text": [
      "\r",
      " 80%|████████  | 304/378 [03:27<00:32,  2.29it/s]"
     ]
    },
    {
     "name": "stdout",
     "output_type": "stream",
     "text": [
      "saving http://oracc.org/aemw/amarna/P270924 as HTML/aemw_amarna_P270924.html\n",
      "retrieving http://oracc.org/aemw/amarna/P271007/html\n"
     ]
    },
    {
     "name": "stderr",
     "output_type": "stream",
     "text": [
      "\r",
      " 81%|████████  | 305/378 [03:28<00:34,  2.12it/s]"
     ]
    },
    {
     "name": "stdout",
     "output_type": "stream",
     "text": [
      "saving http://oracc.org/aemw/amarna/P271007 as HTML/aemw_amarna_P271007.html\n",
      "retrieving http://oracc.org/aemw/amarna/P270925/html\n"
     ]
    },
    {
     "name": "stderr",
     "output_type": "stream",
     "text": [
      "\r",
      " 81%|████████  | 306/378 [03:28<00:37,  1.93it/s]"
     ]
    },
    {
     "name": "stdout",
     "output_type": "stream",
     "text": [
      "saving http://oracc.org/aemw/amarna/P270925 as HTML/aemw_amarna_P270925.html\n",
      "retrieving http://oracc.org/aemw/amarna/P271042/html\n"
     ]
    },
    {
     "name": "stderr",
     "output_type": "stream",
     "text": [
      "\r",
      " 81%|████████  | 307/378 [03:28<00:31,  2.25it/s]"
     ]
    },
    {
     "name": "stdout",
     "output_type": "stream",
     "text": [
      "saving http://oracc.org/aemw/amarna/P271042 as HTML/aemw_amarna_P271042.html\n",
      "retrieving http://oracc.org/aemw/amarna/P271058/html\n"
     ]
    },
    {
     "name": "stderr",
     "output_type": "stream",
     "text": [
      "\r",
      " 81%|████████▏ | 308/378 [03:29<00:29,  2.33it/s]"
     ]
    },
    {
     "name": "stdout",
     "output_type": "stream",
     "text": [
      "saving http://oracc.org/aemw/amarna/P271058 as HTML/aemw_amarna_P271058.html\n",
      "retrieving http://oracc.org/aemw/amarna/P271168/html\n"
     ]
    },
    {
     "name": "stderr",
     "output_type": "stream",
     "text": [
      "\r",
      " 82%|████████▏ | 309/378 [03:29<00:28,  2.40it/s]"
     ]
    },
    {
     "name": "stdout",
     "output_type": "stream",
     "text": [
      "saving http://oracc.org/aemw/amarna/P271168 as HTML/aemw_amarna_P271168.html\n",
      "retrieving http://oracc.org/aemw/amarna/P271139/html\n"
     ]
    },
    {
     "name": "stderr",
     "output_type": "stream",
     "text": [
      "\r",
      " 82%|████████▏ | 310/378 [03:30<00:25,  2.67it/s]"
     ]
    },
    {
     "name": "stdout",
     "output_type": "stream",
     "text": [
      "saving http://oracc.org/aemw/amarna/P271139 as HTML/aemw_amarna_P271139.html\n",
      "retrieving http://oracc.org/aemw/amarna/P271054/html\n"
     ]
    },
    {
     "name": "stderr",
     "output_type": "stream",
     "text": [
      "\r",
      " 82%|████████▏ | 311/378 [03:30<00:25,  2.64it/s]"
     ]
    },
    {
     "name": "stdout",
     "output_type": "stream",
     "text": [
      "saving http://oracc.org/aemw/amarna/P271054 as HTML/aemw_amarna_P271054.html\n",
      "retrieving http://oracc.org/aemw/amarna/P271175/html\n"
     ]
    },
    {
     "name": "stderr",
     "output_type": "stream",
     "text": [
      "\r",
      " 83%|████████▎ | 312/378 [03:30<00:25,  2.63it/s]"
     ]
    },
    {
     "name": "stdout",
     "output_type": "stream",
     "text": [
      "saving http://oracc.org/aemw/amarna/P271175 as HTML/aemw_amarna_P271175.html\n",
      "retrieving http://oracc.org/aemw/amarna/P271009/html\n"
     ]
    },
    {
     "name": "stderr",
     "output_type": "stream",
     "text": [
      "\r",
      " 83%|████████▎ | 313/378 [03:31<00:24,  2.61it/s]"
     ]
    },
    {
     "name": "stdout",
     "output_type": "stream",
     "text": [
      "saving http://oracc.org/aemw/amarna/P271009 as HTML/aemw_amarna_P271009.html\n",
      "retrieving http://oracc.org/aemw/amarna/P271019/html\n"
     ]
    },
    {
     "name": "stderr",
     "output_type": "stream",
     "text": [
      "\r",
      " 83%|████████▎ | 314/378 [03:31<00:26,  2.39it/s]"
     ]
    },
    {
     "name": "stdout",
     "output_type": "stream",
     "text": [
      "saving http://oracc.org/aemw/amarna/P271019 as HTML/aemw_amarna_P271019.html\n",
      "retrieving http://oracc.org/aemw/amarna/P270941/html\n"
     ]
    },
    {
     "name": "stderr",
     "output_type": "stream",
     "text": [
      "\r",
      " 83%|████████▎ | 315/378 [03:32<00:27,  2.26it/s]"
     ]
    },
    {
     "name": "stdout",
     "output_type": "stream",
     "text": [
      "saving http://oracc.org/aemw/amarna/P270941 as HTML/aemw_amarna_P270941.html\n",
      "retrieving http://oracc.org/aemw/amarna/P270940/html\n"
     ]
    },
    {
     "name": "stderr",
     "output_type": "stream",
     "text": [
      "\r",
      " 84%|████████▎ | 316/378 [03:32<00:28,  2.17it/s]"
     ]
    },
    {
     "name": "stdout",
     "output_type": "stream",
     "text": [
      "saving http://oracc.org/aemw/amarna/P270940 as HTML/aemw_amarna_P270940.html\n",
      "retrieving http://oracc.org/aemw/amarna/P271119/html\n"
     ]
    },
    {
     "name": "stderr",
     "output_type": "stream",
     "text": [
      "\r",
      " 84%|████████▍ | 317/378 [03:33<00:28,  2.11it/s]"
     ]
    },
    {
     "name": "stdout",
     "output_type": "stream",
     "text": [
      "saving http://oracc.org/aemw/amarna/P271119 as HTML/aemw_amarna_P271119.html\n",
      "retrieving http://oracc.org/aemw/amarna/P270959/html\n"
     ]
    },
    {
     "name": "stderr",
     "output_type": "stream",
     "text": [
      "\r",
      " 84%|████████▍ | 318/378 [03:33<00:27,  2.21it/s]"
     ]
    },
    {
     "name": "stdout",
     "output_type": "stream",
     "text": [
      "saving http://oracc.org/aemw/amarna/P270959 as HTML/aemw_amarna_P270959.html\n",
      "retrieving http://oracc.org/aemw/amarna/P271157/html\n"
     ]
    },
    {
     "name": "stderr",
     "output_type": "stream",
     "text": [
      "\r",
      " 84%|████████▍ | 319/378 [03:34<00:27,  2.15it/s]"
     ]
    },
    {
     "name": "stdout",
     "output_type": "stream",
     "text": [
      "saving http://oracc.org/aemw/amarna/P271157 as HTML/aemw_amarna_P271157.html\n",
      "retrieving http://oracc.org/aemw/amarna/P271005/html\n"
     ]
    },
    {
     "name": "stderr",
     "output_type": "stream",
     "text": [
      "\r",
      " 85%|████████▍ | 320/378 [03:34<00:27,  2.10it/s]"
     ]
    },
    {
     "name": "stdout",
     "output_type": "stream",
     "text": [
      "saving http://oracc.org/aemw/amarna/P271005 as HTML/aemw_amarna_P271005.html\n",
      "retrieving http://oracc.org/aemw/amarna/P271114/html\n"
     ]
    },
    {
     "name": "stderr",
     "output_type": "stream",
     "text": [
      "\r",
      " 85%|████████▍ | 321/378 [03:35<00:27,  2.07it/s]"
     ]
    },
    {
     "name": "stdout",
     "output_type": "stream",
     "text": [
      "saving http://oracc.org/aemw/amarna/P271114 as HTML/aemw_amarna_P271114.html\n",
      "retrieving http://oracc.org/aemw/amarna/P271004/html\n"
     ]
    },
    {
     "name": "stderr",
     "output_type": "stream",
     "text": [
      "\r",
      " 85%|████████▌ | 322/378 [03:35<00:27,  2.05it/s]"
     ]
    },
    {
     "name": "stdout",
     "output_type": "stream",
     "text": [
      "saving http://oracc.org/aemw/amarna/P271004 as HTML/aemw_amarna_P271004.html\n",
      "retrieving http://oracc.org/aemw/amarna/P270938/html\n"
     ]
    },
    {
     "name": "stderr",
     "output_type": "stream",
     "text": [
      "\r",
      " 85%|████████▌ | 323/378 [03:36<00:27,  2.03it/s]"
     ]
    },
    {
     "name": "stdout",
     "output_type": "stream",
     "text": [
      "saving http://oracc.org/aemw/amarna/P270938 as HTML/aemw_amarna_P270938.html\n",
      "retrieving http://oracc.org/aemw/amarna/P270939/html\n"
     ]
    },
    {
     "name": "stderr",
     "output_type": "stream",
     "text": [
      "\r",
      " 86%|████████▌ | 324/378 [03:36<00:26,  2.03it/s]"
     ]
    },
    {
     "name": "stdout",
     "output_type": "stream",
     "text": [
      "saving http://oracc.org/aemw/amarna/P270939 as HTML/aemw_amarna_P270939.html\n",
      "retrieving http://oracc.org/aemw/amarna/P270937/html\n"
     ]
    },
    {
     "name": "stderr",
     "output_type": "stream",
     "text": [
      "\r",
      " 86%|████████▌ | 325/378 [03:37<00:26,  2.01it/s]"
     ]
    },
    {
     "name": "stdout",
     "output_type": "stream",
     "text": [
      "saving http://oracc.org/aemw/amarna/P270937 as HTML/aemw_amarna_P270937.html\n",
      "retrieving http://oracc.org/aemw/amarna/P271115/html\n"
     ]
    },
    {
     "name": "stderr",
     "output_type": "stream",
     "text": [
      "\r",
      " 86%|████████▌ | 326/378 [03:37<00:25,  2.01it/s]"
     ]
    },
    {
     "name": "stdout",
     "output_type": "stream",
     "text": [
      "saving http://oracc.org/aemw/amarna/P271115 as HTML/aemw_amarna_P271115.html\n",
      "retrieving http://oracc.org/aemw/amarna/P271003/html\n"
     ]
    },
    {
     "name": "stderr",
     "output_type": "stream",
     "text": [
      "\r",
      " 87%|████████▋ | 327/378 [03:38<00:25,  2.01it/s]"
     ]
    },
    {
     "name": "stdout",
     "output_type": "stream",
     "text": [
      "saving http://oracc.org/aemw/amarna/P271003 as HTML/aemw_amarna_P271003.html\n",
      "retrieving http://oracc.org/aemw/amarna/P271116/html\n"
     ]
    },
    {
     "name": "stderr",
     "output_type": "stream",
     "text": [
      "\r",
      " 87%|████████▋ | 328/378 [03:38<00:23,  2.15it/s]"
     ]
    },
    {
     "name": "stdout",
     "output_type": "stream",
     "text": [
      "saving http://oracc.org/aemw/amarna/P271116 as HTML/aemw_amarna_P271116.html\n",
      "retrieving http://oracc.org/aemw/amarna/P270950/html\n"
     ]
    },
    {
     "name": "stderr",
     "output_type": "stream",
     "text": [
      "\r",
      " 87%|████████▋ | 329/378 [03:38<00:21,  2.25it/s]"
     ]
    },
    {
     "name": "stdout",
     "output_type": "stream",
     "text": [
      "saving http://oracc.org/aemw/amarna/P270950 as HTML/aemw_amarna_P270950.html\n",
      "retrieving http://oracc.org/aemw/amarna/P271006/html\n"
     ]
    },
    {
     "name": "stderr",
     "output_type": "stream",
     "text": [
      "\r",
      " 87%|████████▋ | 330/378 [03:39<00:22,  2.17it/s]"
     ]
    },
    {
     "name": "stdout",
     "output_type": "stream",
     "text": [
      "saving http://oracc.org/aemw/amarna/P271006 as HTML/aemw_amarna_P271006.html\n",
      "retrieving http://oracc.org/aemw/amarna/P271172/html\n"
     ]
    },
    {
     "name": "stderr",
     "output_type": "stream",
     "text": [
      "\r",
      " 88%|████████▊ | 331/378 [03:39<00:19,  2.47it/s]"
     ]
    },
    {
     "name": "stdout",
     "output_type": "stream",
     "text": [
      "saving http://oracc.org/aemw/amarna/P271172 as HTML/aemw_amarna_P271172.html\n",
      "retrieving http://oracc.org/aemw/amarna/P271023/html\n"
     ]
    },
    {
     "name": "stderr",
     "output_type": "stream",
     "text": [
      "\r",
      " 88%|████████▊ | 332/378 [03:40<00:19,  2.31it/s]"
     ]
    },
    {
     "name": "stdout",
     "output_type": "stream",
     "text": [
      "saving http://oracc.org/aemw/amarna/P271023 as HTML/aemw_amarna_P271023.html\n",
      "retrieving http://oracc.org/aemw/amarna/P271065/html\n"
     ]
    },
    {
     "name": "stderr",
     "output_type": "stream",
     "text": [
      "\r",
      " 88%|████████▊ | 333/378 [03:40<00:17,  2.59it/s]"
     ]
    },
    {
     "name": "stdout",
     "output_type": "stream",
     "text": [
      "saving http://oracc.org/aemw/amarna/P271065 as HTML/aemw_amarna_P271065.html\n",
      "retrieving http://oracc.org/aemw/amarna/P271068/html\n"
     ]
    },
    {
     "name": "stderr",
     "output_type": "stream",
     "text": [
      "\r",
      " 88%|████████▊ | 334/378 [03:40<00:18,  2.38it/s]"
     ]
    },
    {
     "name": "stdout",
     "output_type": "stream",
     "text": [
      "saving http://oracc.org/aemw/amarna/P271068 as HTML/aemw_amarna_P271068.html\n",
      "retrieving http://oracc.org/aemw/amarna/P271146/html\n"
     ]
    },
    {
     "name": "stderr",
     "output_type": "stream",
     "text": [
      "\r",
      " 89%|████████▊ | 335/378 [03:41<00:16,  2.66it/s]"
     ]
    },
    {
     "name": "stdout",
     "output_type": "stream",
     "text": [
      "saving http://oracc.org/aemw/amarna/P271146 as HTML/aemw_amarna_P271146.html\n",
      "retrieving http://oracc.org/aemw/amarna/P271122/html\n"
     ]
    },
    {
     "name": "stderr",
     "output_type": "stream",
     "text": [
      "\r",
      " 89%|████████▉ | 336/378 [03:41<00:17,  2.42it/s]"
     ]
    },
    {
     "name": "stdout",
     "output_type": "stream",
     "text": [
      "saving http://oracc.org/aemw/amarna/P271122 as HTML/aemw_amarna_P271122.html\n",
      "retrieving http://oracc.org/aemw/amarna/P271173/html\n"
     ]
    },
    {
     "name": "stderr",
     "output_type": "stream",
     "text": [
      "\r",
      " 89%|████████▉ | 337/378 [03:42<00:16,  2.47it/s]"
     ]
    },
    {
     "name": "stdout",
     "output_type": "stream",
     "text": [
      "saving http://oracc.org/aemw/amarna/P271173 as HTML/aemw_amarna_P271173.html\n",
      "retrieving http://oracc.org/aemw/amarna/P271177/html\n"
     ]
    },
    {
     "name": "stderr",
     "output_type": "stream",
     "text": [
      "\r",
      " 89%|████████▉ | 338/378 [03:42<00:14,  2.74it/s]"
     ]
    },
    {
     "name": "stdout",
     "output_type": "stream",
     "text": [
      "saving http://oracc.org/aemw/amarna/P271177 as HTML/aemw_amarna_P271177.html\n",
      "retrieving http://oracc.org/aemw/amarna/P270839/html\n"
     ]
    },
    {
     "name": "stderr",
     "output_type": "stream",
     "text": [
      "\r",
      " 90%|████████▉ | 339/378 [03:42<00:13,  2.95it/s]"
     ]
    },
    {
     "name": "stdout",
     "output_type": "stream",
     "text": [
      "saving http://oracc.org/aemw/amarna/P270839 as HTML/aemw_amarna_P270839.html\n",
      "retrieving http://oracc.org/aemw/amarna/P270840/html\n"
     ]
    },
    {
     "name": "stderr",
     "output_type": "stream",
     "text": [
      "\r",
      " 90%|████████▉ | 340/378 [03:42<00:12,  3.14it/s]"
     ]
    },
    {
     "name": "stdout",
     "output_type": "stream",
     "text": [
      "saving http://oracc.org/aemw/amarna/P270840 as HTML/aemw_amarna_P270840.html\n",
      "retrieving http://oracc.org/aemw/amarna/P270841/html\n"
     ]
    },
    {
     "name": "stderr",
     "output_type": "stream",
     "text": [
      "\r",
      " 90%|█████████ | 341/378 [03:43<00:11,  3.28it/s]"
     ]
    },
    {
     "name": "stdout",
     "output_type": "stream",
     "text": [
      "saving http://oracc.org/aemw/amarna/P270841 as HTML/aemw_amarna_P270841.html\n",
      "retrieving http://oracc.org/aemw/amarna/P270842/html\n"
     ]
    },
    {
     "name": "stderr",
     "output_type": "stream",
     "text": [
      "\r",
      " 90%|█████████ | 342/378 [03:43<00:10,  3.38it/s]"
     ]
    },
    {
     "name": "stdout",
     "output_type": "stream",
     "text": [
      "saving http://oracc.org/aemw/amarna/P270842 as HTML/aemw_amarna_P270842.html\n",
      "retrieving http://oracc.org/aemw/amarna/P270843/html\n"
     ]
    },
    {
     "name": "stderr",
     "output_type": "stream",
     "text": [
      "\r",
      " 91%|█████████ | 343/378 [03:43<00:10,  3.44it/s]"
     ]
    },
    {
     "name": "stdout",
     "output_type": "stream",
     "text": [
      "saving http://oracc.org/aemw/amarna/P270843 as HTML/aemw_amarna_P270843.html\n",
      "retrieving http://oracc.org/aemw/amarna/P270844/html\n"
     ]
    },
    {
     "name": "stderr",
     "output_type": "stream",
     "text": [
      "\r",
      " 91%|█████████ | 344/378 [03:43<00:09,  3.50it/s]"
     ]
    },
    {
     "name": "stdout",
     "output_type": "stream",
     "text": [
      "saving http://oracc.org/aemw/amarna/P270844 as HTML/aemw_amarna_P270844.html\n",
      "retrieving http://oracc.org/aemw/amarna/P270845/html\n"
     ]
    },
    {
     "name": "stderr",
     "output_type": "stream",
     "text": [
      "\r",
      " 91%|█████████▏| 345/378 [03:44<00:09,  3.55it/s]"
     ]
    },
    {
     "name": "stdout",
     "output_type": "stream",
     "text": [
      "saving http://oracc.org/aemw/amarna/P270845 as HTML/aemw_amarna_P270845.html\n",
      "retrieving http://oracc.org/aemw/amarna/P270846/html\n"
     ]
    },
    {
     "name": "stderr",
     "output_type": "stream",
     "text": [
      "\r",
      " 92%|█████████▏| 346/378 [03:44<00:08,  3.58it/s]"
     ]
    },
    {
     "name": "stdout",
     "output_type": "stream",
     "text": [
      "saving http://oracc.org/aemw/amarna/P270846 as HTML/aemw_amarna_P270846.html\n",
      "retrieving http://oracc.org/aemw/amarna/P270847/html\n"
     ]
    },
    {
     "name": "stderr",
     "output_type": "stream",
     "text": [
      "\r",
      " 92%|█████████▏| 347/378 [03:44<00:09,  3.40it/s]"
     ]
    },
    {
     "name": "stdout",
     "output_type": "stream",
     "text": [
      "saving http://oracc.org/aemw/amarna/P270847 as HTML/aemw_amarna_P270847.html\n",
      "retrieving http://oracc.org/aemw/amarna/P270848/html\n"
     ]
    },
    {
     "name": "stderr",
     "output_type": "stream",
     "text": [
      "\r",
      " 92%|█████████▏| 348/378 [03:45<00:08,  3.46it/s]"
     ]
    },
    {
     "name": "stdout",
     "output_type": "stream",
     "text": [
      "saving http://oracc.org/aemw/amarna/P270848 as HTML/aemw_amarna_P270848.html\n",
      "retrieving http://oracc.org/aemw/amarna/P270849/html\n"
     ]
    },
    {
     "name": "stderr",
     "output_type": "stream",
     "text": [
      "\r",
      " 92%|█████████▏| 349/378 [03:45<00:08,  3.52it/s]"
     ]
    },
    {
     "name": "stdout",
     "output_type": "stream",
     "text": [
      "saving http://oracc.org/aemw/amarna/P270849 as HTML/aemw_amarna_P270849.html\n",
      "retrieving http://oracc.org/aemw/amarna/P270850/html\n"
     ]
    },
    {
     "name": "stderr",
     "output_type": "stream",
     "text": [
      "\r",
      " 93%|█████████▎| 350/378 [03:45<00:09,  2.88it/s]"
     ]
    },
    {
     "name": "stdout",
     "output_type": "stream",
     "text": [
      "saving http://oracc.org/aemw/amarna/P270850 as HTML/aemw_amarna_P270850.html\n",
      "retrieving http://oracc.org/aemw/amarna/P270851/html\n"
     ]
    },
    {
     "name": "stderr",
     "output_type": "stream",
     "text": [
      "\r",
      " 93%|█████████▎| 351/378 [03:46<00:08,  3.07it/s]"
     ]
    },
    {
     "name": "stdout",
     "output_type": "stream",
     "text": [
      "saving http://oracc.org/aemw/amarna/P270851 as HTML/aemw_amarna_P270851.html\n",
      "retrieving http://oracc.org/aemw/amarna/P270853/html\n"
     ]
    },
    {
     "name": "stderr",
     "output_type": "stream",
     "text": [
      "\r",
      " 93%|█████████▎| 352/378 [03:46<00:08,  3.20it/s]"
     ]
    },
    {
     "name": "stdout",
     "output_type": "stream",
     "text": [
      "saving http://oracc.org/aemw/amarna/P270853 as HTML/aemw_amarna_P270853.html\n",
      "retrieving http://oracc.org/aemw/amarna/P270854/html\n"
     ]
    },
    {
     "name": "stderr",
     "output_type": "stream",
     "text": [
      "\r",
      " 93%|█████████▎| 353/378 [03:46<00:07,  3.33it/s]"
     ]
    },
    {
     "name": "stdout",
     "output_type": "stream",
     "text": [
      "saving http://oracc.org/aemw/amarna/P270854 as HTML/aemw_amarna_P270854.html\n",
      "retrieving http://oracc.org/aemw/amarna/P270855/html\n"
     ]
    },
    {
     "name": "stderr",
     "output_type": "stream",
     "text": [
      "\r",
      " 94%|█████████▎| 354/378 [03:47<00:11,  2.17it/s]"
     ]
    },
    {
     "name": "stdout",
     "output_type": "stream",
     "text": [
      "saving http://oracc.org/aemw/amarna/P270855 as HTML/aemw_amarna_P270855.html\n",
      "retrieving http://oracc.org/aemw/amarna/P270856/html\n"
     ]
    },
    {
     "name": "stderr",
     "output_type": "stream",
     "text": [
      "\r",
      " 94%|█████████▍| 355/378 [03:48<00:13,  1.65it/s]"
     ]
    },
    {
     "name": "stdout",
     "output_type": "stream",
     "text": [
      "saving http://oracc.org/aemw/amarna/P270856 as HTML/aemw_amarna_P270856.html\n",
      "retrieving http://oracc.org/aemw/amarna/P270857/html\n"
     ]
    },
    {
     "name": "stderr",
     "output_type": "stream",
     "text": [
      "\r",
      " 94%|█████████▍| 356/378 [03:49<00:12,  1.74it/s]"
     ]
    },
    {
     "name": "stdout",
     "output_type": "stream",
     "text": [
      "saving http://oracc.org/aemw/amarna/P270857 as HTML/aemw_amarna_P270857.html\n",
      "retrieving http://oracc.org/aemw/amarna/P270858/html\n"
     ]
    },
    {
     "name": "stderr",
     "output_type": "stream",
     "text": [
      "\r",
      " 94%|█████████▍| 357/378 [03:49<00:14,  1.46it/s]"
     ]
    },
    {
     "name": "stdout",
     "output_type": "stream",
     "text": [
      "saving http://oracc.org/aemw/amarna/P270858 as HTML/aemw_amarna_P270858.html\n",
      "retrieving http://oracc.org/aemw/amarna/P270859/html\n"
     ]
    },
    {
     "name": "stderr",
     "output_type": "stream",
     "text": [
      "\r",
      " 95%|█████████▍| 358/378 [03:50<00:11,  1.77it/s]"
     ]
    },
    {
     "name": "stdout",
     "output_type": "stream",
     "text": [
      "saving http://oracc.org/aemw/amarna/P270859 as HTML/aemw_amarna_P270859.html\n",
      "retrieving http://oracc.org/aemw/amarna/P270873/html\n"
     ]
    },
    {
     "name": "stderr",
     "output_type": "stream",
     "text": [
      "\r",
      " 95%|█████████▍| 359/378 [03:51<00:17,  1.09it/s]"
     ]
    },
    {
     "name": "stdout",
     "output_type": "stream",
     "text": [
      "saving http://oracc.org/aemw/amarna/P270873 as HTML/aemw_amarna_P270873.html\n",
      "retrieving http://oracc.org/aemw/amarna/P270876/html\n"
     ]
    },
    {
     "name": "stderr",
     "output_type": "stream",
     "text": [
      "\r",
      " 95%|█████████▌| 360/378 [03:52<00:14,  1.27it/s]"
     ]
    },
    {
     "name": "stdout",
     "output_type": "stream",
     "text": [
      "saving http://oracc.org/aemw/amarna/P270876 as HTML/aemw_amarna_P270876.html\n",
      "retrieving http://oracc.org/aemw/amarna/P270874/html\n"
     ]
    },
    {
     "name": "stderr",
     "output_type": "stream",
     "text": [
      "\r",
      " 96%|█████████▌| 361/378 [03:52<00:11,  1.43it/s]"
     ]
    },
    {
     "name": "stdout",
     "output_type": "stream",
     "text": [
      "saving http://oracc.org/aemw/amarna/P270874 as HTML/aemw_amarna_P270874.html\n",
      "retrieving http://oracc.org/aemw/amarna/P270877/html\n"
     ]
    },
    {
     "name": "stderr",
     "output_type": "stream",
     "text": [
      "\r",
      " 96%|█████████▌| 362/378 [03:53<00:10,  1.56it/s]"
     ]
    },
    {
     "name": "stdout",
     "output_type": "stream",
     "text": [
      "saving http://oracc.org/aemw/amarna/P270877 as HTML/aemw_amarna_P270877.html\n",
      "retrieving http://oracc.org/aemw/amarna/P270875/html\n"
     ]
    },
    {
     "name": "stderr",
     "output_type": "stream",
     "text": [
      "\r",
      " 96%|█████████▌| 363/378 [03:54<00:09,  1.58it/s]"
     ]
    },
    {
     "name": "stdout",
     "output_type": "stream",
     "text": [
      "saving http://oracc.org/aemw/amarna/P270875 as HTML/aemw_amarna_P270875.html\n",
      "retrieving http://oracc.org/aemw/amarna/P270861/html\n"
     ]
    },
    {
     "name": "stderr",
     "output_type": "stream",
     "text": [
      "\r",
      " 96%|█████████▋| 364/378 [03:55<00:10,  1.37it/s]"
     ]
    },
    {
     "name": "stdout",
     "output_type": "stream",
     "text": [
      "saving http://oracc.org/aemw/amarna/P270861 as HTML/aemw_amarna_P270861.html\n",
      "retrieving http://oracc.org/aemw/amarna/P270862/html\n"
     ]
    },
    {
     "name": "stderr",
     "output_type": "stream",
     "text": [
      "\r",
      " 97%|█████████▋| 365/378 [03:55<00:08,  1.60it/s]"
     ]
    },
    {
     "name": "stdout",
     "output_type": "stream",
     "text": [
      "saving http://oracc.org/aemw/amarna/P270862 as HTML/aemw_amarna_P270862.html\n",
      "retrieving http://oracc.org/aemw/amarna/P271026/html\n"
     ]
    },
    {
     "name": "stderr",
     "output_type": "stream",
     "text": [
      "\r",
      " 97%|█████████▋| 366/378 [03:56<00:07,  1.61it/s]"
     ]
    },
    {
     "name": "stdout",
     "output_type": "stream",
     "text": [
      "saving http://oracc.org/aemw/amarna/P271026 as HTML/aemw_amarna_P271026.html\n",
      "retrieving http://oracc.org/aemw/amarna/P270885/html\n"
     ]
    },
    {
     "name": "stderr",
     "output_type": "stream",
     "text": [
      "\r",
      " 97%|█████████▋| 367/378 [03:56<00:06,  1.81it/s]"
     ]
    },
    {
     "name": "stdout",
     "output_type": "stream",
     "text": [
      "saving http://oracc.org/aemw/amarna/P270885 as HTML/aemw_amarna_P270885.html\n",
      "retrieving http://oracc.org/aemw/amarna/P270884/html\n"
     ]
    },
    {
     "name": "stderr",
     "output_type": "stream",
     "text": [
      "\r",
      " 97%|█████████▋| 368/378 [03:57<00:05,  1.75it/s]"
     ]
    },
    {
     "name": "stdout",
     "output_type": "stream",
     "text": [
      "saving http://oracc.org/aemw/amarna/P270884 as HTML/aemw_amarna_P270884.html\n",
      "retrieving http://oracc.org/aemw/amarna/P270863/html\n"
     ]
    },
    {
     "name": "stderr",
     "output_type": "stream",
     "text": [
      "\r",
      " 98%|█████████▊| 369/378 [03:57<00:04,  2.07it/s]"
     ]
    },
    {
     "name": "stdout",
     "output_type": "stream",
     "text": [
      "saving http://oracc.org/aemw/amarna/P270863 as HTML/aemw_amarna_P270863.html\n",
      "retrieving http://oracc.org/aemw/amarna/P270864/html\n"
     ]
    },
    {
     "name": "stderr",
     "output_type": "stream",
     "text": [
      "\r",
      " 98%|█████████▊| 370/378 [03:57<00:03,  2.31it/s]"
     ]
    },
    {
     "name": "stdout",
     "output_type": "stream",
     "text": [
      "saving http://oracc.org/aemw/amarna/P270864 as HTML/aemw_amarna_P270864.html\n",
      "retrieving http://oracc.org/aemw/amarna/P270865/html\n"
     ]
    },
    {
     "name": "stderr",
     "output_type": "stream",
     "text": [
      "\r",
      " 98%|█████████▊| 371/378 [03:58<00:02,  2.38it/s]"
     ]
    },
    {
     "name": "stdout",
     "output_type": "stream",
     "text": [
      "saving http://oracc.org/aemw/amarna/P270865 as HTML/aemw_amarna_P270865.html\n",
      "retrieving http://oracc.org/aemw/amarna/P270866/html\n"
     ]
    },
    {
     "name": "stderr",
     "output_type": "stream",
     "text": [
      "\r",
      " 98%|█████████▊| 372/378 [03:58<00:02,  2.66it/s]"
     ]
    },
    {
     "name": "stdout",
     "output_type": "stream",
     "text": [
      "saving http://oracc.org/aemw/amarna/P270866 as HTML/aemw_amarna_P270866.html\n",
      "retrieving http://oracc.org/aemw/amarna/P270867/html\n"
     ]
    },
    {
     "name": "stderr",
     "output_type": "stream",
     "text": [
      "\r",
      " 99%|█████████▊| 373/378 [03:58<00:01,  2.87it/s]"
     ]
    },
    {
     "name": "stdout",
     "output_type": "stream",
     "text": [
      "saving http://oracc.org/aemw/amarna/P270867 as HTML/aemw_amarna_P270867.html\n",
      "retrieving http://oracc.org/aemw/amarna/P270868/html\n"
     ]
    },
    {
     "name": "stderr",
     "output_type": "stream",
     "text": [
      "\r",
      " 99%|█████████▉| 374/378 [03:58<00:01,  3.07it/s]"
     ]
    },
    {
     "name": "stdout",
     "output_type": "stream",
     "text": [
      "saving http://oracc.org/aemw/amarna/P270868 as HTML/aemw_amarna_P270868.html\n",
      "retrieving http://oracc.org/aemw/amarna/P270971/html\n"
     ]
    },
    {
     "name": "stderr",
     "output_type": "stream",
     "text": [
      "\r",
      " 99%|█████████▉| 375/378 [03:59<00:01,  2.64it/s]"
     ]
    },
    {
     "name": "stdout",
     "output_type": "stream",
     "text": [
      "saving http://oracc.org/aemw/amarna/P270971 as HTML/aemw_amarna_P270971.html\n",
      "retrieving http://oracc.org/aemw/amarna/P270869/html\n"
     ]
    },
    {
     "name": "stderr",
     "output_type": "stream",
     "text": [
      "\r",
      " 99%|█████████▉| 376/378 [03:59<00:00,  2.82it/s]"
     ]
    },
    {
     "name": "stdout",
     "output_type": "stream",
     "text": [
      "saving http://oracc.org/aemw/amarna/P270869 as HTML/aemw_amarna_P270869.html\n",
      "retrieving http://oracc.org/aemw/amarna/P270871/html\n"
     ]
    },
    {
     "name": "stderr",
     "output_type": "stream",
     "text": [
      "\r",
      "100%|█████████▉| 377/378 [03:59<00:00,  3.01it/s]"
     ]
    },
    {
     "name": "stdout",
     "output_type": "stream",
     "text": [
      "saving http://oracc.org/aemw/amarna/P270871 as HTML/aemw_amarna_P270871.html\n",
      "retrieving http://oracc.org/aemw/amarna/P270972/html\n"
     ]
    },
    {
     "name": "stderr",
     "output_type": "stream",
     "text": [
      "\r",
      "100%|██████████| 378/378 [04:00<00:00,  2.87it/s]"
     ]
    },
    {
     "name": "stdout",
     "output_type": "stream",
     "text": [
      "saving http://oracc.org/aemw/amarna/P270972 as HTML/aemw_amarna_P270972.html\n"
     ]
    },
    {
     "name": "stderr",
     "output_type": "stream",
     "text": [
      "\n"
     ]
    }
   ],
   "source": [
    "if not os.path.exists('HTML'):\n",
    "    os.mkdir('HTML')\n",
    "for eachtextid in tqdm(textlist):\n",
    "    time.sleep(.01)\n",
    "    eachtextid = eachtextid.rstrip()\n",
    "    url = 'http://oracc.org/' + eachtextid + '/html'\n",
    "    print('retrieving ' + url)\n",
    "    with urllib.request.urlopen(url) as currentFile:\n",
    "        f = currentFile.read()\n",
    "        # if file has content, save\n",
    "        #identify P, Q, or X number and check that it appears in the file\n",
    "    textid = eachtextid[-7:]\n",
    "    if textid in str(f):\n",
    "        # replace / by _ in eachtextid in output filename\n",
    "        filename = 'HTML/' + eachtextid.replace('/', '_') + '.html'\n",
    "        print('saving ' + 'http://oracc.org/' + eachtextid + ' as ' + filename)\n",
    "        with open(filename, mode='wb') as writeFile:\n",
    "            writeFile.write(f)\n",
    "    else:\n",
    "        print(eachtextid + ' not available')\n"
   ]
  },
  {
   "cell_type": "code",
   "execution_count": null,
   "metadata": {
    "collapsed": true
   },
   "outputs": [],
   "source": []
  }
 ],
 "metadata": {
  "kernelspec": {
   "display_name": "Python 3",
   "language": "python",
   "name": "python3"
  },
  "language_info": {
   "codemirror_mode": {
    "name": "ipython",
    "version": 3
   },
   "file_extension": ".py",
   "mimetype": "text/x-python",
   "name": "python",
   "nbconvert_exporter": "python",
   "pygments_lexer": "ipython3",
   "version": "3.5.1"
  }
 },
 "nbformat": 4,
 "nbformat_minor": 0
}
