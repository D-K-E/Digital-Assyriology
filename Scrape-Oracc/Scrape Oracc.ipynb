{
 "cells": [
  {
   "cell_type": "markdown",
   "metadata": {},
   "source": [
    "# TODO\n",
    "The scraper output needs a field 'version' to make it compatible with ETCSL output. This field may be used for pseudo-composites such as [dcclt/Q000043](http://oracc.org/dcclt/Q000043) to indicate the designation of the tablet from which the text is taken."
   ]
  },
  {
   "cell_type": "markdown",
   "metadata": {},
   "source": [
    "# ORACC Scraper\n",
    "\n",
    "Generalized scraper for [ORACC](html://oracc.org) files. The scraper needs an input file, that lists the P, Q, or X numbers to be scraped. It will create an output file for each of these P, Q, or X numbers with line numbers and lemmatized words."
   ]
  },
  {
   "cell_type": "markdown",
   "metadata": {},
   "source": [
    "## Set up the environment\n",
    "Import the packages:\n",
    "- re Regular Expressions (for string manipulation)\n",
    "- BeautifulSoup (for parsing HTML pages)\n",
    "- tqdm for progress bar\n",
    "This scraper is written for Python3."
   ]
  },
  {
   "cell_type": "code",
   "execution_count": 1,
   "metadata": {
    "collapsed": false
   },
   "outputs": [
    {
     "name": "stdout",
     "output_type": "stream",
     "text": [
      "Running under Python version: (3, 5, 1)\n"
     ]
    }
   ],
   "source": [
    "#!/usr/bin/env python\n",
    "# -*- coding: utf-8 -*-\n",
    "#! pip install tqdm\n",
    "from __future__ import print_function\n",
    "from bs4 import BeautifulSoup\n",
    "import re\n",
    "import sys\n",
    "import os\n",
    "from time import sleep\n",
    "from tqdm import *\n",
    "\n",
    "#this program should use python unit test\n",
    "PY3 = sys.version_info.major == 3\n",
    "\n",
    "if not PY3:\n",
    "    input = raw_input\n",
    "\n",
    "print(\"Running under Python version:\", sys.version_info[:3])"
   ]
  },
  {
   "cell_type": "markdown",
   "metadata": {},
   "source": [
    "Initialize output variables."
   ]
  },
  {
   "cell_type": "code",
   "execution_count": 2,
   "metadata": {
    "collapsed": true
   },
   "outputs": [],
   "source": [
    "textiderror = 'Not available:\\n'"
   ]
  },
  {
   "cell_type": "markdown",
   "metadata": {},
   "source": [
    "# Input File\n",
    "\n",
    "The input file should be located in a directory called /Input, which must be located in the directory in which this Python Notebook is found. The file should have a .txt extension and must be created with a flat text editor such as TextEdit, Notepad, or Emacs. The file contains a simple list of P, Q, or X numbers, preceded by the ORACC abbreviation where the file is edited. For instance:\n",
    "\n",
    "    rinap/rinap1/Q003421\n",
    "    dcclt/Q000039\n",
    "    cams/gkab/P348623\n",
    "\n",
    "Before running this scraper, use the same input file to download the text material (in html format) with the ORACC Downloader to the /Data directory."
   ]
  },
  {
   "cell_type": "code",
   "execution_count": 3,
   "metadata": {
    "collapsed": false
   },
   "outputs": [
    {
     "name": "stdout",
     "output_type": "stream",
     "text": [
      "Name of Input List: amarna.txt\n"
     ]
    }
   ],
   "source": [
    "inputfile = input(\"Name of Input List: \")"
   ]
  },
  {
   "cell_type": "markdown",
   "metadata": {},
   "source": [
    "# Format Output\n",
    "\n",
    "The function outputformat() defines what the output of the lemmatized forms will look like. This function may be adapted in various ways to produce different types of output. The function takes a dictionary as input with the following keys: \n",
    "\n",
    "- 1     lang: Language\n",
    "- 2     translit: Transliteration\n",
    "- 3     citform: Citation Form\n",
    "- 4     guideword: Guide Word\n",
    "- 5     sense: Sense\n",
    "- 6     pos: Part of Speech\n",
    "- 7     epos: Effective Part of Speech\n",
    "- 8     norm: Normalization\n",
    "- 9     base: Base (Sumerian only)\n",
    "- 10    morph: Morphology (Sumerian only)\n",
    "\n",
    "In the standard format the output will look like: sux:lugal[king]N. One may adapt the output, for instance, by omitting the element lang (lugal[king]N) or to select for certain parts of speech, or for certain language codes. For instance:\n",
    "```python\n",
    "    if output['pos'] == 'N':\n",
    "        output_formatted = output['citform'] + \"\\t\" + output['guideword']\n",
    "```\n",
    "This will create output in the form lugal   king (lugal and king seperated by TAB), selecting only Nouns (excluding Proper Nouns).\n",
    "\n",
    "```python\n",
    "    if output['lang'] == 'sux-x-emesal':\n",
    "        output_formatted = output['citform'] + \"[\" + output['guideword'] + \"]\" + output['pos']\n",
    "```\n",
    "This will create output in the form umun[lord]N, selecting only Emesal words.\n",
    "In order to select both Sumerian (sux) and Emesal (sux-x-emesal) forms one could use:\n",
    "```python\n",
    "    if output['lang'][0:3] == 'sux':\n",
    "```\n"
   ]
  },
  {
   "cell_type": "code",
   "execution_count": 4,
   "metadata": {
    "collapsed": true
   },
   "outputs": [],
   "source": [
    "def outputformat(output):\n",
    "    #output_formatted = ''\n",
    "    PN = ('AN', 'CN', 'DN', 'EN', 'FN', 'GN', 'LN', 'MN', 'ON', 'PN', 'QN', 'RN', 'SN', 'TN', 'WN', 'YN')\n",
    "    if output['pos'] in PN:\n",
    "        output_formatted = output['citform'] + \"[\" + output['guideword'] + \"]\" + output['pos']\n",
    "    else:\n",
    "        return None\n",
    "    return output_formatted"
   ]
  },
  {
   "cell_type": "markdown",
   "metadata": {
    "collapsed": true
   },
   "source": [
    "def outputformat(output):\n",
    "    #output_formatted = ''\n",
    "    if output['pos'] in PN:\n",
    "        output_formatted = output['lang'] + \":\" + output['citform'] + \"[\" + output['guideword'] + \"]\" + output['pos']\n",
    "    else:\n",
    "        return None\n",
    "    return output_formatted"
   ]
  },
  {
   "cell_type": "markdown",
   "metadata": {},
   "source": [
    "# Parse an ORACC lemma\n",
    "\n",
    "The function `parselemma()` parses a so-called ORACC 'signature.' It is called by the `getline()` function where these signatures are extracted from the html files. A signature, as extracted by the `getline()` function, looks as follows:\n",
    "\n",
    "> javascript:pop1sig('dcclt','','@dcclt%sux:am-si=amsi[elephant//elephant]N´N$amsi/am-si#~').\n",
    "\n",
    "Akkadian signatures look slightly different, lacking the last two elements (after the /). The `parselemma()` function removes all the superfluous elements and breaks the string up into its parts. It returns a dictionary that lists all of these parts. The function `getline()` forwards this dictionary to the function `formatoutput()`, which uses its keys and values to build a usable data structure and/or to filter the data."
   ]
  },
  {
   "cell_type": "code",
   "execution_count": 5,
   "metadata": {
    "collapsed": true
   },
   "outputs": [],
   "source": [
    "def parselemma(signature):\n",
    "    output = {}\n",
    "    signature = signature.replace(' ', '-')\n",
    "    signature = signature.replace(',', ';') #remove spaces and commas from GuideWord and Sense\n",
    "    oracc_words = re.sub(\"'\\)$\", \"\", signature) #remove ') from the end of the signature\n",
    "    oracc_words = re.sub('^.*%', '', oracc_words) #remove everything before % in the signature\n",
    "\n",
    "    \n",
    "    sep_char = [\":\", \"=\", \"$\", \"#\", \"[\", \"]\", \"//\"] # these are the character sequences that separate\n",
    "                                                    # the various elements of the signature\n",
    "    for eachchar in sep_char:\n",
    "        oracc_words = oracc_words.replace(eachchar, \" \", 1) # ':' may appear in guideword/sense, so replace only once\n",
    "    oracc_words_l = oracc_words.split() #split signature into a list\n",
    "    output['lang'] = oracc_words_l[0]\n",
    "    output['translit'] = oracc_words_l[1]\n",
    "    output['citform'] = oracc_words_l[2]\n",
    "    output['guideword'] = oracc_words_l[3]\n",
    "    output['sense'] = oracc_words_l[4]\n",
    "\n",
    "    oracc_words_l[5] = oracc_words_l[5].replace(\"´\", \" \") # this separates pos from epos\n",
    "    oracc_words_l[5] = oracc_words_l[5].split() #split into sub-list\n",
    "    output['pos'] = oracc_words_l[5][0]\n",
    "    output['epos'] = oracc_words_l[5][1]\n",
    "    \n",
    "    if output['lang'][0:2] == 'sux': # Sumerian or Emesal signature\n",
    "        oracc_words_l[6] = oracc_words_l[6].replace(\"/\", \" \") # this separates norm from base in sux\n",
    "        oracc_words_l[6] = oracc_words_l[6].split() #split into sub-list\n",
    "        output['norm'] = oracc_words_l[6][0]\n",
    "        output['base'] = oracc_words_l[6][1]\n",
    "        output['morph'] = oracc_words_l[7]\n",
    "    \n",
    "    else:\n",
    "        output['norm'] = oracc_words_l[6]\n",
    "    \n",
    "    return output"
   ]
  },
  {
   "cell_type": "markdown",
   "metadata": {},
   "source": [
    "## Compound Orthographic Forms\n",
    "\n",
    "Compound Orthographic Forms are combinations of two or more words that are written with a single graphemic complex. Examples are *im-ma-ti* for *ina mati* (when?) or {lu₂}EN.NAM for *bēl pīhati* (governor). In ORACC HTML, the words in a COF are combined in a single signature, separated by '&&':\n",
    "\n",
    "> javascript:pop1sig('saao/saa10','','@saao/saa10%akk-x-neoass:im-ma-ti=ina[in//in]PRP´PRP\\$ina&&@saao/saa10%akk-x-neoass:=mati[when?//when?]QP´QP\\$mati')\n",
    "\n",
    "The function `cof()` is called, when necessary, by `getline()`. It splits the signature at the '&&' separator and returns a list of signatures. The transliteration (in this case *im-ma-ti*), which is included only in the first signature, is isolated and assigned to the variable `translit`. This transliteration is inserted in the remaining signatures at the proper place.\n",
    "\n",
    "Occasionally, in some COF signatures, the second and further words do not have their own normalization (introduced by $) - this is, presumably, an irregularity in ORACC. If this is the case, normalization is supplied by assuming that it is equal to the citation form in the function `supplynorm()`.\n"
   ]
  },
  {
   "cell_type": "code",
   "execution_count": 6,
   "metadata": {
    "collapsed": false
   },
   "outputs": [],
   "source": [
    "def cof(signature):\n",
    "    signature = signature.replace(\"javascript:pop1sig('\", \"\")\n",
    "    signature = signature.replace(\"')\", \"\")\n",
    "    translit = re.search(':(.*?)=', signature).group(1) #TODO replace the expression with positive look back\n",
    "                                                        # and positive look ahead expression\n",
    "    cofsignatures = signature.split('&&@')\n",
    "    cofsignatures = [cofsignature.replace(':=', ':' + translit + '=') for cofsignature in cofsignatures]\n",
    "\n",
    "    def supplynorm(cofsignature):\n",
    "        if not '$' in cofsignature:\n",
    "            citform = re.search('=(.*?)\\[', cofsignature).group(1)\n",
    "            cofsignature = cofsignature + '$' + citform\n",
    "        return cofsignature\n",
    "    \n",
    "    cofsignatures = [supplynorm(cofsignature) for cofsignature in cofsignatures]\n",
    "        \n",
    "    return cofsignatures"
   ]
  },
  {
   "cell_type": "markdown",
   "metadata": {},
   "source": [
    "# Process a Line\n",
    "\n",
    "The function `getline()` receives a line with metadata from the function `scrape()`. It returns a single variable (`line`) that contains the lines metadata and the formatted lemmata in a single string. \n",
    "\n",
    "The function needs two arguments. The first, `line_label`, includes all the metadata of the line: `id_text`, `text_name`, and `l_no` in a single string (separated by commas). The second argument, `line`, is a `BeautifulSoup` object that holds the HTML representation of a single line.\n",
    "\n",
    "Each line contains a series of words, represented as `signatures` in ORACC HTML. The function collects the signatures in the list `lemmas` and iterates over these. If a signature represents a Compound Orthographic Form (a combination of multiple lemmas, separated by '&&') it is sent to the function `cof()` in order to split the signature in its component forms.\n",
    "\n",
    "Each signature is sent to `parselemma()`, where it is analyzed. The function `parselemma()` returns a dictionary (`output`) that contains all the elements of the signature (transliteration, citation form, guide word, etc.). This dictionary is sent to the function `outputformat()` which returns a string, combining elements of the signature in the desired format (the default is language:citform[GuideWord]POS, as in sux:lugal[king]N). This string is added to the list `wordsinline`. Finally, once all lemmas (signatures) have been processed, the function builds a single string out of the `line_label` (metadata) and the formatted lemmas in `wordsinline`. This string is returned in the variable `line`."
   ]
  },
  {
   "cell_type": "code",
   "execution_count": 7,
   "metadata": {
    "collapsed": false
   },
   "outputs": [],
   "source": [
    "def getline(line_label, line):\n",
    "    wordsinline = [] #initialize list for the words in this line\n",
    "    lemmas = line.findAll('a', {'class':'cbd'}, href=True)\n",
    "    for eachlemma in lemmas:\n",
    "        signature = eachlemma['href']\n",
    "        if '&&@' in signature:  #Compound Orthographic Form, which results in multiple lemmas\n",
    "            cofsignatures = cof(signature)\n",
    "            for cofsignature in cofsignatures:\n",
    "                output = parselemma(cofsignature)\n",
    "                output_formatted = outputformat(output)\n",
    "                if not output_formatted == None:\n",
    "                    wordsinline.append(output_formatted)\n",
    "        else:\n",
    "            output = parselemma(signature)\n",
    "            output_formatted = outputformat(output)\n",
    "            if not output_formatted == None:\n",
    "                wordsinline.append(output_formatted)\n",
    "    line = line_label + ' '.join(wordsinline)\n",
    "    return line"
   ]
  },
  {
   "cell_type": "markdown",
   "metadata": {},
   "source": [
    "# Scrape a Single Text\n",
    "\n",
    "The function `scrape()` takes a single text file and uses the `BeautifulSoup` package to analyze the HTML and return the data in a csv (Comma Separated Values) format. The function is called by the main process.\n",
    "\n",
    "The function `scrape()` first identifies the name (or designation) of the text - if it cannot find the name, the text is not further processed and an error message is returned.\n",
    "\n",
    "The function then identifies a line and sends this line to the function `getline()` for further processing. The line number is a string that belongs to the attribute `class = 'xlabel'`. Text name, text id and line number are combined into a single string as `line_label` - which is sent to `getline()` as its first argument (the second is the line itself).\n",
    "\n",
    "If there is no `class = 'xlabel'` attribute, this means that the line belongs with the previous line as a single unit. This happens in interlinear bilinguals and, occasionally, in the representation of explanatory glosses (see, e.g. SAA 10, 044). In such cases the variable `line` from the previous iteration (which is a single string, concatenating `line_label` and the formatted lemmas) is sent, in its entirety, as the first argument to `getline()` so that the new lemma or lemmas will be added to the end of it.\n",
    "\n",
    "Finally all lines are assembled in the variable `csvformat`, which is returned to the main process."
   ]
  },
  {
   "cell_type": "code",
   "execution_count": 8,
   "metadata": {
    "collapsed": false
   },
   "outputs": [],
   "source": [
    "def scrape(text_id):\n",
    "    print('Parsing ' + text_id)\n",
    "    line = ''\n",
    "    csvformat ='id_text,text_name,l_no,text\\n' #initialize output variable\n",
    "    with open('HTML/' + text_id.replace('/', '_') + '.html') as f:\n",
    "        raw_html = f.read()\n",
    "    soup = BeautifulSoup(raw_html, \"html.parser\")\n",
    "    name = soup.find('h1', {'class':'p3h2'}).string\n",
    "    #if there is no text name, there are errors in atf and page was not built correctly\n",
    "    if name == None:\n",
    "        print(eachtextid + \" is not built correctly.\")\n",
    "    else:\n",
    "        #if name includes comma, replace comma with nothing\n",
    "        name = name.replace(',','')\n",
    "        print(eachtextid + \":\" + name)\n",
    "        lines = soup.findAll('tr', {'class':'l'})\n",
    "        for index, eachline in enumerate(lines):\n",
    "            if eachline.find('a', {'class':'cbd'}, href=True) == None: # if the line has no words\n",
    "                continue                                               # go to next line\n",
    "            if eachline.find('span', {'class': 'xlabel'}) != None:\n",
    "                l_no = eachline.find('span', {'class': 'xlabel'}).string.replace(',', ';')\n",
    "                line_label = text_id + ',' + name + ',' + l_no + ','\n",
    "                line = getline(line_label, eachline)\n",
    "                try:\n",
    "                    nextline = lines[index + 1]\n",
    "                    if nextline.find('span', {'class': 'xlabel'}) == None: #if next line has no line number\n",
    "                        if nextline.find('a', {'class':'cbd'}, href=True) == None: #ignore if there are no lemmatized words\n",
    "                            continue                                               # in next line\n",
    "                        else:\n",
    "                            line_label = line + ' '                         # otherwise join output with previous line\n",
    "                            line = getline(line_label, nextline)\n",
    "                except:\n",
    "                    continue\n",
    "            else:\n",
    "                continue\n",
    "            csvformat = csvformat + line + '\\n'\n",
    "    return csvformat\n",
    "        "
   ]
  },
  {
   "cell_type": "markdown",
   "metadata": {},
   "source": [
    "# Main Process\n",
    "\n",
    "The main process opens the list of text IDs (in the directory `Input`) to be processed and iterates over that list. The process calls the function `scrape()` which, in turn, calls the other functions defined above.\n",
    "\n",
    "The function creates a separate file for each of the scraped documents in the directory Output. A list of texts that could not be scraped is saved in the directory Error."
   ]
  },
  {
   "cell_type": "code",
   "execution_count": 9,
   "metadata": {
    "collapsed": false
   },
   "outputs": [
    {
     "name": "stderr",
     "output_type": "stream",
     "text": [
      "\r",
      "  0%|          | 0/378 [00:00<?, ?it/s]"
     ]
    },
    {
     "name": "stdout",
     "output_type": "stream",
     "text": [
      "Parsing aemw/amarna/P270887\n"
     ]
    },
    {
     "name": "stderr",
     "output_type": "stream",
     "text": [
      "\r",
      "  0%|          | 1/378 [00:00<02:54,  2.16it/s]"
     ]
    },
    {
     "name": "stdout",
     "output_type": "stream",
     "text": [
      "aemw/amarna/P270887:EA 001. The Pharaoh complains to the Babylonian king [royal letter]\n",
      "Saving Output/aemw_amarna_P270887.txt\n",
      "\n",
      "Parsing aemw/amarna/P271034\n",
      "aemw/amarna/P271034:EA 002. Proposals of marriage [royal letter]\n",
      "Saving Output/aemw_amarna_P271034.txt\n",
      "\n"
     ]
    },
    {
     "name": "stderr",
     "output_type": "stream",
     "text": [
      "\r",
      "  1%|          | 3/378 [00:00<02:11,  2.85it/s]"
     ]
    },
    {
     "name": "stdout",
     "output_type": "stream",
     "text": [
      "Parsing aemw/amarna/P270975\n",
      "aemw/amarna/P270975:EA 003. Marriage grumblings a palace-opening [royal letter]\n",
      "Saving Output/aemw_amarna_P270975.txt\n",
      "\n",
      "Parsing aemw/amarna/P271101\n"
     ]
    },
    {
     "name": "stderr",
     "output_type": "stream",
     "text": [
      "  1%|▏         | 5/378 [00:00<01:32,  4.03it/s]"
     ]
    },
    {
     "name": "stdout",
     "output_type": "stream",
     "text": [
      "aemw/amarna/P271101:EA 004. Royal deceit and threats [royal letter]\n",
      "Saving Output/aemw_amarna_P271101.txt\n",
      "\n",
      "Parsing aemw/amarna/P270890\n",
      "aemw/amarna/P270890:EA 005. Gifts of Egyptian furniture for the Babylonian palace [royal letter]\n",
      "Saving Output/aemw_amarna_P270890.txt\n",
      "\n",
      "Parsing aemw/amarna/P271035\n",
      "aemw/amarna/P271035:EA 006. An offer of friendship [royal letter]\n"
     ]
    },
    {
     "name": "stderr",
     "output_type": "stream",
     "text": [
      "\r",
      "  2%|▏         | 7/378 [00:01<01:17,  4.77it/s]"
     ]
    },
    {
     "name": "stdout",
     "output_type": "stream",
     "text": [
      "Saving Output/aemw_amarna_P271035.txt\n",
      "\n",
      "Parsing aemw/amarna/P271036\n",
      "aemw/amarna/P271036:EA 007. A lesson in geography [royal letter]\n",
      "Saving Output/aemw_amarna_P271036.txt\n",
      "\n"
     ]
    },
    {
     "name": "stderr",
     "output_type": "stream",
     "text": [
      "\r",
      "  2%|▏         | 8/378 [00:01<01:08,  5.43it/s]"
     ]
    },
    {
     "name": "stdout",
     "output_type": "stream",
     "text": [
      "Parsing aemw/amarna/P271038\n",
      "aemw/amarna/P271038:EA 008. Merchants murdered vengeance demanded [royal letter]\n",
      "Saving Output/aemw_amarna_P271038.txt\n",
      "\n",
      "Parsing aemw/amarna/P270888\n"
     ]
    },
    {
     "name": "stderr",
     "output_type": "stream",
     "text": [
      "  3%|▎         | 10/378 [00:01<00:59,  6.17it/s]"
     ]
    },
    {
     "name": "stdout",
     "output_type": "stream",
     "text": [
      "aemw/amarna/P270888:EA 009. Ancient loyalties new requests [royal letter]\n",
      "Saving Output/aemw_amarna_P270888.txt\n",
      "\n",
      "Parsing aemw/amarna/P270889\n",
      "aemw/amarna/P270889:EA 010. Egyptian gold and carpenters [royal letter]\n",
      "Saving Output/aemw_amarna_P270889.txt\n",
      "\n",
      "Parsing aemw/amarna/P271037\n"
     ]
    },
    {
     "name": "stderr",
     "output_type": "stream",
     "text": [
      "\r",
      "  3%|▎         | 11/378 [00:01<01:05,  5.64it/s]"
     ]
    },
    {
     "name": "stdout",
     "output_type": "stream",
     "text": [
      "aemw/amarna/P271037:EA 011. Proper escort for a betrothed princess [royal letter]\n",
      "Saving Output/aemw_amarna_P271037.txt\n",
      "\n",
      "Parsing aemw/amarna/P271061\n",
      "aemw/amarna/P271061:EA 012. A letter from a princess [royal letter]\n",
      "Saving Output/aemw_amarna_P271061.txt\n",
      "\n",
      "Parsing aemw/amarna/P271153\n"
     ]
    },
    {
     "name": "stderr",
     "output_type": "stream",
     "text": [
      "\r",
      "  3%|▎         | 13/378 [00:02<01:00,  6.00it/s]"
     ]
    },
    {
     "name": "stdout",
     "output_type": "stream",
     "text": [
      "aemw/amarna/P271153:EA 013. Inventory of a dowry [dowry list]\n",
      "Saving Output/aemw_amarna_P271153.txt\n",
      "\n",
      "Parsing aemw/amarna/P271097\n",
      "aemw/amarna/P271097:EA 014. Inventory of Egyptian gifts [gift list]\n"
     ]
    },
    {
     "name": "stderr",
     "output_type": "stream",
     "text": [
      "\r",
      "  4%|▎         | 14/378 [00:03<02:25,  2.50it/s]"
     ]
    },
    {
     "name": "stdout",
     "output_type": "stream",
     "text": [
      "Saving Output/aemw_amarna_P271097.txt\n",
      "\n",
      "Parsing aemw/amarna/P271024\n",
      "aemw/amarna/P271024:EA 015. Assyria joins the international scene [royal letter]\n",
      "Saving Output/aemw_amarna_P271024.txt\n",
      "\n",
      "Parsing aemw/amarna/P270976\n"
     ]
    },
    {
     "name": "stderr",
     "output_type": "stream",
     "text": [
      "\r",
      "  4%|▍         | 16/378 [00:03<01:59,  3.03it/s]"
     ]
    },
    {
     "name": "stdout",
     "output_type": "stream",
     "text": [
      "aemw/amarna/P270976:EA 016. The profit motive [royal letter]\n",
      "Saving Output/aemw_amarna_P270976.txt\n",
      "\n",
      "Parsing aemw/amarna/P270895\n",
      "aemw/amarna/P270895:EA 017. A Mittani bid for a renewed alliance [royal letter]\n"
     ]
    },
    {
     "name": "stderr",
     "output_type": "stream",
     "text": [
      "\r",
      "  4%|▍         | 17/378 [00:03<01:38,  3.68it/s]"
     ]
    },
    {
     "name": "stdout",
     "output_type": "stream",
     "text": [
      "Saving Output/aemw_amarna_P270895.txt\n",
      "\n",
      "Parsing aemw/amarna/P271171\n",
      "aemw/amarna/P271171:EA 018. A lost message\n",
      "Saving Output/aemw_amarna_P271171.txt\n",
      "\n",
      "Parsing aemw/amarna/P270894\n"
     ]
    },
    {
     "name": "stderr",
     "output_type": "stream",
     "text": [
      "\r",
      "  5%|▌         | 19/378 [00:03<01:28,  4.07it/s]"
     ]
    },
    {
     "name": "stdout",
     "output_type": "stream",
     "text": [
      "aemw/amarna/P270894:EA 019. Love and gold [royal letter]\n",
      "Saving Output/aemw_amarna_P270894.txt\n",
      "\n",
      "Parsing aemw/amarna/P271179\n"
     ]
    },
    {
     "name": "stderr",
     "output_type": "stream",
     "text": [
      "\r",
      "  5%|▌         | 20/378 [00:04<01:29,  4.00it/s]"
     ]
    },
    {
     "name": "stdout",
     "output_type": "stream",
     "text": [
      "aemw/amarna/P271179:EA 020. Humiliation and wounded feelings [royal letter]\n",
      "Saving Output/aemw_amarna_P271179.txt\n",
      "\n",
      "Parsing aemw/amarna/P271178\n",
      "aemw/amarna/P271178:EA 021. A necklace for 100000 years [royal letter]\n",
      "Saving Output/aemw_amarna_P271178.txt\n",
      "\n",
      "Parsing aemw/amarna/P271213\n"
     ]
    },
    {
     "name": "stderr",
     "output_type": "stream",
     "text": [
      "\r",
      "  6%|▌         | 22/378 [00:04<01:38,  3.61it/s]"
     ]
    },
    {
     "name": "stdout",
     "output_type": "stream",
     "text": [
      "aemw/amarna/P271213:EA 022. Inventory of gifts from Tušratta [gift list]\n",
      "Saving Output/aemw_amarna_P271213.txt\n",
      "\n",
      "Parsing aemw/amarna/P270896\n",
      "aemw/amarna/P270896:EA 023. A goddess travels to Egypt [royal letter]\n",
      "Saving Output/aemw_amarna_P270896.txt\n",
      "\n",
      "Parsing aemw/amarna/P271214\n",
      "aemw/amarna/P271214:EA 024. A letter in Hurrian about marriage and friendship [royal letter]\n",
      "Saving Output/aemw_amarna_P271214.txt\n",
      "\n",
      "Parsing aemw/amarna/P271202\n",
      "aemw/amarna/P271202:EA 025. Inventory of gifts from Tušratta [gift list]\n",
      "Saving Output/aemw_amarna_P271202.txt\n",
      "\n"
     ]
    },
    {
     "name": "stderr",
     "output_type": "stream",
     "text": [
      "\r",
      "  7%|▋         | 25/378 [00:05<01:41,  3.48it/s]"
     ]
    },
    {
     "name": "stdout",
     "output_type": "stream",
     "text": [
      "Parsing aemw/amarna/P270897\n",
      "aemw/amarna/P270897:EA 026. To the Queen Mother: some missing gold statues [royal letter]\n"
     ]
    },
    {
     "name": "stderr",
     "output_type": "stream",
     "text": [
      "\r",
      "  7%|▋         | 26/378 [00:05<01:36,  3.65it/s]"
     ]
    },
    {
     "name": "stdout",
     "output_type": "stream",
     "text": [
      "Saving Output/aemw_amarna_P270897.txt\n",
      "\n",
      "Parsing aemw/amarna/P271181\n"
     ]
    },
    {
     "name": "stderr",
     "output_type": "stream",
     "text": [
      "\r",
      "  7%|▋         | 27/378 [00:06<01:56,  3.00it/s]"
     ]
    },
    {
     "name": "stdout",
     "output_type": "stream",
     "text": [
      "aemw/amarna/P271181:EA 027. The missing gold statues again [royal letter]\n",
      "Saving Output/aemw_amarna_P271181.txt\n",
      "\n",
      "Parsing aemw/amarna/P270967\n",
      "aemw/amarna/P270967:EA 028. Messengers detained and a protest [royal letter]\n",
      "Saving Output/aemw_amarna_P270967.txt\n",
      "\n"
     ]
    },
    {
     "name": "stderr",
     "output_type": "stream",
     "text": [
      "\r",
      "  7%|▋         | 28/378 [00:06<01:33,  3.74it/s]"
     ]
    },
    {
     "name": "stdout",
     "output_type": "stream",
     "text": [
      "Parsing aemw/amarna/P271184\n",
      "aemw/amarna/P271184:EA 029. A long view of Mittanian-Egyptian relations [royal letter]\n"
     ]
    },
    {
     "name": "stderr",
     "output_type": "stream",
     "text": [
      "  8%|▊         | 31/378 [00:07<01:59,  2.90it/s]"
     ]
    },
    {
     "name": "stdout",
     "output_type": "stream",
     "text": [
      "Saving Output/aemw_amarna_P271184.txt\n",
      "\n",
      "Parsing aemw/amarna/P270943\n",
      "aemw/amarna/P270943:EA 030. A passport [royal letter order]\n",
      "Saving Output/aemw_amarna_P270943.txt\n",
      "\n",
      "Parsing aemw/amarna/P270973\n",
      "aemw/amarna/P270973:EA 031. Marriage negotiations in Hittite [royal letter]\n",
      "Saving Output/aemw_amarna_P270973.txt\n",
      "\n",
      "Parsing aemw/amarna/P271204\n",
      "aemw/amarna/P271204:EA 032. Reply to EA 31 [royal letter]\n",
      "Saving Output/aemw_amarna_P271204.txt\n",
      "\n"
     ]
    },
    {
     "name": "stderr",
     "output_type": "stream",
     "text": [
      "\r",
      "  9%|▊         | 33/378 [00:07<01:31,  3.77it/s]"
     ]
    },
    {
     "name": "stdout",
     "output_type": "stream",
     "text": [
      "Parsing aemw/amarna/P271098\n",
      "aemw/amarna/P271098:EA 033. An alliance in the making [royal letter]\n",
      "Saving Output/aemw_amarna_P271098.txt\n",
      "\n",
      "Parsing aemw/amarna/P270892\n"
     ]
    },
    {
     "name": "stderr",
     "output_type": "stream",
     "text": [
      "\r",
      "  9%|▉         | 34/378 [00:08<01:28,  3.89it/s]"
     ]
    },
    {
     "name": "stdout",
     "output_type": "stream",
     "text": [
      "aemw/amarna/P270892:EA 034. The Pharaoh’s reproach answered [royal letter]\n",
      "Saving Output/aemw_amarna_P270892.txt\n",
      "\n",
      "Parsing aemw/amarna/P270891\n"
     ]
    },
    {
     "name": "stderr",
     "output_type": "stream",
     "text": [
      "\r",
      "  9%|▉         | 35/378 [00:08<01:27,  3.92it/s]"
     ]
    },
    {
     "name": "stdout",
     "output_type": "stream",
     "text": [
      "aemw/amarna/P270891:EA 035. The hand of Nergal [royal letter]\n",
      "Saving Output/aemw_amarna_P270891.txt\n",
      "\n",
      "Parsing aemw/amarna/P270980\n",
      "aemw/amarna/P270980:EA 036. More about copper [royal letter]\n",
      "Saving Output/aemw_amarna_P270980.txt\n",
      "\n",
      "Parsing aemw/amarna/P270893\n",
      "aemw/amarna/P270893:EA 037. More about silver [royal letter]\n"
     ]
    },
    {
     "name": "stderr",
     "output_type": "stream",
     "text": [
      " 10%|█         | 38/378 [00:08<01:01,  5.55it/s]"
     ]
    },
    {
     "name": "stdout",
     "output_type": "stream",
     "text": [
      "Saving Output/aemw_amarna_P270893.txt\n",
      "\n",
      "Parsing aemw/amarna/P271039\n",
      "aemw/amarna/P271039:EA 038. A brotherly quarrel [royal letter]\n",
      "Saving Output/aemw_amarna_P271039.txt\n",
      "\n",
      "Parsing aemw/amarna/P270978\n",
      "aemw/amarna/P270978:EA 039. Duty-free [royal letter]\n",
      "Saving Output/aemw_amarna_P270978.txt\n",
      "\n",
      "Parsing aemw/amarna/P270979\n"
     ]
    },
    {
     "name": "stderr",
     "output_type": "stream",
     "text": [
      " 11%|█         | 41/378 [00:08<00:48,  7.00it/s]"
     ]
    },
    {
     "name": "stdout",
     "output_type": "stream",
     "text": [
      "aemw/amarna/P270979:EA 040. Duty-free governor to governor [royal letter]\n",
      "Saving Output/aemw_amarna_P270979.txt\n",
      "\n",
      "Parsing aemw/amarna/P270977\n",
      "aemw/amarna/P270977:EA 041. Of Egyptian-Hittite relations [royal letter]\n",
      "Saving Output/aemw_amarna_P270977.txt\n",
      "\n",
      "Parsing aemw/amarna/P271099\n",
      "aemw/amarna/P271099:EA 042. A question of honor [royal letter]\n",
      "Saving Output/aemw_amarna_P271099.txt\n",
      "\n"
     ]
    },
    {
     "name": "stderr",
     "output_type": "stream",
     "text": [
      "\r",
      " 11%|█▏        | 43/378 [00:09<00:39,  8.48it/s]"
     ]
    },
    {
     "name": "stdout",
     "output_type": "stream",
     "text": [
      "Parsing aemw/amarna/P270878\n",
      "aemw/amarna/P270878:EA 043. Of malice and murder [royal letter]\n",
      "Saving Output/aemw_amarna_P270878.txt\n",
      "\n",
      "Parsing aemw/amarna/P271100\n",
      "aemw/amarna/P271100:EA 044. From a Hittite prince [royal letter]\n",
      "Saving Output/aemw_amarna_P271100.txt\n",
      "\n",
      "Parsing aemw/amarna/P271133\n"
     ]
    },
    {
     "name": "stderr",
     "output_type": "stream",
     "text": [
      "\r",
      " 12%|█▏        | 45/378 [00:09<00:38,  8.68it/s]"
     ]
    },
    {
     "name": "stdout",
     "output_type": "stream",
     "text": [
      "aemw/amarna/P271133:EA 045. Friendly Ugarit [vassal letter]\n",
      "Saving Output/aemw_amarna_P271133.txt\n",
      "\n",
      "Parsing aemw/amarna/P271135\n",
      "aemw/amarna/P271135:EA 046. Ongoing loyalty [vassal letter]\n",
      "Saving Output/aemw_amarna_P271135.txt\n",
      "\n"
     ]
    },
    {
     "name": "stderr",
     "output_type": "stream",
     "text": [
      " 13%|█▎        | 49/378 [00:09<00:32, 10.05it/s]"
     ]
    },
    {
     "name": "stdout",
     "output_type": "stream",
     "text": [
      "Parsing aemw/amarna/P271134\n",
      "aemw/amarna/P271134:EA 047. Loyalty rewarded [vassal letter]\n",
      "Saving Output/aemw_amarna_P271134.txt\n",
      "\n",
      "Parsing aemw/amarna/P271132\n",
      "aemw/amarna/P271132:EA 048. A jar of balsam for my lady [vassal letter]\n",
      "Saving Output/aemw_amarna_P271132.txt\n",
      "\n",
      "Parsing aemw/amarna/P271011\n",
      "aemw/amarna/P271011:EA 049. A request for a physician [vassal letter]\n",
      "Saving Output/aemw_amarna_P271011.txt\n",
      "\n"
     ]
    },
    {
     "name": "stderr",
     "output_type": "stream",
     "text": [
      "\r",
      " 13%|█▎        | 51/378 [00:09<00:30, 10.87it/s]"
     ]
    },
    {
     "name": "stdout",
     "output_type": "stream",
     "text": [
      "Parsing aemw/amarna/P271052\n",
      "aemw/amarna/P271052:EA 050. Maidservant to her mistress [vassal letter]\n",
      "Saving Output/aemw_amarna_P271052.txt\n",
      "\n",
      "Parsing aemw/amarna/P271215\n",
      "aemw/amarna/P271215:EA 051. Loyalty tempted and preserved [vassal letter]\n",
      "Saving Output/aemw_amarna_P271215.txt\n",
      "\n",
      "Parsing aemw/amarna/P270989\n",
      "aemw/amarna/P270989:EA 052. The loyalty of Qatna [vassal letter]\n",
      "Saving Output/aemw_amarna_P270989.txt\n",
      "\n",
      "Parsing aemw/amarna/P270922\n",
      "aemw/amarna/P270922:EA 053. Of the villain Aitukama [vassal letter]\n"
     ]
    },
    {
     "name": "stderr",
     "output_type": "stream",
     "text": [
      "\r",
      " 14%|█▍        | 53/378 [00:10<00:39,  8.19it/s]"
     ]
    },
    {
     "name": "stdout",
     "output_type": "stream",
     "text": [
      "Saving Output/aemw_amarna_P270922.txt\n",
      "\n",
      "Parsing aemw/amarna/P271164\n",
      "aemw/amarna/P271164:EA 054. More about Aitukama [vassal letter]\n",
      "Saving Output/aemw_amarna_P271164.txt\n",
      "\n",
      "Parsing aemw/amarna/P270921\n"
     ]
    },
    {
     "name": "stderr",
     "output_type": "stream",
     "text": [
      "\r",
      " 15%|█▍        | 55/378 [00:10<00:49,  6.50it/s]"
     ]
    },
    {
     "name": "stdout",
     "output_type": "stream",
     "text": [
      "aemw/amarna/P270921:EA 055. A plea for troops [vassal letter]\n",
      "Saving Output/aemw_amarna_P270921.txt\n",
      "\n",
      "Parsing aemw/amarna/P271150\n",
      "aemw/amarna/P271150:EA 056 + EA 361. A declaration of trust [vassal letter]\n"
     ]
    },
    {
     "name": "stderr",
     "output_type": "stream",
     "text": [
      " 15%|█▌        | 57/378 [00:10<00:47,  6.69it/s]"
     ]
    },
    {
     "name": "stdout",
     "output_type": "stream",
     "text": [
      "Saving Output/aemw_amarna_P271150.txt\n",
      "\n",
      "Parsing aemw/amarna/P271161\n",
      "aemw/amarna/P271161:EA 057. Of kings and Tunip [vassal letter]\n",
      "Saving Output/aemw_amarna_P271161.txt\n",
      "\n",
      "Parsing aemw/amarna/P271152\n",
      "aemw/amarna/P271152:EA 058. Of the king of Mittani [vassal letter]\n",
      "Saving Output/aemw_amarna_P271152.txt\n",
      "\n",
      "Parsing aemw/amarna/P270926\n"
     ]
    },
    {
     "name": "stderr",
     "output_type": "stream",
     "text": [
      " 16%|█▌        | 60/378 [00:11<00:42,  7.57it/s]"
     ]
    },
    {
     "name": "stdout",
     "output_type": "stream",
     "text": [
      "aemw/amarna/P270926:EA 059. From the citizens of Tunip [vassal letter]\n",
      "Saving Output/aemw_amarna_P270926.txt\n",
      "\n",
      "Parsing aemw/amarna/P271205\n",
      "aemw/amarna/P271205:EA 060. Loyal ʿAbdi-Aširta [vassal letter]\n",
      "Saving Output/aemw_amarna_P271205.txt\n",
      "\n",
      "Parsing aemw/amarna/P270883\n",
      "aemw/amarna/P270883:EA 061. A lost message [vassal letter]\n"
     ]
    },
    {
     "name": "stderr",
     "output_type": "stream",
     "text": [
      "\r",
      " 16%|█▋        | 62/378 [00:11<00:41,  7.64it/s]"
     ]
    },
    {
     "name": "stdout",
     "output_type": "stream",
     "text": [
      "Saving Output/aemw_amarna_P270883.txt\n",
      "\n",
      "Parsing aemw/amarna/P271123\n",
      "aemw/amarna/P271123:EA 062. ʿAbdi-Aširta to the rescue [vassal letter]\n",
      "Saving Output/aemw_amarna_P271123.txt\n",
      "\n",
      "Parsing aemw/amarna/P270919\n"
     ]
    },
    {
     "name": "stderr",
     "output_type": "stream",
     "text": [
      "\r",
      " 17%|█▋        | 64/378 [00:11<00:35,  8.87it/s]"
     ]
    },
    {
     "name": "stdout",
     "output_type": "stream",
     "text": [
      "aemw/amarna/P270919:EA 063. Orders obeyed [vassal letter]\n",
      "Saving Output/aemw_amarna_P270919.txt\n",
      "\n",
      "Parsing aemw/amarna/P270918\n",
      "aemw/amarna/P270918:EA 064. Women for the king [vassal letter]\n",
      "Saving Output/aemw_amarna_P270918.txt\n",
      "\n",
      "Parsing aemw/amarna/P271127\n",
      "aemw/amarna/P271127:EA 065. Preparations for Egyptian troops [vassal letter]\n",
      "Saving Output/aemw_amarna_P271127.txt\n",
      "\n",
      "Parsing aemw/amarna/P271142\n"
     ]
    },
    {
     "name": "stderr",
     "output_type": "stream",
     "text": [
      "\r",
      " 17%|█▋        | 66/378 [00:11<00:31, 10.04it/s]"
     ]
    },
    {
     "name": "stdout",
     "output_type": "stream",
     "text": [
      "aemw/amarna/P271142:EA 066. A lost message [vassal letter]\n",
      "Saving Output/aemw_amarna_P271142.txt\n",
      "\n",
      "Parsing aemw/amarna/P271049\n",
      "aemw/amarna/P271049:EA 067. A plea for a reckoning [vassal letter]\n",
      "Saving Output/aemw_amarna_P271049.txt\n",
      "\n",
      "Parsing aemw/amarna/P271031\n"
     ]
    },
    {
     "name": "stderr",
     "output_type": "stream",
     "text": [
      "\r",
      " 18%|█▊        | 68/378 [00:12<00:33,  9.25it/s]"
     ]
    },
    {
     "name": "stdout",
     "output_type": "stream",
     "text": [
      "aemw/amarna/P271031:EA 068. Byblos under attack [vassal letter]\n",
      "Saving Output/aemw_amarna_P271031.txt\n",
      "\n",
      "Parsing aemw/amarna/P270958\n",
      "aemw/amarna/P270958:EA 069. Report to an official [vassal letter]\n",
      "Saving Output/aemw_amarna_P270958.txt\n",
      "\n",
      "Parsing aemw/amarna/P271020\n",
      "aemw/amarna/P271020:EA 070. Request for Nubian troops [vassal letter]\n"
     ]
    },
    {
     "name": "stderr",
     "output_type": "stream",
     "text": [
      " 19%|█▉        | 72/378 [00:12<00:30, 10.06it/s]"
     ]
    },
    {
     "name": "stdout",
     "output_type": "stream",
     "text": [
      "Saving Output/aemw_amarna_P271020.txt\n",
      "\n",
      "Parsing aemw/amarna/P271079\n",
      "aemw/amarna/P271079:EA 071. To a wise man [vassal letter]\n",
      "Saving Output/aemw_amarna_P271079.txt\n",
      "\n",
      "Parsing aemw/amarna/P271148\n",
      "aemw/amarna/P271148:EA 072. Message lost [vassal letter]\n",
      "Saving Output/aemw_amarna_P271148.txt\n",
      "\n",
      "Parsing aemw/amarna/P270901\n",
      "aemw/amarna/P270901:EA 073. Of ambivalent Amurru [vassal letter]\n",
      "Saving Output/aemw_amarna_P270901.txt\n",
      "\n",
      "Parsing aemw/amarna/P270898\n"
     ]
    },
    {
     "name": "stderr",
     "output_type": "stream",
     "text": [
      "\r",
      " 20%|█▉        | 74/378 [00:12<00:39,  7.69it/s]"
     ]
    },
    {
     "name": "stdout",
     "output_type": "stream",
     "text": [
      "aemw/amarna/P270898:EA 074. Like a bird in a trap [vassal letter]\n",
      "Saving Output/aemw_amarna_P270898.txt\n",
      "\n",
      "Parsing aemw/amarna/P270987\n",
      "aemw/amarna/P270987:EA 075. Political chaos [vassal letter]\n"
     ]
    },
    {
     "name": "stderr",
     "output_type": "stream",
     "text": [
      " 20%|██        | 76/378 [00:13<00:43,  6.98it/s]"
     ]
    },
    {
     "name": "stdout",
     "output_type": "stream",
     "text": [
      "Saving Output/aemw_amarna_P270987.txt\n",
      "\n",
      "Parsing aemw/amarna/P271186\n",
      "aemw/amarna/P271186:EA 076. Of ambition and arrogance [vassal letter]\n",
      "Saving Output/aemw_amarna_P271186.txt\n",
      "\n",
      "Parsing aemw/amarna/P271082\n"
     ]
    },
    {
     "name": "stderr",
     "output_type": "stream",
     "text": [
      " 21%|██        | 78/378 [00:13<00:41,  7.32it/s]"
     ]
    },
    {
     "name": "stdout",
     "output_type": "stream",
     "text": [
      "aemw/amarna/P271082:EA 077. A rebellious peasantry [vassal letter]\n",
      "Saving Output/aemw_amarna_P271082.txt\n",
      "\n",
      "Parsing aemw/amarna/P271032\n",
      "aemw/amarna/P271032:EA 078. Request for a garrison [vassal letter]\n",
      "Saving Output/aemw_amarna_P271032.txt\n",
      "\n",
      "Parsing aemw/amarna/P271081\n"
     ]
    },
    {
     "name": "stderr",
     "output_type": "stream",
     "text": [
      "\r",
      " 21%|██        | 79/378 [00:13<00:41,  7.24it/s]"
     ]
    },
    {
     "name": "stdout",
     "output_type": "stream",
     "text": [
      "aemw/amarna/P271081:EA 079. At the brink [vassal letter]\n",
      "Saving Output/aemw_amarna_P271081.txt\n",
      "\n",
      "Parsing aemw/amarna/P271147\n",
      "aemw/amarna/P271147:EA 080. A lost message [vassal letter]\n",
      "Saving Output/aemw_amarna_P271147.txt\n",
      "\n",
      "Parsing aemw/amarna/P271033\n"
     ]
    },
    {
     "name": "stderr",
     "output_type": "stream",
     "text": [
      "\r",
      " 21%|██▏       | 81/378 [00:13<00:40,  7.41it/s]"
     ]
    },
    {
     "name": "stdout",
     "output_type": "stream",
     "text": [
      "aemw/amarna/P271033:EA 081. An attempted assassination [vassal letter]\n",
      "Saving Output/aemw_amarna_P271033.txt\n",
      "\n",
      "Parsing aemw/amarna/P270970\n",
      "aemw/amarna/P270970:EA 082. A threat to abandon Byblos [vassal letter]\n",
      "Saving Output/aemw_amarna_P270970.txt\n",
      "\n"
     ]
    },
    {
     "name": "stderr",
     "output_type": "stream",
     "text": [
      " 22%|██▏       | 83/378 [00:14<00:45,  6.44it/s]"
     ]
    },
    {
     "name": "stdout",
     "output_type": "stream",
     "text": [
      "Parsing aemw/amarna/P270900\n",
      "aemw/amarna/P270900:EA 083. Pleas and threats [vassal letter]\n",
      "Saving Output/aemw_amarna_P270900.txt\n",
      "\n",
      "Parsing aemw/amarna/P271080\n"
     ]
    },
    {
     "name": "stderr",
     "output_type": "stream",
     "text": [
      "\r",
      " 22%|██▏       | 84/378 [00:14<00:45,  6.42it/s]"
     ]
    },
    {
     "name": "stdout",
     "output_type": "stream",
     "text": [
      "aemw/amarna/P271080:EA 084. Outrage upon outrage [vassal letter]\n",
      "Saving Output/aemw_amarna_P271080.txt\n",
      "\n",
      "Parsing aemw/amarna/P271073\n"
     ]
    },
    {
     "name": "stderr",
     "output_type": "stream",
     "text": [
      "\r",
      " 22%|██▏       | 85/378 [00:14<01:00,  4.82it/s]"
     ]
    },
    {
     "name": "stdout",
     "output_type": "stream",
     "text": [
      "aemw/amarna/P271073:EA 085. Nothing to eat [vassal letter]\n",
      "Saving Output/aemw_amarna_P271073.txt\n",
      "\n",
      "Parsing aemw/amarna/P270907\n",
      "aemw/amarna/P270907:EA 086. Complaint to an official [vassal letter]\n"
     ]
    },
    {
     "name": "stderr",
     "output_type": "stream",
     "text": [
      "\r",
      " 23%|██▎       | 86/378 [00:14<00:56,  5.20it/s]"
     ]
    },
    {
     "name": "stdout",
     "output_type": "stream",
     "text": [
      "Saving Output/aemw_amarna_P270907.txt\n",
      "\n",
      "Parsing aemw/amarna/P270908\n",
      "aemw/amarna/P270908:EA 087. Broken promises [vassal letter]\n",
      "Saving Output/aemw_amarna_P270908.txt\n",
      "\n",
      "Parsing aemw/amarna/P270903\n"
     ]
    },
    {
     "name": "stderr",
     "output_type": "stream",
     "text": [
      "\r",
      " 23%|██▎       | 88/378 [00:15<00:51,  5.59it/s]"
     ]
    },
    {
     "name": "stdout",
     "output_type": "stream",
     "text": [
      "aemw/amarna/P270903:EA 088. Blockaded [vassal letter]\n",
      "Saving Output/aemw_amarna_P270903.txt\n",
      "\n",
      "Parsing aemw/amarna/P271074\n",
      "aemw/amarna/P271074:EA 089. Events in Tyre [vassal letter]\n"
     ]
    },
    {
     "name": "stderr",
     "output_type": "stream",
     "text": [
      "\r",
      " 24%|██▎       | 89/378 [00:15<00:54,  5.34it/s]"
     ]
    },
    {
     "name": "stdout",
     "output_type": "stream",
     "text": [
      "Saving Output/aemw_amarna_P271074.txt\n",
      "\n",
      "Parsing aemw/amarna/P271105\n",
      "aemw/amarna/P271105:EA 090. Alone and unheeded [vassal letter]\n"
     ]
    },
    {
     "name": "stderr",
     "output_type": "stream",
     "text": [
      " 24%|██▍       | 91/378 [00:15<00:55,  5.20it/s]"
     ]
    },
    {
     "name": "stdout",
     "output_type": "stream",
     "text": [
      "Saving Output/aemw_amarna_P271105.txt\n",
      "\n",
      "Parsing aemw/amarna/P271218\n",
      "aemw/amarna/P271218:EA 091. A plea for a payoff [vassal letter]\n",
      "Saving Output/aemw_amarna_P271218.txt\n",
      "\n",
      "Parsing aemw/amarna/P271217\n"
     ]
    },
    {
     "name": "stderr",
     "output_type": "stream",
     "text": [
      "\r",
      " 24%|██▍       | 92/378 [00:15<00:58,  4.86it/s]"
     ]
    },
    {
     "name": "stdout",
     "output_type": "stream",
     "text": [
      "aemw/amarna/P271217:EA 092. Some help from the Pharaoh [vassal letter]\n",
      "Saving Output/aemw_amarna_P271217.txt\n",
      "\n",
      "Parsing aemw/amarna/P271106\n",
      "aemw/amarna/P271106:EA 093. An angry vassal [vassal letter]\n",
      "Saving Output/aemw_amarna_P271106.txt\n",
      "\n",
      "Parsing aemw/amarna/P270986\n",
      "aemw/amarna/P270986:EA 094. Treachery everywhere [vassal letter]\n"
     ]
    },
    {
     "name": "stderr",
     "output_type": "stream",
     "text": [
      " 25%|██▌       | 95/378 [00:16<00:44,  6.30it/s]"
     ]
    },
    {
     "name": "stdout",
     "output_type": "stream",
     "text": [
      "Saving Output/aemw_amarna_P270986.txt\n",
      "\n",
      "Parsing aemw/amarna/P271111\n",
      "aemw/amarna/P271111:EA 095. Men from Meluḫḫa [vassal letter]\n",
      "Saving Output/aemw_amarna_P271111.txt\n",
      "\n",
      "Parsing aemw/amarna/P271030\n",
      "aemw/amarna/P271030:EA 096. The king’s asses [vassal letter]\n"
     ]
    },
    {
     "name": "stderr",
     "output_type": "stream",
     "text": [
      "\r",
      " 26%|██▌       | 97/378 [00:16<00:37,  7.48it/s]"
     ]
    },
    {
     "name": "stdout",
     "output_type": "stream",
     "text": [
      "Saving Output/aemw_amarna_P271030.txt\n",
      "\n",
      "Parsing aemw/amarna/P271055\n",
      "aemw/amarna/P271055:EA 097. A bad reputation [vassal letter]\n",
      "Saving Output/aemw_amarna_P271055.txt\n",
      "\n",
      "Parsing aemw/amarna/P271118\n",
      "aemw/amarna/P271118:EA 098. Losses from Byblos to Ugarit [vassal letter]\n",
      "Saving Output/aemw_amarna_P271118.txt\n",
      "\n",
      "Parsing aemw/amarna/P270974\n",
      "aemw/amarna/P270974:EA 099. From the Pharaoh to a vassal [vassal letter]\n"
     ]
    },
    {
     "name": "stderr",
     "output_type": "stream",
     "text": [
      "\r",
      " 26%|██▌       | 99/378 [00:16<00:32,  8.50it/s]"
     ]
    },
    {
     "name": "stdout",
     "output_type": "stream",
     "text": [
      "Saving Output/aemw_amarna_P270974.txt\n",
      "\n",
      "Parsing aemw/amarna/P270927\n",
      "aemw/amarna/P270927:EA 100. The city of Irqata to the king [vassal letter]\n",
      "Saving Output/aemw_amarna_P270927.txt\n",
      "\n",
      "Parsing aemw/amarna/P270929\n"
     ]
    },
    {
     "name": "stderr",
     "output_type": "stream",
     "text": [
      " 27%|██▋       | 102/378 [00:17<00:38,  7.25it/s]"
     ]
    },
    {
     "name": "stdout",
     "output_type": "stream",
     "text": [
      "aemw/amarna/P270929:EA 101. The death of ʿAbdi-Aširti [vassal letter]\n",
      "Saving Output/aemw_amarna_P270929.txt\n",
      "\n",
      "Parsing aemw/amarna/P270909\n",
      "aemw/amarna/P270909:EA 102. An empty house [vassal letter]\n",
      "Saving Output/aemw_amarna_P270909.txt\n",
      "\n",
      "Parsing aemw/amarna/P271029\n"
     ]
    },
    {
     "name": "stderr",
     "output_type": "stream",
     "text": [
      "\r",
      " 27%|██▋       | 103/378 [00:17<00:39,  6.91it/s]"
     ]
    },
    {
     "name": "stdout",
     "output_type": "stream",
     "text": [
      "aemw/amarna/P271029:EA 103. Critical days for Ṣumur [vassal letter]\n",
      "Saving Output/aemw_amarna_P271029.txt\n",
      "\n",
      "Parsing aemw/amarna/P270981\n",
      "aemw/amarna/P270981:EA 104. Ullassa taken [vassal letter]\n"
     ]
    },
    {
     "name": "stderr",
     "output_type": "stream",
     "text": [
      "\r",
      " 28%|██▊       | 104/378 [00:17<00:43,  6.31it/s]"
     ]
    },
    {
     "name": "stdout",
     "output_type": "stream",
     "text": [
      "Saving Output/aemw_amarna_P270981.txt\n",
      "\n",
      "Parsing aemw/amarna/P271075\n",
      "aemw/amarna/P271075:EA 105. Ṣumur under siege [vassal letter]\n"
     ]
    },
    {
     "name": "stderr",
     "output_type": "stream",
     "text": [
      "\r",
      " 28%|██▊       | 105/378 [00:17<00:50,  5.38it/s]"
     ]
    },
    {
     "name": "stdout",
     "output_type": "stream",
     "text": [
      "Saving Output/aemw_amarna_P271075.txt\n",
      "\n",
      "Parsing aemw/amarna/P271206\n",
      "aemw/amarna/P271206:EA 106. Ṣumur holding out [vassal letter]\n"
     ]
    },
    {
     "name": "stderr",
     "output_type": "stream",
     "text": [
      " 28%|██▊       | 107/378 [00:18<00:48,  5.60it/s]"
     ]
    },
    {
     "name": "stdout",
     "output_type": "stream",
     "text": [
      "Saving Output/aemw_amarna_P271206.txt\n",
      "\n",
      "Parsing aemw/amarna/P271208\n",
      "aemw/amarna/P271208:EA 107. Charioteers but no horses [vassal letter]\n",
      "Saving Output/aemw_amarna_P271208.txt\n",
      "\n",
      "Parsing aemw/amarna/P271207\n"
     ]
    },
    {
     "name": "stderr",
     "output_type": "stream",
     "text": [
      "\r",
      " 29%|██▊       | 108/378 [00:18<00:48,  5.57it/s]"
     ]
    },
    {
     "name": "stdout",
     "output_type": "stream",
     "text": [
      "aemw/amarna/P271207:EA 108. Unheard-of deeds [vassal letter]\n",
      "Saving Output/aemw_amarna_P271207.txt\n",
      "\n",
      "Parsing aemw/amarna/P271076\n",
      "aemw/amarna/P271076:EA 109. Then and now [vassal letter]\n"
     ]
    },
    {
     "name": "stderr",
     "output_type": "stream",
     "text": [
      " 29%|██▉       | 110/378 [00:18<00:49,  5.46it/s]"
     ]
    },
    {
     "name": "stdout",
     "output_type": "stream",
     "text": [
      "Saving Output/aemw_amarna_P271076.txt\n",
      "\n",
      "Parsing aemw/amarna/P271109\n",
      "aemw/amarna/P271109:EA 110. The army’s ships [vassal letter]\n",
      "Saving Output/aemw_amarna_P271109.txt\n",
      "\n",
      "Parsing aemw/amarna/P271078\n"
     ]
    },
    {
     "name": "stderr",
     "output_type": "stream",
     "text": [
      "\r",
      " 30%|██▉       | 112/378 [00:18<00:43,  6.10it/s]"
     ]
    },
    {
     "name": "stdout",
     "output_type": "stream",
     "text": [
      "aemw/amarna/P271078:EA 111. Army activities [vassal letter]\n",
      "Saving Output/aemw_amarna_P271078.txt\n",
      "\n",
      "Parsing aemw/amarna/P271107\n",
      "aemw/amarna/P271107:EA 112. Questions for the king [vassal letter]\n",
      "Saving Output/aemw_amarna_P271107.txt\n",
      "\n",
      "Parsing aemw/amarna/P270983\n"
     ]
    },
    {
     "name": "stderr",
     "output_type": "stream",
     "text": [
      "\r",
      " 30%|██▉       | 113/378 [00:18<00:43,  6.08it/s]"
     ]
    },
    {
     "name": "stdout",
     "output_type": "stream",
     "text": [
      "aemw/amarna/P270983:EA 113. War and peace [vassal letter]\n",
      "Saving Output/aemw_amarna_P270983.txt\n",
      "\n",
      "Parsing aemw/amarna/P270899\n",
      "aemw/amarna/P270899:EA 114. Loyalty and its rewards [vassal letter]\n"
     ]
    },
    {
     "name": "stderr",
     "output_type": "stream",
     "text": [
      "\r",
      " 30%|███       | 114/378 [00:19<00:47,  5.61it/s]"
     ]
    },
    {
     "name": "stdout",
     "output_type": "stream",
     "text": [
      "Saving Output/aemw_amarna_P270899.txt\n",
      "\n",
      "Parsing aemw/amarna/P271077\n",
      "aemw/amarna/P271077:EA 115. Message lost [vassal letter]\n",
      "Saving Output/aemw_amarna_P271077.txt\n",
      "\n",
      "Parsing aemw/amarna/P270982\n"
     ]
    },
    {
     "name": "stderr",
     "output_type": "stream",
     "text": [
      "\r",
      " 31%|███       | 116/378 [00:19<00:44,  5.93it/s]"
     ]
    },
    {
     "name": "stdout",
     "output_type": "stream",
     "text": [
      "aemw/amarna/P270982:EA 116. Who do they think they are? [vassal letter]\n",
      "Saving Output/aemw_amarna_P270982.txt\n",
      "\n",
      "Parsing aemw/amarna/P271211\n"
     ]
    },
    {
     "name": "stderr",
     "output_type": "stream",
     "text": [
      "\r",
      " 31%|███       | 117/378 [00:19<00:58,  4.44it/s]"
     ]
    },
    {
     "name": "stdout",
     "output_type": "stream",
     "text": [
      "aemw/amarna/P271211:EA 117. A lesson from the past [vassal letter]\n",
      "Saving Output/aemw_amarna_P271211.txt\n",
      "\n",
      "Parsing aemw/amarna/P270886\n",
      "aemw/amarna/P270886:EA 118. Not like other mayors [vassal letter]\n"
     ]
    },
    {
     "name": "stderr",
     "output_type": "stream",
     "text": [
      "\r",
      " 31%|███       | 118/378 [00:19<00:53,  4.89it/s]"
     ]
    },
    {
     "name": "stdout",
     "output_type": "stream",
     "text": [
      "Saving Output/aemw_amarna_P270886.txt\n",
      "\n",
      "Parsing aemw/amarna/P271210\n",
      "aemw/amarna/P271210:EA 119. Recalling past kindnesses [vassal letter]\n"
     ]
    },
    {
     "name": "stderr",
     "output_type": "stream",
     "text": [
      " 32%|███▏      | 120/378 [00:20<00:51,  4.99it/s]"
     ]
    },
    {
     "name": "stdout",
     "output_type": "stream",
     "text": [
      "Saving Output/aemw_amarna_P271210.txt\n",
      "\n",
      "Parsing aemw/amarna/P271083\n",
      "aemw/amarna/P271083:EA 120. Stolen goods [vassal letter]\n",
      "Saving Output/aemw_amarna_P271083.txt\n",
      "\n",
      "Parsing aemw/amarna/P271108\n"
     ]
    },
    {
     "name": "stderr",
     "output_type": "stream",
     "text": [
      "\r",
      " 32%|███▏      | 121/378 [00:20<00:52,  4.86it/s]"
     ]
    },
    {
     "name": "stdout",
     "output_type": "stream",
     "text": [
      "aemw/amarna/P271108:EA 121. Past and present [vassal letter]\n",
      "Saving Output/aemw_amarna_P271108.txt\n",
      "\n",
      "Parsing aemw/amarna/P271072\n",
      "aemw/amarna/P271072:EA 122. An enormity [vassal letter]\n"
     ]
    },
    {
     "name": "stderr",
     "output_type": "stream",
     "text": [
      " 33%|███▎      | 123/378 [00:20<00:48,  5.30it/s]"
     ]
    },
    {
     "name": "stdout",
     "output_type": "stream",
     "text": [
      "Saving Output/aemw_amarna_P271072.txt\n",
      "\n",
      "Parsing aemw/amarna/P270906\n",
      "aemw/amarna/P270906:EA 123. An enormity: another version [vassal letter]\n",
      "Saving Output/aemw_amarna_P270906.txt\n",
      "\n",
      "Parsing aemw/amarna/P270985\n"
     ]
    },
    {
     "name": "stderr",
     "output_type": "stream",
     "text": [
      "\r",
      " 33%|███▎      | 124/378 [00:21<00:54,  4.62it/s]"
     ]
    },
    {
     "name": "stdout",
     "output_type": "stream",
     "text": [
      "aemw/amarna/P270985:EA 124. The tireless correspondent [vassal letter]\n",
      "Saving Output/aemw_amarna_P270985.txt\n",
      "\n",
      "Parsing aemw/amarna/P270905\n",
      "aemw/amarna/P270905:EA 125. A study in contrasts [vassal letter]\n"
     ]
    },
    {
     "name": "stderr",
     "output_type": "stream",
     "text": [
      "\r",
      " 33%|███▎      | 125/378 [00:21<00:50,  5.03it/s]"
     ]
    },
    {
     "name": "stdout",
     "output_type": "stream",
     "text": [
      "Saving Output/aemw_amarna_P270905.txt\n",
      "\n",
      "Parsing aemw/amarna/P271028\n"
     ]
    },
    {
     "name": "stderr",
     "output_type": "stream",
     "text": [
      " 34%|███▎      | 127/378 [00:21<00:51,  4.91it/s]"
     ]
    },
    {
     "name": "stdout",
     "output_type": "stream",
     "text": [
      "aemw/amarna/P271028:EA 126. Rejection of Byblos or Rib-Hadda? [vassal letter]\n",
      "Saving Output/aemw_amarna_P271028.txt\n",
      "\n",
      "Parsing aemw/amarna/P271129\n",
      "aemw/amarna/P271129:EA 127. Alone against the world [vassal letter]\n",
      "Saving Output/aemw_amarna_P271129.txt\n",
      "\n",
      "Parsing aemw/amarna/P271167\n",
      "aemw/amarna/P271167:EA 128. Message lost [vassal letter]\n",
      "Saving Output/aemw_amarna_P271167.txt\n",
      "\n",
      "Parsing aemw/amarna/P271084\n"
     ]
    },
    {
     "name": "stderr",
     "output_type": "stream",
     "text": [
      "\r",
      " 34%|███▍      | 129/378 [00:22<00:49,  5.04it/s]"
     ]
    },
    {
     "name": "stdout",
     "output_type": "stream",
     "text": [
      "aemw/amarna/P271084:EA 129. A long review of the situation [vassal letter]\n",
      "Saving Output/aemw_amarna_P271084.txt\n",
      "\n",
      "Parsing aemw/amarna/P271071\n",
      "aemw/amarna/P271071:EA 130. Life among the ʿApiru [vassal letter]\n"
     ]
    },
    {
     "name": "stderr",
     "output_type": "stream",
     "text": [
      "\r",
      " 34%|███▍      | 130/378 [00:22<00:45,  5.47it/s]"
     ]
    },
    {
     "name": "stdout",
     "output_type": "stream",
     "text": [
      "Saving Output/aemw_amarna_P271071.txt\n",
      "\n",
      "Parsing aemw/amarna/P270910\n",
      "aemw/amarna/P270910:EA 131. A commissioner killed [vassal letter]\n"
     ]
    },
    {
     "name": "stderr",
     "output_type": "stream",
     "text": [
      " 35%|███▍      | 132/378 [00:22<00:45,  5.39it/s]"
     ]
    },
    {
     "name": "stdout",
     "output_type": "stream",
     "text": [
      "Saving Output/aemw_amarna_P270910.txt\n",
      "\n",
      "Parsing aemw/amarna/P270904\n",
      "aemw/amarna/P270904:EA 132. The hope for peace [vassal letter]\n",
      "Saving Output/aemw_amarna_P270904.txt\n",
      "\n",
      "Parsing aemw/amarna/P271110\n",
      "aemw/amarna/P271110:EA 133. Some advice for the king [vassal letter]\n",
      "Saving Output/aemw_amarna_P271110.txt\n",
      "\n"
     ]
    },
    {
     "name": "stderr",
     "output_type": "stream",
     "text": [
      "\r",
      " 35%|███▌      | 134/378 [00:22<00:39,  6.17it/s]"
     ]
    },
    {
     "name": "stdout",
     "output_type": "stream",
     "text": [
      "Parsing aemw/amarna/P270984\n",
      "aemw/amarna/P270984:EA 134. Departure of the gods [vassal letter]\n",
      "Saving Output/aemw_amarna_P270984.txt\n",
      "\n",
      "Parsing aemw/amarna/P270879\n",
      "aemw/amarna/P270879:EA 135. Message lost [vassal letter]\n",
      "Saving Output/aemw_amarna_P270879.txt\n",
      "\n"
     ]
    },
    {
     "name": "stderr",
     "output_type": "stream",
     "text": [
      "\r",
      " 36%|███▌      | 136/378 [00:23<00:34,  6.99it/s]"
     ]
    },
    {
     "name": "stdout",
     "output_type": "stream",
     "text": [
      "Parsing aemw/amarna/P270902\n",
      "aemw/amarna/P270902:EA 136. Rib-Hadda from Beirut [vassal letter]\n",
      "Saving Output/aemw_amarna_P270902.txt\n",
      "\n",
      "Parsing aemw/amarna/P271021\n"
     ]
    },
    {
     "name": "stderr",
     "output_type": "stream",
     "text": [
      "\r",
      " 36%|███▌      | 137/378 [00:23<01:03,  3.78it/s]"
     ]
    },
    {
     "name": "stdout",
     "output_type": "stream",
     "text": [
      "aemw/amarna/P271021:EA 137. An old man in exile [vassal letter]\n",
      "Saving Output/aemw_amarna_P271021.txt\n",
      "\n",
      "Parsing aemw/amarna/P271212\n"
     ]
    },
    {
     "name": "stderr",
     "output_type": "stream",
     "text": [
      "\r",
      " 37%|███▋      | 138/378 [00:24<01:20,  2.98it/s]"
     ]
    },
    {
     "name": "stdout",
     "output_type": "stream",
     "text": [
      "aemw/amarna/P271212:EA 138. De profundis [vassal letter]\n",
      "Saving Output/aemw_amarna_P271212.txt\n",
      "\n",
      "Parsing aemw/amarna/P270930\n"
     ]
    },
    {
     "name": "stderr",
     "output_type": "stream",
     "text": [
      " 37%|███▋      | 140/378 [00:24<00:55,  4.25it/s]"
     ]
    },
    {
     "name": "stdout",
     "output_type": "stream",
     "text": [
      "aemw/amarna/P270930:EA 139. A new voice an old story [vassal letter]\n",
      "Saving Output/aemw_amarna_P270930.txt\n",
      "\n",
      "Parsing aemw/amarna/P271085\n",
      "aemw/amarna/P271085:EA 140. Again the crimes of Aziru [vassal letter]\n",
      "Saving Output/aemw_amarna_P271085.txt\n",
      "\n",
      "Parsing aemw/amarna/P270911\n"
     ]
    },
    {
     "name": "stderr",
     "output_type": "stream",
     "text": [
      " 38%|███▊      | 142/378 [00:24<00:42,  5.58it/s]"
     ]
    },
    {
     "name": "stdout",
     "output_type": "stream",
     "text": [
      "aemw/amarna/P270911:EA 141. Ammunira of Beirut [vassal letter]\n",
      "Saving Output/aemw_amarna_P270911.txt\n",
      "\n",
      "Parsing aemw/amarna/P270912\n",
      "aemw/amarna/P270912:EA 142. News about Byblos [vassal letter]\n",
      "Saving Output/aemw_amarna_P270912.txt\n",
      "\n",
      "Parsing aemw/amarna/P271043\n"
     ]
    },
    {
     "name": "stderr",
     "output_type": "stream",
     "text": [
      " 38%|███▊      | 144/378 [00:24<00:34,  6.82it/s]"
     ]
    },
    {
     "name": "stdout",
     "output_type": "stream",
     "text": [
      "aemw/amarna/P271043:EA 143. Egyptian ships in Beirut [vassal letter]\n",
      "Saving Output/aemw_amarna_P271043.txt\n",
      "\n",
      "Parsing aemw/amarna/P271185\n",
      "aemw/amarna/P271185:EA 144. Zimreddi of Sidon [vassal letter]\n",
      "Saving Output/aemw_amarna_P271185.txt\n",
      "\n",
      "Parsing aemw/amarna/P271136\n"
     ]
    },
    {
     "name": "stderr",
     "output_type": "stream",
     "text": [
      " 39%|███▊      | 146/378 [00:25<00:29,  7.77it/s]"
     ]
    },
    {
     "name": "stdout",
     "output_type": "stream",
     "text": [
      "aemw/amarna/P271136:EA 145. Word on Amurru [vassal letter]\n",
      "Saving Output/aemw_amarna_P271136.txt\n",
      "\n",
      "Parsing aemw/amarna/P271166\n",
      "aemw/amarna/P271166:EA 146. Abi-Milku of Tyre [vassal letter]\n",
      "Saving Output/aemw_amarna_P271166.txt\n",
      "\n",
      "Parsing aemw/amarna/P270914\n"
     ]
    },
    {
     "name": "stderr",
     "output_type": "stream",
     "text": [
      "\r",
      " 39%|███▉      | 147/378 [00:25<00:36,  6.36it/s]"
     ]
    },
    {
     "name": "stdout",
     "output_type": "stream",
     "text": [
      "aemw/amarna/P270914:EA 147. A hymn to the Pharaoh [vassal letter]\n",
      "Saving Output/aemw_amarna_P270914.txt\n",
      "\n",
      "Parsing aemw/amarna/P270994\n",
      "aemw/amarna/P270994:EA 148. The need for mainland Tyre [vassal letter]\n"
     ]
    },
    {
     "name": "stderr",
     "output_type": "stream",
     "text": [
      "\r",
      " 39%|███▉      | 148/378 [00:25<00:37,  6.12it/s]"
     ]
    },
    {
     "name": "stdout",
     "output_type": "stream",
     "text": [
      "Saving Output/aemw_amarna_P270994.txt\n",
      "\n",
      "Parsing aemw/amarna/P270913\n",
      "aemw/amarna/P270913:EA 149. Neither water nor wood [vassal letter]\n"
     ]
    },
    {
     "name": "stderr",
     "output_type": "stream",
     "text": [
      "\r",
      " 39%|███▉      | 149/378 [00:25<00:43,  5.23it/s]"
     ]
    },
    {
     "name": "stdout",
     "output_type": "stream",
     "text": [
      "Saving Output/aemw_amarna_P270913.txt\n",
      "\n",
      "Parsing aemw/amarna/P270995\n",
      "aemw/amarna/P270995:EA 150. Needed: just one soldier [vassal letter]\n",
      "Saving Output/aemw_amarna_P270995.txt\n",
      "\n",
      "Parsing aemw/amarna/P270915\n"
     ]
    },
    {
     "name": "stderr",
     "output_type": "stream",
     "text": [
      "\r",
      " 40%|███▉      | 151/378 [00:26<00:40,  5.61it/s]"
     ]
    },
    {
     "name": "stdout",
     "output_type": "stream",
     "text": [
      "aemw/amarna/P270915:EA 151. A report on Canaan [vassal letter]\n",
      "Saving Output/aemw_amarna_P270915.txt\n",
      "\n",
      "Parsing aemw/amarna/P271155\n",
      "aemw/amarna/P271155:EA 152. A demand for recognition [vassal letter]\n"
     ]
    },
    {
     "name": "stderr",
     "output_type": "stream",
     "text": [
      " 41%|████      | 154/378 [00:26<00:32,  6.97it/s]"
     ]
    },
    {
     "name": "stdout",
     "output_type": "stream",
     "text": [
      "Saving Output/aemw_amarna_P271155.txt\n",
      "\n",
      "Parsing aemw/amarna/P271025\n",
      "aemw/amarna/P271025:EA 153. Ships on hold [vassal letter]\n",
      "Saving Output/aemw_amarna_P271025.txt\n",
      "\n",
      "Parsing aemw/amarna/P271154\n",
      "aemw/amarna/P271154:EA 154. Orders carried out [vassal letter]\n",
      "Saving Output/aemw_amarna_P271154.txt\n",
      "\n",
      "Parsing aemw/amarna/P270916\n"
     ]
    },
    {
     "name": "stderr",
     "output_type": "stream",
     "text": [
      "\r",
      " 41%|████      | 155/378 [00:26<00:36,  6.05it/s]"
     ]
    },
    {
     "name": "stdout",
     "output_type": "stream",
     "text": [
      "aemw/amarna/P270916:EA 155. Servant of Mayati [vassal letter]\n",
      "Saving Output/aemw_amarna_P270916.txt\n",
      "\n",
      "Parsing aemw/amarna/P271199\n",
      "aemw/amarna/P271199:EA 156. Aziru of Amurru [vassal letter]\n",
      "Saving Output/aemw_amarna_P271199.txt\n",
      "\n",
      "Parsing aemw/amarna/P271216\n"
     ]
    },
    {
     "name": "stderr",
     "output_type": "stream",
     "text": [
      " 42%|████▏     | 158/378 [00:27<00:31,  6.88it/s]"
     ]
    },
    {
     "name": "stdout",
     "output_type": "stream",
     "text": [
      "aemw/amarna/P271216:EA 157. Eager to serve [vassal letter]\n",
      "Saving Output/aemw_amarna_P271216.txt\n",
      "\n",
      "Parsing aemw/amarna/P270988\n",
      "aemw/amarna/P270988:EA 158. Father and son [vassal letter]\n",
      "Saving Output/aemw_amarna_P270988.txt\n",
      "\n",
      "Parsing aemw/amarna/P271102\n"
     ]
    },
    {
     "name": "stderr",
     "output_type": "stream",
     "text": [
      "\r",
      " 42%|████▏     | 159/378 [00:27<00:32,  6.64it/s]"
     ]
    },
    {
     "name": "stdout",
     "output_type": "stream",
     "text": [
      "aemw/amarna/P271102:EA 159. Nothing but the truth [vassal letter]\n",
      "Saving Output/aemw_amarna_P271102.txt\n",
      "\n",
      "Parsing aemw/amarna/P271022\n",
      "aemw/amarna/P271022:EA 160. Ships and lumber [vassal letter]\n"
     ]
    },
    {
     "name": "stderr",
     "output_type": "stream",
     "text": [
      "\r",
      " 42%|████▏     | 160/378 [00:27<00:40,  5.35it/s]"
     ]
    },
    {
     "name": "stdout",
     "output_type": "stream",
     "text": [
      "Saving Output/aemw_amarna_P271022.txt\n",
      "\n",
      "Parsing aemw/amarna/P270920\n"
     ]
    },
    {
     "name": "stderr",
     "output_type": "stream",
     "text": [
      "\r",
      " 43%|████▎     | 161/378 [00:27<00:46,  4.68it/s]"
     ]
    },
    {
     "name": "stdout",
     "output_type": "stream",
     "text": [
      "aemw/amarna/P270920:EA 161. An absence explained [vassal letter]\n",
      "Saving Output/aemw_amarna_P270920.txt\n",
      "\n",
      "Parsing aemw/amarna/P271209\n"
     ]
    },
    {
     "name": "stderr",
     "output_type": "stream",
     "text": [
      "\r",
      " 43%|████▎     | 162/378 [00:28<00:54,  3.97it/s]"
     ]
    },
    {
     "name": "stdout",
     "output_type": "stream",
     "text": [
      "aemw/amarna/P271209:EA 162. A letter from the Pharaoh: threats and promises [vassal letter]\n",
      "Saving Output/aemw_amarna_P271209.txt\n",
      "\n",
      "Parsing aemw/amarna/P271174\n",
      "aemw/amarna/P271174:EA 163. Message lost [vassal letter]\n",
      "Saving Output/aemw_amarna_P271174.txt\n",
      "\n",
      "Parsing aemw/amarna/P271182\n"
     ]
    },
    {
     "name": "stderr",
     "output_type": "stream",
     "text": [
      " 44%|████▎     | 165/378 [00:28<00:40,  5.21it/s]"
     ]
    },
    {
     "name": "stdout",
     "output_type": "stream",
     "text": [
      "aemw/amarna/P271182:EA 164. Coming—on condition [vassal letter]\n",
      "Saving Output/aemw_amarna_P271182.txt\n",
      "\n",
      "Parsing aemw/amarna/P271187\n",
      "aemw/amarna/P271187:EA 165. Tunip threatened [vassal letter]\n",
      "Saving Output/aemw_amarna_P271187.txt\n",
      "\n",
      "Parsing aemw/amarna/P271183\n"
     ]
    },
    {
     "name": "stderr",
     "output_type": "stream",
     "text": [
      " 44%|████▍     | 167/378 [00:28<00:34,  6.15it/s]"
     ]
    },
    {
     "name": "stdout",
     "output_type": "stream",
     "text": [
      "aemw/amarna/P271183:EA 166. Coming—but not yet [vassal letter]\n",
      "Saving Output/aemw_amarna_P271183.txt\n",
      "\n",
      "Parsing aemw/amarna/P271188\n",
      "aemw/amarna/P271188:EA 167. The constant Hittite menace [vassal letter]\n",
      "Saving Output/aemw_amarna_P271188.txt\n",
      "\n",
      "Parsing aemw/amarna/P271103\n"
     ]
    },
    {
     "name": "stderr",
     "output_type": "stream",
     "text": [
      "\r",
      " 45%|████▍     | 169/378 [00:28<00:30,  6.89it/s]"
     ]
    },
    {
     "name": "stdout",
     "output_type": "stream",
     "text": [
      "aemw/amarna/P271103:EA 168. Royal cargo [vassal letter]\n",
      "Saving Output/aemw_amarna_P271103.txt\n",
      "\n",
      "Parsing aemw/amarna/P271104\n",
      "aemw/amarna/P271104:EA 169. Aziru in Egypt [vassal letter]\n",
      "Saving Output/aemw_amarna_P271104.txt\n",
      "\n",
      "Parsing aemw/amarna/P271189\n"
     ]
    },
    {
     "name": "stderr",
     "output_type": "stream",
     "text": [
      " 45%|████▌     | 171/378 [00:29<00:29,  7.05it/s]"
     ]
    },
    {
     "name": "stdout",
     "output_type": "stream",
     "text": [
      "aemw/amarna/P271189:EA 170. To Aziru in Egypt [vassal letter]\n",
      "Saving Output/aemw_amarna_P271189.txt\n",
      "\n",
      "Parsing aemw/amarna/P271158\n",
      "aemw/amarna/P271158:EA 171. Eager to serve [vassal letter]\n",
      "Saving Output/aemw_amarna_P271158.txt\n",
      "\n",
      "Parsing aemw/amarna/P271176\n",
      "aemw/amarna/P271176:EA 172. Message lost [vassal letter]\n",
      "Saving Output/aemw_amarna_P271176.txt\n",
      "\n",
      "Parsing aemw/amarna/P271169\n",
      "aemw/amarna/P271169:EA 173. An attack on Amqu [vassal letter]\n"
     ]
    },
    {
     "name": "stderr",
     "output_type": "stream",
     "text": [
      "\r",
      " 46%|████▌     | 174/378 [00:29<00:23,  8.65it/s]"
     ]
    },
    {
     "name": "stdout",
     "output_type": "stream",
     "text": [
      "Saving Output/aemw_amarna_P271169.txt\n",
      "\n",
      "Parsing aemw/amarna/P271044\n",
      "aemw/amarna/P271044:EA 174. A joint report on Amqu (1) [vassal letter]\n",
      "Saving Output/aemw_amarna_P271044.txt\n",
      "\n",
      "Parsing aemw/amarna/P271046\n",
      "aemw/amarna/P271046:EA 175. A joint report on Amqu (2) [vassal letter]\n",
      "Saving Output/aemw_amarna_P271046.txt\n",
      "\n",
      "Parsing aemw/amarna/P270931\n",
      "aemw/amarna/P270931:EA 176. A joint report on Amqu (3) [vassal letter]\n"
     ]
    },
    {
     "name": "stderr",
     "output_type": "stream",
     "text": [
      " 47%|████▋     | 178/378 [00:29<00:19, 10.32it/s]"
     ]
    },
    {
     "name": "stdout",
     "output_type": "stream",
     "text": [
      "Saving Output/aemw_amarna_P270931.txt\n",
      "\n",
      "Parsing aemw/amarna/P271126\n",
      "aemw/amarna/P271126:EA 177. A broken message [vassal letter]\n",
      "Saving Output/aemw_amarna_P271126.txt\n",
      "\n",
      "Parsing aemw/amarna/P271120\n",
      "aemw/amarna/P271120:EA 178. On grain suplies [vassal letter]\n",
      "Saving Output/aemw_amarna_P271120.txt\n",
      "\n",
      "Parsing aemw/amarna/P271143\n"
     ]
    },
    {
     "name": "stderr",
     "output_type": "stream",
     "text": [
      "\r",
      " 48%|████▊     | 180/378 [00:29<00:19, 10.19it/s]"
     ]
    },
    {
     "name": "stdout",
     "output_type": "stream",
     "text": [
      "aemw/amarna/P271143:EA 179. A treacherous brother [vassal letter]\n",
      "Saving Output/aemw_amarna_P271143.txt\n",
      "\n",
      "Parsing aemw/amarna/P271015\n",
      "aemw/amarna/P271015:EA 180. An audience with the king requested [vassal letter]\n",
      "Saving Output/aemw_amarna_P271015.txt\n",
      "\n",
      "Parsing aemw/amarna/P271070\n",
      "aemw/amarna/P271070:EA 181. A broken message [vassal letter]\n",
      "Saving Output/aemw_amarna_P271070.txt\n",
      "\n",
      "Parsing aemw/amarna/P271067\n",
      "aemw/amarna/P271067:EA 182. Request for a garrison [vassal letter]\n"
     ]
    },
    {
     "name": "stderr",
     "output_type": "stream",
     "text": [
      "\r",
      " 48%|████▊     | 182/378 [00:30<00:16, 11.90it/s]"
     ]
    },
    {
     "name": "stdout",
     "output_type": "stream",
     "text": [
      "Saving Output/aemw_amarna_P271067.txt\n",
      "\n",
      "Parsing aemw/amarna/P271053\n",
      "aemw/amarna/P271053:EA 183. A lost message [vassal letter]\n",
      "Saving Output/aemw_amarna_P271053.txt\n",
      "\n",
      "Parsing aemw/amarna/P270882\n",
      "aemw/amarna/P270882:EA 184. A lost message [vassal letter]\n",
      "Saving Output/aemw_amarna_P270882.txt\n",
      "\n",
      "Parsing aemw/amarna/P271160\n"
     ]
    },
    {
     "name": "stderr",
     "output_type": "stream",
     "text": [
      "\r",
      " 49%|████▉     | 185/378 [00:30<00:17, 11.21it/s]"
     ]
    },
    {
     "name": "stdout",
     "output_type": "stream",
     "text": [
      "aemw/amarna/P271160:EA 185. An Egyptian traitor [vassal letter]\n",
      "Saving Output/aemw_amarna_P271160.txt\n",
      "\n",
      "Parsing aemw/amarna/P271159\n",
      "aemw/amarna/P271159:EA 186. Another report on the Egyptian traitor [vassal letter]\n",
      "Saving Output/aemw_amarna_P271159.txt\n",
      "\n",
      "Parsing aemw/amarna/P270962\n",
      "aemw/amarna/P270962:EA 187. A daughter sent to the Pharaoh [vassal letter]\n"
     ]
    },
    {
     "name": "stderr",
     "output_type": "stream",
     "text": [
      "\r",
      " 49%|████▉     | 187/378 [00:30<00:26,  7.08it/s]"
     ]
    },
    {
     "name": "stdout",
     "output_type": "stream",
     "text": [
      "Saving Output/aemw_amarna_P270962.txt\n",
      "\n",
      "Parsing aemw/amarna/P271018\n",
      "aemw/amarna/P271018:EA 188. Message lost [vassal letter]\n",
      "Saving Output/aemw_amarna_P271018.txt\n",
      "\n",
      "Parsing aemw/amarna/P271198\n",
      "aemw/amarna/P271198:EA 189. Etakkama of Qadesh [vassal letter]\n"
     ]
    },
    {
     "name": "stderr",
     "output_type": "stream",
     "text": [
      " 50%|█████     | 190/378 [00:31<00:29,  6.42it/s]"
     ]
    },
    {
     "name": "stdout",
     "output_type": "stream",
     "text": [
      "Saving Output/aemw_amarna_P271198.txt\n",
      "\n",
      "Parsing aemw/amarna/P270880\n",
      "aemw/amarna/P270880:EA 190. A letter from Egypt [vassal letter]\n",
      "Saving Output/aemw_amarna_P270880.txt\n",
      "\n"
     ]
    },
    {
     "name": "stderr",
     "output_type": "stream",
     "text": [
      "\r",
      " 51%|█████     | 192/378 [00:31<00:23,  7.82it/s]"
     ]
    },
    {
     "name": "stdout",
     "output_type": "stream",
     "text": [
      "Parsing aemw/amarna/P270990\n",
      "aemw/amarna/P270990:EA 191. Preparations for war [vassal letter]\n",
      "Saving Output/aemw_amarna_P270990.txt\n",
      "\n",
      "Parsing aemw/amarna/P271117\n",
      "aemw/amarna/P271117:EA 192. Message received [vassal letter]\n",
      "Saving Output/aemw_amarna_P271117.txt\n",
      "\n",
      "Parsing aemw/amarna/P271064\n",
      "aemw/amarna/P271064:EA 193. On the alert [vassal letter]\n",
      "Saving Output/aemw_amarna_P271064.txt\n",
      "\n",
      "Parsing aemw/amarna/P271144\n"
     ]
    },
    {
     "name": "stderr",
     "output_type": "stream",
     "text": [
      "\r",
      " 51%|█████▏    | 194/378 [00:31<00:20,  9.08it/s]"
     ]
    },
    {
     "name": "stdout",
     "output_type": "stream",
     "text": [
      "aemw/amarna/P271144:EA 194. A tradition of service [vassal letter]\n",
      "Saving Output/aemw_amarna_P271144.txt\n",
      "\n",
      "Parsing aemw/amarna/P270991\n",
      "aemw/amarna/P270991:EA 195. Waiting for the Pharaoh’s words [vassal letter]\n",
      "Saving Output/aemw_amarna_P270991.txt\n",
      "\n",
      "Parsing aemw/amarna/P271050\n",
      "aemw/amarna/P271050:EA 196. Unheard-of deeds [vassal letter]\n"
     ]
    },
    {
     "name": "stderr",
     "output_type": "stream",
     "text": [
      "\r",
      " 52%|█████▏    | 196/378 [00:31<00:19,  9.23it/s]"
     ]
    },
    {
     "name": "stdout",
     "output_type": "stream",
     "text": [
      "Saving Output/aemw_amarna_P271050.txt\n",
      "\n",
      "Parsing aemw/amarna/P270928\n",
      "aemw/amarna/P270928:EA 197. Biryawaza’s plight [vassal letter]\n",
      "Saving Output/aemw_amarna_P270928.txt\n",
      "\n",
      "Parsing aemw/amarna/P270993\n"
     ]
    },
    {
     "name": "stderr",
     "output_type": "stream",
     "text": [
      " 53%|█████▎    | 200/378 [00:32<00:17, 10.41it/s]"
     ]
    },
    {
     "name": "stdout",
     "output_type": "stream",
     "text": [
      "aemw/amarna/P270993:EA 198. From Kumidu [vassal letter]\n",
      "Saving Output/aemw_amarna_P270993.txt\n",
      "\n",
      "Parsing aemw/amarna/P271016\n",
      "aemw/amarna/P271016:EA 199. Caravan escort [vassal letter]\n",
      "Saving Output/aemw_amarna_P271016.txt\n",
      "\n",
      "Parsing aemw/amarna/P271069\n",
      "aemw/amarna/P271069:EA 200. About Ahlameans [vassal letter]\n",
      "Saving Output/aemw_amarna_P271069.txt\n",
      "\n",
      "Parsing aemw/amarna/P271200\n",
      "aemw/amarna/P271200:EA 201. Ready for marching orders [vassal letter]\n",
      "Saving Output/aemw_amarna_P271200.txt\n",
      "\n"
     ]
    },
    {
     "name": "stderr",
     "output_type": "stream",
     "text": [
      " 54%|█████▍    | 204/378 [00:32<00:13, 12.65it/s]"
     ]
    },
    {
     "name": "stdout",
     "output_type": "stream",
     "text": [
      "Parsing aemw/amarna/P271193\n",
      "aemw/amarna/P271193:EA 202. Ready for marching orders (2) [vassal letter]\n",
      "Saving Output/aemw_amarna_P271193.txt\n",
      "\n",
      "Parsing aemw/amarna/P271192\n",
      "aemw/amarna/P271192:EA 203. Ready for marching orders (3) [vassal letter]\n",
      "Saving Output/aemw_amarna_P271192.txt\n",
      "\n",
      "Parsing aemw/amarna/P271190\n",
      "aemw/amarna/P271190:EA 204. Ready for marching orders (4) [vassal letter]\n",
      "Saving Output/aemw_amarna_P271190.txt\n",
      "\n",
      "Parsing aemw/amarna/P270963\n"
     ]
    },
    {
     "name": "stderr",
     "output_type": "stream",
     "text": [
      " 55%|█████▌    | 208/378 [00:32<00:11, 15.08it/s]"
     ]
    },
    {
     "name": "stdout",
     "output_type": "stream",
     "text": [
      "aemw/amarna/P270963:EA 205. Ready for marching orders (5) [vassal letter]\n",
      "Saving Output/aemw_amarna_P270963.txt\n",
      "\n",
      "Parsing aemw/amarna/P270992\n",
      "aemw/amarna/P270992:EA 206. Ready for marching orders (6) [vassal letter]\n",
      "Saving Output/aemw_amarna_P270992.txt\n",
      "\n",
      "Parsing aemw/amarna/P271051\n",
      "aemw/amarna/P271051:EA 207. A loyal servant [vassal letter]\n",
      "Saving Output/aemw_amarna_P271051.txt\n",
      "\n",
      "Parsing aemw/amarna/P271140\n",
      "aemw/amarna/P271140:EA 208. Inqiry urged [vassal letter]\n",
      "Saving Output/aemw_amarna_P271140.txt\n",
      "\n",
      "Parsing aemw/amarna/P270872\n",
      "aemw/amarna/P270872:EA 209. Abounding joy [vassal letter]\n"
     ]
    },
    {
     "name": "stderr",
     "output_type": "stream",
     "text": [
      "\r",
      " 56%|█████▌    | 211/378 [00:32<00:10, 15.24it/s]"
     ]
    },
    {
     "name": "stdout",
     "output_type": "stream",
     "text": [
      "Saving Output/aemw_amarna_P270872.txt\n",
      "\n",
      "Parsing aemw/amarna/P271170\n",
      "aemw/amarna/P271170:EA 210. Message lost [vassal letter]\n",
      "Saving Output/aemw_amarna_P271170.txt\n",
      "\n",
      "Parsing aemw/amarna/P271094\n",
      "aemw/amarna/P271094:EA 211. Inescapable orders [vassal letter]\n",
      "Saving Output/aemw_amarna_P271094.txt\n",
      "\n",
      "Parsing aemw/amarna/P271045\n",
      "aemw/amarna/P271045:EA 212. Perfect obedience [vassal letter]\n",
      "Saving Output/aemw_amarna_P271045.txt\n",
      "\n",
      "Parsing aemw/amarna/P270961\n"
     ]
    },
    {
     "name": "stderr",
     "output_type": "stream",
     "text": [
      " 57%|█████▋    | 216/378 [00:33<00:09, 16.42it/s]"
     ]
    },
    {
     "name": "stdout",
     "output_type": "stream",
     "text": [
      "aemw/amarna/P270961:EA 213. Preparations under way [vassal letter]\n",
      "Saving Output/aemw_amarna_P270961.txt\n",
      "\n",
      "Parsing aemw/amarna/P271063\n",
      "aemw/amarna/P271063:EA 214. Message lost [vassal letter]\n",
      "Saving Output/aemw_amarna_P271063.txt\n",
      "\n",
      "Parsing aemw/amarna/P270945\n",
      "aemw/amarna/P270945:EA 215. A warning [vassal letter]\n",
      "Saving Output/aemw_amarna_P270945.txt\n",
      "\n",
      "Parsing aemw/amarna/P271012\n",
      "aemw/amarna/P271012:EA 216. Obedience to the commissioner [vassal letter]\n",
      "Saving Output/aemw_amarna_P271012.txt\n",
      "\n"
     ]
    },
    {
     "name": "stderr",
     "output_type": "stream",
     "text": [
      "\r",
      " 58%|█████▊    | 218/378 [00:33<00:10, 15.72it/s]"
     ]
    },
    {
     "name": "stdout",
     "output_type": "stream",
     "text": [
      "Parsing aemw/amarna/P271060\n",
      "aemw/amarna/P271060:EA 217. About Maya [vassal letter]\n",
      "Saving Output/aemw_amarna_P271060.txt\n",
      "\n",
      "Parsing aemw/amarna/P271137\n",
      "aemw/amarna/P271137:EA 218. Preparations and obedience [vassal letter]\n",
      "Saving Output/aemw_amarna_P271137.txt\n",
      "\n",
      "Parsing aemw/amarna/P271156\n",
      "aemw/amarna/P271156:EA 219. Message lost [vassal letter]\n"
     ]
    },
    {
     "name": "stderr",
     "output_type": "stream",
     "text": [
      "\r",
      " 58%|█████▊    | 220/378 [00:33<00:13, 11.98it/s]"
     ]
    },
    {
     "name": "stdout",
     "output_type": "stream",
     "text": [
      "Saving Output/aemw_amarna_P271156.txt\n",
      "\n",
      "Parsing aemw/amarna/P271013\n",
      "aemw/amarna/P271013:EA 220. Awaiting the commissioner [vassal letter]\n",
      "Saving Output/aemw_amarna_P271013.txt\n",
      "\n",
      "Parsing aemw/amarna/P271203\n",
      "aemw/amarna/P271203:EA 221. Message received [vassal letter]\n"
     ]
    },
    {
     "name": "stderr",
     "output_type": "stream",
     "text": [
      "\r",
      " 59%|█████▊    | 222/378 [00:33<00:14, 10.80it/s]"
     ]
    },
    {
     "name": "stdout",
     "output_type": "stream",
     "text": [
      "Saving Output/aemw_amarna_P271203.txt\n",
      "\n",
      "Parsing aemw/amarna/P271125\n",
      "aemw/amarna/P271125:EA 222. Giving all [vassal letter]\n",
      "Saving Output/aemw_amarna_P271125.txt\n",
      "\n",
      "Parsing aemw/amarna/P271165\n",
      "aemw/amarna/P271165:EA 223. Compliance with orders [vassal letter]\n",
      "Saving Output/aemw_amarna_P271165.txt\n",
      "\n",
      "Parsing aemw/amarna/P270951\n",
      "aemw/amarna/P270951:EA 224. From ancestral days [vassal letter]\n",
      "Saving Output/aemw_amarna_P270951.txt\n",
      "\n"
     ]
    },
    {
     "name": "stderr",
     "output_type": "stream",
     "text": [
      " 60%|█████▉    | 226/378 [00:33<00:11, 12.92it/s]"
     ]
    },
    {
     "name": "stdout",
     "output_type": "stream",
     "text": [
      "Parsing aemw/amarna/P271014\n",
      "aemw/amarna/P271014:EA 225. Perfect obedience [vassal letter]\n",
      "Saving Output/aemw_amarna_P271014.txt\n",
      "\n",
      "Parsing aemw/amarna/P271066\n",
      "aemw/amarna/P271066:EA 226. Cultivating and plucking [vassal letter]\n",
      "Saving Output/aemw_amarna_P271066.txt\n",
      "\n",
      "Parsing aemw/amarna/P270932\n",
      "aemw/amarna/P270932:EA 227. The happy king of Hazor [vassal letter]\n",
      "Saving Output/aemw_amarna_P270932.txt\n",
      "\n"
     ]
    },
    {
     "name": "stderr",
     "output_type": "stream",
     "text": [
      " 61%|██████    | 230/378 [00:34<00:10, 13.53it/s]"
     ]
    },
    {
     "name": "stdout",
     "output_type": "stream",
     "text": [
      "Parsing aemw/amarna/P270933\n",
      "aemw/amarna/P270933:EA 228. An invitation to recall the past [vassal letter]\n",
      "Saving Output/aemw_amarna_P270933.txt\n",
      "\n",
      "Parsing aemw/amarna/P271131\n",
      "aemw/amarna/P271131:EA 229. Message lost [vassal letter]\n",
      "Saving Output/aemw_amarna_P271131.txt\n",
      "\n",
      "Parsing aemw/amarna/P270968\n",
      "aemw/amarna/P270968:EA 230. An unusual message [vassal letter]\n",
      "Saving Output/aemw_amarna_P270968.txt\n",
      "\n",
      "Parsing aemw/amarna/P271056\n"
     ]
    },
    {
     "name": "stderr",
     "output_type": "stream",
     "text": [
      "\r",
      " 61%|██████▏   | 232/378 [00:34<00:10, 13.65it/s]"
     ]
    },
    {
     "name": "stdout",
     "output_type": "stream",
     "text": [
      "aemw/amarna/P271056:EA 231. Following orders [vassal letter]\n",
      "Saving Output/aemw_amarna_P271056.txt\n",
      "\n",
      "Parsing aemw/amarna/P271086\n",
      "aemw/amarna/P271086:EA 232. Who would not obey? [vassal letter]\n",
      "Saving Output/aemw_amarna_P271086.txt\n",
      "\n",
      "Parsing aemw/amarna/P270996\n",
      "aemw/amarna/P270996:EA 233. Work in progress [vassal letter]\n",
      "Saving Output/aemw_amarna_P270996.txt\n",
      "\n",
      "Parsing aemw/amarna/P271087\n"
     ]
    },
    {
     "name": "stderr",
     "output_type": "stream",
     "text": [
      " 62%|██████▏   | 236/378 [00:34<00:10, 13.62it/s]"
     ]
    },
    {
     "name": "stdout",
     "output_type": "stream",
     "text": [
      "aemw/amarna/P271087:EA 234. Like Magdalu in Egypt [vassal letter]\n",
      "Saving Output/aemw_amarna_P271087.txt\n",
      "\n",
      "Parsing aemw/amarna/P270917\n",
      "aemw/amarna/P270917:EA 235 (+) EA 327. An order for glass [vassal letter]\n",
      "Saving Output/aemw_amarna_P270917.txt\n",
      "\n",
      "Parsing aemw/amarna/P270881\n",
      "aemw/amarna/P270881:EA 236. Message lost [vassal letter]\n",
      "Saving Output/aemw_amarna_P270881.txt\n",
      "\n",
      "Parsing aemw/amarna/P271141\n",
      "aemw/amarna/P271141:EA 237. Under fire [vassal letter]\n"
     ]
    },
    {
     "name": "stderr",
     "output_type": "stream",
     "text": [
      "\r",
      " 63%|██████▎   | 238/378 [00:34<00:11, 11.67it/s]"
     ]
    },
    {
     "name": "stdout",
     "output_type": "stream",
     "text": [
      "Saving Output/aemw_amarna_P271141.txt\n",
      "\n",
      "Parsing aemw/amarna/P271163\n",
      "aemw/amarna/P271163:EA 238. Absolute power [vassal letter]\n",
      "Saving Output/aemw_amarna_P271163.txt\n",
      "\n",
      "Parsing aemw/amarna/P271196\n",
      "aemw/amarna/P271196:EA 239. Evil talk [vassal letter]\n",
      "Saving Output/aemw_amarna_P271196.txt\n",
      "\n"
     ]
    },
    {
     "name": "stderr",
     "output_type": "stream",
     "text": [
      " 64%|██████▍   | 243/378 [00:35<00:09, 14.18it/s]"
     ]
    },
    {
     "name": "stdout",
     "output_type": "stream",
     "text": [
      "Parsing aemw/amarna/P271180\n",
      "aemw/amarna/P271180:EA 240. Message lost [vassal letter]\n",
      "Saving Output/aemw_amarna_P271180.txt\n",
      "\n",
      "Parsing aemw/amarna/P271121\n",
      "aemw/amarna/P271121:EA 241. A servant from ancient times [vassal letter]\n",
      "Saving Output/aemw_amarna_P271121.txt\n",
      "\n",
      "Parsing aemw/amarna/P271113\n",
      "aemw/amarna/P271113:EA 242. Request granted [vassal letter]\n",
      "Saving Output/aemw_amarna_P271113.txt\n",
      "\n",
      "Parsing aemw/amarna/P271112\n",
      "aemw/amarna/P271112:EA 243. Around-the-clock defense [vassal letter]\n",
      "Saving Output/aemw_amarna_P271112.txt\n",
      "\n",
      "Parsing aemw/amarna/P270997\n",
      "aemw/amarna/P270997:EA 244. Besieged by Labʾayu [vassal letter]\n",
      "Saving Output/aemw_amarna_P270997.txt\n",
      "\n",
      "Parsing aemw/amarna/P270957\n",
      "aemw/amarna/P270957:EA 245. Assignment of guilt [vassal letter]\n"
     ]
    },
    {
     "name": "stderr",
     "output_type": "stream",
     "text": [
      " 65%|██████▌   | 247/378 [00:35<00:09, 13.13it/s]"
     ]
    },
    {
     "name": "stdout",
     "output_type": "stream",
     "text": [
      "Saving Output/aemw_amarna_P270957.txt\n",
      "\n",
      "Parsing aemw/amarna/P271095\n",
      "aemw/amarna/P271095:EA 246. The sons of Labʾayu [vassal letter]\n",
      "Saving Output/aemw_amarna_P271095.txt\n",
      "\n",
      "Parsing aemw/amarna/P271017\n",
      "aemw/amarna/P271017:EA 247. Who am I? [vassal letter]\n",
      "Saving Output/aemw_amarna_P271017.txt\n",
      "\n",
      "Parsing aemw/amarna/P270944\n",
      "aemw/amarna/P270944:EA 248. An exiled ruler [vassal letter]\n",
      "Saving Output/aemw_amarna_P270944.txt\n",
      "\n",
      "Parsing aemw/amarna/P271059\n"
     ]
    },
    {
     "name": "stderr",
     "output_type": "stream",
     "text": [
      "\r",
      " 66%|██████▌   | 249/378 [00:35<00:09, 13.24it/s]"
     ]
    },
    {
     "name": "stdout",
     "output_type": "stream",
     "text": [
      "aemw/amarna/P271059:EA 249. A desperate vassal [vassal letter]\n",
      "Saving Output/aemw_amarna_P271059.txt\n",
      "\n",
      "Parsing aemw/amarna/P270998\n",
      "aemw/amarna/P270998:EA 250. A calling to account [vassal letter]\n"
     ]
    },
    {
     "name": "stderr",
     "output_type": "stream",
     "text": [
      "\r",
      " 66%|██████▋   | 251/378 [00:35<00:11, 10.94it/s]"
     ]
    },
    {
     "name": "stdout",
     "output_type": "stream",
     "text": [
      "Saving Output/aemw_amarna_P270998.txt\n",
      "\n",
      "Parsing aemw/amarna/P270964\n",
      "aemw/amarna/P270964:EA 251. A reckoning requested [vassal letter]\n",
      "Saving Output/aemw_amarna_P270964.txt\n",
      "\n",
      "Parsing aemw/amarna/P270946\n",
      "aemw/amarna/P270946:EA 252. Sparing one’s enemies [vassal letter]\n"
     ]
    },
    {
     "name": "stderr",
     "output_type": "stream",
     "text": [
      "\r",
      " 67%|██████▋   | 253/378 [00:36<00:13,  9.30it/s]"
     ]
    },
    {
     "name": "stdout",
     "output_type": "stream",
     "text": [
      "Saving Output/aemw_amarna_P270946.txt\n",
      "\n",
      "Parsing aemw/amarna/P271047\n",
      "aemw/amarna/P271047:EA 253. Neither rebel nor delinquent (1) [vassal letter]\n",
      "Saving Output/aemw_amarna_P271047.txt\n",
      "\n",
      "Parsing aemw/amarna/P271197\n"
     ]
    },
    {
     "name": "stderr",
     "output_type": "stream",
     "text": [
      "\r",
      " 67%|██████▋   | 255/378 [00:36<00:13,  9.37it/s]"
     ]
    },
    {
     "name": "stdout",
     "output_type": "stream",
     "text": [
      "aemw/amarna/P271197:EA 254. Neither rebel nor delinquent (2) [vassal letter]\n",
      "Saving Output/aemw_amarna_P271197.txt\n",
      "\n",
      "Parsing aemw/amarna/P271195\n",
      "aemw/amarna/P271195:EA 255. No destination too far [vassal letter]\n",
      "Saving Output/aemw_amarna_P271195.txt\n",
      "\n",
      "Parsing aemw/amarna/P270949\n",
      "aemw/amarna/P270949:EA 256. Oaths and denials [vassal letter]\n",
      "Saving Output/aemw_amarna_P270949.txt\n",
      "\n"
     ]
    },
    {
     "name": "stderr",
     "output_type": "stream",
     "text": [
      " 69%|██████▉   | 260/378 [00:36<00:09, 12.09it/s]"
     ]
    },
    {
     "name": "stdout",
     "output_type": "stream",
     "text": [
      "Parsing aemw/amarna/P271151\n",
      "aemw/amarna/P271151:EA 257. Under the yoke [vassal letter]\n",
      "Saving Output/aemw_amarna_P271151.txt\n",
      "\n",
      "Parsing aemw/amarna/P271191\n",
      "aemw/amarna/P271191:EA 258. Complete approval [vassal letter]\n",
      "Saving Output/aemw_amarna_P271191.txt\n",
      "\n",
      "Parsing aemw/amarna/P271041\n",
      "aemw/amarna/P271041:EA 259. All the news [vassal letter]\n",
      "Saving Output/aemw_amarna_P271041.txt\n",
      "\n",
      "Parsing aemw/amarna/P271027\n",
      "aemw/amarna/P271027:EA 260. A plea for royal concern [vassal letter]\n",
      "Saving Output/aemw_amarna_P271027.txt\n",
      "\n"
     ]
    },
    {
     "name": "stderr",
     "output_type": "stream",
     "text": [
      "\r",
      " 69%|██████▉   | 262/378 [00:36<00:08, 13.68it/s]"
     ]
    },
    {
     "name": "stdout",
     "output_type": "stream",
     "text": [
      "Parsing aemw/amarna/P270960\n",
      "aemw/amarna/P270960:EA 261. Total obedience [vassal letter]\n",
      "Saving Output/aemw_amarna_P270960.txt\n",
      "\n",
      "Parsing aemw/amarna/P271010\n",
      "aemw/amarna/P271010:EA 262. Total approval [vassal letter]\n",
      "Saving Output/aemw_amarna_P271010.txt\n",
      "\n",
      "Parsing aemw/amarna/P271130\n",
      "aemw/amarna/P271130:EA 263. Robbed of everything [vassal letter]\n",
      "Saving Output/aemw_amarna_P271130.txt\n",
      "\n",
      "Parsing aemw/amarna/P270955\n"
     ]
    },
    {
     "name": "stderr",
     "output_type": "stream",
     "text": [
      " 70%|███████   | 266/378 [00:37<00:08, 12.85it/s]"
     ]
    },
    {
     "name": "stdout",
     "output_type": "stream",
     "text": [
      "aemw/amarna/P270955:EA 264. The ubiquitous king [vassal letter]\n",
      "Saving Output/aemw_amarna_P270955.txt\n",
      "\n",
      "Parsing aemw/amarna/P271138\n",
      "aemw/amarna/P271138:EA 265. A gift acknowledged [vassal letter]\n",
      "Saving Output/aemw_amarna_P271138.txt\n",
      "\n",
      "Parsing aemw/amarna/P271048\n",
      "aemw/amarna/P271048:EA 266. And there was light [vassal letter]\n",
      "Saving Output/aemw_amarna_P271048.txt\n",
      "\n",
      "Parsing aemw/amarna/P270999\n"
     ]
    },
    {
     "name": "stderr",
     "output_type": "stream",
     "text": [
      "\r",
      " 71%|███████   | 268/378 [00:37<00:09, 11.73it/s]"
     ]
    },
    {
     "name": "stdout",
     "output_type": "stream",
     "text": [
      "aemw/amarna/P270999:EA 267. Safe and sound [vassal letter]\n",
      "Saving Output/aemw_amarna_P270999.txt\n",
      "\n",
      "Parsing aemw/amarna/P270838\n",
      "aemw/amarna/P270838:EA 268. A consignment of personnel [vassal letter]\n",
      "Saving Output/aemw_amarna_P270838.txt\n",
      "\n",
      "Parsing aemw/amarna/P270948\n",
      "aemw/amarna/P270948:EA 269. Archers and myrrh [vassal letter]\n"
     ]
    },
    {
     "name": "stderr",
     "output_type": "stream",
     "text": [
      "\r",
      " 71%|███████▏  | 270/378 [00:37<00:09, 11.77it/s]"
     ]
    },
    {
     "name": "stdout",
     "output_type": "stream",
     "text": [
      "Saving Output/aemw_amarna_P270948.txt\n",
      "\n",
      "Parsing aemw/amarna/P270947\n",
      "aemw/amarna/P270947:EA 270. Extortion [vassal letter]\n",
      "Saving Output/aemw_amarna_P270947.txt\n",
      "\n",
      "Parsing aemw/amarna/P271040\n",
      "aemw/amarna/P271040:EA 271. The power of the ʿApiru [vassal letter]\n",
      "Saving Output/aemw_amarna_P271040.txt\n",
      "\n",
      "Parsing aemw/amarna/P270965\n"
     ]
    },
    {
     "name": "stderr",
     "output_type": "stream",
     "text": [
      " 72%|███████▏  | 274/378 [00:37<00:08, 11.77it/s]"
     ]
    },
    {
     "name": "stdout",
     "output_type": "stream",
     "text": [
      "aemw/amarna/P270965:EA 272. ʿApiru activity [vassal letter]\n",
      "Saving Output/aemw_amarna_P270965.txt\n",
      "\n",
      "Parsing aemw/amarna/P271128\n",
      "aemw/amarna/P271128:EA 273. From a queen mother [vassal letter]\n",
      "Saving Output/aemw_amarna_P271128.txt\n",
      "\n",
      "Parsing aemw/amarna/P271001\n",
      "aemw/amarna/P271001:EA 274. Another city lost [vassal letter]\n",
      "Saving Output/aemw_amarna_P271001.txt\n",
      "\n",
      "Parsing aemw/amarna/P271124\n"
     ]
    },
    {
     "name": "stderr",
     "output_type": "stream",
     "text": [
      "\r",
      " 73%|███████▎  | 277/378 [00:38<00:07, 13.37it/s]"
     ]
    },
    {
     "name": "stdout",
     "output_type": "stream",
     "text": [
      "aemw/amarna/P271124:EA 275. As ordered (1) [vassal letter]\n",
      "Saving Output/aemw_amarna_P271124.txt\n",
      "\n",
      "Parsing aemw/amarna/P271145\n",
      "aemw/amarna/P271145:EA 276. As ordered (2) [vassal letter]\n",
      "Saving Output/aemw_amarna_P271145.txt\n",
      "\n",
      "Parsing aemw/amarna/P270966\n",
      "aemw/amarna/P270966:EA 277. As ordered (3) [vassal letter]\n",
      "Saving Output/aemw_amarna_P270966.txt\n",
      "\n",
      "Parsing aemw/amarna/P270954\n",
      "aemw/amarna/P270954:EA 278. As ordered (4) [vassal letter]\n",
      "Saving Output/aemw_amarna_P270954.txt\n",
      "\n",
      "Parsing aemw/amarna/P271093\n"
     ]
    },
    {
     "name": "stderr",
     "output_type": "stream",
     "text": [
      "\r",
      " 74%|███████▍  | 279/378 [00:38<00:07, 13.69it/s]"
     ]
    },
    {
     "name": "stdout",
     "output_type": "stream",
     "text": [
      "aemw/amarna/P271093:EA 279. A wasteland [vassal letter]\n",
      "Saving Output/aemw_amarna_P271093.txt\n",
      "\n",
      "Parsing aemw/amarna/P271000\n",
      "aemw/amarna/P271000:EA 280. Labʾayu redivivus [vassal letter]\n",
      "Saving Output/aemw_amarna_P271000.txt\n",
      "\n",
      "Parsing aemw/amarna/P271162\n",
      "aemw/amarna/P271162:EA 281. Rebellion [vassal letter]\n"
     ]
    },
    {
     "name": "stderr",
     "output_type": "stream",
     "text": [
      " 75%|███████▍  | 283/378 [00:38<00:08, 11.66it/s]"
     ]
    },
    {
     "name": "stdout",
     "output_type": "stream",
     "text": [
      "Saving Output/aemw_amarna_P271162.txt\n",
      "\n",
      "Parsing aemw/amarna/P270953\n",
      "aemw/amarna/P270953:EA 282. Alone [vassal letter]\n",
      "Saving Output/aemw_amarna_P270953.txt\n",
      "\n",
      "Parsing aemw/amarna/P271201\n",
      "aemw/amarna/P271201:EA 283. Oh to see the king [vassal letter]\n",
      "Saving Output/aemw_amarna_P271201.txt\n",
      "\n",
      "Parsing aemw/amarna/P270952\n"
     ]
    },
    {
     "name": "stderr",
     "output_type": "stream",
     "text": [
      "\r",
      " 75%|███████▌  | 285/378 [00:38<00:09,  9.37it/s]"
     ]
    },
    {
     "name": "stdout",
     "output_type": "stream",
     "text": [
      "aemw/amarna/P270952:EA 284. The powerful hand of the king [vassal letter]\n",
      "Saving Output/aemw_amarna_P270952.txt\n",
      "\n",
      "Parsing aemw/amarna/P271057\n",
      "aemw/amarna/P271057:EA 285. The soldier-ruler of Jerusalem [vassal letter]\n",
      "Saving Output/aemw_amarna_P271057.txt\n",
      "\n",
      "Parsing aemw/amarna/P271088\n",
      "aemw/amarna/P271088:EA 286. A throne granted not inherited [vassal letter]\n",
      "Saving Output/aemw_amarna_P271088.txt\n",
      "\n",
      "Parsing aemw/amarna/P271090\n"
     ]
    },
    {
     "name": "stderr",
     "output_type": "stream",
     "text": [
      "\r",
      " 76%|███████▌  | 287/378 [00:39<00:15,  5.86it/s]"
     ]
    },
    {
     "name": "stdout",
     "output_type": "stream",
     "text": [
      "aemw/amarna/P271090:EA 287. A very serious crime [vassal letter]\n",
      "Saving Output/aemw_amarna_P271090.txt\n",
      "\n",
      "Parsing aemw/amarna/P271089\n"
     ]
    },
    {
     "name": "stderr",
     "output_type": "stream",
     "text": [
      "\r",
      " 76%|███████▌  | 288/378 [00:39<00:16,  5.31it/s]"
     ]
    },
    {
     "name": "stdout",
     "output_type": "stream",
     "text": [
      "aemw/amarna/P271089:EA 288. Benign neglect [vassal letter]\n",
      "Saving Output/aemw_amarna_P271089.txt\n",
      "\n",
      "Parsing aemw/amarna/P271091\n"
     ]
    },
    {
     "name": "stderr",
     "output_type": "stream",
     "text": [
      "\r",
      " 76%|███████▋  | 289/378 [00:40<00:20,  4.44it/s]"
     ]
    },
    {
     "name": "stdout",
     "output_type": "stream",
     "text": [
      "aemw/amarna/P271091:EA 289. A reckoning damned [vassal letter]\n",
      "Saving Output/aemw_amarna_P271091.txt\n",
      "\n",
      "Parsing aemw/amarna/P271092\n",
      "aemw/amarna/P271092:EA 290. Three against one [vassal letter]\n"
     ]
    },
    {
     "name": "stderr",
     "output_type": "stream",
     "text": [
      "\r",
      " 77%|███████▋  | 290/378 [00:40<00:17,  4.96it/s]"
     ]
    },
    {
     "name": "stdout",
     "output_type": "stream",
     "text": [
      "Saving Output/aemw_amarna_P271092.txt\n",
      "\n",
      "Parsing aemw/amarna/P271149\n",
      "aemw/amarna/P271149:EA 291. Message lost [vassal letter]\n",
      "Saving Output/aemw_amarna_P271149.txt\n",
      "\n",
      "Parsing aemw/amarna/P270969\n",
      "aemw/amarna/P270969:EA 292. Like a pot held in pledge [vassal letter]\n"
     ]
    },
    {
     "name": "stderr",
     "output_type": "stream",
     "text": [
      " 78%|███████▊  | 294/378 [00:40<00:13,  6.44it/s]"
     ]
    },
    {
     "name": "stdout",
     "output_type": "stream",
     "text": [
      "Saving Output/aemw_amarna_P270969.txt\n",
      "\n",
      "Parsing aemw/amarna/P271002\n",
      "aemw/amarna/P271002:EA 293. Always on the watch [vassal letter]\n",
      "Saving Output/aemw_amarna_P271002.txt\n",
      "\n",
      "Parsing aemw/amarna/P270956\n",
      "aemw/amarna/P270956:EA 294. Unquestioning obedience [vassal letter]\n",
      "Saving Output/aemw_amarna_P270956.txt\n",
      "\n"
     ]
    },
    {
     "name": "stderr",
     "output_type": "stream",
     "text": [
      "\r",
      " 78%|███████▊  | 295/378 [00:40<00:12,  6.71it/s]"
     ]
    },
    {
     "name": "stdout",
     "output_type": "stream",
     "text": [
      "Parsing aemw/amarna/P271096\n",
      "aemw/amarna/P271096:EA 295. A servant from head to toe [vassal letter]\n",
      "Saving Output/aemw_amarna_P271096.txt\n",
      "\n",
      "Parsing aemw/amarna/P270942\n"
     ]
    },
    {
     "name": "stderr",
     "output_type": "stream",
     "text": [
      "\r",
      " 78%|███████▊  | 296/378 [00:40<00:12,  6.58it/s]"
     ]
    },
    {
     "name": "stdout",
     "output_type": "stream",
     "text": [
      "aemw/amarna/P270942:EA 296. Under the yoke [vassal letter]\n",
      "Saving Output/aemw_amarna_P270942.txt\n",
      "\n",
      "Parsing aemw/amarna/P270936\n",
      "aemw/amarna/P270936:EA 297. The sweet breath of the king [vassal letter]\n",
      "Saving Output/aemw_amarna_P270936.txt\n",
      "\n",
      "Parsing aemw/amarna/P270935\n"
     ]
    },
    {
     "name": "stderr",
     "output_type": "stream",
     "text": [
      "\r",
      " 79%|███████▉  | 298/378 [00:41<00:12,  6.47it/s]"
     ]
    },
    {
     "name": "stdout",
     "output_type": "stream",
     "text": [
      "aemw/amarna/P270935:EA 298. A perfidious younger brother [vassal letter]\n",
      "Saving Output/aemw_amarna_P270935.txt\n",
      "\n",
      "Parsing aemw/amarna/P270934\n",
      "aemw/amarna/P270934:EA 299. A plea for help [vassal letter]\n",
      "Saving Output/aemw_amarna_P270934.txt\n",
      "\n",
      "Parsing aemw/amarna/P271062\n",
      "aemw/amarna/P271062:EA 300. A servant like his father [vassal letter]\n"
     ]
    },
    {
     "name": "stderr",
     "output_type": "stream",
     "text": [
      " 80%|███████▉  | 302/378 [00:41<00:08,  8.53it/s]"
     ]
    },
    {
     "name": "stdout",
     "output_type": "stream",
     "text": [
      "Saving Output/aemw_amarna_P271062.txt\n",
      "\n",
      "Parsing aemw/amarna/P271008\n",
      "aemw/amarna/P271008:EA 301. 500 oxen and 20 girls [vassal letter]\n",
      "Saving Output/aemw_amarna_P271008.txt\n",
      "\n",
      "Parsing aemw/amarna/P271194\n",
      "aemw/amarna/P271194:EA 302. Preparations as ordered [vassal letter]\n",
      "Saving Output/aemw_amarna_P271194.txt\n",
      "\n",
      "Parsing aemw/amarna/P270923\n",
      "aemw/amarna/P270923:EA 303. Careful listening [vassal letter]\n",
      "Saving Output/aemw_amarna_P270923.txt\n",
      "\n",
      "Parsing aemw/amarna/P270924\n"
     ]
    },
    {
     "name": "stderr",
     "output_type": "stream",
     "text": [
      " 81%|████████  | 306/378 [00:41<00:06, 10.62it/s]"
     ]
    },
    {
     "name": "stdout",
     "output_type": "stream",
     "text": [
      "aemw/amarna/P270924:EA 304. Guarding the place of the king [vassal letter]\n",
      "Saving Output/aemw_amarna_P270924.txt\n",
      "\n",
      "Parsing aemw/amarna/P271007\n",
      "aemw/amarna/P271007:EA 305. The power of the ʿApiru [vassal letter]\n",
      "Saving Output/aemw_amarna_P271007.txt\n",
      "\n",
      "Parsing aemw/amarna/P270925\n",
      "aemw/amarna/P270925:EA 306. Vicarious homage [vassal letter]\n",
      "Saving Output/aemw_amarna_P270925.txt\n",
      "\n",
      "Parsing aemw/amarna/P271042\n",
      "aemw/amarna/P271042:EA 307. The power of the ʿApiru [vassal letter]\n",
      "Saving Output/aemw_amarna_P271042.txt\n",
      "\n"
     ]
    },
    {
     "name": "stderr",
     "output_type": "stream",
     "text": [
      "\r",
      " 82%|████████▏ | 309/378 [00:42<00:05, 12.40it/s]"
     ]
    },
    {
     "name": "stdout",
     "output_type": "stream",
     "text": [
      "Parsing aemw/amarna/P271058\n",
      "aemw/amarna/P271058:EA 308. A request for horses [vassal letter]\n",
      "Saving Output/aemw_amarna_P271058.txt\n",
      "\n",
      "Parsing aemw/amarna/P271168\n",
      "aemw/amarna/P271168:EA 309. Servants and shekels [vassal letter]\n",
      "Saving Output/aemw_amarna_P271168.txt\n",
      "\n",
      "Parsing aemw/amarna/P271139\n",
      "aemw/amarna/P271139:EA 310. Message lost [vassal letter]\n",
      "Saving Output/aemw_amarna_P271139.txt\n",
      "\n",
      "Parsing aemw/amarna/P271054\n",
      "aemw/amarna/P271054:EA 311. Following orders [vassal letter]\n",
      "Saving Output/aemw_amarna_P271054.txt\n",
      "\n"
     ]
    },
    {
     "name": "stderr",
     "output_type": "stream",
     "text": [
      " 83%|████████▎ | 314/378 [00:42<00:04, 14.58it/s]"
     ]
    },
    {
     "name": "stdout",
     "output_type": "stream",
     "text": [
      "Parsing aemw/amarna/P271175\n",
      "aemw/amarna/P271175:EA 312. Message lost [vassal letter]\n",
      "Saving Output/aemw_amarna_P271175.txt\n",
      "\n",
      "Parsing aemw/amarna/P271009\n",
      "aemw/amarna/P271009:EA 313. Payment to the commissioner [vassal letter]\n",
      "Saving Output/aemw_amarna_P271009.txt\n",
      "\n",
      "Parsing aemw/amarna/P271019\n",
      "aemw/amarna/P271019:EA 314. A shipment of glass [vassal letter]\n",
      "Saving Output/aemw_amarna_P271019.txt\n",
      "\n",
      "Parsing aemw/amarna/P270941\n"
     ]
    },
    {
     "name": "stderr",
     "output_type": "stream",
     "text": [
      "\r",
      " 84%|████████▎ | 316/378 [00:42<00:04, 13.88it/s]"
     ]
    },
    {
     "name": "stdout",
     "output_type": "stream",
     "text": [
      "aemw/amarna/P270941:EA 315. Like a command of the Sun [vassal letter]\n",
      "Saving Output/aemw_amarna_P270941.txt\n",
      "\n",
      "Parsing aemw/amarna/P270940\n",
      "aemw/amarna/P270940:EA 316. Postscript to the royal scribe [vassal letter]\n",
      "Saving Output/aemw_amarna_P270940.txt\n",
      "\n",
      "Parsing aemw/amarna/P271119\n",
      "aemw/amarna/P271119:EA 317. A family tradition of service [vassal letter]\n",
      "Saving Output/aemw_amarna_P271119.txt\n",
      "\n",
      "Parsing aemw/amarna/P270959\n",
      "aemw/amarna/P270959:EA 318. Save me [vassal letter]\n"
     ]
    },
    {
     "name": "stderr",
     "output_type": "stream",
     "text": [
      "\r",
      " 84%|████████▍ | 318/378 [00:42<00:04, 13.97it/s]"
     ]
    },
    {
     "name": "stdout",
     "output_type": "stream",
     "text": [
      "Saving Output/aemw_amarna_P270959.txt\n",
      "\n",
      "Parsing aemw/amarna/P271157\n",
      "aemw/amarna/P271157:EA 319. An obedient dog [vassal letter]\n",
      "Saving Output/aemw_amarna_P271157.txt\n",
      "\n",
      "Parsing aemw/amarna/P271005\n",
      "aemw/amarna/P271005:EA 320. Listening carefully (1) [vassal letter]\n",
      "Saving Output/aemw_amarna_P271005.txt\n",
      "\n"
     ]
    },
    {
     "name": "stderr",
     "output_type": "stream",
     "text": [
      " 85%|████████▌ | 322/378 [00:42<00:04, 13.17it/s]"
     ]
    },
    {
     "name": "stdout",
     "output_type": "stream",
     "text": [
      "Parsing aemw/amarna/P271114\n",
      "aemw/amarna/P271114:EA 321. Listening carefully (2) [vassal letter]\n",
      "Saving Output/aemw_amarna_P271114.txt\n",
      "\n",
      "Parsing aemw/amarna/P271004\n",
      "aemw/amarna/P271004:EA 322. Listening carefully (3) [vassal letter]\n",
      "Saving Output/aemw_amarna_P271004.txt\n",
      "\n",
      "Parsing aemw/amarna/P270938\n",
      "aemw/amarna/P270938:EA 323. A royal order for glass [vassal letter]\n",
      "Saving Output/aemw_amarna_P270938.txt\n",
      "\n",
      "Parsing aemw/amarna/P270939\n"
     ]
    },
    {
     "name": "stderr",
     "output_type": "stream",
     "text": [
      " 86%|████████▌ | 326/378 [00:43<00:04, 12.85it/s]"
     ]
    },
    {
     "name": "stdout",
     "output_type": "stream",
     "text": [
      "aemw/amarna/P270939:EA 324. Preparations completed (1) [vassal letter]\n",
      "Saving Output/aemw_amarna_P270939.txt\n",
      "\n",
      "Parsing aemw/amarna/P270937\n",
      "aemw/amarna/P270937:EA 325. Preparations completed (2) [vassal letter]\n",
      "Saving Output/aemw_amarna_P270937.txt\n",
      "\n",
      "Parsing aemw/amarna/P271115\n",
      "aemw/amarna/P271115:EA 326. A new commissioner [vassal letter]\n",
      "Saving Output/aemw_amarna_P271115.txt\n",
      "\n",
      "Parsing aemw/amarna/P271003\n"
     ]
    },
    {
     "name": "stderr",
     "output_type": "stream",
     "text": [
      "\r",
      " 87%|████████▋ | 328/378 [00:43<00:03, 13.44it/s]"
     ]
    },
    {
     "name": "stdout",
     "output_type": "stream",
     "text": [
      "aemw/amarna/P271003:EA 328. Obedience to the commissioner [vassal letter]\n",
      "Saving Output/aemw_amarna_P271003.txt\n",
      "\n",
      "Parsing aemw/amarna/P271116\n",
      "aemw/amarna/P271116:EA 329. Preparations under way [vassal letter]\n",
      "Saving Output/aemw_amarna_P271116.txt\n",
      "\n",
      "Parsing aemw/amarna/P270950\n",
      "aemw/amarna/P270950:EA 330. Dirt at the feet of the king [vassal letter]\n",
      "Saving Output/aemw_amarna_P270950.txt\n",
      "\n",
      "Parsing aemw/amarna/P271006\n",
      "aemw/amarna/P271006:EA 331. Glass for the king [vassal letter]\n",
      "Saving Output/aemw_amarna_P271006.txt\n",
      "\n"
     ]
    },
    {
     "name": "stderr",
     "output_type": "stream",
     "text": [
      " 88%|████████▊ | 332/378 [00:43<00:03, 14.30it/s]"
     ]
    },
    {
     "name": "stdout",
     "output_type": "stream",
     "text": [
      "Parsing aemw/amarna/P271172\n",
      "aemw/amarna/P271172:EA 332. Message lost [vassal letter]\n",
      "Saving Output/aemw_amarna_P271172.txt\n",
      "\n",
      "Parsing aemw/amarna/P271023\n",
      "aemw/amarna/P271023:EA 333. Plots and disloyalty [vassal letter]\n",
      "Saving Output/aemw_amarna_P271023.txt\n",
      "\n",
      "Parsing aemw/amarna/P271065\n",
      "aemw/amarna/P271065:EA 334. Message lost [vassal letter]\n",
      "Saving Output/aemw_amarna_P271065.txt\n",
      "\n",
      "Parsing aemw/amarna/P271068\n"
     ]
    },
    {
     "name": "stderr",
     "output_type": "stream",
     "text": [
      " 89%|████████▉ | 336/378 [00:43<00:02, 16.03it/s]"
     ]
    },
    {
     "name": "stdout",
     "output_type": "stream",
     "text": [
      "aemw/amarna/P271068:EA 335. All alone [vassal letter]\n",
      "Saving Output/aemw_amarna_P271068.txt\n",
      "\n",
      "Parsing aemw/amarna/P271146\n",
      "aemw/amarna/P271146:EA 336. Message lost [vassal letter]\n",
      "Saving Output/aemw_amarna_P271146.txt\n",
      "\n",
      "Parsing aemw/amarna/P271122\n",
      "aemw/amarna/P271122:EA 337. Abundant supplies ready [vassal letter]\n",
      "Saving Output/aemw_amarna_P271122.txt\n",
      "\n",
      "Parsing aemw/amarna/P271173\n",
      "aemw/amarna/P271173:EA 338. Message lost [vassal letter]\n",
      "Saving Output/aemw_amarna_P271173.txt\n",
      "\n",
      "Parsing aemw/amarna/P271177\n",
      "aemw/amarna/P271177:EA 339. Message lost [vassal letter]\n",
      "Saving Output/aemw_amarna_P271177.txt\n",
      "\n"
     ]
    },
    {
     "name": "stderr",
     "output_type": "stream",
     "text": [
      " 91%|█████████ | 343/378 [00:44<00:01, 21.83it/s]"
     ]
    },
    {
     "name": "stdout",
     "output_type": "stream",
     "text": [
      "Parsing aemw/amarna/P270839\n",
      "aemw/amarna/P270839:EA 340. A historical tale or a letter fragment [unclear]\n",
      "Saving Output/aemw_amarna_P270839.txt\n",
      "\n",
      "Parsing aemw/amarna/P270840\n",
      "aemw/amarna/P270840:EA 341. The story of Kešši [Kešši]\n",
      "Saving Output/aemw_amarna_P270840.txt\n",
      "\n",
      "Parsing aemw/amarna/P270841\n",
      "aemw/amarna/P270841:EA 342. An exercise in letter-writing? [letter exercise]\n",
      "Saving Output/aemw_amarna_P270841.txt\n",
      "\n",
      "Parsing aemw/amarna/P270842\n",
      "aemw/amarna/P270842:EA 343. An exercise [unclear]\n",
      "Saving Output/aemw_amarna_P270842.txt\n",
      "\n",
      "Parsing aemw/amarna/P270843\n",
      "aemw/amarna/P270843:EA 344. An exercise [unclear]\n",
      "Saving Output/aemw_amarna_P270843.txt\n",
      "\n",
      "Parsing aemw/amarna/P270844\n",
      "aemw/amarna/P270844:EA 345. An exercise [unclear]\n",
      "Saving Output/aemw_amarna_P270844.txt\n",
      "\n",
      "Parsing aemw/amarna/P270845\n",
      "aemw/amarna/P270845:EA 346. An exercise [unclear]\n",
      "Saving Output/aemw_amarna_P270845.txt\n",
      "\n",
      "Parsing aemw/amarna/P270846\n",
      "aemw/amarna/P270846:EA 347. A lexical list? [lexical]\n",
      "Saving Output/aemw_amarna_P270846.txt\n",
      "\n"
     ]
    },
    {
     "name": "stderr",
     "output_type": "stream",
     "text": [
      " 93%|█████████▎| 350/378 [00:44<00:01, 23.38it/s]"
     ]
    },
    {
     "name": "stdout",
     "output_type": "stream",
     "text": [
      "Parsing aemw/amarna/P270847\n",
      "aemw/amarna/P270847:EA 348. A fragment of an Sa signlist [Syllabary A (Sa)]\n",
      "Saving Output/aemw_amarna_P270847.txt\n",
      "\n",
      "Parsing aemw/amarna/P270848\n",
      "aemw/amarna/P270848:EA 349. A fragment of a syllabary? [unclear]\n",
      "Saving Output/aemw_amarna_P270848.txt\n",
      "\n",
      "Parsing aemw/amarna/P270849\n",
      "aemw/amarna/P270849:EA 350. A fragment of a tu-ta-ti exercise (obverse) and Syllable Alphabet A (reverse) [Syllable Alphabet A (SA)]\n",
      "Saving Output/aemw_amarna_P270849.txt\n",
      "\n",
      "Parsing aemw/amarna/P270850\n",
      "aemw/amarna/P270850:EA 351. A fragment of Diri tablet 2 [Diri 02]\n",
      "Saving Output/aemw_amarna_P270850.txt\n",
      "\n",
      "Parsing aemw/amarna/P270851\n",
      "aemw/amarna/P270851:EA 352 + EA 353. A fragment of Diri tablet 2 [Diri 02]\n",
      "Saving Output/aemw_amarna_P270851.txt\n",
      "\n",
      "Parsing aemw/amarna/P270853\n",
      "aemw/amarna/P270853:EA 354. A fragment of Diri tablet 2 [Diri 02]\n",
      "Saving Output/aemw_amarna_P270853.txt\n",
      "\n",
      "Parsing aemw/amarna/P270854\n",
      "aemw/amarna/P270854:EA 355. A clay cylinder [unclear]\n",
      "Saving Output/aemw_amarna_P270854.txt\n",
      "\n",
      "Parsing aemw/amarna/P270855\n",
      "aemw/amarna/P270855:EA 356. The myth of Adapa and the South Wind [Adapa]\n"
     ]
    },
    {
     "name": "stderr",
     "output_type": "stream",
     "text": [
      "\r",
      " 94%|█████████▎| 354/378 [00:44<00:01, 19.80it/s]"
     ]
    },
    {
     "name": "stdout",
     "output_type": "stream",
     "text": [
      "Saving Output/aemw_amarna_P270855.txt\n",
      "\n",
      "Parsing aemw/amarna/P270856\n",
      "aemw/amarna/P270856:EA 357. The myth of Nergal and Ereškigal [Nergal and Ereškigal]\n",
      "Saving Output/aemw_amarna_P270856.txt\n",
      "\n",
      "Parsing aemw/amarna/P270857\n",
      "aemw/amarna/P270857:EA 358. A narrative of still undetermined genre [unclear]\n",
      "Saving Output/aemw_amarna_P270857.txt\n",
      "\n",
      "Parsing aemw/amarna/P270858\n"
     ]
    },
    {
     "name": "stderr",
     "output_type": "stream",
     "text": [
      "\r",
      " 94%|█████████▍| 357/378 [00:45<00:01, 11.29it/s]"
     ]
    },
    {
     "name": "stdout",
     "output_type": "stream",
     "text": [
      "aemw/amarna/P270858:EA 359. The šar tamhāri epic [King of Battle]\n",
      "Saving Output/aemw_amarna_P270858.txt\n",
      "\n",
      "Parsing aemw/amarna/P270859\n",
      "aemw/amarna/P270859:EA 360. A fragment of undetermined genre [unclear]\n",
      "Saving Output/aemw_amarna_P270859.txt\n",
      "\n",
      "Parsing aemw/amarna/P270873\n"
     ]
    },
    {
     "name": "stderr",
     "output_type": "stream",
     "text": [
      " 96%|█████████▌| 361/378 [00:45<00:01, 11.08it/s]"
     ]
    },
    {
     "name": "stdout",
     "output_type": "stream",
     "text": [
      "aemw/amarna/P270873:EA 362. A commissioner murdered [vassal letter]\n",
      "Saving Output/aemw_amarna_P270873.txt\n",
      "\n",
      "Parsing aemw/amarna/P270876\n",
      "aemw/amarna/P270876:EA 363. A joint report on Amqu (4) [vassal letter]\n",
      "Saving Output/aemw_amarna_P270876.txt\n",
      "\n",
      "Parsing aemw/amarna/P270874\n",
      "aemw/amarna/P270874:EA 364. Justified war [vassal letter]\n",
      "Saving Output/aemw_amarna_P270874.txt\n",
      "\n",
      "Parsing aemw/amarna/P270877\n"
     ]
    },
    {
     "name": "stderr",
     "output_type": "stream",
     "text": [
      "\r",
      " 96%|█████████▌| 363/378 [00:45<00:01, 11.14it/s]"
     ]
    },
    {
     "name": "stdout",
     "output_type": "stream",
     "text": [
      "aemw/amarna/P270877:EA 365. Furnishing corvée workers [vassal letter]\n",
      "Saving Output/aemw_amarna_P270877.txt\n",
      "\n",
      "Parsing aemw/amarna/P270875\n",
      "aemw/amarna/P270875:EA 366. A rescue operation [vassal letter]\n",
      "Saving Output/aemw_amarna_P270875.txt\n",
      "\n",
      "Parsing aemw/amarna/P270861\n",
      "aemw/amarna/P270861:EA 367. From the Pharaoh to a vassal [vassal letter]\n",
      "Saving Output/aemw_amarna_P270861.txt\n",
      "\n"
     ]
    },
    {
     "name": "stderr",
     "output_type": "stream",
     "text": [
      " 97%|█████████▋| 367/378 [00:46<00:00, 12.25it/s]"
     ]
    },
    {
     "name": "stdout",
     "output_type": "stream",
     "text": [
      "Parsing aemw/amarna/P270862\n",
      "aemw/amarna/P270862:EA 368. Egyptian-Akkadian vocabulary [Egyptian-Akkadian vocabulary]\n",
      "Saving Output/aemw_amarna_P270862.txt\n",
      "\n",
      "Parsing aemw/amarna/P271026\n",
      "aemw/amarna/P271026:EA 369. From the Pharaoh to a vassal [vassal letter]\n",
      "Saving Output/aemw_amarna_P271026.txt\n",
      "\n",
      "Parsing aemw/amarna/P270885\n",
      "aemw/amarna/P270885:EA 370. From the Pharaoh to a vassal [vassal letter]\n",
      "Saving Output/aemw_amarna_P270885.txt\n",
      "\n"
     ]
    },
    {
     "name": "stderr",
     "output_type": "stream",
     "text": [
      "\r",
      " 98%|█████████▊| 369/378 [00:46<00:00, 13.35it/s]"
     ]
    },
    {
     "name": "stdout",
     "output_type": "stream",
     "text": [
      "Parsing aemw/amarna/P270884\n",
      "aemw/amarna/P270884:EA 371. Smitten smitten! [vassal letter]\n",
      "Saving Output/aemw_amarna_P270884.txt\n",
      "\n",
      "Parsing aemw/amarna/P270863\n",
      "aemw/amarna/P270863:EA 372. A fragment of a literary text [unclear]\n",
      "Saving Output/aemw_amarna_P270863.txt\n",
      "\n",
      "Parsing aemw/amarna/P270864\n",
      "aemw/amarna/P270864:EA 373. A fragment of Diri tablet 2 [Diri 02]\n",
      "Saving Output/aemw_amarna_P270864.txt\n",
      "\n",
      "Parsing aemw/amarna/P270865\n",
      "aemw/amarna/P270865:EA 374. A list of divine names [god list]\n",
      "Saving Output/aemw_amarna_P270865.txt\n",
      "\n",
      "Parsing aemw/amarna/P270866\n",
      "aemw/amarna/P270866:EA 375. A fragment of the šar tamhāri epic [King of Battle]\n",
      "Saving Output/aemw_amarna_P270866.txt\n",
      "\n"
     ]
    },
    {
     "name": "stderr",
     "output_type": "stream",
     "text": [
      " 99%|█████████▉| 376/378 [00:46<00:00, 17.74it/s]"
     ]
    },
    {
     "name": "stdout",
     "output_type": "stream",
     "text": [
      "Parsing aemw/amarna/P270867\n",
      "aemw/amarna/P270867:EA 376. A fragment of a literary text [unclear]\n",
      "Saving Output/aemw_amarna_P270867.txt\n",
      "\n",
      "Parsing aemw/amarna/P270868\n",
      "aemw/amarna/P270868:EA 377. An exercise [unclear]\n",
      "Saving Output/aemw_amarna_P270868.txt\n",
      "\n",
      "Parsing aemw/amarna/P270971\n",
      "aemw/amarna/P270971:EA 378. All orders obeyed [vassal letter]\n",
      "Saving Output/aemw_amarna_P270971.txt\n",
      "\n",
      "Parsing aemw/amarna/P270869\n",
      "aemw/amarna/P270869:EA 379. A fragment of an Sa signlist [Syllabary A (Sa)]\n",
      "Saving Output/aemw_amarna_P270869.txt\n",
      "\n",
      "Parsing aemw/amarna/P270871\n",
      "aemw/amarna/P270871:EA 381. A letter fragment\n",
      "Saving Output/aemw_amarna_P270871.txt\n",
      "\n",
      "Parsing aemw/amarna/P270972\n"
     ]
    },
    {
     "name": "stderr",
     "output_type": "stream",
     "text": [
      "\r",
      "100%|██████████| 378/378 [00:46<00:00,  8.12it/s]"
     ]
    },
    {
     "name": "stdout",
     "output_type": "stream",
     "text": [
      "aemw/amarna/P270972:EA 382. About greetings [royal letter]\n",
      "Saving Output/aemw_amarna_P270972.txt\n",
      "\n"
     ]
    },
    {
     "name": "stderr",
     "output_type": "stream",
     "text": [
      "\n"
     ]
    }
   ],
   "source": [
    "with open('Input/' + inputfile, mode = 'r') as f:\n",
    "    textlist = f.read().splitlines()\n",
    "for eachtextid in tqdm(textlist):\n",
    "    sleep(0.01)\n",
    "    eachtextid = eachtextid.rstrip()\n",
    "    file = 'HTML/' + eachtextid.replace('/', '_') + '.html'\n",
    "    try:\n",
    "        csvformat = scrape(eachtextid)\n",
    "        outputfile = 'Output/' + eachtextid.replace('/', '_') + '.txt'\n",
    "        print(\"Saving \" + outputfile + '\\n')\n",
    "    \n",
    "        if not os.path.exists('Output'):\n",
    "            os.mkdir('Output')\n",
    "        \n",
    "        with open(outputfile, mode = 'w') as writeFile:\n",
    "            writeFile.write(csvformat)  \n",
    "\n",
    "    except IOError:\n",
    "        print(file + ' not available')\n",
    "        textiderror = textiderror + eachtextid + '\\n'\n",
    "\n",
    "#Create error log\n",
    "if not os.path.exists('Error'):\n",
    "    os.mkdir('Error')\n",
    "with open('Error/oraccerror.txt', mode='w') as writeFile:\n",
    "    writeFile.write(textiderror)"
   ]
  },
  {
   "cell_type": "code",
   "execution_count": null,
   "metadata": {
    "collapsed": true
   },
   "outputs": [],
   "source": []
  }
 ],
 "metadata": {
  "kernelspec": {
   "display_name": "Python 3",
   "language": "python",
   "name": "python3"
  },
  "language_info": {
   "codemirror_mode": {
    "name": "ipython",
    "version": 3
   },
   "file_extension": ".py",
   "mimetype": "text/x-python",
   "name": "python",
   "nbconvert_exporter": "python",
   "pygments_lexer": "ipython3",
   "version": "3.5.1"
  }
 },
 "nbformat": 4,
 "nbformat_minor": 0
}
